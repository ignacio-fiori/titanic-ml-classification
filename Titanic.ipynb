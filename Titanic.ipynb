{
  "nbformat": 4,
  "nbformat_minor": 0,
  "metadata": {
    "colab": {
      "name": "TitanicIgnacioFiori_v2.ipynb",
      "provenance": [],
      "collapsed_sections": []
    },
    "kernelspec": {
      "name": "python3",
      "display_name": "Python 3"
    },
    "language_info": {
      "name": "python"
    },
    "accelerator": "GPU"
  },
  "cells": [
    {
      "cell_type": "code",
      "metadata": {
        "colab": {
          "base_uri": "https://localhost:8080/"
        },
        "id": "j7D_YH9BBPYG",
        "outputId": "7443a5ad-24bc-42fc-8ccb-22895ba863ff"
      },
      "source": [
        "from google.colab import drive\n",
        "drive.mount('/content/drive')"
      ],
      "execution_count": 1,
      "outputs": [
        {
          "output_type": "stream",
          "text": [
            "Drive already mounted at /content/drive; to attempt to forcibly remount, call drive.mount(\"/content/drive\", force_remount=True).\n"
          ],
          "name": "stdout"
        }
      ]
    },
    {
      "cell_type": "code",
      "metadata": {
        "colab": {
          "base_uri": "https://localhost:8080/"
        },
        "id": "9ge8f14PkPGu",
        "outputId": "54eafe65-f4f0-4599-c64d-d81d123b12e7"
      },
      "source": [
        "pip install optuna"
      ],
      "execution_count": 2,
      "outputs": [
        {
          "output_type": "stream",
          "text": [
            "Collecting optuna\n",
            "\u001b[?25l  Downloading https://files.pythonhosted.org/packages/2b/21/d13081805e1e1afc71f5bb743ece324c8bd576237c51b899ecb38a717502/optuna-2.7.0-py3-none-any.whl (293kB)\n",
            "\u001b[K     |████████████████████████████████| 296kB 11.3MB/s \n",
            "\u001b[?25hCollecting alembic\n",
            "\u001b[?25l  Downloading https://files.pythonhosted.org/packages/72/a4/97eb6273839655cac14947986fa7a5935350fcfd4fff872e9654264c82d8/alembic-1.5.8-py2.py3-none-any.whl (159kB)\n",
            "\u001b[K     |████████████████████████████████| 163kB 44.1MB/s \n",
            "\u001b[?25hRequirement already satisfied: numpy in /usr/local/lib/python3.7/dist-packages (from optuna) (1.19.5)\n",
            "Collecting colorlog\n",
            "  Downloading https://files.pythonhosted.org/packages/32/e6/e9ddc6fa1104fda718338b341e4b3dc31cd8039ab29e52fc73b508515361/colorlog-5.0.1-py2.py3-none-any.whl\n",
            "Requirement already satisfied: sqlalchemy>=1.1.0 in /usr/local/lib/python3.7/dist-packages (from optuna) (1.4.7)\n",
            "Requirement already satisfied: packaging>=20.0 in /usr/local/lib/python3.7/dist-packages (from optuna) (20.9)\n",
            "Collecting cliff\n",
            "\u001b[?25l  Downloading https://files.pythonhosted.org/packages/a2/d6/7d9acb68a77acd140be7fececb7f2701b2a29d2da9c54184cb8f93509590/cliff-3.7.0-py3-none-any.whl (80kB)\n",
            "\u001b[K     |████████████████████████████████| 81kB 6.3MB/s \n",
            "\u001b[?25hRequirement already satisfied: scipy!=1.4.0 in /usr/local/lib/python3.7/dist-packages (from optuna) (1.4.1)\n",
            "Collecting cmaes>=0.8.2\n",
            "  Downloading https://files.pythonhosted.org/packages/01/1f/43b01223a0366171f474320c6e966c39a11587287f098a5f09809b45e05f/cmaes-0.8.2-py3-none-any.whl\n",
            "Requirement already satisfied: tqdm in /usr/local/lib/python3.7/dist-packages (from optuna) (4.41.1)\n",
            "Requirement already satisfied: python-dateutil in /usr/local/lib/python3.7/dist-packages (from alembic->optuna) (2.8.1)\n",
            "Collecting Mako\n",
            "\u001b[?25l  Downloading https://files.pythonhosted.org/packages/f3/54/dbc07fbb20865d3b78fdb7cf7fa713e2cba4f87f71100074ef2dc9f9d1f7/Mako-1.1.4-py2.py3-none-any.whl (75kB)\n",
            "\u001b[K     |████████████████████████████████| 81kB 5.9MB/s \n",
            "\u001b[?25hCollecting python-editor>=0.3\n",
            "  Downloading https://files.pythonhosted.org/packages/c6/d3/201fc3abe391bbae6606e6f1d598c15d367033332bd54352b12f35513717/python_editor-1.0.4-py3-none-any.whl\n",
            "Requirement already satisfied: importlib-metadata; python_version < \"3.8\" in /usr/local/lib/python3.7/dist-packages (from sqlalchemy>=1.1.0->optuna) (3.10.1)\n",
            "Requirement already satisfied: greenlet!=0.4.17; python_version >= \"3\" in /usr/local/lib/python3.7/dist-packages (from sqlalchemy>=1.1.0->optuna) (1.0.0)\n",
            "Requirement already satisfied: pyparsing>=2.0.2 in /usr/local/lib/python3.7/dist-packages (from packaging>=20.0->optuna) (2.4.7)\n",
            "Requirement already satisfied: PrettyTable>=0.7.2 in /usr/local/lib/python3.7/dist-packages (from cliff->optuna) (2.1.0)\n",
            "Collecting stevedore>=2.0.1\n",
            "\u001b[?25l  Downloading https://files.pythonhosted.org/packages/d4/49/b602307aeac3df3384ff1fcd05da9c0376c622a6c48bb5325f28ab165b57/stevedore-3.3.0-py3-none-any.whl (49kB)\n",
            "\u001b[K     |████████████████████████████████| 51kB 5.2MB/s \n",
            "\u001b[?25hRequirement already satisfied: PyYAML>=3.12 in /usr/local/lib/python3.7/dist-packages (from cliff->optuna) (3.13)\n",
            "Collecting cmd2>=1.0.0\n",
            "\u001b[?25l  Downloading https://files.pythonhosted.org/packages/15/8b/15061b32332bb35ea2a2f6263d0f616779d576e82739ec8e7fcf3c94abf5/cmd2-1.5.0-py3-none-any.whl (133kB)\n",
            "\u001b[K     |████████████████████████████████| 143kB 27.3MB/s \n",
            "\u001b[?25hCollecting pbr!=2.1.0,>=2.0.0\n",
            "\u001b[?25l  Downloading https://files.pythonhosted.org/packages/18/e0/1d4702dd81121d04a477c272d47ee5b6bc970d1a0990b11befa275c55cf2/pbr-5.6.0-py2.py3-none-any.whl (111kB)\n",
            "\u001b[K     |████████████████████████████████| 112kB 31.9MB/s \n",
            "\u001b[?25hRequirement already satisfied: six>=1.5 in /usr/local/lib/python3.7/dist-packages (from python-dateutil->alembic->optuna) (1.15.0)\n",
            "Requirement already satisfied: MarkupSafe>=0.9.2 in /usr/local/lib/python3.7/dist-packages (from Mako->alembic->optuna) (1.1.1)\n",
            "Requirement already satisfied: typing-extensions>=3.6.4; python_version < \"3.8\" in /usr/local/lib/python3.7/dist-packages (from importlib-metadata; python_version < \"3.8\"->sqlalchemy>=1.1.0->optuna) (3.7.4.3)\n",
            "Requirement already satisfied: zipp>=0.5 in /usr/local/lib/python3.7/dist-packages (from importlib-metadata; python_version < \"3.8\"->sqlalchemy>=1.1.0->optuna) (3.4.1)\n",
            "Requirement already satisfied: wcwidth in /usr/local/lib/python3.7/dist-packages (from PrettyTable>=0.7.2->cliff->optuna) (0.2.5)\n",
            "Requirement already satisfied: attrs>=16.3.0 in /usr/local/lib/python3.7/dist-packages (from cmd2>=1.0.0->cliff->optuna) (20.3.0)\n",
            "Collecting pyperclip>=1.6\n",
            "  Downloading https://files.pythonhosted.org/packages/a7/2c/4c64579f847bd5d539803c8b909e54ba087a79d01bb3aba433a95879a6c5/pyperclip-1.8.2.tar.gz\n",
            "Collecting colorama>=0.3.7\n",
            "  Downloading https://files.pythonhosted.org/packages/44/98/5b86278fbbf250d239ae0ecb724f8572af1c91f4a11edf4d36a206189440/colorama-0.4.4-py2.py3-none-any.whl\n",
            "Building wheels for collected packages: pyperclip\n",
            "  Building wheel for pyperclip (setup.py) ... \u001b[?25l\u001b[?25hdone\n",
            "  Created wheel for pyperclip: filename=pyperclip-1.8.2-cp37-none-any.whl size=11107 sha256=d007bd7848ffe540bc983ba1ea8a4f8fcd86f932d8301f70dfb8dff9dc8cae8c\n",
            "  Stored in directory: /root/.cache/pip/wheels/25/af/b8/3407109267803f4015e1ee2ff23be0c8c19ce4008665931ee1\n",
            "Successfully built pyperclip\n",
            "Installing collected packages: Mako, python-editor, alembic, colorlog, pbr, stevedore, pyperclip, colorama, cmd2, cliff, cmaes, optuna\n",
            "Successfully installed Mako-1.1.4 alembic-1.5.8 cliff-3.7.0 cmaes-0.8.2 cmd2-1.5.0 colorama-0.4.4 colorlog-5.0.1 optuna-2.7.0 pbr-5.6.0 pyperclip-1.8.2 python-editor-1.0.4 stevedore-3.3.0\n"
          ],
          "name": "stdout"
        }
      ]
    },
    {
      "cell_type": "code",
      "metadata": {
        "colab": {
          "base_uri": "https://localhost:8080/"
        },
        "id": "2IBo4mlDkQc3",
        "outputId": "e581a85f-f2dd-4562-9469-7829b071da00"
      },
      "source": [
        "pip install catboost --no-cache-dir"
      ],
      "execution_count": 3,
      "outputs": [
        {
          "output_type": "stream",
          "text": [
            "Collecting catboost\n",
            "\u001b[?25l  Downloading https://files.pythonhosted.org/packages/47/80/8e9c57ec32dfed6ba2922bc5c96462cbf8596ce1a6f5de532ad1e43e53fe/catboost-0.25.1-cp37-none-manylinux1_x86_64.whl (67.3MB)\n",
            "\u001b[K     |████████████████████████████████| 67.3MB 1.2MB/s \n",
            "\u001b[?25hRequirement already satisfied: matplotlib in /usr/local/lib/python3.7/dist-packages (from catboost) (3.2.2)\n",
            "Requirement already satisfied: pandas>=0.24.0 in /usr/local/lib/python3.7/dist-packages (from catboost) (1.1.5)\n",
            "Requirement already satisfied: numpy>=1.16.0 in /usr/local/lib/python3.7/dist-packages (from catboost) (1.19.5)\n",
            "Requirement already satisfied: plotly in /usr/local/lib/python3.7/dist-packages (from catboost) (4.4.1)\n",
            "Requirement already satisfied: graphviz in /usr/local/lib/python3.7/dist-packages (from catboost) (0.10.1)\n",
            "Requirement already satisfied: scipy in /usr/local/lib/python3.7/dist-packages (from catboost) (1.4.1)\n",
            "Requirement already satisfied: six in /usr/local/lib/python3.7/dist-packages (from catboost) (1.15.0)\n",
            "Requirement already satisfied: pyparsing!=2.0.4,!=2.1.2,!=2.1.6,>=2.0.1 in /usr/local/lib/python3.7/dist-packages (from matplotlib->catboost) (2.4.7)\n",
            "Requirement already satisfied: python-dateutil>=2.1 in /usr/local/lib/python3.7/dist-packages (from matplotlib->catboost) (2.8.1)\n",
            "Requirement already satisfied: cycler>=0.10 in /usr/local/lib/python3.7/dist-packages (from matplotlib->catboost) (0.10.0)\n",
            "Requirement already satisfied: kiwisolver>=1.0.1 in /usr/local/lib/python3.7/dist-packages (from matplotlib->catboost) (1.3.1)\n",
            "Requirement already satisfied: pytz>=2017.2 in /usr/local/lib/python3.7/dist-packages (from pandas>=0.24.0->catboost) (2018.9)\n",
            "Requirement already satisfied: retrying>=1.3.3 in /usr/local/lib/python3.7/dist-packages (from plotly->catboost) (1.3.3)\n",
            "Installing collected packages: catboost\n",
            "Successfully installed catboost-0.25.1\n"
          ],
          "name": "stdout"
        }
      ]
    },
    {
      "cell_type": "code",
      "metadata": {
        "colab": {
          "base_uri": "https://localhost:8080/"
        },
        "id": "_bBDnVRKkSBT",
        "outputId": "e36ac2ad-f6e5-4fb0-a291-5a728bf7c59f"
      },
      "source": [
        "pip install shap\n"
      ],
      "execution_count": 4,
      "outputs": [
        {
          "output_type": "stream",
          "text": [
            "Collecting shap\n",
            "\u001b[?25l  Downloading https://files.pythonhosted.org/packages/b9/f4/c5b95cddae15be80f8e58b25edceca105aa83c0b8c86a1edad24a6af80d3/shap-0.39.0.tar.gz (356kB)\n",
            "\r\u001b[K     |█                               | 10kB 14.2MB/s eta 0:00:01\r\u001b[K     |█▉                              | 20kB 20.5MB/s eta 0:00:01\r\u001b[K     |██▊                             | 30kB 25.7MB/s eta 0:00:01\r\u001b[K     |███▊                            | 40kB 24.3MB/s eta 0:00:01\r\u001b[K     |████▋                           | 51kB 16.7MB/s eta 0:00:01\r\u001b[K     |█████▌                          | 61kB 16.0MB/s eta 0:00:01\r\u001b[K     |██████▍                         | 71kB 11.3MB/s eta 0:00:01\r\u001b[K     |███████▍                        | 81kB 12.4MB/s eta 0:00:01\r\u001b[K     |████████▎                       | 92kB 10.6MB/s eta 0:00:01\r\u001b[K     |█████████▏                      | 102kB 11.5MB/s eta 0:00:01\r\u001b[K     |██████████▏                     | 112kB 11.5MB/s eta 0:00:01\r\u001b[K     |███████████                     | 122kB 11.5MB/s eta 0:00:01\r\u001b[K     |████████████                    | 133kB 11.5MB/s eta 0:00:01\r\u001b[K     |████████████▉                   | 143kB 11.5MB/s eta 0:00:01\r\u001b[K     |█████████████▉                  | 153kB 11.5MB/s eta 0:00:01\r\u001b[K     |██████████████▊                 | 163kB 11.5MB/s eta 0:00:01\r\u001b[K     |███████████████▋                | 174kB 11.5MB/s eta 0:00:01\r\u001b[K     |████████████████▋               | 184kB 11.5MB/s eta 0:00:01\r\u001b[K     |█████████████████▌              | 194kB 11.5MB/s eta 0:00:01\r\u001b[K     |██████████████████▍             | 204kB 11.5MB/s eta 0:00:01\r\u001b[K     |███████████████████▎            | 215kB 11.5MB/s eta 0:00:01\r\u001b[K     |████████████████████▎           | 225kB 11.5MB/s eta 0:00:01\r\u001b[K     |█████████████████████▏          | 235kB 11.5MB/s eta 0:00:01\r\u001b[K     |██████████████████████          | 245kB 11.5MB/s eta 0:00:01\r\u001b[K     |███████████████████████         | 256kB 11.5MB/s eta 0:00:01\r\u001b[K     |████████████████████████        | 266kB 11.5MB/s eta 0:00:01\r\u001b[K     |████████████████████████▉       | 276kB 11.5MB/s eta 0:00:01\r\u001b[K     |█████████████████████████▊      | 286kB 11.5MB/s eta 0:00:01\r\u001b[K     |██████████████████████████▊     | 296kB 11.5MB/s eta 0:00:01\r\u001b[K     |███████████████████████████▋    | 307kB 11.5MB/s eta 0:00:01\r\u001b[K     |████████████████████████████▌   | 317kB 11.5MB/s eta 0:00:01\r\u001b[K     |█████████████████████████████▍  | 327kB 11.5MB/s eta 0:00:01\r\u001b[K     |██████████████████████████████▍ | 337kB 11.5MB/s eta 0:00:01\r\u001b[K     |███████████████████████████████▎| 348kB 11.5MB/s eta 0:00:01\r\u001b[K     |████████████████████████████████| 358kB 11.5MB/s \n",
            "\u001b[?25hRequirement already satisfied: numpy in /usr/local/lib/python3.7/dist-packages (from shap) (1.19.5)\n",
            "Requirement already satisfied: scipy in /usr/local/lib/python3.7/dist-packages (from shap) (1.4.1)\n",
            "Requirement already satisfied: scikit-learn in /usr/local/lib/python3.7/dist-packages (from shap) (0.22.2.post1)\n",
            "Requirement already satisfied: pandas in /usr/local/lib/python3.7/dist-packages (from shap) (1.1.5)\n",
            "Requirement already satisfied: tqdm>4.25.0 in /usr/local/lib/python3.7/dist-packages (from shap) (4.41.1)\n",
            "Collecting slicer==0.0.7\n",
            "  Downloading https://files.pythonhosted.org/packages/78/c2/b3f55dfdb8af9812fdb9baf70cacf3b9e82e505b2bd4324d588888b81202/slicer-0.0.7-py3-none-any.whl\n",
            "Requirement already satisfied: numba in /usr/local/lib/python3.7/dist-packages (from shap) (0.51.2)\n",
            "Requirement already satisfied: cloudpickle in /usr/local/lib/python3.7/dist-packages (from shap) (1.3.0)\n",
            "Requirement already satisfied: joblib>=0.11 in /usr/local/lib/python3.7/dist-packages (from scikit-learn->shap) (1.0.1)\n",
            "Requirement already satisfied: python-dateutil>=2.7.3 in /usr/local/lib/python3.7/dist-packages (from pandas->shap) (2.8.1)\n",
            "Requirement already satisfied: pytz>=2017.2 in /usr/local/lib/python3.7/dist-packages (from pandas->shap) (2018.9)\n",
            "Requirement already satisfied: llvmlite<0.35,>=0.34.0.dev0 in /usr/local/lib/python3.7/dist-packages (from numba->shap) (0.34.0)\n",
            "Requirement already satisfied: setuptools in /usr/local/lib/python3.7/dist-packages (from numba->shap) (56.0.0)\n",
            "Requirement already satisfied: six>=1.5 in /usr/local/lib/python3.7/dist-packages (from python-dateutil>=2.7.3->pandas->shap) (1.15.0)\n",
            "Building wheels for collected packages: shap\n",
            "  Building wheel for shap (setup.py) ... \u001b[?25l\u001b[?25hdone\n",
            "  Created wheel for shap: filename=shap-0.39.0-cp37-cp37m-linux_x86_64.whl size=491635 sha256=460851cca4f0779fa25166d2f906de613fc618239770a351ff712463532a408c\n",
            "  Stored in directory: /root/.cache/pip/wheels/15/27/f5/a8ab9da52fd159aae6477b5ede6eaaec69fd130fa0fa59f283\n",
            "Successfully built shap\n",
            "Installing collected packages: slicer, shap\n",
            "Successfully installed shap-0.39.0 slicer-0.0.7\n"
          ],
          "name": "stdout"
        }
      ]
    },
    {
      "cell_type": "code",
      "metadata": {
        "colab": {
          "base_uri": "https://localhost:8080/",
          "height": 938
        },
        "id": "w8cxO9lNkT55",
        "outputId": "fb30898d-1569-495e-b0f0-12042eef6ebb"
      },
      "source": [
        "pip install -I shap\n"
      ],
      "execution_count": 5,
      "outputs": [
        {
          "output_type": "stream",
          "text": [
            "Processing /root/.cache/pip/wheels/15/27/f5/a8ab9da52fd159aae6477b5ede6eaaec69fd130fa0fa59f283/shap-0.39.0-cp37-cp37m-linux_x86_64.whl\n",
            "Collecting scikit-learn\n",
            "\u001b[?25l  Downloading https://files.pythonhosted.org/packages/a8/eb/a48f25c967526b66d5f1fa7a984594f0bf0a5afafa94a8c4dbc317744620/scikit_learn-0.24.2-cp37-cp37m-manylinux2010_x86_64.whl (22.3MB)\n",
            "\u001b[K     |████████████████████████████████| 22.3MB 1.4MB/s \n",
            "\u001b[?25hCollecting slicer==0.0.7\n",
            "  Using cached https://files.pythonhosted.org/packages/78/c2/b3f55dfdb8af9812fdb9baf70cacf3b9e82e505b2bd4324d588888b81202/slicer-0.0.7-py3-none-any.whl\n",
            "Collecting scipy\n",
            "\u001b[?25l  Downloading https://files.pythonhosted.org/packages/7d/e8/43ffca541d2f208d516296950b25fe1084b35c2881f4d444c1346ca75815/scipy-1.6.3-cp37-cp37m-manylinux1_x86_64.whl (27.4MB)\n",
            "\u001b[K     |████████████████████████████████| 27.4MB 98kB/s \n",
            "\u001b[?25hCollecting cloudpickle\n",
            "  Downloading https://files.pythonhosted.org/packages/e7/e3/898487e5dbeb612054cf2e0c188463acb358167fef749c53c8bb8918cea1/cloudpickle-1.6.0-py3-none-any.whl\n",
            "Collecting numpy\n",
            "\u001b[?25l  Downloading https://files.pythonhosted.org/packages/73/ef/8967d406f3f85018ceb5efab50431e901683188f1741ceb053efcab26c87/numpy-1.20.2-cp37-cp37m-manylinux2010_x86_64.whl (15.3MB)\n",
            "\u001b[K     |████████████████████████████████| 15.3MB 338kB/s \n",
            "\u001b[?25hCollecting tqdm>4.25.0\n",
            "\u001b[?25l  Downloading https://files.pythonhosted.org/packages/72/8a/34efae5cf9924328a8f34eeb2fdaae14c011462d9f0e3fcded48e1266d1c/tqdm-4.60.0-py2.py3-none-any.whl (75kB)\n",
            "\u001b[K     |████████████████████████████████| 81kB 5.8MB/s \n",
            "\u001b[?25hCollecting numba\n",
            "\u001b[?25l  Downloading https://files.pythonhosted.org/packages/bb/73/d9c127eddbe3c105a33379d425b88f9dca249a6eddf39ce886494d49c3f9/numba-0.53.1-cp37-cp37m-manylinux2014_x86_64.whl (3.4MB)\n",
            "\u001b[K     |████████████████████████████████| 3.4MB 50.0MB/s \n",
            "\u001b[?25hCollecting pandas\n",
            "\u001b[?25l  Downloading https://files.pythonhosted.org/packages/51/51/48f3fc47c4e2144da2806dfb6629c4dd1fa3d5a143f9652b141e979a8ca9/pandas-1.2.4-cp37-cp37m-manylinux1_x86_64.whl (9.9MB)\n",
            "\u001b[K     |████████████████████████████████| 9.9MB 60.5MB/s \n",
            "\u001b[?25hCollecting joblib>=0.11\n",
            "\u001b[?25l  Downloading https://files.pythonhosted.org/packages/55/85/70c6602b078bd9e6f3da4f467047e906525c355a4dacd4f71b97a35d9897/joblib-1.0.1-py3-none-any.whl (303kB)\n",
            "\u001b[K     |████████████████████████████████| 307kB 69.4MB/s \n",
            "\u001b[?25hCollecting threadpoolctl>=2.0.0\n",
            "  Downloading https://files.pythonhosted.org/packages/f7/12/ec3f2e203afa394a149911729357aa48affc59c20e2c1c8297a60f33f133/threadpoolctl-2.1.0-py3-none-any.whl\n",
            "Collecting setuptools\n",
            "\u001b[?25l  Downloading https://files.pythonhosted.org/packages/ae/42/2876a3a136f8bfa9bd703518441c8db78ff1eeaddf174baa85c083c1fd15/setuptools-56.0.0-py3-none-any.whl (784kB)\n",
            "\u001b[K     |████████████████████████████████| 788kB 50.4MB/s \n",
            "\u001b[?25hCollecting llvmlite<0.37,>=0.36.0rc1\n",
            "\u001b[?25l  Downloading https://files.pythonhosted.org/packages/54/25/2b4015e2b0c3be2efa6870cf2cf2bd969dd0e5f937476fc13c102209df32/llvmlite-0.36.0-cp37-cp37m-manylinux2010_x86_64.whl (25.3MB)\n",
            "\u001b[K     |████████████████████████████████| 25.3MB 121kB/s \n",
            "\u001b[?25hCollecting python-dateutil>=2.7.3\n",
            "\u001b[?25l  Downloading https://files.pythonhosted.org/packages/d4/70/d60450c3dd48ef87586924207ae8907090de0b306af2bce5d134d78615cb/python_dateutil-2.8.1-py2.py3-none-any.whl (227kB)\n",
            "\u001b[K     |████████████████████████████████| 235kB 76.1MB/s \n",
            "\u001b[?25hCollecting pytz>=2017.3\n",
            "\u001b[?25l  Downloading https://files.pythonhosted.org/packages/70/94/784178ca5dd892a98f113cdd923372024dc04b8d40abe77ca76b5fb90ca6/pytz-2021.1-py2.py3-none-any.whl (510kB)\n",
            "\u001b[K     |████████████████████████████████| 512kB 54.5MB/s \n",
            "\u001b[?25hCollecting six>=1.5\n",
            "  Downloading https://files.pythonhosted.org/packages/ee/ff/48bde5c0f013094d729fe4b0316ba2a24774b3ff1c52d924a8a4cb04078a/six-1.15.0-py2.py3-none-any.whl\n",
            "\u001b[31mERROR: tensorflow 2.4.1 has requirement numpy~=1.19.2, but you'll have numpy 1.20.2 which is incompatible.\u001b[0m\n",
            "\u001b[31mERROR: google-colab 1.0.0 has requirement pandas~=1.1.0; python_version >= \"3.0\", but you'll have pandas 1.2.4 which is incompatible.\u001b[0m\n",
            "\u001b[31mERROR: datascience 0.10.6 has requirement folium==0.2.1, but you'll have folium 0.8.3 which is incompatible.\u001b[0m\n",
            "\u001b[31mERROR: albumentations 0.1.12 has requirement imgaug<0.2.7,>=0.2.5, but you'll have imgaug 0.2.9 which is incompatible.\u001b[0m\n",
            "Installing collected packages: joblib, numpy, scipy, threadpoolctl, scikit-learn, slicer, cloudpickle, tqdm, setuptools, llvmlite, numba, six, python-dateutil, pytz, pandas, shap\n",
            "Successfully installed cloudpickle-1.6.0 joblib-1.0.1 llvmlite-0.36.0 numba-0.53.1 numpy-1.20.2 pandas-1.2.4 python-dateutil-2.8.1 pytz-2021.1 scikit-learn-0.24.2 scipy-1.6.3 setuptools-56.0.0 shap-0.39.0 six-1.15.0 slicer-0.0.7 threadpoolctl-2.1.0 tqdm-4.60.0\n"
          ],
          "name": "stdout"
        },
        {
          "output_type": "display_data",
          "data": {
            "application/vnd.colab-display-data+json": {
              "pip_warning": {
                "packages": [
                  "dateutil",
                  "numpy",
                  "pandas",
                  "pkg_resources",
                  "pytz",
                  "six"
                ]
              }
            }
          },
          "metadata": {
            "tags": []
          }
        }
      ]
    },
    {
      "cell_type": "code",
      "metadata": {
        "id": "rCuQ252BKP3F"
      },
      "source": [
        "import pandas as pd\n",
        "import numpy as np\n",
        "import matplotlib.pyplot as plt\n",
        "import seaborn as sns\n",
        "\n",
        "import optuna\n",
        "import xgboost\n",
        "from catboost import CatBoostClassifier\n",
        "from xgboost import XGBClassifier\n",
        "import lightgbm as lgb\n",
        "import shap\n",
        "import pandas as pd\n",
        "\n",
        "from sklearn.model_selection import  train_test_split, cross_val_score, KFold\n",
        "from sklearn import linear_model\n",
        "from sklearn.metrics import classification_report\n",
        "from sklearn.linear_model import LogisticRegression\n",
        "from sklearn.ensemble import RandomForestClassifier\n",
        "from sklearn.linear_model import Perceptron\n",
        "from sklearn.linear_model import SGDClassifier\n",
        "from sklearn.tree import DecisionTreeClassifier\n",
        "from sklearn.svm import SVC, LinearSVC\n",
        "from sklearn.naive_bayes import GaussianNB\n",
        "from sklearn.preprocessing import LabelEncoder\n",
        "\n"
      ],
      "execution_count": 73,
      "outputs": []
    },
    {
      "cell_type": "code",
      "metadata": {
        "id": "GoflUs9gKKzN"
      },
      "source": [
        "# Import dataset\n",
        "train = pd.read_csv(\"/content/drive/MyDrive/Ignacio Fiori Training/Machine Learning/Titanic/train.csv\")"
      ],
      "execution_count": 3,
      "outputs": []
    },
    {
      "cell_type": "markdown",
      "metadata": {
        "id": "ThHL6rS0Cutu"
      },
      "source": [
        "**Exploration and Preprocessing of Data**"
      ]
    },
    {
      "cell_type": "code",
      "metadata": {
        "colab": {
          "base_uri": "https://localhost:8080/"
        },
        "id": "l-nCDSk5KWC7",
        "outputId": "bde35c56-c6f8-4a6c-df72-51b7a61dffbf"
      },
      "source": [
        "train.shape"
      ],
      "execution_count": 4,
      "outputs": [
        {
          "output_type": "execute_result",
          "data": {
            "text/plain": [
              "(891, 12)"
            ]
          },
          "metadata": {
            "tags": []
          },
          "execution_count": 4
        }
      ]
    },
    {
      "cell_type": "code",
      "metadata": {
        "id": "lcDWAmuPHWqF"
      },
      "source": [
        "train, test=train_test_split(train, test_size=.2)"
      ],
      "execution_count": 5,
      "outputs": []
    },
    {
      "cell_type": "code",
      "metadata": {
        "colab": {
          "base_uri": "https://localhost:8080/"
        },
        "id": "tKKfOr_8HXVq",
        "outputId": "fe788d2f-dedb-4178-8d47-007598d8344d"
      },
      "source": [
        "train.shape"
      ],
      "execution_count": 6,
      "outputs": [
        {
          "output_type": "execute_result",
          "data": {
            "text/plain": [
              "(712, 12)"
            ]
          },
          "metadata": {
            "tags": []
          },
          "execution_count": 6
        }
      ]
    },
    {
      "cell_type": "code",
      "metadata": {
        "colab": {
          "base_uri": "https://localhost:8080/"
        },
        "id": "_qeTu_RIQA4h",
        "outputId": "d0bc21a8-8556-48bd-ae61-5c0ed12e57c6"
      },
      "source": [
        "test.shape"
      ],
      "execution_count": 7,
      "outputs": [
        {
          "output_type": "execute_result",
          "data": {
            "text/plain": [
              "(179, 12)"
            ]
          },
          "metadata": {
            "tags": []
          },
          "execution_count": 7
        }
      ]
    },
    {
      "cell_type": "code",
      "metadata": {
        "colab": {
          "base_uri": "https://localhost:8080/",
          "height": 204
        },
        "id": "gBeSE0T1QNXy",
        "outputId": "825e3f0a-8b37-4e34-d4b7-2006742d6927"
      },
      "source": [
        "train.head()"
      ],
      "execution_count": 8,
      "outputs": [
        {
          "output_type": "execute_result",
          "data": {
            "text/html": [
              "<div>\n",
              "<style scoped>\n",
              "    .dataframe tbody tr th:only-of-type {\n",
              "        vertical-align: middle;\n",
              "    }\n",
              "\n",
              "    .dataframe tbody tr th {\n",
              "        vertical-align: top;\n",
              "    }\n",
              "\n",
              "    .dataframe thead th {\n",
              "        text-align: right;\n",
              "    }\n",
              "</style>\n",
              "<table border=\"1\" class=\"dataframe\">\n",
              "  <thead>\n",
              "    <tr style=\"text-align: right;\">\n",
              "      <th></th>\n",
              "      <th>PassengerId</th>\n",
              "      <th>Survived</th>\n",
              "      <th>Pclass</th>\n",
              "      <th>Name</th>\n",
              "      <th>Sex</th>\n",
              "      <th>Age</th>\n",
              "      <th>SibSp</th>\n",
              "      <th>Parch</th>\n",
              "      <th>Ticket</th>\n",
              "      <th>Fare</th>\n",
              "      <th>Cabin</th>\n",
              "      <th>Embarked</th>\n",
              "    </tr>\n",
              "  </thead>\n",
              "  <tbody>\n",
              "    <tr>\n",
              "      <th>773</th>\n",
              "      <td>774</td>\n",
              "      <td>0</td>\n",
              "      <td>3</td>\n",
              "      <td>Elias, Mr. Dibo</td>\n",
              "      <td>male</td>\n",
              "      <td>NaN</td>\n",
              "      <td>0</td>\n",
              "      <td>0</td>\n",
              "      <td>2674</td>\n",
              "      <td>7.2250</td>\n",
              "      <td>NaN</td>\n",
              "      <td>C</td>\n",
              "    </tr>\n",
              "    <tr>\n",
              "      <th>408</th>\n",
              "      <td>409</td>\n",
              "      <td>0</td>\n",
              "      <td>3</td>\n",
              "      <td>Birkeland, Mr. Hans Martin Monsen</td>\n",
              "      <td>male</td>\n",
              "      <td>21.0</td>\n",
              "      <td>0</td>\n",
              "      <td>0</td>\n",
              "      <td>312992</td>\n",
              "      <td>7.7750</td>\n",
              "      <td>NaN</td>\n",
              "      <td>S</td>\n",
              "    </tr>\n",
              "    <tr>\n",
              "      <th>216</th>\n",
              "      <td>217</td>\n",
              "      <td>1</td>\n",
              "      <td>3</td>\n",
              "      <td>Honkanen, Miss. Eliina</td>\n",
              "      <td>female</td>\n",
              "      <td>27.0</td>\n",
              "      <td>0</td>\n",
              "      <td>0</td>\n",
              "      <td>STON/O2. 3101283</td>\n",
              "      <td>7.9250</td>\n",
              "      <td>NaN</td>\n",
              "      <td>S</td>\n",
              "    </tr>\n",
              "    <tr>\n",
              "      <th>852</th>\n",
              "      <td>853</td>\n",
              "      <td>0</td>\n",
              "      <td>3</td>\n",
              "      <td>Boulos, Miss. Nourelain</td>\n",
              "      <td>female</td>\n",
              "      <td>9.0</td>\n",
              "      <td>1</td>\n",
              "      <td>1</td>\n",
              "      <td>2678</td>\n",
              "      <td>15.2458</td>\n",
              "      <td>NaN</td>\n",
              "      <td>C</td>\n",
              "    </tr>\n",
              "    <tr>\n",
              "      <th>842</th>\n",
              "      <td>843</td>\n",
              "      <td>1</td>\n",
              "      <td>1</td>\n",
              "      <td>Serepeca, Miss. Augusta</td>\n",
              "      <td>female</td>\n",
              "      <td>30.0</td>\n",
              "      <td>0</td>\n",
              "      <td>0</td>\n",
              "      <td>113798</td>\n",
              "      <td>31.0000</td>\n",
              "      <td>NaN</td>\n",
              "      <td>C</td>\n",
              "    </tr>\n",
              "  </tbody>\n",
              "</table>\n",
              "</div>"
            ],
            "text/plain": [
              "     PassengerId  Survived  Pclass  ...     Fare Cabin  Embarked\n",
              "773          774         0       3  ...   7.2250   NaN         C\n",
              "408          409         0       3  ...   7.7750   NaN         S\n",
              "216          217         1       3  ...   7.9250   NaN         S\n",
              "852          853         0       3  ...  15.2458   NaN         C\n",
              "842          843         1       1  ...  31.0000   NaN         C\n",
              "\n",
              "[5 rows x 12 columns]"
            ]
          },
          "metadata": {
            "tags": []
          },
          "execution_count": 8
        }
      ]
    },
    {
      "cell_type": "code",
      "metadata": {
        "colab": {
          "base_uri": "https://localhost:8080/",
          "height": 204
        },
        "id": "0u77WycnQd3a",
        "outputId": "396f60c0-8ffc-4c31-93b0-a9e61deaaa59"
      },
      "source": [
        "test.head()"
      ],
      "execution_count": 9,
      "outputs": [
        {
          "output_type": "execute_result",
          "data": {
            "text/html": [
              "<div>\n",
              "<style scoped>\n",
              "    .dataframe tbody tr th:only-of-type {\n",
              "        vertical-align: middle;\n",
              "    }\n",
              "\n",
              "    .dataframe tbody tr th {\n",
              "        vertical-align: top;\n",
              "    }\n",
              "\n",
              "    .dataframe thead th {\n",
              "        text-align: right;\n",
              "    }\n",
              "</style>\n",
              "<table border=\"1\" class=\"dataframe\">\n",
              "  <thead>\n",
              "    <tr style=\"text-align: right;\">\n",
              "      <th></th>\n",
              "      <th>PassengerId</th>\n",
              "      <th>Survived</th>\n",
              "      <th>Pclass</th>\n",
              "      <th>Name</th>\n",
              "      <th>Sex</th>\n",
              "      <th>Age</th>\n",
              "      <th>SibSp</th>\n",
              "      <th>Parch</th>\n",
              "      <th>Ticket</th>\n",
              "      <th>Fare</th>\n",
              "      <th>Cabin</th>\n",
              "      <th>Embarked</th>\n",
              "    </tr>\n",
              "  </thead>\n",
              "  <tbody>\n",
              "    <tr>\n",
              "      <th>59</th>\n",
              "      <td>60</td>\n",
              "      <td>0</td>\n",
              "      <td>3</td>\n",
              "      <td>Goodwin, Master. William Frederick</td>\n",
              "      <td>male</td>\n",
              "      <td>11.0</td>\n",
              "      <td>5</td>\n",
              "      <td>2</td>\n",
              "      <td>CA 2144</td>\n",
              "      <td>46.9000</td>\n",
              "      <td>NaN</td>\n",
              "      <td>S</td>\n",
              "    </tr>\n",
              "    <tr>\n",
              "      <th>861</th>\n",
              "      <td>862</td>\n",
              "      <td>0</td>\n",
              "      <td>2</td>\n",
              "      <td>Giles, Mr. Frederick Edward</td>\n",
              "      <td>male</td>\n",
              "      <td>21.0</td>\n",
              "      <td>1</td>\n",
              "      <td>0</td>\n",
              "      <td>28134</td>\n",
              "      <td>11.5000</td>\n",
              "      <td>NaN</td>\n",
              "      <td>S</td>\n",
              "    </tr>\n",
              "    <tr>\n",
              "      <th>546</th>\n",
              "      <td>547</td>\n",
              "      <td>1</td>\n",
              "      <td>2</td>\n",
              "      <td>Beane, Mrs. Edward (Ethel Clarke)</td>\n",
              "      <td>female</td>\n",
              "      <td>19.0</td>\n",
              "      <td>1</td>\n",
              "      <td>0</td>\n",
              "      <td>2908</td>\n",
              "      <td>26.0000</td>\n",
              "      <td>NaN</td>\n",
              "      <td>S</td>\n",
              "    </tr>\n",
              "    <tr>\n",
              "      <th>367</th>\n",
              "      <td>368</td>\n",
              "      <td>1</td>\n",
              "      <td>3</td>\n",
              "      <td>Moussa, Mrs. (Mantoura Boulos)</td>\n",
              "      <td>female</td>\n",
              "      <td>NaN</td>\n",
              "      <td>0</td>\n",
              "      <td>0</td>\n",
              "      <td>2626</td>\n",
              "      <td>7.2292</td>\n",
              "      <td>NaN</td>\n",
              "      <td>C</td>\n",
              "    </tr>\n",
              "    <tr>\n",
              "      <th>397</th>\n",
              "      <td>398</td>\n",
              "      <td>0</td>\n",
              "      <td>2</td>\n",
              "      <td>McKane, Mr. Peter David</td>\n",
              "      <td>male</td>\n",
              "      <td>46.0</td>\n",
              "      <td>0</td>\n",
              "      <td>0</td>\n",
              "      <td>28403</td>\n",
              "      <td>26.0000</td>\n",
              "      <td>NaN</td>\n",
              "      <td>S</td>\n",
              "    </tr>\n",
              "  </tbody>\n",
              "</table>\n",
              "</div>"
            ],
            "text/plain": [
              "     PassengerId  Survived  Pclass  ...     Fare Cabin  Embarked\n",
              "59            60         0       3  ...  46.9000   NaN         S\n",
              "861          862         0       2  ...  11.5000   NaN         S\n",
              "546          547         1       2  ...  26.0000   NaN         S\n",
              "367          368         1       3  ...   7.2292   NaN         C\n",
              "397          398         0       2  ...  26.0000   NaN         S\n",
              "\n",
              "[5 rows x 12 columns]"
            ]
          },
          "metadata": {
            "tags": []
          },
          "execution_count": 9
        }
      ]
    },
    {
      "cell_type": "code",
      "metadata": {
        "colab": {
          "base_uri": "https://localhost:8080/"
        },
        "id": "XpH-a-3yqxLH",
        "outputId": "ce2151c3-51c2-4a2c-a8f7-1771bea8e410"
      },
      "source": [
        "train.info()"
      ],
      "execution_count": 10,
      "outputs": [
        {
          "output_type": "stream",
          "text": [
            "<class 'pandas.core.frame.DataFrame'>\n",
            "Int64Index: 712 entries, 773 to 299\n",
            "Data columns (total 12 columns):\n",
            " #   Column       Non-Null Count  Dtype  \n",
            "---  ------       --------------  -----  \n",
            " 0   PassengerId  712 non-null    int64  \n",
            " 1   Survived     712 non-null    int64  \n",
            " 2   Pclass       712 non-null    int64  \n",
            " 3   Name         712 non-null    object \n",
            " 4   Sex          712 non-null    object \n",
            " 5   Age          572 non-null    float64\n",
            " 6   SibSp        712 non-null    int64  \n",
            " 7   Parch        712 non-null    int64  \n",
            " 8   Ticket       712 non-null    object \n",
            " 9   Fare         712 non-null    float64\n",
            " 10  Cabin        158 non-null    object \n",
            " 11  Embarked     711 non-null    object \n",
            "dtypes: float64(2), int64(5), object(5)\n",
            "memory usage: 72.3+ KB\n"
          ],
          "name": "stdout"
        }
      ]
    },
    {
      "cell_type": "code",
      "metadata": {
        "colab": {
          "base_uri": "https://localhost:8080/",
          "height": 297
        },
        "id": "Uiz_oJ_dq5wH",
        "outputId": "590717c9-c67c-4d1f-bf38-dc25d21936c3"
      },
      "source": [
        "train.describe()"
      ],
      "execution_count": 11,
      "outputs": [
        {
          "output_type": "execute_result",
          "data": {
            "text/html": [
              "<div>\n",
              "<style scoped>\n",
              "    .dataframe tbody tr th:only-of-type {\n",
              "        vertical-align: middle;\n",
              "    }\n",
              "\n",
              "    .dataframe tbody tr th {\n",
              "        vertical-align: top;\n",
              "    }\n",
              "\n",
              "    .dataframe thead th {\n",
              "        text-align: right;\n",
              "    }\n",
              "</style>\n",
              "<table border=\"1\" class=\"dataframe\">\n",
              "  <thead>\n",
              "    <tr style=\"text-align: right;\">\n",
              "      <th></th>\n",
              "      <th>PassengerId</th>\n",
              "      <th>Survived</th>\n",
              "      <th>Pclass</th>\n",
              "      <th>Age</th>\n",
              "      <th>SibSp</th>\n",
              "      <th>Parch</th>\n",
              "      <th>Fare</th>\n",
              "    </tr>\n",
              "  </thead>\n",
              "  <tbody>\n",
              "    <tr>\n",
              "      <th>count</th>\n",
              "      <td>712.000000</td>\n",
              "      <td>712.000000</td>\n",
              "      <td>712.000000</td>\n",
              "      <td>572.000000</td>\n",
              "      <td>712.000000</td>\n",
              "      <td>712.000000</td>\n",
              "      <td>712.000000</td>\n",
              "    </tr>\n",
              "    <tr>\n",
              "      <th>mean</th>\n",
              "      <td>451.051966</td>\n",
              "      <td>0.383427</td>\n",
              "      <td>2.321629</td>\n",
              "      <td>29.150647</td>\n",
              "      <td>0.533708</td>\n",
              "      <td>0.386236</td>\n",
              "      <td>32.038839</td>\n",
              "    </tr>\n",
              "    <tr>\n",
              "      <th>std</th>\n",
              "      <td>256.873206</td>\n",
              "      <td>0.486563</td>\n",
              "      <td>0.831303</td>\n",
              "      <td>14.209944</td>\n",
              "      <td>1.098004</td>\n",
              "      <td>0.818892</td>\n",
              "      <td>49.985829</td>\n",
              "    </tr>\n",
              "    <tr>\n",
              "      <th>min</th>\n",
              "      <td>3.000000</td>\n",
              "      <td>0.000000</td>\n",
              "      <td>1.000000</td>\n",
              "      <td>0.420000</td>\n",
              "      <td>0.000000</td>\n",
              "      <td>0.000000</td>\n",
              "      <td>0.000000</td>\n",
              "    </tr>\n",
              "    <tr>\n",
              "      <th>25%</th>\n",
              "      <td>234.750000</td>\n",
              "      <td>0.000000</td>\n",
              "      <td>2.000000</td>\n",
              "      <td>20.000000</td>\n",
              "      <td>0.000000</td>\n",
              "      <td>0.000000</td>\n",
              "      <td>7.895800</td>\n",
              "    </tr>\n",
              "    <tr>\n",
              "      <th>50%</th>\n",
              "      <td>453.500000</td>\n",
              "      <td>0.000000</td>\n",
              "      <td>3.000000</td>\n",
              "      <td>28.000000</td>\n",
              "      <td>0.000000</td>\n",
              "      <td>0.000000</td>\n",
              "      <td>14.454200</td>\n",
              "    </tr>\n",
              "    <tr>\n",
              "      <th>75%</th>\n",
              "      <td>672.250000</td>\n",
              "      <td>1.000000</td>\n",
              "      <td>3.000000</td>\n",
              "      <td>37.250000</td>\n",
              "      <td>1.000000</td>\n",
              "      <td>0.000000</td>\n",
              "      <td>30.178100</td>\n",
              "    </tr>\n",
              "    <tr>\n",
              "      <th>max</th>\n",
              "      <td>890.000000</td>\n",
              "      <td>1.000000</td>\n",
              "      <td>3.000000</td>\n",
              "      <td>74.000000</td>\n",
              "      <td>8.000000</td>\n",
              "      <td>6.000000</td>\n",
              "      <td>512.329200</td>\n",
              "    </tr>\n",
              "  </tbody>\n",
              "</table>\n",
              "</div>"
            ],
            "text/plain": [
              "       PassengerId    Survived      Pclass  ...       SibSp       Parch        Fare\n",
              "count   712.000000  712.000000  712.000000  ...  712.000000  712.000000  712.000000\n",
              "mean    451.051966    0.383427    2.321629  ...    0.533708    0.386236   32.038839\n",
              "std     256.873206    0.486563    0.831303  ...    1.098004    0.818892   49.985829\n",
              "min       3.000000    0.000000    1.000000  ...    0.000000    0.000000    0.000000\n",
              "25%     234.750000    0.000000    2.000000  ...    0.000000    0.000000    7.895800\n",
              "50%     453.500000    0.000000    3.000000  ...    0.000000    0.000000   14.454200\n",
              "75%     672.250000    1.000000    3.000000  ...    1.000000    0.000000   30.178100\n",
              "max     890.000000    1.000000    3.000000  ...    8.000000    6.000000  512.329200\n",
              "\n",
              "[8 rows x 7 columns]"
            ]
          },
          "metadata": {
            "tags": []
          },
          "execution_count": 11
        }
      ]
    },
    {
      "cell_type": "markdown",
      "metadata": {
        "id": "7e64LATJq-M9"
      },
      "source": [
        "We can see that about 36% of the passengers survived. Also the passengers age range from 0.4 to 80. Besides there are missing values"
      ]
    },
    {
      "cell_type": "code",
      "metadata": {
        "colab": {
          "base_uri": "https://localhost:8080/",
          "height": 359
        },
        "id": "okQ7eNE3syDA",
        "outputId": "bfd5c685-e1e5-41f7-df23-c86bda8dc225"
      },
      "source": [
        "train.head(10)"
      ],
      "execution_count": 12,
      "outputs": [
        {
          "output_type": "execute_result",
          "data": {
            "text/html": [
              "<div>\n",
              "<style scoped>\n",
              "    .dataframe tbody tr th:only-of-type {\n",
              "        vertical-align: middle;\n",
              "    }\n",
              "\n",
              "    .dataframe tbody tr th {\n",
              "        vertical-align: top;\n",
              "    }\n",
              "\n",
              "    .dataframe thead th {\n",
              "        text-align: right;\n",
              "    }\n",
              "</style>\n",
              "<table border=\"1\" class=\"dataframe\">\n",
              "  <thead>\n",
              "    <tr style=\"text-align: right;\">\n",
              "      <th></th>\n",
              "      <th>PassengerId</th>\n",
              "      <th>Survived</th>\n",
              "      <th>Pclass</th>\n",
              "      <th>Name</th>\n",
              "      <th>Sex</th>\n",
              "      <th>Age</th>\n",
              "      <th>SibSp</th>\n",
              "      <th>Parch</th>\n",
              "      <th>Ticket</th>\n",
              "      <th>Fare</th>\n",
              "      <th>Cabin</th>\n",
              "      <th>Embarked</th>\n",
              "    </tr>\n",
              "  </thead>\n",
              "  <tbody>\n",
              "    <tr>\n",
              "      <th>773</th>\n",
              "      <td>774</td>\n",
              "      <td>0</td>\n",
              "      <td>3</td>\n",
              "      <td>Elias, Mr. Dibo</td>\n",
              "      <td>male</td>\n",
              "      <td>NaN</td>\n",
              "      <td>0</td>\n",
              "      <td>0</td>\n",
              "      <td>2674</td>\n",
              "      <td>7.2250</td>\n",
              "      <td>NaN</td>\n",
              "      <td>C</td>\n",
              "    </tr>\n",
              "    <tr>\n",
              "      <th>408</th>\n",
              "      <td>409</td>\n",
              "      <td>0</td>\n",
              "      <td>3</td>\n",
              "      <td>Birkeland, Mr. Hans Martin Monsen</td>\n",
              "      <td>male</td>\n",
              "      <td>21.0</td>\n",
              "      <td>0</td>\n",
              "      <td>0</td>\n",
              "      <td>312992</td>\n",
              "      <td>7.7750</td>\n",
              "      <td>NaN</td>\n",
              "      <td>S</td>\n",
              "    </tr>\n",
              "    <tr>\n",
              "      <th>216</th>\n",
              "      <td>217</td>\n",
              "      <td>1</td>\n",
              "      <td>3</td>\n",
              "      <td>Honkanen, Miss. Eliina</td>\n",
              "      <td>female</td>\n",
              "      <td>27.0</td>\n",
              "      <td>0</td>\n",
              "      <td>0</td>\n",
              "      <td>STON/O2. 3101283</td>\n",
              "      <td>7.9250</td>\n",
              "      <td>NaN</td>\n",
              "      <td>S</td>\n",
              "    </tr>\n",
              "    <tr>\n",
              "      <th>852</th>\n",
              "      <td>853</td>\n",
              "      <td>0</td>\n",
              "      <td>3</td>\n",
              "      <td>Boulos, Miss. Nourelain</td>\n",
              "      <td>female</td>\n",
              "      <td>9.0</td>\n",
              "      <td>1</td>\n",
              "      <td>1</td>\n",
              "      <td>2678</td>\n",
              "      <td>15.2458</td>\n",
              "      <td>NaN</td>\n",
              "      <td>C</td>\n",
              "    </tr>\n",
              "    <tr>\n",
              "      <th>842</th>\n",
              "      <td>843</td>\n",
              "      <td>1</td>\n",
              "      <td>1</td>\n",
              "      <td>Serepeca, Miss. Augusta</td>\n",
              "      <td>female</td>\n",
              "      <td>30.0</td>\n",
              "      <td>0</td>\n",
              "      <td>0</td>\n",
              "      <td>113798</td>\n",
              "      <td>31.0000</td>\n",
              "      <td>NaN</td>\n",
              "      <td>C</td>\n",
              "    </tr>\n",
              "    <tr>\n",
              "      <th>766</th>\n",
              "      <td>767</td>\n",
              "      <td>0</td>\n",
              "      <td>1</td>\n",
              "      <td>Brewe, Dr. Arthur Jackson</td>\n",
              "      <td>male</td>\n",
              "      <td>NaN</td>\n",
              "      <td>0</td>\n",
              "      <td>0</td>\n",
              "      <td>112379</td>\n",
              "      <td>39.6000</td>\n",
              "      <td>NaN</td>\n",
              "      <td>C</td>\n",
              "    </tr>\n",
              "    <tr>\n",
              "      <th>239</th>\n",
              "      <td>240</td>\n",
              "      <td>0</td>\n",
              "      <td>2</td>\n",
              "      <td>Hunt, Mr. George Henry</td>\n",
              "      <td>male</td>\n",
              "      <td>33.0</td>\n",
              "      <td>0</td>\n",
              "      <td>0</td>\n",
              "      <td>SCO/W 1585</td>\n",
              "      <td>12.2750</td>\n",
              "      <td>NaN</td>\n",
              "      <td>S</td>\n",
              "    </tr>\n",
              "    <tr>\n",
              "      <th>499</th>\n",
              "      <td>500</td>\n",
              "      <td>0</td>\n",
              "      <td>3</td>\n",
              "      <td>Svensson, Mr. Olof</td>\n",
              "      <td>male</td>\n",
              "      <td>24.0</td>\n",
              "      <td>0</td>\n",
              "      <td>0</td>\n",
              "      <td>350035</td>\n",
              "      <td>7.7958</td>\n",
              "      <td>NaN</td>\n",
              "      <td>S</td>\n",
              "    </tr>\n",
              "    <tr>\n",
              "      <th>542</th>\n",
              "      <td>543</td>\n",
              "      <td>0</td>\n",
              "      <td>3</td>\n",
              "      <td>Andersson, Miss. Sigrid Elisabeth</td>\n",
              "      <td>female</td>\n",
              "      <td>11.0</td>\n",
              "      <td>4</td>\n",
              "      <td>2</td>\n",
              "      <td>347082</td>\n",
              "      <td>31.2750</td>\n",
              "      <td>NaN</td>\n",
              "      <td>S</td>\n",
              "    </tr>\n",
              "    <tr>\n",
              "      <th>710</th>\n",
              "      <td>711</td>\n",
              "      <td>1</td>\n",
              "      <td>1</td>\n",
              "      <td>Mayne, Mlle. Berthe Antonine (\"Mrs de Villiers\")</td>\n",
              "      <td>female</td>\n",
              "      <td>24.0</td>\n",
              "      <td>0</td>\n",
              "      <td>0</td>\n",
              "      <td>PC 17482</td>\n",
              "      <td>49.5042</td>\n",
              "      <td>C90</td>\n",
              "      <td>C</td>\n",
              "    </tr>\n",
              "  </tbody>\n",
              "</table>\n",
              "</div>"
            ],
            "text/plain": [
              "     PassengerId  Survived  Pclass  ...     Fare Cabin  Embarked\n",
              "773          774         0       3  ...   7.2250   NaN         C\n",
              "408          409         0       3  ...   7.7750   NaN         S\n",
              "216          217         1       3  ...   7.9250   NaN         S\n",
              "852          853         0       3  ...  15.2458   NaN         C\n",
              "842          843         1       1  ...  31.0000   NaN         C\n",
              "766          767         0       1  ...  39.6000   NaN         C\n",
              "239          240         0       2  ...  12.2750   NaN         S\n",
              "499          500         0       3  ...   7.7958   NaN         S\n",
              "542          543         0       3  ...  31.2750   NaN         S\n",
              "710          711         1       1  ...  49.5042   C90         C\n",
              "\n",
              "[10 rows x 12 columns]"
            ]
          },
          "metadata": {
            "tags": []
          },
          "execution_count": 12
        }
      ]
    },
    {
      "cell_type": "markdown",
      "metadata": {
        "id": "lKdh2HsOtDnB"
      },
      "source": [
        "From the information above, we can note some things. First of all, that we need to convert a lot of features into numeric ones, so that the machine learning algorithms can process them. Besides, we can see that the features have different ranges, we will need to convert into the same scale. Finally there are also other features with missing valures(NaN)."
      ]
    },
    {
      "cell_type": "code",
      "metadata": {
        "colab": {
          "base_uri": "https://localhost:8080/"
        },
        "id": "Eni5LjvxtrGD",
        "outputId": "6a2c8e54-2c73-4278-f143-76a9349704ba"
      },
      "source": [
        "train_missing = train.isna().sum() / train.shape[0]\n",
        "train_missing[train_missing > 0.0]"
      ],
      "execution_count": 13,
      "outputs": [
        {
          "output_type": "execute_result",
          "data": {
            "text/plain": [
              "Age         0.196629\n",
              "Cabin       0.778090\n",
              "Embarked    0.001404\n",
              "dtype: float64"
            ]
          },
          "metadata": {
            "tags": []
          },
          "execution_count": 13
        }
      ]
    },
    {
      "cell_type": "code",
      "metadata": {
        "colab": {
          "base_uri": "https://localhost:8080/"
        },
        "id": "EDPoRtqQvCQC",
        "outputId": "f527ece7-cbc4-4e6a-9e17-71fdeec78210"
      },
      "source": [
        "null=pd.DataFrame(train.isnull().sum().sort_values(ascending=False)[:3])\n",
        "print(null)"
      ],
      "execution_count": 14,
      "outputs": [
        {
          "output_type": "stream",
          "text": [
            "            0\n",
            "Cabin     554\n",
            "Age       140\n",
            "Embarked    1\n"
          ],
          "name": "stdout"
        }
      ]
    },
    {
      "cell_type": "code",
      "metadata": {
        "colab": {
          "base_uri": "https://localhost:8080/"
        },
        "id": "PPx9zCaMPy-p",
        "outputId": "bfb66364-684c-42f5-9a30-e14a1c5b42d9"
      },
      "source": [
        "test_missing = test.isna().sum() / train.shape[0]\n",
        "test_missing[test_missing > 0.0]"
      ],
      "execution_count": 15,
      "outputs": [
        {
          "output_type": "execute_result",
          "data": {
            "text/plain": [
              "Age         0.051966\n",
              "Cabin       0.186798\n",
              "Embarked    0.001404\n",
              "dtype: float64"
            ]
          },
          "metadata": {
            "tags": []
          },
          "execution_count": 15
        }
      ]
    },
    {
      "cell_type": "code",
      "metadata": {
        "colab": {
          "base_uri": "https://localhost:8080/"
        },
        "id": "ZnKp2MzjP7sK",
        "outputId": "b61d51af-4d92-491f-8540-a9212f984d56"
      },
      "source": [
        "null=pd.DataFrame(test.isnull().sum().sort_values(ascending=False)[:3])\n",
        "print(null)"
      ],
      "execution_count": 16,
      "outputs": [
        {
          "output_type": "stream",
          "text": [
            "            0\n",
            "Cabin     133\n",
            "Age        37\n",
            "Embarked    1\n"
          ],
          "name": "stdout"
        }
      ]
    },
    {
      "cell_type": "markdown",
      "metadata": {
        "id": "tKhHTP6PtDuP"
      },
      "source": [
        "From these results we can see that we will deal in a easier way with Embarked feature that with Age and Cabin."
      ]
    },
    {
      "cell_type": "code",
      "metadata": {
        "colab": {
          "base_uri": "https://localhost:8080/"
        },
        "id": "hG_nTwqSv0yX",
        "outputId": "1ece7936-6234-4cb0-b357-16a6fe18fef9"
      },
      "source": [
        "train.columns.values\n"
      ],
      "execution_count": 17,
      "outputs": [
        {
          "output_type": "execute_result",
          "data": {
            "text/plain": [
              "array(['PassengerId', 'Survived', 'Pclass', 'Name', 'Sex', 'Age', 'SibSp',\n",
              "       'Parch', 'Ticket', 'Fare', 'Cabin', 'Embarked'], dtype=object)"
            ]
          },
          "metadata": {
            "tags": []
          },
          "execution_count": 17
        }
      ]
    },
    {
      "cell_type": "code",
      "metadata": {
        "colab": {
          "base_uri": "https://localhost:8080/",
          "height": 266
        },
        "id": "evlQy0_xxls4",
        "outputId": "3e2c57f5-b1f4-4965-f270-85b2cbcbb1a1"
      },
      "source": [
        "train.corr()"
      ],
      "execution_count": 18,
      "outputs": [
        {
          "output_type": "execute_result",
          "data": {
            "text/html": [
              "<div>\n",
              "<style scoped>\n",
              "    .dataframe tbody tr th:only-of-type {\n",
              "        vertical-align: middle;\n",
              "    }\n",
              "\n",
              "    .dataframe tbody tr th {\n",
              "        vertical-align: top;\n",
              "    }\n",
              "\n",
              "    .dataframe thead th {\n",
              "        text-align: right;\n",
              "    }\n",
              "</style>\n",
              "<table border=\"1\" class=\"dataframe\">\n",
              "  <thead>\n",
              "    <tr style=\"text-align: right;\">\n",
              "      <th></th>\n",
              "      <th>PassengerId</th>\n",
              "      <th>Survived</th>\n",
              "      <th>Pclass</th>\n",
              "      <th>Age</th>\n",
              "      <th>SibSp</th>\n",
              "      <th>Parch</th>\n",
              "      <th>Fare</th>\n",
              "    </tr>\n",
              "  </thead>\n",
              "  <tbody>\n",
              "    <tr>\n",
              "      <th>PassengerId</th>\n",
              "      <td>1.000000</td>\n",
              "      <td>-0.005572</td>\n",
              "      <td>-0.029507</td>\n",
              "      <td>0.003072</td>\n",
              "      <td>-0.054273</td>\n",
              "      <td>0.011973</td>\n",
              "      <td>-0.011127</td>\n",
              "    </tr>\n",
              "    <tr>\n",
              "      <th>Survived</th>\n",
              "      <td>-0.005572</td>\n",
              "      <td>1.000000</td>\n",
              "      <td>-0.357475</td>\n",
              "      <td>-0.060908</td>\n",
              "      <td>-0.038705</td>\n",
              "      <td>0.069037</td>\n",
              "      <td>0.262534</td>\n",
              "    </tr>\n",
              "    <tr>\n",
              "      <th>Pclass</th>\n",
              "      <td>-0.029507</td>\n",
              "      <td>-0.357475</td>\n",
              "      <td>1.000000</td>\n",
              "      <td>-0.379814</td>\n",
              "      <td>0.081329</td>\n",
              "      <td>0.019735</td>\n",
              "      <td>-0.551948</td>\n",
              "    </tr>\n",
              "    <tr>\n",
              "      <th>Age</th>\n",
              "      <td>0.003072</td>\n",
              "      <td>-0.060908</td>\n",
              "      <td>-0.379814</td>\n",
              "      <td>1.000000</td>\n",
              "      <td>-0.329589</td>\n",
              "      <td>-0.187725</td>\n",
              "      <td>0.089747</td>\n",
              "    </tr>\n",
              "    <tr>\n",
              "      <th>SibSp</th>\n",
              "      <td>-0.054273</td>\n",
              "      <td>-0.038705</td>\n",
              "      <td>0.081329</td>\n",
              "      <td>-0.329589</td>\n",
              "      <td>1.000000</td>\n",
              "      <td>0.407059</td>\n",
              "      <td>0.169315</td>\n",
              "    </tr>\n",
              "    <tr>\n",
              "      <th>Parch</th>\n",
              "      <td>0.011973</td>\n",
              "      <td>0.069037</td>\n",
              "      <td>0.019735</td>\n",
              "      <td>-0.187725</td>\n",
              "      <td>0.407059</td>\n",
              "      <td>1.000000</td>\n",
              "      <td>0.244014</td>\n",
              "    </tr>\n",
              "    <tr>\n",
              "      <th>Fare</th>\n",
              "      <td>-0.011127</td>\n",
              "      <td>0.262534</td>\n",
              "      <td>-0.551948</td>\n",
              "      <td>0.089747</td>\n",
              "      <td>0.169315</td>\n",
              "      <td>0.244014</td>\n",
              "      <td>1.000000</td>\n",
              "    </tr>\n",
              "  </tbody>\n",
              "</table>\n",
              "</div>"
            ],
            "text/plain": [
              "             PassengerId  Survived    Pclass  ...     SibSp     Parch      Fare\n",
              "PassengerId     1.000000 -0.005572 -0.029507  ... -0.054273  0.011973 -0.011127\n",
              "Survived       -0.005572  1.000000 -0.357475  ... -0.038705  0.069037  0.262534\n",
              "Pclass         -0.029507 -0.357475  1.000000  ...  0.081329  0.019735 -0.551948\n",
              "Age             0.003072 -0.060908 -0.379814  ... -0.329589 -0.187725  0.089747\n",
              "SibSp          -0.054273 -0.038705  0.081329  ...  1.000000  0.407059  0.169315\n",
              "Parch           0.011973  0.069037  0.019735  ...  0.407059  1.000000  0.244014\n",
              "Fare           -0.011127  0.262534 -0.551948  ...  0.169315  0.244014  1.000000\n",
              "\n",
              "[7 rows x 7 columns]"
            ]
          },
          "metadata": {
            "tags": []
          },
          "execution_count": 18
        }
      ]
    },
    {
      "cell_type": "code",
      "metadata": {
        "colab": {
          "base_uri": "https://localhost:8080/",
          "height": 596
        },
        "id": "NIiinf55xs6w",
        "outputId": "d589fccc-efd5-40d4-a0a5-b2d02b9bf3f4"
      },
      "source": [
        "# most correlated features\n",
        "plt.figure(figsize=(10,10))\n",
        "g = sns.heatmap(train.corr(),annot=True,cmap=\"RdYlGn\")"
      ],
      "execution_count": 19,
      "outputs": [
        {
          "output_type": "display_data",
          "data": {
            "image/png": "[encoded data removed]",
            "text/plain": [
              "<Figure size 720x720 with 2 Axes>"
            ]
          },
          "metadata": {
            "tags": [],
            "needs_background": "light"
          }
        }
      ]
    },
    {
      "cell_type": "markdown",
      "metadata": {
        "id": "ZWUwz2LKy_Do"
      },
      "source": [
        "- Parch and SibSp seem to be correlated\n",
        "- Fare and Pclass seem to be negative correlated"
      ]
    },
    {
      "cell_type": "code",
      "metadata": {
        "colab": {
          "base_uri": "https://localhost:8080/"
        },
        "id": "3kNBElM6y-L5",
        "outputId": "2895a73b-a879-4b0c-a890-a9c06409528e"
      },
      "source": [
        "print(train[['Pclass', 'Survived']].groupby(['Pclass']).mean().sort_values(by='Survived', ascending=False))"
      ],
      "execution_count": 20,
      "outputs": [
        {
          "output_type": "stream",
          "text": [
            "        Survived\n",
            "Pclass          \n",
            "1       0.648810\n",
            "2       0.476190\n",
            "3       0.236776\n"
          ],
          "name": "stdout"
        }
      ]
    },
    {
      "cell_type": "markdown",
      "metadata": {
        "id": "6Qy8pCmmqSlt"
      },
      "source": [
        "People of upper class tend have more probability of survive"
      ]
    },
    {
      "cell_type": "code",
      "metadata": {
        "colab": {
          "base_uri": "https://localhost:8080/"
        },
        "id": "AmpbqRG-0vxT",
        "outputId": "f800cd03-2455-4dd9-dacc-1db54b52dcc2"
      },
      "source": [
        "print(train[[\"Sex\", \"Survived\"]].groupby(['Sex']).mean().sort_values(by='Survived', ascending=False))"
      ],
      "execution_count": 21,
      "outputs": [
        {
          "output_type": "stream",
          "text": [
            "        Survived\n",
            "Sex             \n",
            "female   0.72973\n",
            "male     0.18543\n"
          ],
          "name": "stdout"
        }
      ]
    },
    {
      "cell_type": "markdown",
      "metadata": {
        "id": "WvR3omPbqZgi"
      },
      "source": [
        "Womens have more probability of survive than men"
      ]
    },
    {
      "cell_type": "code",
      "metadata": {
        "colab": {
          "base_uri": "https://localhost:8080/"
        },
        "id": "V3-2jfA99rIn",
        "outputId": "afbc85eb-7ea6-4cc6-87f9-6916d55bcfd9"
      },
      "source": [
        "print(train[[\"SibSp\", \"Survived\"]].groupby(['SibSp']).mean().sort_values(by='Survived', ascending=False))"
      ],
      "execution_count": 22,
      "outputs": [
        {
          "output_type": "stream",
          "text": [
            "       Survived\n",
            "SibSp          \n",
            "1      0.539394\n",
            "2      0.440000\n",
            "0      0.345756\n",
            "3      0.266667\n",
            "4      0.133333\n",
            "5      0.000000\n",
            "8      0.000000\n"
          ],
          "name": "stdout"
        }
      ]
    },
    {
      "cell_type": "code",
      "metadata": {
        "colab": {
          "base_uri": "https://localhost:8080/"
        },
        "id": "Dc4XBZ4_-haZ",
        "outputId": "6f01bbd4-de63-4157-ea3e-8cfee07f8ce7"
      },
      "source": [
        "print(train[[\"Parch\", \"Survived\"]].groupby(['Parch']).mean().sort_values(by='Survived', ascending=False))"
      ],
      "execution_count": 23,
      "outputs": [
        {
          "output_type": "stream",
          "text": [
            "       Survived\n",
            "Parch          \n",
            "3      0.600000\n",
            "1      0.551020\n",
            "2      0.516667\n",
            "0      0.342593\n",
            "4      0.000000\n",
            "5      0.000000\n",
            "6      0.000000\n"
          ],
          "name": "stdout"
        }
      ]
    },
    {
      "cell_type": "markdown",
      "metadata": {
        "id": "lFeWVZptCW9u"
      },
      "source": [
        "SibSp and Parch would make more sense as a combined feature, that shows the total number of relatives, a person has on the Titanic. I will create it below and also a feature that sows if someone is not alone."
      ]
    },
    {
      "cell_type": "code",
      "metadata": {
        "colab": {
          "base_uri": "https://localhost:8080/"
        },
        "id": "wqP5_YrNBodo",
        "outputId": "27bb32f3-ab4e-4cb2-fe24-e10258324b90"
      },
      "source": [
        "data = [train, test]\n",
        "for dataset in data:\n",
        "    dataset['relatives'] = dataset['SibSp'] + dataset['Parch']\n",
        "    dataset.loc[dataset['relatives'] > 0, 'not_alone'] = 0\n",
        "    dataset.loc[dataset['relatives'] == 0, 'not_alone'] = 1\n",
        "    dataset['not_alone'] = dataset['not_alone'].astype(int)\n",
        "train['not_alone'].value_counts()\n"
      ],
      "execution_count": 24,
      "outputs": [
        {
          "output_type": "execute_result",
          "data": {
            "text/plain": [
              "1    426\n",
              "0    286\n",
              "Name: not_alone, dtype: int64"
            ]
          },
          "metadata": {
            "tags": []
          },
          "execution_count": 24
        }
      ]
    },
    {
      "cell_type": "code",
      "metadata": {
        "colab": {
          "base_uri": "https://localhost:8080/",
          "height": 204
        },
        "id": "_njsxScwDJC4",
        "outputId": "541a1249-c6ba-4bbb-c04f-0983cbfb27ee"
      },
      "source": [
        "train.head()"
      ],
      "execution_count": 25,
      "outputs": [
        {
          "output_type": "execute_result",
          "data": {
            "text/html": [
              "<div>\n",
              "<style scoped>\n",
              "    .dataframe tbody tr th:only-of-type {\n",
              "        vertical-align: middle;\n",
              "    }\n",
              "\n",
              "    .dataframe tbody tr th {\n",
              "        vertical-align: top;\n",
              "    }\n",
              "\n",
              "    .dataframe thead th {\n",
              "        text-align: right;\n",
              "    }\n",
              "</style>\n",
              "<table border=\"1\" class=\"dataframe\">\n",
              "  <thead>\n",
              "    <tr style=\"text-align: right;\">\n",
              "      <th></th>\n",
              "      <th>PassengerId</th>\n",
              "      <th>Survived</th>\n",
              "      <th>Pclass</th>\n",
              "      <th>Name</th>\n",
              "      <th>Sex</th>\n",
              "      <th>Age</th>\n",
              "      <th>SibSp</th>\n",
              "      <th>Parch</th>\n",
              "      <th>Ticket</th>\n",
              "      <th>Fare</th>\n",
              "      <th>Cabin</th>\n",
              "      <th>Embarked</th>\n",
              "      <th>relatives</th>\n",
              "      <th>not_alone</th>\n",
              "    </tr>\n",
              "  </thead>\n",
              "  <tbody>\n",
              "    <tr>\n",
              "      <th>773</th>\n",
              "      <td>774</td>\n",
              "      <td>0</td>\n",
              "      <td>3</td>\n",
              "      <td>Elias, Mr. Dibo</td>\n",
              "      <td>male</td>\n",
              "      <td>NaN</td>\n",
              "      <td>0</td>\n",
              "      <td>0</td>\n",
              "      <td>2674</td>\n",
              "      <td>7.2250</td>\n",
              "      <td>NaN</td>\n",
              "      <td>C</td>\n",
              "      <td>0</td>\n",
              "      <td>1</td>\n",
              "    </tr>\n",
              "    <tr>\n",
              "      <th>408</th>\n",
              "      <td>409</td>\n",
              "      <td>0</td>\n",
              "      <td>3</td>\n",
              "      <td>Birkeland, Mr. Hans Martin Monsen</td>\n",
              "      <td>male</td>\n",
              "      <td>21.0</td>\n",
              "      <td>0</td>\n",
              "      <td>0</td>\n",
              "      <td>312992</td>\n",
              "      <td>7.7750</td>\n",
              "      <td>NaN</td>\n",
              "      <td>S</td>\n",
              "      <td>0</td>\n",
              "      <td>1</td>\n",
              "    </tr>\n",
              "    <tr>\n",
              "      <th>216</th>\n",
              "      <td>217</td>\n",
              "      <td>1</td>\n",
              "      <td>3</td>\n",
              "      <td>Honkanen, Miss. Eliina</td>\n",
              "      <td>female</td>\n",
              "      <td>27.0</td>\n",
              "      <td>0</td>\n",
              "      <td>0</td>\n",
              "      <td>STON/O2. 3101283</td>\n",
              "      <td>7.9250</td>\n",
              "      <td>NaN</td>\n",
              "      <td>S</td>\n",
              "      <td>0</td>\n",
              "      <td>1</td>\n",
              "    </tr>\n",
              "    <tr>\n",
              "      <th>852</th>\n",
              "      <td>853</td>\n",
              "      <td>0</td>\n",
              "      <td>3</td>\n",
              "      <td>Boulos, Miss. Nourelain</td>\n",
              "      <td>female</td>\n",
              "      <td>9.0</td>\n",
              "      <td>1</td>\n",
              "      <td>1</td>\n",
              "      <td>2678</td>\n",
              "      <td>15.2458</td>\n",
              "      <td>NaN</td>\n",
              "      <td>C</td>\n",
              "      <td>2</td>\n",
              "      <td>0</td>\n",
              "    </tr>\n",
              "    <tr>\n",
              "      <th>842</th>\n",
              "      <td>843</td>\n",
              "      <td>1</td>\n",
              "      <td>1</td>\n",
              "      <td>Serepeca, Miss. Augusta</td>\n",
              "      <td>female</td>\n",
              "      <td>30.0</td>\n",
              "      <td>0</td>\n",
              "      <td>0</td>\n",
              "      <td>113798</td>\n",
              "      <td>31.0000</td>\n",
              "      <td>NaN</td>\n",
              "      <td>C</td>\n",
              "      <td>0</td>\n",
              "      <td>1</td>\n",
              "    </tr>\n",
              "  </tbody>\n",
              "</table>\n",
              "</div>"
            ],
            "text/plain": [
              "     PassengerId  Survived  Pclass  ... Embarked relatives  not_alone\n",
              "773          774         0       3  ...        C         0          1\n",
              "408          409         0       3  ...        S         0          1\n",
              "216          217         1       3  ...        S         0          1\n",
              "852          853         0       3  ...        C         2          0\n",
              "842          843         1       1  ...        C         0          1\n",
              "\n",
              "[5 rows x 14 columns]"
            ]
          },
          "metadata": {
            "tags": []
          },
          "execution_count": 25
        }
      ]
    },
    {
      "cell_type": "code",
      "metadata": {
        "colab": {
          "base_uri": "https://localhost:8080/",
          "height": 204
        },
        "id": "puiOPwFWQxYh",
        "outputId": "ee489294-0f7d-462a-d55d-774543a963e5"
      },
      "source": [
        "test.head()"
      ],
      "execution_count": 26,
      "outputs": [
        {
          "output_type": "execute_result",
          "data": {
            "text/html": [
              "<div>\n",
              "<style scoped>\n",
              "    .dataframe tbody tr th:only-of-type {\n",
              "        vertical-align: middle;\n",
              "    }\n",
              "\n",
              "    .dataframe tbody tr th {\n",
              "        vertical-align: top;\n",
              "    }\n",
              "\n",
              "    .dataframe thead th {\n",
              "        text-align: right;\n",
              "    }\n",
              "</style>\n",
              "<table border=\"1\" class=\"dataframe\">\n",
              "  <thead>\n",
              "    <tr style=\"text-align: right;\">\n",
              "      <th></th>\n",
              "      <th>PassengerId</th>\n",
              "      <th>Survived</th>\n",
              "      <th>Pclass</th>\n",
              "      <th>Name</th>\n",
              "      <th>Sex</th>\n",
              "      <th>Age</th>\n",
              "      <th>SibSp</th>\n",
              "      <th>Parch</th>\n",
              "      <th>Ticket</th>\n",
              "      <th>Fare</th>\n",
              "      <th>Cabin</th>\n",
              "      <th>Embarked</th>\n",
              "      <th>relatives</th>\n",
              "      <th>not_alone</th>\n",
              "    </tr>\n",
              "  </thead>\n",
              "  <tbody>\n",
              "    <tr>\n",
              "      <th>59</th>\n",
              "      <td>60</td>\n",
              "      <td>0</td>\n",
              "      <td>3</td>\n",
              "      <td>Goodwin, Master. William Frederick</td>\n",
              "      <td>male</td>\n",
              "      <td>11.0</td>\n",
              "      <td>5</td>\n",
              "      <td>2</td>\n",
              "      <td>CA 2144</td>\n",
              "      <td>46.9000</td>\n",
              "      <td>NaN</td>\n",
              "      <td>S</td>\n",
              "      <td>7</td>\n",
              "      <td>0</td>\n",
              "    </tr>\n",
              "    <tr>\n",
              "      <th>861</th>\n",
              "      <td>862</td>\n",
              "      <td>0</td>\n",
              "      <td>2</td>\n",
              "      <td>Giles, Mr. Frederick Edward</td>\n",
              "      <td>male</td>\n",
              "      <td>21.0</td>\n",
              "      <td>1</td>\n",
              "      <td>0</td>\n",
              "      <td>28134</td>\n",
              "      <td>11.5000</td>\n",
              "      <td>NaN</td>\n",
              "      <td>S</td>\n",
              "      <td>1</td>\n",
              "      <td>0</td>\n",
              "    </tr>\n",
              "    <tr>\n",
              "      <th>546</th>\n",
              "      <td>547</td>\n",
              "      <td>1</td>\n",
              "      <td>2</td>\n",
              "      <td>Beane, Mrs. Edward (Ethel Clarke)</td>\n",
              "      <td>female</td>\n",
              "      <td>19.0</td>\n",
              "      <td>1</td>\n",
              "      <td>0</td>\n",
              "      <td>2908</td>\n",
              "      <td>26.0000</td>\n",
              "      <td>NaN</td>\n",
              "      <td>S</td>\n",
              "      <td>1</td>\n",
              "      <td>0</td>\n",
              "    </tr>\n",
              "    <tr>\n",
              "      <th>367</th>\n",
              "      <td>368</td>\n",
              "      <td>1</td>\n",
              "      <td>3</td>\n",
              "      <td>Moussa, Mrs. (Mantoura Boulos)</td>\n",
              "      <td>female</td>\n",
              "      <td>NaN</td>\n",
              "      <td>0</td>\n",
              "      <td>0</td>\n",
              "      <td>2626</td>\n",
              "      <td>7.2292</td>\n",
              "      <td>NaN</td>\n",
              "      <td>C</td>\n",
              "      <td>0</td>\n",
              "      <td>1</td>\n",
              "    </tr>\n",
              "    <tr>\n",
              "      <th>397</th>\n",
              "      <td>398</td>\n",
              "      <td>0</td>\n",
              "      <td>2</td>\n",
              "      <td>McKane, Mr. Peter David</td>\n",
              "      <td>male</td>\n",
              "      <td>46.0</td>\n",
              "      <td>0</td>\n",
              "      <td>0</td>\n",
              "      <td>28403</td>\n",
              "      <td>26.0000</td>\n",
              "      <td>NaN</td>\n",
              "      <td>S</td>\n",
              "      <td>0</td>\n",
              "      <td>1</td>\n",
              "    </tr>\n",
              "  </tbody>\n",
              "</table>\n",
              "</div>"
            ],
            "text/plain": [
              "     PassengerId  Survived  Pclass  ... Embarked relatives  not_alone\n",
              "59            60         0       3  ...        S         7          0\n",
              "861          862         0       2  ...        S         1          0\n",
              "546          547         1       2  ...        S         1          0\n",
              "367          368         1       3  ...        C         0          1\n",
              "397          398         0       2  ...        S         0          1\n",
              "\n",
              "[5 rows x 14 columns]"
            ]
          },
          "metadata": {
            "tags": []
          },
          "execution_count": 26
        }
      ]
    },
    {
      "cell_type": "code",
      "metadata": {
        "colab": {
          "base_uri": "https://localhost:8080/"
        },
        "id": "ks6g3zcfDSKV",
        "outputId": "8465e1b9-91a3-47d0-a662-ebf4bf32b3ee"
      },
      "source": [
        "print(train[[\"relatives\", \"Survived\"]].groupby(['relatives']).mean().sort_values(by='Survived', ascending=False))"
      ],
      "execution_count": 27,
      "outputs": [
        {
          "output_type": "stream",
          "text": [
            "           Survived\n",
            "relatives          \n",
            "3          0.772727\n",
            "2          0.587500\n",
            "1          0.553846\n",
            "0          0.302817\n",
            "6          0.222222\n",
            "4          0.200000\n",
            "5          0.150000\n",
            "7          0.000000\n",
            "10         0.000000\n"
          ],
          "name": "stdout"
        }
      ]
    },
    {
      "cell_type": "code",
      "metadata": {
        "colab": {
          "base_uri": "https://localhost:8080/",
          "height": 300
        },
        "id": "PjB_PA4rDuv9",
        "outputId": "1b957503-26c1-4591-be95-6dc168c3dc5f"
      },
      "source": [
        "sns.barplot(x='relatives', y='Survived', data=train)\n"
      ],
      "execution_count": 28,
      "outputs": [
        {
          "output_type": "execute_result",
          "data": {
            "text/plain": [
              "<matplotlib.axes._subplots.AxesSubplot at 0x7f9dd4d0ef90>"
            ]
          },
          "metadata": {
            "tags": []
          },
          "execution_count": 28
        },
        {
          "output_type": "display_data",
          "data": {
            "image/png": "[encoded data removed]",
            "text/plain": [
              "<Figure size 432x288 with 1 Axes>"
            ]
          },
          "metadata": {
            "tags": [],
            "needs_background": "light"
          }
        }
      ]
    },
    {
      "cell_type": "markdown",
      "metadata": {
        "id": "2VS-ZnZLqzlC"
      },
      "source": [
        "People with few relative have a good probability of survive. Surprisingly people with 6 relatives also has a good probability of survive."
      ]
    },
    {
      "cell_type": "code",
      "metadata": {
        "colab": {
          "base_uri": "https://localhost:8080/"
        },
        "id": "ebFAA-qHDWRH",
        "outputId": "a9b053fe-fdfd-43b7-c739-f8e4c8321857"
      },
      "source": [
        "train['relatives'].describe()"
      ],
      "execution_count": 29,
      "outputs": [
        {
          "output_type": "execute_result",
          "data": {
            "text/plain": [
              "count    712.000000\n",
              "mean       0.919944\n",
              "std        1.614995\n",
              "min        0.000000\n",
              "25%        0.000000\n",
              "50%        0.000000\n",
              "75%        1.000000\n",
              "max       10.000000\n",
              "Name: relatives, dtype: float64"
            ]
          },
          "metadata": {
            "tags": []
          },
          "execution_count": 29
        }
      ]
    },
    {
      "cell_type": "code",
      "metadata": {
        "colab": {
          "base_uri": "https://localhost:8080/"
        },
        "id": "IYXqGMLUDisi",
        "outputId": "be9ac9f2-22ae-47ab-fa20-4d4c64d88937"
      },
      "source": [
        "train['relatives'].value_counts()"
      ],
      "execution_count": 30,
      "outputs": [
        {
          "output_type": "execute_result",
          "data": {
            "text/plain": [
              "0     426\n",
              "1     130\n",
              "2      80\n",
              "3      22\n",
              "5      20\n",
              "4      15\n",
              "6       9\n",
              "7       5\n",
              "10      5\n",
              "Name: relatives, dtype: int64"
            ]
          },
          "metadata": {
            "tags": []
          },
          "execution_count": 30
        }
      ]
    },
    {
      "cell_type": "markdown",
      "metadata": {
        "id": "nPXKwNtkE9ha"
      },
      "source": [
        "**Data Preprocessing**"
      ]
    },
    {
      "cell_type": "markdown",
      "metadata": {
        "id": "ZL42UeYIFGV3"
      },
      "source": [
        "First, I will drop ‘PassengerId’ from the train set."
      ]
    },
    {
      "cell_type": "code",
      "metadata": {
        "id": "FZzmPaSIFFa8"
      },
      "source": [
        "train.drop(\"PassengerId\", axis = 1, inplace = True)\n",
        "test.drop(\"PassengerId\", axis = 1, inplace = True)"
      ],
      "execution_count": 31,
      "outputs": []
    },
    {
      "cell_type": "markdown",
      "metadata": {
        "id": "8u2RlIYWIfSQ"
      },
      "source": [
        "A cabin number looks like ‘C123’ and the letter refers to the deck. Therefore we’re going to extract these and create a new feature, that contains a persons deck. Afterwords we will convert the feature into a numeric variable. The missing values will be converted to zero."
      ]
    },
    {
      "cell_type": "code",
      "metadata": {
        "id": "VH_i7N-AGoP4"
      },
      "source": [
        "import re\n",
        "deck = {\"A\": 1, \"B\": 2, \"C\": 3, \"D\": 4, \"E\": 5, \"F\": 6, \"G\": 7, \"U\": 8}\n",
        "data = [train, test]\n",
        "\n",
        "for dataset in data:\n",
        "    dataset['Cabin'] = dataset['Cabin'].fillna(\"U0\")\n",
        "    dataset['Deck'] = dataset['Cabin'].map(lambda x: re.compile(\"([a-zA-Z]+)\").search(x).group())\n",
        "    dataset['Deck'] = dataset['Deck'].map(deck)\n",
        "    dataset['Deck'] = dataset['Deck'].fillna(0)\n",
        "    dataset['Deck'] = dataset['Deck'].astype(int)\n",
        "# we can now drop the cabin feature\n",
        "train = train.drop(['Cabin'], axis=1)\n",
        "test = test.drop(['Cabin'], axis=1)\n"
      ],
      "execution_count": 32,
      "outputs": []
    },
    {
      "cell_type": "code",
      "metadata": {
        "colab": {
          "base_uri": "https://localhost:8080/",
          "height": 204
        },
        "id": "KBF-OSKUGwJL",
        "outputId": "5bcad607-6290-4113-bf94-510b7a354e6a"
      },
      "source": [
        "train.head()"
      ],
      "execution_count": 33,
      "outputs": [
        {
          "output_type": "execute_result",
          "data": {
            "text/html": [
              "<div>\n",
              "<style scoped>\n",
              "    .dataframe tbody tr th:only-of-type {\n",
              "        vertical-align: middle;\n",
              "    }\n",
              "\n",
              "    .dataframe tbody tr th {\n",
              "        vertical-align: top;\n",
              "    }\n",
              "\n",
              "    .dataframe thead th {\n",
              "        text-align: right;\n",
              "    }\n",
              "</style>\n",
              "<table border=\"1\" class=\"dataframe\">\n",
              "  <thead>\n",
              "    <tr style=\"text-align: right;\">\n",
              "      <th></th>\n",
              "      <th>Survived</th>\n",
              "      <th>Pclass</th>\n",
              "      <th>Name</th>\n",
              "      <th>Sex</th>\n",
              "      <th>Age</th>\n",
              "      <th>SibSp</th>\n",
              "      <th>Parch</th>\n",
              "      <th>Ticket</th>\n",
              "      <th>Fare</th>\n",
              "      <th>Embarked</th>\n",
              "      <th>relatives</th>\n",
              "      <th>not_alone</th>\n",
              "      <th>Deck</th>\n",
              "    </tr>\n",
              "  </thead>\n",
              "  <tbody>\n",
              "    <tr>\n",
              "      <th>773</th>\n",
              "      <td>0</td>\n",
              "      <td>3</td>\n",
              "      <td>Elias, Mr. Dibo</td>\n",
              "      <td>male</td>\n",
              "      <td>NaN</td>\n",
              "      <td>0</td>\n",
              "      <td>0</td>\n",
              "      <td>2674</td>\n",
              "      <td>7.2250</td>\n",
              "      <td>C</td>\n",
              "      <td>0</td>\n",
              "      <td>1</td>\n",
              "      <td>8</td>\n",
              "    </tr>\n",
              "    <tr>\n",
              "      <th>408</th>\n",
              "      <td>0</td>\n",
              "      <td>3</td>\n",
              "      <td>Birkeland, Mr. Hans Martin Monsen</td>\n",
              "      <td>male</td>\n",
              "      <td>21.0</td>\n",
              "      <td>0</td>\n",
              "      <td>0</td>\n",
              "      <td>312992</td>\n",
              "      <td>7.7750</td>\n",
              "      <td>S</td>\n",
              "      <td>0</td>\n",
              "      <td>1</td>\n",
              "      <td>8</td>\n",
              "    </tr>\n",
              "    <tr>\n",
              "      <th>216</th>\n",
              "      <td>1</td>\n",
              "      <td>3</td>\n",
              "      <td>Honkanen, Miss. Eliina</td>\n",
              "      <td>female</td>\n",
              "      <td>27.0</td>\n",
              "      <td>0</td>\n",
              "      <td>0</td>\n",
              "      <td>STON/O2. 3101283</td>\n",
              "      <td>7.9250</td>\n",
              "      <td>S</td>\n",
              "      <td>0</td>\n",
              "      <td>1</td>\n",
              "      <td>8</td>\n",
              "    </tr>\n",
              "    <tr>\n",
              "      <th>852</th>\n",
              "      <td>0</td>\n",
              "      <td>3</td>\n",
              "      <td>Boulos, Miss. Nourelain</td>\n",
              "      <td>female</td>\n",
              "      <td>9.0</td>\n",
              "      <td>1</td>\n",
              "      <td>1</td>\n",
              "      <td>2678</td>\n",
              "      <td>15.2458</td>\n",
              "      <td>C</td>\n",
              "      <td>2</td>\n",
              "      <td>0</td>\n",
              "      <td>8</td>\n",
              "    </tr>\n",
              "    <tr>\n",
              "      <th>842</th>\n",
              "      <td>1</td>\n",
              "      <td>1</td>\n",
              "      <td>Serepeca, Miss. Augusta</td>\n",
              "      <td>female</td>\n",
              "      <td>30.0</td>\n",
              "      <td>0</td>\n",
              "      <td>0</td>\n",
              "      <td>113798</td>\n",
              "      <td>31.0000</td>\n",
              "      <td>C</td>\n",
              "      <td>0</td>\n",
              "      <td>1</td>\n",
              "      <td>8</td>\n",
              "    </tr>\n",
              "  </tbody>\n",
              "</table>\n",
              "</div>"
            ],
            "text/plain": [
              "     Survived  Pclass  ... not_alone Deck\n",
              "773         0       3  ...         1    8\n",
              "408         0       3  ...         1    8\n",
              "216         1       3  ...         1    8\n",
              "852         0       3  ...         0    8\n",
              "842         1       1  ...         1    8\n",
              "\n",
              "[5 rows x 13 columns]"
            ]
          },
          "metadata": {
            "tags": []
          },
          "execution_count": 33
        }
      ]
    },
    {
      "cell_type": "code",
      "metadata": {
        "colab": {
          "base_uri": "https://localhost:8080/",
          "height": 204
        },
        "id": "bvQhxGd7Q1CE",
        "outputId": "3c44046a-0082-407f-9243-b293a14f3fff"
      },
      "source": [
        "test.head()"
      ],
      "execution_count": 34,
      "outputs": [
        {
          "output_type": "execute_result",
          "data": {
            "text/html": [
              "<div>\n",
              "<style scoped>\n",
              "    .dataframe tbody tr th:only-of-type {\n",
              "        vertical-align: middle;\n",
              "    }\n",
              "\n",
              "    .dataframe tbody tr th {\n",
              "        vertical-align: top;\n",
              "    }\n",
              "\n",
              "    .dataframe thead th {\n",
              "        text-align: right;\n",
              "    }\n",
              "</style>\n",
              "<table border=\"1\" class=\"dataframe\">\n",
              "  <thead>\n",
              "    <tr style=\"text-align: right;\">\n",
              "      <th></th>\n",
              "      <th>Survived</th>\n",
              "      <th>Pclass</th>\n",
              "      <th>Name</th>\n",
              "      <th>Sex</th>\n",
              "      <th>Age</th>\n",
              "      <th>SibSp</th>\n",
              "      <th>Parch</th>\n",
              "      <th>Ticket</th>\n",
              "      <th>Fare</th>\n",
              "      <th>Embarked</th>\n",
              "      <th>relatives</th>\n",
              "      <th>not_alone</th>\n",
              "      <th>Deck</th>\n",
              "    </tr>\n",
              "  </thead>\n",
              "  <tbody>\n",
              "    <tr>\n",
              "      <th>59</th>\n",
              "      <td>0</td>\n",
              "      <td>3</td>\n",
              "      <td>Goodwin, Master. William Frederick</td>\n",
              "      <td>male</td>\n",
              "      <td>11.0</td>\n",
              "      <td>5</td>\n",
              "      <td>2</td>\n",
              "      <td>CA 2144</td>\n",
              "      <td>46.9000</td>\n",
              "      <td>S</td>\n",
              "      <td>7</td>\n",
              "      <td>0</td>\n",
              "      <td>8</td>\n",
              "    </tr>\n",
              "    <tr>\n",
              "      <th>861</th>\n",
              "      <td>0</td>\n",
              "      <td>2</td>\n",
              "      <td>Giles, Mr. Frederick Edward</td>\n",
              "      <td>male</td>\n",
              "      <td>21.0</td>\n",
              "      <td>1</td>\n",
              "      <td>0</td>\n",
              "      <td>28134</td>\n",
              "      <td>11.5000</td>\n",
              "      <td>S</td>\n",
              "      <td>1</td>\n",
              "      <td>0</td>\n",
              "      <td>8</td>\n",
              "    </tr>\n",
              "    <tr>\n",
              "      <th>546</th>\n",
              "      <td>1</td>\n",
              "      <td>2</td>\n",
              "      <td>Beane, Mrs. Edward (Ethel Clarke)</td>\n",
              "      <td>female</td>\n",
              "      <td>19.0</td>\n",
              "      <td>1</td>\n",
              "      <td>0</td>\n",
              "      <td>2908</td>\n",
              "      <td>26.0000</td>\n",
              "      <td>S</td>\n",
              "      <td>1</td>\n",
              "      <td>0</td>\n",
              "      <td>8</td>\n",
              "    </tr>\n",
              "    <tr>\n",
              "      <th>367</th>\n",
              "      <td>1</td>\n",
              "      <td>3</td>\n",
              "      <td>Moussa, Mrs. (Mantoura Boulos)</td>\n",
              "      <td>female</td>\n",
              "      <td>NaN</td>\n",
              "      <td>0</td>\n",
              "      <td>0</td>\n",
              "      <td>2626</td>\n",
              "      <td>7.2292</td>\n",
              "      <td>C</td>\n",
              "      <td>0</td>\n",
              "      <td>1</td>\n",
              "      <td>8</td>\n",
              "    </tr>\n",
              "    <tr>\n",
              "      <th>397</th>\n",
              "      <td>0</td>\n",
              "      <td>2</td>\n",
              "      <td>McKane, Mr. Peter David</td>\n",
              "      <td>male</td>\n",
              "      <td>46.0</td>\n",
              "      <td>0</td>\n",
              "      <td>0</td>\n",
              "      <td>28403</td>\n",
              "      <td>26.0000</td>\n",
              "      <td>S</td>\n",
              "      <td>0</td>\n",
              "      <td>1</td>\n",
              "      <td>8</td>\n",
              "    </tr>\n",
              "  </tbody>\n",
              "</table>\n",
              "</div>"
            ],
            "text/plain": [
              "     Survived  Pclass  ... not_alone Deck\n",
              "59          0       3  ...         0    8\n",
              "861         0       2  ...         0    8\n",
              "546         1       2  ...         0    8\n",
              "367         1       3  ...         1    8\n",
              "397         0       2  ...         1    8\n",
              "\n",
              "[5 rows x 13 columns]"
            ]
          },
          "metadata": {
            "tags": []
          },
          "execution_count": 34
        }
      ]
    },
    {
      "cell_type": "markdown",
      "metadata": {
        "id": "ReUTLE9eLN8w"
      },
      "source": [
        "**AGE**"
      ]
    },
    {
      "cell_type": "markdown",
      "metadata": {
        "id": "wQXpSd0vtDwE"
      },
      "source": [
        "Now we can tackle the issue with the age features missing values. I will create an array that contains random numbers, which are computed based on the mean age value in regards to the standard deviation and is_null."
      ]
    },
    {
      "cell_type": "code",
      "metadata": {
        "colab": {
          "base_uri": "https://localhost:8080/"
        },
        "id": "T5MEKvryLDpp",
        "outputId": "5674dbe1-93b0-4bbf-dc3c-ed404664607f"
      },
      "source": [
        "data = [train, test]\n",
        "\n",
        "for dataset in data:\n",
        "    mean = train[\"Age\"].mean()\n",
        "    std = train[\"Age\"].std()\n",
        "    is_null = dataset[\"Age\"].isnull().sum()\n",
        "    # compute random numbers between the mean, std and is_null\n",
        "    rand_age = np.random.randint(mean - std, mean + std, size = is_null)\n",
        "    # fill NaN values in Age column with random values generated\n",
        "    age_slice = dataset[\"Age\"].copy()\n",
        "    age_slice[np.isnan(age_slice)] = rand_age\n",
        "    dataset[\"Age\"] = age_slice\n",
        "    dataset[\"Age\"] = dataset[\"Age\"].astype(int)\n",
        "train[\"Age\"].isnull().sum()"
      ],
      "execution_count": 35,
      "outputs": [
        {
          "output_type": "execute_result",
          "data": {
            "text/plain": [
              "0"
            ]
          },
          "metadata": {
            "tags": []
          },
          "execution_count": 35
        }
      ]
    },
    {
      "cell_type": "markdown",
      "metadata": {
        "id": "bl7zooSJLRd6"
      },
      "source": [
        "**EMBARKED**"
      ]
    },
    {
      "cell_type": "markdown",
      "metadata": {
        "id": "w_eN9rNPLU_A"
      },
      "source": [
        "Since the Embarked feature has only 2 missing values, we will just fill these with the most common one"
      ]
    },
    {
      "cell_type": "code",
      "metadata": {
        "id": "2k-3ze1zLbgq"
      },
      "source": [
        "common_value = 'S'\n",
        "train['Embarked'] = train['Embarked'].fillna(common_value)\n",
        "test['Embarked'] = test['Embarked'].fillna(common_value)"
      ],
      "execution_count": 36,
      "outputs": []
    },
    {
      "cell_type": "code",
      "metadata": {
        "colab": {
          "base_uri": "https://localhost:8080/"
        },
        "id": "yP4rzrH4PsdW",
        "outputId": "296e26e7-8b99-4d68-c169-382ca5e96853"
      },
      "source": [
        "null=pd.DataFrame(train.isnull().sum().sort_values(ascending=False)[:3])\n",
        "print(null)"
      ],
      "execution_count": 37,
      "outputs": [
        {
          "output_type": "stream",
          "text": [
            "          0\n",
            "Survived  0\n",
            "Pclass    0\n",
            "Name      0\n"
          ],
          "name": "stdout"
        }
      ]
    },
    {
      "cell_type": "code",
      "metadata": {
        "colab": {
          "base_uri": "https://localhost:8080/"
        },
        "id": "qxfWIbb9RrEV",
        "outputId": "547dac68-46ba-4ce7-bcfe-70f11654967d"
      },
      "source": [
        "null=pd.DataFrame(test.isnull().sum().sort_values(ascending=False)[:3])\n",
        "print(null)"
      ],
      "execution_count": 38,
      "outputs": [
        {
          "output_type": "stream",
          "text": [
            "          0\n",
            "Survived  0\n",
            "Pclass    0\n",
            "Name      0\n"
          ],
          "name": "stdout"
        }
      ]
    },
    {
      "cell_type": "markdown",
      "metadata": {
        "id": "f029uLtbLkzI"
      },
      "source": [
        "**Converting Features**"
      ]
    },
    {
      "cell_type": "code",
      "metadata": {
        "colab": {
          "base_uri": "https://localhost:8080/"
        },
        "id": "ARqlWymVLhAk",
        "outputId": "38cea45c-2e2f-4883-a379-aa88b44257e0"
      },
      "source": [
        "train.dtypes"
      ],
      "execution_count": 39,
      "outputs": [
        {
          "output_type": "execute_result",
          "data": {
            "text/plain": [
              "Survived       int64\n",
              "Pclass         int64\n",
              "Name          object\n",
              "Sex           object\n",
              "Age            int64\n",
              "SibSp          int64\n",
              "Parch          int64\n",
              "Ticket        object\n",
              "Fare         float64\n",
              "Embarked      object\n",
              "relatives      int64\n",
              "not_alone      int64\n",
              "Deck           int64\n",
              "dtype: object"
            ]
          },
          "metadata": {
            "tags": []
          },
          "execution_count": 39
        }
      ]
    },
    {
      "cell_type": "markdown",
      "metadata": {
        "id": "sdh437OuL_q-"
      },
      "source": [
        "**Fare**"
      ]
    },
    {
      "cell_type": "markdown",
      "metadata": {
        "id": "N-Om1DUaMBA9"
      },
      "source": [
        "Converting “Fare” from float to int64, using the “astype()” function that pandas provides:\n"
      ]
    },
    {
      "cell_type": "code",
      "metadata": {
        "id": "P17AD0bNMBhp"
      },
      "source": [
        "data = [train, test]\n",
        "\n",
        "for dataset in data:\n",
        "    dataset['Fare'] = dataset['Fare'].fillna(0)\n",
        "    dataset['Fare'] = dataset['Fare'].astype(int)"
      ],
      "execution_count": 40,
      "outputs": []
    },
    {
      "cell_type": "markdown",
      "metadata": {
        "id": "BsniNTiaMFQ-"
      },
      "source": [
        "**Name**"
      ]
    },
    {
      "cell_type": "markdown",
      "metadata": {
        "id": "al8no0goMIUz"
      },
      "source": [
        "We will use the Name feature to extract the Titles from the Name, so that we can build a new feature out of that"
      ]
    },
    {
      "cell_type": "code",
      "metadata": {
        "id": "ADNwSwvyMJvx"
      },
      "source": [
        "data = [train, test]\n",
        "titles = {\"Mr\": 1, \"Miss\": 2, \"Mrs\": 3, \"Master\": 4, \"Rare\": 5}\n",
        "\n",
        "for dataset in data:\n",
        "    # extract titles\n",
        "    dataset['Title'] = dataset.Name.str.extract(' ([A-Za-z]+)\\.', expand=False)\n",
        "    # replace titles with a more common title or as Rare\n",
        "    dataset['Title'] = dataset['Title'].replace(['Lady', 'Countess','Capt', 'Col','Don', 'Dr',\\\n",
        "                                            'Major', 'Rev', 'Sir', 'Jonkheer', 'Dona'], 'Rare')\n",
        "    dataset['Title'] = dataset['Title'].replace('Mlle', 'Miss')\n",
        "    dataset['Title'] = dataset['Title'].replace('Ms', 'Miss')\n",
        "    dataset['Title'] = dataset['Title'].replace('Mme', 'Mrs')\n",
        "    # convert titles into numbers\n",
        "    dataset['Title'] = dataset['Title'].map(titles)\n",
        "    # filling NaN with 0, to get safe\n",
        "    dataset['Title'] = dataset['Title'].fillna(0)\n",
        "train = train.drop(['Name'], axis=1)\n",
        "test = test.drop(['Name'], axis=1)"
      ],
      "execution_count": 41,
      "outputs": []
    },
    {
      "cell_type": "markdown",
      "metadata": {
        "id": "7B1-xxIKMPy1"
      },
      "source": [
        "**Sex**"
      ]
    },
    {
      "cell_type": "markdown",
      "metadata": {
        "id": "ji54FOZpMRD6"
      },
      "source": [
        "Convert ‘Sex’ feature into numeric.\n"
      ]
    },
    {
      "cell_type": "code",
      "metadata": {
        "id": "MJ5YdinlMRqC"
      },
      "source": [
        "genders = {\"male\": 0, \"female\": 1}\n",
        "data = [train, test]\n",
        "\n",
        "for dataset in data:\n",
        "    dataset['Sex'] = dataset['Sex'].map(genders)"
      ],
      "execution_count": 42,
      "outputs": []
    },
    {
      "cell_type": "markdown",
      "metadata": {
        "id": "cgOpljtKMVhn"
      },
      "source": [
        "**Ticket**"
      ]
    },
    {
      "cell_type": "code",
      "metadata": {
        "colab": {
          "base_uri": "https://localhost:8080/"
        },
        "id": "zrKSOjy_MZWE",
        "outputId": "80c2c171-5128-4fba-ae80-3c0612ca4c6b"
      },
      "source": [
        "train['Ticket'].describe()\n"
      ],
      "execution_count": 43,
      "outputs": [
        {
          "output_type": "execute_result",
          "data": {
            "text/plain": [
              "count        712\n",
              "unique       572\n",
              "top       347082\n",
              "freq           7\n",
              "Name: Ticket, dtype: object"
            ]
          },
          "metadata": {
            "tags": []
          },
          "execution_count": 43
        }
      ]
    },
    {
      "cell_type": "markdown",
      "metadata": {
        "id": "465U-ysqMcte"
      },
      "source": [
        "Since the Ticket attribute has 681 unique tickets, it will be a bit tricky to convert them into useful categories. So we will drop it from the dataset."
      ]
    },
    {
      "cell_type": "code",
      "metadata": {
        "id": "AXYqQ5S-MeuG"
      },
      "source": [
        "train = train.drop(['Ticket'], axis=1)\n",
        "test = test.drop(['Ticket'], axis=1)"
      ],
      "execution_count": 44,
      "outputs": []
    },
    {
      "cell_type": "markdown",
      "metadata": {
        "id": "1TdhF5cSMjNQ"
      },
      "source": [
        "**Embarked**"
      ]
    },
    {
      "cell_type": "markdown",
      "metadata": {
        "id": "lvVGem-TMlGe"
      },
      "source": [
        "Convert ‘Embarked’ feature into numeric.\n"
      ]
    },
    {
      "cell_type": "code",
      "metadata": {
        "id": "wxzYT8o5Mmdb"
      },
      "source": [
        "ports = {\"S\": 0, \"C\": 1, \"Q\": 2}\n",
        "data = [train, test]\n",
        "\n",
        "for dataset in data:\n",
        "    dataset['Embarked'] = dataset['Embarked'].map(ports)"
      ],
      "execution_count": 45,
      "outputs": []
    },
    {
      "cell_type": "markdown",
      "metadata": {
        "id": "dWRlSahgMp2-"
      },
      "source": [
        "**Creating Categories**"
      ]
    },
    {
      "cell_type": "markdown",
      "metadata": {
        "id": "DO5-CbmxMtYP"
      },
      "source": [
        "**Age**"
      ]
    },
    {
      "cell_type": "markdown",
      "metadata": {
        "id": "Ph7CpX2WMyyn"
      },
      "source": [
        "Now we need to convert the age feature. First we will convert it from float into integer. Then we will create the new ‘AgeGroup” variable, by categorizing every age into a group."
      ]
    },
    {
      "cell_type": "code",
      "metadata": {
        "id": "RD1Lh_WgMyMe"
      },
      "source": [
        "age_slice, bins = pd.qcut(train['Age'], 10, retbins=True)\n",
        "train['Age'] = age_slice"
      ],
      "execution_count": 46,
      "outputs": []
    },
    {
      "cell_type": "code",
      "metadata": {
        "id": "Nhgwvhu-NY_-"
      },
      "source": [
        "test['Age'] = pd.cut(test[\"Age\"], bins=bins)"
      ],
      "execution_count": 47,
      "outputs": []
    },
    {
      "cell_type": "code",
      "metadata": {
        "id": "WQ_DxqkVOXvs"
      },
      "source": [
        "data = [train, test]\n",
        "for dataset in data:\n",
        "  dataset['Age'] = LabelEncoder().fit_transform(dataset['Age'])"
      ],
      "execution_count": 48,
      "outputs": []
    },
    {
      "cell_type": "code",
      "metadata": {
        "colab": {
          "base_uri": "https://localhost:8080/"
        },
        "id": "W3KF8JAgN3fl",
        "outputId": "ba80e87d-855b-4c56-9dec-3baa8dbe3480"
      },
      "source": [
        "train['Age'].value_counts()"
      ],
      "execution_count": 49,
      "outputs": [
        {
          "output_type": "execute_result",
          "data": {
            "text/plain": [
              "1    89\n",
              "0    75\n",
              "6    74\n",
              "3    72\n",
              "8    70\n",
              "9    70\n",
              "7    69\n",
              "2    66\n",
              "4    66\n",
              "5    61\n",
              "Name: Age, dtype: int64"
            ]
          },
          "metadata": {
            "tags": []
          },
          "execution_count": 49
        }
      ]
    },
    {
      "cell_type": "code",
      "metadata": {
        "colab": {
          "base_uri": "https://localhost:8080/"
        },
        "id": "0GgH24hRKoM0",
        "outputId": "f0d13adc-702b-4615-b179-7e710322dac5"
      },
      "source": [
        "test['Age'].value_counts()"
      ],
      "execution_count": 50,
      "outputs": [
        {
          "output_type": "execute_result",
          "data": {
            "text/plain": [
              "9     30\n",
              "1     22\n",
              "5     22\n",
              "7     19\n",
              "2     18\n",
              "3     17\n",
              "6     15\n",
              "4     12\n",
              "0     11\n",
              "8     10\n",
              "10     3\n",
              "Name: Age, dtype: int64"
            ]
          },
          "metadata": {
            "tags": []
          },
          "execution_count": 50
        }
      ]
    },
    {
      "cell_type": "code",
      "metadata": {
        "colab": {
          "base_uri": "https://localhost:8080/",
          "height": 204
        },
        "id": "EnZb3u0FOB4a",
        "outputId": "7d45e1dd-c9eb-49dd-9391-40bbe76b7dfa"
      },
      "source": [
        "train.head()"
      ],
      "execution_count": 51,
      "outputs": [
        {
          "output_type": "execute_result",
          "data": {
            "text/html": [
              "<div>\n",
              "<style scoped>\n",
              "    .dataframe tbody tr th:only-of-type {\n",
              "        vertical-align: middle;\n",
              "    }\n",
              "\n",
              "    .dataframe tbody tr th {\n",
              "        vertical-align: top;\n",
              "    }\n",
              "\n",
              "    .dataframe thead th {\n",
              "        text-align: right;\n",
              "    }\n",
              "</style>\n",
              "<table border=\"1\" class=\"dataframe\">\n",
              "  <thead>\n",
              "    <tr style=\"text-align: right;\">\n",
              "      <th></th>\n",
              "      <th>Survived</th>\n",
              "      <th>Pclass</th>\n",
              "      <th>Sex</th>\n",
              "      <th>Age</th>\n",
              "      <th>SibSp</th>\n",
              "      <th>Parch</th>\n",
              "      <th>Fare</th>\n",
              "      <th>Embarked</th>\n",
              "      <th>relatives</th>\n",
              "      <th>not_alone</th>\n",
              "      <th>Deck</th>\n",
              "      <th>Title</th>\n",
              "    </tr>\n",
              "  </thead>\n",
              "  <tbody>\n",
              "    <tr>\n",
              "      <th>773</th>\n",
              "      <td>0</td>\n",
              "      <td>3</td>\n",
              "      <td>0</td>\n",
              "      <td>4</td>\n",
              "      <td>0</td>\n",
              "      <td>0</td>\n",
              "      <td>7</td>\n",
              "      <td>1</td>\n",
              "      <td>0</td>\n",
              "      <td>1</td>\n",
              "      <td>8</td>\n",
              "      <td>1</td>\n",
              "    </tr>\n",
              "    <tr>\n",
              "      <th>408</th>\n",
              "      <td>0</td>\n",
              "      <td>3</td>\n",
              "      <td>0</td>\n",
              "      <td>2</td>\n",
              "      <td>0</td>\n",
              "      <td>0</td>\n",
              "      <td>7</td>\n",
              "      <td>0</td>\n",
              "      <td>0</td>\n",
              "      <td>1</td>\n",
              "      <td>8</td>\n",
              "      <td>1</td>\n",
              "    </tr>\n",
              "    <tr>\n",
              "      <th>216</th>\n",
              "      <td>1</td>\n",
              "      <td>3</td>\n",
              "      <td>1</td>\n",
              "      <td>4</td>\n",
              "      <td>0</td>\n",
              "      <td>0</td>\n",
              "      <td>7</td>\n",
              "      <td>0</td>\n",
              "      <td>0</td>\n",
              "      <td>1</td>\n",
              "      <td>8</td>\n",
              "      <td>2</td>\n",
              "    </tr>\n",
              "    <tr>\n",
              "      <th>852</th>\n",
              "      <td>0</td>\n",
              "      <td>3</td>\n",
              "      <td>1</td>\n",
              "      <td>0</td>\n",
              "      <td>1</td>\n",
              "      <td>1</td>\n",
              "      <td>15</td>\n",
              "      <td>1</td>\n",
              "      <td>2</td>\n",
              "      <td>0</td>\n",
              "      <td>8</td>\n",
              "      <td>2</td>\n",
              "    </tr>\n",
              "    <tr>\n",
              "      <th>842</th>\n",
              "      <td>1</td>\n",
              "      <td>1</td>\n",
              "      <td>1</td>\n",
              "      <td>5</td>\n",
              "      <td>0</td>\n",
              "      <td>0</td>\n",
              "      <td>31</td>\n",
              "      <td>1</td>\n",
              "      <td>0</td>\n",
              "      <td>1</td>\n",
              "      <td>8</td>\n",
              "      <td>2</td>\n",
              "    </tr>\n",
              "  </tbody>\n",
              "</table>\n",
              "</div>"
            ],
            "text/plain": [
              "     Survived  Pclass  Sex  Age  ...  relatives  not_alone  Deck  Title\n",
              "773         0       3    0    4  ...          0          1     8      1\n",
              "408         0       3    0    2  ...          0          1     8      1\n",
              "216         1       3    1    4  ...          0          1     8      2\n",
              "852         0       3    1    0  ...          2          0     8      2\n",
              "842         1       1    1    5  ...          0          1     8      2\n",
              "\n",
              "[5 rows x 12 columns]"
            ]
          },
          "metadata": {
            "tags": []
          },
          "execution_count": 51
        }
      ]
    },
    {
      "cell_type": "code",
      "metadata": {
        "colab": {
          "base_uri": "https://localhost:8080/",
          "height": 204
        },
        "id": "Tt_Hzuh2ORSS",
        "outputId": "5c67cf49-5075-48ce-8201-1d72cc1c0c52"
      },
      "source": [
        "test.head()"
      ],
      "execution_count": 52,
      "outputs": [
        {
          "output_type": "execute_result",
          "data": {
            "text/html": [
              "<div>\n",
              "<style scoped>\n",
              "    .dataframe tbody tr th:only-of-type {\n",
              "        vertical-align: middle;\n",
              "    }\n",
              "\n",
              "    .dataframe tbody tr th {\n",
              "        vertical-align: top;\n",
              "    }\n",
              "\n",
              "    .dataframe thead th {\n",
              "        text-align: right;\n",
              "    }\n",
              "</style>\n",
              "<table border=\"1\" class=\"dataframe\">\n",
              "  <thead>\n",
              "    <tr style=\"text-align: right;\">\n",
              "      <th></th>\n",
              "      <th>Survived</th>\n",
              "      <th>Pclass</th>\n",
              "      <th>Sex</th>\n",
              "      <th>Age</th>\n",
              "      <th>SibSp</th>\n",
              "      <th>Parch</th>\n",
              "      <th>Fare</th>\n",
              "      <th>Embarked</th>\n",
              "      <th>relatives</th>\n",
              "      <th>not_alone</th>\n",
              "      <th>Deck</th>\n",
              "      <th>Title</th>\n",
              "    </tr>\n",
              "  </thead>\n",
              "  <tbody>\n",
              "    <tr>\n",
              "      <th>59</th>\n",
              "      <td>0</td>\n",
              "      <td>3</td>\n",
              "      <td>0</td>\n",
              "      <td>0</td>\n",
              "      <td>5</td>\n",
              "      <td>2</td>\n",
              "      <td>46</td>\n",
              "      <td>0</td>\n",
              "      <td>7</td>\n",
              "      <td>0</td>\n",
              "      <td>8</td>\n",
              "      <td>4</td>\n",
              "    </tr>\n",
              "    <tr>\n",
              "      <th>861</th>\n",
              "      <td>0</td>\n",
              "      <td>2</td>\n",
              "      <td>0</td>\n",
              "      <td>2</td>\n",
              "      <td>1</td>\n",
              "      <td>0</td>\n",
              "      <td>11</td>\n",
              "      <td>0</td>\n",
              "      <td>1</td>\n",
              "      <td>0</td>\n",
              "      <td>8</td>\n",
              "      <td>1</td>\n",
              "    </tr>\n",
              "    <tr>\n",
              "      <th>546</th>\n",
              "      <td>1</td>\n",
              "      <td>2</td>\n",
              "      <td>1</td>\n",
              "      <td>1</td>\n",
              "      <td>1</td>\n",
              "      <td>0</td>\n",
              "      <td>26</td>\n",
              "      <td>0</td>\n",
              "      <td>1</td>\n",
              "      <td>0</td>\n",
              "      <td>8</td>\n",
              "      <td>3</td>\n",
              "    </tr>\n",
              "    <tr>\n",
              "      <th>367</th>\n",
              "      <td>1</td>\n",
              "      <td>3</td>\n",
              "      <td>1</td>\n",
              "      <td>5</td>\n",
              "      <td>0</td>\n",
              "      <td>0</td>\n",
              "      <td>7</td>\n",
              "      <td>1</td>\n",
              "      <td>0</td>\n",
              "      <td>1</td>\n",
              "      <td>8</td>\n",
              "      <td>3</td>\n",
              "    </tr>\n",
              "    <tr>\n",
              "      <th>397</th>\n",
              "      <td>0</td>\n",
              "      <td>2</td>\n",
              "      <td>0</td>\n",
              "      <td>9</td>\n",
              "      <td>0</td>\n",
              "      <td>0</td>\n",
              "      <td>26</td>\n",
              "      <td>0</td>\n",
              "      <td>0</td>\n",
              "      <td>1</td>\n",
              "      <td>8</td>\n",
              "      <td>1</td>\n",
              "    </tr>\n",
              "  </tbody>\n",
              "</table>\n",
              "</div>"
            ],
            "text/plain": [
              "     Survived  Pclass  Sex  Age  ...  relatives  not_alone  Deck  Title\n",
              "59          0       3    0    0  ...          7          0     8      4\n",
              "861         0       2    0    2  ...          1          0     8      1\n",
              "546         1       2    1    1  ...          1          0     8      3\n",
              "367         1       3    1    5  ...          0          1     8      3\n",
              "397         0       2    0    9  ...          0          1     8      1\n",
              "\n",
              "[5 rows x 12 columns]"
            ]
          },
          "metadata": {
            "tags": []
          },
          "execution_count": 52
        }
      ]
    },
    {
      "cell_type": "markdown",
      "metadata": {
        "id": "nCcaBPRMPM_v"
      },
      "source": [
        "**Fare**"
      ]
    },
    {
      "cell_type": "markdown",
      "metadata": {
        "id": "F1B8L2RWPXM1"
      },
      "source": [
        "For the Fare feature, we need to do the same as with the ‘Age’ feature."
      ]
    },
    {
      "cell_type": "code",
      "metadata": {
        "id": "zoYN6AWhPRHX"
      },
      "source": [
        "fare_slice, bins = pd.qcut(train['Fare'], 6, retbins=True)\n",
        "train['Fare'] = fare_slice"
      ],
      "execution_count": 53,
      "outputs": []
    },
    {
      "cell_type": "code",
      "metadata": {
        "id": "LmixAOMWN6sV"
      },
      "source": [
        "test['Fare'] = pd.cut(test[\"Fare\"], bins=bins)"
      ],
      "execution_count": 54,
      "outputs": []
    },
    {
      "cell_type": "code",
      "metadata": {
        "colab": {
          "base_uri": "https://localhost:8080/"
        },
        "id": "80QieIZPOVzV",
        "outputId": "8b1575a9-791e-480e-f6d5-988a09319cad"
      },
      "source": [
        "train['Fare'].value_counts()"
      ],
      "execution_count": 55,
      "outputs": [
        {
          "output_type": "execute_result",
          "data": {
            "text/plain": [
              "(-0.001, 7.0]    199\n",
              "(14.0, 26.0]     136\n",
              "(49.5, 512.0]    119\n",
              "(8.0, 14.0]      117\n",
              "(26.0, 49.5]      91\n",
              "(7.0, 8.0]        50\n",
              "Name: Fare, dtype: int64"
            ]
          },
          "metadata": {
            "tags": []
          },
          "execution_count": 55
        }
      ]
    },
    {
      "cell_type": "code",
      "metadata": {
        "colab": {
          "base_uri": "https://localhost:8080/"
        },
        "id": "sfBse4zHOW-B",
        "outputId": "f08a8f45-f786-46d6-bce7-578b9dd63111"
      },
      "source": [
        "test['Fare'].value_counts()"
      ],
      "execution_count": 56,
      "outputs": [
        {
          "output_type": "execute_result",
          "data": {
            "text/plain": [
              "(49.5, 512.0]    42\n",
              "(0.0, 7.0]       41\n",
              "(8.0, 14.0]      29\n",
              "(14.0, 26.0]     29\n",
              "(7.0, 8.0]       20\n",
              "(26.0, 49.5]     17\n",
              "Name: Fare, dtype: int64"
            ]
          },
          "metadata": {
            "tags": []
          },
          "execution_count": 56
        }
      ]
    },
    {
      "cell_type": "code",
      "metadata": {
        "id": "lQvArEJZQKAx"
      },
      "source": [
        "data = [train, test]\n",
        "for dataset in data:\n",
        "  dataset['Fare'] = LabelEncoder().fit_transform(dataset['Fare'])"
      ],
      "execution_count": 57,
      "outputs": []
    },
    {
      "cell_type": "code",
      "metadata": {
        "colab": {
          "base_uri": "https://localhost:8080/"
        },
        "id": "4jDW-rlZQMmd",
        "outputId": "a662e49c-1978-4708-b815-a82bfd6b9eb2"
      },
      "source": [
        "train['Fare'].value_counts()"
      ],
      "execution_count": 59,
      "outputs": [
        {
          "output_type": "execute_result",
          "data": {
            "text/plain": [
              "0    199\n",
              "3    136\n",
              "5    119\n",
              "2    117\n",
              "4     91\n",
              "1     50\n",
              "Name: Fare, dtype: int64"
            ]
          },
          "metadata": {
            "tags": []
          },
          "execution_count": 59
        }
      ]
    },
    {
      "cell_type": "code",
      "metadata": {
        "colab": {
          "base_uri": "https://localhost:8080/"
        },
        "id": "OTAcLSi2OZXG",
        "outputId": "016e56f0-0c65-40a5-8586-94116b686c98"
      },
      "source": [
        "test['Fare'].value_counts()"
      ],
      "execution_count": 60,
      "outputs": [
        {
          "output_type": "execute_result",
          "data": {
            "text/plain": [
              "5    42\n",
              "0    41\n",
              "2    29\n",
              "3    29\n",
              "1    20\n",
              "4    17\n",
              "6     1\n",
              "Name: Fare, dtype: int64"
            ]
          },
          "metadata": {
            "tags": []
          },
          "execution_count": 60
        }
      ]
    },
    {
      "cell_type": "code",
      "metadata": {
        "colab": {
          "base_uri": "https://localhost:8080/",
          "height": 204
        },
        "id": "yWTLKWolQWZO",
        "outputId": "01717f75-fe70-4531-ffaa-3c556ad9f9d6"
      },
      "source": [
        "train.head()"
      ],
      "execution_count": 61,
      "outputs": [
        {
          "output_type": "execute_result",
          "data": {
            "text/html": [
              "<div>\n",
              "<style scoped>\n",
              "    .dataframe tbody tr th:only-of-type {\n",
              "        vertical-align: middle;\n",
              "    }\n",
              "\n",
              "    .dataframe tbody tr th {\n",
              "        vertical-align: top;\n",
              "    }\n",
              "\n",
              "    .dataframe thead th {\n",
              "        text-align: right;\n",
              "    }\n",
              "</style>\n",
              "<table border=\"1\" class=\"dataframe\">\n",
              "  <thead>\n",
              "    <tr style=\"text-align: right;\">\n",
              "      <th></th>\n",
              "      <th>Survived</th>\n",
              "      <th>Pclass</th>\n",
              "      <th>Sex</th>\n",
              "      <th>Age</th>\n",
              "      <th>SibSp</th>\n",
              "      <th>Parch</th>\n",
              "      <th>Fare</th>\n",
              "      <th>Embarked</th>\n",
              "      <th>relatives</th>\n",
              "      <th>not_alone</th>\n",
              "      <th>Deck</th>\n",
              "      <th>Title</th>\n",
              "    </tr>\n",
              "  </thead>\n",
              "  <tbody>\n",
              "    <tr>\n",
              "      <th>773</th>\n",
              "      <td>0</td>\n",
              "      <td>3</td>\n",
              "      <td>0</td>\n",
              "      <td>4</td>\n",
              "      <td>0</td>\n",
              "      <td>0</td>\n",
              "      <td>0</td>\n",
              "      <td>1</td>\n",
              "      <td>0</td>\n",
              "      <td>1</td>\n",
              "      <td>8</td>\n",
              "      <td>1</td>\n",
              "    </tr>\n",
              "    <tr>\n",
              "      <th>408</th>\n",
              "      <td>0</td>\n",
              "      <td>3</td>\n",
              "      <td>0</td>\n",
              "      <td>2</td>\n",
              "      <td>0</td>\n",
              "      <td>0</td>\n",
              "      <td>0</td>\n",
              "      <td>0</td>\n",
              "      <td>0</td>\n",
              "      <td>1</td>\n",
              "      <td>8</td>\n",
              "      <td>1</td>\n",
              "    </tr>\n",
              "    <tr>\n",
              "      <th>216</th>\n",
              "      <td>1</td>\n",
              "      <td>3</td>\n",
              "      <td>1</td>\n",
              "      <td>4</td>\n",
              "      <td>0</td>\n",
              "      <td>0</td>\n",
              "      <td>0</td>\n",
              "      <td>0</td>\n",
              "      <td>0</td>\n",
              "      <td>1</td>\n",
              "      <td>8</td>\n",
              "      <td>2</td>\n",
              "    </tr>\n",
              "    <tr>\n",
              "      <th>852</th>\n",
              "      <td>0</td>\n",
              "      <td>3</td>\n",
              "      <td>1</td>\n",
              "      <td>0</td>\n",
              "      <td>1</td>\n",
              "      <td>1</td>\n",
              "      <td>3</td>\n",
              "      <td>1</td>\n",
              "      <td>2</td>\n",
              "      <td>0</td>\n",
              "      <td>8</td>\n",
              "      <td>2</td>\n",
              "    </tr>\n",
              "    <tr>\n",
              "      <th>842</th>\n",
              "      <td>1</td>\n",
              "      <td>1</td>\n",
              "      <td>1</td>\n",
              "      <td>5</td>\n",
              "      <td>0</td>\n",
              "      <td>0</td>\n",
              "      <td>4</td>\n",
              "      <td>1</td>\n",
              "      <td>0</td>\n",
              "      <td>1</td>\n",
              "      <td>8</td>\n",
              "      <td>2</td>\n",
              "    </tr>\n",
              "  </tbody>\n",
              "</table>\n",
              "</div>"
            ],
            "text/plain": [
              "     Survived  Pclass  Sex  Age  ...  relatives  not_alone  Deck  Title\n",
              "773         0       3    0    4  ...          0          1     8      1\n",
              "408         0       3    0    2  ...          0          1     8      1\n",
              "216         1       3    1    4  ...          0          1     8      2\n",
              "852         0       3    1    0  ...          2          0     8      2\n",
              "842         1       1    1    5  ...          0          1     8      2\n",
              "\n",
              "[5 rows x 12 columns]"
            ]
          },
          "metadata": {
            "tags": []
          },
          "execution_count": 61
        }
      ]
    },
    {
      "cell_type": "code",
      "metadata": {
        "colab": {
          "base_uri": "https://localhost:8080/",
          "height": 204
        },
        "id": "2UXeQT0KQZII",
        "outputId": "84070d84-9333-4929-f251-92ee4cdbc433"
      },
      "source": [
        "test.head()"
      ],
      "execution_count": 62,
      "outputs": [
        {
          "output_type": "execute_result",
          "data": {
            "text/html": [
              "<div>\n",
              "<style scoped>\n",
              "    .dataframe tbody tr th:only-of-type {\n",
              "        vertical-align: middle;\n",
              "    }\n",
              "\n",
              "    .dataframe tbody tr th {\n",
              "        vertical-align: top;\n",
              "    }\n",
              "\n",
              "    .dataframe thead th {\n",
              "        text-align: right;\n",
              "    }\n",
              "</style>\n",
              "<table border=\"1\" class=\"dataframe\">\n",
              "  <thead>\n",
              "    <tr style=\"text-align: right;\">\n",
              "      <th></th>\n",
              "      <th>Survived</th>\n",
              "      <th>Pclass</th>\n",
              "      <th>Sex</th>\n",
              "      <th>Age</th>\n",
              "      <th>SibSp</th>\n",
              "      <th>Parch</th>\n",
              "      <th>Fare</th>\n",
              "      <th>Embarked</th>\n",
              "      <th>relatives</th>\n",
              "      <th>not_alone</th>\n",
              "      <th>Deck</th>\n",
              "      <th>Title</th>\n",
              "    </tr>\n",
              "  </thead>\n",
              "  <tbody>\n",
              "    <tr>\n",
              "      <th>59</th>\n",
              "      <td>0</td>\n",
              "      <td>3</td>\n",
              "      <td>0</td>\n",
              "      <td>0</td>\n",
              "      <td>5</td>\n",
              "      <td>2</td>\n",
              "      <td>4</td>\n",
              "      <td>0</td>\n",
              "      <td>7</td>\n",
              "      <td>0</td>\n",
              "      <td>8</td>\n",
              "      <td>4</td>\n",
              "    </tr>\n",
              "    <tr>\n",
              "      <th>861</th>\n",
              "      <td>0</td>\n",
              "      <td>2</td>\n",
              "      <td>0</td>\n",
              "      <td>2</td>\n",
              "      <td>1</td>\n",
              "      <td>0</td>\n",
              "      <td>2</td>\n",
              "      <td>0</td>\n",
              "      <td>1</td>\n",
              "      <td>0</td>\n",
              "      <td>8</td>\n",
              "      <td>1</td>\n",
              "    </tr>\n",
              "    <tr>\n",
              "      <th>546</th>\n",
              "      <td>1</td>\n",
              "      <td>2</td>\n",
              "      <td>1</td>\n",
              "      <td>1</td>\n",
              "      <td>1</td>\n",
              "      <td>0</td>\n",
              "      <td>3</td>\n",
              "      <td>0</td>\n",
              "      <td>1</td>\n",
              "      <td>0</td>\n",
              "      <td>8</td>\n",
              "      <td>3</td>\n",
              "    </tr>\n",
              "    <tr>\n",
              "      <th>367</th>\n",
              "      <td>1</td>\n",
              "      <td>3</td>\n",
              "      <td>1</td>\n",
              "      <td>5</td>\n",
              "      <td>0</td>\n",
              "      <td>0</td>\n",
              "      <td>0</td>\n",
              "      <td>1</td>\n",
              "      <td>0</td>\n",
              "      <td>1</td>\n",
              "      <td>8</td>\n",
              "      <td>3</td>\n",
              "    </tr>\n",
              "    <tr>\n",
              "      <th>397</th>\n",
              "      <td>0</td>\n",
              "      <td>2</td>\n",
              "      <td>0</td>\n",
              "      <td>9</td>\n",
              "      <td>0</td>\n",
              "      <td>0</td>\n",
              "      <td>3</td>\n",
              "      <td>0</td>\n",
              "      <td>0</td>\n",
              "      <td>1</td>\n",
              "      <td>8</td>\n",
              "      <td>1</td>\n",
              "    </tr>\n",
              "  </tbody>\n",
              "</table>\n",
              "</div>"
            ],
            "text/plain": [
              "     Survived  Pclass  Sex  Age  ...  relatives  not_alone  Deck  Title\n",
              "59          0       3    0    0  ...          7          0     8      4\n",
              "861         0       2    0    2  ...          1          0     8      1\n",
              "546         1       2    1    1  ...          1          0     8      3\n",
              "367         1       3    1    5  ...          0          1     8      3\n",
              "397         0       2    0    9  ...          0          1     8      1\n",
              "\n",
              "[5 rows x 12 columns]"
            ]
          },
          "metadata": {
            "tags": []
          },
          "execution_count": 62
        }
      ]
    },
    {
      "cell_type": "code",
      "metadata": {
        "id": "hVwiZiYdk4tt",
        "colab": {
          "base_uri": "https://localhost:8080/"
        },
        "outputId": "35b69d7a-bdb5-4e77-d2cc-6fe87013d479"
      },
      "source": [
        "train.dtypes"
      ],
      "execution_count": 63,
      "outputs": [
        {
          "output_type": "execute_result",
          "data": {
            "text/plain": [
              "Survived     int64\n",
              "Pclass       int64\n",
              "Sex          int64\n",
              "Age          int64\n",
              "SibSp        int64\n",
              "Parch        int64\n",
              "Fare         int64\n",
              "Embarked     int64\n",
              "relatives    int64\n",
              "not_alone    int64\n",
              "Deck         int64\n",
              "Title        int64\n",
              "dtype: object"
            ]
          },
          "metadata": {
            "tags": []
          },
          "execution_count": 63
        }
      ]
    },
    {
      "cell_type": "markdown",
      "metadata": {
        "id": "G1jAERcnQmFG"
      },
      "source": [
        "**Model**"
      ]
    },
    {
      "cell_type": "code",
      "metadata": {
        "id": "BLmfnqyO08Qm"
      },
      "source": [
        "def mean_absolute_percentage_error(y_true, y_pred):\n",
        "    y_true, y_pred = np.array(y_true), np.array(y_pred)\n",
        "    return np.mean(np.abs((y_true - y_pred) / y_true)) * 100"
      ],
      "execution_count": 64,
      "outputs": []
    },
    {
      "cell_type": "code",
      "metadata": {
        "id": "qAiNVQMrQsy3",
        "colab": {
          "base_uri": "https://localhost:8080/"
        },
        "outputId": "64197755-c4a9-455c-ad67-4f6dea4e6a44"
      },
      "source": [
        "X_train = train.drop(\"Survived\", axis=1)\n",
        "y_train = train[\"Survived\"]\n",
        "X_test  = test.drop(\"Survived\", axis=1)\n",
        "y_test = test[\"Survived\"]\n",
        "\n",
        "print(X_train.shape)\n",
        "print(X_test.shape)\n",
        "print(y_train.shape)\n",
        "print(y_test.shape)"
      ],
      "execution_count": 65,
      "outputs": [
        {
          "output_type": "stream",
          "text": [
            "(712, 11)\n",
            "(179, 11)\n",
            "(712,)\n",
            "(179,)\n"
          ],
          "name": "stdout"
        }
      ]
    },
    {
      "cell_type": "markdown",
      "metadata": {
        "id": "7SSnayfAuCpH"
      },
      "source": [
        "\n",
        "**Random Forest:**"
      ]
    },
    {
      "cell_type": "code",
      "metadata": {
        "id": "8Ky-ftnQQzoF",
        "colab": {
          "base_uri": "https://localhost:8080/"
        },
        "outputId": "0ff9c389-18c9-4bd8-c545-de5727f9d712"
      },
      "source": [
        "random_forest = RandomForestClassifier()\n",
        "random_forest.fit(X_train, y_train)\n",
        "\n",
        "y_pred = random_forest.predict(X_test)\n",
        "\n",
        "print(classification_report(y_test,y_pred))"
      ],
      "execution_count": 66,
      "outputs": [
        {
          "output_type": "stream",
          "text": [
            "              precision    recall  f1-score   support\n",
            "\n",
            "           0       0.81      0.94      0.87       110\n",
            "           1       0.87      0.65      0.74        69\n",
            "\n",
            "    accuracy                           0.83       179\n",
            "   macro avg       0.84      0.79      0.81       179\n",
            "weighted avg       0.83      0.83      0.82       179\n",
            "\n"
          ],
          "name": "stdout"
        }
      ]
    },
    {
      "cell_type": "markdown",
      "metadata": {
        "id": "DjiP231YuICv"
      },
      "source": [
        "**Logistic Regression:**\n"
      ]
    },
    {
      "cell_type": "code",
      "metadata": {
        "id": "B0BT23PdQ4-1",
        "colab": {
          "base_uri": "https://localhost:8080/"
        },
        "outputId": "2154e3d7-d75a-4a2d-93d4-5d14fd95ddce"
      },
      "source": [
        "logreg = LogisticRegression()\n",
        "logreg.fit(X_train, y_train)\n",
        "\n",
        "y_pred = logreg.predict(X_test)\n",
        "\n",
        "print(classification_report(y_test,y_pred))"
      ],
      "execution_count": 67,
      "outputs": [
        {
          "output_type": "stream",
          "text": [
            "              precision    recall  f1-score   support\n",
            "\n",
            "           0       0.82      0.84      0.83       110\n",
            "           1       0.73      0.71      0.72        69\n",
            "\n",
            "    accuracy                           0.79       179\n",
            "   macro avg       0.78      0.77      0.77       179\n",
            "weighted avg       0.79      0.79      0.79       179\n",
            "\n"
          ],
          "name": "stdout"
        }
      ]
    },
    {
      "cell_type": "markdown",
      "metadata": {
        "id": "KeXj2Ju3uOYU"
      },
      "source": [
        "**Perceptron:**"
      ]
    },
    {
      "cell_type": "code",
      "metadata": {
        "colab": {
          "base_uri": "https://localhost:8080/"
        },
        "id": "ywIWlVGuQ6nX",
        "outputId": "d8d6107c-9daf-4af5-9beb-a08e1e1debc6"
      },
      "source": [
        "perceptron = Perceptron()\n",
        "perceptron.fit(X_train, y_train)\n",
        "\n",
        "y_pred = perceptron.predict(X_test)\n",
        "\n",
        "print(classification_report(y_test,y_pred))"
      ],
      "execution_count": 68,
      "outputs": [
        {
          "output_type": "stream",
          "text": [
            "              precision    recall  f1-score   support\n",
            "\n",
            "           0       0.84      0.82      0.83       110\n",
            "           1       0.72      0.75      0.74        69\n",
            "\n",
            "    accuracy                           0.79       179\n",
            "   macro avg       0.78      0.79      0.78       179\n",
            "weighted avg       0.80      0.79      0.79       179\n",
            "\n"
          ],
          "name": "stdout"
        }
      ]
    },
    {
      "cell_type": "markdown",
      "metadata": {
        "id": "l_P-gTQD1bAK"
      },
      "source": [
        "**CatBoost**"
      ]
    },
    {
      "cell_type": "code",
      "metadata": {
        "colab": {
          "base_uri": "https://localhost:8080/"
        },
        "id": "AsHoTPpT1eHx",
        "outputId": "b2b54e5a-58bb-45ba-85b5-164700571443"
      },
      "source": [
        "cat = CatBoostClassifier()\n",
        "\n",
        "\n",
        "cat.fit(X_train, y_train)\n",
        "\n",
        "y_pred = cat.predict(X_test)\n",
        "\n",
        "print(classification_report(y_test,y_pred))"
      ],
      "execution_count": 69,
      "outputs": [
        {
          "output_type": "stream",
          "text": [
            "Learning rate set to 0.008911\n",
            "0:\tlearn: 0.6868258\ttotal: 72ms\tremaining: 1m 11s\n",
            "1:\tlearn: 0.6821578\ttotal: 73ms\tremaining: 36.4s\n",
            "2:\tlearn: 0.6767575\ttotal: 73.8ms\tremaining: 24.5s\n",
            "3:\tlearn: 0.6714024\ttotal: 74.6ms\tremaining: 18.6s\n",
            "4:\tlearn: 0.6658851\ttotal: 75.3ms\tremaining: 15s\n",
            "5:\tlearn: 0.6628655\ttotal: 76.1ms\tremaining: 12.6s\n",
            "6:\tlearn: 0.6578456\ttotal: 76.9ms\tremaining: 10.9s\n",
            "7:\tlearn: 0.6521114\ttotal: 77.7ms\tremaining: 9.63s\n",
            "8:\tlearn: 0.6472906\ttotal: 78.4ms\tremaining: 8.64s\n",
            "9:\tlearn: 0.6427988\ttotal: 79.2ms\tremaining: 7.84s\n",
            "10:\tlearn: 0.6400905\ttotal: 79.7ms\tremaining: 7.17s\n",
            "11:\tlearn: 0.6348181\ttotal: 80.5ms\tremaining: 6.63s\n",
            "12:\tlearn: 0.6301348\ttotal: 81.3ms\tremaining: 6.17s\n",
            "13:\tlearn: 0.6254098\ttotal: 82ms\tremaining: 5.78s\n",
            "14:\tlearn: 0.6217482\ttotal: 82.7ms\tremaining: 5.43s\n",
            "15:\tlearn: 0.6175447\ttotal: 83.4ms\tremaining: 5.13s\n",
            "16:\tlearn: 0.6133339\ttotal: 84.2ms\tremaining: 4.87s\n",
            "17:\tlearn: 0.6093581\ttotal: 84.9ms\tremaining: 4.63s\n",
            "18:\tlearn: 0.6052545\ttotal: 85.6ms\tremaining: 4.42s\n",
            "19:\tlearn: 0.6013004\ttotal: 86.3ms\tremaining: 4.23s\n",
            "20:\tlearn: 0.5972383\ttotal: 87ms\tremaining: 4.06s\n",
            "21:\tlearn: 0.5935106\ttotal: 87.8ms\tremaining: 3.9s\n",
            "22:\tlearn: 0.5894946\ttotal: 88.5ms\tremaining: 3.76s\n",
            "23:\tlearn: 0.5856878\ttotal: 89.3ms\tremaining: 3.63s\n",
            "24:\tlearn: 0.5816343\ttotal: 90.2ms\tremaining: 3.52s\n",
            "25:\tlearn: 0.5774940\ttotal: 91ms\tremaining: 3.41s\n",
            "26:\tlearn: 0.5746235\ttotal: 91.6ms\tremaining: 3.3s\n",
            "27:\tlearn: 0.5712482\ttotal: 92.4ms\tremaining: 3.21s\n",
            "28:\tlearn: 0.5685482\ttotal: 93ms\tremaining: 3.11s\n",
            "29:\tlearn: 0.5654865\ttotal: 93.7ms\tremaining: 3.03s\n",
            "30:\tlearn: 0.5629106\ttotal: 94.5ms\tremaining: 2.96s\n",
            "31:\tlearn: 0.5596256\ttotal: 95.3ms\tremaining: 2.88s\n",
            "32:\tlearn: 0.5565854\ttotal: 96ms\tremaining: 2.81s\n",
            "33:\tlearn: 0.5534893\ttotal: 96.9ms\tremaining: 2.75s\n",
            "34:\tlearn: 0.5501945\ttotal: 97.7ms\tremaining: 2.69s\n",
            "35:\tlearn: 0.5469112\ttotal: 98.5ms\tremaining: 2.64s\n",
            "36:\tlearn: 0.5441859\ttotal: 99.3ms\tremaining: 2.58s\n",
            "37:\tlearn: 0.5409707\ttotal: 100ms\tremaining: 2.53s\n",
            "38:\tlearn: 0.5385644\ttotal: 101ms\tremaining: 2.48s\n",
            "39:\tlearn: 0.5357754\ttotal: 102ms\tremaining: 2.44s\n",
            "40:\tlearn: 0.5328456\ttotal: 102ms\tremaining: 2.39s\n",
            "41:\tlearn: 0.5304115\ttotal: 103ms\tremaining: 2.35s\n",
            "42:\tlearn: 0.5274987\ttotal: 104ms\tremaining: 2.31s\n",
            "43:\tlearn: 0.5245737\ttotal: 105ms\tremaining: 2.27s\n",
            "44:\tlearn: 0.5219180\ttotal: 105ms\tremaining: 2.24s\n",
            "45:\tlearn: 0.5195502\ttotal: 106ms\tremaining: 2.2s\n",
            "46:\tlearn: 0.5169407\ttotal: 107ms\tremaining: 2.17s\n",
            "47:\tlearn: 0.5143087\ttotal: 108ms\tremaining: 2.14s\n",
            "48:\tlearn: 0.5116071\ttotal: 108ms\tremaining: 2.1s\n",
            "49:\tlearn: 0.5104758\ttotal: 109ms\tremaining: 2.07s\n",
            "50:\tlearn: 0.5082290\ttotal: 110ms\tremaining: 2.04s\n",
            "51:\tlearn: 0.5061018\ttotal: 111ms\tremaining: 2.01s\n",
            "52:\tlearn: 0.5036149\ttotal: 111ms\tremaining: 1.99s\n",
            "53:\tlearn: 0.5014764\ttotal: 112ms\tremaining: 1.96s\n",
            "54:\tlearn: 0.4990842\ttotal: 113ms\tremaining: 1.94s\n",
            "55:\tlearn: 0.4969858\ttotal: 114ms\tremaining: 1.91s\n",
            "56:\tlearn: 0.4950541\ttotal: 114ms\tremaining: 1.89s\n",
            "57:\tlearn: 0.4931796\ttotal: 115ms\tremaining: 1.87s\n",
            "58:\tlearn: 0.4912570\ttotal: 116ms\tremaining: 1.85s\n",
            "59:\tlearn: 0.4891041\ttotal: 117ms\tremaining: 1.82s\n",
            "60:\tlearn: 0.4875839\ttotal: 117ms\tremaining: 1.8s\n",
            "61:\tlearn: 0.4859888\ttotal: 118ms\tremaining: 1.78s\n",
            "62:\tlearn: 0.4842328\ttotal: 120ms\tremaining: 1.78s\n",
            "63:\tlearn: 0.4823990\ttotal: 121ms\tremaining: 1.77s\n",
            "64:\tlearn: 0.4806036\ttotal: 123ms\tremaining: 1.76s\n",
            "65:\tlearn: 0.4789910\ttotal: 123ms\tremaining: 1.74s\n",
            "66:\tlearn: 0.4770571\ttotal: 124ms\tremaining: 1.73s\n",
            "67:\tlearn: 0.4752056\ttotal: 125ms\tremaining: 1.71s\n",
            "68:\tlearn: 0.4732463\ttotal: 126ms\tremaining: 1.7s\n",
            "69:\tlearn: 0.4715610\ttotal: 126ms\tremaining: 1.68s\n",
            "70:\tlearn: 0.4695683\ttotal: 128ms\tremaining: 1.68s\n",
            "71:\tlearn: 0.4683330\ttotal: 129ms\tremaining: 1.66s\n",
            "72:\tlearn: 0.4669273\ttotal: 130ms\tremaining: 1.65s\n",
            "73:\tlearn: 0.4654301\ttotal: 131ms\tremaining: 1.63s\n",
            "74:\tlearn: 0.4642121\ttotal: 132ms\tremaining: 1.63s\n",
            "75:\tlearn: 0.4624866\ttotal: 133ms\tremaining: 1.62s\n",
            "76:\tlearn: 0.4608825\ttotal: 134ms\tremaining: 1.6s\n",
            "77:\tlearn: 0.4596735\ttotal: 135ms\tremaining: 1.59s\n",
            "78:\tlearn: 0.4582551\ttotal: 136ms\tremaining: 1.59s\n",
            "79:\tlearn: 0.4568538\ttotal: 137ms\tremaining: 1.57s\n",
            "80:\tlearn: 0.4553779\ttotal: 138ms\tremaining: 1.56s\n",
            "81:\tlearn: 0.4544802\ttotal: 138ms\tremaining: 1.55s\n",
            "82:\tlearn: 0.4533474\ttotal: 139ms\tremaining: 1.54s\n",
            "83:\tlearn: 0.4520227\ttotal: 140ms\tremaining: 1.52s\n",
            "84:\tlearn: 0.4512650\ttotal: 141ms\tremaining: 1.51s\n",
            "85:\tlearn: 0.4499247\ttotal: 141ms\tremaining: 1.5s\n",
            "86:\tlearn: 0.4487861\ttotal: 142ms\tremaining: 1.49s\n",
            "87:\tlearn: 0.4479460\ttotal: 143ms\tremaining: 1.48s\n",
            "88:\tlearn: 0.4464967\ttotal: 144ms\tremaining: 1.47s\n",
            "89:\tlearn: 0.4451942\ttotal: 144ms\tremaining: 1.46s\n",
            "90:\tlearn: 0.4441219\ttotal: 145ms\tremaining: 1.45s\n",
            "91:\tlearn: 0.4428831\ttotal: 146ms\tremaining: 1.44s\n",
            "92:\tlearn: 0.4417321\ttotal: 147ms\tremaining: 1.43s\n",
            "93:\tlearn: 0.4406157\ttotal: 147ms\tremaining: 1.42s\n",
            "94:\tlearn: 0.4401470\ttotal: 148ms\tremaining: 1.41s\n",
            "95:\tlearn: 0.4386421\ttotal: 149ms\tremaining: 1.4s\n",
            "96:\tlearn: 0.4377096\ttotal: 149ms\tremaining: 1.39s\n",
            "97:\tlearn: 0.4366582\ttotal: 150ms\tremaining: 1.38s\n",
            "98:\tlearn: 0.4354006\ttotal: 151ms\tremaining: 1.37s\n",
            "99:\tlearn: 0.4346161\ttotal: 152ms\tremaining: 1.36s\n",
            "100:\tlearn: 0.4334961\ttotal: 152ms\tremaining: 1.36s\n",
            "101:\tlearn: 0.4324933\ttotal: 153ms\tremaining: 1.35s\n",
            "102:\tlearn: 0.4316289\ttotal: 154ms\tremaining: 1.34s\n",
            "103:\tlearn: 0.4308259\ttotal: 155ms\tremaining: 1.33s\n",
            "104:\tlearn: 0.4299500\ttotal: 155ms\tremaining: 1.32s\n",
            "105:\tlearn: 0.4291819\ttotal: 156ms\tremaining: 1.31s\n",
            "106:\tlearn: 0.4283268\ttotal: 157ms\tremaining: 1.31s\n",
            "107:\tlearn: 0.4273875\ttotal: 157ms\tremaining: 1.3s\n",
            "108:\tlearn: 0.4263871\ttotal: 158ms\tremaining: 1.29s\n",
            "109:\tlearn: 0.4254821\ttotal: 159ms\tremaining: 1.29s\n",
            "110:\tlearn: 0.4246194\ttotal: 160ms\tremaining: 1.28s\n",
            "111:\tlearn: 0.4238134\ttotal: 160ms\tremaining: 1.27s\n",
            "112:\tlearn: 0.4226691\ttotal: 161ms\tremaining: 1.27s\n",
            "113:\tlearn: 0.4215540\ttotal: 162ms\tremaining: 1.26s\n",
            "114:\tlearn: 0.4208776\ttotal: 163ms\tremaining: 1.25s\n",
            "115:\tlearn: 0.4202625\ttotal: 164ms\tremaining: 1.25s\n",
            "116:\tlearn: 0.4199163\ttotal: 164ms\tremaining: 1.24s\n",
            "117:\tlearn: 0.4187771\ttotal: 165ms\tremaining: 1.23s\n",
            "118:\tlearn: 0.4180048\ttotal: 166ms\tremaining: 1.23s\n",
            "119:\tlearn: 0.4172743\ttotal: 167ms\tremaining: 1.22s\n",
            "120:\tlearn: 0.4166889\ttotal: 167ms\tremaining: 1.22s\n",
            "121:\tlearn: 0.4158303\ttotal: 168ms\tremaining: 1.21s\n",
            "122:\tlearn: 0.4150719\ttotal: 169ms\tremaining: 1.2s\n",
            "123:\tlearn: 0.4144244\ttotal: 170ms\tremaining: 1.2s\n",
            "124:\tlearn: 0.4141799\ttotal: 170ms\tremaining: 1.19s\n",
            "125:\tlearn: 0.4135046\ttotal: 171ms\tremaining: 1.19s\n",
            "126:\tlearn: 0.4128571\ttotal: 172ms\tremaining: 1.18s\n",
            "127:\tlearn: 0.4122045\ttotal: 172ms\tremaining: 1.17s\n",
            "128:\tlearn: 0.4115154\ttotal: 173ms\tremaining: 1.17s\n",
            "129:\tlearn: 0.4106788\ttotal: 174ms\tremaining: 1.17s\n",
            "130:\tlearn: 0.4100969\ttotal: 175ms\tremaining: 1.16s\n",
            "131:\tlearn: 0.4093939\ttotal: 177ms\tremaining: 1.16s\n",
            "132:\tlearn: 0.4084791\ttotal: 177ms\tremaining: 1.16s\n",
            "133:\tlearn: 0.4077748\ttotal: 178ms\tremaining: 1.15s\n",
            "134:\tlearn: 0.4072573\ttotal: 179ms\tremaining: 1.15s\n",
            "135:\tlearn: 0.4065110\ttotal: 180ms\tremaining: 1.14s\n",
            "136:\tlearn: 0.4058525\ttotal: 180ms\tremaining: 1.14s\n",
            "137:\tlearn: 0.4053540\ttotal: 181ms\tremaining: 1.13s\n",
            "138:\tlearn: 0.4048099\ttotal: 184ms\tremaining: 1.14s\n",
            "139:\tlearn: 0.4042459\ttotal: 184ms\tremaining: 1.13s\n",
            "140:\tlearn: 0.4035781\ttotal: 185ms\tremaining: 1.13s\n",
            "141:\tlearn: 0.4033125\ttotal: 186ms\tremaining: 1.12s\n",
            "142:\tlearn: 0.4025492\ttotal: 187ms\tremaining: 1.12s\n",
            "143:\tlearn: 0.4022625\ttotal: 188ms\tremaining: 1.12s\n",
            "144:\tlearn: 0.4019595\ttotal: 189ms\tremaining: 1.11s\n",
            "145:\tlearn: 0.4012565\ttotal: 189ms\tremaining: 1.11s\n",
            "146:\tlearn: 0.4007008\ttotal: 190ms\tremaining: 1.1s\n",
            "147:\tlearn: 0.4001978\ttotal: 191ms\tremaining: 1.1s\n",
            "148:\tlearn: 0.3995773\ttotal: 192ms\tremaining: 1.09s\n",
            "149:\tlearn: 0.3990979\ttotal: 193ms\tremaining: 1.09s\n",
            "150:\tlearn: 0.3987198\ttotal: 193ms\tremaining: 1.09s\n",
            "151:\tlearn: 0.3984940\ttotal: 194ms\tremaining: 1.08s\n",
            "152:\tlearn: 0.3978318\ttotal: 195ms\tremaining: 1.08s\n",
            "153:\tlearn: 0.3974175\ttotal: 195ms\tremaining: 1.07s\n",
            "154:\tlearn: 0.3969324\ttotal: 196ms\tremaining: 1.07s\n",
            "155:\tlearn: 0.3964319\ttotal: 197ms\tremaining: 1.07s\n",
            "156:\tlearn: 0.3961115\ttotal: 198ms\tremaining: 1.06s\n",
            "157:\tlearn: 0.3955244\ttotal: 198ms\tremaining: 1.06s\n",
            "158:\tlearn: 0.3949752\ttotal: 199ms\tremaining: 1.05s\n",
            "159:\tlearn: 0.3944067\ttotal: 200ms\tremaining: 1.05s\n",
            "160:\tlearn: 0.3937808\ttotal: 201ms\tremaining: 1.04s\n",
            "161:\tlearn: 0.3931148\ttotal: 201ms\tremaining: 1.04s\n",
            "162:\tlearn: 0.3925657\ttotal: 202ms\tremaining: 1.04s\n",
            "163:\tlearn: 0.3918438\ttotal: 203ms\tremaining: 1.03s\n",
            "164:\tlearn: 0.3912390\ttotal: 204ms\tremaining: 1.03s\n",
            "165:\tlearn: 0.3906241\ttotal: 204ms\tremaining: 1.03s\n",
            "166:\tlearn: 0.3897835\ttotal: 205ms\tremaining: 1.02s\n",
            "167:\tlearn: 0.3892709\ttotal: 206ms\tremaining: 1.02s\n",
            "168:\tlearn: 0.3887040\ttotal: 207ms\tremaining: 1.02s\n",
            "169:\tlearn: 0.3882693\ttotal: 207ms\tremaining: 1.01s\n",
            "170:\tlearn: 0.3878826\ttotal: 208ms\tremaining: 1.01s\n",
            "171:\tlearn: 0.3872461\ttotal: 209ms\tremaining: 1s\n",
            "172:\tlearn: 0.3868857\ttotal: 210ms\tremaining: 1s\n",
            "173:\tlearn: 0.3865978\ttotal: 211ms\tremaining: 1s\n",
            "174:\tlearn: 0.3864439\ttotal: 212ms\tremaining: 997ms\n",
            "175:\tlearn: 0.3860788\ttotal: 212ms\tremaining: 994ms\n",
            "176:\tlearn: 0.3856669\ttotal: 213ms\tremaining: 991ms\n",
            "177:\tlearn: 0.3853104\ttotal: 214ms\tremaining: 987ms\n",
            "178:\tlearn: 0.3848926\ttotal: 214ms\tremaining: 984ms\n",
            "179:\tlearn: 0.3844491\ttotal: 215ms\tremaining: 980ms\n",
            "180:\tlearn: 0.3840556\ttotal: 216ms\tremaining: 977ms\n",
            "181:\tlearn: 0.3835024\ttotal: 217ms\tremaining: 974ms\n",
            "182:\tlearn: 0.3832811\ttotal: 217ms\tremaining: 970ms\n",
            "183:\tlearn: 0.3829066\ttotal: 218ms\tremaining: 967ms\n",
            "184:\tlearn: 0.3826151\ttotal: 219ms\tremaining: 964ms\n",
            "185:\tlearn: 0.3822693\ttotal: 220ms\tremaining: 961ms\n",
            "186:\tlearn: 0.3819135\ttotal: 220ms\tremaining: 958ms\n",
            "187:\tlearn: 0.3815033\ttotal: 222ms\tremaining: 958ms\n",
            "188:\tlearn: 0.3810660\ttotal: 222ms\tremaining: 955ms\n",
            "189:\tlearn: 0.3805265\ttotal: 223ms\tremaining: 952ms\n",
            "190:\tlearn: 0.3801575\ttotal: 224ms\tremaining: 949ms\n",
            "191:\tlearn: 0.3800303\ttotal: 225ms\tremaining: 946ms\n",
            "192:\tlearn: 0.3796226\ttotal: 225ms\tremaining: 943ms\n",
            "193:\tlearn: 0.3791283\ttotal: 226ms\tremaining: 940ms\n",
            "194:\tlearn: 0.3788626\ttotal: 227ms\tremaining: 937ms\n",
            "195:\tlearn: 0.3785474\ttotal: 228ms\tremaining: 934ms\n",
            "196:\tlearn: 0.3781668\ttotal: 229ms\tremaining: 932ms\n",
            "197:\tlearn: 0.3777243\ttotal: 230ms\tremaining: 931ms\n",
            "198:\tlearn: 0.3772923\ttotal: 231ms\tremaining: 928ms\n",
            "199:\tlearn: 0.3767421\ttotal: 231ms\tremaining: 926ms\n",
            "200:\tlearn: 0.3763870\ttotal: 232ms\tremaining: 923ms\n",
            "201:\tlearn: 0.3760188\ttotal: 233ms\tremaining: 921ms\n",
            "202:\tlearn: 0.3759125\ttotal: 234ms\tremaining: 917ms\n",
            "203:\tlearn: 0.3758668\ttotal: 234ms\tremaining: 914ms\n",
            "204:\tlearn: 0.3756953\ttotal: 235ms\tremaining: 911ms\n",
            "205:\tlearn: 0.3751072\ttotal: 236ms\tremaining: 909ms\n",
            "206:\tlearn: 0.3747363\ttotal: 238ms\tremaining: 910ms\n",
            "207:\tlearn: 0.3745191\ttotal: 238ms\tremaining: 908ms\n",
            "208:\tlearn: 0.3741745\ttotal: 239ms\tremaining: 905ms\n",
            "209:\tlearn: 0.3736323\ttotal: 241ms\tremaining: 905ms\n",
            "210:\tlearn: 0.3732876\ttotal: 242ms\tremaining: 903ms\n",
            "211:\tlearn: 0.3731328\ttotal: 242ms\tremaining: 900ms\n",
            "212:\tlearn: 0.3727715\ttotal: 243ms\tremaining: 898ms\n",
            "213:\tlearn: 0.3723843\ttotal: 244ms\tremaining: 895ms\n",
            "214:\tlearn: 0.3723053\ttotal: 245ms\tremaining: 893ms\n",
            "215:\tlearn: 0.3719742\ttotal: 245ms\tremaining: 891ms\n",
            "216:\tlearn: 0.3716031\ttotal: 247ms\tremaining: 892ms\n",
            "217:\tlearn: 0.3714695\ttotal: 248ms\tremaining: 890ms\n",
            "218:\tlearn: 0.3709296\ttotal: 249ms\tremaining: 887ms\n",
            "219:\tlearn: 0.3708842\ttotal: 249ms\tremaining: 884ms\n",
            "220:\tlearn: 0.3705234\ttotal: 250ms\tremaining: 881ms\n",
            "221:\tlearn: 0.3702733\ttotal: 251ms\tremaining: 879ms\n",
            "222:\tlearn: 0.3701444\ttotal: 252ms\tremaining: 877ms\n",
            "223:\tlearn: 0.3698034\ttotal: 252ms\tremaining: 874ms\n",
            "224:\tlearn: 0.3696987\ttotal: 253ms\tremaining: 872ms\n",
            "225:\tlearn: 0.3693578\ttotal: 254ms\tremaining: 869ms\n",
            "226:\tlearn: 0.3689490\ttotal: 254ms\tremaining: 867ms\n",
            "227:\tlearn: 0.3685030\ttotal: 255ms\tremaining: 864ms\n",
            "228:\tlearn: 0.3682815\ttotal: 256ms\tremaining: 862ms\n",
            "229:\tlearn: 0.3681981\ttotal: 257ms\tremaining: 859ms\n",
            "230:\tlearn: 0.3681677\ttotal: 257ms\tremaining: 856ms\n",
            "231:\tlearn: 0.3679087\ttotal: 258ms\tremaining: 854ms\n",
            "232:\tlearn: 0.3677263\ttotal: 259ms\tremaining: 851ms\n",
            "233:\tlearn: 0.3674665\ttotal: 259ms\tremaining: 849ms\n",
            "234:\tlearn: 0.3670927\ttotal: 260ms\tremaining: 847ms\n",
            "235:\tlearn: 0.3667645\ttotal: 261ms\tremaining: 845ms\n",
            "236:\tlearn: 0.3664184\ttotal: 262ms\tremaining: 843ms\n",
            "237:\tlearn: 0.3661012\ttotal: 263ms\tremaining: 841ms\n",
            "238:\tlearn: 0.3659160\ttotal: 263ms\tremaining: 838ms\n",
            "239:\tlearn: 0.3656657\ttotal: 264ms\tremaining: 836ms\n",
            "240:\tlearn: 0.3653794\ttotal: 265ms\tremaining: 834ms\n",
            "241:\tlearn: 0.3651537\ttotal: 266ms\tremaining: 834ms\n",
            "242:\tlearn: 0.3649664\ttotal: 267ms\tremaining: 832ms\n",
            "243:\tlearn: 0.3646046\ttotal: 268ms\tremaining: 830ms\n",
            "244:\tlearn: 0.3643184\ttotal: 269ms\tremaining: 828ms\n",
            "245:\tlearn: 0.3640618\ttotal: 271ms\tremaining: 830ms\n",
            "246:\tlearn: 0.3639556\ttotal: 272ms\tremaining: 828ms\n",
            "247:\tlearn: 0.3637795\ttotal: 272ms\tremaining: 826ms\n",
            "248:\tlearn: 0.3634005\ttotal: 273ms\tremaining: 824ms\n",
            "249:\tlearn: 0.3632486\ttotal: 274ms\tremaining: 822ms\n",
            "250:\tlearn: 0.3630935\ttotal: 275ms\tremaining: 820ms\n",
            "251:\tlearn: 0.3628135\ttotal: 277ms\tremaining: 821ms\n",
            "252:\tlearn: 0.3626687\ttotal: 277ms\tremaining: 819ms\n",
            "253:\tlearn: 0.3622137\ttotal: 279ms\tremaining: 820ms\n",
            "254:\tlearn: 0.3620033\ttotal: 280ms\tremaining: 818ms\n",
            "255:\tlearn: 0.3617461\ttotal: 281ms\tremaining: 815ms\n",
            "256:\tlearn: 0.3613077\ttotal: 281ms\tremaining: 813ms\n",
            "257:\tlearn: 0.3609530\ttotal: 282ms\tremaining: 810ms\n",
            "258:\tlearn: 0.3606681\ttotal: 282ms\tremaining: 808ms\n",
            "259:\tlearn: 0.3603742\ttotal: 283ms\tremaining: 805ms\n",
            "260:\tlearn: 0.3600101\ttotal: 284ms\tremaining: 803ms\n",
            "261:\tlearn: 0.3597832\ttotal: 284ms\tremaining: 800ms\n",
            "262:\tlearn: 0.3597213\ttotal: 285ms\tremaining: 798ms\n",
            "263:\tlearn: 0.3594736\ttotal: 285ms\tremaining: 795ms\n",
            "264:\tlearn: 0.3591878\ttotal: 286ms\tremaining: 793ms\n",
            "265:\tlearn: 0.3590125\ttotal: 286ms\tremaining: 790ms\n",
            "266:\tlearn: 0.3587867\ttotal: 287ms\tremaining: 788ms\n",
            "267:\tlearn: 0.3586128\ttotal: 288ms\tremaining: 786ms\n",
            "268:\tlearn: 0.3583224\ttotal: 288ms\tremaining: 783ms\n",
            "269:\tlearn: 0.3580300\ttotal: 289ms\tremaining: 781ms\n",
            "270:\tlearn: 0.3575990\ttotal: 289ms\tremaining: 778ms\n",
            "271:\tlearn: 0.3574646\ttotal: 290ms\tremaining: 776ms\n",
            "272:\tlearn: 0.3572770\ttotal: 290ms\tremaining: 773ms\n",
            "273:\tlearn: 0.3567652\ttotal: 291ms\tremaining: 771ms\n",
            "274:\tlearn: 0.3565091\ttotal: 292ms\tremaining: 769ms\n",
            "275:\tlearn: 0.3562617\ttotal: 292ms\tremaining: 766ms\n",
            "276:\tlearn: 0.3560409\ttotal: 293ms\tremaining: 764ms\n",
            "277:\tlearn: 0.3557053\ttotal: 293ms\tremaining: 762ms\n",
            "278:\tlearn: 0.3555127\ttotal: 294ms\tremaining: 759ms\n",
            "279:\tlearn: 0.3551830\ttotal: 295ms\tremaining: 757ms\n",
            "280:\tlearn: 0.3549271\ttotal: 295ms\tremaining: 756ms\n",
            "281:\tlearn: 0.3545206\ttotal: 296ms\tremaining: 754ms\n",
            "282:\tlearn: 0.3544202\ttotal: 297ms\tremaining: 751ms\n",
            "283:\tlearn: 0.3541424\ttotal: 297ms\tremaining: 749ms\n",
            "284:\tlearn: 0.3540120\ttotal: 298ms\tremaining: 747ms\n",
            "285:\tlearn: 0.3537863\ttotal: 298ms\tremaining: 745ms\n",
            "286:\tlearn: 0.3536152\ttotal: 299ms\tremaining: 743ms\n",
            "287:\tlearn: 0.3533221\ttotal: 300ms\tremaining: 741ms\n",
            "288:\tlearn: 0.3529668\ttotal: 301ms\tremaining: 741ms\n",
            "289:\tlearn: 0.3526873\ttotal: 302ms\tremaining: 739ms\n",
            "290:\tlearn: 0.3524273\ttotal: 302ms\tremaining: 737ms\n",
            "291:\tlearn: 0.3523984\ttotal: 303ms\tremaining: 734ms\n",
            "292:\tlearn: 0.3522359\ttotal: 303ms\tremaining: 732ms\n",
            "293:\tlearn: 0.3519956\ttotal: 304ms\tremaining: 730ms\n",
            "294:\tlearn: 0.3517791\ttotal: 305ms\tremaining: 728ms\n",
            "295:\tlearn: 0.3515071\ttotal: 305ms\tremaining: 726ms\n",
            "296:\tlearn: 0.3512944\ttotal: 306ms\tremaining: 724ms\n",
            "297:\tlearn: 0.3511191\ttotal: 306ms\tremaining: 721ms\n",
            "298:\tlearn: 0.3507840\ttotal: 307ms\tremaining: 719ms\n",
            "299:\tlearn: 0.3505075\ttotal: 307ms\tremaining: 717ms\n",
            "300:\tlearn: 0.3503266\ttotal: 308ms\tremaining: 716ms\n",
            "301:\tlearn: 0.3501515\ttotal: 309ms\tremaining: 714ms\n",
            "302:\tlearn: 0.3499386\ttotal: 310ms\tremaining: 712ms\n",
            "303:\tlearn: 0.3497089\ttotal: 310ms\tremaining: 711ms\n",
            "304:\tlearn: 0.3495400\ttotal: 311ms\tremaining: 709ms\n",
            "305:\tlearn: 0.3493818\ttotal: 312ms\tremaining: 707ms\n",
            "306:\tlearn: 0.3491881\ttotal: 313ms\tremaining: 706ms\n",
            "307:\tlearn: 0.3489410\ttotal: 313ms\tremaining: 704ms\n",
            "308:\tlearn: 0.3487126\ttotal: 314ms\tremaining: 703ms\n",
            "309:\tlearn: 0.3485063\ttotal: 315ms\tremaining: 702ms\n",
            "310:\tlearn: 0.3483347\ttotal: 316ms\tremaining: 700ms\n",
            "311:\tlearn: 0.3481704\ttotal: 317ms\tremaining: 698ms\n",
            "312:\tlearn: 0.3479898\ttotal: 318ms\tremaining: 697ms\n",
            "313:\tlearn: 0.3478213\ttotal: 318ms\tremaining: 695ms\n",
            "314:\tlearn: 0.3476245\ttotal: 319ms\tremaining: 694ms\n",
            "315:\tlearn: 0.3474079\ttotal: 320ms\tremaining: 692ms\n",
            "316:\tlearn: 0.3471877\ttotal: 320ms\tremaining: 691ms\n",
            "317:\tlearn: 0.3470594\ttotal: 321ms\tremaining: 689ms\n",
            "318:\tlearn: 0.3469916\ttotal: 322ms\tremaining: 687ms\n",
            "319:\tlearn: 0.3468380\ttotal: 323ms\tremaining: 685ms\n",
            "320:\tlearn: 0.3465978\ttotal: 323ms\tremaining: 684ms\n",
            "321:\tlearn: 0.3462308\ttotal: 324ms\tremaining: 682ms\n",
            "322:\tlearn: 0.3460839\ttotal: 325ms\tremaining: 681ms\n",
            "323:\tlearn: 0.3458417\ttotal: 326ms\tremaining: 679ms\n",
            "324:\tlearn: 0.3456143\ttotal: 326ms\tremaining: 678ms\n",
            "325:\tlearn: 0.3454581\ttotal: 327ms\tremaining: 676ms\n",
            "326:\tlearn: 0.3453375\ttotal: 328ms\tremaining: 675ms\n",
            "327:\tlearn: 0.3451516\ttotal: 329ms\tremaining: 673ms\n",
            "328:\tlearn: 0.3450137\ttotal: 330ms\tremaining: 673ms\n",
            "329:\tlearn: 0.3447912\ttotal: 331ms\tremaining: 672ms\n",
            "330:\tlearn: 0.3446029\ttotal: 332ms\tremaining: 672ms\n",
            "331:\tlearn: 0.3443527\ttotal: 333ms\tremaining: 670ms\n",
            "332:\tlearn: 0.3441581\ttotal: 334ms\tremaining: 669ms\n",
            "333:\tlearn: 0.3440523\ttotal: 335ms\tremaining: 667ms\n",
            "334:\tlearn: 0.3440463\ttotal: 335ms\tremaining: 665ms\n",
            "335:\tlearn: 0.3438146\ttotal: 336ms\tremaining: 664ms\n",
            "336:\tlearn: 0.3437362\ttotal: 337ms\tremaining: 662ms\n",
            "337:\tlearn: 0.3435604\ttotal: 337ms\tremaining: 661ms\n",
            "338:\tlearn: 0.3433803\ttotal: 338ms\tremaining: 659ms\n",
            "339:\tlearn: 0.3431431\ttotal: 339ms\tremaining: 658ms\n",
            "340:\tlearn: 0.3428131\ttotal: 340ms\tremaining: 656ms\n",
            "341:\tlearn: 0.3425476\ttotal: 340ms\tremaining: 655ms\n",
            "342:\tlearn: 0.3423102\ttotal: 341ms\tremaining: 653ms\n",
            "343:\tlearn: 0.3420968\ttotal: 342ms\tremaining: 652ms\n",
            "344:\tlearn: 0.3419116\ttotal: 343ms\tremaining: 650ms\n",
            "345:\tlearn: 0.3417431\ttotal: 343ms\tremaining: 649ms\n",
            "346:\tlearn: 0.3415554\ttotal: 344ms\tremaining: 647ms\n",
            "347:\tlearn: 0.3413850\ttotal: 345ms\tremaining: 646ms\n",
            "348:\tlearn: 0.3411516\ttotal: 345ms\tremaining: 644ms\n",
            "349:\tlearn: 0.3409141\ttotal: 346ms\tremaining: 643ms\n",
            "350:\tlearn: 0.3408292\ttotal: 347ms\tremaining: 642ms\n",
            "351:\tlearn: 0.3407067\ttotal: 348ms\tremaining: 640ms\n",
            "352:\tlearn: 0.3405871\ttotal: 348ms\tremaining: 639ms\n",
            "353:\tlearn: 0.3403753\ttotal: 349ms\tremaining: 637ms\n",
            "354:\tlearn: 0.3402065\ttotal: 350ms\tremaining: 636ms\n",
            "355:\tlearn: 0.3400330\ttotal: 351ms\tremaining: 634ms\n",
            "356:\tlearn: 0.3398272\ttotal: 351ms\tremaining: 633ms\n",
            "357:\tlearn: 0.3397502\ttotal: 352ms\tremaining: 631ms\n",
            "358:\tlearn: 0.3396336\ttotal: 354ms\tremaining: 632ms\n",
            "359:\tlearn: 0.3394903\ttotal: 355ms\tremaining: 630ms\n",
            "360:\tlearn: 0.3392945\ttotal: 355ms\tremaining: 629ms\n",
            "361:\tlearn: 0.3390402\ttotal: 357ms\tremaining: 629ms\n",
            "362:\tlearn: 0.3388907\ttotal: 358ms\tremaining: 628ms\n",
            "363:\tlearn: 0.3388462\ttotal: 358ms\tremaining: 626ms\n",
            "364:\tlearn: 0.3386976\ttotal: 359ms\tremaining: 625ms\n",
            "365:\tlearn: 0.3386761\ttotal: 360ms\tremaining: 624ms\n",
            "366:\tlearn: 0.3385511\ttotal: 363ms\tremaining: 627ms\n",
            "367:\tlearn: 0.3384434\ttotal: 364ms\tremaining: 625ms\n",
            "368:\tlearn: 0.3382714\ttotal: 365ms\tremaining: 624ms\n",
            "369:\tlearn: 0.3381300\ttotal: 366ms\tremaining: 623ms\n",
            "370:\tlearn: 0.3379462\ttotal: 366ms\tremaining: 621ms\n",
            "371:\tlearn: 0.3377501\ttotal: 367ms\tremaining: 620ms\n",
            "372:\tlearn: 0.3376590\ttotal: 368ms\tremaining: 619ms\n",
            "373:\tlearn: 0.3374696\ttotal: 369ms\tremaining: 618ms\n",
            "374:\tlearn: 0.3374340\ttotal: 370ms\tremaining: 617ms\n",
            "375:\tlearn: 0.3372610\ttotal: 371ms\tremaining: 616ms\n",
            "376:\tlearn: 0.3371433\ttotal: 372ms\tremaining: 615ms\n",
            "377:\tlearn: 0.3369831\ttotal: 373ms\tremaining: 614ms\n",
            "378:\tlearn: 0.3368301\ttotal: 374ms\tremaining: 612ms\n",
            "379:\tlearn: 0.3365989\ttotal: 375ms\tremaining: 611ms\n",
            "380:\tlearn: 0.3364622\ttotal: 375ms\tremaining: 610ms\n",
            "381:\tlearn: 0.3363118\ttotal: 376ms\tremaining: 608ms\n",
            "382:\tlearn: 0.3361197\ttotal: 378ms\tremaining: 608ms\n",
            "383:\tlearn: 0.3359043\ttotal: 379ms\tremaining: 607ms\n",
            "384:\tlearn: 0.3358350\ttotal: 379ms\tremaining: 606ms\n",
            "385:\tlearn: 0.3357001\ttotal: 380ms\tremaining: 605ms\n",
            "386:\tlearn: 0.3355016\ttotal: 381ms\tremaining: 603ms\n",
            "387:\tlearn: 0.3353084\ttotal: 382ms\tremaining: 602ms\n",
            "388:\tlearn: 0.3351958\ttotal: 383ms\tremaining: 601ms\n",
            "389:\tlearn: 0.3350078\ttotal: 383ms\tremaining: 599ms\n",
            "390:\tlearn: 0.3349044\ttotal: 384ms\tremaining: 598ms\n",
            "391:\tlearn: 0.3347393\ttotal: 385ms\tremaining: 597ms\n",
            "392:\tlearn: 0.3346518\ttotal: 386ms\tremaining: 595ms\n",
            "393:\tlearn: 0.3344321\ttotal: 386ms\tremaining: 594ms\n",
            "394:\tlearn: 0.3342031\ttotal: 387ms\tremaining: 593ms\n",
            "395:\tlearn: 0.3339600\ttotal: 388ms\tremaining: 591ms\n",
            "396:\tlearn: 0.3338030\ttotal: 388ms\tremaining: 590ms\n",
            "397:\tlearn: 0.3337565\ttotal: 389ms\tremaining: 589ms\n",
            "398:\tlearn: 0.3336767\ttotal: 390ms\tremaining: 587ms\n",
            "399:\tlearn: 0.3335639\ttotal: 391ms\tremaining: 586ms\n",
            "400:\tlearn: 0.3334035\ttotal: 391ms\tremaining: 585ms\n",
            "401:\tlearn: 0.3330553\ttotal: 392ms\tremaining: 583ms\n",
            "402:\tlearn: 0.3328770\ttotal: 393ms\tremaining: 582ms\n",
            "403:\tlearn: 0.3326104\ttotal: 394ms\tremaining: 581ms\n",
            "404:\tlearn: 0.3325419\ttotal: 394ms\tremaining: 579ms\n",
            "405:\tlearn: 0.3323925\ttotal: 395ms\tremaining: 578ms\n",
            "406:\tlearn: 0.3322752\ttotal: 396ms\tremaining: 577ms\n",
            "407:\tlearn: 0.3320782\ttotal: 397ms\tremaining: 575ms\n",
            "408:\tlearn: 0.3318470\ttotal: 398ms\tremaining: 575ms\n",
            "409:\tlearn: 0.3317677\ttotal: 400ms\tremaining: 575ms\n",
            "410:\tlearn: 0.3316418\ttotal: 401ms\tremaining: 574ms\n",
            "411:\tlearn: 0.3315740\ttotal: 401ms\tremaining: 573ms\n",
            "412:\tlearn: 0.3313935\ttotal: 402ms\tremaining: 571ms\n",
            "413:\tlearn: 0.3312368\ttotal: 403ms\tremaining: 570ms\n",
            "414:\tlearn: 0.3311582\ttotal: 404ms\tremaining: 569ms\n",
            "415:\tlearn: 0.3309258\ttotal: 404ms\tremaining: 568ms\n",
            "416:\tlearn: 0.3307812\ttotal: 405ms\tremaining: 566ms\n",
            "417:\tlearn: 0.3306869\ttotal: 406ms\tremaining: 565ms\n",
            "418:\tlearn: 0.3304403\ttotal: 406ms\tremaining: 564ms\n",
            "419:\tlearn: 0.3302604\ttotal: 407ms\tremaining: 562ms\n",
            "420:\tlearn: 0.3300656\ttotal: 408ms\tremaining: 561ms\n",
            "421:\tlearn: 0.3298500\ttotal: 409ms\tremaining: 560ms\n",
            "422:\tlearn: 0.3296401\ttotal: 410ms\tremaining: 559ms\n",
            "423:\tlearn: 0.3295722\ttotal: 411ms\tremaining: 558ms\n",
            "424:\tlearn: 0.3294290\ttotal: 412ms\tremaining: 558ms\n",
            "425:\tlearn: 0.3292579\ttotal: 413ms\tremaining: 556ms\n",
            "426:\tlearn: 0.3290323\ttotal: 414ms\tremaining: 556ms\n",
            "427:\tlearn: 0.3288640\ttotal: 416ms\tremaining: 556ms\n",
            "428:\tlearn: 0.3287712\ttotal: 417ms\tremaining: 555ms\n",
            "429:\tlearn: 0.3285900\ttotal: 418ms\tremaining: 554ms\n",
            "430:\tlearn: 0.3284472\ttotal: 419ms\tremaining: 553ms\n",
            "431:\tlearn: 0.3283460\ttotal: 420ms\tremaining: 552ms\n",
            "432:\tlearn: 0.3282869\ttotal: 421ms\tremaining: 552ms\n",
            "433:\tlearn: 0.3282389\ttotal: 423ms\tremaining: 551ms\n",
            "434:\tlearn: 0.3281330\ttotal: 425ms\tremaining: 553ms\n",
            "435:\tlearn: 0.3279852\ttotal: 427ms\tremaining: 552ms\n",
            "436:\tlearn: 0.3279623\ttotal: 428ms\tremaining: 551ms\n",
            "437:\tlearn: 0.3278937\ttotal: 428ms\tremaining: 550ms\n",
            "438:\tlearn: 0.3278033\ttotal: 429ms\tremaining: 548ms\n",
            "439:\tlearn: 0.3277396\ttotal: 430ms\tremaining: 547ms\n",
            "440:\tlearn: 0.3275608\ttotal: 431ms\tremaining: 546ms\n",
            "441:\tlearn: 0.3275051\ttotal: 433ms\tremaining: 546ms\n",
            "442:\tlearn: 0.3272987\ttotal: 434ms\tremaining: 545ms\n",
            "443:\tlearn: 0.3271252\ttotal: 434ms\tremaining: 544ms\n",
            "444:\tlearn: 0.3270365\ttotal: 435ms\tremaining: 543ms\n",
            "445:\tlearn: 0.3269408\ttotal: 436ms\tremaining: 541ms\n",
            "446:\tlearn: 0.3267629\ttotal: 437ms\tremaining: 540ms\n",
            "447:\tlearn: 0.3265359\ttotal: 437ms\tremaining: 539ms\n",
            "448:\tlearn: 0.3263737\ttotal: 438ms\tremaining: 538ms\n",
            "449:\tlearn: 0.3262382\ttotal: 439ms\tremaining: 536ms\n",
            "450:\tlearn: 0.3262329\ttotal: 439ms\tremaining: 535ms\n",
            "451:\tlearn: 0.3261200\ttotal: 440ms\tremaining: 534ms\n",
            "452:\tlearn: 0.3259762\ttotal: 441ms\tremaining: 532ms\n",
            "453:\tlearn: 0.3259104\ttotal: 442ms\tremaining: 531ms\n",
            "454:\tlearn: 0.3258264\ttotal: 442ms\tremaining: 530ms\n",
            "455:\tlearn: 0.3256543\ttotal: 443ms\tremaining: 529ms\n",
            "456:\tlearn: 0.3253970\ttotal: 444ms\tremaining: 528ms\n",
            "457:\tlearn: 0.3252664\ttotal: 445ms\tremaining: 526ms\n",
            "458:\tlearn: 0.3251232\ttotal: 445ms\tremaining: 525ms\n",
            "459:\tlearn: 0.3250524\ttotal: 446ms\tremaining: 524ms\n",
            "460:\tlearn: 0.3249378\ttotal: 447ms\tremaining: 522ms\n",
            "461:\tlearn: 0.3248910\ttotal: 448ms\tremaining: 521ms\n",
            "462:\tlearn: 0.3246993\ttotal: 449ms\tremaining: 520ms\n",
            "463:\tlearn: 0.3245419\ttotal: 450ms\tremaining: 519ms\n",
            "464:\tlearn: 0.3245290\ttotal: 450ms\tremaining: 518ms\n",
            "465:\tlearn: 0.3244236\ttotal: 451ms\tremaining: 517ms\n",
            "466:\tlearn: 0.3242760\ttotal: 452ms\tremaining: 516ms\n",
            "467:\tlearn: 0.3242338\ttotal: 453ms\tremaining: 514ms\n",
            "468:\tlearn: 0.3240281\ttotal: 453ms\tremaining: 513ms\n",
            "469:\tlearn: 0.3238969\ttotal: 454ms\tremaining: 512ms\n",
            "470:\tlearn: 0.3237149\ttotal: 455ms\tremaining: 511ms\n",
            "471:\tlearn: 0.3235940\ttotal: 456ms\tremaining: 510ms\n",
            "472:\tlearn: 0.3234990\ttotal: 456ms\tremaining: 508ms\n",
            "473:\tlearn: 0.3234042\ttotal: 457ms\tremaining: 507ms\n",
            "474:\tlearn: 0.3233212\ttotal: 458ms\tremaining: 506ms\n",
            "475:\tlearn: 0.3231738\ttotal: 459ms\tremaining: 505ms\n",
            "476:\tlearn: 0.3230232\ttotal: 459ms\tremaining: 504ms\n",
            "477:\tlearn: 0.3229461\ttotal: 460ms\tremaining: 502ms\n",
            "478:\tlearn: 0.3228048\ttotal: 461ms\tremaining: 501ms\n",
            "479:\tlearn: 0.3226025\ttotal: 461ms\tremaining: 500ms\n",
            "480:\tlearn: 0.3225438\ttotal: 462ms\tremaining: 499ms\n",
            "481:\tlearn: 0.3223799\ttotal: 463ms\tremaining: 498ms\n",
            "482:\tlearn: 0.3222467\ttotal: 464ms\tremaining: 496ms\n",
            "483:\tlearn: 0.3221487\ttotal: 464ms\tremaining: 495ms\n",
            "484:\tlearn: 0.3220388\ttotal: 465ms\tremaining: 494ms\n",
            "485:\tlearn: 0.3219024\ttotal: 466ms\tremaining: 493ms\n",
            "486:\tlearn: 0.3218608\ttotal: 467ms\tremaining: 491ms\n",
            "487:\tlearn: 0.3217687\ttotal: 467ms\tremaining: 490ms\n",
            "488:\tlearn: 0.3216374\ttotal: 468ms\tremaining: 489ms\n",
            "489:\tlearn: 0.3214814\ttotal: 469ms\tremaining: 488ms\n",
            "490:\tlearn: 0.3213779\ttotal: 469ms\tremaining: 487ms\n",
            "491:\tlearn: 0.3212806\ttotal: 470ms\tremaining: 485ms\n",
            "492:\tlearn: 0.3211705\ttotal: 471ms\tremaining: 484ms\n",
            "493:\tlearn: 0.3210819\ttotal: 472ms\tremaining: 483ms\n",
            "494:\tlearn: 0.3208017\ttotal: 472ms\tremaining: 482ms\n",
            "495:\tlearn: 0.3206838\ttotal: 473ms\tremaining: 481ms\n",
            "496:\tlearn: 0.3205405\ttotal: 474ms\tremaining: 480ms\n",
            "497:\tlearn: 0.3204719\ttotal: 475ms\tremaining: 478ms\n",
            "498:\tlearn: 0.3203291\ttotal: 475ms\tremaining: 477ms\n",
            "499:\tlearn: 0.3201448\ttotal: 476ms\tremaining: 476ms\n",
            "500:\tlearn: 0.3200281\ttotal: 477ms\tremaining: 475ms\n",
            "501:\tlearn: 0.3199084\ttotal: 478ms\tremaining: 474ms\n",
            "502:\tlearn: 0.3197996\ttotal: 478ms\tremaining: 473ms\n",
            "503:\tlearn: 0.3196430\ttotal: 479ms\tremaining: 471ms\n",
            "504:\tlearn: 0.3195734\ttotal: 480ms\tremaining: 470ms\n",
            "505:\tlearn: 0.3194712\ttotal: 481ms\tremaining: 469ms\n",
            "506:\tlearn: 0.3193641\ttotal: 481ms\tremaining: 468ms\n",
            "507:\tlearn: 0.3192153\ttotal: 482ms\tremaining: 467ms\n",
            "508:\tlearn: 0.3191146\ttotal: 483ms\tremaining: 466ms\n",
            "509:\tlearn: 0.3190012\ttotal: 484ms\tremaining: 465ms\n",
            "510:\tlearn: 0.3187920\ttotal: 485ms\tremaining: 464ms\n",
            "511:\tlearn: 0.3186819\ttotal: 486ms\tremaining: 463ms\n",
            "512:\tlearn: 0.3184133\ttotal: 487ms\tremaining: 462ms\n",
            "513:\tlearn: 0.3182620\ttotal: 488ms\tremaining: 461ms\n",
            "514:\tlearn: 0.3180793\ttotal: 488ms\tremaining: 460ms\n",
            "515:\tlearn: 0.3179857\ttotal: 489ms\tremaining: 459ms\n",
            "516:\tlearn: 0.3178322\ttotal: 490ms\tremaining: 458ms\n",
            "517:\tlearn: 0.3176548\ttotal: 491ms\tremaining: 457ms\n",
            "518:\tlearn: 0.3175198\ttotal: 491ms\tremaining: 455ms\n",
            "519:\tlearn: 0.3174190\ttotal: 492ms\tremaining: 454ms\n",
            "520:\tlearn: 0.3173855\ttotal: 493ms\tremaining: 453ms\n",
            "521:\tlearn: 0.3171336\ttotal: 494ms\tremaining: 452ms\n",
            "522:\tlearn: 0.3170307\ttotal: 494ms\tremaining: 451ms\n",
            "523:\tlearn: 0.3168885\ttotal: 496ms\tremaining: 450ms\n",
            "524:\tlearn: 0.3167501\ttotal: 497ms\tremaining: 450ms\n",
            "525:\tlearn: 0.3166953\ttotal: 498ms\tremaining: 449ms\n",
            "526:\tlearn: 0.3166331\ttotal: 499ms\tremaining: 448ms\n",
            "527:\tlearn: 0.3164943\ttotal: 500ms\tremaining: 447ms\n",
            "528:\tlearn: 0.3163877\ttotal: 501ms\tremaining: 446ms\n",
            "529:\tlearn: 0.3163448\ttotal: 502ms\tremaining: 445ms\n",
            "530:\tlearn: 0.3163044\ttotal: 503ms\tremaining: 444ms\n",
            "531:\tlearn: 0.3162050\ttotal: 503ms\tremaining: 443ms\n",
            "532:\tlearn: 0.3161086\ttotal: 505ms\tremaining: 443ms\n",
            "533:\tlearn: 0.3159915\ttotal: 506ms\tremaining: 442ms\n",
            "534:\tlearn: 0.3158906\ttotal: 507ms\tremaining: 441ms\n",
            "535:\tlearn: 0.3158845\ttotal: 508ms\tremaining: 439ms\n",
            "536:\tlearn: 0.3158133\ttotal: 509ms\tremaining: 439ms\n",
            "537:\tlearn: 0.3158062\ttotal: 510ms\tremaining: 438ms\n",
            "538:\tlearn: 0.3156658\ttotal: 511ms\tremaining: 437ms\n",
            "539:\tlearn: 0.3154805\ttotal: 511ms\tremaining: 436ms\n",
            "540:\tlearn: 0.3153239\ttotal: 512ms\tremaining: 435ms\n",
            "541:\tlearn: 0.3150999\ttotal: 513ms\tremaining: 433ms\n",
            "542:\tlearn: 0.3148919\ttotal: 514ms\tremaining: 432ms\n",
            "543:\tlearn: 0.3146974\ttotal: 514ms\tremaining: 431ms\n",
            "544:\tlearn: 0.3145913\ttotal: 515ms\tremaining: 430ms\n",
            "545:\tlearn: 0.3144904\ttotal: 516ms\tremaining: 429ms\n",
            "546:\tlearn: 0.3144007\ttotal: 517ms\tremaining: 428ms\n",
            "547:\tlearn: 0.3142673\ttotal: 517ms\tremaining: 427ms\n",
            "548:\tlearn: 0.3141651\ttotal: 518ms\tremaining: 426ms\n",
            "549:\tlearn: 0.3140881\ttotal: 519ms\tremaining: 425ms\n",
            "550:\tlearn: 0.3138760\ttotal: 520ms\tremaining: 423ms\n",
            "551:\tlearn: 0.3137885\ttotal: 520ms\tremaining: 422ms\n",
            "552:\tlearn: 0.3136753\ttotal: 521ms\tremaining: 421ms\n",
            "553:\tlearn: 0.3135978\ttotal: 522ms\tremaining: 420ms\n",
            "554:\tlearn: 0.3133729\ttotal: 523ms\tremaining: 419ms\n",
            "555:\tlearn: 0.3132812\ttotal: 523ms\tremaining: 418ms\n",
            "556:\tlearn: 0.3131965\ttotal: 524ms\tremaining: 417ms\n",
            "557:\tlearn: 0.3131112\ttotal: 525ms\tremaining: 416ms\n",
            "558:\tlearn: 0.3130002\ttotal: 526ms\tremaining: 415ms\n",
            "559:\tlearn: 0.3129167\ttotal: 526ms\tremaining: 414ms\n",
            "560:\tlearn: 0.3128204\ttotal: 527ms\tremaining: 412ms\n",
            "561:\tlearn: 0.3127551\ttotal: 528ms\tremaining: 411ms\n",
            "562:\tlearn: 0.3125697\ttotal: 529ms\tremaining: 410ms\n",
            "563:\tlearn: 0.3124800\ttotal: 529ms\tremaining: 409ms\n",
            "564:\tlearn: 0.3123503\ttotal: 530ms\tremaining: 408ms\n",
            "565:\tlearn: 0.3122123\ttotal: 531ms\tremaining: 407ms\n",
            "566:\tlearn: 0.3121142\ttotal: 532ms\tremaining: 406ms\n",
            "567:\tlearn: 0.3119793\ttotal: 533ms\tremaining: 405ms\n",
            "568:\tlearn: 0.3117405\ttotal: 534ms\tremaining: 405ms\n",
            "569:\tlearn: 0.3115920\ttotal: 535ms\tremaining: 404ms\n",
            "570:\tlearn: 0.3115115\ttotal: 536ms\tremaining: 403ms\n",
            "571:\tlearn: 0.3113785\ttotal: 539ms\tremaining: 403ms\n",
            "572:\tlearn: 0.3113027\ttotal: 540ms\tremaining: 402ms\n",
            "573:\tlearn: 0.3112000\ttotal: 543ms\tremaining: 403ms\n",
            "574:\tlearn: 0.3110156\ttotal: 544ms\tremaining: 402ms\n",
            "575:\tlearn: 0.3109225\ttotal: 545ms\tremaining: 401ms\n",
            "576:\tlearn: 0.3108510\ttotal: 546ms\tremaining: 400ms\n",
            "577:\tlearn: 0.3107747\ttotal: 546ms\tremaining: 399ms\n",
            "578:\tlearn: 0.3107103\ttotal: 547ms\tremaining: 397ms\n",
            "579:\tlearn: 0.3106434\ttotal: 547ms\tremaining: 396ms\n",
            "580:\tlearn: 0.3105177\ttotal: 548ms\tremaining: 395ms\n",
            "581:\tlearn: 0.3104254\ttotal: 548ms\tremaining: 394ms\n",
            "582:\tlearn: 0.3103098\ttotal: 549ms\tremaining: 393ms\n",
            "583:\tlearn: 0.3102697\ttotal: 550ms\tremaining: 392ms\n",
            "584:\tlearn: 0.3100684\ttotal: 550ms\tremaining: 391ms\n",
            "585:\tlearn: 0.3099058\ttotal: 551ms\tremaining: 389ms\n",
            "586:\tlearn: 0.3097493\ttotal: 552ms\tremaining: 388ms\n",
            "587:\tlearn: 0.3095677\ttotal: 553ms\tremaining: 387ms\n",
            "588:\tlearn: 0.3095276\ttotal: 553ms\tremaining: 386ms\n",
            "589:\tlearn: 0.3095259\ttotal: 554ms\tremaining: 385ms\n",
            "590:\tlearn: 0.3094951\ttotal: 555ms\tremaining: 384ms\n",
            "591:\tlearn: 0.3094202\ttotal: 555ms\tremaining: 383ms\n",
            "592:\tlearn: 0.3093098\ttotal: 556ms\tremaining: 382ms\n",
            "593:\tlearn: 0.3091721\ttotal: 557ms\tremaining: 381ms\n",
            "594:\tlearn: 0.3090683\ttotal: 558ms\tremaining: 380ms\n",
            "595:\tlearn: 0.3090341\ttotal: 559ms\tremaining: 379ms\n",
            "596:\tlearn: 0.3088189\ttotal: 560ms\tremaining: 378ms\n",
            "597:\tlearn: 0.3087677\ttotal: 561ms\tremaining: 377ms\n",
            "598:\tlearn: 0.3086290\ttotal: 561ms\tremaining: 376ms\n",
            "599:\tlearn: 0.3085420\ttotal: 563ms\tremaining: 375ms\n",
            "600:\tlearn: 0.3084297\ttotal: 564ms\tremaining: 375ms\n",
            "601:\tlearn: 0.3084029\ttotal: 565ms\tremaining: 373ms\n",
            "602:\tlearn: 0.3083047\ttotal: 566ms\tremaining: 372ms\n",
            "603:\tlearn: 0.3081758\ttotal: 566ms\tremaining: 371ms\n",
            "604:\tlearn: 0.3079946\ttotal: 567ms\tremaining: 370ms\n",
            "605:\tlearn: 0.3079440\ttotal: 568ms\tremaining: 369ms\n",
            "606:\tlearn: 0.3077796\ttotal: 569ms\tremaining: 368ms\n",
            "607:\tlearn: 0.3076772\ttotal: 569ms\tremaining: 367ms\n",
            "608:\tlearn: 0.3075328\ttotal: 570ms\tremaining: 366ms\n",
            "609:\tlearn: 0.3074523\ttotal: 571ms\tremaining: 365ms\n",
            "610:\tlearn: 0.3073047\ttotal: 572ms\tremaining: 364ms\n",
            "611:\tlearn: 0.3072131\ttotal: 573ms\tremaining: 363ms\n",
            "612:\tlearn: 0.3070527\ttotal: 573ms\tremaining: 362ms\n",
            "613:\tlearn: 0.3070397\ttotal: 574ms\tremaining: 361ms\n",
            "614:\tlearn: 0.3069760\ttotal: 575ms\tremaining: 360ms\n",
            "615:\tlearn: 0.3068459\ttotal: 575ms\tremaining: 359ms\n",
            "616:\tlearn: 0.3068018\ttotal: 576ms\tremaining: 358ms\n",
            "617:\tlearn: 0.3067341\ttotal: 577ms\tremaining: 357ms\n",
            "618:\tlearn: 0.3066543\ttotal: 578ms\tremaining: 356ms\n",
            "619:\tlearn: 0.3064581\ttotal: 578ms\tremaining: 355ms\n",
            "620:\tlearn: 0.3063730\ttotal: 579ms\tremaining: 353ms\n",
            "621:\tlearn: 0.3061777\ttotal: 580ms\tremaining: 352ms\n",
            "622:\tlearn: 0.3060677\ttotal: 581ms\tremaining: 351ms\n",
            "623:\tlearn: 0.3059485\ttotal: 581ms\tremaining: 350ms\n",
            "624:\tlearn: 0.3058951\ttotal: 582ms\tremaining: 349ms\n",
            "625:\tlearn: 0.3057897\ttotal: 583ms\tremaining: 348ms\n",
            "626:\tlearn: 0.3056744\ttotal: 584ms\tremaining: 347ms\n",
            "627:\tlearn: 0.3055077\ttotal: 584ms\tremaining: 346ms\n",
            "628:\tlearn: 0.3054290\ttotal: 585ms\tremaining: 345ms\n",
            "629:\tlearn: 0.3053835\ttotal: 586ms\tremaining: 344ms\n",
            "630:\tlearn: 0.3051904\ttotal: 587ms\tremaining: 343ms\n",
            "631:\tlearn: 0.3051642\ttotal: 587ms\tremaining: 342ms\n",
            "632:\tlearn: 0.3050622\ttotal: 588ms\tremaining: 341ms\n",
            "633:\tlearn: 0.3049455\ttotal: 589ms\tremaining: 340ms\n",
            "634:\tlearn: 0.3048541\ttotal: 590ms\tremaining: 339ms\n",
            "635:\tlearn: 0.3047623\ttotal: 590ms\tremaining: 338ms\n",
            "636:\tlearn: 0.3045752\ttotal: 591ms\tremaining: 337ms\n",
            "637:\tlearn: 0.3044639\ttotal: 592ms\tremaining: 336ms\n",
            "638:\tlearn: 0.3043877\ttotal: 593ms\tremaining: 335ms\n",
            "639:\tlearn: 0.3042687\ttotal: 594ms\tremaining: 334ms\n",
            "640:\tlearn: 0.3042683\ttotal: 594ms\tremaining: 333ms\n",
            "641:\tlearn: 0.3040849\ttotal: 595ms\tremaining: 332ms\n",
            "642:\tlearn: 0.3039374\ttotal: 596ms\tremaining: 331ms\n",
            "643:\tlearn: 0.3038846\ttotal: 596ms\tremaining: 330ms\n",
            "644:\tlearn: 0.3038377\ttotal: 597ms\tremaining: 329ms\n",
            "645:\tlearn: 0.3036032\ttotal: 598ms\tremaining: 328ms\n",
            "646:\tlearn: 0.3033776\ttotal: 599ms\tremaining: 327ms\n",
            "647:\tlearn: 0.3031838\ttotal: 601ms\tremaining: 326ms\n",
            "648:\tlearn: 0.3030157\ttotal: 601ms\tremaining: 325ms\n",
            "649:\tlearn: 0.3028849\ttotal: 602ms\tremaining: 324ms\n",
            "650:\tlearn: 0.3028679\ttotal: 603ms\tremaining: 323ms\n",
            "651:\tlearn: 0.3027669\ttotal: 604ms\tremaining: 322ms\n",
            "652:\tlearn: 0.3027148\ttotal: 604ms\tremaining: 321ms\n",
            "653:\tlearn: 0.3025726\ttotal: 605ms\tremaining: 320ms\n",
            "654:\tlearn: 0.3023905\ttotal: 606ms\tremaining: 319ms\n",
            "655:\tlearn: 0.3022875\ttotal: 607ms\tremaining: 318ms\n",
            "656:\tlearn: 0.3022014\ttotal: 607ms\tremaining: 317ms\n",
            "657:\tlearn: 0.3020500\ttotal: 608ms\tremaining: 316ms\n",
            "658:\tlearn: 0.3019420\ttotal: 609ms\tremaining: 315ms\n",
            "659:\tlearn: 0.3018859\ttotal: 610ms\tremaining: 314ms\n",
            "660:\tlearn: 0.3017752\ttotal: 611ms\tremaining: 313ms\n",
            "661:\tlearn: 0.3016715\ttotal: 611ms\tremaining: 312ms\n",
            "662:\tlearn: 0.3016338\ttotal: 612ms\tremaining: 311ms\n",
            "663:\tlearn: 0.3014751\ttotal: 613ms\tremaining: 310ms\n",
            "664:\tlearn: 0.3013154\ttotal: 613ms\tremaining: 309ms\n",
            "665:\tlearn: 0.3012160\ttotal: 614ms\tremaining: 308ms\n",
            "666:\tlearn: 0.3010232\ttotal: 615ms\tremaining: 307ms\n",
            "667:\tlearn: 0.3009050\ttotal: 616ms\tremaining: 306ms\n",
            "668:\tlearn: 0.3008237\ttotal: 616ms\tremaining: 305ms\n",
            "669:\tlearn: 0.3006948\ttotal: 617ms\tremaining: 304ms\n",
            "670:\tlearn: 0.3006709\ttotal: 618ms\tremaining: 303ms\n",
            "671:\tlearn: 0.3005499\ttotal: 619ms\tremaining: 302ms\n",
            "672:\tlearn: 0.3003320\ttotal: 619ms\tremaining: 301ms\n",
            "673:\tlearn: 0.3001663\ttotal: 620ms\tremaining: 300ms\n",
            "674:\tlearn: 0.3000079\ttotal: 621ms\tremaining: 299ms\n",
            "675:\tlearn: 0.2998803\ttotal: 621ms\tremaining: 298ms\n",
            "676:\tlearn: 0.2997351\ttotal: 622ms\tremaining: 297ms\n",
            "677:\tlearn: 0.2996125\ttotal: 623ms\tremaining: 296ms\n",
            "678:\tlearn: 0.2994323\ttotal: 624ms\tremaining: 295ms\n",
            "679:\tlearn: 0.2993711\ttotal: 624ms\tremaining: 294ms\n",
            "680:\tlearn: 0.2992641\ttotal: 625ms\tremaining: 293ms\n",
            "681:\tlearn: 0.2991160\ttotal: 626ms\tremaining: 292ms\n",
            "682:\tlearn: 0.2989408\ttotal: 627ms\tremaining: 291ms\n",
            "683:\tlearn: 0.2988553\ttotal: 627ms\tremaining: 290ms\n",
            "684:\tlearn: 0.2987909\ttotal: 628ms\tremaining: 289ms\n",
            "685:\tlearn: 0.2987528\ttotal: 629ms\tremaining: 288ms\n",
            "686:\tlearn: 0.2986358\ttotal: 629ms\tremaining: 287ms\n",
            "687:\tlearn: 0.2985855\ttotal: 630ms\tremaining: 286ms\n",
            "688:\tlearn: 0.2984318\ttotal: 631ms\tremaining: 285ms\n",
            "689:\tlearn: 0.2983058\ttotal: 632ms\tremaining: 284ms\n",
            "690:\tlearn: 0.2982309\ttotal: 632ms\tremaining: 283ms\n",
            "691:\tlearn: 0.2980606\ttotal: 633ms\tremaining: 282ms\n",
            "692:\tlearn: 0.2979721\ttotal: 634ms\tremaining: 281ms\n",
            "693:\tlearn: 0.2978757\ttotal: 635ms\tremaining: 280ms\n",
            "694:\tlearn: 0.2977743\ttotal: 635ms\tremaining: 279ms\n",
            "695:\tlearn: 0.2976604\ttotal: 636ms\tremaining: 278ms\n",
            "696:\tlearn: 0.2975503\ttotal: 637ms\tremaining: 277ms\n",
            "697:\tlearn: 0.2973276\ttotal: 638ms\tremaining: 276ms\n",
            "698:\tlearn: 0.2972299\ttotal: 638ms\tremaining: 275ms\n",
            "699:\tlearn: 0.2971533\ttotal: 639ms\tremaining: 274ms\n",
            "700:\tlearn: 0.2969959\ttotal: 640ms\tremaining: 273ms\n",
            "701:\tlearn: 0.2969344\ttotal: 640ms\tremaining: 272ms\n",
            "702:\tlearn: 0.2968963\ttotal: 641ms\tremaining: 271ms\n",
            "703:\tlearn: 0.2967527\ttotal: 642ms\tremaining: 270ms\n",
            "704:\tlearn: 0.2966492\ttotal: 643ms\tremaining: 269ms\n",
            "705:\tlearn: 0.2965623\ttotal: 643ms\tremaining: 268ms\n",
            "706:\tlearn: 0.2964026\ttotal: 644ms\tremaining: 267ms\n",
            "707:\tlearn: 0.2963392\ttotal: 645ms\tremaining: 266ms\n",
            "708:\tlearn: 0.2961755\ttotal: 645ms\tremaining: 265ms\n",
            "709:\tlearn: 0.2959680\ttotal: 646ms\tremaining: 264ms\n",
            "710:\tlearn: 0.2958998\ttotal: 647ms\tremaining: 263ms\n",
            "711:\tlearn: 0.2956605\ttotal: 648ms\tremaining: 262ms\n",
            "712:\tlearn: 0.2955438\ttotal: 648ms\tremaining: 261ms\n",
            "713:\tlearn: 0.2954362\ttotal: 649ms\tremaining: 260ms\n",
            "714:\tlearn: 0.2953480\ttotal: 650ms\tremaining: 259ms\n",
            "715:\tlearn: 0.2952079\ttotal: 651ms\tremaining: 258ms\n",
            "716:\tlearn: 0.2950024\ttotal: 652ms\tremaining: 257ms\n",
            "717:\tlearn: 0.2949048\ttotal: 652ms\tremaining: 256ms\n",
            "718:\tlearn: 0.2947494\ttotal: 653ms\tremaining: 255ms\n",
            "719:\tlearn: 0.2946251\ttotal: 654ms\tremaining: 254ms\n",
            "720:\tlearn: 0.2945725\ttotal: 655ms\tremaining: 253ms\n",
            "721:\tlearn: 0.2945234\ttotal: 655ms\tremaining: 252ms\n",
            "722:\tlearn: 0.2944527\ttotal: 656ms\tremaining: 251ms\n",
            "723:\tlearn: 0.2943453\ttotal: 657ms\tremaining: 250ms\n",
            "724:\tlearn: 0.2942519\ttotal: 658ms\tremaining: 249ms\n",
            "725:\tlearn: 0.2940829\ttotal: 658ms\tremaining: 248ms\n",
            "726:\tlearn: 0.2940300\ttotal: 659ms\tremaining: 247ms\n",
            "727:\tlearn: 0.2939615\ttotal: 660ms\tremaining: 247ms\n",
            "728:\tlearn: 0.2939042\ttotal: 661ms\tremaining: 246ms\n",
            "729:\tlearn: 0.2938340\ttotal: 661ms\tremaining: 245ms\n",
            "730:\tlearn: 0.2936839\ttotal: 662ms\tremaining: 244ms\n",
            "731:\tlearn: 0.2935230\ttotal: 663ms\tremaining: 243ms\n",
            "732:\tlearn: 0.2935060\ttotal: 664ms\tremaining: 242ms\n",
            "733:\tlearn: 0.2932899\ttotal: 665ms\tremaining: 241ms\n",
            "734:\tlearn: 0.2931747\ttotal: 666ms\tremaining: 240ms\n",
            "735:\tlearn: 0.2930220\ttotal: 667ms\tremaining: 239ms\n",
            "736:\tlearn: 0.2929626\ttotal: 667ms\tremaining: 238ms\n",
            "737:\tlearn: 0.2928953\ttotal: 669ms\tremaining: 237ms\n",
            "738:\tlearn: 0.2927806\ttotal: 670ms\tremaining: 237ms\n",
            "739:\tlearn: 0.2925330\ttotal: 671ms\tremaining: 236ms\n",
            "740:\tlearn: 0.2923838\ttotal: 672ms\tremaining: 235ms\n",
            "741:\tlearn: 0.2922859\ttotal: 673ms\tremaining: 234ms\n",
            "742:\tlearn: 0.2921584\ttotal: 674ms\tremaining: 233ms\n",
            "743:\tlearn: 0.2920545\ttotal: 675ms\tremaining: 232ms\n",
            "744:\tlearn: 0.2919563\ttotal: 676ms\tremaining: 231ms\n",
            "745:\tlearn: 0.2918823\ttotal: 677ms\tremaining: 230ms\n",
            "746:\tlearn: 0.2917924\ttotal: 678ms\tremaining: 230ms\n",
            "747:\tlearn: 0.2916663\ttotal: 678ms\tremaining: 229ms\n",
            "748:\tlearn: 0.2916101\ttotal: 679ms\tremaining: 228ms\n",
            "749:\tlearn: 0.2915465\ttotal: 680ms\tremaining: 227ms\n",
            "750:\tlearn: 0.2914354\ttotal: 681ms\tremaining: 226ms\n",
            "751:\tlearn: 0.2913439\ttotal: 681ms\tremaining: 225ms\n",
            "752:\tlearn: 0.2912834\ttotal: 682ms\tremaining: 224ms\n",
            "753:\tlearn: 0.2911637\ttotal: 683ms\tremaining: 223ms\n",
            "754:\tlearn: 0.2909659\ttotal: 685ms\tremaining: 222ms\n",
            "755:\tlearn: 0.2908828\ttotal: 686ms\tremaining: 222ms\n",
            "756:\tlearn: 0.2907914\ttotal: 688ms\tremaining: 221ms\n",
            "757:\tlearn: 0.2907131\ttotal: 689ms\tremaining: 220ms\n",
            "758:\tlearn: 0.2906196\ttotal: 690ms\tremaining: 219ms\n",
            "759:\tlearn: 0.2904735\ttotal: 691ms\tremaining: 218ms\n",
            "760:\tlearn: 0.2903173\ttotal: 691ms\tremaining: 217ms\n",
            "761:\tlearn: 0.2902745\ttotal: 692ms\tremaining: 216ms\n",
            "762:\tlearn: 0.2901995\ttotal: 693ms\tremaining: 215ms\n",
            "763:\tlearn: 0.2900485\ttotal: 693ms\tremaining: 214ms\n",
            "764:\tlearn: 0.2899609\ttotal: 694ms\tremaining: 213ms\n",
            "765:\tlearn: 0.2899533\ttotal: 694ms\tremaining: 212ms\n",
            "766:\tlearn: 0.2897886\ttotal: 695ms\tremaining: 211ms\n",
            "767:\tlearn: 0.2896946\ttotal: 695ms\tremaining: 210ms\n",
            "768:\tlearn: 0.2895234\ttotal: 696ms\tremaining: 209ms\n",
            "769:\tlearn: 0.2893979\ttotal: 696ms\tremaining: 208ms\n",
            "770:\tlearn: 0.2892480\ttotal: 697ms\tremaining: 207ms\n",
            "771:\tlearn: 0.2890640\ttotal: 697ms\tremaining: 206ms\n",
            "772:\tlearn: 0.2889625\ttotal: 698ms\tremaining: 205ms\n",
            "773:\tlearn: 0.2888679\ttotal: 699ms\tremaining: 204ms\n",
            "774:\tlearn: 0.2887472\ttotal: 699ms\tremaining: 203ms\n",
            "775:\tlearn: 0.2886722\ttotal: 700ms\tremaining: 202ms\n",
            "776:\tlearn: 0.2885937\ttotal: 700ms\tremaining: 201ms\n",
            "777:\tlearn: 0.2884720\ttotal: 701ms\tremaining: 200ms\n",
            "778:\tlearn: 0.2883697\ttotal: 701ms\tremaining: 199ms\n",
            "779:\tlearn: 0.2882723\ttotal: 702ms\tremaining: 198ms\n",
            "780:\tlearn: 0.2881095\ttotal: 703ms\tremaining: 197ms\n",
            "781:\tlearn: 0.2880347\ttotal: 703ms\tremaining: 196ms\n",
            "782:\tlearn: 0.2879801\ttotal: 704ms\tremaining: 195ms\n",
            "783:\tlearn: 0.2879135\ttotal: 704ms\tremaining: 194ms\n",
            "784:\tlearn: 0.2878394\ttotal: 705ms\tremaining: 193ms\n",
            "785:\tlearn: 0.2876518\ttotal: 706ms\tremaining: 192ms\n",
            "786:\tlearn: 0.2875810\ttotal: 706ms\tremaining: 191ms\n",
            "787:\tlearn: 0.2874896\ttotal: 707ms\tremaining: 190ms\n",
            "788:\tlearn: 0.2873944\ttotal: 707ms\tremaining: 189ms\n",
            "789:\tlearn: 0.2873327\ttotal: 708ms\tremaining: 188ms\n",
            "790:\tlearn: 0.2872334\ttotal: 709ms\tremaining: 187ms\n",
            "791:\tlearn: 0.2870709\ttotal: 712ms\tremaining: 187ms\n",
            "792:\tlearn: 0.2869786\ttotal: 715ms\tremaining: 187ms\n",
            "793:\tlearn: 0.2869220\ttotal: 717ms\tremaining: 186ms\n",
            "794:\tlearn: 0.2868090\ttotal: 718ms\tremaining: 185ms\n",
            "795:\tlearn: 0.2866953\ttotal: 718ms\tremaining: 184ms\n",
            "796:\tlearn: 0.2866356\ttotal: 719ms\tremaining: 183ms\n",
            "797:\tlearn: 0.2864495\ttotal: 720ms\tremaining: 182ms\n",
            "798:\tlearn: 0.2863371\ttotal: 720ms\tremaining: 181ms\n",
            "799:\tlearn: 0.2862197\ttotal: 721ms\tremaining: 180ms\n",
            "800:\tlearn: 0.2861235\ttotal: 721ms\tremaining: 179ms\n",
            "801:\tlearn: 0.2860455\ttotal: 722ms\tremaining: 178ms\n",
            "802:\tlearn: 0.2859434\ttotal: 722ms\tremaining: 177ms\n",
            "803:\tlearn: 0.2858634\ttotal: 723ms\tremaining: 176ms\n",
            "804:\tlearn: 0.2857567\ttotal: 724ms\tremaining: 175ms\n",
            "805:\tlearn: 0.2856508\ttotal: 724ms\tremaining: 174ms\n",
            "806:\tlearn: 0.2855827\ttotal: 725ms\tremaining: 173ms\n",
            "807:\tlearn: 0.2854467\ttotal: 725ms\tremaining: 172ms\n",
            "808:\tlearn: 0.2852702\ttotal: 726ms\tremaining: 171ms\n",
            "809:\tlearn: 0.2851661\ttotal: 726ms\tremaining: 170ms\n",
            "810:\tlearn: 0.2851524\ttotal: 727ms\tremaining: 169ms\n",
            "811:\tlearn: 0.2850709\ttotal: 727ms\tremaining: 168ms\n",
            "812:\tlearn: 0.2849392\ttotal: 728ms\tremaining: 167ms\n",
            "813:\tlearn: 0.2847488\ttotal: 729ms\tremaining: 166ms\n",
            "814:\tlearn: 0.2847008\ttotal: 729ms\tremaining: 166ms\n",
            "815:\tlearn: 0.2846629\ttotal: 730ms\tremaining: 165ms\n",
            "816:\tlearn: 0.2845508\ttotal: 731ms\tremaining: 164ms\n",
            "817:\tlearn: 0.2844626\ttotal: 731ms\tremaining: 163ms\n",
            "818:\tlearn: 0.2843431\ttotal: 732ms\tremaining: 162ms\n",
            "819:\tlearn: 0.2842702\ttotal: 733ms\tremaining: 161ms\n",
            "820:\tlearn: 0.2842433\ttotal: 734ms\tremaining: 160ms\n",
            "821:\tlearn: 0.2841160\ttotal: 734ms\tremaining: 159ms\n",
            "822:\tlearn: 0.2840276\ttotal: 735ms\tremaining: 158ms\n",
            "823:\tlearn: 0.2839117\ttotal: 736ms\tremaining: 157ms\n",
            "824:\tlearn: 0.2838069\ttotal: 737ms\tremaining: 156ms\n",
            "825:\tlearn: 0.2835642\ttotal: 737ms\tremaining: 155ms\n",
            "826:\tlearn: 0.2834490\ttotal: 738ms\tremaining: 154ms\n",
            "827:\tlearn: 0.2833454\ttotal: 739ms\tremaining: 153ms\n",
            "828:\tlearn: 0.2832174\ttotal: 740ms\tremaining: 153ms\n",
            "829:\tlearn: 0.2831655\ttotal: 740ms\tremaining: 152ms\n",
            "830:\tlearn: 0.2830889\ttotal: 741ms\tremaining: 151ms\n",
            "831:\tlearn: 0.2830707\ttotal: 742ms\tremaining: 150ms\n",
            "832:\tlearn: 0.2830220\ttotal: 743ms\tremaining: 149ms\n",
            "833:\tlearn: 0.2829394\ttotal: 743ms\tremaining: 148ms\n",
            "834:\tlearn: 0.2828978\ttotal: 744ms\tremaining: 147ms\n",
            "835:\tlearn: 0.2828092\ttotal: 745ms\tremaining: 146ms\n",
            "836:\tlearn: 0.2827733\ttotal: 745ms\tremaining: 145ms\n",
            "837:\tlearn: 0.2827007\ttotal: 746ms\tremaining: 144ms\n",
            "838:\tlearn: 0.2826817\ttotal: 747ms\tremaining: 143ms\n",
            "839:\tlearn: 0.2825978\ttotal: 748ms\tremaining: 142ms\n",
            "840:\tlearn: 0.2825127\ttotal: 748ms\tremaining: 141ms\n",
            "841:\tlearn: 0.2823740\ttotal: 749ms\tremaining: 141ms\n",
            "842:\tlearn: 0.2822873\ttotal: 750ms\tremaining: 140ms\n",
            "843:\tlearn: 0.2822224\ttotal: 751ms\tremaining: 139ms\n",
            "844:\tlearn: 0.2821514\ttotal: 751ms\tremaining: 138ms\n",
            "845:\tlearn: 0.2819859\ttotal: 752ms\tremaining: 137ms\n",
            "846:\tlearn: 0.2818893\ttotal: 753ms\tremaining: 136ms\n",
            "847:\tlearn: 0.2818242\ttotal: 754ms\tremaining: 135ms\n",
            "848:\tlearn: 0.2817350\ttotal: 754ms\tremaining: 134ms\n",
            "849:\tlearn: 0.2816484\ttotal: 755ms\tremaining: 133ms\n",
            "850:\tlearn: 0.2814747\ttotal: 756ms\tremaining: 132ms\n",
            "851:\tlearn: 0.2812979\ttotal: 757ms\tremaining: 131ms\n",
            "852:\tlearn: 0.2812248\ttotal: 758ms\tremaining: 131ms\n",
            "853:\tlearn: 0.2812198\ttotal: 758ms\tremaining: 130ms\n",
            "854:\tlearn: 0.2811058\ttotal: 759ms\tremaining: 129ms\n",
            "855:\tlearn: 0.2809846\ttotal: 760ms\tremaining: 128ms\n",
            "856:\tlearn: 0.2808994\ttotal: 760ms\tremaining: 127ms\n",
            "857:\tlearn: 0.2808129\ttotal: 761ms\tremaining: 126ms\n",
            "858:\tlearn: 0.2805758\ttotal: 762ms\tremaining: 125ms\n",
            "859:\tlearn: 0.2805116\ttotal: 763ms\tremaining: 124ms\n",
            "860:\tlearn: 0.2803957\ttotal: 763ms\tremaining: 123ms\n",
            "861:\tlearn: 0.2802625\ttotal: 764ms\tremaining: 122ms\n",
            "862:\tlearn: 0.2801474\ttotal: 765ms\tremaining: 121ms\n",
            "863:\tlearn: 0.2799627\ttotal: 766ms\tremaining: 121ms\n",
            "864:\tlearn: 0.2798449\ttotal: 766ms\tremaining: 120ms\n",
            "865:\tlearn: 0.2798109\ttotal: 767ms\tremaining: 119ms\n",
            "866:\tlearn: 0.2797580\ttotal: 768ms\tremaining: 118ms\n",
            "867:\tlearn: 0.2796445\ttotal: 769ms\tremaining: 117ms\n",
            "868:\tlearn: 0.2795528\ttotal: 769ms\tremaining: 116ms\n",
            "869:\tlearn: 0.2795190\ttotal: 770ms\tremaining: 115ms\n",
            "870:\tlearn: 0.2793838\ttotal: 771ms\tremaining: 114ms\n",
            "871:\tlearn: 0.2791563\ttotal: 772ms\tremaining: 113ms\n",
            "872:\tlearn: 0.2790585\ttotal: 772ms\tremaining: 112ms\n",
            "873:\tlearn: 0.2789376\ttotal: 773ms\tremaining: 111ms\n",
            "874:\tlearn: 0.2788120\ttotal: 774ms\tremaining: 111ms\n",
            "875:\tlearn: 0.2787433\ttotal: 775ms\tremaining: 110ms\n",
            "876:\tlearn: 0.2786480\ttotal: 775ms\tremaining: 109ms\n",
            "877:\tlearn: 0.2784669\ttotal: 776ms\tremaining: 108ms\n",
            "878:\tlearn: 0.2782971\ttotal: 777ms\tremaining: 107ms\n",
            "879:\tlearn: 0.2781460\ttotal: 778ms\tremaining: 106ms\n",
            "880:\tlearn: 0.2780439\ttotal: 778ms\tremaining: 105ms\n",
            "881:\tlearn: 0.2779252\ttotal: 779ms\tremaining: 104ms\n",
            "882:\tlearn: 0.2778089\ttotal: 780ms\tremaining: 103ms\n",
            "883:\tlearn: 0.2777389\ttotal: 781ms\tremaining: 102ms\n",
            "884:\tlearn: 0.2776105\ttotal: 781ms\tremaining: 102ms\n",
            "885:\tlearn: 0.2774782\ttotal: 782ms\tremaining: 101ms\n",
            "886:\tlearn: 0.2772820\ttotal: 783ms\tremaining: 99.7ms\n",
            "887:\tlearn: 0.2771826\ttotal: 784ms\tremaining: 98.8ms\n",
            "888:\tlearn: 0.2771253\ttotal: 784ms\tremaining: 97.9ms\n",
            "889:\tlearn: 0.2770005\ttotal: 785ms\tremaining: 97ms\n",
            "890:\tlearn: 0.2769307\ttotal: 786ms\tremaining: 96.1ms\n",
            "891:\tlearn: 0.2768402\ttotal: 787ms\tremaining: 95.2ms\n",
            "892:\tlearn: 0.2767805\ttotal: 788ms\tremaining: 94.4ms\n",
            "893:\tlearn: 0.2767138\ttotal: 789ms\tremaining: 93.5ms\n",
            "894:\tlearn: 0.2766238\ttotal: 790ms\tremaining: 92.7ms\n",
            "895:\tlearn: 0.2765754\ttotal: 791ms\tremaining: 91.8ms\n",
            "896:\tlearn: 0.2765024\ttotal: 792ms\tremaining: 90.9ms\n",
            "897:\tlearn: 0.2763895\ttotal: 793ms\tremaining: 90ms\n",
            "898:\tlearn: 0.2763331\ttotal: 793ms\tremaining: 89.1ms\n",
            "899:\tlearn: 0.2762235\ttotal: 795ms\tremaining: 88.3ms\n",
            "900:\tlearn: 0.2761194\ttotal: 796ms\tremaining: 87.5ms\n",
            "901:\tlearn: 0.2760119\ttotal: 797ms\tremaining: 86.6ms\n",
            "902:\tlearn: 0.2758175\ttotal: 798ms\tremaining: 85.7ms\n",
            "903:\tlearn: 0.2757573\ttotal: 799ms\tremaining: 84.9ms\n",
            "904:\tlearn: 0.2756956\ttotal: 800ms\tremaining: 84ms\n",
            "905:\tlearn: 0.2756354\ttotal: 801ms\tremaining: 83.1ms\n",
            "906:\tlearn: 0.2754699\ttotal: 802ms\tremaining: 82.2ms\n",
            "907:\tlearn: 0.2754203\ttotal: 803ms\tremaining: 81.3ms\n",
            "908:\tlearn: 0.2753447\ttotal: 803ms\tremaining: 80.4ms\n",
            "909:\tlearn: 0.2752069\ttotal: 804ms\tremaining: 79.5ms\n",
            "910:\tlearn: 0.2750948\ttotal: 805ms\tremaining: 78.6ms\n",
            "911:\tlearn: 0.2750498\ttotal: 806ms\tremaining: 77.7ms\n",
            "912:\tlearn: 0.2749452\ttotal: 806ms\tremaining: 76.8ms\n",
            "913:\tlearn: 0.2748607\ttotal: 807ms\tremaining: 75.9ms\n",
            "914:\tlearn: 0.2747921\ttotal: 808ms\tremaining: 75ms\n",
            "915:\tlearn: 0.2747355\ttotal: 809ms\tremaining: 74.2ms\n",
            "916:\tlearn: 0.2746182\ttotal: 809ms\tremaining: 73.3ms\n",
            "917:\tlearn: 0.2745066\ttotal: 810ms\tremaining: 72.4ms\n",
            "918:\tlearn: 0.2743350\ttotal: 811ms\tremaining: 71.5ms\n",
            "919:\tlearn: 0.2743013\ttotal: 812ms\tremaining: 70.6ms\n",
            "920:\tlearn: 0.2742254\ttotal: 812ms\tremaining: 69.7ms\n",
            "921:\tlearn: 0.2741467\ttotal: 813ms\tremaining: 68.8ms\n",
            "922:\tlearn: 0.2740402\ttotal: 814ms\tremaining: 67.9ms\n",
            "923:\tlearn: 0.2739889\ttotal: 814ms\tremaining: 67ms\n",
            "924:\tlearn: 0.2738814\ttotal: 815ms\tremaining: 66.1ms\n",
            "925:\tlearn: 0.2738066\ttotal: 816ms\tremaining: 65.2ms\n",
            "926:\tlearn: 0.2737365\ttotal: 817ms\tremaining: 64.3ms\n",
            "927:\tlearn: 0.2737142\ttotal: 818ms\tremaining: 63.4ms\n",
            "928:\tlearn: 0.2736326\ttotal: 818ms\tremaining: 62.5ms\n",
            "929:\tlearn: 0.2734811\ttotal: 819ms\tremaining: 61.7ms\n",
            "930:\tlearn: 0.2733761\ttotal: 820ms\tremaining: 60.8ms\n",
            "931:\tlearn: 0.2732575\ttotal: 821ms\tremaining: 59.9ms\n",
            "932:\tlearn: 0.2732012\ttotal: 821ms\tremaining: 59ms\n",
            "933:\tlearn: 0.2731035\ttotal: 822ms\tremaining: 58.1ms\n",
            "934:\tlearn: 0.2730521\ttotal: 823ms\tremaining: 57.2ms\n",
            "935:\tlearn: 0.2730077\ttotal: 824ms\tremaining: 56.3ms\n",
            "936:\tlearn: 0.2729192\ttotal: 825ms\tremaining: 55.5ms\n",
            "937:\tlearn: 0.2728438\ttotal: 826ms\tremaining: 54.6ms\n",
            "938:\tlearn: 0.2727952\ttotal: 826ms\tremaining: 53.7ms\n",
            "939:\tlearn: 0.2727554\ttotal: 827ms\tremaining: 52.8ms\n",
            "940:\tlearn: 0.2726289\ttotal: 828ms\tremaining: 51.9ms\n",
            "941:\tlearn: 0.2725816\ttotal: 829ms\tremaining: 51ms\n",
            "942:\tlearn: 0.2724721\ttotal: 829ms\tremaining: 50.1ms\n",
            "943:\tlearn: 0.2723031\ttotal: 830ms\tremaining: 49.2ms\n",
            "944:\tlearn: 0.2722412\ttotal: 831ms\tremaining: 48.4ms\n",
            "945:\tlearn: 0.2720891\ttotal: 832ms\tremaining: 47.5ms\n",
            "946:\tlearn: 0.2720010\ttotal: 833ms\tremaining: 46.6ms\n",
            "947:\tlearn: 0.2719437\ttotal: 833ms\tremaining: 45.7ms\n",
            "948:\tlearn: 0.2718794\ttotal: 834ms\tremaining: 44.8ms\n",
            "949:\tlearn: 0.2717604\ttotal: 835ms\tremaining: 43.9ms\n",
            "950:\tlearn: 0.2716453\ttotal: 836ms\tremaining: 43.1ms\n",
            "951:\tlearn: 0.2715598\ttotal: 836ms\tremaining: 42.2ms\n",
            "952:\tlearn: 0.2714864\ttotal: 837ms\tremaining: 41.3ms\n",
            "953:\tlearn: 0.2714060\ttotal: 838ms\tremaining: 40.4ms\n",
            "954:\tlearn: 0.2713700\ttotal: 839ms\tremaining: 39.5ms\n",
            "955:\tlearn: 0.2712446\ttotal: 839ms\tremaining: 38.6ms\n",
            "956:\tlearn: 0.2711631\ttotal: 840ms\tremaining: 37.8ms\n",
            "957:\tlearn: 0.2710169\ttotal: 841ms\tremaining: 36.9ms\n",
            "958:\tlearn: 0.2709732\ttotal: 842ms\tremaining: 36ms\n",
            "959:\tlearn: 0.2709382\ttotal: 842ms\tremaining: 35.1ms\n",
            "960:\tlearn: 0.2708068\ttotal: 843ms\tremaining: 34.2ms\n",
            "961:\tlearn: 0.2706830\ttotal: 844ms\tremaining: 33.3ms\n",
            "962:\tlearn: 0.2705754\ttotal: 845ms\tremaining: 32.5ms\n",
            "963:\tlearn: 0.2705320\ttotal: 846ms\tremaining: 31.6ms\n",
            "964:\tlearn: 0.2704839\ttotal: 846ms\tremaining: 30.7ms\n",
            "965:\tlearn: 0.2703241\ttotal: 847ms\tremaining: 29.8ms\n",
            "966:\tlearn: 0.2702417\ttotal: 848ms\tremaining: 28.9ms\n",
            "967:\tlearn: 0.2701884\ttotal: 849ms\tremaining: 28.1ms\n",
            "968:\tlearn: 0.2700745\ttotal: 849ms\tremaining: 27.2ms\n",
            "969:\tlearn: 0.2699923\ttotal: 850ms\tremaining: 26.3ms\n",
            "970:\tlearn: 0.2698925\ttotal: 851ms\tremaining: 25.4ms\n",
            "971:\tlearn: 0.2698161\ttotal: 852ms\tremaining: 24.5ms\n",
            "972:\tlearn: 0.2697493\ttotal: 852ms\tremaining: 23.6ms\n",
            "973:\tlearn: 0.2696685\ttotal: 853ms\tremaining: 22.8ms\n",
            "974:\tlearn: 0.2695483\ttotal: 854ms\tremaining: 21.9ms\n",
            "975:\tlearn: 0.2694246\ttotal: 855ms\tremaining: 21ms\n",
            "976:\tlearn: 0.2692999\ttotal: 855ms\tremaining: 20.1ms\n",
            "977:\tlearn: 0.2691932\ttotal: 856ms\tremaining: 19.3ms\n",
            "978:\tlearn: 0.2691058\ttotal: 857ms\tremaining: 18.4ms\n",
            "979:\tlearn: 0.2690143\ttotal: 858ms\tremaining: 17.5ms\n",
            "980:\tlearn: 0.2688982\ttotal: 858ms\tremaining: 16.6ms\n",
            "981:\tlearn: 0.2688113\ttotal: 859ms\tremaining: 15.7ms\n",
            "982:\tlearn: 0.2687259\ttotal: 860ms\tremaining: 14.9ms\n",
            "983:\tlearn: 0.2685767\ttotal: 861ms\tremaining: 14ms\n",
            "984:\tlearn: 0.2684707\ttotal: 861ms\tremaining: 13.1ms\n",
            "985:\tlearn: 0.2683742\ttotal: 862ms\tremaining: 12.2ms\n",
            "986:\tlearn: 0.2682912\ttotal: 863ms\tremaining: 11.4ms\n",
            "987:\tlearn: 0.2681729\ttotal: 864ms\tremaining: 10.5ms\n",
            "988:\tlearn: 0.2681479\ttotal: 864ms\tremaining: 9.61ms\n",
            "989:\tlearn: 0.2680678\ttotal: 865ms\tremaining: 8.74ms\n",
            "990:\tlearn: 0.2680119\ttotal: 866ms\tremaining: 7.86ms\n",
            "991:\tlearn: 0.2679435\ttotal: 867ms\tremaining: 6.99ms\n",
            "992:\tlearn: 0.2679039\ttotal: 867ms\tremaining: 6.11ms\n",
            "993:\tlearn: 0.2678264\ttotal: 868ms\tremaining: 5.24ms\n",
            "994:\tlearn: 0.2677844\ttotal: 869ms\tremaining: 4.37ms\n",
            "995:\tlearn: 0.2676699\ttotal: 870ms\tremaining: 3.49ms\n",
            "996:\tlearn: 0.2675966\ttotal: 870ms\tremaining: 2.62ms\n",
            "997:\tlearn: 0.2675450\ttotal: 871ms\tremaining: 1.75ms\n",
            "998:\tlearn: 0.2674574\ttotal: 872ms\tremaining: 872us\n",
            "999:\tlearn: 0.2673276\ttotal: 873ms\tremaining: 0us\n",
            "              precision    recall  f1-score   support\n",
            "\n",
            "           0       0.82      0.93      0.87       110\n",
            "           1       0.85      0.67      0.75        69\n",
            "\n",
            "    accuracy                           0.83       179\n",
            "   macro avg       0.83      0.80      0.81       179\n",
            "weighted avg       0.83      0.83      0.82       179\n",
            "\n"
          ],
          "name": "stdout"
        }
      ]
    },
    {
      "cell_type": "markdown",
      "metadata": {
        "id": "EphR-9Vt2f6G"
      },
      "source": [
        "**XGBoost**"
      ]
    },
    {
      "cell_type": "code",
      "metadata": {
        "colab": {
          "base_uri": "https://localhost:8080/"
        },
        "id": "pnqnr7go2krV",
        "outputId": "66437259-2ab5-4262-b118-8111faaf439b"
      },
      "source": [
        "xgb = XGBClassifier()\n",
        "\n",
        "xgb.fit(X_train, y_train)\n",
        "\n",
        "y_pred = xgb.predict(X_test)\n",
        "\n",
        "print(classification_report(y_test,y_pred))"
      ],
      "execution_count": 70,
      "outputs": [
        {
          "output_type": "stream",
          "text": [
            "              precision    recall  f1-score   support\n",
            "\n",
            "           0       0.82      0.88      0.85       110\n",
            "           1       0.79      0.70      0.74        69\n",
            "\n",
            "    accuracy                           0.81       179\n",
            "   macro avg       0.80      0.79      0.79       179\n",
            "weighted avg       0.81      0.81      0.81       179\n",
            "\n"
          ],
          "name": "stdout"
        }
      ]
    },
    {
      "cell_type": "markdown",
      "metadata": {
        "id": "9VSSzkkO3GOr"
      },
      "source": [
        "**Light GBM**"
      ]
    },
    {
      "cell_type": "code",
      "metadata": {
        "colab": {
          "base_uri": "https://localhost:8080/"
        },
        "id": "JhBMMmC93Ncd",
        "outputId": "1cce8122-d4d3-47ee-8e84-c29228cb20ed"
      },
      "source": [
        "lgb = lgb.LGBMClassifier()\n",
        "\n",
        "lgb.fit(X_train, y_train)\n",
        "\n",
        "y_pred = lgb.predict(X_test)\n",
        "\n",
        "print(classification_report(y_test,y_pred))"
      ],
      "execution_count": 71,
      "outputs": [
        {
          "output_type": "stream",
          "text": [
            "              precision    recall  f1-score   support\n",
            "\n",
            "           0       0.80      0.93      0.86       110\n",
            "           1       0.85      0.64      0.73        69\n",
            "\n",
            "    accuracy                           0.82       179\n",
            "   macro avg       0.82      0.78      0.79       179\n",
            "weighted avg       0.82      0.82      0.81       179\n",
            "\n"
          ],
          "name": "stdout"
        }
      ]
    },
    {
      "cell_type": "markdown",
      "metadata": {
        "id": "a2upmG1jbxpG"
      },
      "source": [
        "![modelstitanic.png](data:image/png;base64,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)"
      ]
    },
    {
      "cell_type": "markdown",
      "metadata": {
        "id": "TTOa1RIE3nNa"
      },
      "source": [
        "Let's make use of optuna to find optimal values for random forest and xgb boost for example."
      ]
    },
    {
      "cell_type": "code",
      "metadata": {
        "id": "bmmIeF4o3xI4"
      },
      "source": [
        "\n",
        "# 10-fold CV\n",
        "kfolds = KFold(n_splits=10, shuffle=True)\n",
        "\n",
        "# Define the helper function so that it can be reused\n",
        "def tune(objective):\n",
        "    study = optuna.create_study(direction=\"maximize\")\n",
        "    study.optimize(objective, n_trials=100)\n",
        "\n",
        "    params = study.best_params\n",
        "    best_score = study.best_value\n",
        "    print(f\"Best score: {best_score}\\n\")\n",
        "    print(f\"Optimized parameters: {params}\\n\")\n",
        "    return params"
      ],
      "execution_count": 89,
      "outputs": []
    },
    {
      "cell_type": "code",
      "metadata": {
        "colab": {
          "base_uri": "https://localhost:8080/"
        },
        "id": "kz2Oc12R33AM",
        "outputId": "0c915988-0b77-48b6-8e92-9ad939aec035"
      },
      "source": [
        "##################\n",
        "# XGBoost\n",
        "##################\n",
        "def xgboost_objective(trial):\n",
        "    _colsample_bytree = trial.suggest_float(\"colsample_bytree\", 0.1, 0.9, log = True)\n",
        "    _gamma = trial.suggest_int(\"gamma\", 0, 10)\n",
        "    _learning_rate = trial.suggest_float(\"learning_rate\", 0.1, 0.6, log = True)\n",
        "    _max_depth = trial.suggest_int(\"max_depth\", 3, 9)\n",
        "    _min_child_weight = trial.suggest_int(\"min_child_weight\", 1, 9)\n",
        "    _reg_alpha = trial.suggest_float(\"reg_alpha\", 0.3, 0.9, log = True)\n",
        "    _reg_lambda = trial.suggest_float(\"reg_lambda\", 0.3, 0.9, log = True)\n",
        "    _subsample = trial.suggest_float(\"subsample\", 0.1, 0.9, log = True)\n",
        "    xgb = xgboost.XGBClassifier(\n",
        "        colsample_bytree=_colsample_bytree,\n",
        "        gamma = _gamma,\n",
        "        learning_rate = _learning_rate,\n",
        "        max_depth = _max_depth,\n",
        "        min_child_weight = _min_child_weight,\n",
        "        reg_alpha = _reg_alpha,\n",
        "        reg_lambda = _reg_lambda,\n",
        "        subsample = _subsample,\n",
        "        n_jobs=-1,\n",
        "    )\n",
        "\n",
        "    scores = cross_val_score(\n",
        "        xgb, X_train, y_train, cv=kfolds, scoring=\"accuracy\"\n",
        "    )\n",
        "    return scores.mean()\n",
        "\n",
        "xgboost_params = tune(xgboost_objective)\n",
        "xgb = xgboost.XGBClassifier(n_jobs=-1, **xgboost_params)"
      ],
      "execution_count": 85,
      "outputs": [
        {
          "output_type": "stream",
          "text": [
            "\u001b[32m[I 2021-04-30 18:41:23,900]\u001b[0m A new study created in memory with name: no-name-05702286-21fe-428d-a56c-49c528fd79a9\u001b[0m\n",
            "\u001b[32m[I 2021-04-30 18:41:24,158]\u001b[0m Trial 0 finished with value: 0.7654147104851331 and parameters: {'colsample_bytree': 0.16917492637068107, 'gamma': 1, 'learning_rate': 0.42073197654215316, 'max_depth': 6, 'min_child_weight': 9, 'reg_alpha': 0.8730049020826172, 'reg_lambda': 0.8016548110884814, 'subsample': 0.12107165008749571}. Best is trial 0 with value: 0.7654147104851331.\u001b[0m\n",
            "\u001b[32m[I 2021-04-30 18:41:24,500]\u001b[0m Trial 1 finished with value: 0.8216353677621283 and parameters: {'colsample_bytree': 0.35095268697016424, 'gamma': 4, 'learning_rate': 0.3788261349333747, 'max_depth': 3, 'min_child_weight': 5, 'reg_alpha': 0.3350761365962388, 'reg_lambda': 0.7292309085876839, 'subsample': 0.612661524669284}. Best is trial 1 with value: 0.8216353677621283.\u001b[0m\n",
            "\u001b[32m[I 2021-04-30 18:41:24,872]\u001b[0m Trial 2 finished with value: 0.8061815336463225 and parameters: {'colsample_bytree': 0.3708714480613421, 'gamma': 4, 'learning_rate': 0.11073855641113803, 'max_depth': 6, 'min_child_weight': 9, 'reg_alpha': 0.7074752938757152, 'reg_lambda': 0.3315006580219127, 'subsample': 0.5281535502290774}. Best is trial 1 with value: 0.8216353677621283.\u001b[0m\n",
            "\u001b[32m[I 2021-04-30 18:41:25,162]\u001b[0m Trial 3 finished with value: 0.7794796557120501 and parameters: {'colsample_bytree': 0.6332904797313142, 'gamma': 7, 'learning_rate': 0.13504661606373988, 'max_depth': 5, 'min_child_weight': 8, 'reg_alpha': 0.45153651892968366, 'reg_lambda': 0.5407805014264279, 'subsample': 0.16376123372214796}. Best is trial 1 with value: 0.8216353677621283.\u001b[0m\n",
            "\u001b[32m[I 2021-04-30 18:41:25,461]\u001b[0m Trial 4 finished with value: 0.7767605633802817 and parameters: {'colsample_bytree': 0.40075290159838667, 'gamma': 9, 'learning_rate': 0.2272001600971514, 'max_depth': 3, 'min_child_weight': 7, 'reg_alpha': 0.7415631432752379, 'reg_lambda': 0.37444073711514037, 'subsample': 0.21643654981489638}. Best is trial 1 with value: 0.8216353677621283.\u001b[0m\n",
            "\u001b[32m[I 2021-04-30 18:41:25,891]\u001b[0m Trial 5 finished with value: 0.8187597809076683 and parameters: {'colsample_bytree': 0.6398952634343626, 'gamma': 1, 'learning_rate': 0.3402331141521786, 'max_depth': 8, 'min_child_weight': 8, 'reg_alpha': 0.38411289495192397, 'reg_lambda': 0.3635282438468198, 'subsample': 0.5300907673221693}. Best is trial 1 with value: 0.8216353677621283.\u001b[0m\n",
            "\u001b[32m[I 2021-04-30 18:41:26,151]\u001b[0m Trial 6 finished with value: 0.7794600938967136 and parameters: {'colsample_bytree': 0.27111513166465334, 'gamma': 1, 'learning_rate': 0.1634568016866786, 'max_depth': 8, 'min_child_weight': 6, 'reg_alpha': 0.6881427252767744, 'reg_lambda': 0.47102713446478106, 'subsample': 0.12885618677366545}. Best is trial 1 with value: 0.8216353677621283.\u001b[0m\n",
            "\u001b[32m[I 2021-04-30 18:41:26,540]\u001b[0m Trial 7 finished with value: 0.8159820031298904 and parameters: {'colsample_bytree': 0.3364245072059284, 'gamma': 3, 'learning_rate': 0.44613461713852975, 'max_depth': 5, 'min_child_weight': 1, 'reg_alpha': 0.8171642162654895, 'reg_lambda': 0.7416707335125257, 'subsample': 0.4341324654045546}. Best is trial 1 with value: 0.8216353677621283.\u001b[0m\n",
            "\u001b[32m[I 2021-04-30 18:41:26,852]\u001b[0m Trial 8 finished with value: 0.7822378716744913 and parameters: {'colsample_bytree': 0.34789104696321127, 'gamma': 7, 'learning_rate': 0.18507230414947856, 'max_depth': 8, 'min_child_weight': 5, 'reg_alpha': 0.850436834264507, 'reg_lambda': 0.3837680048115548, 'subsample': 0.21868717567645432}. Best is trial 1 with value: 0.8216353677621283.\u001b[0m\n",
            "\u001b[32m[I 2021-04-30 18:41:27,228]\u001b[0m Trial 9 finished with value: 0.7878912363067292 and parameters: {'colsample_bytree': 0.5102493423516024, 'gamma': 10, 'learning_rate': 0.20108223431241581, 'max_depth': 6, 'min_child_weight': 5, 'reg_alpha': 0.6517393077976649, 'reg_lambda': 0.4192552069000571, 'subsample': 0.3558297663925371}. Best is trial 1 with value: 0.8216353677621283.\u001b[0m\n",
            "\u001b[32m[I 2021-04-30 18:41:27,575]\u001b[0m Trial 10 finished with value: 0.8216158059467918 and parameters: {'colsample_bytree': 0.10770474563390857, 'gamma': 6, 'learning_rate': 0.5663438139138602, 'max_depth': 3, 'min_child_weight': 2, 'reg_alpha': 0.30280120649798353, 'reg_lambda': 0.6030222332516046, 'subsample': 0.8240393052569737}. Best is trial 1 with value: 0.8216353677621283.\u001b[0m\n",
            "\u001b[32m[I 2021-04-30 18:41:27,888]\u001b[0m Trial 11 finished with value: 0.8244522691705789 and parameters: {'colsample_bytree': 0.13431657354512413, 'gamma': 6, 'learning_rate': 0.5649631193163828, 'max_depth': 3, 'min_child_weight': 2, 'reg_alpha': 0.30812980536604867, 'reg_lambda': 0.6314732093437958, 'subsample': 0.8030732641073205}. Best is trial 11 with value: 0.8244522691705789.\u001b[0m\n",
            "\u001b[32m[I 2021-04-30 18:41:28,246]\u001b[0m Trial 12 finished with value: 0.8132433489827855 and parameters: {'colsample_bytree': 0.21414271056252182, 'gamma': 4, 'learning_rate': 0.5968889134302815, 'max_depth': 4, 'min_child_weight': 3, 'reg_alpha': 0.3209089781387239, 'reg_lambda': 0.669083125696743, 'subsample': 0.8799339390431108}. Best is trial 11 with value: 0.8244522691705789.\u001b[0m\n",
            "\u001b[32m[I 2021-04-30 18:41:28,565]\u001b[0m Trial 13 finished with value: 0.820226917057903 and parameters: {'colsample_bytree': 0.10017638379488707, 'gamma': 5, 'learning_rate': 0.3086452091180111, 'max_depth': 3, 'min_child_weight': 3, 'reg_alpha': 0.3674879033971164, 'reg_lambda': 0.8258872797055743, 'subsample': 0.6826810701960087}. Best is trial 11 with value: 0.8244522691705789.\u001b[0m\n",
            "\u001b[32m[I 2021-04-30 18:41:28,894]\u001b[0m Trial 14 finished with value: 0.8102308294209702 and parameters: {'colsample_bytree': 0.14168577653205183, 'gamma': 8, 'learning_rate': 0.47446598247469546, 'max_depth': 4, 'min_child_weight': 4, 'reg_alpha': 0.5204751668781392, 'reg_lambda': 0.894194560612037, 'subsample': 0.6689699469115805}. Best is trial 11 with value: 0.8244522691705789.\u001b[0m\n",
            "\u001b[32m[I 2021-04-30 18:41:29,405]\u001b[0m Trial 15 finished with value: 0.8272496087636932 and parameters: {'colsample_bytree': 0.8598769202145886, 'gamma': 3, 'learning_rate': 0.3084014797313801, 'max_depth': 4, 'min_child_weight': 1, 'reg_alpha': 0.34782425980005066, 'reg_lambda': 0.6367887366628242, 'subsample': 0.30174051471224766}. Best is trial 15 with value: 0.8272496087636932.\u001b[0m\n",
            "\u001b[32m[I 2021-04-30 18:41:29,717]\u001b[0m Trial 16 finished with value: 0.8173708920187794 and parameters: {'colsample_bytree': 0.14559935108427446, 'gamma': 2, 'learning_rate': 0.26125605426428855, 'max_depth': 4, 'min_child_weight': 1, 'reg_alpha': 0.4237451350557734, 'reg_lambda': 0.5862177465508673, 'subsample': 0.2945049850495733}. Best is trial 15 with value: 0.8272496087636932.\u001b[0m\n",
            "\u001b[32m[I 2021-04-30 18:41:30,202]\u001b[0m Trial 17 finished with value: 0.810387323943662 and parameters: {'colsample_bytree': 0.7896745953223152, 'gamma': 6, 'learning_rate': 0.2887882735612805, 'max_depth': 5, 'min_child_weight': 2, 'reg_alpha': 0.5053098462237863, 'reg_lambda': 0.4829890095519858, 'subsample': 0.27039086614742547}. Best is trial 15 with value: 0.8272496087636932.\u001b[0m\n",
            "\u001b[32m[I 2021-04-30 18:41:30,730]\u001b[0m Trial 18 finished with value: 0.8131651017214396 and parameters: {'colsample_bytree': 0.8716114529373099, 'gamma': 3, 'learning_rate': 0.5072595808331988, 'max_depth': 4, 'min_child_weight': 1, 'reg_alpha': 0.353003831249648, 'reg_lambda': 0.6833403776230684, 'subsample': 0.3833503511372388}. Best is trial 15 with value: 0.8272496087636932.\u001b[0m\n",
            "\u001b[32m[I 2021-04-30 18:41:31,051]\u001b[0m Trial 19 finished with value: 0.8075704225352112 and parameters: {'colsample_bytree': 0.2281795372794872, 'gamma': 0, 'learning_rate': 0.36466974439677946, 'max_depth': 7, 'min_child_weight': 2, 'reg_alpha': 0.30175403517357346, 'reg_lambda': 0.5709236585630274, 'subsample': 0.1891465307042863}. Best is trial 15 with value: 0.8272496087636932.\u001b[0m\n",
            "\u001b[32m[I 2021-04-30 18:41:31,336]\u001b[0m Trial 20 finished with value: 0.7851330203442879 and parameters: {'colsample_bytree': 0.12461963295700532, 'gamma': 5, 'learning_rate': 0.229989290837368, 'max_depth': 5, 'min_child_weight': 3, 'reg_alpha': 0.4098589909790154, 'reg_lambda': 0.6160289824938404, 'subsample': 0.1480271299514967}. Best is trial 15 with value: 0.8272496087636932.\u001b[0m\n",
            "\u001b[32m[I 2021-04-30 18:41:31,731]\u001b[0m Trial 21 finished with value: 0.8145735524256651 and parameters: {'colsample_bytree': 0.47400626891091857, 'gamma': 4, 'learning_rate': 0.38615165982455485, 'max_depth': 3, 'min_child_weight': 4, 'reg_alpha': 0.334533810646802, 'reg_lambda': 0.6935370392995673, 'subsample': 0.7096326634296791}. Best is trial 15 with value: 0.8272496087636932.\u001b[0m\n",
            "\u001b[32m[I 2021-04-30 18:41:32,072]\u001b[0m Trial 22 finished with value: 0.8103286384976526 and parameters: {'colsample_bytree': 0.191295412064632, 'gamma': 3, 'learning_rate': 0.31169666277582064, 'max_depth': 3, 'min_child_weight': 6, 'reg_alpha': 0.30218404638813123, 'reg_lambda': 0.7648310195142679, 'subsample': 0.5204576599987324}. Best is trial 15 with value: 0.8272496087636932.\u001b[0m\n",
            "\u001b[32m[I 2021-04-30 18:41:32,441]\u001b[0m Trial 23 finished with value: 0.8131651017214399 and parameters: {'colsample_bytree': 0.24178444624252884, 'gamma': 6, 'learning_rate': 0.5327044945386659, 'max_depth': 4, 'min_child_weight': 4, 'reg_alpha': 0.33772842727600527, 'reg_lambda': 0.8723677001160042, 'subsample': 0.7889250755363606}. Best is trial 15 with value: 0.8272496087636932.\u001b[0m\n",
            "\u001b[32m[I 2021-04-30 18:41:32,809]\u001b[0m Trial 24 finished with value: 0.818838028169014 and parameters: {'colsample_bytree': 0.2906615668536713, 'gamma': 4, 'learning_rate': 0.36773052318662924, 'max_depth': 3, 'min_child_weight': 6, 'reg_alpha': 0.3878683571181318, 'reg_lambda': 0.65222104066275, 'subsample': 0.5875464178745079}. Best is trial 15 with value: 0.8272496087636932.\u001b[0m\n",
            "\u001b[32m[I 2021-04-30 18:41:33,171]\u001b[0m Trial 25 finished with value: 0.8033841940532082 and parameters: {'colsample_bytree': 0.7324512446172412, 'gamma': 2, 'learning_rate': 0.2673146556243293, 'max_depth': 4, 'min_child_weight': 2, 'reg_alpha': 0.46822307845095446, 'reg_lambda': 0.5309734156101017, 'subsample': 0.1014343789715321}. Best is trial 15 with value: 0.8272496087636932.\u001b[0m\n",
            "\u001b[32m[I 2021-04-30 18:41:33,609]\u001b[0m Trial 26 finished with value: 0.807805164319249 and parameters: {'colsample_bytree': 0.5332633847116057, 'gamma': 5, 'learning_rate': 0.4433411259796044, 'max_depth': 9, 'min_child_weight': 4, 'reg_alpha': 0.5570216874826999, 'reg_lambda': 0.7299995041853783, 'subsample': 0.4578434615494657}. Best is trial 15 with value: 0.8272496087636932.\u001b[0m\n",
            "\u001b[32m[I 2021-04-30 18:41:33,911]\u001b[0m Trial 27 finished with value: 0.8131064162754305 and parameters: {'colsample_bytree': 0.16856222483758673, 'gamma': 7, 'learning_rate': 0.4074166667767262, 'max_depth': 3, 'min_child_weight': 1, 'reg_alpha': 0.31959038604562795, 'reg_lambda': 0.6311495106245911, 'subsample': 0.8962956481210723}. Best is trial 15 with value: 0.8272496087636932.\u001b[0m\n",
            "\u001b[32m[I 2021-04-30 18:41:34,297]\u001b[0m Trial 28 finished with value: 0.8158255086071987 and parameters: {'colsample_bytree': 0.43399743418957937, 'gamma': 3, 'learning_rate': 0.32999204268760246, 'max_depth': 4, 'min_child_weight': 5, 'reg_alpha': 0.3555317174683948, 'reg_lambda': 0.4981595091357376, 'subsample': 0.35435007441260313}. Best is trial 15 with value: 0.8272496087636932.\u001b[0m\n",
            "\u001b[32m[I 2021-04-30 18:41:34,605]\u001b[0m Trial 29 finished with value: 0.8033646322378717 and parameters: {'colsample_bytree': 0.17670341159046626, 'gamma': 2, 'learning_rate': 0.5996244287776804, 'max_depth': 5, 'min_child_weight': 3, 'reg_alpha': 0.41082583052278293, 'reg_lambda': 0.812197471295981, 'subsample': 0.2607724137319698}. Best is trial 15 with value: 0.8272496087636932.\u001b[0m\n",
            "\u001b[32m[I 2021-04-30 18:41:35,050]\u001b[0m Trial 30 finished with value: 0.7935446009389672 and parameters: {'colsample_bytree': 0.8949618372238436, 'gamma': 6, 'learning_rate': 0.4131335643638726, 'max_depth': 3, 'min_child_weight': 7, 'reg_alpha': 0.30024251043261474, 'reg_lambda': 0.7078176756091002, 'subsample': 0.6418788250080218}. Best is trial 15 with value: 0.8272496087636932.\u001b[0m\n",
            "\u001b[32m[I 2021-04-30 18:41:35,363]\u001b[0m Trial 31 finished with value: 0.8145148669796557 and parameters: {'colsample_bytree': 0.11464043161453526, 'gamma': 6, 'learning_rate': 0.5454602361591411, 'max_depth': 3, 'min_child_weight': 2, 'reg_alpha': 0.30020572369216886, 'reg_lambda': 0.5828087155454691, 'subsample': 0.7667350499437993}. Best is trial 15 with value: 0.8272496087636932.\u001b[0m\n",
            "\u001b[32m[I 2021-04-30 18:41:35,675]\u001b[0m Trial 32 finished with value: 0.8131455399061032 and parameters: {'colsample_bytree': 0.10025112767401236, 'gamma': 8, 'learning_rate': 0.48268261084443526, 'max_depth': 3, 'min_child_weight': 2, 'reg_alpha': 0.3243264511545986, 'reg_lambda': 0.6120217267962483, 'subsample': 0.8912983412794021}. Best is trial 15 with value: 0.8272496087636932.\u001b[0m\n",
            "\u001b[32m[I 2021-04-30 18:41:35,999]\u001b[0m Trial 33 finished with value: 0.8188575899843507 and parameters: {'colsample_bytree': 0.11761329056302051, 'gamma': 5, 'learning_rate': 0.5990779954242393, 'max_depth': 4, 'min_child_weight': 1, 'reg_alpha': 0.3670484338557274, 'reg_lambda': 0.5530518194975699, 'subsample': 0.7933390183574878}. Best is trial 15 with value: 0.8272496087636932.\u001b[0m\n",
            "\u001b[32m[I 2021-04-30 18:41:36,320]\u001b[0m Trial 34 finished with value: 0.8131455399061032 and parameters: {'colsample_bytree': 0.15082915480327208, 'gamma': 4, 'learning_rate': 0.5491413156036297, 'max_depth': 3, 'min_child_weight': 3, 'reg_alpha': 0.3382388432416709, 'reg_lambda': 0.6384441225950165, 'subsample': 0.5801760096035599}. Best is trial 15 with value: 0.8272496087636932.\u001b[0m\n",
            "\u001b[32m[I 2021-04-30 18:41:36,642]\u001b[0m Trial 35 finished with value: 0.8077269170579029 and parameters: {'colsample_bytree': 0.10122681174117835, 'gamma': 8, 'learning_rate': 0.28992287245985093, 'max_depth': 3, 'min_child_weight': 2, 'reg_alpha': 0.3127151225381567, 'reg_lambda': 0.7590839872146711, 'subsample': 0.46487386320930496}. Best is trial 15 with value: 0.8272496087636932.\u001b[0m\n",
            "\u001b[32m[I 2021-04-30 18:41:37,133]\u001b[0m Trial 36 finished with value: 0.8174100156494524 and parameters: {'colsample_bytree': 0.6154346607491323, 'gamma': 7, 'learning_rate': 0.344308001939508, 'max_depth': 4, 'min_child_weight': 1, 'reg_alpha': 0.38804285313662473, 'reg_lambda': 0.5251517674316023, 'subsample': 0.5822167536404843}. Best is trial 15 with value: 0.8272496087636932.\u001b[0m\n",
            "\u001b[32m[I 2021-04-30 18:41:37,454]\u001b[0m Trial 37 finished with value: 0.8160406885758998 and parameters: {'colsample_bytree': 0.12971887924493575, 'gamma': 4, 'learning_rate': 0.1053024582775674, 'max_depth': 7, 'min_child_weight': 7, 'reg_alpha': 0.3542692320435177, 'reg_lambda': 0.4464932098179761, 'subsample': 0.8357133115350776}. Best is trial 15 with value: 0.8272496087636932.\u001b[0m\n",
            "\u001b[32m[I 2021-04-30 18:41:37,811]\u001b[0m Trial 38 finished with value: 0.8062793427230048 and parameters: {'colsample_bytree': 0.3140562827147659, 'gamma': 6, 'learning_rate': 0.45551453020036226, 'max_depth': 5, 'min_child_weight': 6, 'reg_alpha': 0.3010354198129106, 'reg_lambda': 0.602431071007462, 'subsample': 0.39696956849514803}. Best is trial 15 with value: 0.8272496087636932.\u001b[0m\n",
            "\u001b[32m[I 2021-04-30 18:41:38,112]\u001b[0m Trial 39 finished with value: 0.7824334898278561 and parameters: {'colsample_bytree': 0.37949113158649084, 'gamma': 3, 'learning_rate': 0.2362810823315231, 'max_depth': 3, 'min_child_weight': 9, 'reg_alpha': 0.6201003672281055, 'reg_lambda': 0.7919312122973102, 'subsample': 0.22251423810963972}. Best is trial 15 with value: 0.8272496087636932.\u001b[0m\n",
            "\u001b[32m[I 2021-04-30 18:41:38,467]\u001b[0m Trial 40 finished with value: 0.8271126760563382 and parameters: {'colsample_bytree': 0.2519304126917842, 'gamma': 0, 'learning_rate': 0.20490997979219414, 'max_depth': 4, 'min_child_weight': 4, 'reg_alpha': 0.45393357252376787, 'reg_lambda': 0.7300528624104234, 'subsample': 0.5086203187442224}. Best is trial 15 with value: 0.8272496087636932.\u001b[0m\n",
            "\u001b[32m[I 2021-04-30 18:41:38,844]\u001b[0m Trial 41 finished with value: 0.8158841940532081 and parameters: {'colsample_bytree': 0.2701765749497715, 'gamma': 0, 'learning_rate': 0.1216909499896717, 'max_depth': 4, 'min_child_weight': 4, 'reg_alpha': 0.44300950821374113, 'reg_lambda': 0.6710408548039679, 'subsample': 0.5325106762247371}. Best is trial 15 with value: 0.8272496087636932.\u001b[0m\n",
            "\u001b[32m[I 2021-04-30 18:41:39,158]\u001b[0m Trial 42 finished with value: 0.8216158059467918 and parameters: {'colsample_bytree': 0.11106647392179929, 'gamma': 1, 'learning_rate': 0.20018811766537317, 'max_depth': 4, 'min_child_weight': 5, 'reg_alpha': 0.48397278105972746, 'reg_lambda': 0.7106839428948011, 'subsample': 0.7266030234852305}. Best is trial 15 with value: 0.8272496087636932.\u001b[0m\n",
            "\u001b[32m[I 2021-04-30 18:41:39,520]\u001b[0m Trial 43 finished with value: 0.813262910798122 and parameters: {'colsample_bytree': 0.19264610894848605, 'gamma': 1, 'learning_rate': 0.20457958042288893, 'max_depth': 5, 'min_child_weight': 5, 'reg_alpha': 0.500255820144481, 'reg_lambda': 0.8486079308976663, 'subsample': 0.49272265836722556}. Best is trial 15 with value: 0.8272496087636932.\u001b[0m\n",
            "\u001b[32m[I 2021-04-30 18:41:39,891]\u001b[0m Trial 44 finished with value: 0.8230438184663538 and parameters: {'colsample_bytree': 0.2545513610397207, 'gamma': 0, 'learning_rate': 0.1839840953200927, 'max_depth': 6, 'min_child_weight': 5, 'reg_alpha': 0.5764446502183497, 'reg_lambda': 0.7316344094059051, 'subsample': 0.6392881338756685}. Best is trial 15 with value: 0.8272496087636932.\u001b[0m\n",
            "\u001b[32m[I 2021-04-30 18:41:40,251]\u001b[0m Trial 45 finished with value: 0.8173708920187794 and parameters: {'colsample_bytree': 0.26097293346837064, 'gamma': 0, 'learning_rate': 0.16689535353348148, 'max_depth': 6, 'min_child_weight': 5, 'reg_alpha': 0.5673582290218556, 'reg_lambda': 0.7265727058997254, 'subsample': 0.5944863638404458}. Best is trial 15 with value: 0.8272496087636932.\u001b[0m\n",
            "\u001b[32m[I 2021-04-30 18:41:40,590]\u001b[0m Trial 46 finished with value: 0.8075508607198747 and parameters: {'colsample_bytree': 0.3312907946432839, 'gamma': 2, 'learning_rate': 0.15265067408637106, 'max_depth': 6, 'min_child_weight': 6, 'reg_alpha': 0.7482973006657658, 'reg_lambda': 0.767335227052089, 'subsample': 0.3269908162631442}. Best is trial 15 with value: 0.8272496087636932.\u001b[0m\n",
            "\u001b[32m[I 2021-04-30 18:41:40,935]\u001b[0m Trial 47 finished with value: 0.8159624413145539 and parameters: {'colsample_bytree': 0.20921063799129838, 'gamma': 0, 'learning_rate': 0.14323548852963688, 'max_depth': 7, 'min_child_weight': 7, 'reg_alpha': 0.5649312193000758, 'reg_lambda': 0.6653365613046767, 'subsample': 0.6350026580346537}. Best is trial 15 with value: 0.8272496087636932.\u001b[0m\n",
            "\u001b[32m[I 2021-04-30 18:41:41,308]\u001b[0m Trial 48 finished with value: 0.8328051643192488 and parameters: {'colsample_bytree': 0.30337082244560526, 'gamma': 1, 'learning_rate': 0.17704736431213944, 'max_depth': 6, 'min_child_weight': 4, 'reg_alpha': 0.6353725232936438, 'reg_lambda': 0.31074461778872675, 'subsample': 0.3956082461981682}. Best is trial 48 with value: 0.8328051643192488.\u001b[0m\n",
            "\u001b[32m[I 2021-04-30 18:41:41,658]\u001b[0m Trial 49 finished with value: 0.8175273865414712 and parameters: {'colsample_bytree': 0.24241519418731136, 'gamma': 1, 'learning_rate': 0.1853837700143904, 'max_depth': 7, 'min_child_weight': 4, 'reg_alpha': 0.6343755851125756, 'reg_lambda': 0.3990922594361427, 'subsample': 0.40648823766049746}. Best is trial 48 with value: 0.8328051643192488.\u001b[0m\n",
            "\u001b[32m[I 2021-04-30 18:41:42,063]\u001b[0m Trial 50 finished with value: 0.8132433489827857 and parameters: {'colsample_bytree': 0.4225903901394716, 'gamma': 0, 'learning_rate': 0.16804164044058267, 'max_depth': 6, 'min_child_weight': 3, 'reg_alpha': 0.6888168924865932, 'reg_lambda': 0.310308590800615, 'subsample': 0.3565259096294952}. Best is trial 48 with value: 0.8328051643192488.\u001b[0m\n",
            "\u001b[32m[I 2021-04-30 18:41:42,412]\u001b[0m Trial 51 finished with value: 0.821537558685446 and parameters: {'colsample_bytree': 0.2880620169410034, 'gamma': 1, 'learning_rate': 0.18822683620931108, 'max_depth': 6, 'min_child_weight': 5, 'reg_alpha': 0.5879810792320068, 'reg_lambda': 0.3528578551793389, 'subsample': 0.30935804687227586}. Best is trial 48 with value: 0.8328051643192488.\u001b[0m\n",
            "\u001b[32m[I 2021-04-30 18:41:42,817]\u001b[0m Trial 52 finished with value: 0.8147496087636933 and parameters: {'colsample_bytree': 0.33566510924110793, 'gamma': 2, 'learning_rate': 0.22244677666797702, 'max_depth': 6, 'min_child_weight': 4, 'reg_alpha': 0.54155247374274, 'reg_lambda': 0.7826667213597999, 'subsample': 0.5074780063136234}. Best is trial 48 with value: 0.8328051643192488.\u001b[0m\n",
            "\u001b[32m[I 2021-04-30 18:41:43,182]\u001b[0m Trial 53 finished with value: 0.8201682316118936 and parameters: {'colsample_bytree': 0.35419527355460495, 'gamma': 0, 'learning_rate': 0.2519333688944283, 'max_depth': 5, 'min_child_weight': 6, 'reg_alpha': 0.6015997173436362, 'reg_lambda': 0.8338880825984262, 'subsample': 0.44844256478487404}. Best is trial 48 with value: 0.8328051643192488.\u001b[0m\n",
            "\u001b[32m[I 2021-04-30 18:41:43,525]\u001b[0m Trial 54 finished with value: 0.8145344287949922 and parameters: {'colsample_bytree': 0.3071311732882139, 'gamma': 1, 'learning_rate': 0.21716591303736282, 'max_depth': 7, 'min_child_weight': 4, 'reg_alpha': 0.6649373479603901, 'reg_lambda': 0.7408064556659808, 'subsample': 0.2851331367800992}. Best is trial 48 with value: 0.8328051643192488.\u001b[0m\n",
            "\u001b[32m[I 2021-04-30 18:41:43,840]\u001b[0m Trial 55 finished with value: 0.7893388106416276 and parameters: {'colsample_bytree': 0.24822204308889234, 'gamma': 4, 'learning_rate': 0.1738302071967074, 'max_depth': 5, 'min_child_weight': 5, 'reg_alpha': 0.7695806759516394, 'reg_lambda': 0.6879832351926802, 'subsample': 0.2378257656332747}. Best is trial 48 with value: 0.8328051643192488.\u001b[0m\n",
            "\u001b[32m[I 2021-04-30 18:41:44,210]\u001b[0m Trial 56 finished with value: 0.8200508607198748 and parameters: {'colsample_bytree': 0.22039510520089592, 'gamma': 2, 'learning_rate': 0.12777748995732366, 'max_depth': 6, 'min_child_weight': 3, 'reg_alpha': 0.6628205631715738, 'reg_lambda': 0.655429604623058, 'subsample': 0.5388135838242013}. Best is trial 48 with value: 0.8328051643192488.\u001b[0m\n",
            "\u001b[32m[I 2021-04-30 18:41:44,663]\u001b[0m Trial 57 finished with value: 0.8216940532081377 and parameters: {'colsample_bytree': 0.5421226056394568, 'gamma': 3, 'learning_rate': 0.2743443019803942, 'max_depth': 6, 'min_child_weight': 4, 'reg_alpha': 0.5207395753503953, 'reg_lambda': 0.5716544759206833, 'subsample': 0.42787624167788707}. Best is trial 48 with value: 0.8328051643192488.\u001b[0m\n",
            "\u001b[32m[I 2021-04-30 18:41:45,120]\u001b[0m Trial 58 finished with value: 0.8188380281690142 and parameters: {'colsample_bytree': 0.5737227971310348, 'gamma': 1, 'learning_rate': 0.15582566046264776, 'max_depth': 6, 'min_child_weight': 4, 'reg_alpha': 0.5311399826183569, 'reg_lambda': 0.565443710243957, 'subsample': 0.4154838775505116}. Best is trial 48 with value: 0.8328051643192488.\u001b[0m\n",
            "\u001b[32m[I 2021-04-30 18:41:45,585]\u001b[0m Trial 59 finished with value: 0.8060250391236308 and parameters: {'colsample_bytree': 0.741064693950169, 'gamma': 3, 'learning_rate': 0.2105470282454703, 'max_depth': 7, 'min_child_weight': 4, 'reg_alpha': 0.4581277904540161, 'reg_lambda': 0.5112441693929901, 'subsample': 0.3680694353008082}. Best is trial 48 with value: 0.8328051643192488.\u001b[0m\n",
            "\u001b[32m[I 2021-04-30 18:41:46,009]\u001b[0m Trial 60 finished with value: 0.8175078247261345 and parameters: {'colsample_bytree': 0.4842005752835593, 'gamma': 7, 'learning_rate': 0.2782588333356862, 'max_depth': 5, 'min_child_weight': 3, 'reg_alpha': 0.5014294609140244, 'reg_lambda': 0.6315166437937925, 'subsample': 0.32262239583972113}. Best is trial 48 with value: 0.8328051643192488.\u001b[0m\n",
            "\u001b[32m[I 2021-04-30 18:41:46,443]\u001b[0m Trial 61 finished with value: 0.8357589984350549 and parameters: {'colsample_bytree': 0.3784238654681383, 'gamma': 3, 'learning_rate': 0.30853706482264986, 'max_depth': 6, 'min_child_weight': 5, 'reg_alpha': 0.6002690098480716, 'reg_lambda': 0.5935257677701866, 'subsample': 0.6885358639577934}. Best is trial 61 with value: 0.8357589984350549.\u001b[0m\n",
            "\u001b[32m[I 2021-04-30 18:41:46,875]\u001b[0m Trial 62 finished with value: 0.8217136150234742 and parameters: {'colsample_bytree': 0.4054421753870629, 'gamma': 3, 'learning_rate': 0.2368802849253475, 'max_depth': 6, 'min_child_weight': 5, 'reg_alpha': 0.5944289787812674, 'reg_lambda': 0.5535209534574242, 'subsample': 0.7004148075233326}. Best is trial 61 with value: 0.8357589984350549.\u001b[0m\n",
            "\u001b[32m[I 2021-04-30 18:41:47,305]\u001b[0m Trial 63 finished with value: 0.8215962441314554 and parameters: {'colsample_bytree': 0.38554632500697983, 'gamma': 2, 'learning_rate': 0.24195200404714826, 'max_depth': 6, 'min_child_weight': 5, 'reg_alpha': 0.6115264055196031, 'reg_lambda': 0.45498690204389086, 'subsample': 0.6952781012532157}. Best is trial 61 with value: 0.8357589984350549.\u001b[0m\n",
            "\u001b[32m[I 2021-04-30 18:41:47,749]\u001b[0m Trial 64 finished with value: 0.8174295774647886 and parameters: {'colsample_bytree': 0.45243285300034936, 'gamma': 5, 'learning_rate': 0.17651673551384833, 'max_depth': 6, 'min_child_weight': 5, 'reg_alpha': 0.5828482417099838, 'reg_lambda': 0.5493557375213157, 'subsample': 0.722569157429397}. Best is trial 61 with value: 0.8357589984350549.\u001b[0m\n",
            "\u001b[32m[I 2021-04-30 18:41:48,181]\u001b[0m Trial 65 finished with value: 0.8188184663536775 and parameters: {'colsample_bytree': 0.4072010756693545, 'gamma': 0, 'learning_rate': 0.1945421322141199, 'max_depth': 5, 'min_child_weight': 6, 'reg_alpha': 0.6387303931927034, 'reg_lambda': 0.6061217189149891, 'subsample': 0.6533781591284655}. Best is trial 61 with value: 0.8357589984350549.\u001b[0m\n",
            "\u001b[32m[I 2021-04-30 18:41:48,571]\u001b[0m Trial 66 finished with value: 0.8216744913928012 and parameters: {'colsample_bytree': 0.35955482993652366, 'gamma': 1, 'learning_rate': 0.2546158294702625, 'max_depth': 7, 'min_child_weight': 5, 'reg_alpha': 0.715311879184714, 'reg_lambda': 0.6418770470483284, 'subsample': 0.5548292454186957}. Best is trial 61 with value: 0.8357589984350549.\u001b[0m\n",
            "\u001b[32m[I 2021-04-30 18:41:48,959]\u001b[0m Trial 67 finished with value: 0.81731220657277 and parameters: {'colsample_bytree': 0.27607545477041395, 'gamma': 3, 'learning_rate': 0.3078397210210712, 'max_depth': 5, 'min_child_weight': 6, 'reg_alpha': 0.5416972255054165, 'reg_lambda': 0.5930939959964973, 'subsample': 0.7603873242344752}. Best is trial 61 with value: 0.8357589984350549.\u001b[0m\n",
            "\u001b[32m[I 2021-04-30 18:41:49,405]\u001b[0m Trial 68 finished with value: 0.8258411580594679 and parameters: {'colsample_bytree': 0.30380961661675937, 'gamma': 5, 'learning_rate': 0.22992423561911976, 'max_depth': 6, 'min_child_weight': 1, 'reg_alpha': 0.5940987840640771, 'reg_lambda': 0.5075240505994599, 'subsample': 0.8277131180433177}. Best is trial 61 with value: 0.8357589984350549.\u001b[0m\n",
            "\u001b[32m[I 2021-04-30 18:41:49,873]\u001b[0m Trial 69 finished with value: 0.8272887323943662 and parameters: {'colsample_bytree': 0.3145219901081538, 'gamma': 5, 'learning_rate': 0.1799298156135555, 'max_depth': 7, 'min_child_weight': 1, 'reg_alpha': 0.694665812401254, 'reg_lambda': 0.3243030737021358, 'subsample': 0.8352002063787891}. Best is trial 61 with value: 0.8357589984350549.\u001b[0m\n",
            "\u001b[32m[I 2021-04-30 18:41:50,345]\u001b[0m Trial 70 finished with value: 0.8272496087636932 and parameters: {'colsample_bytree': 0.31231600637123913, 'gamma': 5, 'learning_rate': 0.21320488663159978, 'max_depth': 8, 'min_child_weight': 1, 'reg_alpha': 0.7868049514502725, 'reg_lambda': 0.3422033196673694, 'subsample': 0.8432701051806613}. Best is trial 61 with value: 0.8357589984350549.\u001b[0m\n",
            "\u001b[32m[I 2021-04-30 18:41:50,809]\u001b[0m Trial 71 finished with value: 0.8271909233176838 and parameters: {'colsample_bytree': 0.31070566388854454, 'gamma': 5, 'learning_rate': 0.21612925305050823, 'max_depth': 8, 'min_child_weight': 1, 'reg_alpha': 0.8473810757718597, 'reg_lambda': 0.3048451520888355, 'subsample': 0.8582054088200006}. Best is trial 61 with value: 0.8357589984350549.\u001b[0m\n",
            "\u001b[32m[I 2021-04-30 18:41:51,257]\u001b[0m Trial 72 finished with value: 0.8286189358372458 and parameters: {'colsample_bytree': 0.32202312759174095, 'gamma': 5, 'learning_rate': 0.21112382142958888, 'max_depth': 8, 'min_child_weight': 1, 'reg_alpha': 0.8847989913794982, 'reg_lambda': 0.3091606359037976, 'subsample': 0.8594193003713742}. Best is trial 61 with value: 0.8357589984350549.\u001b[0m\n",
            "\u001b[32m[I 2021-04-30 18:41:51,718]\u001b[0m Trial 73 finished with value: 0.8203247261345853 and parameters: {'colsample_bytree': 0.3240577344170564, 'gamma': 5, 'learning_rate': 0.21578707322203244, 'max_depth': 8, 'min_child_weight': 1, 'reg_alpha': 0.8477969247264506, 'reg_lambda': 0.3025780496622743, 'subsample': 0.8985501705876041}. Best is trial 61 with value: 0.8357589984350549.\u001b[0m\n",
            "\u001b[32m[I 2021-04-30 18:41:52,182]\u001b[0m Trial 74 finished with value: 0.8243740219092333 and parameters: {'colsample_bytree': 0.28977906703191153, 'gamma': 4, 'learning_rate': 0.1986717425214447, 'max_depth': 8, 'min_child_weight': 1, 'reg_alpha': 0.7907095371493718, 'reg_lambda': 0.32479880021393664, 'subsample': 0.8330120987927192}. Best is trial 61 with value: 0.8357589984350549.\u001b[0m\n",
            "\u001b[32m[I 2021-04-30 18:41:52,632]\u001b[0m Trial 75 finished with value: 0.8231416275430361 and parameters: {'colsample_bytree': 0.34552902396123636, 'gamma': 5, 'learning_rate': 0.19264442732877052, 'max_depth': 9, 'min_child_weight': 2, 'reg_alpha': 0.8885781952613545, 'reg_lambda': 0.344609388015619, 'subsample': 0.8531032990046687}. Best is trial 61 with value: 0.8357589984350549.\u001b[0m\n",
            "\u001b[32m[I 2021-04-30 18:41:53,014]\u001b[0m Trial 76 finished with value: 0.8258020344287951 and parameters: {'colsample_bytree': 0.22976980787624646, 'gamma': 6, 'learning_rate': 0.17868097542134706, 'max_depth': 8, 'min_child_weight': 1, 'reg_alpha': 0.8382232413194016, 'reg_lambda': 0.31667795197109894, 'subsample': 0.7610385181146836}. Best is trial 61 with value: 0.8357589984350549.\u001b[0m\n",
            "\u001b[32m[I 2021-04-30 18:41:53,456]\u001b[0m Trial 77 finished with value: 0.825762910798122 and parameters: {'colsample_bytree': 0.2783067495130909, 'gamma': 4, 'learning_rate': 0.2103563133130269, 'max_depth': 8, 'min_child_weight': 2, 'reg_alpha': 0.8027435701996121, 'reg_lambda': 0.33594924236940593, 'subsample': 0.8966973605581623}. Best is trial 61 with value: 0.8357589984350549.\u001b[0m\n",
            "\u001b[32m[I 2021-04-30 18:41:53,932]\u001b[0m Trial 78 finished with value: 0.8089201877934272 and parameters: {'colsample_bytree': 0.3714402654163761, 'gamma': 5, 'learning_rate': 0.15778326739248547, 'max_depth': 8, 'min_child_weight': 1, 'reg_alpha': 0.7223220438888945, 'reg_lambda': 0.30114392831715564, 'subsample': 0.34180728320687453}. Best is trial 61 with value: 0.8357589984350549.\u001b[0m\n",
            "\u001b[32m[I 2021-04-30 18:41:54,401]\u001b[0m Trial 79 finished with value: 0.8259780907668232 and parameters: {'colsample_bytree': 0.31870735442406767, 'gamma': 6, 'learning_rate': 0.2948625313547852, 'max_depth': 9, 'min_child_weight': 1, 'reg_alpha': 0.7456833848052301, 'reg_lambda': 0.3598497019283651, 'subsample': 0.748798055483393}. Best is trial 61 with value: 0.8357589984350549.\u001b[0m\n",
            "\u001b[32m[I 2021-04-30 18:41:54,767]\u001b[0m Trial 80 finished with value: 0.8173317683881065 and parameters: {'colsample_bytree': 0.2688358794889075, 'gamma': 4, 'learning_rate': 0.32346638334469785, 'max_depth': 8, 'min_child_weight': 2, 'reg_alpha': 0.8807746266066586, 'reg_lambda': 0.37113917992871315, 'subsample': 0.4864908322626864}. Best is trial 61 with value: 0.8357589984350549.\u001b[0m\n",
            "\u001b[32m[I 2021-04-30 18:41:55,238]\u001b[0m Trial 81 finished with value: 0.8258215962441314 and parameters: {'colsample_bytree': 0.320345610405603, 'gamma': 6, 'learning_rate': 0.2907674639696693, 'max_depth': 9, 'min_child_weight': 1, 'reg_alpha': 0.7452654666641627, 'reg_lambda': 0.33144470108922336, 'subsample': 0.7343676544965589}. Best is trial 61 with value: 0.8357589984350549.\u001b[0m\n",
            "\u001b[32m[I 2021-04-30 18:41:55,727]\u001b[0m Trial 82 finished with value: 0.8215179968701095 and parameters: {'colsample_bytree': 0.3020413905293268, 'gamma': 6, 'learning_rate': 0.34088423921027405, 'max_depth': 9, 'min_child_weight': 1, 'reg_alpha': 0.7809145734465185, 'reg_lambda': 0.31452932267405986, 'subsample': 0.7948678389754135}. Best is trial 61 with value: 0.8357589984350549.\u001b[0m\n",
            "\u001b[32m[I 2021-04-30 18:41:56,180]\u001b[0m Trial 83 finished with value: 0.8258215962441314 and parameters: {'colsample_bytree': 0.28636159269187095, 'gamma': 5, 'learning_rate': 0.35812189125434196, 'max_depth': 9, 'min_child_weight': 1, 'reg_alpha': 0.816651729579386, 'reg_lambda': 0.3596257073242289, 'subsample': 0.6743967669975557}. Best is trial 61 with value: 0.8357589984350549.\u001b[0m\n",
            "\u001b[32m[I 2021-04-30 18:41:56,578]\u001b[0m Trial 84 finished with value: 0.8172926447574336 and parameters: {'colsample_bytree': 0.25901070237792734, 'gamma': 7, 'learning_rate': 0.31267452039857235, 'max_depth': 8, 'min_child_weight': 1, 'reg_alpha': 0.6932426948009845, 'reg_lambda': 0.32523097706421467, 'subsample': 0.8658816288310798}. Best is trial 61 with value: 0.8357589984350549.\u001b[0m\n",
            "\u001b[32m[I 2021-04-30 18:41:56,900]\u001b[0m Trial 85 finished with value: 0.8033450704225352 and parameters: {'colsample_bytree': 0.23442879654155888, 'gamma': 5, 'learning_rate': 0.26115318857460657, 'max_depth': 7, 'min_child_weight': 2, 'reg_alpha': 0.7627868557551787, 'reg_lambda': 0.347153618351212, 'subsample': 0.18771442302774635}. Best is trial 61 with value: 0.8357589984350549.\u001b[0m\n",
            "\u001b[32m[I 2021-04-30 18:41:57,369]\u001b[0m Trial 86 finished with value: 0.8229851330203444 and parameters: {'colsample_bytree': 0.3218537285062778, 'gamma': 6, 'learning_rate': 0.3936140630458401, 'max_depth': 8, 'min_child_weight': 1, 'reg_alpha': 0.8286742104946934, 'reg_lambda': 0.3958732293378975, 'subsample': 0.8087046746553223}. Best is trial 61 with value: 0.8357589984350549.\u001b[0m\n",
            "\u001b[32m[I 2021-04-30 18:41:57,747]\u001b[0m Trial 87 finished with value: 0.8062402190923317 and parameters: {'colsample_bytree': 0.34827920408798085, 'gamma': 5, 'learning_rate': 0.22598697849686297, 'max_depth': 7, 'min_child_weight': 8, 'reg_alpha': 0.8639552090487349, 'reg_lambda': 0.30850910671439874, 'subsample': 0.7412899881957754}. Best is trial 61 with value: 0.8357589984350549.\u001b[0m\n",
            "\u001b[32m[I 2021-04-30 18:41:58,267]\u001b[0m Trial 88 finished with value: 0.8104851330203443 and parameters: {'colsample_bytree': 0.38393611536516875, 'gamma': 4, 'learning_rate': 0.20810013454684848, 'max_depth': 9, 'min_child_weight': 1, 'reg_alpha': 0.7315538251307897, 'reg_lambda': 0.3186416251868507, 'subsample': 0.6114276083218284}. Best is trial 61 with value: 0.8357589984350549.\u001b[0m\n",
            "\u001b[32m[I 2021-04-30 18:41:58,620]\u001b[0m Trial 89 finished with value: 0.8047143974960876 and parameters: {'colsample_bytree': 0.20808393876516765, 'gamma': 6, 'learning_rate': 0.24750808128739765, 'max_depth': 8, 'min_child_weight': 2, 'reg_alpha': 0.6791415170012645, 'reg_lambda': 0.3005535089693199, 'subsample': 0.25389681566116484}. Best is trial 61 with value: 0.8357589984350549.\u001b[0m\n",
            "\u001b[32m[I 2021-04-30 18:41:59,069]\u001b[0m Trial 90 finished with value: 0.8173904538341159 and parameters: {'colsample_bytree': 0.30074379047486316, 'gamma': 6, 'learning_rate': 0.2947674229508877, 'max_depth': 7, 'min_child_weight': 2, 'reg_alpha': 0.703791882265885, 'reg_lambda': 0.3380217832871646, 'subsample': 0.7786494415578736}. Best is trial 61 with value: 0.8357589984350549.\u001b[0m\n",
            "\u001b[32m[I 2021-04-30 18:41:59,555]\u001b[0m Trial 91 finished with value: 0.8244718309859156 and parameters: {'colsample_bytree': 0.30604721128553797, 'gamma': 5, 'learning_rate': 0.2290783261516168, 'max_depth': 9, 'min_child_weight': 1, 'reg_alpha': 0.6249802075499953, 'reg_lambda': 0.3820822171938792, 'subsample': 0.8385868218347777}. Best is trial 61 with value: 0.8357589984350549.\u001b[0m\n",
            "\u001b[32m[I 2021-04-30 18:42:00,032]\u001b[0m Trial 92 finished with value: 0.8259389671361502 and parameters: {'colsample_bytree': 0.33836349368667995, 'gamma': 5, 'learning_rate': 0.21865303077827133, 'max_depth': 7, 'min_child_weight': 1, 'reg_alpha': 0.6467296927558216, 'reg_lambda': 0.42575186011863386, 'subsample': 0.8733723065186475}. Best is trial 61 with value: 0.8357589984350549.\u001b[0m\n",
            "\u001b[32m[I 2021-04-30 18:42:00,477]\u001b[0m Trial 93 finished with value: 0.8217723004694836 and parameters: {'colsample_bytree': 0.3386313432670425, 'gamma': 5, 'learning_rate': 0.20266849040435087, 'max_depth': 8, 'min_child_weight': 1, 'reg_alpha': 0.652067523629973, 'reg_lambda': 0.42021531987938504, 'subsample': 0.3808634628215868}. Best is trial 61 with value: 0.8357589984350549.\u001b[0m\n",
            "\u001b[32m[I 2021-04-30 18:42:01,024]\u001b[0m Trial 94 finished with value: 0.8230438184663538 and parameters: {'colsample_bytree': 0.370855860809959, 'gamma': 4, 'learning_rate': 0.2185194428761812, 'max_depth': 7, 'min_child_weight': 1, 'reg_alpha': 0.7582320767884616, 'reg_lambda': 0.322412011879702, 'subsample': 0.8581424470885406}. Best is trial 61 with value: 0.8357589984350549.\u001b[0m\n",
            "\u001b[32m[I 2021-04-30 18:42:01,372]\u001b[0m Trial 95 finished with value: 0.8117566510172145 and parameters: {'colsample_bytree': 0.26539544079667426, 'gamma': 4, 'learning_rate': 0.2706968498988581, 'max_depth': 7, 'min_child_weight': 1, 'reg_alpha': 0.6719168985414163, 'reg_lambda': 0.3550824466326963, 'subsample': 0.2803439517440726}. Best is trial 61 with value: 0.8357589984350549.\u001b[0m\n",
            "\u001b[32m[I 2021-04-30 18:42:01,829]\u001b[0m Trial 96 finished with value: 0.8287167449139281 and parameters: {'colsample_bytree': 0.31713955347975636, 'gamma': 5, 'learning_rate': 0.18968510743641373, 'max_depth': 8, 'min_child_weight': 2, 'reg_alpha': 0.6448124306012551, 'reg_lambda': 0.30755642589087234, 'subsample': 0.8948538145620895}. Best is trial 61 with value: 0.8357589984350549.\u001b[0m\n",
            "\u001b[32m[I 2021-04-30 18:42:02,292]\u001b[0m Trial 97 finished with value: 0.8285798122065728 and parameters: {'colsample_bytree': 0.281254112348314, 'gamma': 6, 'learning_rate': 0.18900659157169986, 'max_depth': 8, 'min_child_weight': 2, 'reg_alpha': 0.698190358172212, 'reg_lambda': 0.3050350361616254, 'subsample': 0.8079195803116144}. Best is trial 61 with value: 0.8357589984350549.\u001b[0m\n",
            "\u001b[32m[I 2021-04-30 18:42:02,728]\u001b[0m Trial 98 finished with value: 0.8258215962441314 and parameters: {'colsample_bytree': 0.29384140410500253, 'gamma': 5, 'learning_rate': 0.18373734245059867, 'max_depth': 8, 'min_child_weight': 3, 'reg_alpha': 0.429236579461861, 'reg_lambda': 0.3089252134800111, 'subsample': 0.6829056627194616}. Best is trial 61 with value: 0.8357589984350549.\u001b[0m\n",
            "\u001b[32m[I 2021-04-30 18:42:03,104]\u001b[0m Trial 99 finished with value: 0.8244522691705791 and parameters: {'colsample_bytree': 0.2471810799236806, 'gamma': 6, 'learning_rate': 0.15128608653496223, 'max_depth': 8, 'min_child_weight': 2, 'reg_alpha': 0.7023948064777695, 'reg_lambda': 0.32958637445536193, 'subsample': 0.8043292937778227}. Best is trial 61 with value: 0.8357589984350549.\u001b[0m\n",
            "\u001b[32m[I 2021-04-30 18:42:03,540]\u001b[0m Trial 100 finished with value: 0.8130672926447575 and parameters: {'colsample_bytree': 0.27827814216285157, 'gamma': 7, 'learning_rate': 0.16911765985595154, 'max_depth': 8, 'min_child_weight': 2, 'reg_alpha': 0.6176245980544154, 'reg_lambda': 0.3019528148591224, 'subsample': 0.5614779571609879}. Best is trial 61 with value: 0.8357589984350549.\u001b[0m\n",
            "\u001b[32m[I 2021-04-30 18:42:03,962]\u001b[0m Trial 101 finished with value: 0.8286189358372458 and parameters: {'colsample_bytree': 0.32191776556471535, 'gamma': 6, 'learning_rate': 0.19414005890148694, 'max_depth': 8, 'min_child_weight': 3, 'reg_alpha': 0.8059583533521408, 'reg_lambda': 0.3413402755374119, 'subsample': 0.8918626776697856}. Best is trial 61 with value: 0.8357589984350549.\u001b[0m\n",
            "\u001b[32m[I 2021-04-30 18:42:04,334]\u001b[0m Trial 102 finished with value: 0.8230438184663538 and parameters: {'colsample_bytree': 0.254488578310233, 'gamma': 6, 'learning_rate': 0.1963202830734422, 'max_depth': 8, 'min_child_weight': 3, 'reg_alpha': 0.8098304314756322, 'reg_lambda': 0.33769110466463576, 'subsample': 0.881936270072646}. Best is trial 61 with value: 0.8357589984350549.\u001b[0m\n",
            "\u001b[32m[I 2021-04-30 18:42:04,758]\u001b[0m Trial 103 finished with value: 0.8174295774647888 and parameters: {'colsample_bytree': 0.28162586962290637, 'gamma': 7, 'learning_rate': 0.19016919547364208, 'max_depth': 8, 'min_child_weight': 3, 'reg_alpha': 0.8597576415573946, 'reg_lambda': 0.3103913942615885, 'subsample': 0.8998249572741583}. Best is trial 61 with value: 0.8357589984350549.\u001b[0m\n",
            "\u001b[32m[I 2021-04-30 18:42:05,202]\u001b[0m Trial 104 finished with value: 0.8229655712050079 and parameters: {'colsample_bytree': 0.3545239942291097, 'gamma': 5, 'learning_rate': 0.1605792887432696, 'max_depth': 8, 'min_child_weight': 2, 'reg_alpha': 0.7905133398820026, 'reg_lambda': 0.3165119400249261, 'subsample': 0.7849494066395504}. Best is trial 61 with value: 0.8357589984350549.\u001b[0m\n",
            "\u001b[32m[I 2021-04-30 18:42:05,572]\u001b[0m Trial 105 finished with value: 0.814651799687011 and parameters: {'colsample_bytree': 0.3131523549728048, 'gamma': 6, 'learning_rate': 0.18069023904819398, 'max_depth': 8, 'min_child_weight': 3, 'reg_alpha': 0.7287097407515477, 'reg_lambda': 0.34380619709342225, 'subsample': 0.3017947600678416}. Best is trial 61 with value: 0.8357589984350549.\u001b[0m\n",
            "\u001b[32m[I 2021-04-30 18:42:05,982]\u001b[0m Trial 106 finished with value: 0.8160015649452269 and parameters: {'colsample_bytree': 0.3269725708241008, 'gamma': 4, 'learning_rate': 0.20339427485761993, 'max_depth': 8, 'min_child_weight': 4, 'reg_alpha': 0.6079648077451894, 'reg_lambda': 0.3067488012679769, 'subsample': 0.4711978218176686}. Best is trial 61 with value: 0.8357589984350549.\u001b[0m\n",
            "\u001b[32m[I 2021-04-30 18:42:06,428]\u001b[0m Trial 107 finished with value: 0.8145735524256651 and parameters: {'colsample_bytree': 0.3657473167456759, 'gamma': 5, 'learning_rate': 0.173810987026144, 'max_depth': 4, 'min_child_weight': 2, 'reg_alpha': 0.8942266746514919, 'reg_lambda': 0.32779855564716304, 'subsample': 0.7110115699014699}. Best is trial 61 with value: 0.8357589984350549.\u001b[0m\n",
            "\u001b[32m[I 2021-04-30 18:42:06,869]\u001b[0m Trial 108 finished with value: 0.8174100156494521 and parameters: {'colsample_bytree': 0.39547191095813133, 'gamma': 10, 'learning_rate': 0.16557874138009734, 'max_depth': 8, 'min_child_weight': 3, 'reg_alpha': 0.828520594338282, 'reg_lambda': 0.3705149408979509, 'subsample': 0.43241972814864693}. Best is trial 61 with value: 0.8357589984350549.\u001b[0m\n",
            "\u001b[32m[I 2021-04-30 18:42:07,231]\u001b[0m Trial 109 finished with value: 0.815923317683881 and parameters: {'colsample_bytree': 0.21903711633434922, 'gamma': 6, 'learning_rate': 0.14680981867095755, 'max_depth': 8, 'min_child_weight': 4, 'reg_alpha': 0.6330524002501717, 'reg_lambda': 0.3348346214645089, 'subsample': 0.8292046893906881}. Best is trial 61 with value: 0.8357589984350549.\u001b[0m\n",
            "\u001b[32m[I 2021-04-30 18:42:07,737]\u001b[0m Trial 110 finished with value: 0.8160993740219092 and parameters: {'colsample_bytree': 0.429642622786202, 'gamma': 5, 'learning_rate': 0.19118143889981604, 'max_depth': 7, 'min_child_weight': 2, 'reg_alpha': 0.6572141751013646, 'reg_lambda': 0.32122584586618974, 'subsample': 0.6629833382352485}. Best is trial 61 with value: 0.8357589984350549.\u001b[0m\n",
            "\u001b[32m[I 2021-04-30 18:42:08,210]\u001b[0m Trial 111 finished with value: 0.8272496087636932 and parameters: {'colsample_bytree': 0.3156627939408804, 'gamma': 6, 'learning_rate': 0.17241521265392723, 'max_depth': 9, 'min_child_weight': 1, 'reg_alpha': 0.775183801896242, 'reg_lambda': 0.34929730559433836, 'subsample': 0.6203574933786745}. Best is trial 61 with value: 0.8357589984350549.\u001b[0m\n",
            "\u001b[32m[I 2021-04-30 18:42:08,682]\u001b[0m Trial 112 finished with value: 0.82179186228482 and parameters: {'colsample_bytree': 0.30802475129853046, 'gamma': 6, 'learning_rate': 0.17095636504261702, 'max_depth': 9, 'min_child_weight': 1, 'reg_alpha': 0.6894378138099234, 'reg_lambda': 0.346132897332505, 'subsample': 0.6196868536161084}. Best is trial 61 with value: 0.8357589984350549.\u001b[0m\n",
            "\u001b[32m[I 2021-04-30 18:42:09,087]\u001b[0m Trial 113 finished with value: 0.8187597809076683 and parameters: {'colsample_bytree': 0.290131099789526, 'gamma': 5, 'learning_rate': 0.18833877535100405, 'max_depth': 4, 'min_child_weight': 1, 'reg_alpha': 0.8998059812254571, 'reg_lambda': 0.3161118980059502, 'subsample': 0.515242689974479}. Best is trial 61 with value: 0.8357589984350549.\u001b[0m\n",
            "\u001b[32m[I 2021-04-30 18:42:09,534]\u001b[0m Trial 114 finished with value: 0.8245109546165883 and parameters: {'colsample_bytree': 0.2728577912136019, 'gamma': 7, 'learning_rate': 0.21145070406443783, 'max_depth': 8, 'min_child_weight': 2, 'reg_alpha': 0.7703210047931198, 'reg_lambda': 0.534963981418621, 'subsample': 0.8991099726787493}. Best is trial 61 with value: 0.8357589984350549.\u001b[0m\n",
            "\u001b[32m[I 2021-04-30 18:42:09,949]\u001b[0m Trial 115 finished with value: 0.8201095461658842 and parameters: {'colsample_bytree': 0.3375784876885108, 'gamma': 4, 'learning_rate': 0.17697840038896887, 'max_depth': 8, 'min_child_weight': 4, 'reg_alpha': 0.7944795914668453, 'reg_lambda': 0.3016588890726086, 'subsample': 0.771060109639131}. Best is trial 61 with value: 0.8357589984350549.\u001b[0m\n",
            "\u001b[32m[I 2021-04-30 18:42:10,335]\u001b[0m Trial 116 finished with value: 0.8215962441314554 and parameters: {'colsample_bytree': 0.23828995142159565, 'gamma': 2, 'learning_rate': 0.19912194871058492, 'max_depth': 9, 'min_child_weight': 1, 'reg_alpha': 0.8689768133862706, 'reg_lambda': 0.35214190620179003, 'subsample': 0.7066044678693861}. Best is trial 61 with value: 0.8357589984350549.\u001b[0m\n",
            "\u001b[32m[I 2021-04-30 18:42:10,818]\u001b[0m Trial 117 finished with value: 0.8201486697965571 and parameters: {'colsample_bytree': 0.2993950296938799, 'gamma': 6, 'learning_rate': 0.18406913024986726, 'max_depth': 8, 'min_child_weight': 1, 'reg_alpha': 0.3752011322834744, 'reg_lambda': 0.7130118349811373, 'subsample': 0.603409839781749}. Best is trial 61 with value: 0.8357589984350549.\u001b[0m\n",
            "\u001b[32m[I 2021-04-30 18:42:11,200]\u001b[0m Trial 118 finished with value: 0.8062793427230048 and parameters: {'colsample_bytree': 0.25561037539089576, 'gamma': 5, 'learning_rate': 0.23483654925672479, 'max_depth': 7, 'min_child_weight': 2, 'reg_alpha': 0.6700732558582128, 'reg_lambda': 0.3111662619509589, 'subsample': 0.5708991505048687}. Best is trial 61 with value: 0.8357589984350549.\u001b[0m\n",
            "\u001b[32m[I 2021-04-30 18:42:11,607]\u001b[0m Trial 119 finished with value: 0.8173708920187794 and parameters: {'colsample_bytree': 0.3154926906353937, 'gamma': 6, 'learning_rate': 0.13761924832639896, 'max_depth': 4, 'min_child_weight': 3, 'reg_alpha': 0.8452887106330405, 'reg_lambda': 0.47823663153910806, 'subsample': 0.6493528324874451}. Best is trial 61 with value: 0.8357589984350549.\u001b[0m\n",
            "\u001b[32m[I 2021-04-30 18:42:12,094]\u001b[0m Trial 120 finished with value: 0.8189358372456963 and parameters: {'colsample_bytree': 0.32789556717935364, 'gamma': 4, 'learning_rate': 0.20416767250002538, 'max_depth': 8, 'min_child_weight': 1, 'reg_alpha': 0.40013942217338905, 'reg_lambda': 0.6200175342755343, 'subsample': 0.8067477390872732}. Best is trial 61 with value: 0.8357589984350549.\u001b[0m\n",
            "\u001b[32m[I 2021-04-30 18:42:12,582]\u001b[0m Trial 121 finished with value: 0.8228286384976526 and parameters: {'colsample_bytree': 0.35534174147900877, 'gamma': 7, 'learning_rate': 0.2816046320452449, 'max_depth': 9, 'min_child_weight': 1, 'reg_alpha': 0.751374703673509, 'reg_lambda': 0.36458312552891575, 'subsample': 0.7355763957948394}. Best is trial 61 with value: 0.8357589984350549.\u001b[0m\n",
            "\u001b[32m[I 2021-04-30 18:42:13,063]\u001b[0m Trial 122 finished with value: 0.8258215962441314 and parameters: {'colsample_bytree': 0.3263266811221815, 'gamma': 6, 'learning_rate': 0.1641347156562829, 'max_depth': 9, 'min_child_weight': 1, 'reg_alpha': 0.7092688549933593, 'reg_lambda': 0.3305571636503757, 'subsample': 0.7499345847872595}. Best is trial 61 with value: 0.8357589984350549.\u001b[0m\n",
            "\u001b[32m[I 2021-04-30 18:42:13,807]\u001b[0m Trial 123 finished with value: 0.8216744913928012 and parameters: {'colsample_bytree': 0.6648068991717841, 'gamma': 6, 'learning_rate': 0.30086595029351615, 'max_depth': 9, 'min_child_weight': 1, 'reg_alpha': 0.7736171034223117, 'reg_lambda': 0.361334956946787, 'subsample': 0.8612555933320292}. Best is trial 61 with value: 0.8357589984350549.\u001b[0m\n",
            "\u001b[32m[I 2021-04-30 18:42:14,280]\u001b[0m Trial 124 finished with value: 0.8228482003129889 and parameters: {'colsample_bytree': 0.2944804670052526, 'gamma': 5, 'learning_rate': 0.32417137602077545, 'max_depth': 9, 'min_child_weight': 1, 'reg_alpha': 0.7329462845033783, 'reg_lambda': 0.3354609409481596, 'subsample': 0.7633577403958105}. Best is trial 61 with value: 0.8357589984350549.\u001b[0m\n",
            "\u001b[32m[I 2021-04-30 18:42:14,677]\u001b[0m Trial 125 finished with value: 0.821537558685446 and parameters: {'colsample_bytree': 0.27092686096402596, 'gamma': 6, 'learning_rate': 0.21292426589211078, 'max_depth': 9, 'min_child_weight': 2, 'reg_alpha': 0.8132792126051034, 'reg_lambda': 0.3417499304022955, 'subsample': 0.825156317927207}. Best is trial 61 with value: 0.8357589984350549.\u001b[0m\n",
            "\u001b[32m[I 2021-04-30 18:42:15,134]\u001b[0m Trial 126 finished with value: 0.8230046948356808 and parameters: {'colsample_bytree': 0.2857582433840505, 'gamma': 8, 'learning_rate': 0.35719376095213456, 'max_depth': 6, 'min_child_weight': 1, 'reg_alpha': 0.7165603863696751, 'reg_lambda': 0.3242728278336966, 'subsample': 0.7272012720332172}. Best is trial 61 with value: 0.8357589984350549.\u001b[0m\n",
            "\u001b[32m[I 2021-04-30 18:42:15,557]\u001b[0m Trial 127 finished with value: 0.8172926447574336 and parameters: {'colsample_bytree': 0.31389737587951605, 'gamma': 5, 'learning_rate': 0.22455969932942188, 'max_depth': 8, 'min_child_weight': 5, 'reg_alpha': 0.7395083544131777, 'reg_lambda': 0.3805694093708549, 'subsample': 0.6852732810575131}. Best is trial 61 with value: 0.8357589984350549.\u001b[0m\n",
            "\u001b[32m[I 2021-04-30 18:42:16,025]\u001b[0m Trial 128 finished with value: 0.8229851330203444 and parameters: {'colsample_bytree': 0.3441167671796776, 'gamma': 5, 'learning_rate': 0.1796470340601695, 'max_depth': 8, 'min_child_weight': 1, 'reg_alpha': 0.7813364884713582, 'reg_lambda': 0.35415063827311744, 'subsample': 0.8988203366762604}. Best is trial 61 with value: 0.8357589984350549.\u001b[0m\n",
            "\u001b[32m[I 2021-04-30 18:42:16,414]\u001b[0m Trial 129 finished with value: 0.8090571205007825 and parameters: {'colsample_bytree': 0.2637622442967371, 'gamma': 6, 'learning_rate': 0.24246927127464166, 'max_depth': 7, 'min_child_weight': 2, 'reg_alpha': 0.4787836196860072, 'reg_lambda': 0.30022235266541303, 'subsample': 0.39238352073255883}. Best is trial 61 with value: 0.8357589984350549.\u001b[0m\n",
            "\u001b[32m[I 2021-04-30 18:42:16,830]\u001b[0m Trial 130 finished with value: 0.8201682316118937 and parameters: {'colsample_bytree': 0.30184625661369413, 'gamma': 0, 'learning_rate': 0.1952003829790188, 'max_depth': 8, 'min_child_weight': 4, 'reg_alpha': 0.6441080985973, 'reg_lambda': 0.3963337685721961, 'subsample': 0.6320374796028781}. Best is trial 61 with value: 0.8357589984350549.\u001b[0m\n",
            "\u001b[32m[I 2021-04-30 18:42:17,301]\u001b[0m Trial 131 finished with value: 0.8286776212832552 and parameters: {'colsample_bytree': 0.33683926253359187, 'gamma': 5, 'learning_rate': 0.21428208237519655, 'max_depth': 7, 'min_child_weight': 1, 'reg_alpha': 0.6849878477598176, 'reg_lambda': 0.429686394153887, 'subsample': 0.8483084589292913}. Best is trial 61 with value: 0.8357589984350549.\u001b[0m\n",
            "\u001b[32m[I 2021-04-30 18:42:17,747]\u001b[0m Trial 132 finished with value: 0.828755868544601 and parameters: {'colsample_bytree': 0.31419654735674557, 'gamma': 5, 'learning_rate': 0.2064397509051094, 'max_depth': 6, 'min_child_weight': 1, 'reg_alpha': 0.6813110326252886, 'reg_lambda': 0.4084537222436025, 'subsample': 0.844249832496348}. Best is trial 61 with value: 0.8357589984350549.\u001b[0m\n",
            "\u001b[32m[I 2021-04-30 18:42:18,214]\u001b[0m Trial 133 finished with value: 0.8285602503912364 and parameters: {'colsample_bytree': 0.33937163159945616, 'gamma': 5, 'learning_rate': 0.18821347413382225, 'max_depth': 6, 'min_child_weight': 1, 'reg_alpha': 0.6780798130195765, 'reg_lambda': 0.4597028191676085, 'subsample': 0.8492931339803415}. Best is trial 61 with value: 0.8357589984350549.\u001b[0m\n",
            "\u001b[32m[I 2021-04-30 18:42:18,654]\u001b[0m Trial 134 finished with value: 0.8314553990610328 and parameters: {'colsample_bytree': 0.3614435174529636, 'gamma': 5, 'learning_rate': 0.1926298523588671, 'max_depth': 6, 'min_child_weight': 1, 'reg_alpha': 0.6666636864724111, 'reg_lambda': 0.4443613533852344, 'subsample': 0.854630092454166}. Best is trial 61 with value: 0.8357589984350549.\u001b[0m\n",
            "\u001b[32m[I 2021-04-30 18:42:19,172]\u001b[0m Trial 135 finished with value: 0.8230242566510173 and parameters: {'colsample_bytree': 0.3916559458481418, 'gamma': 5, 'learning_rate': 0.18782366375384235, 'max_depth': 6, 'min_child_weight': 1, 'reg_alpha': 0.6948031343012393, 'reg_lambda': 0.44202622330897423, 'subsample': 0.8100834901367281}. Best is trial 61 with value: 0.8357589984350549.\u001b[0m\n",
            "\u001b[32m[I 2021-04-30 18:42:19,669]\u001b[0m Trial 136 finished with value: 0.8172339593114242 and parameters: {'colsample_bytree': 0.3728403047405227, 'gamma': 4, 'learning_rate': 0.19676681005400617, 'max_depth': 6, 'min_child_weight': 1, 'reg_alpha': 0.6802559116056438, 'reg_lambda': 0.4592153943622951, 'subsample': 0.8464208068192276}. Best is trial 61 with value: 0.8357589984350549.\u001b[0m\n",
            "\u001b[32m[I 2021-04-30 18:42:20,127]\u001b[0m Trial 137 finished with value: 0.8313184663536777 and parameters: {'colsample_bytree': 0.3474375712071148, 'gamma': 5, 'learning_rate': 0.17365282493731657, 'max_depth': 6, 'min_child_weight': 1, 'reg_alpha': 0.7071947452469718, 'reg_lambda': 0.4311789118886058, 'subsample': 0.8941556439793736}. Best is trial 61 with value: 0.8357589984350549.\u001b[0m\n",
            "\u001b[32m[I 2021-04-30 18:42:20,576]\u001b[0m Trial 138 finished with value: 0.8216744913928012 and parameters: {'colsample_bytree': 0.3577434273972312, 'gamma': 5, 'learning_rate': 0.1738776843904954, 'max_depth': 6, 'min_child_weight': 1, 'reg_alpha': 0.6559477747521995, 'reg_lambda': 0.4377697164154739, 'subsample': 0.8925816853683765}. Best is trial 61 with value: 0.8357589984350549.\u001b[0m\n",
            "\u001b[32m[I 2021-04-30 18:42:21,109]\u001b[0m Trial 139 finished with value: 0.8300860719874803 and parameters: {'colsample_bytree': 0.40895434574213896, 'gamma': 4, 'learning_rate': 0.1833313653771767, 'max_depth': 6, 'min_child_weight': 1, 'reg_alpha': 0.6744221097959007, 'reg_lambda': 0.4671952174177548, 'subsample': 0.7914920461330087}. Best is trial 61 with value: 0.8357589984350549.\u001b[0m\n",
            "\u001b[32m[I 2021-04-30 18:42:21,480]\u001b[0m Trial 140 finished with value: 0.8203051643192488 and parameters: {'colsample_bytree': 0.41172733698963127, 'gamma': 3, 'learning_rate': 0.1850587212375524, 'max_depth': 6, 'min_child_weight': 1, 'reg_alpha': 0.6273180714347679, 'reg_lambda': 0.40742265819922774, 'subsample': 0.1232977829278558}. Best is trial 61 with value: 0.8357589984350549.\u001b[0m\n",
            "\u001b[32m[I 2021-04-30 18:42:21,991]\u001b[0m Trial 141 finished with value: 0.8131064162754302 and parameters: {'colsample_bytree': 0.8149318863366398, 'gamma': 4, 'learning_rate': 0.2066467473679727, 'max_depth': 6, 'min_child_weight': 1, 'reg_alpha': 0.67892308518746, 'reg_lambda': 0.46638304655888974, 'subsample': 0.20782368445244323}. Best is trial 61 with value: 0.8357589984350549.\u001b[0m\n",
            "\u001b[32m[I 2021-04-30 18:42:22,467]\u001b[0m Trial 142 finished with value: 0.8215179968701095 and parameters: {'colsample_bytree': 0.3383129107598835, 'gamma': 5, 'learning_rate': 0.1599779683281453, 'max_depth': 6, 'min_child_weight': 1, 'reg_alpha': 0.7133608024837568, 'reg_lambda': 0.4885950950830899, 'subsample': 0.8004447539503197}. Best is trial 61 with value: 0.8357589984350549.\u001b[0m\n",
            "\u001b[32m[I 2021-04-30 18:42:22,976]\u001b[0m Trial 143 finished with value: 0.8272691705790297 and parameters: {'colsample_bytree': 0.3827785769741774, 'gamma': 3, 'learning_rate': 0.1791781125916049, 'max_depth': 6, 'min_child_weight': 1, 'reg_alpha': 0.6729787401311917, 'reg_lambda': 0.4255854460906948, 'subsample': 0.8932454166736817}. Best is trial 61 with value: 0.8357589984350549.\u001b[0m\n",
            "\u001b[32m[I 2021-04-30 18:42:23,543]\u001b[0m Trial 144 finished with value: 0.8244327073552424 and parameters: {'colsample_bytree': 0.46016638802155346, 'gamma': 3, 'learning_rate': 0.1810921089751182, 'max_depth': 6, 'min_child_weight': 1, 'reg_alpha': 0.6704049767142061, 'reg_lambda': 0.4120457747393569, 'subsample': 0.898007249913981}. Best is trial 61 with value: 0.8357589984350549.\u001b[0m\n",
            "\u001b[32m[I 2021-04-30 18:42:24,054]\u001b[0m Trial 145 finished with value: 0.8230633802816902 and parameters: {'colsample_bytree': 0.4395533911115939, 'gamma': 5, 'learning_rate': 0.1957460705168558, 'max_depth': 6, 'min_child_weight': 1, 'reg_alpha': 0.6422554580352245, 'reg_lambda': 0.43820657713048866, 'subsample': 0.8526912237953469}. Best is trial 61 with value: 0.8357589984350549.\u001b[0m\n",
            "\u001b[32m[I 2021-04-30 18:42:24,565]\u001b[0m Trial 146 finished with value: 0.8258998435054773 and parameters: {'colsample_bytree': 0.3802770084611166, 'gamma': 4, 'learning_rate': 0.1711106095532513, 'max_depth': 6, 'min_child_weight': 1, 'reg_alpha': 0.6917261192514909, 'reg_lambda': 0.4259597455169514, 'subsample': 0.7804849514772387}. Best is trial 61 with value: 0.8357589984350549.\u001b[0m\n",
            "\u001b[32m[I 2021-04-30 18:42:25,049]\u001b[0m Trial 147 finished with value: 0.8119131455399062 and parameters: {'colsample_bytree': 0.4073753144109609, 'gamma': 3, 'learning_rate': 0.18786703147570535, 'max_depth': 6, 'min_child_weight': 2, 'reg_alpha': 0.6602123885152509, 'reg_lambda': 0.44932368047954185, 'subsample': 0.89633570496356}. Best is trial 61 with value: 0.8357589984350549.\u001b[0m\n",
            "\u001b[32m[I 2021-04-30 18:42:25,404]\u001b[0m Trial 148 finished with value: 0.792233959311424 and parameters: {'colsample_bytree': 0.36204888665653445, 'gamma': 3, 'learning_rate': 0.1635178347336137, 'max_depth': 6, 'min_child_weight': 1, 'reg_alpha': 0.7005138508717688, 'reg_lambda': 0.43106896126296534, 'subsample': 0.14661772726964198}. Best is trial 61 with value: 0.8357589984350549.\u001b[0m\n",
            "\u001b[32m[I 2021-04-30 18:42:25,932]\u001b[0m Trial 149 finished with value: 0.8187597809076681 and parameters: {'colsample_bytree': 0.48779015145565635, 'gamma': 4, 'learning_rate': 0.17844448555765147, 'max_depth': 6, 'min_child_weight': 2, 'reg_alpha': 0.6825028036775296, 'reg_lambda': 0.4618239816944583, 'subsample': 0.8217126669222508}. Best is trial 61 with value: 0.8357589984350549.\u001b[0m\n",
            "\u001b[32m[I 2021-04-30 18:42:26,292]\u001b[0m Trial 150 finished with value: 0.8118153364632239 and parameters: {'colsample_bytree': 0.3487588799714268, 'gamma': 2, 'learning_rate': 0.19349533111060943, 'max_depth': 6, 'min_child_weight': 1, 'reg_alpha': 0.61267355124933, 'reg_lambda': 0.4503953020509522, 'subsample': 0.10482344526263584}. Best is trial 61 with value: 0.8357589984350549.\u001b[0m\n",
            "\u001b[32m[I 2021-04-30 18:42:26,732]\u001b[0m Trial 151 finished with value: 0.8286189358372456 and parameters: {'colsample_bytree': 0.3305099866197886, 'gamma': 5, 'learning_rate': 0.2053983607744868, 'max_depth': 6, 'min_child_weight': 1, 'reg_alpha': 0.6598986482150737, 'reg_lambda': 0.49323195902132816, 'subsample': 0.8618459035254779}. Best is trial 61 with value: 0.8357589984350549.\u001b[0m\n",
            "\u001b[32m[I 2021-04-30 18:42:27,248]\u001b[0m Trial 152 finished with value: 0.8202073552425665 and parameters: {'colsample_bytree': 0.39082448899515726, 'gamma': 5, 'learning_rate': 0.1766117670275971, 'max_depth': 6, 'min_child_weight': 1, 'reg_alpha': 0.664109334380172, 'reg_lambda': 0.49490875734911033, 'subsample': 0.8691515953158871}. Best is trial 61 with value: 0.8357589984350549.\u001b[0m\n",
            "\u001b[32m[I 2021-04-30 18:42:27,701]\u001b[0m Trial 153 finished with value: 0.8230633802816902 and parameters: {'colsample_bytree': 0.3315056327686162, 'gamma': 5, 'learning_rate': 0.203253476507806, 'max_depth': 6, 'min_child_weight': 1, 'reg_alpha': 0.6371776204492937, 'reg_lambda': 0.47128511747699986, 'subsample': 0.840971581187872}. Best is trial 61 with value: 0.8357589984350549.\u001b[0m\n",
            "\u001b[32m[I 2021-04-30 18:42:28,221]\u001b[0m Trial 154 finished with value: 0.8216353677621283 and parameters: {'colsample_bytree': 0.36825355241423624, 'gamma': 5, 'learning_rate': 0.21411928656188015, 'max_depth': 6, 'min_child_weight': 1, 'reg_alpha': 0.6598943645133185, 'reg_lambda': 0.48118039071869456, 'subsample': 0.7835441517538831}. Best is trial 61 with value: 0.8357589984350549.\u001b[0m\n",
            "\u001b[32m[I 2021-04-30 18:42:28,644]\u001b[0m Trial 155 finished with value: 0.8299687010954617 and parameters: {'colsample_bytree': 0.34844606023670677, 'gamma': 3, 'learning_rate': 0.19008693214759056, 'max_depth': 5, 'min_child_weight': 1, 'reg_alpha': 0.6433931050304649, 'reg_lambda': 0.4163095491722217, 'subsample': 0.8995979526857261}. Best is trial 61 with value: 0.8357589984350549.\u001b[0m\n",
            "\u001b[32m[I 2021-04-30 18:42:29,068]\u001b[0m Trial 156 finished with value: 0.8286580594679187 and parameters: {'colsample_bytree': 0.3472649622688637, 'gamma': 4, 'learning_rate': 0.18904200138478008, 'max_depth': 5, 'min_child_weight': 1, 'reg_alpha': 0.648172729809633, 'reg_lambda': 0.4049345085554647, 'subsample': 0.8944690182565651}. Best is trial 61 with value: 0.8357589984350549.\u001b[0m\n",
            "\u001b[32m[I 2021-04-30 18:42:29,512]\u001b[0m Trial 157 finished with value: 0.8286189358372458 and parameters: {'colsample_bytree': 0.34608139085143824, 'gamma': 5, 'learning_rate': 0.1899621916508619, 'max_depth': 5, 'min_child_weight': 1, 'reg_alpha': 0.6199853499084802, 'reg_lambda': 0.4094927697185412, 'subsample': 0.899548501352725}. Best is trial 61 with value: 0.8357589984350549.\u001b[0m\n",
            "\u001b[32m[I 2021-04-30 18:42:29,950]\u001b[0m Trial 158 finished with value: 0.8228482003129889 and parameters: {'colsample_bytree': 0.3457652729616511, 'gamma': 4, 'learning_rate': 0.18982685553723708, 'max_depth': 5, 'min_child_weight': 2, 'reg_alpha': 0.5758600855051546, 'reg_lambda': 0.41170767576683764, 'subsample': 0.8984967561045772}. Best is trial 61 with value: 0.8357589984350549.\u001b[0m\n",
            "\u001b[32m[I 2021-04-30 18:42:30,434]\u001b[0m Trial 159 finished with value: 0.8328638497652582 and parameters: {'colsample_bytree': 0.416096796927641, 'gamma': 5, 'learning_rate': 0.19763693102588492, 'max_depth': 5, 'min_child_weight': 1, 'reg_alpha': 0.6027046807797177, 'reg_lambda': 0.40315422574322923, 'subsample': 0.8072383342653761}. Best is trial 61 with value: 0.8357589984350549.\u001b[0m\n",
            "\u001b[32m[I 2021-04-30 18:42:30,901]\u001b[0m Trial 160 finished with value: 0.8243740219092333 and parameters: {'colsample_bytree': 0.36386087887908913, 'gamma': 4, 'learning_rate': 0.19983255620031498, 'max_depth': 5, 'min_child_weight': 1, 'reg_alpha': 0.5938305546668216, 'reg_lambda': 0.401917048256377, 'subsample': 0.7985606511386119}. Best is trial 61 with value: 0.8357589984350549.\u001b[0m\n",
            "\u001b[32m[I 2021-04-30 18:42:31,370]\u001b[0m Trial 161 finished with value: 0.8231416275430361 and parameters: {'colsample_bytree': 0.4123140740141834, 'gamma': 5, 'learning_rate': 0.20762047300752542, 'max_depth': 5, 'min_child_weight': 1, 'reg_alpha': 0.6294411672867298, 'reg_lambda': 0.3874011433882691, 'subsample': 0.8568996684804202}. Best is trial 61 with value: 0.8357589984350549.\u001b[0m\n",
            "\u001b[32m[I 2021-04-30 18:42:31,783]\u001b[0m Trial 162 finished with value: 0.8285211267605634 and parameters: {'colsample_bytree': 0.3338155100768102, 'gamma': 5, 'learning_rate': 0.19381002828349023, 'max_depth': 5, 'min_child_weight': 1, 'reg_alpha': 0.6027378211664711, 'reg_lambda': 0.4232207546155391, 'subsample': 0.8990319602873409}. Best is trial 61 with value: 0.8357589984350549.\u001b[0m\n",
            "\u001b[32m[I 2021-04-30 18:42:32,252]\u001b[0m Trial 163 finished with value: 0.8272300469483568 and parameters: {'colsample_bytree': 0.43172821943648954, 'gamma': 5, 'learning_rate': 0.18605918912412953, 'max_depth': 5, 'min_child_weight': 1, 'reg_alpha': 0.6441286517519261, 'reg_lambda': 0.43661331374496865, 'subsample': 0.8199002165298986}. Best is trial 61 with value: 0.8357589984350549.\u001b[0m\n",
            "\u001b[32m[I 2021-04-30 18:42:32,686]\u001b[0m Trial 164 finished with value: 0.8201486697965571 and parameters: {'colsample_bytree': 0.3480084200933353, 'gamma': 5, 'learning_rate': 0.2217895931149204, 'max_depth': 5, 'min_child_weight': 1, 'reg_alpha': 0.6179630617203484, 'reg_lambda': 0.41446551228234246, 'subsample': 0.7638345008890581}. Best is trial 61 with value: 0.8357589984350549.\u001b[0m\n",
            "\u001b[32m[I 2021-04-30 18:42:33,139]\u001b[0m Trial 165 finished with value: 0.8259194053208139 and parameters: {'colsample_bytree': 0.32815461716283517, 'gamma': 5, 'learning_rate': 0.19967957496147032, 'max_depth': 5, 'min_child_weight': 1, 'reg_alpha': 0.6492290667646017, 'reg_lambda': 0.3908165029040734, 'subsample': 0.865269813642871}. Best is trial 61 with value: 0.8357589984350549.\u001b[0m\n",
            "\u001b[32m[I 2021-04-30 18:42:33,631]\u001b[0m Trial 166 finished with value: 0.8172535211267606 and parameters: {'colsample_bytree': 0.3924153000963471, 'gamma': 5, 'learning_rate': 0.19050133281856974, 'max_depth': 5, 'min_child_weight': 1, 'reg_alpha': 0.6271675133673867, 'reg_lambda': 0.4052925601815578, 'subsample': 0.8172880685826681}. Best is trial 61 with value: 0.8357589984350549.\u001b[0m\n",
            "\u001b[32m[I 2021-04-30 18:42:34,069]\u001b[0m Trial 167 finished with value: 0.8172926447574336 and parameters: {'colsample_bytree': 0.372117822392818, 'gamma': 4, 'learning_rate': 0.20713990239429395, 'max_depth': 5, 'min_child_weight': 5, 'reg_alpha': 0.608533019620226, 'reg_lambda': 0.45000599197616914, 'subsample': 0.8633369484313046}. Best is trial 61 with value: 0.8357589984350549.\u001b[0m\n",
            "\u001b[32m[I 2021-04-30 18:42:34,525]\u001b[0m Trial 168 finished with value: 0.8242957746478874 and parameters: {'colsample_bytree': 0.35167737581146535, 'gamma': 5, 'learning_rate': 0.18379948476012287, 'max_depth': 5, 'min_child_weight': 1, 'reg_alpha': 0.5547566925093799, 'reg_lambda': 0.4759396670308887, 'subsample': 0.7774835811596963}. Best is trial 61 with value: 0.8357589984350549.\u001b[0m\n",
            "\u001b[32m[I 2021-04-30 18:42:34,962]\u001b[0m Trial 169 finished with value: 0.8286189358372458 and parameters: {'colsample_bytree': 0.3244597533727645, 'gamma': 5, 'learning_rate': 0.19929159545127606, 'max_depth': 6, 'min_child_weight': 2, 'reg_alpha': 0.6513046504567621, 'reg_lambda': 0.4165191600465247, 'subsample': 0.8975534208869456}. Best is trial 61 with value: 0.8357589984350549.\u001b[0m\n",
            "\u001b[32m[I 2021-04-30 18:42:35,410]\u001b[0m Trial 170 finished with value: 0.8230438184663535 and parameters: {'colsample_bytree': 0.3251774432690036, 'gamma': 5, 'learning_rate': 0.20020899502022843, 'max_depth': 6, 'min_child_weight': 2, 'reg_alpha': 0.6512340239733285, 'reg_lambda': 0.41661300066843704, 'subsample': 0.7488932211354572}. Best is trial 61 with value: 0.8357589984350549.\u001b[0m\n",
            "\u001b[32m[I 2021-04-30 18:42:35,851]\u001b[0m Trial 171 finished with value: 0.8258998435054773 and parameters: {'colsample_bytree': 0.30513220029754784, 'gamma': 5, 'learning_rate': 0.19341997738636774, 'max_depth': 6, 'min_child_weight': 2, 'reg_alpha': 0.636125984400176, 'reg_lambda': 0.5066487059701764, 'subsample': 0.8953970619317558}. Best is trial 61 with value: 0.8357589984350549.\u001b[0m\n",
            "\u001b[32m[I 2021-04-30 18:42:36,315]\u001b[0m Trial 172 finished with value: 0.8258802816901408 and parameters: {'colsample_bytree': 0.33573197631815643, 'gamma': 5, 'learning_rate': 0.2091663596789579, 'max_depth': 6, 'min_child_weight': 2, 'reg_alpha': 0.6833418459744542, 'reg_lambda': 0.43079821768211146, 'subsample': 0.8319298686158325}. Best is trial 61 with value: 0.8357589984350549.\u001b[0m\n",
            "\u001b[32m[I 2021-04-30 18:42:36,725]\u001b[0m Trial 173 finished with value: 0.8202464788732394 and parameters: {'colsample_bytree': 0.3590794242293725, 'gamma': 4, 'learning_rate': 0.22027718240628305, 'max_depth': 5, 'min_child_weight': 3, 'reg_alpha': 0.6617952332655161, 'reg_lambda': 0.4004026932136688, 'subsample': 0.864803034641485}. Best is trial 61 with value: 0.8357589984350549.\u001b[0m\n",
            "\u001b[32m[I 2021-04-30 18:42:37,175]\u001b[0m Trial 174 finished with value: 0.8285602503912364 and parameters: {'colsample_bytree': 0.3216556043043762, 'gamma': 5, 'learning_rate': 0.18460473239467623, 'max_depth': 6, 'min_child_weight': 1, 'reg_alpha': 0.6724127884934687, 'reg_lambda': 0.4548458557954071, 'subsample': 0.8967155751128437}. Best is trial 61 with value: 0.8357589984350549.\u001b[0m\n",
            "\u001b[32m[I 2021-04-30 18:42:37,617]\u001b[0m Trial 175 finished with value: 0.8258215962441314 and parameters: {'colsample_bytree': 0.29096667891213385, 'gamma': 5, 'learning_rate': 0.2000679741633235, 'max_depth': 6, 'min_child_weight': 2, 'reg_alpha': 0.6213135720900769, 'reg_lambda': 0.439223654366772, 'subsample': 0.8094037966718388}. Best is trial 61 with value: 0.8357589984350549.\u001b[0m\n",
            "\u001b[32m[I 2021-04-30 18:42:38,124]\u001b[0m Trial 176 finished with value: 0.8202856025039124 and parameters: {'colsample_bytree': 0.378151110075618, 'gamma': 5, 'learning_rate': 0.16984975671292338, 'max_depth': 6, 'min_child_weight': 1, 'reg_alpha': 0.7039544400722604, 'reg_lambda': 0.40785621576122877, 'subsample': 0.8985753454574268}. Best is trial 61 with value: 0.8357589984350549.\u001b[0m\n",
            "\u001b[32m[I 2021-04-30 18:42:38,591]\u001b[0m Trial 177 finished with value: 0.8258998435054773 and parameters: {'colsample_bytree': 0.3443757825459637, 'gamma': 4, 'learning_rate': 0.19078149557964952, 'max_depth': 6, 'min_child_weight': 3, 'reg_alpha': 0.6452417834253474, 'reg_lambda': 0.41818778599967954, 'subsample': 0.8492676406982702}. Best is trial 61 with value: 0.8357589984350549.\u001b[0m\n",
            "\u001b[32m[I 2021-04-30 18:42:39,084]\u001b[0m Trial 178 finished with value: 0.8189749608763692 and parameters: {'colsample_bytree': 0.42065891130926497, 'gamma': 5, 'learning_rate': 0.17477294523779366, 'max_depth': 5, 'min_child_weight': 1, 'reg_alpha': 0.5823350122868098, 'reg_lambda': 0.520448279298277, 'subsample': 0.7940548786522261}. Best is trial 61 with value: 0.8357589984350549.\u001b[0m\n",
            "\u001b[32m[I 2021-04-30 18:42:39,535]\u001b[0m Trial 179 finished with value: 0.8259194053208138 and parameters: {'colsample_bytree': 0.3225211160702663, 'gamma': 6, 'learning_rate': 0.18313234496763067, 'max_depth': 6, 'min_child_weight': 2, 'reg_alpha': 0.6015397780325525, 'reg_lambda': 0.3944859881899826, 'subsample': 0.7347686393020275}. Best is trial 61 with value: 0.8357589984350549.\u001b[0m\n",
            "\u001b[32m[I 2021-04-30 18:42:39,950]\u001b[0m Trial 180 finished with value: 0.8228677621283256 and parameters: {'colsample_bytree': 0.3081143010737812, 'gamma': 4, 'learning_rate': 0.23273937879678044, 'max_depth': 5, 'min_child_weight': 1, 'reg_alpha': 0.667700697037283, 'reg_lambda': 0.37804290306029925, 'subsample': 0.8990839608768199}. Best is trial 61 with value: 0.8357589984350549.\u001b[0m\n",
            "\u001b[32m[I 2021-04-30 18:42:40,404]\u001b[0m Trial 181 finished with value: 0.8271909233176838 and parameters: {'colsample_bytree': 0.32133293807437535, 'gamma': 5, 'learning_rate': 0.18742799687266806, 'max_depth': 6, 'min_child_weight': 1, 'reg_alpha': 0.6810677510475128, 'reg_lambda': 0.45965624738471167, 'subsample': 0.8623660038561064}. Best is trial 61 with value: 0.8357589984350549.\u001b[0m\n",
            "\u001b[32m[I 2021-04-30 18:42:40,853]\u001b[0m Trial 182 finished with value: 0.8285993740219093 and parameters: {'colsample_bytree': 0.29719366386353435, 'gamma': 5, 'learning_rate': 0.196356156789457, 'max_depth': 6, 'min_child_weight': 1, 'reg_alpha': 0.6553609776615869, 'reg_lambda': 0.4459154836133664, 'subsample': 0.8973848647903931}. Best is trial 61 with value: 0.8357589984350549.\u001b[0m\n",
            "\u001b[32m[I 2021-04-30 18:42:41,315]\u001b[0m Trial 183 finished with value: 0.8259389671361502 and parameters: {'colsample_bytree': 0.2957910012845157, 'gamma': 5, 'learning_rate': 0.202493583085327, 'max_depth': 6, 'min_child_weight': 1, 'reg_alpha': 0.6331165408949382, 'reg_lambda': 0.433508982167849, 'subsample': 0.8942830527096213}. Best is trial 61 with value: 0.8357589984350549.\u001b[0m\n",
            "\u001b[32m[I 2021-04-30 18:42:41,763]\u001b[0m Trial 184 finished with value: 0.8315140845070422 and parameters: {'colsample_bytree': 0.3345596156805793, 'gamma': 5, 'learning_rate': 0.21210426732737284, 'max_depth': 6, 'min_child_weight': 1, 'reg_alpha': 0.650924879995473, 'reg_lambda': 0.46774971655564945, 'subsample': 0.835799569399119}. Best is trial 61 with value: 0.8357589984350549.\u001b[0m\n",
            "\u001b[32m[I 2021-04-30 18:42:42,213]\u001b[0m Trial 185 finished with value: 0.8230242566510173 and parameters: {'colsample_bytree': 0.2796205962138146, 'gamma': 5, 'learning_rate': 0.21848696586845778, 'max_depth': 6, 'min_child_weight': 1, 'reg_alpha': 0.6528971807605043, 'reg_lambda': 0.4947203991174865, 'subsample': 0.8282274902368056}. Best is trial 61 with value: 0.8357589984350549.\u001b[0m\n",
            "\u001b[32m[I 2021-04-30 18:42:42,717]\u001b[0m Trial 186 finished with value: 0.8216549295774648 and parameters: {'colsample_bytree': 0.3987793883960302, 'gamma': 6, 'learning_rate': 0.19621219346007843, 'max_depth': 6, 'min_child_weight': 1, 'reg_alpha': 0.6154114001573405, 'reg_lambda': 0.41946564430690714, 'subsample': 0.7915494897780937}. Best is trial 61 with value: 0.8357589984350549.\u001b[0m\n",
            "\u001b[32m[I 2021-04-30 18:42:43,173]\u001b[0m Trial 187 finished with value: 0.8230633802816902 and parameters: {'colsample_bytree': 0.29961067259141005, 'gamma': 5, 'learning_rate': 0.2133454594409403, 'max_depth': 6, 'min_child_weight': 1, 'reg_alpha': 0.6432972963554504, 'reg_lambda': 0.4425011940206917, 'subsample': 0.7617231700762113}. Best is trial 61 with value: 0.8357589984350549.\u001b[0m\n",
            "\u001b[32m[I 2021-04-30 18:42:43,620]\u001b[0m Trial 188 finished with value: 0.8258802816901408 and parameters: {'colsample_bytree': 0.3502196980892943, 'gamma': 5, 'learning_rate': 0.20728896464146046, 'max_depth': 5, 'min_child_weight': 2, 'reg_alpha': 0.6253164397763803, 'reg_lambda': 0.46680444691866235, 'subsample': 0.823906918900381}. Best is trial 61 with value: 0.8357589984350549.\u001b[0m\n",
            "\u001b[32m[I 2021-04-30 18:42:44,112]\u001b[0m Trial 189 finished with value: 0.8089593114241002 and parameters: {'colsample_bytree': 0.3732146403957051, 'gamma': 4, 'learning_rate': 0.22852698393485232, 'max_depth': 6, 'min_child_weight': 1, 'reg_alpha': 0.7213350266062108, 'reg_lambda': 0.4264602367233294, 'subsample': 0.8984959252350059}. Best is trial 61 with value: 0.8357589984350549.\u001b[0m\n",
            "\u001b[32m[I 2021-04-30 18:42:44,572]\u001b[0m Trial 190 finished with value: 0.8301447574334899 and parameters: {'colsample_bytree': 0.3104446239637013, 'gamma': 6, 'learning_rate': 0.19567088821072479, 'max_depth': 6, 'min_child_weight': 1, 'reg_alpha': 0.6978371560892015, 'reg_lambda': 0.44771587186587763, 'subsample': 0.8600314384189347}. Best is trial 61 with value: 0.8357589984350549.\u001b[0m\n",
            "\u001b[32m[I 2021-04-30 18:42:45,021]\u001b[0m Trial 191 finished with value: 0.8230438184663538 and parameters: {'colsample_bytree': 0.3101073223815381, 'gamma': 6, 'learning_rate': 0.19645640581140839, 'max_depth': 6, 'min_child_weight': 1, 'reg_alpha': 0.692710456390649, 'reg_lambda': 0.4508291804450337, 'subsample': 0.8625550695693085}. Best is trial 61 with value: 0.8357589984350549.\u001b[0m\n",
            "\u001b[32m[I 2021-04-30 18:42:45,470]\u001b[0m Trial 192 finished with value: 0.8286189358372458 and parameters: {'colsample_bytree': 0.3370279920676946, 'gamma': 6, 'learning_rate': 0.20813643795273795, 'max_depth': 6, 'min_child_weight': 1, 'reg_alpha': 0.6596437000686823, 'reg_lambda': 0.4844331393018354, 'subsample': 0.8255449872590125}. Best is trial 61 with value: 0.8357589984350549.\u001b[0m\n",
            "\u001b[32m[I 2021-04-30 18:42:45,911]\u001b[0m Trial 193 finished with value: 0.8258802816901408 and parameters: {'colsample_bytree': 0.3324909882023107, 'gamma': 6, 'learning_rate': 0.2101650332693213, 'max_depth': 6, 'min_child_weight': 1, 'reg_alpha': 0.6588067271317838, 'reg_lambda': 0.4874352105335932, 'subsample': 0.8978491359606285}. Best is trial 61 with value: 0.8357589984350549.\u001b[0m\n",
            "\u001b[32m[I 2021-04-30 18:42:46,430]\u001b[0m Trial 194 finished with value: 0.8188184663536777 and parameters: {'colsample_bytree': 0.3645986447817581, 'gamma': 5, 'learning_rate': 0.20392519349253777, 'max_depth': 6, 'min_child_weight': 1, 'reg_alpha': 0.639984838014333, 'reg_lambda': 0.4692829449698474, 'subsample': 0.838035983518003}. Best is trial 61 with value: 0.8357589984350549.\u001b[0m\n",
            "\u001b[32m[I 2021-04-30 18:42:46,871]\u001b[0m Trial 195 finished with value: 0.8285406885758999 and parameters: {'colsample_bytree': 0.33113851610733785, 'gamma': 5, 'learning_rate': 0.21516507624989173, 'max_depth': 6, 'min_child_weight': 1, 'reg_alpha': 0.6645353448285877, 'reg_lambda': 0.5044737352851506, 'subsample': 0.8643836231499619}. Best is trial 61 with value: 0.8357589984350549.\u001b[0m\n",
            "\u001b[32m[I 2021-04-30 18:42:47,336]\u001b[0m Trial 196 finished with value: 0.8202464788732394 and parameters: {'colsample_bytree': 0.3126606498657432, 'gamma': 6, 'learning_rate': 0.22449637174312193, 'max_depth': 6, 'min_child_weight': 1, 'reg_alpha': 0.6538454064816636, 'reg_lambda': 0.4793569035319435, 'subsample': 0.7870452828625365}. Best is trial 61 with value: 0.8357589984350549.\u001b[0m\n",
            "\u001b[32m[I 2021-04-30 18:42:47,794]\u001b[0m Trial 197 finished with value: 0.8229068857589985 and parameters: {'colsample_bytree': 0.34773992250314273, 'gamma': 6, 'learning_rate': 0.1951007643609312, 'max_depth': 6, 'min_child_weight': 1, 'reg_alpha': 0.6299577668964527, 'reg_lambda': 0.4320390941628653, 'subsample': 0.8973356408059787}. Best is trial 61 with value: 0.8357589984350549.\u001b[0m\n",
            "\u001b[32m[I 2021-04-30 18:42:48,237]\u001b[0m Trial 198 finished with value: 0.8257824726134586 and parameters: {'colsample_bytree': 0.35783076830441585, 'gamma': 5, 'learning_rate': 0.20170935490773612, 'max_depth': 6, 'min_child_weight': 1, 'reg_alpha': 0.6872047660668412, 'reg_lambda': 0.41086054413241846, 'subsample': 0.8265840082878927}. Best is trial 61 with value: 0.8357589984350549.\u001b[0m\n",
            "\u001b[32m[I 2021-04-30 18:42:48,688]\u001b[0m Trial 199 finished with value: 0.8244522691705791 and parameters: {'colsample_bytree': 0.31811272504517696, 'gamma': 5, 'learning_rate': 0.18048395492789515, 'max_depth': 6, 'min_child_weight': 1, 'reg_alpha': 0.5984141559499606, 'reg_lambda': 0.447906132264301, 'subsample': 0.8596196271308312}. Best is trial 61 with value: 0.8357589984350549.\u001b[0m\n",
            "\u001b[32m[I 2021-04-30 18:42:49,093]\u001b[0m Trial 200 finished with value: 0.8173317683881065 and parameters: {'colsample_bytree': 0.33785191963901406, 'gamma': 2, 'learning_rate': 0.20953927369360936, 'max_depth': 6, 'min_child_weight': 5, 'reg_alpha': 0.6655981340197182, 'reg_lambda': 0.42027795058622003, 'subsample': 0.7745834847521657}. Best is trial 61 with value: 0.8357589984350549.\u001b[0m\n",
            "\u001b[32m[I 2021-04-30 18:42:49,546]\u001b[0m Trial 201 finished with value: 0.8285993740219093 and parameters: {'colsample_bytree': 0.29579989488068786, 'gamma': 6, 'learning_rate': 0.18733801272256942, 'max_depth': 6, 'min_child_weight': 1, 'reg_alpha': 0.7058216968720359, 'reg_lambda': 0.4021191581902717, 'subsample': 0.8234120943940768}. Best is trial 61 with value: 0.8357589984350549.\u001b[0m\n",
            "\u001b[32m[I 2021-04-30 18:42:49,993]\u001b[0m Trial 202 finished with value: 0.821537558685446 and parameters: {'colsample_bytree': 0.29108900125370607, 'gamma': 6, 'learning_rate': 0.1909346470493413, 'max_depth': 6, 'min_child_weight': 1, 'reg_alpha': 0.7081133364215401, 'reg_lambda': 0.40369918851535413, 'subsample': 0.8115615828031713}. Best is trial 61 with value: 0.8357589984350549.\u001b[0m\n",
            "\u001b[32m[I 2021-04-30 18:42:50,453]\u001b[0m Trial 203 finished with value: 0.8230438184663538 and parameters: {'colsample_bytree': 0.30923142806830994, 'gamma': 7, 'learning_rate': 0.18045505141873958, 'max_depth': 6, 'min_child_weight': 1, 'reg_alpha': 0.6786761150828937, 'reg_lambda': 0.3979385847215765, 'subsample': 0.8595563972043774}. Best is trial 61 with value: 0.8357589984350549.\u001b[0m\n",
            "\u001b[32m[I 2021-04-30 18:42:50,907]\u001b[0m Trial 204 finished with value: 0.824530516431925 and parameters: {'colsample_bytree': 0.2976870265937394, 'gamma': 6, 'learning_rate': 0.1962922129222675, 'max_depth': 6, 'min_child_weight': 1, 'reg_alpha': 0.6529914448623987, 'reg_lambda': 0.44318562742902573, 'subsample': 0.898060252460224}. Best is trial 61 with value: 0.8357589984350549.\u001b[0m\n",
            "\u001b[32m[I 2021-04-30 18:42:51,361]\u001b[0m Trial 205 finished with value: 0.818838028169014 and parameters: {'colsample_bytree': 0.3299257558912568, 'gamma': 5, 'learning_rate': 0.20318023066550506, 'max_depth': 6, 'min_child_weight': 1, 'reg_alpha': 0.6379180417031733, 'reg_lambda': 0.3905069251217521, 'subsample': 0.7198502504356151}. Best is trial 61 with value: 0.8357589984350549.\u001b[0m\n",
            "\u001b[32m[I 2021-04-30 18:42:51,789]\u001b[0m Trial 206 finished with value: 0.8242957746478874 and parameters: {'colsample_bytree': 0.3196824723406864, 'gamma': 6, 'learning_rate': 0.17639429320543834, 'max_depth': 5, 'min_child_weight': 1, 'reg_alpha': 0.6175548664516761, 'reg_lambda': 0.41411342433470094, 'subsample': 0.8989986173684377}. Best is trial 61 with value: 0.8357589984350549.\u001b[0m\n",
            "\u001b[32m[I 2021-04-30 18:42:52,299]\u001b[0m Trial 207 finished with value: 0.8230633802816902 and parameters: {'colsample_bytree': 0.448149093765166, 'gamma': 5, 'learning_rate': 0.1665971190797795, 'max_depth': 6, 'min_child_weight': 1, 'reg_alpha': 0.7248820540055415, 'reg_lambda': 0.429494559914063, 'subsample': 0.8290882515897691}. Best is trial 61 with value: 0.8357589984350549.\u001b[0m\n",
            "\u001b[32m[I 2021-04-30 18:42:52,813]\u001b[0m Trial 208 finished with value: 0.8244327073552427 and parameters: {'colsample_bytree': 0.38659887311988506, 'gamma': 5, 'learning_rate': 0.18587304171503405, 'max_depth': 6, 'min_child_weight': 1, 'reg_alpha': 0.6749925992790111, 'reg_lambda': 0.46694369284244563, 'subsample': 0.7873672106028906}. Best is trial 61 with value: 0.8357589984350549.\u001b[0m\n",
            "\u001b[32m[I 2021-04-30 18:42:53,237]\u001b[0m Trial 209 finished with value: 0.8285798122065728 and parameters: {'colsample_bytree': 0.35723064589741327, 'gamma': 6, 'learning_rate': 0.19151099480261607, 'max_depth': 5, 'min_child_weight': 1, 'reg_alpha': 0.6929832396669412, 'reg_lambda': 0.4077360664159795, 'subsample': 0.8625226322760071}. Best is trial 61 with value: 0.8357589984350549.\u001b[0m\n",
            "\u001b[32m[I 2021-04-30 18:42:53,707]\u001b[0m Trial 210 finished with value: 0.8257433489827856 and parameters: {'colsample_bytree': 0.34093159809134566, 'gamma': 5, 'learning_rate': 0.2158727575849275, 'max_depth': 6, 'min_child_weight': 1, 'reg_alpha': 0.6504852068121059, 'reg_lambda': 0.45537306575511044, 'subsample': 0.7587801528819564}. Best is trial 61 with value: 0.8357589984350549.\u001b[0m\n",
            "\u001b[32m[I 2021-04-30 18:42:54,153]\u001b[0m Trial 211 finished with value: 0.828638497652582 and parameters: {'colsample_bytree': 0.3382440230742941, 'gamma': 6, 'learning_rate': 0.1936104988770074, 'max_depth': 5, 'min_child_weight': 1, 'reg_alpha': 0.6957266049317519, 'reg_lambda': 0.40455706204897696, 'subsample': 0.8539705763133555}. Best is trial 61 with value: 0.8357589984350549.\u001b[0m\n",
            "\u001b[32m[I 2021-04-30 18:42:54,588]\u001b[0m Trial 212 finished with value: 0.8272300469483568 and parameters: {'colsample_bytree': 0.3292404193982117, 'gamma': 6, 'learning_rate': 0.20086721348738729, 'max_depth': 5, 'min_child_weight': 1, 'reg_alpha': 0.7031473978157152, 'reg_lambda': 0.42278169770718316, 'subsample': 0.837020062654998}. Best is trial 61 with value: 0.8357589984350549.\u001b[0m\n",
            "\u001b[32m[I 2021-04-30 18:42:55,025]\u001b[0m Trial 213 finished with value: 0.8132433489827855 and parameters: {'colsample_bytree': 0.3034560762114382, 'gamma': 6, 'learning_rate': 0.19649080822861745, 'max_depth': 5, 'min_child_weight': 1, 'reg_alpha': 0.6830449845625824, 'reg_lambda': 0.38854444066689625, 'subsample': 0.8117324075124458}. Best is trial 61 with value: 0.8357589984350549.\u001b[0m\n",
            "\u001b[32m[I 2021-04-30 18:42:55,453]\u001b[0m Trial 214 finished with value: 0.8243348982785603 and parameters: {'colsample_bytree': 0.3455852520363867, 'gamma': 5, 'learning_rate': 0.18558702269146593, 'max_depth': 5, 'min_child_weight': 1, 'reg_alpha': 0.6647977705480238, 'reg_lambda': 0.40536767872414725, 'subsample': 0.8733567018465386}. Best is trial 61 with value: 0.8357589984350549.\u001b[0m\n",
            "\u001b[32m[I 2021-04-30 18:42:55,898]\u001b[0m Trial 215 finished with value: 0.8256846635367762 and parameters: {'colsample_bytree': 0.3593125018262898, 'gamma': 6, 'learning_rate': 0.20492181470599724, 'max_depth': 6, 'min_child_weight': 1, 'reg_alpha': 0.7111195335819365, 'reg_lambda': 0.4387898367376047, 'subsample': 0.8936687207173513}. Best is trial 61 with value: 0.8357589984350549.\u001b[0m\n",
            "\u001b[32m[I 2021-04-30 18:42:56,344]\u001b[0m Trial 216 finished with value: 0.8301251956181532 and parameters: {'colsample_bytree': 0.3202896528643956, 'gamma': 5, 'learning_rate': 0.1898987957065901, 'max_depth': 5, 'min_child_weight': 1, 'reg_alpha': 0.6342077064903966, 'reg_lambda': 0.41561970232214057, 'subsample': 0.8375775931503723}. Best is trial 61 with value: 0.8357589984350549.\u001b[0m\n",
            "\u001b[32m[I 2021-04-30 18:42:56,784]\u001b[0m Trial 217 finished with value: 0.8315140845070422 and parameters: {'colsample_bytree': 0.3184503843677722, 'gamma': 5, 'learning_rate': 0.19323413785010762, 'max_depth': 5, 'min_child_weight': 1, 'reg_alpha': 0.630008091072251, 'reg_lambda': 0.41806917953553785, 'subsample': 0.8998336251221959}. Best is trial 61 with value: 0.8357589984350549.\u001b[0m\n",
            "\u001b[32m[I 2021-04-30 18:42:57,223]\u001b[0m Trial 218 finished with value: 0.8313184663536776 and parameters: {'colsample_bytree': 0.3221775971093748, 'gamma': 5, 'learning_rate': 0.1730633084046818, 'max_depth': 5, 'min_child_weight': 1, 'reg_alpha': 0.609892126456373, 'reg_lambda': 0.4151078221160677, 'subsample': 0.8551931226211115}. Best is trial 61 with value: 0.8357589984350549.\u001b[0m\n",
            "\u001b[32m[I 2021-04-30 18:42:57,668]\u001b[0m Trial 219 finished with value: 0.8160406885758998 and parameters: {'colsample_bytree': 0.3181777132453574, 'gamma': 5, 'learning_rate': 0.17041208056945895, 'max_depth': 5, 'min_child_weight': 1, 'reg_alpha': 0.5864704857670042, 'reg_lambda': 0.4164089057793129, 'subsample': 0.7863941467557785}. Best is trial 61 with value: 0.8357589984350549.\u001b[0m\n",
            "\u001b[32m[I 2021-04-30 18:42:58,142]\u001b[0m Trial 220 finished with value: 0.831377151799687 and parameters: {'colsample_bytree': 0.3796273589012328, 'gamma': 5, 'learning_rate': 0.1786379880046518, 'max_depth': 5, 'min_child_weight': 1, 'reg_alpha': 0.60721070690867, 'reg_lambda': 0.4268741857215934, 'subsample': 0.8997853109579733}. Best is trial 61 with value: 0.8357589984350549.\u001b[0m\n",
            "\u001b[32m[I 2021-04-30 18:42:58,623]\u001b[0m Trial 221 finished with value: 0.825762910798122 and parameters: {'colsample_bytree': 0.3764375184437872, 'gamma': 5, 'learning_rate': 0.17699688956996223, 'max_depth': 5, 'min_child_weight': 1, 'reg_alpha': 0.6189622266757341, 'reg_lambda': 0.42274755587361135, 'subsample': 0.8986371411935286}. Best is trial 61 with value: 0.8357589984350549.\u001b[0m\n",
            "\u001b[32m[I 2021-04-30 18:42:59,108]\u001b[0m Trial 222 finished with value: 0.8258802816901408 and parameters: {'colsample_bytree': 0.39953972076406225, 'gamma': 5, 'learning_rate': 0.180004554480119, 'max_depth': 5, 'min_child_weight': 1, 'reg_alpha': 0.6043720660191628, 'reg_lambda': 0.4129169559471551, 'subsample': 0.8454991794720084}. Best is trial 61 with value: 0.8357589984350549.\u001b[0m\n",
            "\u001b[32m[I 2021-04-30 18:42:59,530]\u001b[0m Trial 223 finished with value: 0.8244327073552424 and parameters: {'colsample_bytree': 0.34199293263010305, 'gamma': 5, 'learning_rate': 0.18259514178463557, 'max_depth': 5, 'min_child_weight': 5, 'reg_alpha': 0.5660087520520868, 'reg_lambda': 0.43339003263469045, 'subsample': 0.8653984325967199}. Best is trial 61 with value: 0.8357589984350549.\u001b[0m\n",
            "\u001b[32m[I 2021-04-30 18:43:00,016]\u001b[0m Trial 224 finished with value: 0.8173708920187794 and parameters: {'colsample_bytree': 0.365827632892733, 'gamma': 5, 'learning_rate': 0.1716399717097367, 'max_depth': 5, 'min_child_weight': 1, 'reg_alpha': 0.6048384672874845, 'reg_lambda': 0.4199073733936419, 'subsample': 0.810752019872292}. Best is trial 61 with value: 0.8357589984350549.\u001b[0m\n",
            "\u001b[32m[I 2021-04-30 18:43:00,464]\u001b[0m Trial 225 finished with value: 0.8328638497652582 and parameters: {'colsample_bytree': 0.3212972969146604, 'gamma': 5, 'learning_rate': 0.18734869674872345, 'max_depth': 5, 'min_child_weight': 1, 'reg_alpha': 0.6330880567825236, 'reg_lambda': 0.39954171997633575, 'subsample': 0.8970613877577615}. Best is trial 61 with value: 0.8357589984350549.\u001b[0m\n",
            "\u001b[32m[I 2021-04-30 18:43:00,932]\u001b[0m Trial 226 finished with value: 0.825802034428795 and parameters: {'colsample_bytree': 0.4188500503766733, 'gamma': 3, 'learning_rate': 0.18962771248538945, 'max_depth': 5, 'min_child_weight': 1, 'reg_alpha': 0.6260872403395746, 'reg_lambda': 0.3974439469930841, 'subsample': 0.8986689025180266}. Best is trial 61 with value: 0.8357589984350549.\u001b[0m\n",
            "\u001b[32m[I 2021-04-30 18:43:01,367]\u001b[0m Trial 227 finished with value: 0.8272104851330203 and parameters: {'colsample_bytree': 0.34484474500605256, 'gamma': 5, 'learning_rate': 0.1746749905131362, 'max_depth': 5, 'min_child_weight': 1, 'reg_alpha': 0.6354210969187322, 'reg_lambda': 0.4087872679584095, 'subsample': 0.8460622015427687}. Best is trial 61 with value: 0.8357589984350549.\u001b[0m\n",
            "\u001b[32m[I 2021-04-30 18:43:01,801]\u001b[0m Trial 228 finished with value: 0.8258607198748044 and parameters: {'colsample_bytree': 0.3207676995521459, 'gamma': 4, 'learning_rate': 0.1639866237891323, 'max_depth': 5, 'min_child_weight': 1, 'reg_alpha': 0.5892320079129937, 'reg_lambda': 0.42941387354709054, 'subsample': 0.8994012609133872}. Best is trial 61 with value: 0.8357589984350549.\u001b[0m\n",
            "\u001b[32m[I 2021-04-30 18:43:02,283]\u001b[0m Trial 229 finished with value: 0.824491392801252 and parameters: {'colsample_bytree': 0.3818772674476801, 'gamma': 5, 'learning_rate': 0.19051283160413215, 'max_depth': 5, 'min_child_weight': 1, 'reg_alpha': 0.6148509343669355, 'reg_lambda': 0.39310493457987106, 'subsample': 0.8266012683419504}. Best is trial 61 with value: 0.8357589984350549.\u001b[0m\n",
            "\u001b[32m[I 2021-04-30 18:43:02,721]\u001b[0m Trial 230 finished with value: 0.8272300469483568 and parameters: {'colsample_bytree': 0.3558198560918416, 'gamma': 5, 'learning_rate': 0.1835998188812948, 'max_depth': 5, 'min_child_weight': 1, 'reg_alpha': 0.6342925050430773, 'reg_lambda': 0.41453213831662694, 'subsample': 0.8607124600538951}. Best is trial 61 with value: 0.8357589984350549.\u001b[0m\n",
            "\u001b[32m[I 2021-04-30 18:43:03,162]\u001b[0m Trial 231 finished with value: 0.828501564945227 and parameters: {'colsample_bytree': 0.33001819680657274, 'gamma': 5, 'learning_rate': 0.19267464100357629, 'max_depth': 5, 'min_child_weight': 1, 'reg_alpha': 0.6124506472753628, 'reg_lambda': 0.3850364677724457, 'subsample': 0.8653927792411475}. Best is trial 61 with value: 0.8357589984350549.\u001b[0m\n",
            "\u001b[32m[I 2021-04-30 18:43:03,611]\u001b[0m Trial 232 finished with value: 0.8246087636932706 and parameters: {'colsample_bytree': 0.31196036159978907, 'gamma': 5, 'learning_rate': 0.17958711778720549, 'max_depth': 5, 'min_child_weight': 1, 'reg_alpha': 0.6276677094527265, 'reg_lambda': 0.4201917423461202, 'subsample': 0.8045044287544306}. Best is trial 61 with value: 0.8357589984350549.\u001b[0m\n",
            "\u001b[32m[I 2021-04-30 18:43:04,046]\u001b[0m Trial 233 finished with value: 0.83141627543036 and parameters: {'colsample_bytree': 0.33711877172827764, 'gamma': 5, 'learning_rate': 0.4274980670691576, 'max_depth': 5, 'min_child_weight': 1, 'reg_alpha': 0.6439719137628173, 'reg_lambda': 0.40378987108996994, 'subsample': 0.8946497865421492}. Best is trial 61 with value: 0.8357589984350549.\u001b[0m\n",
            "\u001b[32m[I 2021-04-30 18:43:04,498]\u001b[0m Trial 234 finished with value: 0.8273278560250391 and parameters: {'colsample_bytree': 0.3394658961311259, 'gamma': 5, 'learning_rate': 0.5061497584690655, 'max_depth': 5, 'min_child_weight': 1, 'reg_alpha': 0.6418942375909563, 'reg_lambda': 0.4013048332348064, 'subsample': 0.8395030360546453}. Best is trial 61 with value: 0.8357589984350549.\u001b[0m\n",
            "\u001b[32m[I 2021-04-30 18:43:04,948]\u001b[0m Trial 235 finished with value: 0.8259585289514868 and parameters: {'colsample_bytree': 0.31426832977269054, 'gamma': 5, 'learning_rate': 0.19507029457630165, 'max_depth': 5, 'min_child_weight': 1, 'reg_alpha': 0.6422680520802441, 'reg_lambda': 0.40781626552829264, 'subsample': 0.899035189086763}. Best is trial 61 with value: 0.8357589984350549.\u001b[0m\n",
            "\u001b[32m[I 2021-04-30 18:43:05,423]\u001b[0m Trial 236 finished with value: 0.8229655712050079 and parameters: {'colsample_bytree': 0.3668476115893416, 'gamma': 5, 'learning_rate': 0.1678859934785898, 'max_depth': 5, 'min_child_weight': 1, 'reg_alpha': 0.6043064868646734, 'reg_lambda': 0.42883860833036574, 'subsample': 0.8981882162677812}. Best is trial 61 with value: 0.8357589984350549.\u001b[0m\n",
            "\u001b[32m[I 2021-04-30 18:43:05,859]\u001b[0m Trial 237 finished with value: 0.8328442879499217 and parameters: {'colsample_bytree': 0.3228211218482681, 'gamma': 4, 'learning_rate': 0.18294046494353167, 'max_depth': 5, 'min_child_weight': 1, 'reg_alpha': 0.623225383179054, 'reg_lambda': 0.3989915996179883, 'subsample': 0.8990119880586308}. Best is trial 61 with value: 0.8357589984350549.\u001b[0m\n",
            "\u001b[32m[I 2021-04-30 18:43:06,305]\u001b[0m Trial 238 finished with value: 0.8300469483568074 and parameters: {'colsample_bytree': 0.34837409216829396, 'gamma': 4, 'learning_rate': 0.17410068211852442, 'max_depth': 5, 'min_child_weight': 1, 'reg_alpha': 0.6247616836225887, 'reg_lambda': 0.39348993054628606, 'subsample': 0.8984388143529632}. Best is trial 61 with value: 0.8357589984350549.\u001b[0m\n",
            "\u001b[32m[I 2021-04-30 18:43:06,737]\u001b[0m Trial 239 finished with value: 0.8229851330203444 and parameters: {'colsample_bytree': 0.35284677416747184, 'gamma': 4, 'learning_rate': 0.4263332890410029, 'max_depth': 5, 'min_child_weight': 1, 'reg_alpha': 0.6214678345689524, 'reg_lambda': 0.3836432594377967, 'subsample': 0.869512678495099}. Best is trial 61 with value: 0.8357589984350549.\u001b[0m\n",
            "\u001b[32m[I 2021-04-30 18:43:07,215]\u001b[0m Trial 240 finished with value: 0.8259389671361502 and parameters: {'colsample_bytree': 0.3824988778790299, 'gamma': 4, 'learning_rate': 0.1737077753136259, 'max_depth': 5, 'min_child_weight': 1, 'reg_alpha': 0.5871547962016741, 'reg_lambda': 0.3933026374134155, 'subsample': 0.8964149554325692}. Best is trial 61 with value: 0.8357589984350549.\u001b[0m\n",
            "\u001b[32m[I 2021-04-30 18:43:07,651]\u001b[0m Trial 241 finished with value: 0.8230046948356808 and parameters: {'colsample_bytree': 0.33144108782905374, 'gamma': 4, 'learning_rate': 0.18095839632549165, 'max_depth': 5, 'min_child_weight': 1, 'reg_alpha': 0.6352266701046568, 'reg_lambda': 0.3750740075477666, 'subsample': 0.8362308139285067}. Best is trial 61 with value: 0.8357589984350549.\u001b[0m\n",
            "\u001b[32m[I 2021-04-30 18:43:08,089]\u001b[0m Trial 242 finished with value: 0.832942097026604 and parameters: {'colsample_bytree': 0.34077261315066576, 'gamma': 4, 'learning_rate': 0.18691027056473766, 'max_depth': 5, 'min_child_weight': 1, 'reg_alpha': 0.647886757480609, 'reg_lambda': 0.402582599456441, 'subsample': 0.8956970177027946}. Best is trial 61 with value: 0.8357589984350549.\u001b[0m\n",
            "\u001b[32m[I 2021-04-30 18:43:08,523]\u001b[0m Trial 243 finished with value: 0.8245109546165883 and parameters: {'colsample_bytree': 0.3213843301097459, 'gamma': 4, 'learning_rate': 0.18494420586863936, 'max_depth': 5, 'min_child_weight': 1, 'reg_alpha': 0.6472479944116543, 'reg_lambda': 0.39893767419397436, 'subsample': 0.8998025496233835}. Best is trial 61 with value: 0.8357589984350549.\u001b[0m\n",
            "\u001b[32m[I 2021-04-30 18:43:08,955]\u001b[0m Trial 244 finished with value: 0.8258411580594679 and parameters: {'colsample_bytree': 0.35205338083402754, 'gamma': 4, 'learning_rate': 0.17418084339465106, 'max_depth': 5, 'min_child_weight': 1, 'reg_alpha': 0.6147667969522027, 'reg_lambda': 0.40565146388956497, 'subsample': 0.8626757839632988}. Best is trial 61 with value: 0.8357589984350549.\u001b[0m\n",
            "\u001b[32m[I 2021-04-30 18:43:09,394]\u001b[0m Trial 245 finished with value: 0.8270539906103286 and parameters: {'colsample_bytree': 0.33674802624997374, 'gamma': 4, 'learning_rate': 0.37544595672561165, 'max_depth': 5, 'min_child_weight': 1, 'reg_alpha': 0.666825660231492, 'reg_lambda': 0.4147109782570098, 'subsample': 0.7938736515788312}. Best is trial 61 with value: 0.8357589984350549.\u001b[0m\n",
            "\u001b[32m[I 2021-04-30 18:43:09,864]\u001b[0m Trial 246 finished with value: 0.8187793427230048 and parameters: {'colsample_bytree': 0.40425410134238055, 'gamma': 4, 'learning_rate': 0.18734342876322257, 'max_depth': 5, 'min_child_weight': 1, 'reg_alpha': 0.5999994153043722, 'reg_lambda': 0.40006647763254355, 'subsample': 0.8658281619321105}. Best is trial 61 with value: 0.8357589984350549.\u001b[0m\n",
            "\u001b[32m[I 2021-04-30 18:43:10,310]\u001b[0m Trial 247 finished with value: 0.8272300469483568 and parameters: {'colsample_bytree': 0.30842300479466833, 'gamma': 4, 'learning_rate': 0.4540593774748577, 'max_depth': 5, 'min_child_weight': 1, 'reg_alpha': 0.628990747651472, 'reg_lambda': 0.391189436154287, 'subsample': 0.8667925082561019}. Best is trial 61 with value: 0.8357589984350549.\u001b[0m\n",
            "\u001b[32m[I 2021-04-30 18:43:10,811]\u001b[0m Trial 248 finished with value: 0.8188575899843504 and parameters: {'colsample_bytree': 0.3655820723136765, 'gamma': 4, 'learning_rate': 0.1600640960181716, 'max_depth': 5, 'min_child_weight': 1, 'reg_alpha': 0.646853440847736, 'reg_lambda': 0.43774499391081745, 'subsample': 0.816535594122892}. Best is trial 61 with value: 0.8357589984350549.\u001b[0m\n",
            "\u001b[32m[I 2021-04-30 18:43:11,240]\u001b[0m Trial 249 finished with value: 0.8161189358372457 and parameters: {'colsample_bytree': 0.32424158801022285, 'gamma': 3, 'learning_rate': 0.17672567853658458, 'max_depth': 5, 'min_child_weight': 1, 'reg_alpha': 0.6278033883898615, 'reg_lambda': 0.425069279436924, 'subsample': 0.8995646404236979}. Best is trial 61 with value: 0.8357589984350549.\u001b[0m\n",
            "\u001b[32m[I 2021-04-30 18:43:11,673]\u001b[0m Trial 250 finished with value: 0.8215766823161189 and parameters: {'colsample_bytree': 0.3513530194190822, 'gamma': 1, 'learning_rate': 0.18349140637442832, 'max_depth': 5, 'min_child_weight': 1, 'reg_alpha': 0.6115866481264695, 'reg_lambda': 0.4104916711905485, 'subsample': 0.8708870699973853}. Best is trial 61 with value: 0.8357589984350549.\u001b[0m\n",
            "\u001b[32m[I 2021-04-30 18:43:12,106]\u001b[0m Trial 251 finished with value: 0.8216158059467918 and parameters: {'colsample_bytree': 0.3089129217751286, 'gamma': 4, 'learning_rate': 0.16657426067628647, 'max_depth': 5, 'min_child_weight': 1, 'reg_alpha': 0.6223339685466582, 'reg_lambda': 0.40284358273287135, 'subsample': 0.7701341572901779}. Best is trial 61 with value: 0.8357589984350549.\u001b[0m\n",
            "\u001b[32m[I 2021-04-30 18:43:12,544]\u001b[0m Trial 252 finished with value: 0.8172926447574336 and parameters: {'colsample_bytree': 0.32544366580193235, 'gamma': 5, 'learning_rate': 0.19940829462522497, 'max_depth': 5, 'min_child_weight': 1, 'reg_alpha': 0.6481386405295253, 'reg_lambda': 0.4201568553939886, 'subsample': 0.8395653556276964}. Best is trial 61 with value: 0.8357589984350549.\u001b[0m\n",
            "\u001b[32m[I 2021-04-30 18:43:12,970]\u001b[0m Trial 253 finished with value: 0.8300860719874805 and parameters: {'colsample_bytree': 0.34080430463363703, 'gamma': 5, 'learning_rate': 0.19111197594036622, 'max_depth': 5, 'min_child_weight': 1, 'reg_alpha': 0.6744180162869633, 'reg_lambda': 0.41152289261854913, 'subsample': 0.8925104076740042}. Best is trial 61 with value: 0.8357589984350549.\u001b[0m\n",
            "\u001b[32m[I 2021-04-30 18:43:13,441]\u001b[0m Trial 254 finished with value: 0.8118935837245698 and parameters: {'colsample_bytree': 0.37067046119951985, 'gamma': 5, 'learning_rate': 0.17774869857750136, 'max_depth': 5, 'min_child_weight': 1, 'reg_alpha': 0.6727465272596178, 'reg_lambda': 0.4151948506359315, 'subsample': 0.8986747760081308}. Best is trial 61 with value: 0.8357589984350549.\u001b[0m\n",
            "\u001b[32m[I 2021-04-30 18:43:13,878]\u001b[0m Trial 255 finished with value: 0.8272691705790297 and parameters: {'colsample_bytree': 0.34287600189686757, 'gamma': 3, 'learning_rate': 0.1701002913619961, 'max_depth': 5, 'min_child_weight': 1, 'reg_alpha': 0.6890194341615449, 'reg_lambda': 0.384164577444961, 'subsample': 0.7997980273680456}. Best is trial 61 with value: 0.8357589984350549.\u001b[0m\n",
            "\u001b[32m[I 2021-04-30 18:43:14,321]\u001b[0m Trial 256 finished with value: 0.8202073552425665 and parameters: {'colsample_bytree': 0.3333327686740783, 'gamma': 4, 'learning_rate': 0.19166476128198998, 'max_depth': 5, 'min_child_weight': 1, 'reg_alpha': 0.6695201475022728, 'reg_lambda': 0.3944660866817052, 'subsample': 0.8993666840245513}. Best is trial 61 with value: 0.8357589984350549.\u001b[0m\n",
            "\u001b[32m[I 2021-04-30 18:43:14,814]\u001b[0m Trial 257 finished with value: 0.814651799687011 and parameters: {'colsample_bytree': 0.39298638855379775, 'gamma': 4, 'learning_rate': 0.39894364343170097, 'max_depth': 5, 'min_child_weight': 1, 'reg_alpha': 0.5739707435442284, 'reg_lambda': 0.42865240583186315, 'subsample': 0.8374849593900139}. Best is trial 61 with value: 0.8357589984350549.\u001b[0m\n",
            "\u001b[32m[I 2021-04-30 18:43:15,273]\u001b[0m Trial 258 finished with value: 0.8231220657276996 and parameters: {'colsample_bytree': 0.304568760274852, 'gamma': 5, 'learning_rate': 0.18143037917393437, 'max_depth': 5, 'min_child_weight': 1, 'reg_alpha': 0.63938970561283, 'reg_lambda': 0.4036103263159506, 'subsample': 0.7508220565681148}. Best is trial 61 with value: 0.8357589984350549.\u001b[0m\n",
            "\u001b[32m[I 2021-04-30 18:43:15,704]\u001b[0m Trial 259 finished with value: 0.8301447574334899 and parameters: {'colsample_bytree': 0.357933286912349, 'gamma': 3, 'learning_rate': 0.18709468978583288, 'max_depth': 5, 'min_child_weight': 1, 'reg_alpha': 0.6612501837175337, 'reg_lambda': 0.44685801852998225, 'subsample': 0.8146073960034173}. Best is trial 61 with value: 0.8357589984350549.\u001b[0m\n",
            "\u001b[32m[I 2021-04-30 18:43:16,192]\u001b[0m Trial 260 finished with value: 0.8230829420970267 and parameters: {'colsample_bytree': 0.3772242561381069, 'gamma': 3, 'learning_rate': 0.186620104100915, 'max_depth': 5, 'min_child_weight': 1, 'reg_alpha': 0.6838117283021423, 'reg_lambda': 0.4425482506186112, 'subsample': 0.7931484841812797}. Best is trial 61 with value: 0.8357589984350549.\u001b[0m\n",
            "\u001b[32m[I 2021-04-30 18:43:16,638]\u001b[0m Trial 261 finished with value: 0.8301838810641626 and parameters: {'colsample_bytree': 0.3545386133550654, 'gamma': 3, 'learning_rate': 0.1910900278922953, 'max_depth': 5, 'min_child_weight': 1, 'reg_alpha': 0.6623513412967016, 'reg_lambda': 0.44888458347088517, 'subsample': 0.841918017870672}. Best is trial 61 with value: 0.8357589984350549.\u001b[0m\n",
            "\u001b[32m[I 2021-04-30 18:43:17,078]\u001b[0m Trial 262 finished with value: 0.8202073552425665 and parameters: {'colsample_bytree': 0.3576804262322701, 'gamma': 3, 'learning_rate': 0.174781274058468, 'max_depth': 5, 'min_child_weight': 1, 'reg_alpha': 0.6642153660546549, 'reg_lambda': 0.44866785497965617, 'subsample': 0.8152108366571156}. Best is trial 61 with value: 0.8357589984350549.\u001b[0m\n",
            "\u001b[32m[I 2021-04-30 18:43:17,561]\u001b[0m Trial 263 finished with value: 0.8273082942097026 and parameters: {'colsample_bytree': 0.42717293821953606, 'gamma': 3, 'learning_rate': 0.15361375257872473, 'max_depth': 5, 'min_child_weight': 1, 'reg_alpha': 0.654691277072657, 'reg_lambda': 0.4591842445992383, 'subsample': 0.7643474217384326}. Best is trial 61 with value: 0.8357589984350549.\u001b[0m\n",
            "\u001b[32m[I 2021-04-30 18:43:18,013]\u001b[0m Trial 264 finished with value: 0.8201486697965571 and parameters: {'colsample_bytree': 0.36262332807584274, 'gamma': 2, 'learning_rate': 0.18265602045615972, 'max_depth': 5, 'min_child_weight': 1, 'reg_alpha': 0.6388056851504862, 'reg_lambda': 0.438650084523719, 'subsample': 0.8350758078483824}. Best is trial 61 with value: 0.8357589984350549.\u001b[0m\n",
            "\u001b[32m[I 2021-04-30 18:43:18,484]\u001b[0m Trial 265 finished with value: 0.8089593114241002 and parameters: {'colsample_bytree': 0.40152981136190896, 'gamma': 3, 'learning_rate': 0.5679750036398584, 'max_depth': 5, 'min_child_weight': 1, 'reg_alpha': 0.6742208661397989, 'reg_lambda': 0.43819684242595863, 'subsample': 0.8665666942106974}. Best is trial 61 with value: 0.8357589984350549.\u001b[0m\n",
            "\u001b[32m[I 2021-04-30 18:43:18,914]\u001b[0m Trial 266 finished with value: 0.8033841940532082 and parameters: {'colsample_bytree': 0.3788599368470021, 'gamma': 3, 'learning_rate': 0.18784376758402152, 'max_depth': 5, 'min_child_weight': 8, 'reg_alpha': 0.6317141428514876, 'reg_lambda': 0.4264088902046653, 'subsample': 0.8988788547901845}. Best is trial 61 with value: 0.8357589984350549.\u001b[0m\n",
            "\u001b[32m[I 2021-04-30 18:43:19,324]\u001b[0m Trial 267 finished with value: 0.8231025039123632 and parameters: {'colsample_bytree': 0.3493583374845683, 'gamma': 3, 'learning_rate': 0.17841593717652146, 'max_depth': 5, 'min_child_weight': 5, 'reg_alpha': 0.6519157365073944, 'reg_lambda': 0.4337850471866478, 'subsample': 0.7905262350979404}. Best is trial 61 with value: 0.8357589984350549.\u001b[0m\n",
            "\u001b[32m[I 2021-04-30 18:43:19,773]\u001b[0m Trial 268 finished with value: 0.8188184663536777 and parameters: {'colsample_bytree': 0.2852141186867894, 'gamma': 3, 'learning_rate': 0.16974106047551762, 'max_depth': 5, 'min_child_weight': 1, 'reg_alpha': 0.5971323038394206, 'reg_lambda': 0.45253182885055915, 'subsample': 0.741619152023561}. Best is trial 61 with value: 0.8357589984350549.\u001b[0m\n",
            "\u001b[32m[I 2021-04-30 18:43:20,205]\u001b[0m Trial 269 finished with value: 0.8341549295774648 and parameters: {'colsample_bytree': 0.36303174688440215, 'gamma': 2, 'learning_rate': 0.192190280608512, 'max_depth': 5, 'min_child_weight': 1, 'reg_alpha': 0.6607319970391395, 'reg_lambda': 0.5869522046534424, 'subsample': 0.8298897986002246}. Best is trial 61 with value: 0.8357589984350549.\u001b[0m\n",
            "\u001b[32m[I 2021-04-30 18:43:20,682]\u001b[0m Trial 270 finished with value: 0.8175469483568076 and parameters: {'colsample_bytree': 0.39340389606626996, 'gamma': 9, 'learning_rate': 0.19672724883490827, 'max_depth': 5, 'min_child_weight': 1, 'reg_alpha': 0.6691863288250676, 'reg_lambda': 0.5697898157885178, 'subsample': 0.8104492761104125}. Best is trial 61 with value: 0.8357589984350549.\u001b[0m\n",
            "\u001b[32m[I 2021-04-30 18:43:21,163]\u001b[0m Trial 271 finished with value: 0.8118740219092331 and parameters: {'colsample_bytree': 0.3767405762797816, 'gamma': 2, 'learning_rate': 0.19172338646099674, 'max_depth': 5, 'min_child_weight': 1, 'reg_alpha': 0.683238450184502, 'reg_lambda': 0.5861236394239252, 'subsample': 0.7154032250737911}. Best is trial 61 with value: 0.8357589984350549.\u001b[0m\n",
            "\u001b[32m[I 2021-04-30 18:43:21,606]\u001b[0m Trial 272 finished with value: 0.8272300469483568 and parameters: {'colsample_bytree': 0.3602026265732412, 'gamma': 2, 'learning_rate': 0.18214699403945742, 'max_depth': 5, 'min_child_weight': 1, 'reg_alpha': 0.6572861575205116, 'reg_lambda': 0.583883975714774, 'subsample': 0.8391318606491087}. Best is trial 61 with value: 0.8357589984350549.\u001b[0m\n",
            "\u001b[32m[I 2021-04-30 18:43:22,102]\u001b[0m Trial 273 finished with value: 0.8272887323943662 and parameters: {'colsample_bytree': 0.4178050686571877, 'gamma': 1, 'learning_rate': 0.20212350180455999, 'max_depth': 5, 'min_child_weight': 1, 'reg_alpha': 0.6152779988014367, 'reg_lambda': 0.448160770342895, 'subsample': 0.7682934028504491}. Best is trial 61 with value: 0.8357589984350549.\u001b[0m\n",
            "\u001b[32m[I 2021-04-30 18:43:22,544]\u001b[0m Trial 274 finished with value: 0.8301838810641629 and parameters: {'colsample_bytree': 0.31499922066336355, 'gamma': 2, 'learning_rate': 0.16265362412377776, 'max_depth': 5, 'min_child_weight': 1, 'reg_alpha': 0.6288428274676523, 'reg_lambda': 0.5981960640469294, 'subsample': 0.8301681689223156}. Best is trial 61 with value: 0.8357589984350549.\u001b[0m\n",
            "\u001b[32m[I 2021-04-30 18:43:22,952]\u001b[0m Trial 275 finished with value: 0.8312989045383411 and parameters: {'colsample_bytree': 0.30096643362238573, 'gamma': 2, 'learning_rate': 0.17321214155004752, 'max_depth': 4, 'min_child_weight': 1, 'reg_alpha': 0.6282978516239138, 'reg_lambda': 0.5429767720158435, 'subsample': 0.8003834657880885}. Best is trial 61 with value: 0.8357589984350549.\u001b[0m\n",
            "\u001b[32m[I 2021-04-30 18:43:23,343]\u001b[0m Trial 276 finished with value: 0.806161971830986 and parameters: {'colsample_bytree': 0.296440156842776, 'gamma': 2, 'learning_rate': 0.1630526915736249, 'max_depth': 4, 'min_child_weight': 9, 'reg_alpha': 0.6069975997295821, 'reg_lambda': 0.5456856667816848, 'subsample': 0.7919130855447047}. Best is trial 61 with value: 0.8357589984350549.\u001b[0m\n",
            "\u001b[32m[I 2021-04-30 18:43:23,751]\u001b[0m Trial 277 finished with value: 0.8229851330203444 and parameters: {'colsample_bytree': 0.3088513263748583, 'gamma': 2, 'learning_rate': 0.15982070971459922, 'max_depth': 5, 'min_child_weight': 7, 'reg_alpha': 0.6275913546114205, 'reg_lambda': 0.6243317844532834, 'subsample': 0.7317613588471149}. Best is trial 61 with value: 0.8357589984350549.\u001b[0m\n",
            "\u001b[32m[I 2021-04-30 18:43:24,172]\u001b[0m Trial 278 finished with value: 0.8216158059467918 and parameters: {'colsample_bytree': 0.2858143756655081, 'gamma': 1, 'learning_rate': 0.16597307967216504, 'max_depth': 4, 'min_child_weight': 1, 'reg_alpha': 0.6336637789456488, 'reg_lambda': 0.6017668270094854, 'subsample': 0.7639294805039435}. Best is trial 61 with value: 0.8357589984350549.\u001b[0m\n",
            "\u001b[32m[I 2021-04-30 18:43:24,574]\u001b[0m Trial 279 finished with value: 0.8201291079812207 and parameters: {'colsample_bytree': 0.322711949298082, 'gamma': 2, 'learning_rate': 0.15552200167427582, 'max_depth': 5, 'min_child_weight': 1, 'reg_alpha': 0.5904841354274047, 'reg_lambda': 0.6025766195288121, 'subsample': 0.3347961012702896}. Best is trial 61 with value: 0.8357589984350549.\u001b[0m\n",
            "\u001b[32m[I 2021-04-30 18:43:24,987]\u001b[0m Trial 280 finished with value: 0.8202073552425665 and parameters: {'colsample_bytree': 0.3069254268664394, 'gamma': 2, 'learning_rate': 0.17083385984401836, 'max_depth': 4, 'min_child_weight': 1, 'reg_alpha': 0.6174335183241653, 'reg_lambda': 0.562330640187408, 'subsample': 0.8135377926558757}. Best is trial 61 with value: 0.8357589984350549.\u001b[0m\n",
            "\u001b[32m[I 2021-04-30 18:43:25,464]\u001b[0m Trial 281 finished with value: 0.8229851330203444 and parameters: {'colsample_bytree': 0.3670062039258526, 'gamma': 1, 'learning_rate': 0.17442412679514216, 'max_depth': 5, 'min_child_weight': 1, 'reg_alpha': 0.639984195680501, 'reg_lambda': 0.568714330104283, 'subsample': 0.8312774474585553}. Best is trial 61 with value: 0.8357589984350549.\u001b[0m\n",
            "\u001b[32m[I 2021-04-30 18:43:25,860]\u001b[0m Trial 282 finished with value: 0.8202269170579031 and parameters: {'colsample_bytree': 0.39126972774924124, 'gamma': 2, 'learning_rate': 0.17790154885022885, 'max_depth': 5, 'min_child_weight': 1, 'reg_alpha': 0.6102512053643481, 'reg_lambda': 0.5934699032344379, 'subsample': 0.1693652914421813}. Best is trial 61 with value: 0.8357589984350549.\u001b[0m\n",
            "\u001b[32m[I 2021-04-30 18:43:26,298]\u001b[0m Trial 283 finished with value: 0.8188184663536775 and parameters: {'colsample_bytree': 0.3339943228859436, 'gamma': 3, 'learning_rate': 0.16601128470119106, 'max_depth': 5, 'min_child_weight': 1, 'reg_alpha': 0.6248245165353244, 'reg_lambda': 0.5959847159023424, 'subsample': 0.7867382453752346}. Best is trial 61 with value: 0.8357589984350549.\u001b[0m\n",
            "\u001b[32m[I 2021-04-30 18:43:26,678]\u001b[0m Trial 284 finished with value: 0.8229655712050079 and parameters: {'colsample_bytree': 0.29623194671520553, 'gamma': 3, 'learning_rate': 0.17261010791217768, 'max_depth': 3, 'min_child_weight': 1, 'reg_alpha': 0.5968764682719994, 'reg_lambda': 0.6167429957755322, 'subsample': 0.6897617636555613}. Best is trial 61 with value: 0.8357589984350549.\u001b[0m\n",
            "\u001b[32m[I 2021-04-30 18:43:27,082]\u001b[0m Trial 285 finished with value: 0.8160015649452269 and parameters: {'colsample_bytree': 0.3437402775033805, 'gamma': 2, 'learning_rate': 0.18451537356953712, 'max_depth': 5, 'min_child_weight': 1, 'reg_alpha': 0.6578613476753107, 'reg_lambda': 0.6473077305550125, 'subsample': 0.25262483211370484}. Best is trial 61 with value: 0.8357589984350549.\u001b[0m\n",
            "\u001b[32m[I 2021-04-30 18:43:27,542]\u001b[0m Trial 286 finished with value: 0.8216549295774648 and parameters: {'colsample_bytree': 0.46423031973128515, 'gamma': 3, 'learning_rate': 0.14583942636982064, 'max_depth': 4, 'min_child_weight': 1, 'reg_alpha': 0.6420945342306251, 'reg_lambda': 0.47038318246177696, 'subsample': 0.8646647713303468}. Best is trial 61 with value: 0.8357589984350549.\u001b[0m\n",
            "\u001b[32m[I 2021-04-30 18:43:27,972]\u001b[0m Trial 287 finished with value: 0.8204029733959312 and parameters: {'colsample_bytree': 0.3161647796162359, 'gamma': 1, 'learning_rate': 0.17943589616649747, 'max_depth': 5, 'min_child_weight': 1, 'reg_alpha': 0.626493086566878, 'reg_lambda': 0.5510223854974402, 'subsample': 0.8223980117011723}. Best is trial 61 with value: 0.8357589984350549.\u001b[0m\n",
            "\u001b[32m[I 2021-04-30 18:43:28,410]\u001b[0m Trial 288 finished with value: 0.8242957746478874 and parameters: {'colsample_bytree': 0.3569059242492972, 'gamma': 3, 'learning_rate': 0.16114172434557353, 'max_depth': 5, 'min_child_weight': 1, 'reg_alpha': 0.6686938810964398, 'reg_lambda': 0.5752073556550408, 'subsample': 0.8621986374335479}. Best is trial 61 with value: 0.8357589984350549.\u001b[0m\n",
            "\u001b[32m[I 2021-04-30 18:43:28,846]\u001b[0m Trial 289 finished with value: 0.8301447574334897 and parameters: {'colsample_bytree': 0.3299836727072154, 'gamma': 3, 'learning_rate': 0.18971840647602814, 'max_depth': 5, 'min_child_weight': 1, 'reg_alpha': 0.6549470520820121, 'reg_lambda': 0.5337364492400919, 'subsample': 0.7534562632796152}. Best is trial 61 with value: 0.8357589984350549.\u001b[0m\n",
            "\u001b[32m[I 2021-04-30 18:43:29,262]\u001b[0m Trial 290 finished with value: 0.8160406885758998 and parameters: {'colsample_bytree': 0.33000708226784703, 'gamma': 3, 'learning_rate': 0.18617965261607342, 'max_depth': 5, 'min_child_weight': 6, 'reg_alpha': 0.6519973877259805, 'reg_lambda': 0.5380884754632169, 'subsample': 0.7349070515315648}. Best is trial 61 with value: 0.8357589984350549.\u001b[0m\n",
            "\u001b[32m[I 2021-04-30 18:43:29,755]\u001b[0m Trial 291 finished with value: 0.8146713615023474 and parameters: {'colsample_bytree': 0.37261638700795785, 'gamma': 3, 'learning_rate': 0.1746580578620908, 'max_depth': 5, 'min_child_weight': 1, 'reg_alpha': 0.6338448444542413, 'reg_lambda': 0.5165386573474712, 'subsample': 0.7509334134275549}. Best is trial 61 with value: 0.8357589984350549.\u001b[0m\n",
            "\u001b[32m[I 2021-04-30 18:43:30,190]\u001b[0m Trial 292 finished with value: 0.8272887323943662 and parameters: {'colsample_bytree': 0.3466538292037516, 'gamma': 2, 'learning_rate': 0.19264570147696836, 'max_depth': 5, 'min_child_weight': 1, 'reg_alpha': 0.6089634409374439, 'reg_lambda': 0.5401187356375473, 'subsample': 0.7827221069834347}. Best is trial 61 with value: 0.8357589984350549.\u001b[0m\n",
            "\u001b[32m[I 2021-04-30 18:43:30,621]\u001b[0m Trial 293 finished with value: 0.8172926447574336 and parameters: {'colsample_bytree': 0.40598255738548117, 'gamma': 3, 'learning_rate': 0.47245717710312707, 'max_depth': 5, 'min_child_weight': 5, 'reg_alpha': 0.5500280651387037, 'reg_lambda': 0.5834318804622033, 'subsample': 0.7173599655560998}. Best is trial 61 with value: 0.8357589984350549.\u001b[0m\n",
            "\u001b[32m[I 2021-04-30 18:43:31,094]\u001b[0m Trial 294 finished with value: 0.8146713615023474 and parameters: {'colsample_bytree': 0.4452319818177843, 'gamma': 3, 'learning_rate': 0.18255374471473262, 'max_depth': 5, 'min_child_weight': 1, 'reg_alpha': 0.6439352023513223, 'reg_lambda': 0.533616604260608, 'subsample': 0.7996304761592975}. Best is trial 61 with value: 0.8357589984350549.\u001b[0m\n",
            "\u001b[32m[I 2021-04-30 18:43:31,546]\u001b[0m Trial 295 finished with value: 0.8230242566510173 and parameters: {'colsample_bytree': 0.3303983412936611, 'gamma': 2, 'learning_rate': 0.1691514765969608, 'max_depth': 5, 'min_child_weight': 1, 'reg_alpha': 0.6614770934195369, 'reg_lambda': 0.6119624720603599, 'subsample': 0.7547935745720833}. Best is trial 61 with value: 0.8357589984350549.\u001b[0m\n",
            "\u001b[32m[I 2021-04-30 18:43:31,973]\u001b[0m Trial 296 finished with value: 0.8286189358372458 and parameters: {'colsample_bytree': 0.3586812054808936, 'gamma': 3, 'learning_rate': 0.18913788509301838, 'max_depth': 5, 'min_child_weight': 1, 'reg_alpha': 0.6234672030516532, 'reg_lambda': 0.45395862968579115, 'subsample': 0.8999582721870492}. Best is trial 61 with value: 0.8357589984350549.\u001b[0m\n",
            "\u001b[32m[I 2021-04-30 18:43:32,454]\u001b[0m Trial 297 finished with value: 0.8314162754303599 and parameters: {'colsample_bytree': 0.3839044373204029, 'gamma': 3, 'learning_rate': 0.19636022431730993, 'max_depth': 5, 'min_child_weight': 1, 'reg_alpha': 0.5740084833461049, 'reg_lambda': 0.5610705066772894, 'subsample': 0.8188706226104767}. Best is trial 61 with value: 0.8357589984350549.\u001b[0m\n",
            "\u001b[32m[I 2021-04-30 18:43:32,939]\u001b[0m Trial 298 finished with value: 0.8174100156494524 and parameters: {'colsample_bytree': 0.41007221753031503, 'gamma': 2, 'learning_rate': 0.19666198145547717, 'max_depth': 5, 'min_child_weight': 1, 'reg_alpha': 0.5883933899555053, 'reg_lambda': 0.5575901922964711, 'subsample': 0.7801144202318636}. Best is trial 61 with value: 0.8357589984350549.\u001b[0m\n",
            "\u001b[32m[I 2021-04-30 18:43:33,414]\u001b[0m Trial 299 finished with value: 0.8174100156494524 and parameters: {'colsample_bytree': 0.3767608880804565, 'gamma': 4, 'learning_rate': 0.17954767612768263, 'max_depth': 5, 'min_child_weight': 1, 'reg_alpha': 0.5303014122331574, 'reg_lambda': 0.5252333445699452, 'subsample': 0.8163088194836639}. Best is trial 61 with value: 0.8357589984350549.\u001b[0m\n",
            "\u001b[32m[I 2021-04-30 18:43:33,893]\u001b[0m Trial 300 finished with value: 0.8202856025039124 and parameters: {'colsample_bytree': 0.38686571985452906, 'gamma': 3, 'learning_rate': 0.1992807196497984, 'max_depth': 5, 'min_child_weight': 1, 'reg_alpha': 0.5812192309207332, 'reg_lambda': 0.5945572110283701, 'subsample': 0.4482691217402086}. Best is trial 61 with value: 0.8357589984350549.\u001b[0m\n",
            "\u001b[32m[I 2021-04-30 18:43:34,326]\u001b[0m Trial 301 finished with value: 0.8132824726134584 and parameters: {'colsample_bytree': 0.31760954882097503, 'gamma': 4, 'learning_rate': 0.2622598586591053, 'max_depth': 5, 'min_child_weight': 1, 'reg_alpha': 0.5768724059158852, 'reg_lambda': 0.5473051023945043, 'subsample': 0.8309423274440644}. Best is trial 61 with value: 0.8357589984350549.\u001b[0m\n",
            "\u001b[32m[I 2021-04-30 18:43:34,772]\u001b[0m Trial 302 finished with value: 0.8160602503912363 and parameters: {'colsample_bytree': 0.27283260535303416, 'gamma': 1, 'learning_rate': 0.18404174904985843, 'max_depth': 5, 'min_child_weight': 1, 'reg_alpha': 0.5985621182774711, 'reg_lambda': 0.5655352571421953, 'subsample': 0.7038291593338315}. Best is trial 61 with value: 0.8357589984350549.\u001b[0m\n",
            "\u001b[32m[I 2021-04-30 18:43:35,254]\u001b[0m Trial 303 finished with value: 0.8146713615023474 and parameters: {'colsample_bytree': 0.39083842008800534, 'gamma': 4, 'learning_rate': 0.17266439521113291, 'max_depth': 5, 'min_child_weight': 1, 'reg_alpha': 0.61158424938229, 'reg_lambda': 0.46316713491287637, 'subsample': 0.7689019061399059}. Best is trial 61 with value: 0.8357589984350549.\u001b[0m\n",
            "\u001b[32m[I 2021-04-30 18:43:35,699]\u001b[0m Trial 304 finished with value: 0.8285798122065726 and parameters: {'colsample_bytree': 0.3005720848486105, 'gamma': 2, 'learning_rate': 0.1936047632354326, 'max_depth': 5, 'min_child_weight': 1, 'reg_alpha': 0.6203676913119495, 'reg_lambda': 0.5764133840374853, 'subsample': 0.7981196448490014}. Best is trial 61 with value: 0.8357589984350549.\u001b[0m\n",
            "\u001b[32m[I 2021-04-30 18:43:36,156]\u001b[0m Trial 305 finished with value: 0.821498435054773 and parameters: {'colsample_bytree': 0.35956545233174386, 'gamma': 3, 'learning_rate': 0.16537935170117682, 'max_depth': 5, 'min_child_weight': 1, 'reg_alpha': 0.599714420161797, 'reg_lambda': 0.44494831837918153, 'subsample': 0.8554301068977568}. Best is trial 61 with value: 0.8357589984350549.\u001b[0m\n",
            "\u001b[32m[I 2021-04-30 18:43:36,603]\u001b[0m Trial 306 finished with value: 0.8328051643192488 and parameters: {'colsample_bytree': 0.33771884774091965, 'gamma': 5, 'learning_rate': 0.17691339441468382, 'max_depth': 5, 'min_child_weight': 1, 'reg_alpha': 0.634383789521414, 'reg_lambda': 0.6082468048531203, 'subsample': 0.899966390267738}. Best is trial 61 with value: 0.8357589984350549.\u001b[0m\n",
            "\u001b[32m[I 2021-04-30 18:43:37,064]\u001b[0m Trial 307 finished with value: 0.8313575899843505 and parameters: {'colsample_bytree': 0.2881476900526841, 'gamma': 5, 'learning_rate': 0.18801374459297107, 'max_depth': 6, 'min_child_weight': 1, 'reg_alpha': 0.6488596681556822, 'reg_lambda': 0.6333160002541527, 'subsample': 0.8219205811479514}. Best is trial 61 with value: 0.8357589984350549.\u001b[0m\n",
            "\u001b[32m[I 2021-04-30 18:43:37,509]\u001b[0m Trial 308 finished with value: 0.8299882629107982 and parameters: {'colsample_bytree': 0.28006816492965697, 'gamma': 5, 'learning_rate': 0.18940703824811844, 'max_depth': 5, 'min_child_weight': 1, 'reg_alpha': 0.6374234152102031, 'reg_lambda': 0.6271573698481177, 'subsample': 0.8359063408653071}. Best is trial 61 with value: 0.8357589984350549.\u001b[0m\n",
            "\u001b[32m[I 2021-04-30 18:43:37,912]\u001b[0m Trial 309 finished with value: 0.8299687010954615 and parameters: {'colsample_bytree': 0.2885196725884848, 'gamma': 5, 'learning_rate': 0.20072847532162805, 'max_depth': 4, 'min_child_weight': 1, 'reg_alpha': 0.652734050346673, 'reg_lambda': 0.6067384283842507, 'subsample': 0.8677297642585152}. Best is trial 61 with value: 0.8357589984350549.\u001b[0m\n",
            "\u001b[32m[I 2021-04-30 18:43:38,353]\u001b[0m Trial 310 finished with value: 0.8132433489827857 and parameters: {'colsample_bytree': 0.30336026080561007, 'gamma': 5, 'learning_rate': 0.17917100481047457, 'max_depth': 6, 'min_child_weight': 1, 'reg_alpha': 0.635244491100119, 'reg_lambda': 0.6327924475340775, 'subsample': 0.36957373186094983}. Best is trial 61 with value: 0.8357589984350549.\u001b[0m\n",
            "\u001b[32m[I 2021-04-30 18:43:38,807]\u001b[0m Trial 311 finished with value: 0.8217527386541471 and parameters: {'colsample_bytree': 0.3160489450063965, 'gamma': 5, 'learning_rate': 0.1938565572655173, 'max_depth': 5, 'min_child_weight': 1, 'reg_alpha': 0.5616595430903704, 'reg_lambda': 0.6502268082565144, 'subsample': 0.8148139240810593}. Best is trial 61 with value: 0.8357589984350549.\u001b[0m\n",
            "\u001b[32m[I 2021-04-30 18:43:39,246]\u001b[0m Trial 312 finished with value: 0.8231611893583726 and parameters: {'colsample_bytree': 0.33391181166435546, 'gamma': 5, 'learning_rate': 0.15719728631868274, 'max_depth': 5, 'min_child_weight': 1, 'reg_alpha': 0.6572821590138344, 'reg_lambda': 0.610709983904676, 'subsample': 0.8994826137152767}. Best is trial 61 with value: 0.8357589984350549.\u001b[0m\n",
            "\u001b[32m[I 2021-04-30 18:43:39,658]\u001b[0m Trial 313 finished with value: 0.822926447574335 and parameters: {'colsample_bytree': 0.2911758176085847, 'gamma': 5, 'learning_rate': 0.18751277662862126, 'max_depth': 6, 'min_child_weight': 5, 'reg_alpha': 0.6088993281236186, 'reg_lambda': 0.5236354394119025, 'subsample': 0.8612860375369024}. Best is trial 61 with value: 0.8357589984350549.\u001b[0m\n",
            "\u001b[32m[I 2021-04-30 18:43:40,104]\u001b[0m Trial 314 finished with value: 0.8300078247261347 and parameters: {'colsample_bytree': 0.32500160440590525, 'gamma': 5, 'learning_rate': 0.20086831062960772, 'max_depth': 5, 'min_child_weight': 1, 'reg_alpha': 0.6467482542984415, 'reg_lambda': 0.5760602698870618, 'subsample': 0.7450282781901157}. Best is trial 61 with value: 0.8357589984350549.\u001b[0m\n",
            "\u001b[32m[I 2021-04-30 18:43:40,509]\u001b[0m Trial 315 finished with value: 0.8314553990610329 and parameters: {'colsample_bytree': 0.3101236314453819, 'gamma': 5, 'learning_rate': 0.18607378600403587, 'max_depth': 4, 'min_child_weight': 1, 'reg_alpha': 0.6286337065412398, 'reg_lambda': 0.609843138096464, 'subsample': 0.832468827579134}. Best is trial 61 with value: 0.8357589984350549.\u001b[0m\n",
            "\u001b[32m[I 2021-04-30 18:43:40,915]\u001b[0m Trial 316 finished with value: 0.8260367762128326 and parameters: {'colsample_bytree': 0.30003331924157345, 'gamma': 2, 'learning_rate': 0.33543140570007507, 'max_depth': 4, 'min_child_weight': 1, 'reg_alpha': 0.6201632885765427, 'reg_lambda': 0.637894825985559, 'subsample': 0.8082017238129645}. Best is trial 61 with value: 0.8357589984350549.\u001b[0m\n",
            "\u001b[32m[I 2021-04-30 18:43:41,332]\u001b[0m Trial 317 finished with value: 0.8230046948356808 and parameters: {'colsample_bytree': 0.3091254563154168, 'gamma': 5, 'learning_rate': 0.17718189448853675, 'max_depth': 4, 'min_child_weight': 1, 'reg_alpha': 0.631894766809799, 'reg_lambda': 0.6011918921851457, 'subsample': 0.7717936049896904}. Best is trial 61 with value: 0.8357589984350549.\u001b[0m\n",
            "\u001b[32m[I 2021-04-30 18:43:41,741]\u001b[0m Trial 318 finished with value: 0.8271713615023474 and parameters: {'colsample_bytree': 0.28855613968792887, 'gamma': 5, 'learning_rate': 0.18283775809778693, 'max_depth': 4, 'min_child_weight': 1, 'reg_alpha': 0.5922282612170001, 'reg_lambda': 0.6758218721661561, 'subsample': 0.8319685289773217}. Best is trial 61 with value: 0.8357589984350549.\u001b[0m\n",
            "\u001b[32m[I 2021-04-30 18:43:42,169]\u001b[0m Trial 319 finished with value: 0.8258215962441314 and parameters: {'colsample_bytree': 0.3175328369995728, 'gamma': 5, 'learning_rate': 0.17235555659248025, 'max_depth': 4, 'min_child_weight': 1, 'reg_alpha': 0.6085550740967444, 'reg_lambda': 0.6176195877378166, 'subsample': 0.8377967868293559}. Best is trial 61 with value: 0.8357589984350549.\u001b[0m\n",
            "\u001b[32m[I 2021-04-30 18:43:42,604]\u001b[0m Trial 320 finished with value: 0.8201486697965572 and parameters: {'colsample_bytree': 0.31083000921942244, 'gamma': 5, 'learning_rate': 0.18576682504395445, 'max_depth': 4, 'min_child_weight': 1, 'reg_alpha': 0.6305247600561636, 'reg_lambda': 0.6606149337748527, 'subsample': 0.6642700690340153}. Best is trial 61 with value: 0.8357589984350549.\u001b[0m\n",
            "\u001b[32m[I 2021-04-30 18:43:42,983]\u001b[0m Trial 321 finished with value: 0.8259389671361502 and parameters: {'colsample_bytree': 0.26580497407372466, 'gamma': 3, 'learning_rate': 0.16727330732941253, 'max_depth': 4, 'min_child_weight': 1, 'reg_alpha': 0.6429624391486358, 'reg_lambda': 0.593178627150817, 'subsample': 0.7871886726052547}. Best is trial 61 with value: 0.8357589984350549.\u001b[0m\n",
            "\u001b[32m[I 2021-04-30 18:43:43,451]\u001b[0m Trial 322 finished with value: 0.8258411580594679 and parameters: {'colsample_bytree': 0.2813471782340724, 'gamma': 5, 'learning_rate': 0.19562432852576325, 'max_depth': 6, 'min_child_weight': 1, 'reg_alpha': 0.6163879381716216, 'reg_lambda': 0.5565658451310629, 'subsample': 0.8606630931731325}. Best is trial 61 with value: 0.8357589984350549.\u001b[0m\n",
            "\u001b[32m[I 2021-04-30 18:43:43,930]\u001b[0m Trial 323 finished with value: 0.8230046948356808 and parameters: {'colsample_bytree': 0.33051444201808833, 'gamma': 5, 'learning_rate': 0.1766988337341714, 'max_depth': 6, 'min_child_weight': 1, 'reg_alpha': 0.6013912431321884, 'reg_lambda': 0.5887360563314269, 'subsample': 0.8078430449438146}. Best is trial 61 with value: 0.8357589984350549.\u001b[0m\n",
            "\u001b[32m[I 2021-04-30 18:43:44,410]\u001b[0m Trial 324 finished with value: 0.8188967136150234 and parameters: {'colsample_bytree': 0.3009524255702227, 'gamma': 0, 'learning_rate': 0.20629250455375067, 'max_depth': 6, 'min_child_weight': 1, 'reg_alpha': 0.6577388073236984, 'reg_lambda': 0.611865938703917, 'subsample': 0.7381762890777516}. Best is trial 61 with value: 0.8357589984350549.\u001b[0m\n",
            "\u001b[32m[I 2021-04-30 18:43:44,856]\u001b[0m Trial 325 finished with value: 0.8104460093896714 and parameters: {'colsample_bytree': 0.3718921848091901, 'gamma': 5, 'learning_rate': 0.18404745304519185, 'max_depth': 6, 'min_child_weight': 1, 'reg_alpha': 0.5740447267845995, 'reg_lambda': 0.6363776429864533, 'subsample': 0.22851729396429557}. Best is trial 61 with value: 0.8357589984350549.\u001b[0m\n",
            "\u001b[32m[I 2021-04-30 18:43:45,308]\u001b[0m Trial 326 finished with value: 0.8188184663536777 and parameters: {'colsample_bytree': 0.32329102150494976, 'gamma': 2, 'learning_rate': 0.41992001372725507, 'max_depth': 5, 'min_child_weight': 1, 'reg_alpha': 0.6265416893280955, 'reg_lambda': 0.6195586311063807, 'subsample': 0.8588884542305723}. Best is trial 61 with value: 0.8357589984350549.\u001b[0m\n",
            "\u001b[32m[I 2021-04-30 18:43:45,745]\u001b[0m Trial 327 finished with value: 0.8344874804381848 and parameters: {'colsample_bytree': 0.3419647521885987, 'gamma': 1, 'learning_rate': 0.1913383025911637, 'max_depth': 5, 'min_child_weight': 1, 'reg_alpha': 0.6407952089670158, 'reg_lambda': 0.5796836360519292, 'subsample': 0.8197134196013007}. Best is trial 61 with value: 0.8357589984350549.\u001b[0m\n",
            "\u001b[32m[I 2021-04-30 18:43:46,169]\u001b[0m Trial 328 finished with value: 0.8201682316118937 and parameters: {'colsample_bytree': 0.3421277589127231, 'gamma': 1, 'learning_rate': 0.19706345481075874, 'max_depth': 4, 'min_child_weight': 1, 'reg_alpha': 0.6460841357400405, 'reg_lambda': 0.581223296208606, 'subsample': 0.7739267481584401}. Best is trial 61 with value: 0.8357589984350549.\u001b[0m\n",
            "\u001b[32m[I 2021-04-30 18:43:46,646]\u001b[0m Trial 329 finished with value: 0.8299295774647888 and parameters: {'colsample_bytree': 0.35581018502208756, 'gamma': 1, 'learning_rate': 0.1523920126407002, 'max_depth': 6, 'min_child_weight': 1, 'reg_alpha': 0.6595517474444925, 'reg_lambda': 0.5963539706118994, 'subsample': 0.800695302110703}. Best is trial 61 with value: 0.8357589984350549.\u001b[0m\n",
            "\u001b[32m[I 2021-04-30 18:43:47,112]\u001b[0m Trial 330 finished with value: 0.8286189358372458 and parameters: {'colsample_bytree': 0.3683493269744063, 'gamma': 1, 'learning_rate': 0.17933813332777832, 'max_depth': 5, 'min_child_weight': 5, 'reg_alpha': 0.61405605260139, 'reg_lambda': 0.5509583548397367, 'subsample': 0.8624383303441658}. Best is trial 61 with value: 0.8357589984350549.\u001b[0m\n",
            "\u001b[32m[I 2021-04-30 18:43:47,558]\u001b[0m Trial 331 finished with value: 0.8215571205007824 and parameters: {'colsample_bytree': 0.3397857398834825, 'gamma': 1, 'learning_rate': 0.18764649947264977, 'max_depth': 6, 'min_child_weight': 1, 'reg_alpha': 0.6394805216207993, 'reg_lambda': 0.5598552700781949, 'subsample': 0.4147218780751205}. Best is trial 61 with value: 0.8357589984350549.\u001b[0m\n",
            "\u001b[32m[I 2021-04-30 18:43:48,014]\u001b[0m Trial 332 finished with value: 0.8118153364632239 and parameters: {'colsample_bytree': 0.3528290933000517, 'gamma': 0, 'learning_rate': 0.16876382648793345, 'max_depth': 5, 'min_child_weight': 1, 'reg_alpha': 0.666444305623695, 'reg_lambda': 0.5823390444949005, 'subsample': 0.8970568514294971}. Best is trial 61 with value: 0.8357589984350549.\u001b[0m\n",
            "\u001b[32m[I 2021-04-30 18:43:48,492]\u001b[0m Trial 333 finished with value: 0.8231611893583726 and parameters: {'colsample_bytree': 0.38454064904127944, 'gamma': 3, 'learning_rate': 0.25096278350039686, 'max_depth': 5, 'min_child_weight': 1, 'reg_alpha': 0.6218754289173036, 'reg_lambda': 0.5703458614800354, 'subsample': 0.8989682622834553}. Best is trial 61 with value: 0.8357589984350549.\u001b[0m\n",
            "\u001b[32m[I 2021-04-30 18:43:48,969]\u001b[0m Trial 334 finished with value: 0.8258998435054773 and parameters: {'colsample_bytree': 0.3346621240022689, 'gamma': 1, 'learning_rate': 0.20415268911368406, 'max_depth': 6, 'min_child_weight': 1, 'reg_alpha': 0.6481259387692474, 'reg_lambda': 0.538720374121379, 'subsample': 0.753594288376054}. Best is trial 61 with value: 0.8357589984350549.\u001b[0m\n",
            "\u001b[32m[I 2021-04-30 18:43:49,365]\u001b[0m Trial 335 finished with value: 0.8161384976525822 and parameters: {'colsample_bytree': 0.30443491277221435, 'gamma': 3, 'learning_rate': 0.1947138240868674, 'max_depth': 3, 'min_child_weight': 1, 'reg_alpha': 0.5897761273755273, 'reg_lambda': 0.589585833919212, 'subsample': 0.7065893735389449}. Best is trial 61 with value: 0.8357589984350549.\u001b[0m\n",
            "\u001b[32m[I 2021-04-30 18:43:49,790]\u001b[0m Trial 336 finished with value: 0.818838028169014 and parameters: {'colsample_bytree': 0.3661769695092144, 'gamma': 2, 'learning_rate': 0.16249428351501125, 'max_depth': 5, 'min_child_weight': 6, 'reg_alpha': 0.7233048643571325, 'reg_lambda': 0.6213906627328062, 'subsample': 0.48604901365857334}. Best is trial 61 with value: 0.8357589984350549.\u001b[0m\n",
            "\u001b[32m[I 2021-04-30 18:43:50,239]\u001b[0m Trial 337 finished with value: 0.8257824726134585 and parameters: {'colsample_bytree': 0.27361021201594865, 'gamma': 1, 'learning_rate': 0.1811906782600442, 'max_depth': 5, 'min_child_weight': 2, 'reg_alpha': 0.6042529609155194, 'reg_lambda': 0.559196637502019, 'subsample': 0.8255293154021048}. Best is trial 61 with value: 0.8357589984350549.\u001b[0m\n",
            "\u001b[32m[I 2021-04-30 18:43:50,704]\u001b[0m Trial 338 finished with value: 0.8174882629107982 and parameters: {'colsample_bytree': 0.32295867559747315, 'gamma': 3, 'learning_rate': 0.1730647684047665, 'max_depth': 6, 'min_child_weight': 1, 'reg_alpha': 0.6927645902797835, 'reg_lambda': 0.6043158009429966, 'subsample': 0.8006662260822236}. Best is trial 61 with value: 0.8357589984350549.\u001b[0m\n",
            "\u001b[32m[I 2021-04-30 18:43:51,164]\u001b[0m Trial 339 finished with value: 0.8257824726134585 and parameters: {'colsample_bytree': 0.29382633972101696, 'gamma': 2, 'learning_rate': 0.18822782103791252, 'max_depth': 5, 'min_child_weight': 1, 'reg_alpha': 0.6726349141965361, 'reg_lambda': 0.5281341539186579, 'subsample': 0.8372645014223016}. Best is trial 61 with value: 0.8357589984350549.\u001b[0m\n",
            "\u001b[32m[I 2021-04-30 18:43:51,578]\u001b[0m Trial 340 finished with value: 0.8285602503912364 and parameters: {'colsample_bytree': 0.34122351076199914, 'gamma': 5, 'learning_rate': 0.19708874423555062, 'max_depth': 4, 'min_child_weight': 1, 'reg_alpha': 0.6317272940172659, 'reg_lambda': 0.5731640667245952, 'subsample': 0.8639147110210408}. Best is trial 61 with value: 0.8357589984350549.\u001b[0m\n",
            "\u001b[32m[I 2021-04-30 18:43:52,027]\u001b[0m Trial 341 finished with value: 0.8173122065727698 and parameters: {'colsample_bytree': 0.3121709860081521, 'gamma': 5, 'learning_rate': 0.17801893244268052, 'max_depth': 5, 'min_child_weight': 1, 'reg_alpha': 0.6502462538335578, 'reg_lambda': 0.3695270105700238, 'subsample': 0.7691353983924502}. Best is trial 61 with value: 0.8357589984350549.\u001b[0m\n",
            "\u001b[32m[I 2021-04-30 18:43:52,452]\u001b[0m Trial 342 finished with value: 0.8314358372456964 and parameters: {'colsample_bytree': 0.35320768504655375, 'gamma': 2, 'learning_rate': 0.18649204307263326, 'max_depth': 6, 'min_child_weight': 1, 'reg_alpha': 0.6267806683641529, 'reg_lambda': 0.5141196559326251, 'subsample': 0.2043367823942472}. Best is trial 61 with value: 0.8357589984350549.\u001b[0m\n",
            "\u001b[32m[I 2021-04-30 18:43:52,861]\u001b[0m Trial 343 finished with value: 0.8160602503912363 and parameters: {'colsample_bytree': 0.36903864239251455, 'gamma': 2, 'learning_rate': 0.3496301439264009, 'max_depth': 6, 'min_child_weight': 1, 'reg_alpha': 0.615859670552342, 'reg_lambda': 0.43471955369198134, 'subsample': 0.17659217935311014}. Best is trial 61 with value: 0.8357589984350549.\u001b[0m\n",
            "\u001b[32m[I 2021-04-30 18:43:53,393]\u001b[0m Trial 344 finished with value: 0.8258802816901408 and parameters: {'colsample_bytree': 0.39240961701576627, 'gamma': 2, 'learning_rate': 0.18345099760063177, 'max_depth': 6, 'min_child_weight': 1, 'reg_alpha': 0.6013589556723472, 'reg_lambda': 0.5915478168413366, 'subsample': 0.8933053599616927}. Best is trial 61 with value: 0.8357589984350549.\u001b[0m\n",
            "\u001b[32m[I 2021-04-30 18:43:53,803]\u001b[0m Trial 345 finished with value: 0.82018779342723 and parameters: {'colsample_bytree': 0.36109697007027586, 'gamma': 2, 'learning_rate': 0.16869427046827654, 'max_depth': 6, 'min_child_weight': 1, 'reg_alpha': 0.6230055072764306, 'reg_lambda': 0.6054185249415254, 'subsample': 0.21617788936120638}. Best is trial 61 with value: 0.8357589984350549.\u001b[0m\n",
            "\u001b[32m[I 2021-04-30 18:43:54,219]\u001b[0m Trial 346 finished with value: 0.820226917057903 and parameters: {'colsample_bytree': 0.42494079376384586, 'gamma': 2, 'learning_rate': 0.20803711874236766, 'max_depth': 6, 'min_child_weight': 1, 'reg_alpha': 0.6360845596679022, 'reg_lambda': 0.44957810164999895, 'subsample': 0.1430830183674023}. Best is trial 61 with value: 0.8357589984350549.\u001b[0m\n",
            "\u001b[32m[I 2021-04-30 18:43:54,685]\u001b[0m Trial 347 finished with value: 0.8160406885758998 and parameters: {'colsample_bytree': 0.35019915583720185, 'gamma': 1, 'learning_rate': 0.17732543094246866, 'max_depth': 6, 'min_child_weight': 1, 'reg_alpha': 0.6089686602382682, 'reg_lambda': 0.44222295509259824, 'subsample': 0.5455125518479368}. Best is trial 61 with value: 0.8357589984350549.\u001b[0m\n",
            "\u001b[32m[I 2021-04-30 18:43:55,216]\u001b[0m Trial 348 finished with value: 0.8230046948356808 and parameters: {'colsample_bytree': 0.3839615227812188, 'gamma': 5, 'learning_rate': 0.15993022210476068, 'max_depth': 6, 'min_child_weight': 1, 'reg_alpha': 0.6262618676869808, 'reg_lambda': 0.45945716102182216, 'subsample': 0.872891267390105}. Best is trial 61 with value: 0.8357589984350549.\u001b[0m\n",
            "\u001b[32m[I 2021-04-30 18:43:55,588]\u001b[0m Trial 349 finished with value: 0.8047339593114241 and parameters: {'colsample_bytree': 0.34873471942285644, 'gamma': 2, 'learning_rate': 0.2001649829606444, 'max_depth': 6, 'min_child_weight': 2, 'reg_alpha': 0.5838300095453486, 'reg_lambda': 0.6298959221093773, 'subsample': 0.18775588841883753}. Best is trial 61 with value: 0.8357589984350549.\u001b[0m\n",
            "\u001b[32m[I 2021-04-30 18:43:55,949]\u001b[0m Trial 350 finished with value: 0.8048904538341158 and parameters: {'colsample_bytree': 0.3329110599479883, 'gamma': 5, 'learning_rate': 0.19242190373710005, 'max_depth': 6, 'min_child_weight': 1, 'reg_alpha': 0.6382420392452562, 'reg_lambda': 0.5830196262815089, 'subsample': 0.11080579085095206}. Best is trial 61 with value: 0.8357589984350549.\u001b[0m\n",
            "\u001b[32m[I 2021-04-30 18:43:56,355]\u001b[0m Trial 351 finished with value: 0.815923317683881 and parameters: {'colsample_bytree': 0.4061485330442603, 'gamma': 5, 'learning_rate': 0.18490956100005362, 'max_depth': 6, 'min_child_weight': 1, 'reg_alpha': 0.5942975720501, 'reg_lambda': 0.4320858134738013, 'subsample': 0.15462386107973392}. Best is trial 61 with value: 0.8357589984350549.\u001b[0m\n",
            "\u001b[32m[I 2021-04-30 18:43:56,782]\u001b[0m Trial 352 finished with value: 0.8131259780907669 and parameters: {'colsample_bytree': 0.3152471765366045, 'gamma': 2, 'learning_rate': 0.17447065224397693, 'max_depth': 5, 'min_child_weight': 5, 'reg_alpha': 0.620037512510014, 'reg_lambda': 0.4233910559958536, 'subsample': 0.8971395827162645}. Best is trial 61 with value: 0.8357589984350549.\u001b[0m\n",
            "\u001b[32m[I 2021-04-30 18:43:57,241]\u001b[0m Trial 353 finished with value: 0.8076682316118935 and parameters: {'colsample_bytree': 0.3664488120432626, 'gamma': 1, 'learning_rate': 0.5115124326557823, 'max_depth': 6, 'min_child_weight': 1, 'reg_alpha': 0.6632945959227292, 'reg_lambda': 0.5691224617847428, 'subsample': 0.29081924325759634}. Best is trial 61 with value: 0.8357589984350549.\u001b[0m\n",
            "\u001b[32m[I 2021-04-30 18:43:57,703]\u001b[0m Trial 354 finished with value: 0.8286971830985916 and parameters: {'colsample_bytree': 0.2821393083849913, 'gamma': 5, 'learning_rate': 0.19405162174010154, 'max_depth': 5, 'min_child_weight': 1, 'reg_alpha': 0.6401574151190289, 'reg_lambda': 0.6084960770242649, 'subsample': 0.8242722793189194}. Best is trial 61 with value: 0.8357589984350549.\u001b[0m\n",
            "\u001b[32m[I 2021-04-30 18:43:58,205]\u001b[0m Trial 355 finished with value: 0.8299687010954615 and parameters: {'colsample_bytree': 0.38045767217292237, 'gamma': 5, 'learning_rate': 0.18259128798053828, 'max_depth': 5, 'min_child_weight': 1, 'reg_alpha': 0.6817622250053977, 'reg_lambda': 0.4451058638240719, 'subsample': 0.8641018572788229}. Best is trial 61 with value: 0.8357589984350549.\u001b[0m\n",
            "\u001b[32m[I 2021-04-30 18:43:58,669]\u001b[0m Trial 356 finished with value: 0.827112676056338 and parameters: {'colsample_bytree': 0.2983823994412815, 'gamma': 5, 'learning_rate': 0.11557540835214433, 'max_depth': 6, 'min_child_weight': 1, 'reg_alpha': 0.6127477936582078, 'reg_lambda': 0.6459098095738787, 'subsample': 0.8999131118883242}. Best is trial 61 with value: 0.8357589984350549.\u001b[0m\n",
            "\u001b[32m[I 2021-04-30 18:43:59,059]\u001b[0m Trial 357 finished with value: 0.8060054773082943 and parameters: {'colsample_bytree': 0.34599920278741036, 'gamma': 2, 'learning_rate': 0.4351516839172203, 'max_depth': 5, 'min_child_weight': 1, 'reg_alpha': 0.6295506812850044, 'reg_lambda': 0.3808478905749262, 'subsample': 0.20641339918927842}. Best is trial 61 with value: 0.8357589984350549.\u001b[0m\n",
            "\u001b[32m[I 2021-04-30 18:43:59,526]\u001b[0m Trial 358 finished with value: 0.8258215962441314 and parameters: {'colsample_bytree': 0.32759770685546125, 'gamma': 5, 'learning_rate': 0.17025174812930502, 'max_depth': 6, 'min_child_weight': 2, 'reg_alpha': 0.701816572594756, 'reg_lambda': 0.43112664497912245, 'subsample': 0.89953713255399}. Best is trial 61 with value: 0.8357589984350549.\u001b[0m\n",
            "\u001b[32m[I 2021-04-30 18:43:59,863]\u001b[0m Trial 359 finished with value: 0.8202660406885759 and parameters: {'colsample_bytree': 0.1566148554955968, 'gamma': 5, 'learning_rate': 0.31661210330776096, 'max_depth': 5, 'min_child_weight': 1, 'reg_alpha': 0.6448244814191803, 'reg_lambda': 0.6193767920425091, 'subsample': 0.8258251938822782}. Best is trial 61 with value: 0.8357589984350549.\u001b[0m\n",
            "\u001b[32m[I 2021-04-30 18:44:00,289]\u001b[0m Trial 360 finished with value: 0.8258411580594679 and parameters: {'colsample_bytree': 0.3573069334620812, 'gamma': 5, 'learning_rate': 0.18875535377696548, 'max_depth': 4, 'min_child_weight': 1, 'reg_alpha': 0.6604359291628201, 'reg_lambda': 0.474324592874622, 'subsample': 0.8465408411847546}. Best is trial 61 with value: 0.8357589984350549.\u001b[0m\n",
            "\u001b[32m[I 2021-04-30 18:44:00,744]\u001b[0m Trial 361 finished with value: 0.8258215962441314 and parameters: {'colsample_bytree': 0.31555296879794775, 'gamma': 1, 'learning_rate': 0.20166128657214494, 'max_depth': 5, 'min_child_weight': 1, 'reg_alpha': 0.5062167090764814, 'reg_lambda': 0.45635183394371687, 'subsample': 0.7994983412774892}. Best is trial 61 with value: 0.8357589984350549.\u001b[0m\n",
            "\u001b[32m[I 2021-04-30 18:44:01,186]\u001b[0m Trial 362 finished with value: 0.8201095461658842 and parameters: {'colsample_bytree': 0.3400516813099182, 'gamma': 2, 'learning_rate': 0.21097585310047595, 'max_depth': 6, 'min_child_weight': 1, 'reg_alpha': 0.5694333984576053, 'reg_lambda': 0.49862634146238216, 'subsample': 0.3450896564257581}. Best is trial 61 with value: 0.8357589984350549.\u001b[0m\n",
            "\u001b[32m[I 2021-04-30 18:44:01,660]\u001b[0m Trial 363 finished with value: 0.8257433489827856 and parameters: {'colsample_bytree': 0.39715467841472174, 'gamma': 5, 'learning_rate': 0.16486994244976583, 'max_depth': 5, 'min_child_weight': 1, 'reg_alpha': 0.6080371481865842, 'reg_lambda': 0.596824165540804, 'subsample': 0.8527601313961388}. Best is trial 61 with value: 0.8357589984350549.\u001b[0m\n",
            "\u001b[32m[I 2021-04-30 18:44:02,149]\u001b[0m Trial 364 finished with value: 0.8286189358372458 and parameters: {'colsample_bytree': 0.37454443946697347, 'gamma': 5, 'learning_rate': 0.17951806293800496, 'max_depth': 5, 'min_child_weight': 1, 'reg_alpha': 0.6498944257256472, 'reg_lambda': 0.5790774425771192, 'subsample': 0.8703562883798196}. Best is trial 61 with value: 0.8357589984350549.\u001b[0m\n",
            "\u001b[32m[I 2021-04-30 18:44:02,623]\u001b[0m Trial 365 finished with value: 0.8257824726134586 and parameters: {'colsample_bytree': 0.3078091421249802, 'gamma': 5, 'learning_rate': 0.1870399863739986, 'max_depth': 6, 'min_child_weight': 1, 'reg_alpha': 0.6248597036691986, 'reg_lambda': 0.42502856711815845, 'subsample': 0.898424387912008}. Best is trial 61 with value: 0.8357589984350549.\u001b[0m\n",
            "\u001b[32m[I 2021-04-30 18:44:02,990]\u001b[0m Trial 366 finished with value: 0.8145931142410016 and parameters: {'colsample_bytree': 0.3253137640051748, 'gamma': 3, 'learning_rate': 0.17420779201920228, 'max_depth': 5, 'min_child_weight': 1, 'reg_alpha': 0.5925255072893681, 'reg_lambda': 0.5088655828518848, 'subsample': 0.13189408921291496}. Best is trial 61 with value: 0.8357589984350549.\u001b[0m\n",
            "\u001b[32m[I 2021-04-30 18:44:03,449]\u001b[0m Trial 367 finished with value: 0.8286776212832552 and parameters: {'colsample_bytree': 0.355732714751409, 'gamma': 2, 'learning_rate': 0.19571912021978358, 'max_depth': 5, 'min_child_weight': 1, 'reg_alpha': 0.6743037200324258, 'reg_lambda': 0.3949617396485969, 'subsample': 0.8086766006115332}. Best is trial 61 with value: 0.8357589984350549.\u001b[0m\n",
            "\u001b[32m[I 2021-04-30 18:44:03,870]\u001b[0m Trial 368 finished with value: 0.822887323943662 and parameters: {'colsample_bytree': 0.28878890377671157, 'gamma': 4, 'learning_rate': 0.17880936377938303, 'max_depth': 4, 'min_child_weight': 1, 'reg_alpha': 0.634849269229923, 'reg_lambda': 0.43648632968015877, 'subsample': 0.8335092116025763}. Best is trial 61 with value: 0.8357589984350549.\u001b[0m\n",
            "\u001b[32m[I 2021-04-30 18:44:04,345]\u001b[0m Trial 369 finished with value: 0.8301056338028168 and parameters: {'colsample_bytree': 0.33830458320082507, 'gamma': 5, 'learning_rate': 0.20310724534459731, 'max_depth': 6, 'min_child_weight': 1, 'reg_alpha': 0.6144060861472371, 'reg_lambda': 0.5571634245686522, 'subsample': 0.8982927746161808}. Best is trial 61 with value: 0.8357589984350549.\u001b[0m\n",
            "\u001b[32m[I 2021-04-30 18:44:04,761]\u001b[0m Trial 370 finished with value: 0.8230242566510173 and parameters: {'colsample_bytree': 0.43482801320463754, 'gamma': 1, 'learning_rate': 0.19100063424646707, 'max_depth': 5, 'min_child_weight': 9, 'reg_alpha': 0.6525557547271212, 'reg_lambda': 0.420929128853069, 'subsample': 0.7897018086601453}. Best is trial 61 with value: 0.8357589984350549.\u001b[0m\n",
            "\u001b[32m[I 2021-04-30 18:44:05,144]\u001b[0m Trial 371 finished with value: 0.8215766823161189 and parameters: {'colsample_bytree': 0.29950058443374494, 'gamma': 0, 'learning_rate': 0.1864456662843189, 'max_depth': 3, 'min_child_weight': 7, 'reg_alpha': 0.7440953889663786, 'reg_lambda': 0.44189034482691736, 'subsample': 0.8641725538566505}. Best is trial 61 with value: 0.8357589984350549.\u001b[0m\n",
            "\u001b[32m[I 2021-04-30 18:44:05,597]\u001b[0m Trial 372 finished with value: 0.8159428794992175 and parameters: {'colsample_bytree': 0.37673073698540543, 'gamma': 5, 'learning_rate': 0.16911749852162278, 'max_depth': 6, 'min_child_weight': 1, 'reg_alpha': 0.6915524548909597, 'reg_lambda': 0.6288575346705491, 'subsample': 0.26715993897323553}. Best is trial 61 with value: 0.8357589984350549.\u001b[0m\n",
            "\u001b[32m[I 2021-04-30 18:44:06,036]\u001b[0m Trial 373 finished with value: 0.8230633802816902 and parameters: {'colsample_bytree': 0.3208190191318689, 'gamma': 5, 'learning_rate': 0.18270851795265738, 'max_depth': 5, 'min_child_weight': 1, 'reg_alpha': 0.5996860246239109, 'reg_lambda': 0.5868968879084043, 'subsample': 0.899508438675105}. Best is trial 61 with value: 0.8357589984350549.\u001b[0m\n",
            "\u001b[32m[I 2021-04-30 18:44:06,475]\u001b[0m Trial 374 finished with value: 0.8160406885758998 and parameters: {'colsample_bytree': 0.3490875057223853, 'gamma': 3, 'learning_rate': 0.15658807478388215, 'max_depth': 5, 'min_child_weight': 2, 'reg_alpha': 0.6656125141601021, 'reg_lambda': 0.6063511329800755, 'subsample': 0.8218846359531445}. Best is trial 61 with value: 0.8357589984350549.\u001b[0m\n",
            "\u001b[32m[I 2021-04-30 18:44:06,892]\u001b[0m Trial 375 finished with value: 0.8272104851330203 and parameters: {'colsample_bytree': 0.27210431112123507, 'gamma': 2, 'learning_rate': 0.2797761779163538, 'max_depth': 6, 'min_child_weight': 1, 'reg_alpha': 0.7166728376297814, 'reg_lambda': 0.568064152530163, 'subsample': 0.7789082064346715}. Best is trial 61 with value: 0.8357589984350549.\u001b[0m\n",
            "\u001b[32m[I 2021-04-30 18:44:07,298]\u001b[0m Trial 376 finished with value: 0.8215179968701095 and parameters: {'colsample_bytree': 0.31035828400780047, 'gamma': 5, 'learning_rate': 0.196674562301823, 'max_depth': 5, 'min_child_weight': 1, 'reg_alpha': 0.6379677776081774, 'reg_lambda': 0.4123474922998354, 'subsample': 0.20064894378277331}. Best is trial 61 with value: 0.8357589984350549.\u001b[0m\n",
            "\u001b[32m[I 2021-04-30 18:44:07,713]\u001b[0m Trial 377 finished with value: 0.8174491392801251 and parameters: {'colsample_bytree': 0.33188876148704594, 'gamma': 5, 'learning_rate': 0.17576358903356204, 'max_depth': 6, 'min_child_weight': 8, 'reg_alpha': 0.6325037972885224, 'reg_lambda': 0.38730423700019045, 'subsample': 0.8992188046345372}. Best is trial 61 with value: 0.8357589984350549.\u001b[0m\n",
            "\u001b[32m[I 2021-04-30 18:44:08,130]\u001b[0m Trial 378 finished with value: 0.8215962441314554 and parameters: {'colsample_bytree': 0.3582857550092425, 'gamma': 3, 'learning_rate': 0.163614430882631, 'max_depth': 4, 'min_child_weight': 1, 'reg_alpha': 0.5801296432240783, 'reg_lambda': 0.4560997127840678, 'subsample': 0.8359137118221125}. Best is trial 61 with value: 0.8357589984350549.\u001b[0m\n",
            "\u001b[32m[I 2021-04-30 18:44:08,600]\u001b[0m Trial 379 finished with value: 0.8174491392801253 and parameters: {'colsample_bytree': 0.39416912832130757, 'gamma': 4, 'learning_rate': 0.19177320197925085, 'max_depth': 5, 'min_child_weight': 5, 'reg_alpha': 0.619990943589512, 'reg_lambda': 0.4256180574856055, 'subsample': 0.8564157359195973}. Best is trial 61 with value: 0.8357589984350549.\u001b[0m\n",
            "\u001b[32m[I 2021-04-30 18:44:09,043]\u001b[0m Trial 380 finished with value: 0.8271517996870109 and parameters: {'colsample_bytree': 0.33811540223533104, 'gamma': 5, 'learning_rate': 0.21232887917516716, 'max_depth': 5, 'min_child_weight': 1, 'reg_alpha': 0.64970275434056, 'reg_lambda': 0.543971145243183, 'subsample': 0.8015097709334444}. Best is trial 61 with value: 0.8357589984350549.\u001b[0m\n",
            "\u001b[32m[I 2021-04-30 18:44:09,454]\u001b[0m Trial 381 finished with value: 0.8145931142410016 and parameters: {'colsample_bytree': 0.29236340642615527, 'gamma': 2, 'learning_rate': 0.10091391631648343, 'max_depth': 6, 'min_child_weight': 1, 'reg_alpha': 0.6742335373336936, 'reg_lambda': 0.46770956594440344, 'subsample': 0.2499682669109235}. Best is trial 61 with value: 0.8357589984350549.\u001b[0m\n",
            "\u001b[32m[I 2021-04-30 18:44:09,935]\u001b[0m Trial 382 finished with value: 0.8231611893583726 and parameters: {'colsample_bytree': 0.37090473803635104, 'gamma': 5, 'learning_rate': 0.14941407154918956, 'max_depth': 5, 'min_child_weight': 1, 'reg_alpha': 0.6222699347708124, 'reg_lambda': 0.40690975442814137, 'subsample': 0.8671433418164601}. Best is trial 61 with value: 0.8357589984350549.\u001b[0m\n",
            "\u001b[32m[I 2021-04-30 18:44:10,396]\u001b[0m Trial 383 finished with value: 0.8200899843505477 and parameters: {'colsample_bytree': 0.3064643149165089, 'gamma': 3, 'learning_rate': 0.18181618315666098, 'max_depth': 5, 'min_child_weight': 1, 'reg_alpha': 0.6582610694464706, 'reg_lambda': 0.4462248172897975, 'subsample': 0.7700765224047996}. Best is trial 61 with value: 0.8357589984350549.\u001b[0m\n",
            "\u001b[32m[I 2021-04-30 18:44:10,864]\u001b[0m Trial 384 finished with value: 0.8286971830985916 and parameters: {'colsample_bytree': 0.41942927128160723, 'gamma': 1, 'learning_rate': 0.20276703475151261, 'max_depth': 6, 'min_child_weight': 1, 'reg_alpha': 0.6065544101400983, 'reg_lambda': 0.39941727453923614, 'subsample': 0.3056554885420789}. Best is trial 61 with value: 0.8357589984350549.\u001b[0m\n",
            "\u001b[32m[I 2021-04-30 18:44:11,311]\u001b[0m Trial 385 finished with value: 0.8216549295774648 and parameters: {'colsample_bytree': 0.3198428275207364, 'gamma': 5, 'learning_rate': 0.1866723498310869, 'max_depth': 5, 'min_child_weight': 1, 'reg_alpha': 0.6411932422998987, 'reg_lambda': 0.593708647100236, 'subsample': 0.82178182283319}. Best is trial 61 with value: 0.8357589984350549.\u001b[0m\n",
            "\u001b[32m[I 2021-04-30 18:44:11,782]\u001b[0m Trial 386 finished with value: 0.8132433489827857 and parameters: {'colsample_bytree': 0.351730925665345, 'gamma': 4, 'learning_rate': 0.19640034754970526, 'max_depth': 6, 'min_child_weight': 1, 'reg_alpha': 0.6812384173398194, 'reg_lambda': 0.4320961284370053, 'subsample': 0.7316792188904302}. Best is trial 61 with value: 0.8357589984350549.\u001b[0m\n",
            "\u001b[32m[I 2021-04-30 18:44:12,231]\u001b[0m Trial 387 finished with value: 0.8215571205007824 and parameters: {'colsample_bytree': 0.3313030849903287, 'gamma': 7, 'learning_rate': 0.17162492117668432, 'max_depth': 5, 'min_child_weight': 1, 'reg_alpha': 0.6285141715914775, 'reg_lambda': 0.6136984141683862, 'subsample': 0.861024059083404}. Best is trial 61 with value: 0.8357589984350549.\u001b[0m\n",
            "\u001b[32m[I 2021-04-30 18:44:12,664]\u001b[0m Trial 388 finished with value: 0.8130868544600938 and parameters: {'colsample_bytree': 0.36664593156823916, 'gamma': 2, 'learning_rate': 0.17756007477436794, 'max_depth': 6, 'min_child_weight': 1, 'reg_alpha': 0.5978063414140785, 'reg_lambda': 0.4198680452015776, 'subsample': 0.23198655220581596}. Best is trial 61 with value: 0.8357589984350549.\u001b[0m\n",
            "\u001b[32m[I 2021-04-30 18:44:13,103]\u001b[0m Trial 389 finished with value: 0.8174687010954618 and parameters: {'colsample_bytree': 0.2838124197538481, 'gamma': 5, 'learning_rate': 0.19137109615197073, 'max_depth': 5, 'min_child_weight': 2, 'reg_alpha': 0.6483725041240842, 'reg_lambda': 0.576680231361501, 'subsample': 0.581955392044421}. Best is trial 61 with value: 0.8357589984350549.\u001b[0m\n",
            "\u001b[32m[I 2021-04-30 18:44:13,562]\u001b[0m Trial 390 finished with value: 0.8330203442879499 and parameters: {'colsample_bytree': 0.34594717511065, 'gamma': 2, 'learning_rate': 0.20530096438852563, 'max_depth': 5, 'min_child_weight': 1, 'reg_alpha': 0.6137091472421324, 'reg_lambda': 0.6006473145218446, 'subsample': 0.7952937582277326}. Best is trial 61 with value: 0.8357589984350549.\u001b[0m\n",
            "\u001b[32m[I 2021-04-30 18:44:13,985]\u001b[0m Trial 391 finished with value: 0.81731220657277 and parameters: {'colsample_bytree': 0.3215525571933692, 'gamma': 2, 'learning_rate': 0.22210619585518487, 'max_depth': 4, 'min_child_weight': 1, 'reg_alpha': 0.611716779229014, 'reg_lambda': 0.6014630606964143, 'subsample': 0.8990423701755973}. Best is trial 61 with value: 0.8357589984350549.\u001b[0m\n",
            "\u001b[32m[I 2021-04-30 18:44:14,505]\u001b[0m Trial 392 finished with value: 0.8257824726134585 and parameters: {'colsample_bytree': 0.37908007161542817, 'gamma': 2, 'learning_rate': 0.20899729377020632, 'max_depth': 5, 'min_child_weight': 1, 'reg_alpha': 0.592030546175024, 'reg_lambda': 0.6273869956166234, 'subsample': 0.7491992997552238}. Best is trial 61 with value: 0.8357589984350549.\u001b[0m\n",
            "\u001b[32m[I 2021-04-30 18:44:14,929]\u001b[0m Trial 393 finished with value: 0.8186815336463225 and parameters: {'colsample_bytree': 0.3467810542497202, 'gamma': 2, 'learning_rate': 0.21799755044623673, 'max_depth': 5, 'min_child_weight': 5, 'reg_alpha': 0.6180455423744228, 'reg_lambda': 0.586112802121663, 'subsample': 0.7015749885763457}. Best is trial 61 with value: 0.8357589984350549.\u001b[0m\n",
            "\u001b[32m[I 2021-04-30 18:44:15,384]\u001b[0m Trial 394 finished with value: 0.8370892018779342 and parameters: {'colsample_bytree': 0.3049238394758271, 'gamma': 2, 'learning_rate': 0.3863010425467685, 'max_depth': 6, 'min_child_weight': 2, 'reg_alpha': 0.5840747324598853, 'reg_lambda': 0.6579249479737113, 'subsample': 0.7738863557590016}. Best is trial 394 with value: 0.8370892018779342.\u001b[0m\n",
            "\u001b[32m[I 2021-04-30 18:44:15,838]\u001b[0m Trial 395 finished with value: 0.828462441314554 and parameters: {'colsample_bytree': 0.33049761127564964, 'gamma': 2, 'learning_rate': 0.43516005278560854, 'max_depth': 6, 'min_child_weight': 2, 'reg_alpha': 0.5779142491356263, 'reg_lambda': 0.6172722986395528, 'subsample': 0.7219762873469209}. Best is trial 394 with value: 0.8370892018779342.\u001b[0m\n",
            "\u001b[32m[I 2021-04-30 18:44:16,281]\u001b[0m Trial 396 finished with value: 0.8272496087636932 and parameters: {'colsample_bytree': 0.3010600570908589, 'gamma': 2, 'learning_rate': 0.42413205143710736, 'max_depth': 5, 'min_child_weight': 2, 'reg_alpha': 0.5890035573495493, 'reg_lambda': 0.6517142279850969, 'subsample': 0.6758721141205587}. Best is trial 394 with value: 0.8370892018779342.\u001b[0m\n",
            "\u001b[32m[I 2021-04-30 18:44:16,667]\u001b[0m Trial 397 finished with value: 0.8145344287949922 and parameters: {'colsample_bytree': 0.2632544672471107, 'gamma': 2, 'learning_rate': 0.40204144676892506, 'max_depth': 6, 'min_child_weight': 4, 'reg_alpha': 0.5703360455791222, 'reg_lambda': 0.6391174033976562, 'subsample': 0.7742883452935408}. Best is trial 394 with value: 0.8370892018779342.\u001b[0m\n",
            "\u001b[32m[I 2021-04-30 18:44:17,115]\u001b[0m Trial 398 finished with value: 0.8188380281690142 and parameters: {'colsample_bytree': 0.3154796001003023, 'gamma': 1, 'learning_rate': 0.3921181178495429, 'max_depth': 5, 'min_child_weight': 1, 'reg_alpha': 0.6075177723733661, 'reg_lambda': 0.6039916256024781, 'subsample': 0.7812369231485927}. Best is trial 394 with value: 0.8370892018779342.\u001b[0m\n",
            "\u001b[32m[I 2021-04-30 18:44:17,490]\u001b[0m Trial 399 finished with value: 0.8188771517996871 and parameters: {'colsample_bytree': 0.33951318513341805, 'gamma': 2, 'learning_rate': 0.47212834825771244, 'max_depth': 5, 'min_child_weight': 4, 'reg_alpha': 0.5995783979782335, 'reg_lambda': 0.5641166288702851, 'subsample': 0.3186400834591865}. Best is trial 394 with value: 0.8370892018779342.\u001b[0m\n",
            "\u001b[32m[I 2021-04-30 18:44:17,951]\u001b[0m Trial 400 finished with value: 0.8314162754303599 and parameters: {'colsample_bytree': 0.2918640531969962, 'gamma': 2, 'learning_rate': 0.3818679935225034, 'max_depth': 6, 'min_child_weight': 2, 'reg_alpha': 0.5658869367271729, 'reg_lambda': 0.594424207093248, 'subsample': 0.8011144975401138}. Best is trial 394 with value: 0.8370892018779342.\u001b[0m\n",
            "\u001b[32m[I 2021-04-30 18:44:18,405]\u001b[0m Trial 401 finished with value: 0.8160211267605634 and parameters: {'colsample_bytree': 0.2999133815631012, 'gamma': 2, 'learning_rate': 0.30264064084522585, 'max_depth': 6, 'min_child_weight': 3, 'reg_alpha': 0.5715560926583619, 'reg_lambda': 0.6424672405682699, 'subsample': 0.7606386080505438}. Best is trial 394 with value: 0.8370892018779342.\u001b[0m\n",
            "\u001b[32m[I 2021-04-30 18:44:18,833]\u001b[0m Trial 402 finished with value: 0.8217136150234742 and parameters: {'colsample_bytree': 0.2807548237968427, 'gamma': 2, 'learning_rate': 0.37643228320456845, 'max_depth': 6, 'min_child_weight': 3, 'reg_alpha': 0.589462272478425, 'reg_lambda': 0.6932131895760201, 'subsample': 0.7291490494799181}. Best is trial 394 with value: 0.8370892018779342.\u001b[0m\n",
            "\u001b[32m[I 2021-04-30 18:44:19,292]\u001b[0m Trial 403 finished with value: 0.817527386541471 and parameters: {'colsample_bytree': 0.29429962512782026, 'gamma': 2, 'learning_rate': 0.4007267971417174, 'max_depth': 6, 'min_child_weight': 1, 'reg_alpha': 0.5816419758235607, 'reg_lambda': 0.5960718016776245, 'subsample': 0.8004855095270792}. Best is trial 394 with value: 0.8370892018779342.\u001b[0m\n",
            "\u001b[32m[I 2021-04-30 18:44:19,741]\u001b[0m Trial 404 finished with value: 0.8357394366197184 and parameters: {'colsample_bytree': 0.30449930502493794, 'gamma': 2, 'learning_rate': 0.463783227155529, 'max_depth': 6, 'min_child_weight': 2, 'reg_alpha': 0.558357665672708, 'reg_lambda': 0.6179066779803924, 'subsample': 0.7933851242115171}. Best is trial 394 with value: 0.8370892018779342.\u001b[0m\n",
            "\u001b[32m[I 2021-04-30 18:44:20,188]\u001b[0m Trial 405 finished with value: 0.8342918622848201 and parameters: {'colsample_bytree': 0.27718946285439316, 'gamma': 2, 'learning_rate': 0.48642496467877694, 'max_depth': 6, 'min_child_weight': 2, 'reg_alpha': 0.5636311433258895, 'reg_lambda': 0.6280183503828252, 'subsample': 0.7505595083517789}. Best is trial 394 with value: 0.8370892018779342.\u001b[0m\n",
            "\u001b[32m[I 2021-04-30 18:44:20,655]\u001b[0m Trial 406 finished with value: 0.841255868544601 and parameters: {'colsample_bytree': 0.28612415913244144, 'gamma': 2, 'learning_rate': 0.4469827439095219, 'max_depth': 6, 'min_child_weight': 2, 'reg_alpha': 0.5410620298506591, 'reg_lambda': 0.6357119457163469, 'subsample': 0.7508878544456185}. Best is trial 406 with value: 0.841255868544601.\u001b[0m\n",
            "\u001b[32m[I 2021-04-30 18:44:21,054]\u001b[0m Trial 407 finished with value: 0.821537558685446 and parameters: {'colsample_bytree': 0.2577772910660123, 'gamma': 2, 'learning_rate': 0.49139051386385824, 'max_depth': 6, 'min_child_weight': 2, 'reg_alpha': 0.5454216090585338, 'reg_lambda': 0.6585431828204173, 'subsample': 0.7111931925432319}. Best is trial 406 with value: 0.841255868544601.\u001b[0m\n",
            "\u001b[32m[I 2021-04-30 18:44:21,497]\u001b[0m Trial 408 finished with value: 0.8259194053208138 and parameters: {'colsample_bytree': 0.2848316144575124, 'gamma': 2, 'learning_rate': 0.46407321419530273, 'max_depth': 6, 'min_child_weight': 3, 'reg_alpha': 0.5394356208584157, 'reg_lambda': 0.6694670909211781, 'subsample': 0.6902101571431492}. Best is trial 406 with value: 0.841255868544601.\u001b[0m\n",
            "\u001b[32m[I 2021-04-30 18:44:21,945]\u001b[0m Trial 409 finished with value: 0.814651799687011 and parameters: {'colsample_bytree': 0.2735138276944546, 'gamma': 2, 'learning_rate': 0.4827636451250674, 'max_depth': 6, 'min_child_weight': 2, 'reg_alpha': 0.558433043810707, 'reg_lambda': 0.6726479631333133, 'subsample': 0.7147107135517299}. Best is trial 406 with value: 0.841255868544601.\u001b[0m\n",
            "\u001b[32m[I 2021-04-30 18:44:22,410]\u001b[0m Trial 410 finished with value: 0.8244522691705791 and parameters: {'colsample_bytree': 0.27838097921682553, 'gamma': 2, 'learning_rate': 0.4439125797320496, 'max_depth': 6, 'min_child_weight': 2, 'reg_alpha': 0.5322121722070823, 'reg_lambda': 0.6322749267888245, 'subsample': 0.7397020497995301}. Best is trial 406 with value: 0.841255868544601.\u001b[0m\n",
            "\u001b[32m[I 2021-04-30 18:44:22,892]\u001b[0m Trial 411 finished with value: 0.8216353677621283 and parameters: {'colsample_bytree': 0.28506574833444337, 'gamma': 2, 'learning_rate': 0.4523760940283751, 'max_depth': 6, 'min_child_weight': 2, 'reg_alpha': 0.5590772371006753, 'reg_lambda': 0.6493243142029774, 'subsample': 0.7655586107792879}. Best is trial 406 with value: 0.841255868544601.\u001b[0m\n",
            "\u001b[32m[I 2021-04-30 18:44:23,340]\u001b[0m Trial 412 finished with value: 0.8116784037558686 and parameters: {'colsample_bytree': 0.2853320809306812, 'gamma': 1, 'learning_rate': 0.5041326913981683, 'max_depth': 6, 'min_child_weight': 2, 'reg_alpha': 0.5774642389789529, 'reg_lambda': 0.6232229687146352, 'subsample': 0.7387765661925108}. Best is trial 406 with value: 0.841255868544601.\u001b[0m\n",
            "\u001b[32m[I 2021-04-30 18:44:23,735]\u001b[0m Trial 413 finished with value: 0.8131455399061034 and parameters: {'colsample_bytree': 0.2504689220112819, 'gamma': 2, 'learning_rate': 0.4164560333997085, 'max_depth': 6, 'min_child_weight': 2, 'reg_alpha': 0.5526036872435286, 'reg_lambda': 0.6574638663838601, 'subsample': 0.6877258344828385}. Best is trial 406 with value: 0.841255868544601.\u001b[0m\n",
            "\u001b[32m[I 2021-04-30 18:44:24,183]\u001b[0m Trial 414 finished with value: 0.815923317683881 and parameters: {'colsample_bytree': 0.29388841060722437, 'gamma': 2, 'learning_rate': 0.4737557258985453, 'max_depth': 6, 'min_child_weight': 2, 'reg_alpha': 0.5371721096332553, 'reg_lambda': 0.6309413727683736, 'subsample': 0.730904494817415}. Best is trial 406 with value: 0.841255868544601.\u001b[0m\n",
            "\u001b[32m[I 2021-04-30 18:44:24,595]\u001b[0m Trial 415 finished with value: 0.8216744913928012 and parameters: {'colsample_bytree': 0.26867222539824737, 'gamma': 1, 'learning_rate': 0.5360361032022445, 'max_depth': 6, 'min_child_weight': 2, 'reg_alpha': 0.5409297174559383, 'reg_lambda': 0.6114168199949164, 'subsample': 0.6434655895313919}. Best is trial 406 with value: 0.841255868544601.\u001b[0m\n",
            "\u001b[32m[I 2021-04-30 18:44:25,093]\u001b[0m Trial 416 finished with value: 0.8272496087636931 and parameters: {'colsample_bytree': 0.3973818265201093, 'gamma': 2, 'learning_rate': 0.45566454232517345, 'max_depth': 6, 'min_child_weight': 2, 'reg_alpha': 0.5458524639288598, 'reg_lambda': 0.6287150605736336, 'subsample': 0.7642673613566388}. Best is trial 406 with value: 0.841255868544601.\u001b[0m\n",
            "\u001b[32m[I 2021-04-30 18:44:25,544]\u001b[0m Trial 417 finished with value: 0.8201682316118936 and parameters: {'colsample_bytree': 0.2805496791162236, 'gamma': 2, 'learning_rate': 0.46239324981237073, 'max_depth': 6, 'min_child_weight': 2, 'reg_alpha': 0.5761402550329751, 'reg_lambda': 0.6423357238638073, 'subsample': 0.7787052986634568}. Best is trial 406 with value: 0.841255868544601.\u001b[0m\n",
            "\u001b[32m[I 2021-04-30 18:44:25,942]\u001b[0m Trial 418 finished with value: 0.8342331768388107 and parameters: {'colsample_bytree': 0.26510406488249494, 'gamma': 2, 'learning_rate': 0.36645035186230435, 'max_depth': 6, 'min_child_weight': 2, 'reg_alpha': 0.5567189881613227, 'reg_lambda': 0.6845939695710536, 'subsample': 0.7665461935160195}. Best is trial 406 with value: 0.841255868544601.\u001b[0m\n",
            "\u001b[32m[I 2021-04-30 18:44:26,344]\u001b[0m Trial 419 finished with value: 0.8188184663536777 and parameters: {'colsample_bytree': 0.24473554037132, 'gamma': 2, 'learning_rate': 0.3623912395272107, 'max_depth': 6, 'min_child_weight': 2, 'reg_alpha': 0.5132035047762548, 'reg_lambda': 0.6215574093768148, 'subsample': 0.7414368833807801}. Best is trial 406 with value: 0.841255868544601.\u001b[0m\n",
            "\u001b[32m[I 2021-04-30 18:44:26,800]\u001b[0m Trial 420 finished with value: 0.8118544600938968 and parameters: {'colsample_bytree': 0.280856785635087, 'gamma': 2, 'learning_rate': 0.38181962925185586, 'max_depth': 6, 'min_child_weight': 2, 'reg_alpha': 0.5595481223556943, 'reg_lambda': 0.7003475233842482, 'subsample': 0.6820376791679177}. Best is trial 406 with value: 0.841255868544601.\u001b[0m\n",
            "\u001b[32m[I 2021-04-30 18:44:27,198]\u001b[0m Trial 421 finished with value: 0.8257433489827857 and parameters: {'colsample_bytree': 0.2542810070654173, 'gamma': 2, 'learning_rate': 0.34711738436682343, 'max_depth': 6, 'min_child_weight': 2, 'reg_alpha': 0.5207371852013585, 'reg_lambda': 0.6706710984268016, 'subsample': 0.7534253427635286}. Best is trial 406 with value: 0.841255868544601.\u001b[0m\n",
            "\u001b[32m[I 2021-04-30 18:44:27,595]\u001b[0m Trial 422 finished with value: 0.8244522691705789 and parameters: {'colsample_bytree': 0.26490599894098016, 'gamma': 1, 'learning_rate': 0.4929999228286925, 'max_depth': 6, 'min_child_weight': 2, 'reg_alpha': 0.5598339067951116, 'reg_lambda': 0.6863987330609945, 'subsample': 0.7821941387102486}. Best is trial 406 with value: 0.841255868544601.\u001b[0m\n",
            "\u001b[32m[I 2021-04-30 18:44:27,994]\u001b[0m Trial 423 finished with value: 0.8257433489827856 and parameters: {'colsample_bytree': 0.22715843157997792, 'gamma': 2, 'learning_rate': 0.393524901986099, 'max_depth': 6, 'min_child_weight': 2, 'reg_alpha': 0.5534344417570027, 'reg_lambda': 0.7203298131067444, 'subsample': 0.7268227591217957}. Best is trial 406 with value: 0.841255868544601.\u001b[0m\n",
            "\u001b[32m[I 2021-04-30 18:44:28,397]\u001b[0m Trial 424 finished with value: 0.8214201877934272 and parameters: {'colsample_bytree': 0.2692320352307351, 'gamma': 2, 'learning_rate': 0.41054164824408407, 'max_depth': 6, 'min_child_weight': 2, 'reg_alpha': 0.5256598886882738, 'reg_lambda': 0.6840498332649085, 'subsample': 0.7606892565507594}. Best is trial 406 with value: 0.841255868544601.\u001b[0m\n",
            "\u001b[32m[I 2021-04-30 18:44:28,780]\u001b[0m Trial 425 finished with value: 0.8160798122065728 and parameters: {'colsample_bytree': 0.2651064704528636, 'gamma': 0, 'learning_rate': 0.36706085788776727, 'max_depth': 6, 'min_child_weight': 2, 'reg_alpha': 0.5678844393457908, 'reg_lambda': 0.6488039124114301, 'subsample': 0.7981245646544782}. Best is trial 406 with value: 0.841255868544601.\u001b[0m\n",
            "\u001b[32m[I 2021-04-30 18:44:29,166]\u001b[0m Trial 426 finished with value: 0.8299882629107982 and parameters: {'colsample_bytree': 0.27043928726504973, 'gamma': 2, 'learning_rate': 0.45324904648304915, 'max_depth': 6, 'min_child_weight': 2, 'reg_alpha': 0.5617493275993051, 'reg_lambda': 0.6147454442283455, 'subsample': 0.7048783544865723}. Best is trial 406 with value: 0.841255868544601.\u001b[0m\n",
            "\u001b[32m[I 2021-04-30 18:44:29,578]\u001b[0m Trial 427 finished with value: 0.8315727699530516 and parameters: {'colsample_bytree': 0.23926813327768787, 'gamma': 1, 'learning_rate': 0.521904820398803, 'max_depth': 6, 'min_child_weight': 2, 'reg_alpha': 0.5518931778337965, 'reg_lambda': 0.7041133845919748, 'subsample': 0.7952604808631497}. Best is trial 406 with value: 0.841255868544601.\u001b[0m\n",
            "\u001b[32m[I 2021-04-30 18:44:29,934]\u001b[0m Trial 428 finished with value: 0.815962441314554 and parameters: {'colsample_bytree': 0.2152005919392572, 'gamma': 1, 'learning_rate': 0.439484825166704, 'max_depth': 6, 'min_child_weight': 2, 'reg_alpha': 0.5399148934557111, 'reg_lambda': 0.7381710310633228, 'subsample': 0.2825578295180927}. Best is trial 406 with value: 0.841255868544601.\u001b[0m\n",
            "\u001b[32m[I 2021-04-30 18:44:30,336]\u001b[0m Trial 429 finished with value: 0.8090179968701096 and parameters: {'colsample_bytree': 0.2530919573471749, 'gamma': 1, 'learning_rate': 0.37076851945982914, 'max_depth': 6, 'min_child_weight': 2, 'reg_alpha': 0.5660477064681909, 'reg_lambda': 0.711674987565604, 'subsample': 0.7518899858213649}. Best is trial 406 with value: 0.841255868544601.\u001b[0m\n",
            "\u001b[32m[I 2021-04-30 18:44:30,803]\u001b[0m Trial 430 finished with value: 0.8259780907668232 and parameters: {'colsample_bytree': 0.30741712933240045, 'gamma': 1, 'learning_rate': 0.5164250890054477, 'max_depth': 6, 'min_child_weight': 2, 'reg_alpha': 0.5491625445038599, 'reg_lambda': 0.750922643081072, 'subsample': 0.6528634388117396}. Best is trial 406 with value: 0.841255868544601.\u001b[0m\n",
            "\u001b[32m[I 2021-04-30 18:44:31,194]\u001b[0m Trial 431 finished with value: 0.8272300469483568 and parameters: {'colsample_bytree': 0.20473729346468614, 'gamma': 1, 'learning_rate': 0.4948298082216487, 'max_depth': 6, 'min_child_weight': 2, 'reg_alpha': 0.5444051740381946, 'reg_lambda': 0.7095698548498197, 'subsample': 0.7881651419709995}. Best is trial 406 with value: 0.841255868544601.\u001b[0m\n",
            "\u001b[32m[I 2021-04-30 18:44:31,574]\u001b[0m Trial 432 finished with value: 0.8090962441314554 and parameters: {'colsample_bytree': 0.22488994515055874, 'gamma': 1, 'learning_rate': 0.5786061799607318, 'max_depth': 6, 'min_child_weight': 2, 'reg_alpha': 0.5524112241010608, 'reg_lambda': 0.6779938228793574, 'subsample': 0.39023542713852477}. Best is trial 406 with value: 0.841255868544601.\u001b[0m\n",
            "\u001b[32m[I 2021-04-30 18:44:31,973]\u001b[0m Trial 433 finished with value: 0.8216549295774648 and parameters: {'colsample_bytree': 0.23141138630974814, 'gamma': 2, 'learning_rate': 0.5165602680201324, 'max_depth': 6, 'min_child_weight': 2, 'reg_alpha': 0.569536467651394, 'reg_lambda': 0.6631762745965257, 'subsample': 0.7238687302364529}. Best is trial 406 with value: 0.841255868544601.\u001b[0m\n",
            "\u001b[32m[I 2021-04-30 18:44:32,378]\u001b[0m Trial 434 finished with value: 0.8216744913928012 and parameters: {'colsample_bytree': 0.2570932241607149, 'gamma': 1, 'learning_rate': 0.5270714062826992, 'max_depth': 6, 'min_child_weight': 2, 'reg_alpha': 0.5603586376510526, 'reg_lambda': 0.6882526500092627, 'subsample': 0.7933366390225303}. Best is trial 406 with value: 0.841255868544601.\u001b[0m\n",
            "\u001b[32m[I 2021-04-30 18:44:32,878]\u001b[0m Trial 435 finished with value: 0.8188771517996871 and parameters: {'colsample_bytree': 0.41979621952150914, 'gamma': 2, 'learning_rate': 0.33265937127063017, 'max_depth': 6, 'min_child_weight': 3, 'reg_alpha': 0.5776417986860005, 'reg_lambda': 0.6933487467974943, 'subsample': 0.7586207035960756}. Best is trial 406 with value: 0.841255868544601.\u001b[0m\n",
            "\u001b[32m[I 2021-04-30 18:44:33,278]\u001b[0m Trial 436 finished with value: 0.8259976525821596 and parameters: {'colsample_bytree': 0.2490989371779931, 'gamma': 1, 'learning_rate': 0.3846512691624984, 'max_depth': 6, 'min_child_weight': 2, 'reg_alpha': 0.5349463223469166, 'reg_lambda': 0.6060267754935467, 'subsample': 0.8074754949267166}. Best is trial 406 with value: 0.841255868544601.\u001b[0m\n",
            "\u001b[32m[I 2021-04-30 18:44:33,823]\u001b[0m Trial 437 finished with value: 0.8256846635367762 and parameters: {'colsample_bytree': 0.49870418386810367, 'gamma': 2, 'learning_rate': 0.4716392284487853, 'max_depth': 6, 'min_child_weight': 2, 'reg_alpha': 0.5650704457268183, 'reg_lambda': 0.5847750553250539, 'subsample': 0.7778734147774898}. Best is trial 406 with value: 0.841255868544601.\u001b[0m\n",
            "\u001b[32m[I 2021-04-30 18:44:34,233]\u001b[0m Trial 438 finished with value: 0.8272691705790297 and parameters: {'colsample_bytree': 0.23244146322282835, 'gamma': 2, 'learning_rate': 0.5460859698212858, 'max_depth': 6, 'min_child_weight': 2, 'reg_alpha': 0.5511153845852448, 'reg_lambda': 0.7251557033872991, 'subsample': 0.7049073730361047}. Best is trial 406 with value: 0.841255868544601.\u001b[0m\n",
            "\u001b[32m[I 2021-04-30 18:44:34,700]\u001b[0m Trial 439 finished with value: 0.8272887323943662 and parameters: {'colsample_bytree': 0.29355860994668564, 'gamma': 1, 'learning_rate': 0.42038501007018714, 'max_depth': 6, 'min_child_weight': 2, 'reg_alpha': 0.5247787706976951, 'reg_lambda': 0.6141365067362109, 'subsample': 0.818813367827123}. Best is trial 406 with value: 0.841255868544601.\u001b[0m\n",
            "\u001b[32m[I 2021-04-30 18:44:35,208]\u001b[0m Trial 440 finished with value: 0.8272104851330205 and parameters: {'colsample_bytree': 0.4415938415147592, 'gamma': 2, 'learning_rate': 0.35924947536691243, 'max_depth': 6, 'min_child_weight': 2, 'reg_alpha': 0.5863025373016364, 'reg_lambda': 0.597257927691563, 'subsample': 0.7407759416915882}. Best is trial 406 with value: 0.841255868544601.\u001b[0m\n",
            "\u001b[32m[I 2021-04-30 18:44:35,711]\u001b[0m Trial 441 finished with value: 0.8300860719874805 and parameters: {'colsample_bytree': 0.38719849097458586, 'gamma': 2, 'learning_rate': 0.37836809961953916, 'max_depth': 7, 'min_child_weight': 3, 'reg_alpha': 0.5513757407600969, 'reg_lambda': 0.5791493532897317, 'subsample': 0.8125720632182252}. Best is trial 406 with value: 0.841255868544601.\u001b[0m\n",
            "\u001b[32m[I 2021-04-30 18:44:36,083]\u001b[0m Trial 442 finished with value: 0.8327856025039123 and parameters: {'colsample_bytree': 0.24562202988775636, 'gamma': 2, 'learning_rate': 0.4243498025697416, 'max_depth': 3, 'min_child_weight': 2, 'reg_alpha': 0.5693619520970254, 'reg_lambda': 0.7007633592275507, 'subsample': 0.7721196463555242}. Best is trial 406 with value: 0.841255868544601.\u001b[0m\n",
            "\u001b[32m[I 2021-04-30 18:44:36,476]\u001b[0m Trial 443 finished with value: 0.82018779342723 and parameters: {'colsample_bytree': 0.2337375593350017, 'gamma': 2, 'learning_rate': 0.41827455501233834, 'max_depth': 3, 'min_child_weight': 2, 'reg_alpha': 0.5695288931484896, 'reg_lambda': 0.6987494203602197, 'subsample': 0.7627173882925559}. Best is trial 406 with value: 0.841255868544601.\u001b[0m\n",
            "\u001b[32m[I 2021-04-30 18:44:36,878]\u001b[0m Trial 444 finished with value: 0.8258998435054773 and parameters: {'colsample_bytree': 0.25204045211914433, 'gamma': 2, 'learning_rate': 0.43923456591817606, 'max_depth': 6, 'min_child_weight': 2, 'reg_alpha': 0.5602134661493541, 'reg_lambda': 0.6685997530328667, 'subsample': 0.7175134031726528}. Best is trial 406 with value: 0.841255868544601.\u001b[0m\n",
            "\u001b[32m[I 2021-04-30 18:44:37,250]\u001b[0m Trial 445 finished with value: 0.8242957746478874 and parameters: {'colsample_bytree': 0.25593797210012365, 'gamma': 2, 'learning_rate': 0.40377821025953015, 'max_depth': 3, 'min_child_weight': 2, 'reg_alpha': 0.5410809743210779, 'reg_lambda': 0.6946719785518466, 'subsample': 0.6777008206952805}. Best is trial 406 with value: 0.841255868544601.\u001b[0m\n",
            "\u001b[32m[I 2021-04-30 18:44:37,645]\u001b[0m Trial 446 finished with value: 0.8103090766823161 and parameters: {'colsample_bytree': 0.24144125969102712, 'gamma': 2, 'learning_rate': 0.43922711310681484, 'max_depth': 6, 'min_child_weight': 2, 'reg_alpha': 0.5817908922309375, 'reg_lambda': 0.3785611778158339, 'subsample': 0.7760178227964132}. Best is trial 406 with value: 0.841255868544601.\u001b[0m\n",
            "\u001b[32m[I 2021-04-30 18:44:37,995]\u001b[0m Trial 447 finished with value: 0.8144561815336463 and parameters: {'colsample_bytree': 0.2639095703243447, 'gamma': 2, 'learning_rate': 0.40667353008732143, 'max_depth': 3, 'min_child_weight': 2, 'reg_alpha': 0.5655826634051919, 'reg_lambda': 0.6747575583295052, 'subsample': 0.7947077377123499}. Best is trial 406 with value: 0.841255868544601.\u001b[0m\n",
            "\u001b[32m[I 2021-04-30 18:44:38,365]\u001b[0m Trial 448 finished with value: 0.809076682316119 and parameters: {'colsample_bytree': 0.27400001824487413, 'gamma': 1, 'learning_rate': 0.4255936326450348, 'max_depth': 3, 'min_child_weight': 2, 'reg_alpha': 0.5521445261711188, 'reg_lambda': 0.6559745500517188, 'subsample': 0.17605933626362785}. Best is trial 406 with value: 0.841255868544601.\u001b[0m\n",
            "\u001b[32m[I 2021-04-30 18:44:38,754]\u001b[0m Trial 449 finished with value: 0.8187793427230048 and parameters: {'colsample_bytree': 0.23587470048727024, 'gamma': 2, 'learning_rate': 0.4768463705603972, 'max_depth': 6, 'min_child_weight': 2, 'reg_alpha': 0.5786621035510269, 'reg_lambda': 0.7074852463698353, 'subsample': 0.7416259636694011}. Best is trial 406 with value: 0.841255868544601.\u001b[0m\n",
            "\u001b[32m[I 2021-04-30 18:44:39,106]\u001b[0m Trial 450 finished with value: 0.8160015649452269 and parameters: {'colsample_bytree': 0.24245698113115072, 'gamma': 2, 'learning_rate': 0.3881091721992002, 'max_depth': 6, 'min_child_weight': 2, 'reg_alpha': 0.5310704625773818, 'reg_lambda': 0.7349539910974087, 'subsample': 0.24273385955897375}. Best is trial 406 with value: 0.841255868544601.\u001b[0m\n",
            "\u001b[32m[I 2021-04-30 18:44:39,526]\u001b[0m Trial 451 finished with value: 0.8229851330203444 and parameters: {'colsample_bytree': 0.23928738979930197, 'gamma': 2, 'learning_rate': 0.4317519579456481, 'max_depth': 6, 'min_child_weight': 2, 'reg_alpha': 0.5724481018350052, 'reg_lambda': 0.5916693556914144, 'subsample': 0.8167136962262876}. Best is trial 406 with value: 0.841255868544601.\u001b[0m\n",
            "\u001b[32m[I 2021-04-30 18:44:39,982]\u001b[0m Trial 452 finished with value: 0.8301447574334899 and parameters: {'colsample_bytree': 0.3047565678655483, 'gamma': 1, 'learning_rate': 0.45188093772544397, 'max_depth': 6, 'min_child_weight': 2, 'reg_alpha': 0.5473684161827702, 'reg_lambda': 0.7212318195985968, 'subsample': 0.7705244749219844}. Best is trial 406 with value: 0.841255868544601.\u001b[0m\n",
            "\u001b[32m[I 2021-04-30 18:44:40,371]\u001b[0m Trial 453 finished with value: 0.8146322378716746 and parameters: {'colsample_bytree': 0.24879391035723278, 'gamma': 0, 'learning_rate': 0.45403441248291093, 'max_depth': 6, 'min_child_weight': 5, 'reg_alpha': 0.5835785564310996, 'reg_lambda': 0.6133830582959131, 'subsample': 0.8307293279027969}. Best is trial 406 with value: 0.841255868544601.\u001b[0m\n",
            "\u001b[32m[I 2021-04-30 18:44:40,811]\u001b[0m Trial 454 finished with value: 0.822926447574335 and parameters: {'colsample_bytree': 0.319993560135745, 'gamma': 2, 'learning_rate': 0.49096575665268893, 'max_depth': 6, 'min_child_weight': 3, 'reg_alpha': 0.5901864647060758, 'reg_lambda': 0.6305400851800008, 'subsample': 0.7046968906051759}. Best is trial 406 with value: 0.841255868544601.\u001b[0m\n",
            "\u001b[32m[I 2021-04-30 18:44:41,256]\u001b[0m Trial 455 finished with value: 0.8145931142410016 and parameters: {'colsample_bytree': 0.2939600753927277, 'gamma': 1, 'learning_rate': 0.34826349183631206, 'max_depth': 6, 'min_child_weight': 2, 'reg_alpha': 0.5651834125070324, 'reg_lambda': 0.6458059258978178, 'subsample': 0.7446487728879807}. Best is trial 406 with value: 0.841255868544601.\u001b[0m\n",
            "\u001b[32m[I 2021-04-30 18:44:41,648]\u001b[0m Trial 456 finished with value: 0.8244131455399062 and parameters: {'colsample_bytree': 0.26209820386732285, 'gamma': 2, 'learning_rate': 0.4684043628743014, 'max_depth': 6, 'min_child_weight': 2, 'reg_alpha': 0.5168899190275449, 'reg_lambda': 0.3870439186489047, 'subsample': 0.791646330338048}. Best is trial 406 with value: 0.841255868544601.\u001b[0m\n",
            "\u001b[32m[I 2021-04-30 18:44:42,103]\u001b[0m Trial 457 finished with value: 0.818838028169014 and parameters: {'colsample_bytree': 0.31062307733024874, 'gamma': 2, 'learning_rate': 0.24063232348005645, 'max_depth': 6, 'min_child_weight': 2, 'reg_alpha': 0.532449693257578, 'reg_lambda': 0.6045746090780514, 'subsample': 0.8363651190448532}. Best is trial 406 with value: 0.841255868544601.\u001b[0m\n",
            "\u001b[32m[I 2021-04-30 18:44:42,562]\u001b[0m Trial 458 finished with value: 0.8271909233176838 and parameters: {'colsample_bytree': 0.33606637673481043, 'gamma': 2, 'learning_rate': 0.4146106276962321, 'max_depth': 7, 'min_child_weight': 2, 'reg_alpha': 0.560026424762272, 'reg_lambda': 0.6848667470666135, 'subsample': 0.7888641160664713}. Best is trial 406 with value: 0.841255868544601.\u001b[0m\n",
            "\u001b[32m[I 2021-04-30 18:44:42,950]\u001b[0m Trial 459 finished with value: 0.8088223787167449 and parameters: {'colsample_bytree': 0.21920902062510325, 'gamma': 2, 'learning_rate': 0.48420391047220024, 'max_depth': 6, 'min_child_weight': 2, 'reg_alpha': 0.5904921279403492, 'reg_lambda': 0.6601725515935369, 'subsample': 0.7282722728508763}. Best is trial 406 with value: 0.841255868544601.\u001b[0m\n",
            "\u001b[32m[I 2021-04-30 18:44:43,372]\u001b[0m Trial 460 finished with value: 0.8187206572769954 and parameters: {'colsample_bytree': 0.2732405411276007, 'gamma': 1, 'learning_rate': 0.5604053947762047, 'max_depth': 6, 'min_child_weight': 3, 'reg_alpha': 0.5724332322054612, 'reg_lambda': 0.6225529826543965, 'subsample': 0.5052876747185772}. Best is trial 406 with value: 0.841255868544601.\u001b[0m\n",
            "\u001b[32m[I 2021-04-30 18:44:43,823]\u001b[0m Trial 461 finished with value: 0.8300665101721441 and parameters: {'colsample_bytree': 0.3272682341567355, 'gamma': 2, 'learning_rate': 0.39701421825694955, 'max_depth': 6, 'min_child_weight': 2, 'reg_alpha': 0.5472700073312933, 'reg_lambda': 0.7062360283061042, 'subsample': 0.8348000565312135}. Best is trial 406 with value: 0.841255868544601.\u001b[0m\n",
            "\u001b[32m[I 2021-04-30 18:44:44,247]\u001b[0m Trial 462 finished with value: 0.8188380281690142 and parameters: {'colsample_bytree': 0.3009528978019534, 'gamma': 1, 'learning_rate': 0.4428969872286289, 'max_depth': 6, 'min_child_weight': 4, 'reg_alpha': 0.557661384036667, 'reg_lambda': 0.5916828283583906, 'subsample': 0.7591620808091172}. Best is trial 406 with value: 0.841255868544601.\u001b[0m\n",
            "\u001b[32m[I 2021-04-30 18:44:44,710]\u001b[0m Trial 463 finished with value: 0.8286776212832552 and parameters: {'colsample_bytree': 0.3438460432448862, 'gamma': 2, 'learning_rate': 0.5062330463775357, 'max_depth': 6, 'min_child_weight': 2, 'reg_alpha': 0.6019875324155115, 'reg_lambda': 0.5757800920009423, 'subsample': 0.805896817311094}. Best is trial 406 with value: 0.841255868544601.\u001b[0m\n",
            "\u001b[32m[I 2021-04-30 18:44:45,029]\u001b[0m Trial 464 finished with value: 0.8034428794992176 and parameters: {'colsample_bytree': 0.3109078854619876, 'gamma': 2, 'learning_rate': 0.4142059361624556, 'max_depth': 6, 'min_child_weight': 5, 'reg_alpha': 0.5762278081701091, 'reg_lambda': 0.3921610957345207, 'subsample': 0.15768395979373487}. Best is trial 406 with value: 0.841255868544601.\u001b[0m\n",
            "\u001b[32m[I 2021-04-30 18:44:45,481]\u001b[0m Trial 465 finished with value: 0.8117566510172145 and parameters: {'colsample_bytree': 0.28904492215125316, 'gamma': 0, 'learning_rate': 0.3818949674835742, 'max_depth': 6, 'min_child_weight': 2, 'reg_alpha': 0.5986390336352455, 'reg_lambda': 0.6036625628034252, 'subsample': 0.662562729690844}. Best is trial 406 with value: 0.841255868544601.\u001b[0m\n",
            "\u001b[32m[I 2021-04-30 18:44:45,979]\u001b[0m Trial 466 finished with value: 0.8118740219092333 and parameters: {'colsample_bytree': 0.32489552318523646, 'gamma': 2, 'learning_rate': 0.5350603728178939, 'max_depth': 6, 'min_child_weight': 2, 'reg_alpha': 0.584755744971525, 'reg_lambda': 0.6367522932447913, 'subsample': 0.8528632245923402}. Best is trial 406 with value: 0.841255868544601.\u001b[0m\n",
            "\u001b[32m[I 2021-04-30 18:44:46,470]\u001b[0m Trial 467 finished with value: 0.831338028169014 and parameters: {'colsample_bytree': 0.36595208593007983, 'gamma': 1, 'learning_rate': 0.4304279464447606, 'max_depth': 6, 'min_child_weight': 2, 'reg_alpha': 0.5400069857050418, 'reg_lambda': 0.5852507576802695, 'subsample': 0.7845654764541081}. Best is trial 406 with value: 0.841255868544601.\u001b[0m\n",
            "\u001b[32m[I 2021-04-30 18:44:46,838]\u001b[0m Trial 468 finished with value: 0.8075704225352112 and parameters: {'colsample_bytree': 0.2417166559280469, 'gamma': 2, 'learning_rate': 0.3225372866980271, 'max_depth': 3, 'min_child_weight': 2, 'reg_alpha': 0.5539782591790232, 'reg_lambda': 0.6207016912775183, 'subsample': 0.45606071931072206}. Best is trial 406 with value: 0.841255868544601.\u001b[0m\n",
            "\u001b[32m[I 2021-04-30 18:44:47,289]\u001b[0m Trial 469 finished with value: 0.8386150234741783 and parameters: {'colsample_bytree': 0.3417176826072553, 'gamma': 4, 'learning_rate': 0.4617998665082115, 'max_depth': 6, 'min_child_weight': 2, 'reg_alpha': 0.5636023189833421, 'reg_lambda': 0.6783923551214412, 'subsample': 0.8365937965792393}. Best is trial 406 with value: 0.841255868544601.\u001b[0m\n",
            "\u001b[32m[I 2021-04-30 18:44:47,713]\u001b[0m Trial 470 finished with value: 0.8214593114241001 and parameters: {'colsample_bytree': 0.3474619846947934, 'gamma': 4, 'learning_rate': 0.45756966934612125, 'max_depth': 5, 'min_child_weight': 3, 'reg_alpha': 0.5933030445586503, 'reg_lambda': 0.6843195517013002, 'subsample': 0.849127376288055}. Best is trial 406 with value: 0.841255868544601.\u001b[0m\n",
            "\u001b[32m[I 2021-04-30 18:44:48,166]\u001b[0m Trial 471 finished with value: 0.8188380281690142 and parameters: {'colsample_bytree': 0.32875603572296014, 'gamma': 4, 'learning_rate': 0.49867325567747706, 'max_depth': 6, 'min_child_weight': 2, 'reg_alpha': 0.5359428858842089, 'reg_lambda': 0.6798812127420517, 'subsample': 0.8641292689011018}. Best is trial 406 with value: 0.841255868544601.\u001b[0m\n",
            "\u001b[32m[I 2021-04-30 18:44:48,590]\u001b[0m Trial 472 finished with value: 0.8131846635367761 and parameters: {'colsample_bytree': 0.3596427023795371, 'gamma': 4, 'learning_rate': 0.4710921070963442, 'max_depth': 5, 'min_child_weight': 2, 'reg_alpha': 0.611600653477485, 'reg_lambda': 0.6602084846395793, 'subsample': 0.8288174620223143}. Best is trial 406 with value: 0.841255868544601.\u001b[0m\n",
            "\u001b[32m[I 2021-04-30 18:44:48,995]\u001b[0m Trial 473 finished with value: 0.8089788732394366 and parameters: {'colsample_bytree': 0.34312926589065684, 'gamma': 4, 'learning_rate': 0.4504132594138883, 'max_depth': 6, 'min_child_weight': 6, 'reg_alpha': 0.5735330472465958, 'reg_lambda': 0.7021719864918585, 'subsample': 0.8981504697291147}. Best is trial 406 with value: 0.841255868544601.\u001b[0m\n",
            "\u001b[32m[I 2021-04-30 18:44:49,454]\u001b[0m Trial 474 finished with value: 0.8161580594679186 and parameters: {'colsample_bytree': 0.36319637850102143, 'gamma': 4, 'learning_rate': 0.4607436441830088, 'max_depth': 6, 'min_child_weight': 2, 'reg_alpha': 0.6322921690807807, 'reg_lambda': 0.6697808960854674, 'subsample': 0.7535160733575216}. Best is trial 406 with value: 0.841255868544601.\u001b[0m\n",
            "\u001b[32m[I 2021-04-30 18:44:49,868]\u001b[0m Trial 475 finished with value: 0.8201095461658843 and parameters: {'colsample_bytree': 0.3361030044314932, 'gamma': 4, 'learning_rate': 0.4832623059803355, 'max_depth': 5, 'min_child_weight': 5, 'reg_alpha': 0.5523302427783257, 'reg_lambda': 0.49450736106535, 'subsample': 0.8999339142176372}. Best is trial 406 with value: 0.841255868544601.\u001b[0m\n",
            "\u001b[32m[I 2021-04-30 18:44:50,369]\u001b[0m Trial 476 finished with value: 0.8116979655712051 and parameters: {'colsample_bytree': 0.40063965219025993, 'gamma': 4, 'learning_rate': 0.267920236051038, 'max_depth': 6, 'min_child_weight': 2, 'reg_alpha': 0.6180538112982521, 'reg_lambda': 0.642483808748209, 'subsample': 0.868736527415145}. Best is trial 406 with value: 0.841255868544601.\u001b[0m\n",
            "\u001b[32m[I 2021-04-30 18:44:50,710]\u001b[0m Trial 477 finished with value: 0.8174687010954618 and parameters: {'colsample_bytree': 0.3141440106239291, 'gamma': 1, 'learning_rate': 0.4303588742599113, 'max_depth': 6, 'min_child_weight': 2, 'reg_alpha': 0.5221871409952766, 'reg_lambda': 0.7165143452715392, 'subsample': 0.1368087885158463}. Best is trial 406 with value: 0.841255868544601.\u001b[0m\n",
            "\u001b[32m[I 2021-04-30 18:44:51,074]\u001b[0m Trial 478 finished with value: 0.8006064162754305 and parameters: {'colsample_bytree': 0.4689684914364863, 'gamma': 2, 'learning_rate': 0.43543501926168193, 'max_depth': 6, 'min_child_weight': 2, 'reg_alpha': 0.5642085624735936, 'reg_lambda': 0.36675178247653495, 'subsample': 0.11883350677900992}. Best is trial 406 with value: 0.841255868544601.\u001b[0m\n",
            "\u001b[32m[I 2021-04-30 18:44:51,542]\u001b[0m Trial 479 finished with value: 0.8244522691705789 and parameters: {'colsample_bytree': 0.297512119106196, 'gamma': 5, 'learning_rate': 0.36780083185324286, 'max_depth': 6, 'min_child_weight': 2, 'reg_alpha': 0.49761809312800664, 'reg_lambda': 0.6892761561713309, 'subsample': 0.7914012495350018}. Best is trial 406 with value: 0.841255868544601.\u001b[0m\n",
            "\u001b[32m[I 2021-04-30 18:44:51,994]\u001b[0m Trial 480 finished with value: 0.8258411580594679 and parameters: {'colsample_bytree': 0.2762274602367668, 'gamma': 2, 'learning_rate': 0.4087214642472505, 'max_depth': 6, 'min_child_weight': 2, 'reg_alpha': 0.5446527232202714, 'reg_lambda': 0.4863242545507785, 'subsample': 0.7028790311988379}. Best is trial 406 with value: 0.841255868544601.\u001b[0m\n",
            "\u001b[32m[I 2021-04-30 18:44:52,428]\u001b[0m Trial 481 finished with value: 0.811776212832551 and parameters: {'colsample_bytree': 0.3205411989807573, 'gamma': 5, 'learning_rate': 0.5273776755028691, 'max_depth': 6, 'min_child_weight': 2, 'reg_alpha': 0.6019837682028358, 'reg_lambda': 0.3996395723456744, 'subsample': 0.4309558572216896}. Best is trial 406 with value: 0.841255868544601.\u001b[0m\n",
            "\u001b[32m[I 2021-04-30 18:44:52,823]\u001b[0m Trial 482 finished with value: 0.8116588419405322 and parameters: {'colsample_bytree': 0.3527045722218003, 'gamma': 4, 'learning_rate': 0.20474303186162887, 'max_depth': 5, 'min_child_weight': 1, 'reg_alpha': 0.5877414608250701, 'reg_lambda': 0.6543221632322997, 'subsample': 0.19654892001880214}. Best is trial 406 with value: 0.841255868544601.\u001b[0m\n",
            "\u001b[32m[I 2021-04-30 18:44:53,289]\u001b[0m Trial 483 finished with value: 0.8228677621283256 and parameters: {'colsample_bytree': 0.30823155696425153, 'gamma': 1, 'learning_rate': 0.3582857949089152, 'max_depth': 6, 'min_child_weight': 2, 'reg_alpha': 0.6429233128392073, 'reg_lambda': 0.702147260210247, 'subsample': 0.7559010608570498}. Best is trial 406 with value: 0.841255868544601.\u001b[0m\n",
            "\u001b[32m[I 2021-04-30 18:44:53,747]\u001b[0m Trial 484 finished with value: 0.8231025039123632 and parameters: {'colsample_bytree': 0.33177665063919093, 'gamma': 2, 'learning_rate': 0.4826419579842879, 'max_depth': 6, 'min_child_weight': 2, 'reg_alpha': 0.563444354241487, 'reg_lambda': 0.7644555222429406, 'subsample': 0.8131665229277065}. Best is trial 406 with value: 0.841255868544601.\u001b[0m\n",
            "\u001b[32m[I 2021-04-30 18:44:54,236]\u001b[0m Trial 485 finished with value: 0.831338028169014 and parameters: {'colsample_bytree': 0.37914541704765237, 'gamma': 3, 'learning_rate': 0.212583919189809, 'max_depth': 5, 'min_child_weight': 1, 'reg_alpha': 0.6250276133773233, 'reg_lambda': 0.5124913922721389, 'subsample': 0.8443279599524612}. Best is trial 406 with value: 0.841255868544601.\u001b[0m\n",
            "\u001b[32m[I 2021-04-30 18:44:54,664]\u001b[0m Trial 486 finished with value: 0.8061619718309858 and parameters: {'colsample_bytree': 0.34171375675777615, 'gamma': 4, 'learning_rate': 0.2004458547093615, 'max_depth': 5, 'min_child_weight': 3, 'reg_alpha': 0.583610428849478, 'reg_lambda': 0.673159593438582, 'subsample': 0.6259015660564027}. Best is trial 406 with value: 0.841255868544601.\u001b[0m\n",
            "\u001b[32m[I 2021-04-30 18:44:55,121]\u001b[0m Trial 487 finished with value: 0.8117370892018778 and parameters: {'colsample_bytree': 0.3673873031245571, 'gamma': 4, 'learning_rate': 0.4474054107445715, 'max_depth': 5, 'min_child_weight': 4, 'reg_alpha': 0.6017684475857203, 'reg_lambda': 0.39690151373442273, 'subsample': 0.872939102327873}. Best is trial 406 with value: 0.841255868544601.\u001b[0m\n",
            "\u001b[32m[I 2021-04-30 18:44:55,599]\u001b[0m Trial 488 finished with value: 0.8160211267605634 and parameters: {'colsample_bytree': 0.28837322720649605, 'gamma': 5, 'learning_rate': 0.3424828957946992, 'max_depth': 6, 'min_child_weight': 2, 'reg_alpha': 0.6409240000515126, 'reg_lambda': 0.6422397936229193, 'subsample': 0.7346294312804629}. Best is trial 406 with value: 0.841255868544601.\u001b[0m\n",
            "\u001b[32m[I 2021-04-30 18:44:55,983]\u001b[0m Trial 489 finished with value: 0.8075508607198749 and parameters: {'colsample_bytree': 0.3525283309582261, 'gamma': 3, 'learning_rate': 0.20956077445439927, 'max_depth': 5, 'min_child_weight': 5, 'reg_alpha': 0.6174605107670431, 'reg_lambda': 0.725502029672578, 'subsample': 0.3537910769697366}. Best is trial 406 with value: 0.841255868544601.\u001b[0m\n",
            "\u001b[32m[I 2021-04-30 18:44:56,433]\u001b[0m Trial 490 finished with value: 0.8230829420970265 and parameters: {'colsample_bytree': 0.33356851644977803, 'gamma': 5, 'learning_rate': 0.4700032473608861, 'max_depth': 5, 'min_child_weight': 1, 'reg_alpha': 0.5776250447892193, 'reg_lambda': 0.3882635832711132, 'subsample': 0.8329361655069254}. Best is trial 406 with value: 0.841255868544601.\u001b[0m\n",
            "\u001b[32m[I 2021-04-30 18:44:56,892]\u001b[0m Trial 491 finished with value: 0.8272300469483568 and parameters: {'colsample_bytree': 0.3198861815348639, 'gamma': 5, 'learning_rate': 0.23196161470487558, 'max_depth': 5, 'min_child_weight': 1, 'reg_alpha': 0.6297363134218508, 'reg_lambda': 0.37583297318800274, 'subsample': 0.7760070697240727}. Best is trial 406 with value: 0.841255868544601.\u001b[0m\n",
            "\u001b[32m[I 2021-04-30 18:44:57,291]\u001b[0m Trial 492 finished with value: 0.8258607198748044 and parameters: {'colsample_bytree': 0.2614849408114848, 'gamma': 3, 'learning_rate': 0.2002973969167405, 'max_depth': 5, 'min_child_weight': 1, 'reg_alpha': 0.5979765342612692, 'reg_lambda': 0.40427027682321304, 'subsample': 0.8167054255269212}. Best is trial 406 with value: 0.841255868544601.\u001b[0m\n",
            "\u001b[32m[I 2021-04-30 18:44:57,745]\u001b[0m Trial 493 finished with value: 0.8286384976525822 and parameters: {'colsample_bytree': 0.30331419193302694, 'gamma': 2, 'learning_rate': 0.2906176171731077, 'max_depth': 6, 'min_child_weight': 2, 'reg_alpha': 0.5520565168967683, 'reg_lambda': 0.6179643890787603, 'subsample': 0.6870534330530781}. Best is trial 406 with value: 0.841255868544601.\u001b[0m\n",
            "\u001b[32m[I 2021-04-30 18:44:58,198]\u001b[0m Trial 494 finished with value: 0.8200899843505478 and parameters: {'colsample_bytree': 0.27487834556104046, 'gamma': 2, 'learning_rate': 0.5106951451327144, 'max_depth': 6, 'min_child_weight': 2, 'reg_alpha': 0.5629575898207652, 'reg_lambda': 0.8654451423573075, 'subsample': 0.7767390576862732}. Best is trial 406 with value: 0.841255868544601.\u001b[0m\n",
            "\u001b[32m[I 2021-04-30 18:44:58,707]\u001b[0m Trial 495 finished with value: 0.8286971830985916 and parameters: {'colsample_bytree': 0.4055954980813253, 'gamma': 1, 'learning_rate': 0.223967379700816, 'max_depth': 5, 'min_child_weight': 1, 'reg_alpha': 0.6385147750982532, 'reg_lambda': 0.6383466987702506, 'subsample': 0.8614098181388535}. Best is trial 406 with value: 0.841255868544601.\u001b[0m\n",
            "\u001b[32m[I 2021-04-30 18:44:59,191]\u001b[0m Trial 496 finished with value: 0.8089397496087637 and parameters: {'colsample_bytree': 0.37067851105008454, 'gamma': 5, 'learning_rate': 0.4499108090010711, 'max_depth': 5, 'min_child_weight': 3, 'reg_alpha': 0.6168000772591056, 'reg_lambda': 0.6922513155128762, 'subsample': 0.8139023028170904}. Best is trial 406 with value: 0.841255868544601.\u001b[0m\n",
            "\u001b[32m[I 2021-04-30 18:44:59,538]\u001b[0m Trial 497 finished with value: 0.8288145539906102 and parameters: {'colsample_bytree': 0.12299491281598968, 'gamma': 2, 'learning_rate': 0.4079808949649724, 'max_depth': 6, 'min_child_weight': 2, 'reg_alpha': 0.5420546047053092, 'reg_lambda': 0.6071991114009551, 'subsample': 0.7116055534416084}. Best is trial 406 with value: 0.841255868544601.\u001b[0m\n",
            "\u001b[32m[I 2021-04-30 18:44:59,953]\u001b[0m Trial 498 finished with value: 0.8118740219092331 and parameters: {'colsample_bytree': 0.20132018011035038, 'gamma': 4, 'learning_rate': 0.20685524251181278, 'max_depth': 5, 'min_child_weight': 1, 'reg_alpha': 0.6625497474229277, 'reg_lambda': 0.6637261103292048, 'subsample': 0.8950081797591304}. Best is trial 406 with value: 0.841255868544601.\u001b[0m\n",
            "\u001b[32m[I 2021-04-30 18:45:00,476]\u001b[0m Trial 499 finished with value: 0.817488262910798 and parameters: {'colsample_bytree': 0.38694008830701826, 'gamma': 5, 'learning_rate': 0.19825974210209774, 'max_depth': 6, 'min_child_weight': 1, 'reg_alpha': 0.6534325274936053, 'reg_lambda': 0.6195071330452826, 'subsample': 0.8363091611442627}. Best is trial 406 with value: 0.841255868544601.\u001b[0m\n",
            "\u001b[32m[I 2021-04-30 18:45:00,949]\u001b[0m Trial 500 finished with value: 0.8286189358372458 and parameters: {'colsample_bytree': 0.31819480738180783, 'gamma': 2, 'learning_rate': 0.390114385588254, 'max_depth': 6, 'min_child_weight': 2, 'reg_alpha': 0.5674695210872132, 'reg_lambda': 0.5970844247439943, 'subsample': 0.7300669510759608}. Best is trial 406 with value: 0.841255868544601.\u001b[0m\n",
            "\u001b[32m[I 2021-04-30 18:45:01,394]\u001b[0m Trial 501 finished with value: 0.8341549295774648 and parameters: {'colsample_bytree': 0.3464468268349842, 'gamma': 5, 'learning_rate': 0.49158757512216167, 'max_depth': 5, 'min_child_weight': 1, 'reg_alpha': 0.6050268420186826, 'reg_lambda': 0.6292534939518782, 'subsample': 0.8758598168045585}. Best is trial 406 with value: 0.841255868544601.\u001b[0m\n",
            "\u001b[32m[I 2021-04-30 18:45:01,850]\u001b[0m Trial 502 finished with value: 0.8285993740219093 and parameters: {'colsample_bytree': 0.3408498974751787, 'gamma': 5, 'learning_rate': 0.4940237079416778, 'max_depth': 5, 'min_child_weight': 1, 'reg_alpha': 0.6084360971302504, 'reg_lambda': 0.6530301502160037, 'subsample': 0.8953394091633111}. Best is trial 406 with value: 0.841255868544601.\u001b[0m\n",
            "\u001b[32m[I 2021-04-30 18:45:02,335]\u001b[0m Trial 503 finished with value: 0.828755868544601 and parameters: {'colsample_bytree': 0.3322966063804948, 'gamma': 5, 'learning_rate': 0.5046884911740963, 'max_depth': 6, 'min_child_weight': 1, 'reg_alpha': 0.6289661553466962, 'reg_lambda': 0.627558638285693, 'subsample': 0.8699322868972745}. Best is trial 406 with value: 0.841255868544601.\u001b[0m\n",
            "\u001b[32m[I 2021-04-30 18:45:02,733]\u001b[0m Trial 504 finished with value: 0.8215766823161189 and parameters: {'colsample_bytree': 0.3492743411888535, 'gamma': 5, 'learning_rate': 0.4849272359614906, 'max_depth': 3, 'min_child_weight': 1, 'reg_alpha': 0.616600519305355, 'reg_lambda': 0.6404978817363892, 'subsample': 0.8945830794753222}. Best is trial 406 with value: 0.841255868544601.\u001b[0m\n",
            "\u001b[32m[I 2021-04-30 18:45:03,222]\u001b[0m Trial 505 finished with value: 0.8300665101721441 and parameters: {'colsample_bytree': 0.3247525127579788, 'gamma': 5, 'learning_rate': 0.5175116434430738, 'max_depth': 6, 'min_child_weight': 1, 'reg_alpha': 0.6380533426637751, 'reg_lambda': 0.671853808804162, 'subsample': 0.8988694087746547}. Best is trial 406 with value: 0.841255868544601.\u001b[0m\n",
            "\u001b[32m[I 2021-04-30 18:45:03,657]\u001b[0m Trial 506 finished with value: 0.8129890453834117 and parameters: {'colsample_bytree': 0.34446325179410875, 'gamma': 5, 'learning_rate': 0.4806239705022958, 'max_depth': 5, 'min_child_weight': 5, 'reg_alpha': 0.5974758293704896, 'reg_lambda': 0.6505570117722458, 'subsample': 0.8503408442146463}. Best is trial 406 with value: 0.841255868544601.\u001b[0m\n",
            "\u001b[32m[I 2021-04-30 18:45:04,169]\u001b[0m Trial 507 finished with value: 0.8187597809076683 and parameters: {'colsample_bytree': 0.3572291927180764, 'gamma': 5, 'learning_rate': 0.5552058215533457, 'max_depth': 7, 'min_child_weight': 1, 'reg_alpha': 0.6267486722786505, 'reg_lambda': 0.6269387700135208, 'subsample': 0.7871407141023312}. Best is trial 406 with value: 0.841255868544601.\u001b[0m\n",
            "\u001b[32m[I 2021-04-30 18:45:04,595]\u001b[0m Trial 508 finished with value: 0.8230242566510173 and parameters: {'colsample_bytree': 0.3088914840010872, 'gamma': 5, 'learning_rate': 0.4581373358320578, 'max_depth': 4, 'min_child_weight': 1, 'reg_alpha': 0.6106527747901196, 'reg_lambda': 0.6811613016478759, 'subsample': 0.5278154070707411}. Best is trial 406 with value: 0.841255868544601.\u001b[0m\n",
            "\u001b[32m[I 2021-04-30 18:45:04,937]\u001b[0m Trial 509 finished with value: 0.8187793427230048 and parameters: {'colsample_bytree': 0.10485077843615713, 'gamma': 5, 'learning_rate': 0.4608918850468804, 'max_depth': 6, 'min_child_weight': 1, 'reg_alpha': 0.6437195681731357, 'reg_lambda': 0.6355371594970888, 'subsample': 0.859118387826669}. Best is trial 406 with value: 0.841255868544601.\u001b[0m\n",
            "\u001b[32m[I 2021-04-30 18:45:05,393]\u001b[0m Trial 510 finished with value: 0.8372652582159624 and parameters: {'colsample_bytree': 0.3281085740302533, 'gamma': 5, 'learning_rate': 0.5288779131787262, 'max_depth': 5, 'min_child_weight': 2, 'reg_alpha': 0.5935754587568832, 'reg_lambda': 0.6107993323337284, 'subsample': 0.898850454510186}. Best is trial 406 with value: 0.841255868544601.\u001b[0m\n",
            "\u001b[32m[I 2021-04-30 18:45:05,841]\u001b[0m Trial 511 finished with value: 0.8102699530516432 and parameters: {'colsample_bytree': 0.3285022280015018, 'gamma': 0, 'learning_rate': 0.48548617341469924, 'max_depth': 5, 'min_child_weight': 2, 'reg_alpha': 0.5938085468047701, 'reg_lambda': 0.6125336278884345, 'subsample': 0.7490679810436699}. Best is trial 406 with value: 0.841255868544601.\u001b[0m\n",
            "\u001b[32m[I 2021-04-30 18:45:06,245]\u001b[0m Trial 512 finished with value: 0.817351330203443 and parameters: {'colsample_bytree': 0.24579593177346626, 'gamma': 5, 'learning_rate': 0.5318559498492774, 'max_depth': 6, 'min_child_weight': 2, 'reg_alpha': 0.5861970501748064, 'reg_lambda': 0.619244561466314, 'subsample': 0.8187998148782825}. Best is trial 406 with value: 0.841255868544601.\u001b[0m\n",
            "\u001b[32m[I 2021-04-30 18:45:06,682]\u001b[0m Trial 513 finished with value: 0.8244327073552424 and parameters: {'colsample_bytree': 0.3146432633152955, 'gamma': 1, 'learning_rate': 0.543609870164379, 'max_depth': 6, 'min_child_weight': 2, 'reg_alpha': 0.6023677670740503, 'reg_lambda': 0.6304446376054801, 'subsample': 0.8988733310396704}. Best is trial 406 with value: 0.841255868544601.\u001b[0m\n",
            "\u001b[32m[I 2021-04-30 18:45:07,069]\u001b[0m Trial 514 finished with value: 0.8075704225352114 and parameters: {'colsample_bytree': 0.30328306829779716, 'gamma': 5, 'learning_rate': 0.5205957486777136, 'max_depth': 5, 'min_child_weight': 2, 'reg_alpha': 0.5854732014056256, 'reg_lambda': 0.6574079342063988, 'subsample': 0.22229526366525212}. Best is trial 406 with value: 0.841255868544601.\u001b[0m\n",
            "\u001b[32m[I 2021-04-30 18:45:07,526]\u001b[0m Trial 515 finished with value: 0.8230829420970267 and parameters: {'colsample_bytree': 0.3241304191872241, 'gamma': 5, 'learning_rate': 0.49717553904615647, 'max_depth': 6, 'min_child_weight': 2, 'reg_alpha': 0.6046737777254165, 'reg_lambda': 0.6070945791392705, 'subsample': 0.7802926840695426}. Best is trial 406 with value: 0.841255868544601.\u001b[0m\n",
            "\u001b[32m[I 2021-04-30 18:45:07,968]\u001b[0m Trial 516 finished with value: 0.8132433489827857 and parameters: {'colsample_bytree': 0.3573130944962765, 'gamma': 10, 'learning_rate': 0.5502985449061953, 'max_depth': 5, 'min_child_weight': 2, 'reg_alpha': 0.5291438819544231, 'reg_lambda': 0.6064132370671745, 'subsample': 0.837837164512232}. Best is trial 406 with value: 0.841255868544601.\u001b[0m\n",
            "\u001b[32m[I 2021-04-30 18:45:08,414]\u001b[0m Trial 517 finished with value: 0.8202660406885759 and parameters: {'colsample_bytree': 0.339212571320984, 'gamma': 1, 'learning_rate': 0.5140755595497453, 'max_depth': 6, 'min_child_weight': 2, 'reg_alpha': 0.5805548054206829, 'reg_lambda': 0.7023974061269074, 'subsample': 0.8031911525732593}. Best is trial 406 with value: 0.841255868544601.\u001b[0m\n",
            "\u001b[32m[I 2021-04-30 18:45:08,785]\u001b[0m Trial 518 finished with value: 0.8119131455399062 and parameters: {'colsample_bytree': 0.2582804227470086, 'gamma': 5, 'learning_rate': 0.4975462767309441, 'max_depth': 4, 'min_child_weight': 2, 'reg_alpha': 0.6208566044496813, 'reg_lambda': 0.6418333597492519, 'subsample': 0.863945262388175}. Best is trial 406 with value: 0.841255868544601.\u001b[0m\n",
            "\u001b[32m[I 2021-04-30 18:45:09,178]\u001b[0m Trial 519 finished with value: 0.792018779342723 and parameters: {'colsample_bytree': 0.2306623826236702, 'gamma': 4, 'learning_rate': 0.5778486834898202, 'max_depth': 6, 'min_child_weight': 2, 'reg_alpha': 0.6096369460907954, 'reg_lambda': 0.6232154254115769, 'subsample': 0.3732706840297726}. Best is trial 406 with value: 0.841255868544601.\u001b[0m\n",
            "\u001b[32m[I 2021-04-30 18:45:09,646]\u001b[0m Trial 520 finished with value: 0.8315140845070422 and parameters: {'colsample_bytree': 0.317050136739525, 'gamma': 5, 'learning_rate': 0.3115644137247241, 'max_depth': 5, 'min_child_weight': 2, 'reg_alpha': 0.5934083152859987, 'reg_lambda': 0.6003296922162167, 'subsample': 0.759202334647225}. Best is trial 406 with value: 0.841255868544601.\u001b[0m\n",
            "\u001b[32m[I 2021-04-30 18:45:10,087]\u001b[0m Trial 521 finished with value: 0.8089788732394366 and parameters: {'colsample_bytree': 0.30584459172190553, 'gamma': 5, 'learning_rate': 0.2853885429306388, 'max_depth': 5, 'min_child_weight': 4, 'reg_alpha': 0.5789248225360869, 'reg_lambda': 0.5955698740702847, 'subsample': 0.7260120912560231}. Best is trial 406 with value: 0.841255868544601.\u001b[0m\n",
            "\u001b[32m[I 2021-04-30 18:45:10,534]\u001b[0m Trial 522 finished with value: 0.8131064162754305 and parameters: {'colsample_bytree': 0.29463006755867127, 'gamma': 5, 'learning_rate': 0.32902181608689235, 'max_depth': 5, 'min_child_weight': 2, 'reg_alpha': 0.5922879231567943, 'reg_lambda': 0.610890230022961, 'subsample': 0.6677202326839903}. Best is trial 406 with value: 0.841255868544601.\u001b[0m\n",
            "\u001b[32m[I 2021-04-30 18:45:10,997]\u001b[0m Trial 523 finished with value: 0.8286971830985916 and parameters: {'colsample_bytree': 0.316476498342426, 'gamma': 5, 'learning_rate': 0.3166361173618259, 'max_depth': 5, 'min_child_weight': 2, 'reg_alpha': 0.5936542066730752, 'reg_lambda': 0.5867456768274175, 'subsample': 0.7562791973067603}. Best is trial 406 with value: 0.841255868544601.\u001b[0m\n",
            "\u001b[32m[I 2021-04-30 18:45:11,435]\u001b[0m Trial 524 finished with value: 0.810387323943662 and parameters: {'colsample_bytree': 0.32144993426366614, 'gamma': 5, 'learning_rate': 0.5892906080506267, 'max_depth': 5, 'min_child_weight': 3, 'reg_alpha': 0.5831880097864527, 'reg_lambda': 0.6075398621785153, 'subsample': 0.714126340713559}. Best is trial 406 with value: 0.841255868544601.\u001b[0m\n",
            "\u001b[32m[I 2021-04-30 18:45:11,882]\u001b[0m Trial 525 finished with value: 0.8231025039123632 and parameters: {'colsample_bytree': 0.2813065304377417, 'gamma': 6, 'learning_rate': 0.3065517765732548, 'max_depth': 5, 'min_child_weight': 2, 'reg_alpha': 0.5713765484237541, 'reg_lambda': 0.7502222956425881, 'subsample': 0.7619581969495463}. Best is trial 406 with value: 0.841255868544601.\u001b[0m\n",
            "\u001b[32m[I 2021-04-30 18:45:12,335]\u001b[0m Trial 526 finished with value: 0.8089788732394366 and parameters: {'colsample_bytree': 0.29514811841382393, 'gamma': 5, 'learning_rate': 0.4645654830404918, 'max_depth': 5, 'min_child_weight': 2, 'reg_alpha': 0.5981425711734486, 'reg_lambda': 0.6264904946216381, 'subsample': 0.7977150104085886}. Best is trial 406 with value: 0.841255868544601.\u001b[0m\n",
            "\u001b[32m[I 2021-04-30 18:45:12,782]\u001b[0m Trial 527 finished with value: 0.8145735524256651 and parameters: {'colsample_bytree': 0.310930310944403, 'gamma': 4, 'learning_rate': 0.5271036122118372, 'max_depth': 5, 'min_child_weight': 2, 'reg_alpha': 0.5591824106903719, 'reg_lambda': 0.5974101123562839, 'subsample': 0.686609125716234}. Best is trial 406 with value: 0.841255868544601.\u001b[0m\n",
            "\u001b[32m[I 2021-04-30 18:45:13,229]\u001b[0m Trial 528 finished with value: 0.8216158059467918 and parameters: {'colsample_bytree': 0.33022059056673847, 'gamma': 5, 'learning_rate': 0.24878779749721686, 'max_depth': 5, 'min_child_weight': 2, 'reg_alpha': 0.573754546984757, 'reg_lambda': 0.7149056948986322, 'subsample': 0.759523535847882}. Best is trial 406 with value: 0.841255868544601.\u001b[0m\n",
            "\u001b[32m[I 2021-04-30 18:45:13,683]\u001b[0m Trial 529 finished with value: 0.8145735524256651 and parameters: {'colsample_bytree': 0.3027964080985121, 'gamma': 9, 'learning_rate': 0.27841584370033146, 'max_depth': 5, 'min_child_weight': 2, 'reg_alpha': 0.5444810021885487, 'reg_lambda': 0.783835875431492, 'subsample': 0.8109857980088889}. Best is trial 406 with value: 0.841255868544601.\u001b[0m\n",
            "\u001b[32m[I 2021-04-30 18:45:14,114]\u001b[0m Trial 530 finished with value: 0.8146909233176839 and parameters: {'colsample_bytree': 0.3315324695484498, 'gamma': 5, 'learning_rate': 0.49384600015464764, 'max_depth': 5, 'min_child_weight': 3, 'reg_alpha': 0.6050285057762592, 'reg_lambda': 0.6628098990309232, 'subsample': 0.7806030969484462}. Best is trial 406 with value: 0.841255868544601.\u001b[0m\n",
            "\u001b[32m[I 2021-04-30 18:45:14,531]\u001b[0m Trial 531 finished with value: 0.8174100156494521 and parameters: {'colsample_bytree': 0.2669161602461989, 'gamma': 4, 'learning_rate': 0.2172842011309575, 'max_depth': 5, 'min_child_weight': 2, 'reg_alpha': 0.5919414266392125, 'reg_lambda': 0.6437851316968188, 'subsample': 0.7290587987455315}. Best is trial 406 with value: 0.841255868544601.\u001b[0m\n",
            "\u001b[32m[I 2021-04-30 18:45:14,981]\u001b[0m Trial 532 finished with value: 0.8091940532081378 and parameters: {'colsample_bytree': 0.31265676126390235, 'gamma': 5, 'learning_rate': 0.4739266928887233, 'max_depth': 5, 'min_child_weight': 2, 'reg_alpha': 0.5552771934745006, 'reg_lambda': 0.6198785773292417, 'subsample': 0.8407657757185846}. Best is trial 406 with value: 0.841255868544601.\u001b[0m\n",
            "\u001b[32m[I 2021-04-30 18:45:15,408]\u001b[0m Trial 533 finished with value: 0.8258998435054773 and parameters: {'colsample_bytree': 0.33765403866326194, 'gamma': 5, 'learning_rate': 0.5139721224450459, 'max_depth': 5, 'min_child_weight': 5, 'reg_alpha': 0.6114101840007418, 'reg_lambda': 0.5804670724067077, 'subsample': 0.8620106407518554}. Best is trial 406 with value: 0.841255868544601.\u001b[0m\n",
            "\u001b[32m[I 2021-04-30 18:45:15,801]\u001b[0m Trial 534 finished with value: 0.8160993740219092 and parameters: {'colsample_bytree': 0.22185807687377473, 'gamma': 5, 'learning_rate': 0.5416266369274773, 'max_depth': 5, 'min_child_weight': 2, 'reg_alpha': 0.5766723813647049, 'reg_lambda': 0.6035699100949282, 'subsample': 0.8059610669648137}. Best is trial 406 with value: 0.841255868544601.\u001b[0m\n",
            "\u001b[32m[I 2021-04-30 18:45:16,245]\u001b[0m Trial 535 finished with value: 0.8216353677621283 and parameters: {'colsample_bytree': 0.2838735107149532, 'gamma': 4, 'learning_rate': 0.29395246895313903, 'max_depth': 5, 'min_child_weight': 2, 'reg_alpha': 0.509392661537851, 'reg_lambda': 0.6848327359013757, 'subsample': 0.8966163533824612}. Best is trial 406 with value: 0.841255868544601.\u001b[0m\n",
            "\u001b[32m[I 2021-04-30 18:45:16,664]\u001b[0m Trial 536 finished with value: 0.8187206572769954 and parameters: {'colsample_bytree': 0.32471708773558444, 'gamma': 1, 'learning_rate': 0.47273493086715307, 'max_depth': 4, 'min_child_weight': 2, 'reg_alpha': 0.6191413021942315, 'reg_lambda': 0.6164063274268895, 'subsample': 0.744809132530548}. Best is trial 406 with value: 0.841255868544601.\u001b[0m\n",
            "\u001b[32m[I 2021-04-30 18:45:17,118]\u001b[0m Trial 537 finished with value: 0.824491392801252 and parameters: {'colsample_bytree': 0.29488833507467455, 'gamma': 5, 'learning_rate': 0.3328357068509231, 'max_depth': 5, 'min_child_weight': 2, 'reg_alpha': 0.5331363791169293, 'reg_lambda': 0.5904618347385328, 'subsample': 0.831306377052195}. Best is trial 406 with value: 0.841255868544601.\u001b[0m\n",
            "\u001b[32m[I 2021-04-30 18:45:17,544]\u001b[0m Trial 538 finished with value: 0.8104655712050078 and parameters: {'colsample_bytree': 0.24001155082287498, 'gamma': 6, 'learning_rate': 0.44045222735748746, 'max_depth': 5, 'min_child_weight': 2, 'reg_alpha': 0.5909437066239136, 'reg_lambda': 0.6452773015450721, 'subsample': 0.7752951156955428}. Best is trial 406 with value: 0.841255868544601.\u001b[0m\n",
            "\u001b[32m[I 2021-04-30 18:45:18,000]\u001b[0m Trial 539 finished with value: 0.8258802816901408 and parameters: {'colsample_bytree': 0.3475294785210789, 'gamma': 5, 'learning_rate': 0.19386781902743974, 'max_depth': 5, 'min_child_weight': 2, 'reg_alpha': 0.5667052331993222, 'reg_lambda': 0.634394012493479, 'subsample': 0.6048737812084589}. Best is trial 406 with value: 0.841255868544601.\u001b[0m\n",
            "\u001b[32m[I 2021-04-30 18:45:18,465]\u001b[0m Trial 540 finished with value: 0.835680751173709 and parameters: {'colsample_bytree': 0.3178684886548695, 'gamma': 5, 'learning_rate': 0.26882488143840544, 'max_depth': 5, 'min_child_weight': 2, 'reg_alpha': 0.5544737627510394, 'reg_lambda': 0.6668418006796475, 'subsample': 0.8971795835078364}. Best is trial 406 with value: 0.841255868544601.\u001b[0m\n",
            "\u001b[32m[I 2021-04-30 18:45:18,903]\u001b[0m Trial 541 finished with value: 0.8286580594679187 and parameters: {'colsample_bytree': 0.31333318840786506, 'gamma': 5, 'learning_rate': 0.24937643881930796, 'max_depth': 5, 'min_child_weight': 2, 'reg_alpha': 0.5506354359967971, 'reg_lambda': 0.6661359782057429, 'subsample': 0.8972788676474864}. Best is trial 406 with value: 0.841255868544601.\u001b[0m\n",
            "\u001b[32m[I 2021-04-30 18:45:19,361]\u001b[0m Trial 542 finished with value: 0.8119522691705792 and parameters: {'colsample_bytree': 0.30461274396746496, 'gamma': 4, 'learning_rate': 0.31737403851465895, 'max_depth': 5, 'min_child_weight': 2, 'reg_alpha': 0.5266762860474292, 'reg_lambda': 0.6734762058465322, 'subsample': 0.8698824043230737}. Best is trial 406 with value: 0.841255868544601.\u001b[0m\n",
            "\u001b[32m[I 2021-04-30 18:45:19,799]\u001b[0m Trial 543 finished with value: 0.8326682316118935 and parameters: {'colsample_bytree': 0.2776501261184682, 'gamma': 5, 'learning_rate': 0.25978729126699635, 'max_depth': 5, 'min_child_weight': 2, 'reg_alpha': 0.5564249315246547, 'reg_lambda': 0.36075697826043074, 'subsample': 0.8996783189304529}. Best is trial 406 with value: 0.841255868544601.\u001b[0m\n",
            "\u001b[32m[I 2021-04-30 18:45:20,206]\u001b[0m Trial 544 finished with value: 0.8244522691705791 and parameters: {'colsample_bytree': 0.2658769342860924, 'gamma': 1, 'learning_rate': 0.23746180691929947, 'max_depth': 5, 'min_child_weight': 2, 'reg_alpha': 0.5404301922476682, 'reg_lambda': 0.3512418276593651, 'subsample': 0.7031552467006215}. Best is trial 406 with value: 0.841255868544601.\u001b[0m\n",
            "\u001b[32m[I 2021-04-30 18:45:20,593]\u001b[0m Trial 545 finished with value: 0.8299882629107982 and parameters: {'colsample_bytree': 0.25118779543861336, 'gamma': 5, 'learning_rate': 0.269172898892919, 'max_depth': 5, 'min_child_weight': 2, 'reg_alpha': 0.5528969822554021, 'reg_lambda': 0.37271040703584846, 'subsample': 0.8772602300973218}. Best is trial 406 with value: 0.841255868544601.\u001b[0m\n",
            "\u001b[32m[I 2021-04-30 18:45:21,042]\u001b[0m Trial 546 finished with value: 0.8243740219092333 and parameters: {'colsample_bytree': 0.2857167333449509, 'gamma': 5, 'learning_rate': 0.26658483485373174, 'max_depth': 5, 'min_child_weight': 2, 'reg_alpha': 0.5563740033553202, 'reg_lambda': 0.6858966662608347, 'subsample': 0.8683380338733198}. Best is trial 406 with value: 0.841255868544601.\u001b[0m\n",
            "\u001b[32m[I 2021-04-30 18:45:21,443]\u001b[0m Trial 547 finished with value: 0.8245109546165883 and parameters: {'colsample_bytree': 0.2726977424381189, 'gamma': 1, 'learning_rate': 0.26003522690763153, 'max_depth': 5, 'min_child_weight': 2, 'reg_alpha': 0.5368467235923425, 'reg_lambda': 0.3197969357812114, 'subsample': 0.894613445316078}. Best is trial 406 with value: 0.841255868544601.\u001b[0m\n",
            "\u001b[32m[I 2021-04-30 18:45:21,836]\u001b[0m Trial 548 finished with value: 0.817351330203443 and parameters: {'colsample_bytree': 0.2603009973446326, 'gamma': 5, 'learning_rate': 0.28665992516425665, 'max_depth': 5, 'min_child_weight': 3, 'reg_alpha': 0.5667158347514115, 'reg_lambda': 0.3626873839529136, 'subsample': 0.7539120260391845}. Best is trial 406 with value: 0.841255868544601.\u001b[0m\n",
            "\u001b[32m[I 2021-04-30 18:45:22,295]\u001b[0m Trial 549 finished with value: 0.8201486697965572 and parameters: {'colsample_bytree': 0.27398569559403096, 'gamma': 6, 'learning_rate': 0.26294910476832684, 'max_depth': 5, 'min_child_weight': 2, 'reg_alpha': 0.5496751471616187, 'reg_lambda': 0.38419761937824665, 'subsample': 0.8026959797908162}. Best is trial 406 with value: 0.841255868544601.\u001b[0m\n",
            "\u001b[32m[I 2021-04-30 18:45:22,730]\u001b[0m Trial 550 finished with value: 0.8355829420970267 and parameters: {'colsample_bytree': 0.28334668798906465, 'gamma': 1, 'learning_rate': 0.2775560575930104, 'max_depth': 5, 'min_child_weight': 2, 'reg_alpha': 0.5683649115952556, 'reg_lambda': 0.6985201857370097, 'subsample': 0.8379396562650531}. Best is trial 406 with value: 0.841255868544601.\u001b[0m\n",
            "\u001b[32m[I 2021-04-30 18:45:23,184]\u001b[0m Trial 551 finished with value: 0.8243740219092333 and parameters: {'colsample_bytree': 0.28415617086411565, 'gamma': 1, 'learning_rate': 0.301104778244892, 'max_depth': 5, 'min_child_weight': 2, 'reg_alpha': 0.5760911226744739, 'reg_lambda': 0.7348239761398041, 'subsample': 0.8321838298069509}. Best is trial 406 with value: 0.841255868544601.\u001b[0m\n",
            "\u001b[32m[I 2021-04-30 18:45:23,597]\u001b[0m Trial 552 finished with value: 0.8243935837245697 and parameters: {'colsample_bytree': 0.2507346519669553, 'gamma': 1, 'learning_rate': 0.26142280547290936, 'max_depth': 5, 'min_child_weight': 2, 'reg_alpha': 0.5582688009678811, 'reg_lambda': 0.7098214146635798, 'subsample': 0.8691502135783937}. Best is trial 406 with value: 0.841255868544601.\u001b[0m\n",
            "\u001b[32m[I 2021-04-30 18:45:24,051]\u001b[0m Trial 553 finished with value: 0.8203247261345853 and parameters: {'colsample_bytree': 0.2784836746863153, 'gamma': 0, 'learning_rate': 0.25699151208055393, 'max_depth': 5, 'min_child_weight': 2, 'reg_alpha': 0.5639559584715874, 'reg_lambda': 0.33075205086794424, 'subsample': 0.8976388497076967}. Best is trial 406 with value: 0.841255868544601.\u001b[0m\n",
            "\u001b[32m[I 2021-04-30 18:45:24,456]\u001b[0m Trial 554 finished with value: 0.8299491392801253 and parameters: {'colsample_bytree': 0.26355084496702846, 'gamma': 1, 'learning_rate': 0.23863694990895512, 'max_depth': 5, 'min_child_weight': 2, 'reg_alpha': 0.5448842285899037, 'reg_lambda': 0.6952158490982213, 'subsample': 0.8998966580841751}. Best is trial 406 with value: 0.841255868544601.\u001b[0m\n",
            "\u001b[32m[I 2021-04-30 18:45:24,884]\u001b[0m Trial 555 finished with value: 0.8230829420970267 and parameters: {'colsample_bytree': 0.2920695183058241, 'gamma': 1, 'learning_rate': 0.2832248363256565, 'max_depth': 5, 'min_child_weight': 3, 'reg_alpha': 0.5347910386141679, 'reg_lambda': 0.6942672934271118, 'subsample': 0.8433422373066964}. Best is trial 406 with value: 0.841255868544601.\u001b[0m\n",
            "\u001b[32m[I 2021-04-30 18:45:25,335]\u001b[0m Trial 556 finished with value: 0.8090571205007825 and parameters: {'colsample_bytree': 0.27943196346260557, 'gamma': 1, 'learning_rate': 0.2753784159039777, 'max_depth': 5, 'min_child_weight': 2, 'reg_alpha': 0.5739511189475686, 'reg_lambda': 0.6717494726909873, 'subsample': 0.7274560072909294}. Best is trial 406 with value: 0.841255868544601.\u001b[0m\n",
            "\u001b[32m[I 2021-04-30 18:45:25,763]\u001b[0m Trial 557 finished with value: 0.8188184663536777 and parameters: {'colsample_bytree': 0.2575743843957273, 'gamma': 1, 'learning_rate': 0.30752762009498447, 'max_depth': 7, 'min_child_weight': 2, 'reg_alpha': 0.5613347057647522, 'reg_lambda': 0.3408483658076757, 'subsample': 0.7717595863639177}. Best is trial 406 with value: 0.841255868544601.\u001b[0m\n",
            "\u001b[32m[I 2021-04-30 18:45:26,177]\u001b[0m Trial 558 finished with value: 0.8174100156494524 and parameters: {'colsample_bytree': 0.2945450666766336, 'gamma': 1, 'learning_rate': 0.30683119111765966, 'max_depth': 5, 'min_child_weight': 6, 'reg_alpha': 0.5785205477642061, 'reg_lambda': 0.7181402736127844, 'subsample': 0.8001767013119013}. Best is trial 406 with value: 0.841255868544601.\u001b[0m\n",
            "\u001b[32m[I 2021-04-30 18:45:26,628]\u001b[0m Trial 559 finished with value: 0.8259976525821596 and parameters: {'colsample_bytree': 0.273787735690463, 'gamma': 0, 'learning_rate': 0.2793520909352347, 'max_depth': 5, 'min_child_weight': 2, 'reg_alpha': 0.5465070672710909, 'reg_lambda': 0.36150998936959927, 'subsample': 0.6882162952981342}. Best is trial 406 with value: 0.841255868544601.\u001b[0m\n",
            "\u001b[32m[I 2021-04-30 18:45:27,020]\u001b[0m Trial 560 finished with value: 0.8244327073552424 and parameters: {'colsample_bytree': 0.23888132246695534, 'gamma': 1, 'learning_rate': 0.25532467156266436, 'max_depth': 5, 'min_child_weight': 2, 'reg_alpha': 0.5257649535160943, 'reg_lambda': 0.6822846951271874, 'subsample': 0.8634779318360515}. Best is trial 406 with value: 0.841255868544601.\u001b[0m\n",
            "\u001b[32m[I 2021-04-30 18:45:27,463]\u001b[0m Trial 561 finished with value: 0.821537558685446 and parameters: {'colsample_bytree': 0.29899957040151537, 'gamma': 3, 'learning_rate': 0.26998911558374616, 'max_depth': 5, 'min_child_weight': 2, 'reg_alpha': 0.5168875727214325, 'reg_lambda': 0.6717241307971338, 'subsample': 0.47761132419481966}. Best is trial 406 with value: 0.841255868544601.\u001b[0m\n",
            "\u001b[32m[I 2021-04-30 18:45:27,911]\u001b[0m Trial 562 finished with value: 0.8102895148669796 and parameters: {'colsample_bytree': 0.2870497483124647, 'gamma': 1, 'learning_rate': 0.29419197926464996, 'max_depth': 5, 'min_child_weight': 2, 'reg_alpha': 0.5809864233887628, 'reg_lambda': 0.6526869284804052, 'subsample': 0.7315433791304115}. Best is trial 406 with value: 0.841255868544601.\u001b[0m\n",
            "\u001b[32m[I 2021-04-30 18:45:28,314]\u001b[0m Trial 563 finished with value: 0.8104460093896714 and parameters: {'colsample_bytree': 0.2464747489714403, 'gamma': 2, 'learning_rate': 0.2568707479883353, 'max_depth': 5, 'min_child_weight': 2, 'reg_alpha': 0.5630029019932246, 'reg_lambda': 0.706349081207228, 'subsample': 0.7829770276712739}. Best is trial 406 with value: 0.841255868544601.\u001b[0m\n",
            "\u001b[32m[I 2021-04-30 18:45:28,708]\u001b[0m Trial 564 finished with value: 0.8160798122065728 and parameters: {'colsample_bytree': 0.2688729942717891, 'gamma': 2, 'learning_rate': 0.2708034006853126, 'max_depth': 5, 'min_child_weight': 5, 'reg_alpha': 0.5436857943370162, 'reg_lambda': 0.6531160993023966, 'subsample': 0.8997547277754004}. Best is trial 406 with value: 0.841255868544601.\u001b[0m\n",
            "\u001b[32m[I 2021-04-30 18:45:29,156]\u001b[0m Trial 565 finished with value: 0.8215179968701095 and parameters: {'colsample_bytree': 0.33372030841278216, 'gamma': 4, 'learning_rate': 0.24578979130065606, 'max_depth': 5, 'min_child_weight': 2, 'reg_alpha': 0.5586986051387779, 'reg_lambda': 0.7264951186431156, 'subsample': 0.8404550399033693}. Best is trial 406 with value: 0.841255868544601.\u001b[0m\n",
            "\u001b[32m[I 2021-04-30 18:45:29,604]\u001b[0m Trial 566 finished with value: 0.8215766823161189 and parameters: {'colsample_bytree': 0.3020361335373518, 'gamma': 1, 'learning_rate': 0.24875030034314438, 'max_depth': 5, 'min_child_weight': 2, 'reg_alpha': 0.5688572156881441, 'reg_lambda': 0.6950195312853722, 'subsample': 0.8965583229757499}. Best is trial 406 with value: 0.841255868544601.\u001b[0m\n",
            "\u001b[32m[I 2021-04-30 18:45:30,060]\u001b[0m Trial 567 finished with value: 0.832942097026604 and parameters: {'colsample_bytree': 0.32059268451292094, 'gamma': 2, 'learning_rate': 0.27131706809663414, 'max_depth': 5, 'min_child_weight': 2, 'reg_alpha': 0.586215998191059, 'reg_lambda': 0.6760300248730075, 'subsample': 0.6621648855144022}. Best is trial 406 with value: 0.841255868544601.\u001b[0m\n",
            "\u001b[32m[I 2021-04-30 18:45:30,488]\u001b[0m Trial 568 finished with value: 0.8118153364632239 and parameters: {'colsample_bytree': 0.3233764777882223, 'gamma': 2, 'learning_rate': 0.28943292944541915, 'max_depth': 5, 'min_child_weight': 3, 'reg_alpha': 0.5835545150680292, 'reg_lambda': 0.6775958427544224, 'subsample': 0.7146515616700417}. Best is trial 406 with value: 0.841255868544601.\u001b[0m\n",
            "\u001b[32m[I 2021-04-30 18:45:31,019]\u001b[0m Trial 569 finished with value: 0.8230242566510173 and parameters: {'colsample_bytree': 0.5576642635811173, 'gamma': 2, 'learning_rate': 0.2986318568258746, 'max_depth': 5, 'min_child_weight': 2, 'reg_alpha': 0.5893233710095874, 'reg_lambda': 0.6649023475024263, 'subsample': 0.7004428460497606}. Best is trial 406 with value: 0.841255868544601.\u001b[0m\n",
            "\u001b[32m[I 2021-04-30 18:45:31,470]\u001b[0m Trial 570 finished with value: 0.820226917057903 and parameters: {'colsample_bytree': 0.2907207159310827, 'gamma': 2, 'learning_rate': 0.2663154269276657, 'max_depth': 5, 'min_child_weight': 2, 'reg_alpha': 0.5714742837163426, 'reg_lambda': 0.7039330010576667, 'subsample': 0.6257979836548321}. Best is trial 406 with value: 0.841255868544601.\u001b[0m\n",
            "\u001b[32m[I 2021-04-30 18:45:31,917]\u001b[0m Trial 571 finished with value: 0.8244718309859156 and parameters: {'colsample_bytree': 0.30568520635349156, 'gamma': 2, 'learning_rate': 0.2720268570217711, 'max_depth': 5, 'min_child_weight': 2, 'reg_alpha': 0.5529420915762804, 'reg_lambda': 0.6575789744971602, 'subsample': 0.6705503741666521}. Best is trial 406 with value: 0.841255868544601.\u001b[0m\n",
            "\u001b[32m[I 2021-04-30 18:45:32,370]\u001b[0m Trial 572 finished with value: 0.8187402190923319 and parameters: {'colsample_bytree': 0.2793636626437833, 'gamma': 2, 'learning_rate': 0.27858481971670596, 'max_depth': 5, 'min_child_weight': 2, 'reg_alpha': 0.5728234692442733, 'reg_lambda': 0.6807250761678557, 'subsample': 0.8106414214313613}. Best is trial 406 with value: 0.841255868544601.\u001b[0m\n",
            "\u001b[32m[I 2021-04-30 18:45:32,833]\u001b[0m Trial 573 finished with value: 0.8216940532081377 and parameters: {'colsample_bytree': 0.34569731647463864, 'gamma': 2, 'learning_rate': 0.2622271353825801, 'max_depth': 6, 'min_child_weight': 2, 'reg_alpha': 0.5403211290263226, 'reg_lambda': 0.6568958279950813, 'subsample': 0.8242247542852834}. Best is trial 406 with value: 0.841255868544601.\u001b[0m\n",
            "\u001b[32m[I 2021-04-30 18:45:33,249]\u001b[0m Trial 574 finished with value: 0.8243348982785601 and parameters: {'colsample_bytree': 0.25790237601120647, 'gamma': 1, 'learning_rate': 0.270867907434607, 'max_depth': 6, 'min_child_weight': 2, 'reg_alpha': 0.559147345654245, 'reg_lambda': 0.6987285427863413, 'subsample': 0.63883256939527}. Best is trial 406 with value: 0.841255868544601.\u001b[0m\n",
            "\u001b[32m[I 2021-04-30 18:45:33,705]\u001b[0m Trial 575 finished with value: 0.8357003129890452 and parameters: {'colsample_bytree': 0.33311216054137954, 'gamma': 2, 'learning_rate': 0.2515298910800871, 'max_depth': 6, 'min_child_weight': 2, 'reg_alpha': 0.5829295838141023, 'reg_lambda': 0.6843349811924698, 'subsample': 0.6618962402303062}. Best is trial 406 with value: 0.841255868544601.\u001b[0m\n",
            "\u001b[32m[I 2021-04-30 18:45:34,158]\u001b[0m Trial 576 finished with value: 0.8257433489827856 and parameters: {'colsample_bytree': 0.329993433313479, 'gamma': 2, 'learning_rate': 0.2546274623436033, 'max_depth': 5, 'min_child_weight': 2, 'reg_alpha': 0.5833755026938442, 'reg_lambda': 0.6879782652199612, 'subsample': 0.6636702795035775}. Best is trial 406 with value: 0.841255868544601.\u001b[0m\n",
            "\u001b[32m[I 2021-04-30 18:45:34,714]\u001b[0m Trial 577 finished with value: 0.8131846635367763 and parameters: {'colsample_bytree': 0.5214596771343075, 'gamma': 2, 'learning_rate': 0.2428118754340166, 'max_depth': 6, 'min_child_weight': 2, 'reg_alpha': 0.5754619258256349, 'reg_lambda': 0.7061890268764667, 'subsample': 0.6052848397978978}. Best is trial 406 with value: 0.841255868544601.\u001b[0m\n",
            "\u001b[32m[I 2021-04-30 18:45:35,161]\u001b[0m Trial 578 finished with value: 0.8257824726134585 and parameters: {'colsample_bytree': 0.3556788588175022, 'gamma': 2, 'learning_rate': 0.25580303305738544, 'max_depth': 5, 'min_child_weight': 2, 'reg_alpha': 0.5965344062465221, 'reg_lambda': 0.6744288288812049, 'subsample': 0.6687486751591744}. Best is trial 406 with value: 0.841255868544601.\u001b[0m\n",
            "\u001b[32m[I 2021-04-30 18:45:35,560]\u001b[0m Trial 579 finished with value: 0.8102895148669796 and parameters: {'colsample_bytree': 0.22619503199615595, 'gamma': 2, 'learning_rate': 0.2424807189513719, 'max_depth': 6, 'min_child_weight': 2, 'reg_alpha': 0.566936696318785, 'reg_lambda': 0.736704586923888, 'subsample': 0.6583546180755036}. Best is trial 406 with value: 0.841255868544601.\u001b[0m\n",
            "\u001b[32m[I 2021-04-30 18:45:35,942]\u001b[0m Trial 580 finished with value: 0.8132824726134584 and parameters: {'colsample_bytree': 0.2673309320591824, 'gamma': 2, 'learning_rate': 0.25827404954613276, 'max_depth': 5, 'min_child_weight': 3, 'reg_alpha': 0.5847819912355569, 'reg_lambda': 0.6672562869023749, 'subsample': 0.676717814866833}. Best is trial 406 with value: 0.841255868544601.\u001b[0m\n",
            "\u001b[32m[I 2021-04-30 18:45:36,408]\u001b[0m Trial 581 finished with value: 0.8202464788732395 and parameters: {'colsample_bytree': 0.322857667007008, 'gamma': 3, 'learning_rate': 0.2762077238383187, 'max_depth': 6, 'min_child_weight': 2, 'reg_alpha': 0.5506594331773682, 'reg_lambda': 0.6840333954065854, 'subsample': 0.6336074519602121}. Best is trial 406 with value: 0.841255868544601.\u001b[0m\n",
            "\u001b[32m[I 2021-04-30 18:45:36,859]\u001b[0m Trial 582 finished with value: 0.8300665101721438 and parameters: {'colsample_bytree': 0.33830000215380623, 'gamma': 2, 'learning_rate': 0.25460845009915706, 'max_depth': 5, 'min_child_weight': 2, 'reg_alpha': 0.5981085940327355, 'reg_lambda': 0.721131953006834, 'subsample': 0.641781416330424}. Best is trial 406 with value: 0.841255868544601.\u001b[0m\n",
            "\u001b[32m[I 2021-04-30 18:45:37,326]\u001b[0m Trial 583 finished with value: 0.8313184663536777 and parameters: {'colsample_bytree': 0.30988010657283255, 'gamma': 2, 'learning_rate': 0.25075793596790996, 'max_depth': 6, 'min_child_weight': 2, 'reg_alpha': 0.5689900878699292, 'reg_lambda': 0.6449627122227402, 'subsample': 0.6544165661189845}. Best is trial 406 with value: 0.841255868544601.\u001b[0m\n",
            "\u001b[32m[I 2021-04-30 18:45:37,812]\u001b[0m Trial 584 finished with value: 0.8314553990610328 and parameters: {'colsample_bytree': 0.36934448928036356, 'gamma': 2, 'learning_rate': 0.26345473977860356, 'max_depth': 5, 'min_child_weight': 2, 'reg_alpha': 0.5579433749867392, 'reg_lambda': 0.6817063380379452, 'subsample': 0.7111924404951864}. Best is trial 406 with value: 0.841255868544601.\u001b[0m\n",
            "\u001b[32m[I 2021-04-30 18:45:38,281]\u001b[0m Trial 585 finished with value: 0.8258802816901408 and parameters: {'colsample_bytree': 0.2845624360721854, 'gamma': 3, 'learning_rate': 0.27843932169736224, 'max_depth': 5, 'min_child_weight': 2, 'reg_alpha': 0.5360561227801803, 'reg_lambda': 0.6995458015659636, 'subsample': 0.6941157473519519}. Best is trial 406 with value: 0.841255868544601.\u001b[0m\n",
            "\u001b[32m[I 2021-04-30 18:45:38,765]\u001b[0m Trial 586 finished with value: 0.8230046948356808 and parameters: {'colsample_bytree': 0.2973891311087943, 'gamma': 2, 'learning_rate': 0.2289535517780382, 'max_depth': 6, 'min_child_weight': 2, 'reg_alpha': 0.3284879934865819, 'reg_lambda': 0.6568899259198444, 'subsample': 0.5872103615657721}. Best is trial 406 with value: 0.841255868544601.\u001b[0m\n",
            "\u001b[32m[I 2021-04-30 18:45:39,224]\u001b[0m Trial 587 finished with value: 0.8229460093896714 and parameters: {'colsample_bytree': 0.34592958380051314, 'gamma': 2, 'learning_rate': 0.2658192070708353, 'max_depth': 5, 'min_child_weight': 2, 'reg_alpha': 0.5848354734741948, 'reg_lambda': 0.7172340023296179, 'subsample': 0.5553140985277719}. Best is trial 406 with value: 0.841255868544601.\u001b[0m\n",
            "\u001b[32m[I 2021-04-30 18:45:39,675]\u001b[0m Trial 588 finished with value: 0.810348200312989 and parameters: {'colsample_bytree': 0.317850080962426, 'gamma': 1, 'learning_rate': 0.5279746925954436, 'max_depth': 6, 'min_child_weight': 2, 'reg_alpha': 0.6021876343364555, 'reg_lambda': 0.667561410986923, 'subsample': 0.6878860289228911}. Best is trial 406 with value: 0.841255868544601.\u001b[0m\n",
            "\u001b[32m[I 2021-04-30 18:45:40,074]\u001b[0m Trial 589 finished with value: 0.8272691705790297 and parameters: {'colsample_bytree': 0.24765471416070203, 'gamma': 2, 'learning_rate': 0.2879696520854785, 'max_depth': 5, 'min_child_weight': 2, 'reg_alpha': 0.5702066495616184, 'reg_lambda': 0.35514767054804214, 'subsample': 0.7348967902123366}. Best is trial 406 with value: 0.841255868544601.\u001b[0m\n",
            "\u001b[32m[I 2021-04-30 18:45:40,542]\u001b[0m Trial 590 finished with value: 0.824491392801252 and parameters: {'colsample_bytree': 0.35931625498707304, 'gamma': 3, 'learning_rate': 0.5056412542884459, 'max_depth': 6, 'min_child_weight': 2, 'reg_alpha': 0.5261881705150872, 'reg_lambda': 0.6388703138648865, 'subsample': 0.7701262150596146}. Best is trial 406 with value: 0.841255868544601.\u001b[0m\n",
            "\u001b[32m[I 2021-04-30 18:45:40,923]\u001b[0m Trial 591 finished with value: 0.8229655712050079 and parameters: {'colsample_bytree': 0.2719623127108056, 'gamma': 1, 'learning_rate': 0.4647455173231178, 'max_depth': 7, 'min_child_weight': 2, 'reg_alpha': 0.5465338004115061, 'reg_lambda': 0.6942520021390313, 'subsample': 0.4085820488032409}. Best is trial 406 with value: 0.841255868544601.\u001b[0m\n",
            "\u001b[32m[I 2021-04-30 18:45:41,386]\u001b[0m Trial 592 finished with value: 0.8257629107981221 and parameters: {'colsample_bytree': 0.3343868970085085, 'gamma': 2, 'learning_rate': 0.24633063386706663, 'max_depth': 5, 'min_child_weight': 2, 'reg_alpha': 0.5861666367808436, 'reg_lambda': 0.6326429787560149, 'subsample': 0.7458571757294563}. Best is trial 406 with value: 0.841255868544601.\u001b[0m\n",
            "\u001b[32m[I 2021-04-30 18:45:41,936]\u001b[0m Trial 593 finished with value: 0.8133411580594678 and parameters: {'colsample_bytree': 0.7197009888887788, 'gamma': 1, 'learning_rate': 0.48365318987178135, 'max_depth': 6, 'min_child_weight': 4, 'reg_alpha': 0.5571617000487827, 'reg_lambda': 0.6642293432771942, 'subsample': 0.6171964027217287}. Best is trial 406 with value: 0.841255868544601.\u001b[0m\n",
            "\u001b[32m[I 2021-04-30 18:45:42,365]\u001b[0m Trial 594 finished with value: 0.8145344287949922 and parameters: {'colsample_bytree': 0.298845575460942, 'gamma': 2, 'learning_rate': 0.5575125209608063, 'max_depth': 5, 'min_child_weight': 3, 'reg_alpha': 0.4948600050001724, 'reg_lambda': 0.687755520821396, 'subsample': 0.7139275785009832}. Best is trial 406 with value: 0.841255868544601.\u001b[0m\n",
            "\u001b[32m[I 2021-04-30 18:45:42,822]\u001b[0m Trial 595 finished with value: 0.8215766823161189 and parameters: {'colsample_bytree': 0.31585080872024507, 'gamma': 3, 'learning_rate': 0.45049842015736613, 'max_depth': 6, 'min_child_weight': 2, 'reg_alpha': 0.5743010411255627, 'reg_lambda': 0.6448933370439105, 'subsample': 0.803329370736166}. Best is trial 406 with value: 0.841255868544601.\u001b[0m\n",
            "\u001b[32m[I 2021-04-30 18:45:43,228]\u001b[0m Trial 596 finished with value: 0.8159820031298904 and parameters: {'colsample_bytree': 0.25971676750476813, 'gamma': 2, 'learning_rate': 0.27197642892636836, 'max_depth': 5, 'min_child_weight': 2, 'reg_alpha': 0.6009875669313397, 'reg_lambda': 0.3135196875924203, 'subsample': 0.6569994828428989}. Best is trial 406 with value: 0.841255868544601.\u001b[0m\n",
            "\u001b[32m[I 2021-04-30 18:45:43,692]\u001b[0m Trial 597 finished with value: 0.8371674491392801 and parameters: {'colsample_bytree': 0.4590112759938615, 'gamma': 0, 'learning_rate': 0.4983535524424063, 'max_depth': 6, 'min_child_weight': 5, 'reg_alpha': 0.5878879579531836, 'reg_lambda': 0.7070971621429787, 'subsample': 0.5759034110262796}. Best is trial 406 with value: 0.841255868544601.\u001b[0m\n",
            "\u001b[32m[I 2021-04-30 18:45:44,213]\u001b[0m Trial 598 finished with value: 0.8243544600938968 and parameters: {'colsample_bytree': 0.5003243998177835, 'gamma': 0, 'learning_rate': 0.4947676389753129, 'max_depth': 5, 'min_child_weight': 2, 'reg_alpha': 0.5954065162255023, 'reg_lambda': 0.6290601556768968, 'subsample': 0.6103090100439287}. Best is trial 406 with value: 0.841255868544601.\u001b[0m\n",
            "\u001b[32m[I 2021-04-30 18:45:44,652]\u001b[0m Trial 599 finished with value: 0.8243544600938968 and parameters: {'colsample_bytree': 0.4533772634316878, 'gamma': 0, 'learning_rate': 0.4750741223600968, 'max_depth': 6, 'min_child_weight': 5, 'reg_alpha': 0.605330158544294, 'reg_lambda': 0.7256142483243692, 'subsample': 0.5736529543884133}. Best is trial 406 with value: 0.841255868544601.\u001b[0m\n",
            "\u001b[32m[I 2021-04-30 18:45:45,104]\u001b[0m Trial 600 finished with value: 0.8202073552425665 and parameters: {'colsample_bytree': 0.3684631553540364, 'gamma': 0, 'learning_rate': 0.43355745056076883, 'max_depth': 5, 'min_child_weight': 5, 'reg_alpha': 0.587685178951807, 'reg_lambda': 0.7487636054858613, 'subsample': 0.6405175532515655}. Best is trial 406 with value: 0.841255868544601.\u001b[0m\n",
            "\u001b[32m[I 2021-04-30 18:45:45,582]\u001b[0m Trial 601 finished with value: 0.8189162754303598 and parameters: {'colsample_bytree': 0.4773425488165399, 'gamma': 2, 'learning_rate': 0.23720842605536294, 'max_depth': 5, 'min_child_weight': 5, 'reg_alpha': 0.610964232181606, 'reg_lambda': 0.6790773863600977, 'subsample': 0.6685444979269644}. Best is trial 406 with value: 0.841255868544601.\u001b[0m\n",
            "\u001b[32m[I 2021-04-30 18:45:46,023]\u001b[0m Trial 602 finished with value: 0.8217331768388106 and parameters: {'colsample_bytree': 0.4394298920068156, 'gamma': 0, 'learning_rate': 0.5026080209711856, 'max_depth': 6, 'min_child_weight': 5, 'reg_alpha': 0.5834291931851414, 'reg_lambda': 0.6670175655852015, 'subsample': 0.5509946641569591}. Best is trial 406 with value: 0.841255868544601.\u001b[0m\n",
            "\u001b[32m[I 2021-04-30 18:45:46,486]\u001b[0m Trial 603 finished with value: 0.8272887323943662 and parameters: {'colsample_bytree': 0.4759480117446333, 'gamma': 2, 'learning_rate': 0.4690455167909124, 'max_depth': 5, 'min_child_weight': 5, 'reg_alpha': 0.5920109829544412, 'reg_lambda': 0.649658294280356, 'subsample': 0.4943993192008755}. Best is trial 406 with value: 0.841255868544601.\u001b[0m\n",
            "\u001b[32m[I 2021-04-30 18:45:46,987]\u001b[0m Trial 604 finished with value: 0.8217527386541471 and parameters: {'colsample_bytree': 0.4570218363676151, 'gamma': 0, 'learning_rate': 0.45324275133484976, 'max_depth': 6, 'min_child_weight': 5, 'reg_alpha': 0.5760907378198873, 'reg_lambda': 0.7069399052899483, 'subsample': 0.715394359346941}. Best is trial 406 with value: 0.841255868544601.\u001b[0m\n",
            "\u001b[32m[I 2021-04-30 18:45:47,418]\u001b[0m Trial 605 finished with value: 0.8131651017214396 and parameters: {'colsample_bytree': 0.34241136081778195, 'gamma': 2, 'learning_rate': 0.25107465397980894, 'max_depth': 5, 'min_child_weight': 5, 'reg_alpha': 0.6100994845169544, 'reg_lambda': 0.6326930871975246, 'subsample': 0.6887175267572697}. Best is trial 406 with value: 0.841255868544601.\u001b[0m\n",
            "\u001b[32m[I 2021-04-30 18:45:47,850]\u001b[0m Trial 606 finished with value: 0.8200899843505477 and parameters: {'colsample_bytree': 0.32731914951388025, 'gamma': 3, 'learning_rate': 0.2588545366261395, 'max_depth': 6, 'min_child_weight': 6, 'reg_alpha': 0.5984319929013041, 'reg_lambda': 0.6560322845847965, 'subsample': 0.6206316339015208}. Best is trial 406 with value: 0.841255868544601.\u001b[0m\n",
            "\u001b[32m[I 2021-04-30 18:45:48,306]\u001b[0m Trial 607 finished with value: 0.8202660406885759 and parameters: {'colsample_bytree': 0.4868587865594205, 'gamma': 2, 'learning_rate': 0.28329811930649407, 'max_depth': 5, 'min_child_weight': 7, 'reg_alpha': 0.5686761919431981, 'reg_lambda': 0.6901137081593641, 'subsample': 0.5926068672460492}. Best is trial 406 with value: 0.841255868544601.\u001b[0m\n",
            "\u001b[32m[I 2021-04-30 18:45:48,779]\u001b[0m Trial 608 finished with value: 0.8215571205007824 and parameters: {'colsample_bytree': 0.4172544647928697, 'gamma': 2, 'learning_rate': 0.13956603798980144, 'max_depth': 6, 'min_child_weight': 5, 'reg_alpha': 0.5790507260014316, 'reg_lambda': 0.6226778851987296, 'subsample': 0.6338724532259967}. Best is trial 406 with value: 0.841255868544601.\u001b[0m\n",
            "\u001b[32m[I 2021-04-30 18:45:49,264]\u001b[0m Trial 609 finished with value: 0.8117175273865413 and parameters: {'colsample_bytree': 0.43793291550039726, 'gamma': 4, 'learning_rate': 0.47924890115235397, 'max_depth': 5, 'min_child_weight': 5, 'reg_alpha': 0.612681194532573, 'reg_lambda': 0.6794745366962154, 'subsample': 0.6858613980440212}. Best is trial 406 with value: 0.841255868544601.\u001b[0m\n",
            "\u001b[32m[I 2021-04-30 18:45:49,699]\u001b[0m Trial 610 finished with value: 0.8286776212832552 and parameters: {'colsample_bytree': 0.31072687702742835, 'gamma': 2, 'learning_rate': 0.4458918402343626, 'max_depth': 5, 'min_child_weight': 5, 'reg_alpha': 0.5922197926534712, 'reg_lambda': 0.7159214801762556, 'subsample': 0.7495330810785555}. Best is trial 406 with value: 0.841255868544601.\u001b[0m\n",
            "\u001b[32m[I 2021-04-30 18:45:50,140]\u001b[0m Trial 611 finished with value: 0.8299687010954617 and parameters: {'colsample_bytree': 0.2835140620343903, 'gamma': 3, 'learning_rate': 0.4186149184531834, 'max_depth': 6, 'min_child_weight': 4, 'reg_alpha': 0.5630130522436437, 'reg_lambda': 0.5769197006644495, 'subsample': 0.8529997327552157}. Best is trial 406 with value: 0.841255868544601.\u001b[0m\n",
            "\u001b[32m[I 2021-04-30 18:45:50,612]\u001b[0m Trial 612 finished with value: 0.8203442879499218 and parameters: {'colsample_bytree': 0.5355343061331803, 'gamma': 0, 'learning_rate': 0.48189023014749466, 'max_depth': 5, 'min_child_weight': 5, 'reg_alpha': 0.580366378331836, 'reg_lambda': 0.33529215841497084, 'subsample': 0.7252484234122186}. Best is trial 406 with value: 0.841255868544601.\u001b[0m\n",
            "\u001b[32m[I 2021-04-30 18:45:51,097]\u001b[0m Trial 613 finished with value: 0.8174491392801253 and parameters: {'colsample_bytree': 0.4282366691768426, 'gamma': 2, 'learning_rate': 0.26679272164033313, 'max_depth': 6, 'min_child_weight': 5, 'reg_alpha': 0.3107373626357468, 'reg_lambda': 0.34794536480520877, 'subsample': 0.8985029150996786}. Best is trial 406 with value: 0.841255868544601.\u001b[0m\n",
            "\u001b[32m[I 2021-04-30 18:45:51,607]\u001b[0m Trial 614 finished with value: 0.8230046948356808 and parameters: {'colsample_bytree': 0.45706189432257643, 'gamma': 2, 'learning_rate': 0.277183854267277, 'max_depth': 5, 'min_child_weight': 3, 'reg_alpha': 0.6042973113476129, 'reg_lambda': 0.6637304499951866, 'subsample': 0.776495403272243}. Best is trial 406 with value: 0.841255868544601.\u001b[0m\n",
            "\u001b[32m[I 2021-04-30 18:45:52,065]\u001b[0m Trial 615 finished with value: 0.8216353677621283 and parameters: {'colsample_bytree': 0.3508442090511357, 'gamma': 4, 'learning_rate': 0.50126281856118, 'max_depth': 6, 'min_child_weight': 2, 'reg_alpha': 0.618990542092223, 'reg_lambda': 0.6393121315074808, 'subsample': 0.6453092624376432}. Best is trial 406 with value: 0.841255868544601.\u001b[0m\n",
            "\u001b[32m[I 2021-04-30 18:45:52,522]\u001b[0m Trial 616 finished with value: 0.834330985915493 and parameters: {'colsample_bytree': 0.30081057859082616, 'gamma': 2, 'learning_rate': 0.34301764410127783, 'max_depth': 5, 'min_child_weight': 2, 'reg_alpha': 0.5637688925511485, 'reg_lambda': 0.6216484653361133, 'subsample': 0.8995715604025537}. Best is trial 406 with value: 0.841255868544601.\u001b[0m\n",
            "\u001b[32m[I 2021-04-30 18:45:52,992]\u001b[0m Trial 617 finished with value: 0.8272300469483568 and parameters: {'colsample_bytree': 0.3034660367558014, 'gamma': 2, 'learning_rate': 0.3434440293362747, 'max_depth': 6, 'min_child_weight': 2, 'reg_alpha': 0.5874781134269511, 'reg_lambda': 0.6145883316208175, 'subsample': 0.8989341050804874}. Best is trial 406 with value: 0.841255868544601.\u001b[0m\n",
            "\u001b[32m[I 2021-04-30 18:45:53,458]\u001b[0m Trial 618 finished with value: 0.8203834115805947 and parameters: {'colsample_bytree': 0.32254106170741864, 'gamma': 2, 'learning_rate': 0.326989722220217, 'max_depth': 5, 'min_child_weight': 2, 'reg_alpha': 0.5696364413245193, 'reg_lambda': 0.6257070090280232, 'subsample': 0.5188692211597996}. Best is trial 406 with value: 0.841255868544601.\u001b[0m\n",
            "\u001b[32m[I 2021-04-30 18:45:53,881]\u001b[0m Trial 619 finished with value: 0.8145735524256651 and parameters: {'colsample_bytree': 0.30884730817118716, 'gamma': 2, 'learning_rate': 0.3480539689309477, 'max_depth': 6, 'min_child_weight': 2, 'reg_alpha': 0.5994627892533513, 'reg_lambda': 0.6119856274491153, 'subsample': 0.3149599111734103}. Best is trial 406 with value: 0.841255868544601.\u001b[0m\n",
            "\u001b[32m[I 2021-04-30 18:45:54,337]\u001b[0m Trial 620 finished with value: 0.8314749608763693 and parameters: {'colsample_bytree': 0.33568281735041694, 'gamma': 2, 'learning_rate': 0.3441601385410289, 'max_depth': 5, 'min_child_weight': 2, 'reg_alpha': 0.5809549275670299, 'reg_lambda': 0.6467985870187248, 'subsample': 0.8340803571797868}. Best is trial 406 with value: 0.841255868544601.\u001b[0m\n",
            "\u001b[32m[I 2021-04-30 18:45:54,780]\u001b[0m Trial 621 finished with value: 0.8243935837245695 and parameters: {'colsample_bytree': 0.32304478334945363, 'gamma': 3, 'learning_rate': 0.36435160357436436, 'max_depth': 5, 'min_child_weight': 2, 'reg_alpha': 0.5671086498154443, 'reg_lambda': 0.631551558795006, 'subsample': 0.4632692980533119}. Best is trial 406 with value: 0.841255868544601.\u001b[0m\n",
            "\u001b[32m[I 2021-04-30 18:45:55,248]\u001b[0m Trial 622 finished with value: 0.8175860719874806 and parameters: {'colsample_bytree': 0.3814121507942797, 'gamma': 2, 'learning_rate': 0.13172551484107328, 'max_depth': 6, 'min_child_weight': 5, 'reg_alpha': 0.6160211318165504, 'reg_lambda': 0.5989445939109329, 'subsample': 0.574019711033495}. Best is trial 406 with value: 0.841255868544601.\u001b[0m\n",
            "\u001b[32m[I 2021-04-30 18:45:55,724]\u001b[0m Trial 623 finished with value: 0.82018779342723 and parameters: {'colsample_bytree': 0.2936240296670938, 'gamma': 2, 'learning_rate': 0.35021466439499194, 'max_depth': 5, 'min_child_weight': 2, 'reg_alpha': 0.5934433505132, 'reg_lambda': 0.8086832811807305, 'subsample': 0.3360994701446178}. Best is trial 406 with value: 0.841255868544601.\u001b[0m\n",
            "\u001b[32m[I 2021-04-30 18:45:56,231]\u001b[0m Trial 624 finished with value: 0.8202464788732394 and parameters: {'colsample_bytree': 0.3477200761002208, 'gamma': 2, 'learning_rate': 0.37489914235711663, 'max_depth': 6, 'min_child_weight': 3, 'reg_alpha': 0.6071719465050309, 'reg_lambda': 0.6930026015897899, 'subsample': 0.899920353839706}. Best is trial 406 with value: 0.841255868544601.\u001b[0m\n",
            "\u001b[32m[I 2021-04-30 18:45:56,697]\u001b[0m Trial 625 finished with value: 0.8271713615023474 and parameters: {'colsample_bytree': 0.3133506252606355, 'gamma': 2, 'learning_rate': 0.3655806536450666, 'max_depth': 6, 'min_child_weight': 2, 'reg_alpha': 0.5777735780961912, 'reg_lambda': 0.6143657907213153, 'subsample': 0.860379766832831}. Best is trial 406 with value: 0.841255868544601.\u001b[0m\n",
            "\u001b[32m[I 2021-04-30 18:45:57,136]\u001b[0m Trial 626 finished with value: 0.8232003129890455 and parameters: {'colsample_bytree': 0.2976690810943202, 'gamma': 2, 'learning_rate': 0.39183963230749574, 'max_depth': 5, 'min_child_weight': 2, 'reg_alpha': 0.5572306577363195, 'reg_lambda': 0.5892604638894452, 'subsample': 0.7440901481419173}. Best is trial 406 with value: 0.841255868544601.\u001b[0m\n",
            "\u001b[32m[I 2021-04-30 18:45:57,607]\u001b[0m Trial 627 finished with value: 0.8159820031298904 and parameters: {'colsample_bytree': 0.36612662714553573, 'gamma': 3, 'learning_rate': 0.4626397837590524, 'max_depth': 5, 'min_child_weight': 2, 'reg_alpha': 0.6185245032169828, 'reg_lambda': 0.6337842085898908, 'subsample': 0.4397573491227456}. Best is trial 406 with value: 0.841255868544601.\u001b[0m\n",
            "\u001b[32m[I 2021-04-30 18:45:58,065]\u001b[0m Trial 628 finished with value: 0.8159428794992175 and parameters: {'colsample_bytree': 0.3339327357220243, 'gamma': 2, 'learning_rate': 0.3587451227002807, 'max_depth': 6, 'min_child_weight': 2, 'reg_alpha': 0.5662940879766272, 'reg_lambda': 0.656262018154574, 'subsample': 0.8108399960866968}. Best is trial 406 with value: 0.841255868544601.\u001b[0m\n",
            "\u001b[32m[I 2021-04-30 18:45:58,518]\u001b[0m Trial 629 finished with value: 0.8257824726134585 and parameters: {'colsample_bytree': 0.3548957431312666, 'gamma': 2, 'learning_rate': 0.3247073614535432, 'max_depth': 5, 'min_child_weight': 2, 'reg_alpha': 0.5438486132355324, 'reg_lambda': 0.6735067373508579, 'subsample': 0.6858033117411716}. Best is trial 406 with value: 0.841255868544601.\u001b[0m\n",
            "\u001b[32m[I 2021-04-30 18:45:58,969]\u001b[0m Trial 630 finished with value: 0.818838028169014 and parameters: {'colsample_bytree': 0.41063515276004076, 'gamma': 2, 'learning_rate': 0.3370766557916269, 'max_depth': 6, 'min_child_weight': 6, 'reg_alpha': 0.439563758586558, 'reg_lambda': 0.5692786656933103, 'subsample': 0.769563174860482}. Best is trial 406 with value: 0.841255868544601.\u001b[0m\n",
            "\u001b[32m[I 2021-04-30 18:45:59,420]\u001b[0m Trial 631 finished with value: 0.8173904538341159 and parameters: {'colsample_bytree': 0.3224470925585254, 'gamma': 3, 'learning_rate': 0.2964375510494433, 'max_depth': 5, 'min_child_weight': 5, 'reg_alpha': 0.5888382294267742, 'reg_lambda': 0.6196477048279848, 'subsample': 0.8595927067876623}. Best is trial 406 with value: 0.841255868544601.\u001b[0m\n",
            "\u001b[32m[I 2021-04-30 18:45:59,885]\u001b[0m Trial 632 finished with value: 0.8286776212832552 and parameters: {'colsample_bytree': 0.3028173659190871, 'gamma': 2, 'learning_rate': 0.4294464364677822, 'max_depth': 7, 'min_child_weight': 2, 'reg_alpha': 0.629635966445252, 'reg_lambda': 0.644213852181449, 'subsample': 0.8268527964391681}. Best is trial 406 with value: 0.841255868544601.\u001b[0m\n",
            "\u001b[32m[I 2021-04-30 18:46:00,333]\u001b[0m Trial 633 finished with value: 0.8271322378716744 and parameters: {'colsample_bytree': 0.34056994248462336, 'gamma': 2, 'learning_rate': 0.37814176878124206, 'max_depth': 5, 'min_child_weight': 2, 'reg_alpha': 0.6036830537069988, 'reg_lambda': 0.602502433884833, 'subsample': 0.7178614209070014}. Best is trial 406 with value: 0.841255868544601.\u001b[0m\n",
            "\u001b[32m[I 2021-04-30 18:46:00,817]\u001b[0m Trial 634 finished with value: 0.8286580594679187 and parameters: {'colsample_bytree': 0.3148117816758377, 'gamma': 4, 'learning_rate': 0.35671181122485196, 'max_depth': 6, 'min_child_weight': 2, 'reg_alpha': 0.5764890315960411, 'reg_lambda': 0.7103022201029863, 'subsample': 0.7858959373471978}. Best is trial 406 with value: 0.841255868544601.\u001b[0m\n",
            "\u001b[32m[I 2021-04-30 18:46:01,256]\u001b[0m Trial 635 finished with value: 0.8231611893583726 and parameters: {'colsample_bytree': 0.2910534462989847, 'gamma': 2, 'learning_rate': 0.49968040679450165, 'max_depth': 5, 'min_child_weight': 2, 'reg_alpha': 0.589631699241901, 'reg_lambda': 0.6918873543242512, 'subsample': 0.8664706537981159}. Best is trial 406 with value: 0.841255868544601.\u001b[0m\n",
            "\u001b[32m[I 2021-04-30 18:46:01,741]\u001b[0m Trial 636 finished with value: 0.8216353677621283 and parameters: {'colsample_bytree': 0.39183879691476536, 'gamma': 2, 'learning_rate': 0.5152788910303823, 'max_depth': 6, 'min_child_weight': 3, 'reg_alpha': 0.5543790834524126, 'reg_lambda': 0.6656388433652031, 'subsample': 0.7461347097761395}. Best is trial 406 with value: 0.841255868544601.\u001b[0m\n",
            "\u001b[32m[I 2021-04-30 18:46:02,189]\u001b[0m Trial 637 finished with value: 0.8300469483568074 and parameters: {'colsample_bytree': 0.329829305128968, 'gamma': 2, 'learning_rate': 0.4616619739127588, 'max_depth': 5, 'min_child_weight': 2, 'reg_alpha': 0.6228844793159386, 'reg_lambda': 0.7335336820365773, 'subsample': 0.8985304853417965}. Best is trial 406 with value: 0.841255868544601.\u001b[0m\n",
            "\u001b[32m[I 2021-04-30 18:46:02,702]\u001b[0m Trial 638 finished with value: 0.8244913928012518 and parameters: {'colsample_bytree': 0.36858331556518914, 'gamma': 3, 'learning_rate': 0.4842060775083982, 'max_depth': 6, 'min_child_weight': 2, 'reg_alpha': 0.5633153200841767, 'reg_lambda': 0.6227827001974188, 'subsample': 0.8087952108741339}. Best is trial 406 with value: 0.841255868544601.\u001b[0m\n",
            "\u001b[32m[I 2021-04-30 18:46:03,125]\u001b[0m Trial 639 finished with value: 0.8159037558685446 and parameters: {'colsample_bytree': 0.34337172927685217, 'gamma': 0, 'learning_rate': 0.4429265172901734, 'max_depth': 5, 'min_child_weight': 5, 'reg_alpha': 0.6048541322377311, 'reg_lambda': 0.5899015370060784, 'subsample': 0.8405477021863513}. Best is trial 406 with value: 0.841255868544601.\u001b[0m\n",
            "\u001b[32m[I 2021-04-30 18:46:03,537]\u001b[0m Trial 640 finished with value: 0.8244327073552424 and parameters: {'colsample_bytree': 0.30570260789524784, 'gamma': 2, 'learning_rate': 0.3165801446109651, 'max_depth': 6, 'min_child_weight': 8, 'reg_alpha': 0.573786036373689, 'reg_lambda': 0.6523420078331659, 'subsample': 0.6540573688658888}. Best is trial 406 with value: 0.841255868544601.\u001b[0m\n",
            "\u001b[32m[I 2021-04-30 18:46:03,980]\u001b[0m Trial 641 finished with value: 0.8370892018779342 and parameters: {'colsample_bytree': 0.3230874567868665, 'gamma': 3, 'learning_rate': 0.40624379708002256, 'max_depth': 5, 'min_child_weight': 2, 'reg_alpha': 0.594105900839052, 'reg_lambda': 0.6085134398461647, 'subsample': 0.6951206724480893}. Best is trial 406 with value: 0.841255868544601.\u001b[0m\n",
            "\u001b[32m[I 2021-04-30 18:46:04,430]\u001b[0m Trial 642 finished with value: 0.8215571205007827 and parameters: {'colsample_bytree': 0.3239165129125635, 'gamma': 3, 'learning_rate': 0.3895896008997796, 'max_depth': 5, 'min_child_weight': 2, 'reg_alpha': 0.6077966773474687, 'reg_lambda': 0.6017844606481054, 'subsample': 0.6741232901700639}. Best is trial 406 with value: 0.841255868544601.\u001b[0m\n",
            "\u001b[32m[I 2021-04-30 18:46:04,849]\u001b[0m Trial 643 finished with value: 0.813262910798122 and parameters: {'colsample_bytree': 0.3162835526442268, 'gamma': 4, 'learning_rate': 0.36848456637751725, 'max_depth': 5, 'min_child_weight': 4, 'reg_alpha': 0.5970908176379418, 'reg_lambda': 0.614352076254977, 'subsample': 0.6814503535726297}. Best is trial 406 with value: 0.841255868544601.\u001b[0m\n",
            "\u001b[32m[I 2021-04-30 18:46:05,285]\u001b[0m Trial 644 finished with value: 0.8187402190923319 and parameters: {'colsample_bytree': 0.3542939915653327, 'gamma': 4, 'learning_rate': 0.3980539068639344, 'max_depth': 5, 'min_child_weight': 2, 'reg_alpha': 0.6182345830183215, 'reg_lambda': 0.6071852800560283, 'subsample': 0.6172746039045369}. Best is trial 406 with value: 0.841255868544601.\u001b[0m\n",
            "\u001b[32m[I 2021-04-30 18:46:05,631]\u001b[0m Trial 645 finished with value: 0.8004890453834117 and parameters: {'colsample_bytree': 0.17644898384026336, 'gamma': 3, 'learning_rate': 0.5363006019265724, 'max_depth': 5, 'min_child_weight': 3, 'reg_alpha': 0.6298088314633433, 'reg_lambda': 0.5806007818889144, 'subsample': 0.6997246636880534}. Best is trial 406 with value: 0.841255868544601.\u001b[0m\n",
            "\u001b[32m[I 2021-04-30 18:46:06,078]\u001b[0m Trial 646 finished with value: 0.8229851330203444 and parameters: {'colsample_bytree': 0.33969726899727676, 'gamma': 4, 'learning_rate': 0.3799248703860503, 'max_depth': 5, 'min_child_weight': 2, 'reg_alpha': 0.5916939145891177, 'reg_lambda': 0.6341424509990041, 'subsample': 0.6523277411810353}. Best is trial 406 with value: 0.841255868544601.\u001b[0m\n",
            "\u001b[32m[I 2021-04-30 18:46:06,472]\u001b[0m Trial 647 finished with value: 0.8105242566510172 and parameters: {'colsample_bytree': 0.3277312098333338, 'gamma': 3, 'learning_rate': 0.2922909636522308, 'max_depth': 5, 'min_child_weight': 5, 'reg_alpha': 0.636254486565432, 'reg_lambda': 0.5931907157338022, 'subsample': 0.39388889522040693}. Best is trial 406 with value: 0.841255868544601.\u001b[0m\n",
            "\u001b[32m[I 2021-04-30 18:46:06,910]\u001b[0m Trial 648 finished with value: 0.8187793427230048 and parameters: {'colsample_bytree': 0.3025377083439934, 'gamma': 4, 'learning_rate': 0.36239143776298194, 'max_depth': 5, 'min_child_weight': 2, 'reg_alpha': 0.6061818975111424, 'reg_lambda': 0.6077956319079396, 'subsample': 0.7026853836361688}. Best is trial 406 with value: 0.841255868544601.\u001b[0m\n",
            "\u001b[32m[I 2021-04-30 18:46:07,475]\u001b[0m Trial 649 finished with value: 0.8173317683881065 and parameters: {'colsample_bytree': 0.5868511954358843, 'gamma': 3, 'learning_rate': 0.18093304460920237, 'max_depth': 5, 'min_child_weight': 2, 'reg_alpha': 0.5856190743442329, 'reg_lambda': 0.6230565062514472, 'subsample': 0.6492303272598429}. Best is trial 406 with value: 0.841255868544601.\u001b[0m\n",
            "\u001b[32m[I 2021-04-30 18:46:07,929]\u001b[0m Trial 650 finished with value: 0.8427230046948357 and parameters: {'colsample_bytree': 0.31780542982994026, 'gamma': 4, 'learning_rate': 0.3870297757991567, 'max_depth': 5, 'min_child_weight': 1, 'reg_alpha': 0.6111695628501788, 'reg_lambda': 0.5761321285675478, 'subsample': 0.7269388445061777}. Best is trial 650 with value: 0.8427230046948357.\u001b[0m\n",
            "\u001b[32m[I 2021-04-30 18:46:08,376]\u001b[0m Trial 651 finished with value: 0.8188184663536775 and parameters: {'colsample_bytree': 0.2886983647516375, 'gamma': 4, 'learning_rate': 0.39769893185871036, 'max_depth': 5, 'min_child_weight': 2, 'reg_alpha': 0.5975305267370055, 'reg_lambda': 0.5609997897826444, 'subsample': 0.7062052487854503}. Best is trial 650 with value: 0.8427230046948357.\u001b[0m\n",
            "\u001b[32m[I 2021-04-30 18:46:08,838]\u001b[0m Trial 652 finished with value: 0.832805164319249 and parameters: {'colsample_bytree': 0.3312532703523887, 'gamma': 4, 'learning_rate': 0.38484286171086873, 'max_depth': 5, 'min_child_weight': 1, 'reg_alpha': 0.347613055658491, 'reg_lambda': 0.5792244090728984, 'subsample': 0.7203219121367929}. Best is trial 650 with value: 0.8427230046948357.\u001b[0m\n",
            "\u001b[32m[I 2021-04-30 18:46:09,307]\u001b[0m Trial 653 finished with value: 0.8229460093896714 and parameters: {'colsample_bytree': 0.3176179113067897, 'gamma': 4, 'learning_rate': 0.38164441000765037, 'max_depth': 5, 'min_child_weight': 1, 'reg_alpha': 0.5853250853000624, 'reg_lambda': 0.5671343785256118, 'subsample': 0.6792591584579195}. Best is trial 650 with value: 0.8427230046948357.\u001b[0m\n",
            "\u001b[32m[I 2021-04-30 18:46:09,771]\u001b[0m Trial 654 finished with value: 0.8314553990610328 and parameters: {'colsample_bytree': 0.32988881946011034, 'gamma': 4, 'learning_rate': 0.4039123769472313, 'max_depth': 5, 'min_child_weight': 1, 'reg_alpha': 0.3714656028587055, 'reg_lambda': 0.5701698160063956, 'subsample': 0.6983259515187609}. Best is trial 650 with value: 0.8427230046948357.\u001b[0m\n",
            "\u001b[32m[I 2021-04-30 18:46:10,238]\u001b[0m Trial 655 finished with value: 0.8189358372456963 and parameters: {'colsample_bytree': 0.35589306900764556, 'gamma': 4, 'learning_rate': 0.38672517510957527, 'max_depth': 5, 'min_child_weight': 1, 'reg_alpha': 0.33667159782432116, 'reg_lambda': 0.5506925222784521, 'subsample': 0.7476364781624805}. Best is trial 650 with value: 0.8427230046948357.\u001b[0m\n",
            "\u001b[32m[I 2021-04-30 18:46:10,711]\u001b[0m Trial 656 finished with value: 0.825802034428795 and parameters: {'colsample_bytree': 0.3121738842053103, 'gamma': 4, 'learning_rate': 0.3879273274737968, 'max_depth': 5, 'min_child_weight': 1, 'reg_alpha': 0.3872592666310574, 'reg_lambda': 0.582031865004663, 'subsample': 0.7171840107007299}. Best is trial 650 with value: 0.8427230046948357.\u001b[0m\n",
            "\u001b[32m[I 2021-04-30 18:46:11,169]\u001b[0m Trial 657 finished with value: 0.8216549295774648 and parameters: {'colsample_bytree': 0.34071990494012705, 'gamma': 4, 'learning_rate': 0.36667491500195953, 'max_depth': 5, 'min_child_weight': 1, 'reg_alpha': 0.5818413244552221, 'reg_lambda': 0.5747863911325235, 'subsample': 0.7253508383687604}. Best is trial 650 with value: 0.8427230046948357.\u001b[0m\n",
            "\u001b[32m[I 2021-04-30 18:46:11,673]\u001b[0m Trial 658 finished with value: 0.82306338028169 and parameters: {'colsample_bytree': 0.3734446453765228, 'gamma': 4, 'learning_rate': 0.3714032900310577, 'max_depth': 5, 'min_child_weight': 1, 'reg_alpha': 0.5389714510650873, 'reg_lambda': 0.5834938053491234, 'subsample': 0.6689268487443453}. Best is trial 650 with value: 0.8427230046948357.\u001b[0m\n",
            "\u001b[32m[I 2021-04-30 18:46:12,135]\u001b[0m Trial 659 finished with value: 0.809037558685446 and parameters: {'colsample_bytree': 0.3264368444720094, 'gamma': 4, 'learning_rate': 0.37353311922912996, 'max_depth': 5, 'min_child_weight': 1, 'reg_alpha': 0.5970343000489627, 'reg_lambda': 0.5889366100261707, 'subsample': 0.7294729805939298}. Best is trial 650 with value: 0.8427230046948357.\u001b[0m\n",
            "\u001b[32m[I 2021-04-30 18:46:12,599]\u001b[0m Trial 660 finished with value: 0.8186424100156495 and parameters: {'colsample_bytree': 0.30915729582090995, 'gamma': 4, 'learning_rate': 0.40046384588159745, 'max_depth': 5, 'min_child_weight': 1, 'reg_alpha': 0.6093071720985718, 'reg_lambda': 0.560612218824586, 'subsample': 0.698603115289915}. Best is trial 650 with value: 0.8427230046948357.\u001b[0m\n",
            "\u001b[32m[I 2021-04-30 18:46:13,065]\u001b[0m Trial 661 finished with value: 0.8357198748043819 and parameters: {'colsample_bytree': 0.3467296386607263, 'gamma': 4, 'learning_rate': 0.37887076818909393, 'max_depth': 5, 'min_child_weight': 1, 'reg_alpha': 0.5763707478868895, 'reg_lambda': 0.5756693818797687, 'subsample': 0.7350395279510491}. Best is trial 650 with value: 0.8427230046948357.\u001b[0m\n",
            "\u001b[32m[I 2021-04-30 18:46:13,540]\u001b[0m Trial 662 finished with value: 0.8244522691705789 and parameters: {'colsample_bytree': 0.3596403843618945, 'gamma': 4, 'learning_rate': 0.3589578626756141, 'max_depth': 5, 'min_child_weight': 1, 'reg_alpha': 0.571155038919829, 'reg_lambda': 0.593772623744466, 'subsample': 0.7410500033398184}. Best is trial 650 with value: 0.8427230046948357.\u001b[0m\n",
            "\u001b[32m[I 2021-04-30 18:46:14,038]\u001b[0m Trial 663 finished with value: 0.817351330203443 and parameters: {'colsample_bytree': 0.38182116630001156, 'gamma': 4, 'learning_rate': 0.41236482361280075, 'max_depth': 5, 'min_child_weight': 1, 'reg_alpha': 0.5805845605558384, 'reg_lambda': 0.3906646202255615, 'subsample': 0.7646756934262166}. Best is trial 650 with value: 0.8427230046948357.\u001b[0m\n",
            "\u001b[32m[I 2021-04-30 18:46:14,504]\u001b[0m Trial 664 finished with value: 0.8203051643192488 and parameters: {'colsample_bytree': 0.3495826214956761, 'gamma': 4, 'learning_rate': 0.3971483851707088, 'max_depth': 5, 'min_child_weight': 1, 'reg_alpha': 0.5584871442729253, 'reg_lambda': 0.5649704070770237, 'subsample': 0.7411916047286651}. Best is trial 650 with value: 0.8427230046948357.\u001b[0m\n",
            "\u001b[32m[I 2021-04-30 18:46:14,992]\u001b[0m Trial 665 finished with value: 0.8272887323943662 and parameters: {'colsample_bytree': 0.4027528442552536, 'gamma': 4, 'learning_rate': 0.3546673099028689, 'max_depth': 5, 'min_child_weight': 2, 'reg_alpha': 0.5927427546880628, 'reg_lambda': 0.5731226324268707, 'subsample': 0.6725615473528482}. Best is trial 650 with value: 0.8427230046948357.\u001b[0m\n",
            "\u001b[32m[I 2021-04-30 18:46:15,500]\u001b[0m Trial 666 finished with value: 0.8173708920187794 and parameters: {'colsample_bytree': 0.36819213297779535, 'gamma': 3, 'learning_rate': 0.3399044688552869, 'max_depth': 5, 'min_child_weight': 1, 'reg_alpha': 0.5763573749608475, 'reg_lambda': 0.5985864695041997, 'subsample': 0.7725732175356087}. Best is trial 650 with value: 0.8427230046948357.\u001b[0m\n",
            "\u001b[32m[I 2021-04-30 18:46:15,950]\u001b[0m Trial 667 finished with value: 0.8242957746478874 and parameters: {'colsample_bytree': 0.3445009771432075, 'gamma': 4, 'learning_rate': 0.3753319954289826, 'max_depth': 5, 'min_child_weight': 2, 'reg_alpha': 0.5520973381559556, 'reg_lambda': 0.5487257741878164, 'subsample': 0.7155154127306175}. Best is trial 650 with value: 0.8427230046948357.\u001b[0m\n",
            "\u001b[32m[I 2021-04-30 18:46:16,413]\u001b[0m Trial 668 finished with value: 0.8146713615023472 and parameters: {'colsample_bytree': 0.29696214032311025, 'gamma': 3, 'learning_rate': 0.40464270810986225, 'max_depth': 5, 'min_child_weight': 1, 'reg_alpha': 0.5668524866521499, 'reg_lambda': 0.6411862937433153, 'subsample': 0.7535183363596348}. Best is trial 650 with value: 0.8427230046948357.\u001b[0m\n",
            "\u001b[32m[I 2021-04-30 18:46:16,861]\u001b[0m Trial 669 finished with value: 0.8201682316118936 and parameters: {'colsample_bytree': 0.3220424335871076, 'gamma': 4, 'learning_rate': 0.37310412481378796, 'max_depth': 5, 'min_child_weight': 2, 'reg_alpha': 0.5884077925463269, 'reg_lambda': 0.5893485111023172, 'subsample': 0.6324481978741113}. Best is trial 650 with value: 0.8427230046948357.\u001b[0m\n",
            "\u001b[32m[I 2021-04-30 18:46:17,325]\u001b[0m Trial 670 finished with value: 0.8216940532081377 and parameters: {'colsample_bytree': 0.3412535630056138, 'gamma': 4, 'learning_rate': 0.38973106833571247, 'max_depth': 5, 'min_child_weight': 1, 'reg_alpha': 0.5309448673462226, 'reg_lambda': 0.6219339364800066, 'subsample': 0.687210013367282}. Best is trial 650 with value: 0.8427230046948357.\u001b[0m\n",
            "\u001b[32m[I 2021-04-30 18:46:17,778]\u001b[0m Trial 671 finished with value: 0.8299100156494523 and parameters: {'colsample_bytree': 0.3593704008481663, 'gamma': 3, 'learning_rate': 0.36421453895358014, 'max_depth': 5, 'min_child_weight': 2, 'reg_alpha': 0.6002226125406989, 'reg_lambda': 0.39741676430809275, 'subsample': 0.7876539812823706}. Best is trial 650 with value: 0.8427230046948357.\u001b[0m\n",
            "\u001b[32m[I 2021-04-30 18:46:18,231]\u001b[0m Trial 672 finished with value: 0.8229068857589985 and parameters: {'colsample_bytree': 0.3121471841439628, 'gamma': 4, 'learning_rate': 0.3477784047415259, 'max_depth': 5, 'min_child_weight': 1, 'reg_alpha': 0.5488954185047348, 'reg_lambda': 0.6528563911466903, 'subsample': 0.7405648834414365}. Best is trial 650 with value: 0.8427230046948357.\u001b[0m\n",
            "\u001b[32m[I 2021-04-30 18:46:18,712]\u001b[0m Trial 673 finished with value: 0.8384585289514866 and parameters: {'colsample_bytree': 0.38150839686596527, 'gamma': 3, 'learning_rate': 0.40682277164448477, 'max_depth': 5, 'min_child_weight': 2, 'reg_alpha': 0.5773390769620093, 'reg_lambda': 0.6023707640332605, 'subsample': 0.7987604075513934}. Best is trial 650 with value: 0.8427230046948357.\u001b[0m\n",
            "\u001b[32m[I 2021-04-30 18:46:19,194]\u001b[0m Trial 674 finished with value: 0.8271517996870109 and parameters: {'colsample_bytree': 0.42106441937831585, 'gamma': 3, 'learning_rate': 0.40303392520249076, 'max_depth': 5, 'min_child_weight': 2, 'reg_alpha': 0.572789355523274, 'reg_lambda': 0.6025722103811237, 'subsample': 0.7808932912405884}. Best is trial 650 with value: 0.8427230046948357.\u001b[0m\n",
            "\u001b[32m[I 2021-04-30 18:46:19,676]\u001b[0m Trial 675 finished with value: 0.8285602503912364 and parameters: {'colsample_bytree': 0.3988302831700262, 'gamma': 3, 'learning_rate': 0.4041278807769716, 'max_depth': 5, 'min_child_weight': 2, 'reg_alpha': 0.5588901725538312, 'reg_lambda': 0.5808524754397558, 'subsample': 0.7888176476207446}. Best is trial 650 with value: 0.8427230046948357.\u001b[0m\n",
            "\u001b[32m[I 2021-04-30 18:46:20,173]\u001b[0m Trial 676 finished with value: 0.8230438184663538 and parameters: {'colsample_bytree': 0.3695699712124926, 'gamma': 3, 'learning_rate': 0.4121740852627654, 'max_depth': 5, 'min_child_weight': 2, 'reg_alpha': 0.5819469884845022, 'reg_lambda': 0.6102864558302858, 'subsample': 0.7521480696526078}. Best is trial 650 with value: 0.8427230046948357.\u001b[0m\n",
            "\u001b[32m[I 2021-04-30 18:46:20,673]\u001b[0m Trial 677 finished with value: 0.8243544600938968 and parameters: {'colsample_bytree': 0.38404217993892587, 'gamma': 3, 'learning_rate': 0.42048240954014177, 'max_depth': 5, 'min_child_weight': 2, 'reg_alpha': 0.5660221738790011, 'reg_lambda': 0.5937401646533141, 'subsample': 0.7086612633886055}. Best is trial 650 with value: 0.8427230046948357.\u001b[0m\n",
            "\u001b[32m[I 2021-04-30 18:46:21,172]\u001b[0m Trial 678 finished with value: 0.8202856025039124 and parameters: {'colsample_bytree': 0.3897245399069304, 'gamma': 3, 'learning_rate': 0.38678874409836694, 'max_depth': 5, 'min_child_weight': 2, 'reg_alpha': 0.5768913698485262, 'reg_lambda': 0.6322815991926799, 'subsample': 0.8092675806397762}. Best is trial 650 with value: 0.8427230046948357.\u001b[0m\n",
            "\u001b[32m[I 2021-04-30 18:46:21,655]\u001b[0m Trial 679 finished with value: 0.825802034428795 and parameters: {'colsample_bytree': 0.40738027823666834, 'gamma': 3, 'learning_rate': 0.4269864106264544, 'max_depth': 5, 'min_child_weight': 2, 'reg_alpha': 0.547238401001095, 'reg_lambda': 0.6093487564224532, 'subsample': 0.7652321624835551}. Best is trial 650 with value: 0.8427230046948357.\u001b[0m\n",
            "\u001b[32m[I 2021-04-30 18:46:22,144]\u001b[0m Trial 680 finished with value: 0.8259194053208138 and parameters: {'colsample_bytree': 0.3837924301002082, 'gamma': 3, 'learning_rate': 0.3752678695730947, 'max_depth': 5, 'min_child_weight': 2, 'reg_alpha': 0.5890978925164857, 'reg_lambda': 0.5789338805163559, 'subsample': 0.7289983075074987}. Best is trial 650 with value: 0.8427230046948357.\u001b[0m\n",
            "\u001b[32m[I 2021-04-30 18:46:22,649]\u001b[0m Trial 681 finished with value: 0.8341940532081378 and parameters: {'colsample_bytree': 0.3794395265320795, 'gamma': 3, 'learning_rate': 0.4131336154756611, 'max_depth': 5, 'min_child_weight': 2, 'reg_alpha': 0.5669649219508978, 'reg_lambda': 0.5579754637495158, 'subsample': 0.649537208992303}. Best is trial 650 with value: 0.8427230046948357.\u001b[0m\n",
            "\u001b[32m[I 2021-04-30 18:46:23,099]\u001b[0m Trial 682 finished with value: 0.8243740219092333 and parameters: {'colsample_bytree': 0.363334152758563, 'gamma': 3, 'learning_rate': 0.41762917713890674, 'max_depth': 5, 'min_child_weight': 2, 'reg_alpha': 0.554196347041624, 'reg_lambda': 0.55502621798619, 'subsample': 0.6103423857263615}. Best is trial 650 with value: 0.8427230046948357.\u001b[0m\n",
            "\u001b[32m[I 2021-04-30 18:46:23,595]\u001b[0m Trial 683 finished with value: 0.8257042253521126 and parameters: {'colsample_bytree': 0.3889459632779717, 'gamma': 3, 'learning_rate': 0.40716566997034453, 'max_depth': 5, 'min_child_weight': 2, 'reg_alpha': 0.5653927770004531, 'reg_lambda': 0.567012649992912, 'subsample': 0.6552013343046666}. Best is trial 650 with value: 0.8427230046948357.\u001b[0m\n",
            "\u001b[32m[I 2021-04-30 18:46:24,086]\u001b[0m Trial 684 finished with value: 0.8299687010954617 and parameters: {'colsample_bytree': 0.4398974744378911, 'gamma': 3, 'learning_rate': 0.42317332722041695, 'max_depth': 5, 'min_child_weight': 2, 'reg_alpha': 0.5365236496887429, 'reg_lambda': 0.5701282181647197, 'subsample': 0.5890778274009884}. Best is trial 650 with value: 0.8427230046948357.\u001b[0m\n",
            "\u001b[32m[I 2021-04-30 18:46:24,575]\u001b[0m Trial 685 finished with value: 0.8187597809076683 and parameters: {'colsample_bytree': 0.3710152681493411, 'gamma': 3, 'learning_rate': 0.43979337484257974, 'max_depth': 5, 'min_child_weight': 2, 'reg_alpha': 0.5167983119876074, 'reg_lambda': 0.5536645074127342, 'subsample': 0.6404640702540694}. Best is trial 650 with value: 0.8427230046948357.\u001b[0m\n",
            "\u001b[32m[I 2021-04-30 18:46:25,022]\u001b[0m Trial 686 finished with value: 0.8270931142410015 and parameters: {'colsample_bytree': 0.3518931979229376, 'gamma': 3, 'learning_rate': 0.39545953395720596, 'max_depth': 5, 'min_child_weight': 2, 'reg_alpha': 0.5610266680773272, 'reg_lambda': 0.5854739521831817, 'subsample': 0.6626932159565114}. Best is trial 650 with value: 0.8427230046948357.\u001b[0m\n",
            "\u001b[32m[I 2021-04-30 18:46:25,477]\u001b[0m Trial 687 finished with value: 0.8230633802816902 and parameters: {'colsample_bytree': 0.36124683656804485, 'gamma': 3, 'learning_rate': 0.38760282753168174, 'max_depth': 5, 'min_child_weight': 2, 'reg_alpha': 0.5436778005093178, 'reg_lambda': 0.5723877945148507, 'subsample': 0.6243791301667385}. Best is trial 650 with value: 0.8427230046948357.\u001b[0m\n",
            "\u001b[32m[I 2021-04-30 18:46:26,038]\u001b[0m Trial 688 finished with value: 0.8117957746478872 and parameters: {'colsample_bytree': 0.5967432411494111, 'gamma': 3, 'learning_rate': 0.4136830416215074, 'max_depth': 5, 'min_child_weight': 2, 'reg_alpha': 0.5705231661400223, 'reg_lambda': 0.5957495633098069, 'subsample': 0.6804164615069669}. Best is trial 650 with value: 0.8427230046948357.\u001b[0m\n",
            "\u001b[32m[I 2021-04-30 18:46:26,524]\u001b[0m Trial 689 finished with value: 0.8217331768388106 and parameters: {'colsample_bytree': 0.38451123388719843, 'gamma': 3, 'learning_rate': 0.430872097306965, 'max_depth': 5, 'min_child_weight': 2, 'reg_alpha': 0.5889678237681183, 'reg_lambda': 0.5859123703682635, 'subsample': 0.6815769841384566}. Best is trial 650 with value: 0.8427230046948357.\u001b[0m\n",
            "\u001b[32m[I 2021-04-30 18:46:27,015]\u001b[0m Trial 690 finished with value: 0.8174295774647888 and parameters: {'colsample_bytree': 0.4153728902727521, 'gamma': 3, 'learning_rate': 0.3948639901238821, 'max_depth': 5, 'min_child_weight': 2, 'reg_alpha': 0.5774072910447341, 'reg_lambda': 0.5629420684397091, 'subsample': 0.7047269119891565}. Best is trial 650 with value: 0.8427230046948357.\u001b[0m\n",
            "\u001b[32m[I 2021-04-30 18:46:27,465]\u001b[0m Trial 691 finished with value: 0.8272496087636932 and parameters: {'colsample_bytree': 0.3437047639767039, 'gamma': 3, 'learning_rate': 0.41328635336014874, 'max_depth': 5, 'min_child_weight': 2, 'reg_alpha': 0.5600731247586692, 'reg_lambda': 0.5390759244502064, 'subsample': 0.6585527289490235}. Best is trial 650 with value: 0.8427230046948357.\u001b[0m\n",
            "\u001b[32m[I 2021-04-30 18:46:27,964]\u001b[0m Trial 692 finished with value: 0.8245305164319248 and parameters: {'colsample_bytree': 0.4046251362600787, 'gamma': 3, 'learning_rate': 0.4448126302971464, 'max_depth': 5, 'min_child_weight': 2, 'reg_alpha': 0.5734077561765454, 'reg_lambda': 0.5981862937503941, 'subsample': 0.7048232515383521}. Best is trial 650 with value: 0.8427230046948357.\u001b[0m\n",
            "\u001b[32m[I 2021-04-30 18:46:28,423]\u001b[0m Trial 693 finished with value: 0.8131651017214399 and parameters: {'colsample_bytree': 0.28704119029184133, 'gamma': 2, 'learning_rate': 0.35737600249657203, 'max_depth': 5, 'min_child_weight': 2, 'reg_alpha': 0.5550613546323704, 'reg_lambda': 0.6208420056048232, 'subsample': 0.6331608460237194}. Best is trial 650 with value: 0.8427230046948357.\u001b[0m\n",
            "\u001b[32m[I 2021-04-30 18:46:28,912]\u001b[0m Trial 694 finished with value: 0.8202269170579031 and parameters: {'colsample_bytree': 0.3775184981030293, 'gamma': 3, 'learning_rate': 0.3732138127637965, 'max_depth': 5, 'min_child_weight': 2, 'reg_alpha': 0.5810951911515025, 'reg_lambda': 0.5802050853735243, 'subsample': 0.739379752463482}. Best is trial 650 with value: 0.8427230046948357.\u001b[0m\n",
            "\u001b[32m[I 2021-04-30 18:46:29,416]\u001b[0m Trial 695 finished with value: 0.8258607198748044 and parameters: {'colsample_bytree': 0.4021208457876059, 'gamma': 2, 'learning_rate': 0.39320702499863225, 'max_depth': 5, 'min_child_weight': 2, 'reg_alpha': 0.5908094935162846, 'reg_lambda': 0.6060509519189211, 'subsample': 0.6624579580451093}. Best is trial 650 with value: 0.8427230046948357.\u001b[0m\n",
            "\u001b[32m[I 2021-04-30 18:46:29,922]\u001b[0m Trial 696 finished with value: 0.8385954616588419 and parameters: {'colsample_bytree': 0.37229364452449565, 'gamma': 2, 'learning_rate': 0.4195259247161892, 'max_depth': 6, 'min_child_weight': 2, 'reg_alpha': 0.5673697259492283, 'reg_lambda': 0.6168750655277165, 'subsample': 0.5979055375616724}. Best is trial 650 with value: 0.8427230046948357.\u001b[0m\n",
            "\u001b[32m[I 2021-04-30 18:46:30,431]\u001b[0m Trial 697 finished with value: 0.8245696400625977 and parameters: {'colsample_bytree': 0.3694853503332281, 'gamma': 2, 'learning_rate': 0.4264901439337876, 'max_depth': 6, 'min_child_weight': 2, 'reg_alpha': 0.5450482652250944, 'reg_lambda': 0.6205305506661837, 'subsample': 0.5844441030201512}. Best is trial 650 with value: 0.8427230046948357.\u001b[0m\n",
            "\u001b[32m[I 2021-04-30 18:46:30,933]\u001b[0m Trial 698 finished with value: 0.8315140845070422 and parameters: {'colsample_bytree': 0.37581614395248186, 'gamma': 2, 'learning_rate': 0.4170144081457843, 'max_depth': 6, 'min_child_weight': 2, 'reg_alpha': 0.571040031685322, 'reg_lambda': 0.6315962482874281, 'subsample': 0.6192174378302217}. Best is trial 650 with value: 0.8427230046948357.\u001b[0m\n",
            "\u001b[32m[I 2021-04-30 18:46:31,396]\u001b[0m Trial 699 finished with value: 0.8245696400625979 and parameters: {'colsample_bytree': 0.35958051960083404, 'gamma': 2, 'learning_rate': 0.4356791643631708, 'max_depth': 6, 'min_child_weight': 2, 'reg_alpha': 0.5270325844078474, 'reg_lambda': 0.6135328830589464, 'subsample': 0.6405590297591155}. Best is trial 650 with value: 0.8427230046948357.\u001b[0m\n",
            "\u001b[32m[I 2021-04-30 18:46:31,983]\u001b[0m Trial 700 finished with value: 0.8230046948356808 and parameters: {'colsample_bytree': 0.6250498991898108, 'gamma': 2, 'learning_rate': 0.4041730785502248, 'max_depth': 6, 'min_child_weight': 2, 'reg_alpha': 0.5570289332997396, 'reg_lambda': 0.5962074545380917, 'subsample': 0.5916097662852651}. Best is trial 650 with value: 0.8427230046948357.\u001b[0m\n",
            "\u001b[32m[I 2021-04-30 18:46:32,619]\u001b[0m Trial 701 finished with value: 0.8188771517996871 and parameters: {'colsample_bytree': 0.6694831243991903, 'gamma': 2, 'learning_rate': 0.4221701356575301, 'max_depth': 6, 'min_child_weight': 2, 'reg_alpha': 0.5639862367959351, 'reg_lambda': 0.6396352086084448, 'subsample': 0.6085757282317008}. Best is trial 650 with value: 0.8427230046948357.\u001b[0m\n",
            "\u001b[32m[I 2021-04-30 18:46:33,067]\u001b[0m Trial 702 finished with value: 0.8272104851330203 and parameters: {'colsample_bytree': 0.35338579253163926, 'gamma': 2, 'learning_rate': 0.4478596593526608, 'max_depth': 6, 'min_child_weight': 2, 'reg_alpha': 0.5434986426217735, 'reg_lambda': 0.6107740622253159, 'subsample': 0.5685168398800092}. Best is trial 650 with value: 0.8427230046948357.\u001b[0m\n",
            "\u001b[32m[I 2021-04-30 18:46:33,587]\u001b[0m Trial 703 finished with value: 0.8215962441314554 and parameters: {'colsample_bytree': 0.3723584797160557, 'gamma': 2, 'learning_rate': 0.38136827313342486, 'max_depth': 6, 'min_child_weight': 2, 'reg_alpha': 0.5658171415081495, 'reg_lambda': 0.6248870676551965, 'subsample': 0.6502898870153824}. Best is trial 650 with value: 0.8427230046948357.\u001b[0m\n",
            "\u001b[32m[I 2021-04-30 18:46:33,946]\u001b[0m Trial 704 finished with value: 0.8174687010954618 and parameters: {'colsample_bytree': 0.13686821305832442, 'gamma': 3, 'learning_rate': 0.4046469065278673, 'max_depth': 6, 'min_child_weight': 2, 'reg_alpha': 0.5496904167343953, 'reg_lambda': 0.590407757858431, 'subsample': 0.587743128031687}. Best is trial 650 with value: 0.8427230046948357.\u001b[0m\n",
            "\u001b[32m[I 2021-04-30 18:46:34,413]\u001b[0m Trial 705 finished with value: 0.8273865414710485 and parameters: {'colsample_bytree': 0.34836490913065193, 'gamma': 2, 'learning_rate': 0.46426690719905744, 'max_depth': 6, 'min_child_weight': 2, 'reg_alpha': 0.5790470977749946, 'reg_lambda': 0.6048753678918269, 'subsample': 0.6253277070186809}. Best is trial 650 with value: 0.8427230046948357.\u001b[0m\n",
            "\u001b[32m[I 2021-04-30 18:46:34,880]\u001b[0m Trial 706 finished with value: 0.8272104851330203 and parameters: {'colsample_bytree': 0.3418586203946813, 'gamma': 2, 'learning_rate': 0.4286170641661173, 'max_depth': 6, 'min_child_weight': 2, 'reg_alpha': 0.5329495790381161, 'reg_lambda': 0.5710856053834146, 'subsample': 0.6142226261117836}. Best is trial 650 with value: 0.8427230046948357.\u001b[0m\n",
            "\u001b[32m[I 2021-04-30 18:46:35,387]\u001b[0m Trial 707 finished with value: 0.822926447574335 and parameters: {'colsample_bytree': 0.3899662478837897, 'gamma': 3, 'learning_rate': 0.4084326472084525, 'max_depth': 6, 'min_child_weight': 2, 'reg_alpha': 0.5645982613252526, 'reg_lambda': 0.6436338038855927, 'subsample': 0.5476561206710179}. Best is trial 650 with value: 0.8427230046948357.\u001b[0m\n",
            "\u001b[32m[I 2021-04-30 18:46:35,852]\u001b[0m Trial 708 finished with value: 0.8272691705790297 and parameters: {'colsample_bytree': 0.358828081260414, 'gamma': 2, 'learning_rate': 0.39172299872452704, 'max_depth': 6, 'min_child_weight': 2, 'reg_alpha': 0.5818531184097727, 'reg_lambda': 0.6748782249927564, 'subsample': 0.678174743865878}. Best is trial 650 with value: 0.8427230046948357.\u001b[0m\n",
            "\u001b[32m[I 2021-04-30 18:46:36,426]\u001b[0m Trial 709 finished with value: 0.8159428794992177 and parameters: {'colsample_bytree': 0.5606155747076716, 'gamma': 2, 'learning_rate': 0.44096869500622227, 'max_depth': 6, 'min_child_weight': 2, 'reg_alpha': 0.5574951568131361, 'reg_lambda': 0.6593352758786178, 'subsample': 0.6467306828252938}. Best is trial 650 with value: 0.8427230046948357.\u001b[0m\n",
            "\u001b[32m[I 2021-04-30 18:46:36,889]\u001b[0m Trial 710 finished with value: 0.827366979655712 and parameters: {'colsample_bytree': 0.33475548397788313, 'gamma': 2, 'learning_rate': 0.45873662603854753, 'max_depth': 6, 'min_child_weight': 2, 'reg_alpha': 0.5738417489119731, 'reg_lambda': 0.5577649591834747, 'subsample': 0.5946881409256997}. Best is trial 650 with value: 0.8427230046948357.\u001b[0m\n",
            "\u001b[32m[I 2021-04-30 18:46:37,349]\u001b[0m Trial 711 finished with value: 0.8202073552425665 and parameters: {'colsample_bytree': 0.2944984516226492, 'gamma': 2, 'learning_rate': 0.48608805366894153, 'max_depth': 6, 'min_child_weight': 2, 'reg_alpha': 0.5460576226284611, 'reg_lambda': 0.6184177333471325, 'subsample': 0.6945148597389512}. Best is trial 650 with value: 0.8427230046948357.\u001b[0m\n",
            "\u001b[32m[I 2021-04-30 18:46:37,805]\u001b[0m Trial 712 finished with value: 0.8200899843505477 and parameters: {'colsample_bytree': 0.28062621863810355, 'gamma': 2, 'learning_rate': 0.3041349220270538, 'max_depth': 6, 'min_child_weight': 3, 'reg_alpha': 0.5880816527674053, 'reg_lambda': 0.5864610650667931, 'subsample': 0.6751221084552809}. Best is trial 650 with value: 0.8427230046948357.\u001b[0m\n",
            "\u001b[32m[I 2021-04-30 18:46:38,306]\u001b[0m Trial 713 finished with value: 0.8231220657276996 and parameters: {'colsample_bytree': 0.376071896637258, 'gamma': 3, 'learning_rate': 0.38021979073280204, 'max_depth': 6, 'min_child_weight': 2, 'reg_alpha': 0.5670347276683378, 'reg_lambda': 0.6311429975550087, 'subsample': 0.7007628477713161}. Best is trial 650 with value: 0.8427230046948357.\u001b[0m\n",
            "\u001b[32m[I 2021-04-30 18:46:38,777]\u001b[0m Trial 714 finished with value: 0.8217136150234742 and parameters: {'colsample_bytree': 0.32967392262408785, 'gamma': 2, 'learning_rate': 0.41969119740233574, 'max_depth': 6, 'min_child_weight': 2, 'reg_alpha': 0.5782833254961969, 'reg_lambda': 0.6002161777507802, 'subsample': 0.6430149992753786}. Best is trial 650 with value: 0.8427230046948357.\u001b[0m\n",
            "\u001b[32m[I 2021-04-30 18:46:39,248]\u001b[0m Trial 715 finished with value: 0.8244718309859154 and parameters: {'colsample_bytree': 0.3536353055726701, 'gamma': 3, 'learning_rate': 0.3349774654833404, 'max_depth': 6, 'min_child_weight': 2, 'reg_alpha': 0.5938148708824766, 'reg_lambda': 0.6481470254025115, 'subsample': 0.736500991691712}. Best is trial 650 with value: 0.8427230046948357.\u001b[0m\n",
            "\u001b[32m[I 2021-04-30 18:46:39,778]\u001b[0m Trial 716 finished with value: 0.8145539906103286 and parameters: {'colsample_bytree': 0.523731140787435, 'gamma': 2, 'learning_rate': 0.5126333954324591, 'max_depth': 6, 'min_child_weight': 2, 'reg_alpha': 0.5548051299931123, 'reg_lambda': 0.5762087563079983, 'subsample': 0.5578469270689195}. Best is trial 650 with value: 0.8427230046948357.\u001b[0m\n",
            "\u001b[32m[I 2021-04-30 18:46:40,256]\u001b[0m Trial 717 finished with value: 0.8188575899843507 and parameters: {'colsample_bytree': 0.3033994881571748, 'gamma': 3, 'learning_rate': 0.2823791206676695, 'max_depth': 6, 'min_child_weight': 2, 'reg_alpha': 0.5390486066384046, 'reg_lambda': 0.6748943451505088, 'subsample': 0.6110051567060294}. Best is trial 650 with value: 0.8427230046948357.\u001b[0m\n",
            "\u001b[32m[I 2021-04-30 18:46:40,696]\u001b[0m Trial 718 finished with value: 0.8188184663536777 and parameters: {'colsample_bytree': 0.34012387993643906, 'gamma': 2, 'learning_rate': 0.39667318633712695, 'max_depth': 5, 'min_child_weight': 2, 'reg_alpha': 0.5700581714796835, 'reg_lambda': 0.6162342330798742, 'subsample': 0.6672489049459316}. Best is trial 650 with value: 0.8427230046948357.\u001b[0m\n",
            "\u001b[32m[I 2021-04-30 18:46:41,122]\u001b[0m Trial 719 finished with value: 0.8215179968701095 and parameters: {'colsample_bytree': 0.36099737511485874, 'gamma': 0, 'learning_rate': 0.47588380286386484, 'max_depth': 6, 'min_child_weight': 5, 'reg_alpha': 0.5983490309325002, 'reg_lambda': 0.6007252642431449, 'subsample': 0.7220655936713478}. Best is trial 650 with value: 0.8427230046948357.\u001b[0m\n",
            "\u001b[32m[I 2021-04-30 18:46:41,556]\u001b[0m Trial 720 finished with value: 0.8356611893583725 and parameters: {'colsample_bytree': 0.2750732934752095, 'gamma': 2, 'learning_rate': 0.4374122337596824, 'max_depth': 5, 'min_child_weight': 2, 'reg_alpha': 0.5818282709833333, 'reg_lambda': 0.631823307949791, 'subsample': 0.7731831379534935}. Best is trial 650 with value: 0.8427230046948357.\u001b[0m\n",
            "\u001b[32m[I 2021-04-30 18:46:41,962]\u001b[0m Trial 721 finished with value: 0.8160406885758998 and parameters: {'colsample_bytree': 0.2687465880892521, 'gamma': 2, 'learning_rate': 0.4438772665739919, 'max_depth': 6, 'min_child_weight': 3, 'reg_alpha': 0.5546029675228027, 'reg_lambda': 0.6348867587807752, 'subsample': 0.7678969385662907}. Best is trial 650 with value: 0.8427230046948357.\u001b[0m\n",
            "\u001b[32m[I 2021-04-30 18:46:42,356]\u001b[0m Trial 722 finished with value: 0.8104460093896714 and parameters: {'colsample_bytree': 0.271349442116339, 'gamma': 2, 'learning_rate': 0.4303164875097037, 'max_depth': 5, 'min_child_weight': 2, 'reg_alpha': 0.5808795273019057, 'reg_lambda': 0.6322565725633162, 'subsample': 0.7228055095190257}. Best is trial 650 with value: 0.8427230046948357.\u001b[0m\n",
            "\u001b[32m[I 2021-04-30 18:46:42,807]\u001b[0m Trial 723 finished with value: 0.8328638497652582 and parameters: {'colsample_bytree': 0.2836297352239629, 'gamma': 2, 'learning_rate': 0.4628768094407431, 'max_depth': 5, 'min_child_weight': 2, 'reg_alpha': 0.5863446038143911, 'reg_lambda': 0.6558120797179452, 'subsample': 0.7593219321168284}. Best is trial 650 with value: 0.8427230046948357.\u001b[0m\n",
            "\u001b[32m[I 2021-04-30 18:46:43,263]\u001b[0m Trial 724 finished with value: 0.8244522691705791 and parameters: {'colsample_bytree': 0.2801073322762964, 'gamma': 2, 'learning_rate': 0.41546337472840683, 'max_depth': 5, 'min_child_weight': 2, 'reg_alpha': 0.5657362697752761, 'reg_lambda': 0.6249956843498417, 'subsample': 0.7866258269714833}. Best is trial 650 with value: 0.8427230046948357.\u001b[0m\n",
            "\u001b[32m[I 2021-04-30 18:46:43,726]\u001b[0m Trial 725 finished with value: 0.8201682316118936 and parameters: {'colsample_bytree': 0.27477440227772904, 'gamma': 2, 'learning_rate': 0.4459213418145757, 'max_depth': 6, 'min_child_weight': 2, 'reg_alpha': 0.5805209858420268, 'reg_lambda': 0.6507017539926403, 'subsample': 0.6907747189123272}. Best is trial 650 with value: 0.8427230046948357.\u001b[0m\n",
            "\u001b[32m[I 2021-04-30 18:46:44,188]\u001b[0m Trial 726 finished with value: 0.8230829420970267 and parameters: {'colsample_bytree': 0.2919135988794805, 'gamma': 3, 'learning_rate': 0.42565231424079136, 'max_depth': 6, 'min_child_weight': 2, 'reg_alpha': 0.5327912166146688, 'reg_lambda': 0.6106213087243125, 'subsample': 0.8005750214957559}. Best is trial 650 with value: 0.8427230046948357.\u001b[0m\n",
            "\u001b[32m[I 2021-04-30 18:46:44,639]\u001b[0m Trial 727 finished with value: 0.815962441314554 and parameters: {'colsample_bytree': 0.28917664466095894, 'gamma': 2, 'learning_rate': 0.40625890304982837, 'max_depth': 5, 'min_child_weight': 2, 'reg_alpha': 0.5940688902254371, 'reg_lambda': 0.6391995667632289, 'subsample': 0.730261022721695}. Best is trial 650 with value: 0.8427230046948357.\u001b[0m\n",
            "\u001b[32m[I 2021-04-30 18:46:45,122]\u001b[0m Trial 728 finished with value: 0.8286580594679187 and parameters: {'colsample_bytree': 0.39292647100003664, 'gamma': 3, 'learning_rate': 0.44696078391379596, 'max_depth': 5, 'min_child_weight': 3, 'reg_alpha': 0.5488068672254992, 'reg_lambda': 0.5875222833576117, 'subsample': 0.8049392695111328}. Best is trial 650 with value: 0.8427230046948357.\u001b[0m\n",
            "\u001b[32m[I 2021-04-30 18:46:45,504]\u001b[0m Trial 729 finished with value: 0.8217331768388106 and parameters: {'colsample_bytree': 0.2652634425052252, 'gamma': 3, 'learning_rate': 0.4612688200820608, 'max_depth': 6, 'min_child_weight': 5, 'reg_alpha': 0.5186967630349575, 'reg_lambda': 0.6164738804051296, 'subsample': 0.7645665640993392}. Best is trial 650 with value: 0.8427230046948357.\u001b[0m\n",
            "\u001b[32m[I 2021-04-30 18:46:45,972]\u001b[0m Trial 730 finished with value: 0.8244718309859154 and parameters: {'colsample_bytree': 0.37110656787623225, 'gamma': 2, 'learning_rate': 0.4956898454350072, 'max_depth': 5, 'min_child_weight': 2, 'reg_alpha': 0.5604456842360007, 'reg_lambda': 0.6042246483872971, 'subsample': 0.8281645656385208}. Best is trial 650 with value: 0.8427230046948357.\u001b[0m\n",
            "\u001b[32m[I 2021-04-30 18:46:46,430]\u001b[0m Trial 731 finished with value: 0.8244522691705791 and parameters: {'colsample_bytree': 0.27794299123656085, 'gamma': 3, 'learning_rate': 0.4343387472970163, 'max_depth': 5, 'min_child_weight': 2, 'reg_alpha': 0.5720373954646678, 'reg_lambda': 0.5461030145457122, 'subsample': 0.7862765880080291}. Best is trial 650 with value: 0.8427230046948357.\u001b[0m\n",
            "\u001b[32m[I 2021-04-30 18:46:47,132]\u001b[0m Trial 732 finished with value: 0.8229655712050079 and parameters: {'colsample_bytree': 0.8620336857542529, 'gamma': 2, 'learning_rate': 0.3849643873750499, 'max_depth': 6, 'min_child_weight': 2, 'reg_alpha': 0.6063014224832517, 'reg_lambda': 0.6196219045028415, 'subsample': 0.7548884375997299}. Best is trial 650 with value: 0.8427230046948357.\u001b[0m\n",
            "\u001b[32m[I 2021-04-30 18:46:47,602]\u001b[0m Trial 733 finished with value: 0.818838028169014 and parameters: {'colsample_bytree': 0.3034616454569622, 'gamma': 0, 'learning_rate': 0.40545511540611917, 'max_depth': 6, 'min_child_weight': 2, 'reg_alpha': 0.5496883043154578, 'reg_lambda': 0.5704214566310755, 'subsample': 0.8076167194836933}. Best is trial 650 with value: 0.8427230046948357.\u001b[0m\n",
            "\u001b[32m[I 2021-04-30 18:46:48,051]\u001b[0m Trial 734 finished with value: 0.8355438184663537 and parameters: {'colsample_bytree': 0.3005163621773385, 'gamma': 2, 'learning_rate': 0.476930481346196, 'max_depth': 5, 'min_child_weight': 2, 'reg_alpha': 0.5852251912658615, 'reg_lambda': 0.66706028124974, 'subsample': 0.7196861374271797}. Best is trial 650 with value: 0.8427230046948357.\u001b[0m\n",
            "\u001b[32m[I 2021-04-30 18:46:48,491]\u001b[0m Trial 735 finished with value: 0.8272691705790297 and parameters: {'colsample_bytree': 0.297805834270511, 'gamma': 2, 'learning_rate': 0.4720720070903178, 'max_depth': 5, 'min_child_weight': 2, 'reg_alpha': 0.5713480051814669, 'reg_lambda': 0.6449723102091997, 'subsample': 0.7122120158280316}. Best is trial 650 with value: 0.8427230046948357.\u001b[0m\n",
            "\u001b[32m[I 2021-04-30 18:46:48,953]\u001b[0m Trial 736 finished with value: 0.8342918622848201 and parameters: {'colsample_bytree': 0.2865953468034943, 'gamma': 2, 'learning_rate': 0.48039916553332, 'max_depth': 5, 'min_child_weight': 2, 'reg_alpha': 0.5989521631144848, 'reg_lambda': 0.6633664470601869, 'subsample': 0.7363291677020556}. Best is trial 650 with value: 0.8427230046948357.\u001b[0m\n",
            "\u001b[32m[I 2021-04-30 18:46:49,413]\u001b[0m Trial 737 finished with value: 0.8272887323943662 and parameters: {'colsample_bytree': 0.278278433799222, 'gamma': 2, 'learning_rate': 0.4893359846171662, 'max_depth': 6, 'min_child_weight': 2, 'reg_alpha': 0.5924085764413705, 'reg_lambda': 0.6660458184398373, 'subsample': 0.7022172868430263}. Best is trial 650 with value: 0.8427230046948357.\u001b[0m\n",
            "\u001b[32m[I 2021-04-30 18:46:49,822]\u001b[0m Trial 738 finished with value: 0.8203051643192488 and parameters: {'colsample_bytree': 0.2640739101110422, 'gamma': 2, 'learning_rate': 0.4808080384672178, 'max_depth': 5, 'min_child_weight': 2, 'reg_alpha': 0.5815154830735138, 'reg_lambda': 0.6512013411160412, 'subsample': 0.7329865657369304}. Best is trial 650 with value: 0.8427230046948357.\u001b[0m\n",
            "\u001b[32m[I 2021-04-30 18:46:50,278]\u001b[0m Trial 739 finished with value: 0.8202073552425665 and parameters: {'colsample_bytree': 0.28706696904516793, 'gamma': 2, 'learning_rate': 0.5010357324301647, 'max_depth': 5, 'min_child_weight': 2, 'reg_alpha': 0.5672478602224104, 'reg_lambda': 0.6668860425139898, 'subsample': 0.736016889357521}. Best is trial 650 with value: 0.8427230046948357.\u001b[0m\n",
            "\u001b[32m[I 2021-04-30 18:46:50,681]\u001b[0m Trial 740 finished with value: 0.8173708920187794 and parameters: {'colsample_bytree': 0.2707620057899006, 'gamma': 2, 'learning_rate': 0.46000132304171315, 'max_depth': 6, 'min_child_weight': 2, 'reg_alpha': 0.5975885716220648, 'reg_lambda': 0.6639591088428122, 'subsample': 0.700822547589366}. Best is trial 650 with value: 0.8427230046948357.\u001b[0m\n",
            "\u001b[32m[I 2021-04-30 18:46:51,130]\u001b[0m Trial 741 finished with value: 0.8258215962441314 and parameters: {'colsample_bytree': 0.2807411585753293, 'gamma': 2, 'learning_rate': 0.5301887160855006, 'max_depth': 5, 'min_child_weight': 2, 'reg_alpha': 0.5819872883855881, 'reg_lambda': 0.6830963865829238, 'subsample': 0.7450548571103058}. Best is trial 650 with value: 0.8427230046948357.\u001b[0m\n",
            "\u001b[32m[I 2021-04-30 18:46:51,578]\u001b[0m Trial 742 finished with value: 0.8230633802816902 and parameters: {'colsample_bytree': 0.2931729205015442, 'gamma': 2, 'learning_rate': 0.4767046095191143, 'max_depth': 5, 'min_child_weight': 2, 'reg_alpha': 0.5624424533392026, 'reg_lambda': 0.6581729217115956, 'subsample': 0.7139233865488275}. Best is trial 650 with value: 0.8427230046948357.\u001b[0m\n",
            "\u001b[32m[I 2021-04-30 18:46:52,042]\u001b[0m Trial 743 finished with value: 0.8301251956181532 and parameters: {'colsample_bytree': 0.29484590502522207, 'gamma': 2, 'learning_rate': 0.4973607730943711, 'max_depth': 6, 'min_child_weight': 2, 'reg_alpha': 0.5766732456455581, 'reg_lambda': 0.6371422230689264, 'subsample': 0.7582485838271373}. Best is trial 650 with value: 0.8427230046948357.\u001b[0m\n",
            "\u001b[32m[I 2021-04-30 18:46:52,548]\u001b[0m Trial 744 finished with value: 0.8188967136150234 and parameters: {'colsample_bytree': 0.2821319225291806, 'gamma': 2, 'learning_rate': 0.516880079911785, 'max_depth': 6, 'min_child_weight': 2, 'reg_alpha': 0.5973468622325409, 'reg_lambda': 0.6867238302022936, 'subsample': 0.6764207226500992}. Best is trial 650 with value: 0.8427230046948357.\u001b[0m\n",
            "\u001b[32m[I 2021-04-30 18:46:52,986]\u001b[0m Trial 745 finished with value: 0.8174687010954615 and parameters: {'colsample_bytree': 0.2599832741214614, 'gamma': 3, 'learning_rate': 0.45372082860664065, 'max_depth': 5, 'min_child_weight': 2, 'reg_alpha': 0.5378486017324093, 'reg_lambda': 0.645888772337141, 'subsample': 0.727034628149701}. Best is trial 650 with value: 0.8427230046948357.\u001b[0m\n",
            "\u001b[32m[I 2021-04-30 18:46:53,395]\u001b[0m Trial 746 finished with value: 0.81731220657277 and parameters: {'colsample_bytree': 0.27243901807301607, 'gamma': 2, 'learning_rate': 0.47242612774677956, 'max_depth': 5, 'min_child_weight': 2, 'reg_alpha': 0.5546596324922468, 'reg_lambda': 0.6611535152373375, 'subsample': 0.6896326268337646}. Best is trial 650 with value: 0.8427230046948357.\u001b[0m\n",
            "\u001b[32m[I 2021-04-30 18:46:53,864]\u001b[0m Trial 747 finished with value: 0.8244327073552424 and parameters: {'colsample_bytree': 0.30401659561586947, 'gamma': 2, 'learning_rate': 0.45354355469615315, 'max_depth': 6, 'min_child_weight': 2, 'reg_alpha': 0.5729821351927156, 'reg_lambda': 0.6816373762216318, 'subsample': 0.7638922568343016}. Best is trial 650 with value: 0.8427230046948357.\u001b[0m\n",
            "\u001b[32m[I 2021-04-30 18:46:54,316]\u001b[0m Trial 748 finished with value: 0.8243544600938966 and parameters: {'colsample_bytree': 0.28510293014271193, 'gamma': 2, 'learning_rate': 0.48729993634611307, 'max_depth': 5, 'min_child_weight': 3, 'reg_alpha': 0.5967049656493004, 'reg_lambda': 0.6335816733743718, 'subsample': 0.7180735711067845}. Best is trial 650 with value: 0.8427230046948357.\u001b[0m\n",
            "\u001b[32m[I 2021-04-30 18:46:54,763]\u001b[0m Trial 749 finished with value: 0.8243935837245695 and parameters: {'colsample_bytree': 0.29290968200005346, 'gamma': 8, 'learning_rate': 0.5123034093931176, 'max_depth': 5, 'min_child_weight': 2, 'reg_alpha': 0.585116688037286, 'reg_lambda': 0.6984149360101622, 'subsample': 0.7672810859388237}. Best is trial 650 with value: 0.8427230046948357.\u001b[0m\n",
            "\u001b[32m[I 2021-04-30 18:46:55,229]\u001b[0m Trial 750 finished with value: 0.8258998435054773 and parameters: {'colsample_bytree': 0.3048231378567411, 'gamma': 2, 'learning_rate': 0.43728539547246514, 'max_depth': 6, 'min_child_weight': 2, 'reg_alpha': 0.5616390949700982, 'reg_lambda': 0.6701346806552592, 'subsample': 0.6798876889449238}. Best is trial 650 with value: 0.8427230046948357.\u001b[0m\n",
            "\u001b[32m[I 2021-04-30 18:46:55,682]\u001b[0m Trial 751 finished with value: 0.8117175273865416 and parameters: {'colsample_bytree': 0.27790362478290664, 'gamma': 3, 'learning_rate': 0.46237190516884935, 'max_depth': 5, 'min_child_weight': 2, 'reg_alpha': 0.5465423264690609, 'reg_lambda': 0.6292909832484102, 'subsample': 0.7435355958221849}. Best is trial 650 with value: 0.8427230046948357.\u001b[0m\n",
            "\u001b[32m[I 2021-04-30 18:46:56,148]\u001b[0m Trial 752 finished with value: 0.830105633802817 and parameters: {'colsample_bytree': 0.30724966502162826, 'gamma': 2, 'learning_rate': 0.47628340006677145, 'max_depth': 6, 'min_child_weight': 2, 'reg_alpha': 0.574665425397771, 'reg_lambda': 0.6357873589618377, 'subsample': 0.7858153752145904}. Best is trial 650 with value: 0.8427230046948357.\u001b[0m\n",
            "\u001b[32m[I 2021-04-30 18:46:56,597]\u001b[0m Trial 753 finished with value: 0.8258998435054773 and parameters: {'colsample_bytree': 0.294360662424617, 'gamma': 3, 'learning_rate': 0.43504537629603407, 'max_depth': 5, 'min_child_weight': 2, 'reg_alpha': 0.5877176993194989, 'reg_lambda': 0.6516799871888613, 'subsample': 0.7083793393997546}. Best is trial 650 with value: 0.8427230046948357.\u001b[0m\n",
            "\u001b[32m[I 2021-04-30 18:46:57,013]\u001b[0m Trial 754 finished with value: 0.824491392801252 and parameters: {'colsample_bytree': 0.2639318969450751, 'gamma': 1, 'learning_rate': 0.5521052485454259, 'max_depth': 6, 'min_child_weight': 2, 'reg_alpha': 0.5621173347789743, 'reg_lambda': 0.6823041321563847, 'subsample': 0.7424977186051985}. Best is trial 650 with value: 0.8427230046948357.\u001b[0m\n",
            "\u001b[32m[I 2021-04-30 18:46:57,493]\u001b[0m Trial 755 finished with value: 0.8258607198748044 and parameters: {'colsample_bytree': 0.305779389520597, 'gamma': 2, 'learning_rate': 0.49675045013322544, 'max_depth': 5, 'min_child_weight': 2, 'reg_alpha': 0.5946850743465583, 'reg_lambda': 0.6196421675697803, 'subsample': 0.6498055341457488}. Best is trial 650 with value: 0.8427230046948357.\u001b[0m\n",
            "\u001b[32m[I 2021-04-30 18:46:57,938]\u001b[0m Trial 756 finished with value: 0.8341549295774648 and parameters: {'colsample_bytree': 0.3147736462231519, 'gamma': 2, 'learning_rate': 0.44710022155493157, 'max_depth': 5, 'min_child_weight': 3, 'reg_alpha': 0.6027888420852956, 'reg_lambda': 0.6632237812058778, 'subsample': 0.7733225098400909}. Best is trial 650 with value: 0.8427230046948357.\u001b[0m\n",
            "\u001b[32m[I 2021-04-30 18:46:58,420]\u001b[0m Trial 757 finished with value: 0.82306338028169 and parameters: {'colsample_bytree': 0.28742629420131277, 'gamma': 3, 'learning_rate': 0.47309229171903633, 'max_depth': 6, 'min_child_weight': 2, 'reg_alpha': 0.5721960887838701, 'reg_lambda': 0.6467148851198097, 'subsample': 0.7010658559473317}. Best is trial 650 with value: 0.8427230046948357.\u001b[0m\n",
            "\u001b[32m[I 2021-04-30 18:46:58,849]\u001b[0m Trial 758 finished with value: 0.8314358372456964 and parameters: {'colsample_bytree': 0.31458460660043003, 'gamma': 2, 'learning_rate': 0.44609201437461904, 'max_depth': 5, 'min_child_weight': 3, 'reg_alpha': 0.6063169865599353, 'reg_lambda': 0.6653388655540176, 'subsample': 0.7492909518491462}. Best is trial 650 with value: 0.8427230046948357.\u001b[0m\n",
            "\u001b[32m[I 2021-04-30 18:46:59,290]\u001b[0m Trial 759 finished with value: 0.8187989045383413 and parameters: {'colsample_bytree': 0.297815511770309, 'gamma': 2, 'learning_rate': 0.4312037980179348, 'max_depth': 5, 'min_child_weight': 3, 'reg_alpha': 0.5566296763003687, 'reg_lambda': 0.6911159144509926, 'subsample': 0.7744559463124281}. Best is trial 650 with value: 0.8427230046948357.\u001b[0m\n",
            "\u001b[32m[I 2021-04-30 18:46:59,709]\u001b[0m Trial 760 finished with value: 0.8145539906103286 and parameters: {'colsample_bytree': 0.27152184151854275, 'gamma': 0, 'learning_rate': 0.36716182012938375, 'max_depth': 6, 'min_child_weight': 2, 'reg_alpha': 0.5261709492278062, 'reg_lambda': 0.7115904060971995, 'subsample': 0.8169577488121765}. Best is trial 650 with value: 0.8427230046948357.\u001b[0m\n",
            "\u001b[32m[I 2021-04-30 18:47:00,161]\u001b[0m Trial 761 finished with value: 0.8272496087636932 and parameters: {'colsample_bytree': 0.3050328419553477, 'gamma': 2, 'learning_rate': 0.4216219316001694, 'max_depth': 6, 'min_child_weight': 3, 'reg_alpha': 0.580787384398971, 'reg_lambda': 0.6576413575912395, 'subsample': 0.7221920414878811}. Best is trial 650 with value: 0.8427230046948357.\u001b[0m\n",
            "\u001b[32m[I 2021-04-30 18:47:00,599]\u001b[0m Trial 762 finished with value: 0.8259585289514867 and parameters: {'colsample_bytree': 0.3163410514057447, 'gamma': 3, 'learning_rate': 0.46016171622738267, 'max_depth': 5, 'min_child_weight': 3, 'reg_alpha': 0.6033197497763937, 'reg_lambda': 0.6765408179714179, 'subsample': 0.6899837942717246}. Best is trial 650 with value: 0.8427230046948357.\u001b[0m\n",
            "\u001b[32m[I 2021-04-30 18:47:00,998]\u001b[0m Trial 763 finished with value: 0.8343114241001566 and parameters: {'colsample_bytree': 0.2562333580676484, 'gamma': 2, 'learning_rate': 0.4207766794422188, 'max_depth': 5, 'min_child_weight': 2, 'reg_alpha': 0.5363222018759599, 'reg_lambda': 0.6992392958743657, 'subsample': 0.7604385254305851}. Best is trial 650 with value: 0.8427230046948357.\u001b[0m\n",
            "\u001b[32m[I 2021-04-30 18:47:01,410]\u001b[0m Trial 764 finished with value: 0.8300665101721441 and parameters: {'colsample_bytree': 0.25946501152701573, 'gamma': 2, 'learning_rate': 0.40482247705089364, 'max_depth': 5, 'min_child_weight': 2, 'reg_alpha': 0.5107885336173932, 'reg_lambda': 0.7003818788012391, 'subsample': 0.738568077564881}. Best is trial 650 with value: 0.8427230046948357.\u001b[0m\n",
            "\u001b[32m[I 2021-04-30 18:47:01,822]\u001b[0m Trial 765 finished with value: 0.824491392801252 and parameters: {'colsample_bytree': 0.2602149335234986, 'gamma': 1, 'learning_rate': 0.4189348643136751, 'max_depth': 6, 'min_child_weight': 2, 'reg_alpha': 0.518220211085949, 'reg_lambda': 0.7288259929538999, 'subsample': 0.6695312175054654}. Best is trial 650 with value: 0.8427230046948357.\u001b[0m\n",
            "\u001b[32m[I 2021-04-30 18:47:02,235]\u001b[0m Trial 766 finished with value: 0.8272300469483568 and parameters: {'colsample_bytree': 0.25148291987017063, 'gamma': 2, 'learning_rate': 0.3933799530220551, 'max_depth': 6, 'min_child_weight': 2, 'reg_alpha': 0.407542271033731, 'reg_lambda': 0.7151417182850386, 'subsample': 0.7806342540765332}. Best is trial 650 with value: 0.8427230046948357.\u001b[0m\n",
            "\u001b[32m[I 2021-04-30 18:47:02,635]\u001b[0m Trial 767 finished with value: 0.8187793427230046 and parameters: {'colsample_bytree': 0.256741918957076, 'gamma': 2, 'learning_rate': 0.4121999190385928, 'max_depth': 5, 'min_child_weight': 2, 'reg_alpha': 0.531265558657852, 'reg_lambda': 0.7019975253702969, 'subsample': 0.7207098160715296}. Best is trial 650 with value: 0.8427230046948357.\u001b[0m\n",
            "\u001b[32m[I 2021-04-30 18:47:03,060]\u001b[0m Trial 768 finished with value: 0.8230829420970267 and parameters: {'colsample_bytree': 0.26742472059375794, 'gamma': 2, 'learning_rate': 0.4340207098822785, 'max_depth': 5, 'min_child_weight': 2, 'reg_alpha': 0.5403733756375577, 'reg_lambda': 0.6854722029310817, 'subsample': 0.7574236234363766}. Best is trial 650 with value: 0.8427230046948357.\u001b[0m\n",
            "\u001b[32m[I 2021-04-30 18:47:03,521]\u001b[0m Trial 769 finished with value: 0.8118348982785604 and parameters: {'colsample_bytree': 0.2762858579148302, 'gamma': 2, 'learning_rate': 0.41988877107670686, 'max_depth': 6, 'min_child_weight': 2, 'reg_alpha': 0.5368397267484074, 'reg_lambda': 0.6721656158112078, 'subsample': 0.7520801882164592}. Best is trial 650 with value: 0.8427230046948357.\u001b[0m\n",
            "\u001b[32m[I 2021-04-30 18:47:03,971]\u001b[0m Trial 770 finished with value: 0.8089201877934272 and parameters: {'colsample_bytree': 0.2836485813508372, 'gamma': 2, 'learning_rate': 0.44193799774157677, 'max_depth': 5, 'min_child_weight': 3, 'reg_alpha': 0.5457318462306768, 'reg_lambda': 0.7433212318621661, 'subsample': 0.699236929489195}. Best is trial 650 with value: 0.8427230046948357.\u001b[0m\n",
            "\u001b[32m[I 2021-04-30 18:47:04,382]\u001b[0m Trial 771 finished with value: 0.8216158059467918 and parameters: {'colsample_bytree': 0.2655986507652785, 'gamma': 3, 'learning_rate': 0.38140404499268826, 'max_depth': 6, 'min_child_weight': 2, 'reg_alpha': 0.5229283520510288, 'reg_lambda': 0.6875882861552507, 'subsample': 0.6415585216314982}. Best is trial 650 with value: 0.8427230046948357.\u001b[0m\n",
            "\u001b[32m[I 2021-04-30 18:47:04,830]\u001b[0m Trial 772 finished with value: 0.8258998435054773 and parameters: {'colsample_bytree': 0.276705168295617, 'gamma': 2, 'learning_rate': 0.39753447554625765, 'max_depth': 5, 'min_child_weight': 2, 'reg_alpha': 0.5051234622835883, 'reg_lambda': 0.7163591028718924, 'subsample': 0.7978262605846711}. Best is trial 650 with value: 0.8427230046948357.\u001b[0m\n",
            "\u001b[32m[I 2021-04-30 18:47:05,283]\u001b[0m Trial 773 finished with value: 0.8202464788732394 and parameters: {'colsample_bytree': 0.2886436577483204, 'gamma': 1, 'learning_rate': 0.41538037141794343, 'max_depth': 5, 'min_child_weight': 2, 'reg_alpha': 0.5513017335302861, 'reg_lambda': 0.5526212093435497, 'subsample': 0.784837089400534}. Best is trial 650 with value: 0.8427230046948357.\u001b[0m\n",
            "\u001b[32m[I 2021-04-30 18:47:05,701]\u001b[0m Trial 774 finished with value: 0.8131259780907669 and parameters: {'colsample_bytree': 0.2599507487864695, 'gamma': 3, 'learning_rate': 0.5166030831299069, 'max_depth': 6, 'min_child_weight': 2, 'reg_alpha': 0.5331772318423033, 'reg_lambda': 0.7000457035953273, 'subsample': 0.5316474734374936}. Best is trial 650 with value: 0.8427230046948357.\u001b[0m\n",
            "\u001b[32m[I 2021-04-30 18:47:06,123]\u001b[0m Trial 775 finished with value: 0.8259194053208139 and parameters: {'colsample_bytree': 0.25426288369578853, 'gamma': 1, 'learning_rate': 0.48517976004433205, 'max_depth': 5, 'min_child_weight': 2, 'reg_alpha': 0.5579665770819728, 'reg_lambda': 0.6387225778397476, 'subsample': 0.6763901283817172}. Best is trial 650 with value: 0.8427230046948357.\u001b[0m\n",
            "\u001b[32m[I 2021-04-30 18:47:06,594]\u001b[0m Trial 776 finished with value: 0.8329029733959311 and parameters: {'colsample_bytree': 0.30006758265179634, 'gamma': 2, 'learning_rate': 0.4431904276874343, 'max_depth': 6, 'min_child_weight': 2, 'reg_alpha': 0.5678426137829657, 'reg_lambda': 0.6742112469199896, 'subsample': 0.7366688641395248}. Best is trial 650 with value: 0.8427230046948357.\u001b[0m\n",
            "\u001b[32m[I 2021-04-30 18:47:07,045]\u001b[0m Trial 777 finished with value: 0.8159820031298904 and parameters: {'colsample_bytree': 0.3113748045554017, 'gamma': 2, 'learning_rate': 0.4474802785825128, 'max_depth': 5, 'min_child_weight': 2, 'reg_alpha': 0.5427234263462664, 'reg_lambda': 0.6637748028955509, 'subsample': 0.7136106427789711}. Best is trial 650 with value: 0.8427230046948357.\u001b[0m\n",
            "\u001b[32m[I 2021-04-30 18:47:07,522]\u001b[0m Trial 778 finished with value: 0.8229655712050079 and parameters: {'colsample_bytree': 0.28643201487728, 'gamma': 2, 'learning_rate': 0.367826648188165, 'max_depth': 6, 'min_child_weight': 2, 'reg_alpha': 0.555677327283904, 'reg_lambda': 0.5840122111257948, 'subsample': 0.8151996778031413}. Best is trial 650 with value: 0.8427230046948357.\u001b[0m\n",
            "\u001b[32m[I 2021-04-30 18:47:07,981]\u001b[0m Trial 779 finished with value: 0.8174882629107982 and parameters: {'colsample_bytree': 0.2741530593247894, 'gamma': 2, 'learning_rate': 0.12353587640683372, 'max_depth': 5, 'min_child_weight': 2, 'reg_alpha': 0.566712528792649, 'reg_lambda': 0.5936155750911923, 'subsample': 0.7682505504884258}. Best is trial 650 with value: 0.8427230046948357.\u001b[0m\n",
            "\u001b[32m[I 2021-04-30 18:47:08,378]\u001b[0m Trial 780 finished with value: 0.8144366197183098 and parameters: {'colsample_bytree': 0.25144341904452044, 'gamma': 3, 'learning_rate': 0.5043380741072452, 'max_depth': 5, 'min_child_weight': 5, 'reg_alpha': 0.5850889242797599, 'reg_lambda': 0.6260106438045219, 'subsample': 0.6038271600406809}. Best is trial 650 with value: 0.8427230046948357.\u001b[0m\n",
            "\u001b[32m[I 2021-04-30 18:47:08,843]\u001b[0m Trial 781 finished with value: 0.8230829420970267 and parameters: {'colsample_bytree': 0.29186577628835114, 'gamma': 2, 'learning_rate': 0.34984189249648096, 'max_depth': 6, 'min_child_weight': 2, 'reg_alpha': 0.5253272697489481, 'reg_lambda': 0.5641676608991317, 'subsample': 0.7315697045346176}. Best is trial 650 with value: 0.8427230046948357.\u001b[0m\n",
            "\u001b[32m[I 2021-04-30 18:47:09,298]\u001b[0m Trial 782 finished with value: 0.818661971830986 and parameters: {'colsample_bytree': 0.27316045575291986, 'gamma': 2, 'learning_rate': 0.39572046493876295, 'max_depth': 5, 'min_child_weight': 2, 'reg_alpha': 0.5543401033760086, 'reg_lambda': 0.6961521935805522, 'subsample': 0.689034753137653}. Best is trial 650 with value: 0.8427230046948357.\u001b[0m\n",
            "\u001b[32m[I 2021-04-30 18:47:09,760]\u001b[0m Trial 783 finished with value: 0.8286384976525822 and parameters: {'colsample_bytree': 0.3264594001549146, 'gamma': 3, 'learning_rate': 0.5286162582716291, 'max_depth': 5, 'min_child_weight': 2, 'reg_alpha': 0.5781380290697695, 'reg_lambda': 0.6491763111591651, 'subsample': 0.6408704023255599}. Best is trial 650 with value: 0.8427230046948357.\u001b[0m\n",
            "\u001b[32m[I 2021-04-30 18:47:10,219]\u001b[0m Trial 784 finished with value: 0.822926447574335 and parameters: {'colsample_bytree': 0.3110815559110346, 'gamma': 1, 'learning_rate': 0.42994062544817696, 'max_depth': 6, 'min_child_weight': 3, 'reg_alpha': 0.5876479565118276, 'reg_lambda': 0.677874171271195, 'subsample': 0.753299781938524}. Best is trial 650 with value: 0.8427230046948357.\u001b[0m\n",
            "\u001b[32m[I 2021-04-30 18:47:10,658]\u001b[0m Trial 785 finished with value: 0.8202073552425665 and parameters: {'colsample_bytree': 0.296187143259563, 'gamma': 0, 'learning_rate': 0.47163176091124975, 'max_depth': 5, 'min_child_weight': 5, 'reg_alpha': 0.5701469049655677, 'reg_lambda': 0.6287506962415859, 'subsample': 0.6610074904495356}. Best is trial 650 with value: 0.8427230046948357.\u001b[0m\n",
            "\u001b[32m[I 2021-04-30 18:47:11,135]\u001b[0m Trial 786 finished with value: 0.8202464788732394 and parameters: {'colsample_bytree': 0.31402337894621646, 'gamma': 2, 'learning_rate': 0.4582229896472577, 'max_depth': 6, 'min_child_weight': 2, 'reg_alpha': 0.5463573611648938, 'reg_lambda': 0.65609462459893, 'subsample': 0.772035782540698}. Best is trial 650 with value: 0.8427230046948357.\u001b[0m\n",
            "\u001b[32m[I 2021-04-30 18:47:11,591]\u001b[0m Trial 787 finished with value: 0.8144953051643192 and parameters: {'colsample_bytree': 0.3014889380539382, 'gamma': 2, 'learning_rate': 0.41448145766931005, 'max_depth': 5, 'min_child_weight': 2, 'reg_alpha': 0.5938858143205108, 'reg_lambda': 0.687522779079571, 'subsample': 0.7180863314074549}. Best is trial 650 with value: 0.8427230046948357.\u001b[0m\n",
            "\u001b[32m[I 2021-04-30 18:47:12,052]\u001b[0m Trial 788 finished with value: 0.8216744913928012 and parameters: {'colsample_bytree': 0.2883977760125677, 'gamma': 2, 'learning_rate': 0.43593351518789564, 'max_depth': 6, 'min_child_weight': 2, 'reg_alpha': 0.5760322531261322, 'reg_lambda': 0.7148500257405743, 'subsample': 0.7854794039458126}. Best is trial 650 with value: 0.8427230046948357.\u001b[0m\n",
            "\u001b[32m[I 2021-04-30 18:47:12,521]\u001b[0m Trial 789 finished with value: 0.8216940532081377 and parameters: {'colsample_bytree': 0.3251896150295846, 'gamma': 3, 'learning_rate': 0.3828876483390185, 'max_depth': 5, 'min_child_weight': 2, 'reg_alpha': 0.5636695974600674, 'reg_lambda': 0.6171107094809283, 'subsample': 0.8286301872101578}. Best is trial 650 with value: 0.8427230046948357.\u001b[0m\n",
            "\u001b[32m[I 2021-04-30 18:47:12,947]\u001b[0m Trial 790 finished with value: 0.8214593114241001 and parameters: {'colsample_bytree': 0.26699757677225244, 'gamma': 3, 'learning_rate': 0.49014734327478326, 'max_depth': 6, 'min_child_weight': 2, 'reg_alpha': 0.5854095270162976, 'reg_lambda': 0.5286021951511963, 'subsample': 0.699956711126144}. Best is trial 650 with value: 0.8427230046948357.\u001b[0m\n",
            "\u001b[32m[I 2021-04-30 18:47:13,447]\u001b[0m Trial 791 finished with value: 0.8188967136150234 and parameters: {'colsample_bytree': 0.39322265956004304, 'gamma': 2, 'learning_rate': 0.40567722226187625, 'max_depth': 5, 'min_child_weight': 2, 'reg_alpha': 0.542077859476412, 'reg_lambda': 0.5795187023089284, 'subsample': 0.8083177592990863}. Best is trial 650 with value: 0.8427230046948357.\u001b[0m\n",
            "\u001b[32m[I 2021-04-30 18:47:13,901]\u001b[0m Trial 792 finished with value: 0.8257237871674491 and parameters: {'colsample_bytree': 0.3253188819100451, 'gamma': 1, 'learning_rate': 0.5705372898452596, 'max_depth': 5, 'min_child_weight': 2, 'reg_alpha': 0.6091438262248233, 'reg_lambda': 0.6379378703549364, 'subsample': 0.6209857592631565}. Best is trial 650 with value: 0.8427230046948357.\u001b[0m\n",
            "\u001b[32m[I 2021-04-30 18:47:14,322]\u001b[0m Trial 793 finished with value: 0.8216744913928012 and parameters: {'colsample_bytree': 0.24590612654261176, 'gamma': 2, 'learning_rate': 0.3279291501309873, 'max_depth': 6, 'min_child_weight': 2, 'reg_alpha': 0.5542982597889439, 'reg_lambda': 0.6056551636437237, 'subsample': 0.740259585349228}. Best is trial 650 with value: 0.8427230046948357.\u001b[0m\n",
            "\u001b[32m[I 2021-04-30 18:47:14,777]\u001b[0m Trial 794 finished with value: 0.8217136150234742 and parameters: {'colsample_bytree': 0.27925578697082926, 'gamma': 3, 'learning_rate': 0.4652560785411348, 'max_depth': 5, 'min_child_weight': 2, 'reg_alpha': 0.5706158064861938, 'reg_lambda': 0.7316914686067569, 'subsample': 0.5649880770051843}. Best is trial 650 with value: 0.8427230046948357.\u001b[0m\n",
            "\u001b[32m[I 2021-04-30 18:47:15,324]\u001b[0m Trial 795 finished with value: 0.8158841940532081 and parameters: {'colsample_bytree': 0.40313145782447923, 'gamma': 2, 'learning_rate': 0.3568259405032635, 'max_depth': 7, 'min_child_weight': 2, 'reg_alpha': 0.5410188393960949, 'reg_lambda': 0.7662043621453075, 'subsample': 0.8180003670247736}. Best is trial 650 with value: 0.8427230046948357.\u001b[0m\n",
            "\u001b[32m[I 2021-04-30 18:47:15,718]\u001b[0m Trial 796 finished with value: 0.8273474178403756 and parameters: {'colsample_bytree': 0.2698570866042574, 'gamma': 2, 'learning_rate': 0.38624049900297963, 'max_depth': 6, 'min_child_weight': 5, 'reg_alpha': 0.5610918501045137, 'reg_lambda': 0.5885754468428039, 'subsample': 0.6683836905248076}. Best is trial 650 with value: 0.8427230046948357.\u001b[0m\n",
            "\u001b[32m[I 2021-04-30 18:47:16,211]\u001b[0m Trial 797 finished with value: 0.8257824726134585 and parameters: {'colsample_bytree': 0.4224484921420835, 'gamma': 1, 'learning_rate': 0.3949350578208805, 'max_depth': 5, 'min_child_weight': 2, 'reg_alpha': 0.5269430159433383, 'reg_lambda': 0.5651075005848469, 'subsample': 0.7893741933711865}. Best is trial 650 with value: 0.8427230046948357.\u001b[0m\n",
            "\u001b[32m[I 2021-04-30 18:47:16,663]\u001b[0m Trial 798 finished with value: 0.8187793427230048 and parameters: {'colsample_bytree': 0.29122386033575, 'gamma': 2, 'learning_rate': 0.3690387343828679, 'max_depth': 5, 'min_child_weight': 2, 'reg_alpha': 0.550097501815557, 'reg_lambda': 0.606687191820139, 'subsample': 0.7313144766128897}. Best is trial 650 with value: 0.8427230046948357.\u001b[0m\n",
            "\u001b[32m[I 2021-04-30 18:47:17,115]\u001b[0m Trial 799 finished with value: 0.8259780907668232 and parameters: {'colsample_bytree': 0.318606475251793, 'gamma': 2, 'learning_rate': 0.42693651891417506, 'max_depth': 5, 'min_child_weight': 3, 'reg_alpha': 0.6001796668688747, 'reg_lambda': 0.6800772017497333, 'subsample': 0.7043464971114513}. Best is trial 650 with value: 0.8427230046948357.\u001b[0m\n",
            "\u001b[32m[I 2021-04-30 18:47:17,603]\u001b[0m Trial 800 finished with value: 0.8187010954616589 and parameters: {'colsample_bytree': 0.30985236482404444, 'gamma': 2, 'learning_rate': 0.45628516050956286, 'max_depth': 6, 'min_child_weight': 2, 'reg_alpha': 0.5909420768540048, 'reg_lambda': 0.6646603766460184, 'subsample': 0.7645330819265218}. Best is trial 650 with value: 0.8427230046948357.\u001b[0m\n",
            "\u001b[32m[I 2021-04-30 18:47:18,129]\u001b[0m Trial 801 finished with value: 0.8230242566510173 and parameters: {'colsample_bytree': 0.3781071709068658, 'gamma': 3, 'learning_rate': 0.3757127270791216, 'max_depth': 6, 'min_child_weight': 2, 'reg_alpha': 0.48590238222701104, 'reg_lambda': 0.7049278055586339, 'subsample': 0.8252490770798664}. Best is trial 650 with value: 0.8427230046948357.\u001b[0m\n",
            "\u001b[32m[I 2021-04-30 18:47:18,599]\u001b[0m Trial 802 finished with value: 0.8330594679186228 and parameters: {'colsample_bytree': 0.33694132451080583, 'gamma': 3, 'learning_rate': 0.48963836086753293, 'max_depth': 5, 'min_child_weight': 2, 'reg_alpha': 0.5767409569662965, 'reg_lambda': 0.6255532468473868, 'subsample': 0.6812097083956746}. Best is trial 650 with value: 0.8427230046948357.\u001b[0m\n",
            "\u001b[32m[I 2021-04-30 18:47:19,042]\u001b[0m Trial 803 finished with value: 0.813262910798122 and parameters: {'colsample_bytree': 0.2989347482254737, 'gamma': 3, 'learning_rate': 0.507281236158597, 'max_depth': 5, 'min_child_weight': 2, 'reg_alpha': 0.5844769637124922, 'reg_lambda': 0.6430263516933565, 'subsample': 0.8473057529356407}. Best is trial 650 with value: 0.8427230046948357.\u001b[0m\n",
            "\u001b[32m[I 2021-04-30 18:47:19,508]\u001b[0m Trial 804 finished with value: 0.8271517996870111 and parameters: {'colsample_bytree': 0.3022310108506576, 'gamma': 2, 'learning_rate': 0.423654456029095, 'max_depth': 6, 'min_child_weight': 3, 'reg_alpha': 0.600398679596742, 'reg_lambda': 0.6567611947429504, 'subsample': 0.7642172319247038}. Best is trial 650 with value: 0.8427230046948357.\u001b[0m\n",
            "\u001b[32m[I 2021-04-30 18:47:20,040]\u001b[0m Trial 805 finished with value: 0.8145539906103286 and parameters: {'colsample_bytree': 0.5038711477584424, 'gamma': 1, 'learning_rate': 0.5403707756008969, 'max_depth': 5, 'min_child_weight': 2, 'reg_alpha': 0.5694419052485564, 'reg_lambda': 0.6145590595712154, 'subsample': 0.6280895704779337}. Best is trial 650 with value: 0.8427230046948357.\u001b[0m\n",
            "\u001b[32m[I 2021-04-30 18:47:20,455]\u001b[0m Trial 806 finished with value: 0.8314358372456964 and parameters: {'colsample_bytree': 0.2516380931847587, 'gamma': 2, 'learning_rate': 0.40660087573688986, 'max_depth': 6, 'min_child_weight': 2, 'reg_alpha': 0.5378639452827252, 'reg_lambda': 0.595569320390979, 'subsample': 0.8078858797547405}. Best is trial 650 with value: 0.8427230046948357.\u001b[0m\n",
            "\u001b[32m[I 2021-04-30 18:47:20,894]\u001b[0m Trial 807 finished with value: 0.8215179968701097 and parameters: {'colsample_bytree': 0.27746414388514773, 'gamma': 2, 'learning_rate': 0.3960560779616579, 'max_depth': 5, 'min_child_weight': 5, 'reg_alpha': 0.5608070828879501, 'reg_lambda': 0.5761043316223073, 'subsample': 0.7292241696400412}. Best is trial 650 with value: 0.8427230046948357.\u001b[0m\n",
            "\u001b[32m[I 2021-04-30 18:47:21,350]\u001b[0m Trial 808 finished with value: 0.8273082942097026 and parameters: {'colsample_bytree': 0.3115076328718456, 'gamma': 2, 'learning_rate': 0.45308019029265656, 'max_depth': 5, 'min_child_weight': 2, 'reg_alpha': 0.5883567944042565, 'reg_lambda': 0.6688005548741525, 'subsample': 0.7722751140727222}. Best is trial 650 with value: 0.8427230046948357.\u001b[0m\n",
            "\u001b[32m[I 2021-04-30 18:47:21,829]\u001b[0m Trial 809 finished with value: 0.822926447574335 and parameters: {'colsample_bytree': 0.2865891025580944, 'gamma': 2, 'learning_rate': 0.35303609536673, 'max_depth': 6, 'min_child_weight': 2, 'reg_alpha': 0.516068596276805, 'reg_lambda': 0.6951960596892687, 'subsample': 0.7017046895151391}. Best is trial 650 with value: 0.8427230046948357.\u001b[0m\n",
            "\u001b[32m[I 2021-04-30 18:47:22,351]\u001b[0m Trial 810 finished with value: 0.8174687010954618 and parameters: {'colsample_bytree': 0.3857285679549158, 'gamma': 1, 'learning_rate': 0.31656560306247833, 'max_depth': 6, 'min_child_weight': 2, 'reg_alpha': 0.5506783327816567, 'reg_lambda': 0.576825484230742, 'subsample': 0.7965149359567333}. Best is trial 650 with value: 0.8427230046948357.\u001b[0m\n",
            "\u001b[32m[I 2021-04-30 18:47:22,812]\u001b[0m Trial 811 finished with value: 0.8117957746478874 and parameters: {'colsample_bytree': 0.32718052646709816, 'gamma': 0, 'learning_rate': 0.4819925363890611, 'max_depth': 5, 'min_child_weight': 2, 'reg_alpha': 0.6115238744900711, 'reg_lambda': 0.6438589805278311, 'subsample': 0.660744620353798}. Best is trial 650 with value: 0.8427230046948357.\u001b[0m\n",
            "\u001b[32m[I 2021-04-30 18:47:23,274]\u001b[0m Trial 812 finished with value: 0.8398865414710486 and parameters: {'colsample_bytree': 0.2943082101314965, 'gamma': 2, 'learning_rate': 0.4396461829629497, 'max_depth': 5, 'min_child_weight': 2, 'reg_alpha': 0.5778131505176416, 'reg_lambda': 0.6733008435634199, 'subsample': 0.7416258177215291}. Best is trial 650 with value: 0.8427230046948357.\u001b[0m\n",
            "\u001b[32m[I 2021-04-30 18:47:23,757]\u001b[0m Trial 813 finished with value: 0.8243544600938966 and parameters: {'colsample_bytree': 0.2793870473563243, 'gamma': 2, 'learning_rate': 0.42602416381616554, 'max_depth': 6, 'min_child_weight': 2, 'reg_alpha': 0.5725704045965143, 'reg_lambda': 0.6900021396840477, 'subsample': 0.7249898591848115}. Best is trial 650 with value: 0.8427230046948357.\u001b[0m\n",
            "\u001b[32m[I 2021-04-30 18:47:24,218]\u001b[0m Trial 814 finished with value: 0.8160406885758998 and parameters: {'colsample_bytree': 0.28978382431600275, 'gamma': 3, 'learning_rate': 0.4150757571478778, 'max_depth': 5, 'min_child_weight': 2, 'reg_alpha': 0.5650534496978459, 'reg_lambda': 0.6770146961917028, 'subsample': 0.6908706914731166}. Best is trial 650 with value: 0.8427230046948357.\u001b[0m\n",
            "\u001b[32m[I 2021-04-30 18:47:24,659]\u001b[0m Trial 815 finished with value: 0.8258020344287951 and parameters: {'colsample_bytree': 0.25758857835523474, 'gamma': 2, 'learning_rate': 0.43712581088798963, 'max_depth': 5, 'min_child_weight': 2, 'reg_alpha': 0.5782618742388766, 'reg_lambda': 0.7182596796800604, 'subsample': 0.7403825172329276}. Best is trial 650 with value: 0.8427230046948357.\u001b[0m\n",
            "\u001b[32m[I 2021-04-30 18:47:25,143]\u001b[0m Trial 816 finished with value: 0.8272496087636932 and parameters: {'colsample_bytree': 0.2986701296208331, 'gamma': 2, 'learning_rate': 0.1129257750792947, 'max_depth': 6, 'min_child_weight': 2, 'reg_alpha': 0.5656022683171708, 'reg_lambda': 0.6903028883423878, 'subsample': 0.706166826770692}. Best is trial 650 with value: 0.8427230046948357.\u001b[0m\n",
            "\u001b[32m[I 2021-04-30 18:47:25,574]\u001b[0m Trial 817 finished with value: 0.8342918622848201 and parameters: {'colsample_bytree': 0.26722320611027395, 'gamma': 2, 'learning_rate': 0.4126030045797134, 'max_depth': 5, 'min_child_weight': 2, 'reg_alpha': 0.5785848782111662, 'reg_lambda': 0.6789008338727209, 'subsample': 0.7464510999097353}. Best is trial 650 with value: 0.8427230046948357.\u001b[0m\n",
            "\u001b[32m[I 2021-04-30 18:47:25,993]\u001b[0m Trial 818 finished with value: 0.8159037558685446 and parameters: {'colsample_bytree': 0.26506052311727085, 'gamma': 2, 'learning_rate': 0.4458442574548902, 'max_depth': 5, 'min_child_weight': 2, 'reg_alpha': 0.5826911997211376, 'reg_lambda': 0.6711638119086882, 'subsample': 0.7537428537841808}. Best is trial 650 with value: 0.8427230046948357.\u001b[0m\n",
            "\u001b[32m[I 2021-04-30 18:47:26,405]\u001b[0m Trial 819 finished with value: 0.8173122065727698 and parameters: {'colsample_bytree': 0.2695454376758055, 'gamma': 2, 'learning_rate': 0.43041085866044104, 'max_depth': 6, 'min_child_weight': 2, 'reg_alpha': 0.588714156546605, 'reg_lambda': 0.7044180731017919, 'subsample': 0.7613448231426652}. Best is trial 650 with value: 0.8427230046948357.\u001b[0m\n",
            "\u001b[32m[I 2021-04-30 18:47:26,821]\u001b[0m Trial 820 finished with value: 0.8230633802816902 and parameters: {'colsample_bytree': 0.23565468507366003, 'gamma': 2, 'learning_rate': 0.40552572986194996, 'max_depth': 5, 'min_child_weight': 2, 'reg_alpha': 0.5813538162404326, 'reg_lambda': 0.6816528000050839, 'subsample': 0.737820369649697}. Best is trial 650 with value: 0.8427230046948357.\u001b[0m\n",
            "\u001b[32m[I 2021-04-30 18:47:27,241]\u001b[0m Trial 821 finished with value: 0.8244913928012518 and parameters: {'colsample_bytree': 0.26260859491800614, 'gamma': 2, 'learning_rate': 0.3835458312850986, 'max_depth': 6, 'min_child_weight': 2, 'reg_alpha': 0.5938571013807128, 'reg_lambda': 0.6593796462475964, 'subsample': 0.7786447544885049}. Best is trial 650 with value: 0.8427230046948357.\u001b[0m\n",
            "\u001b[32m[I 2021-04-30 18:47:27,657]\u001b[0m Trial 822 finished with value: 0.8229655712050079 and parameters: {'colsample_bytree': 0.25448944777110033, 'gamma': 1, 'learning_rate': 0.4615064267511075, 'max_depth': 5, 'min_child_weight': 2, 'reg_alpha': 0.5764832994571356, 'reg_lambda': 0.6922846521783003, 'subsample': 0.7206571694766617}. Best is trial 650 with value: 0.8427230046948357.\u001b[0m\n",
            "\u001b[32m[I 2021-04-30 18:47:28,121]\u001b[0m Trial 823 finished with value: 0.8398669796557121 and parameters: {'colsample_bytree': 0.2803757086184258, 'gamma': 2, 'learning_rate': 0.4204404932050998, 'max_depth': 6, 'min_child_weight': 2, 'reg_alpha': 0.5548225968791566, 'reg_lambda': 0.7072637158649474, 'subsample': 0.7410267851936029}. Best is trial 650 with value: 0.8427230046948357.\u001b[0m\n",
            "\u001b[32m[I 2021-04-30 18:47:28,558]\u001b[0m Trial 824 finished with value: 0.8146909233176839 and parameters: {'colsample_bytree': 0.28610704821151034, 'gamma': 2, 'learning_rate': 0.42486004968497487, 'max_depth': 4, 'min_child_weight': 2, 'reg_alpha': 0.553329505962195, 'reg_lambda': 0.7281929602846207, 'subsample': 0.7285519404105772}. Best is trial 650 with value: 0.8427230046948357.\u001b[0m\n",
            "\u001b[32m[I 2021-04-30 18:47:29,023]\u001b[0m Trial 825 finished with value: 0.8300078247261347 and parameters: {'colsample_bytree': 0.276180684732812, 'gamma': 2, 'learning_rate': 0.43504270472858253, 'max_depth': 5, 'min_child_weight': 2, 'reg_alpha': 0.5335621674562306, 'reg_lambda': 0.7078169667517987, 'subsample': 0.7356682707522829}. Best is trial 650 with value: 0.8427230046948357.\u001b[0m\n",
            "\u001b[32m[I 2021-04-30 18:47:29,498]\u001b[0m Trial 826 finished with value: 0.8186815336463222 and parameters: {'colsample_bytree': 0.2827974517043118, 'gamma': 2, 'learning_rate': 0.4183866521618095, 'max_depth': 6, 'min_child_weight': 2, 'reg_alpha': 0.5928555321568459, 'reg_lambda': 0.7132898461652797, 'subsample': 0.7562426978023853}. Best is trial 650 with value: 0.8427230046948357.\u001b[0m\n",
            "\u001b[32m[I 2021-04-30 18:47:29,964]\u001b[0m Trial 827 finished with value: 0.8188575899843504 and parameters: {'colsample_bytree': 0.2894198547652418, 'gamma': 2, 'learning_rate': 0.4441587671495021, 'max_depth': 5, 'min_child_weight': 2, 'reg_alpha': 0.5745761341357293, 'reg_lambda': 0.7163795866947251, 'subsample': 0.6979100712233608}. Best is trial 650 with value: 0.8427230046948357.\u001b[0m\n",
            "\u001b[32m[I 2021-04-30 18:47:30,436]\u001b[0m Trial 828 finished with value: 0.8257433489827856 and parameters: {'colsample_bytree': 0.2972754984876976, 'gamma': 2, 'learning_rate': 0.4545039196313354, 'max_depth': 6, 'min_child_weight': 2, 'reg_alpha': 0.5589507902485019, 'reg_lambda': 0.7472263020335355, 'subsample': 0.7860795121329904}. Best is trial 650 with value: 0.8427230046948357.\u001b[0m\n",
            "\u001b[32m[I 2021-04-30 18:47:30,894]\u001b[0m Trial 829 finished with value: 0.8202464788732394 and parameters: {'colsample_bytree': 0.27544142029235125, 'gamma': 1, 'learning_rate': 0.4141368173044685, 'max_depth': 5, 'min_child_weight': 2, 'reg_alpha': 0.5444358072151962, 'reg_lambda': 0.7031228089279868, 'subsample': 0.7207136058827395}. Best is trial 650 with value: 0.8427230046948357.\u001b[0m\n",
            "\u001b[32m[I 2021-04-30 18:47:31,374]\u001b[0m Trial 830 finished with value: 0.8315140845070423 and parameters: {'colsample_bytree': 0.30091769251334965, 'gamma': 2, 'learning_rate': 0.4371781450806582, 'max_depth': 5, 'min_child_weight': 2, 'reg_alpha': 0.6018595004254454, 'reg_lambda': 0.7336467109441226, 'subsample': 0.7485789922598961}. Best is trial 650 with value: 0.8427230046948357.\u001b[0m\n",
            "\u001b[32m[I 2021-04-30 18:47:31,818]\u001b[0m Trial 831 finished with value: 0.8244131455399062 and parameters: {'colsample_bytree': 0.28041175302772703, 'gamma': 2, 'learning_rate': 0.46606435845151023, 'max_depth': 6, 'min_child_weight': 5, 'reg_alpha': 0.5797920550686664, 'reg_lambda': 0.6545698994899147, 'subsample': 0.7040119494594126}. Best is trial 650 with value: 0.8427230046948357.\u001b[0m\n",
            "\u001b[32m[I 2021-04-30 18:47:32,278]\u001b[0m Trial 832 finished with value: 0.8215571205007824 and parameters: {'colsample_bytree': 0.29527803523995144, 'gamma': 1, 'learning_rate': 0.4223501616870305, 'max_depth': 5, 'min_child_weight': 2, 'reg_alpha': 0.5653123003601791, 'reg_lambda': 0.674463872211448, 'subsample': 0.7898827509652683}. Best is trial 650 with value: 0.8427230046948357.\u001b[0m\n",
            "\u001b[32m[I 2021-04-30 18:47:32,747]\u001b[0m Trial 833 finished with value: 0.8244718309859156 and parameters: {'colsample_bytree': 0.30643696813337373, 'gamma': 2, 'learning_rate': 0.4028233781348583, 'max_depth': 6, 'min_child_weight': 2, 'reg_alpha': 0.5920356877964965, 'reg_lambda': 0.6949660353998949, 'subsample': 0.6881684278315627}. Best is trial 650 with value: 0.8427230046948357.\u001b[0m\n",
            "\u001b[32m[I 2021-04-30 18:47:33,154]\u001b[0m Trial 834 finished with value: 0.8174295774647886 and parameters: {'colsample_bytree': 0.2657700772746521, 'gamma': 2, 'learning_rate': 0.4403830501222176, 'max_depth': 5, 'min_child_weight': 2, 'reg_alpha': 0.549203304250713, 'reg_lambda': 0.6473443380799433, 'subsample': 0.7510653315361798}. Best is trial 650 with value: 0.8427230046948357.\u001b[0m\n",
            "\u001b[32m[I 2021-04-30 18:47:33,623]\u001b[0m Trial 835 finished with value: 0.8216549295774648 and parameters: {'colsample_bytree': 0.28623899783825435, 'gamma': 2, 'learning_rate': 0.407083928662014, 'max_depth': 6, 'min_child_weight': 2, 'reg_alpha': 0.5740710047966887, 'reg_lambda': 0.6673163126521731, 'subsample': 0.789159140127593}. Best is trial 650 with value: 0.8427230046948357.\u001b[0m\n",
            "\u001b[32m[I 2021-04-30 18:47:34,036]\u001b[0m Trial 836 finished with value: 0.8130477308294211 and parameters: {'colsample_bytree': 0.27230019572553843, 'gamma': 2, 'learning_rate': 0.46905588242975715, 'max_depth': 5, 'min_child_weight': 2, 'reg_alpha': 0.6079261084907938, 'reg_lambda': 0.7226810428179811, 'subsample': 0.726006364746017}. Best is trial 650 with value: 0.8427230046948357.\u001b[0m\n",
            "\u001b[32m[I 2021-04-30 18:47:34,506]\u001b[0m Trial 837 finished with value: 0.8215766823161189 and parameters: {'colsample_bytree': 0.3041408633275178, 'gamma': 2, 'learning_rate': 0.4483493693230519, 'max_depth': 5, 'min_child_weight': 2, 'reg_alpha': 0.560997900696078, 'reg_lambda': 0.6780501414747372, 'subsample': 0.8312145439614134}. Best is trial 650 with value: 0.8427230046948357.\u001b[0m\n",
            "\u001b[32m[I 2021-04-30 18:47:34,935]\u001b[0m Trial 838 finished with value: 0.8216353677621283 and parameters: {'colsample_bytree': 0.3144851459821631, 'gamma': 0, 'learning_rate': 0.42933908708089097, 'max_depth': 6, 'min_child_weight': 5, 'reg_alpha': 0.5302140518446015, 'reg_lambda': 0.6554169169346242, 'subsample': 0.7585970096326224}. Best is trial 650 with value: 0.8427230046948357.\u001b[0m\n",
            "\u001b[32m[I 2021-04-30 18:47:35,340]\u001b[0m Trial 839 finished with value: 0.8174295774647888 and parameters: {'colsample_bytree': 0.28579812736579885, 'gamma': 2, 'learning_rate': 0.4188858654066378, 'max_depth': 5, 'min_child_weight': 9, 'reg_alpha': 0.5899466050790011, 'reg_lambda': 0.7004296863331256, 'subsample': 0.7987051053887583}. Best is trial 650 with value: 0.8427230046948357.\u001b[0m\n",
            "\u001b[32m[I 2021-04-30 18:47:35,816]\u001b[0m Trial 840 finished with value: 0.8286971830985916 and parameters: {'colsample_bytree': 0.2904478577258488, 'gamma': 2, 'learning_rate': 0.307668724021387, 'max_depth': 6, 'min_child_weight': 2, 'reg_alpha': 0.5793004963152127, 'reg_lambda': 0.6412557466491381, 'subsample': 0.7242389870492087}. Best is trial 650 with value: 0.8427230046948357.\u001b[0m\n",
            "\u001b[32m[I 2021-04-30 18:47:36,233]\u001b[0m Trial 841 finished with value: 0.8285798122065728 and parameters: {'colsample_bytree': 0.2719723106020484, 'gamma': 1, 'learning_rate': 0.4578758513530551, 'max_depth': 5, 'min_child_weight': 2, 'reg_alpha': 0.5659807737092696, 'reg_lambda': 0.6839944285531818, 'subsample': 0.6797611755366658}. Best is trial 650 with value: 0.8427230046948357.\u001b[0m\n",
            "\u001b[32m[I 2021-04-30 18:47:36,651]\u001b[0m Trial 842 finished with value: 0.8131259780907667 and parameters: {'colsample_bytree': 0.25322517418364987, 'gamma': 2, 'learning_rate': 0.40011018579146274, 'max_depth': 5, 'min_child_weight': 2, 'reg_alpha': 0.5967677478783895, 'reg_lambda': 0.6295147556514086, 'subsample': 0.7593455412111639}. Best is trial 650 with value: 0.8427230046948357.\u001b[0m\n",
            "\u001b[32m[I 2021-04-30 18:47:37,131]\u001b[0m Trial 843 finished with value: 0.8230829420970267 and parameters: {'colsample_bytree': 0.2989586512712865, 'gamma': 2, 'learning_rate': 0.4167914021075593, 'max_depth': 6, 'min_child_weight': 2, 'reg_alpha': 0.5488715679125193, 'reg_lambda': 0.7544444201385527, 'subsample': 0.7018559529530615}. Best is trial 650 with value: 0.8427230046948357.\u001b[0m\n",
            "\u001b[32m[I 2021-04-30 18:47:37,593]\u001b[0m Trial 844 finished with value: 0.8314945226917058 and parameters: {'colsample_bytree': 0.3124134787538583, 'gamma': 2, 'learning_rate': 0.47055277981848953, 'max_depth': 5, 'min_child_weight': 2, 'reg_alpha': 0.582619510206416, 'reg_lambda': 0.6636875999170482, 'subsample': 0.817793248689607}. Best is trial 650 with value: 0.8427230046948357.\u001b[0m\n",
            "\u001b[32m[I 2021-04-30 18:47:38,065]\u001b[0m Trial 845 finished with value: 0.8288341158059469 and parameters: {'colsample_bytree': 0.32244290552381877, 'gamma': 2, 'learning_rate': 0.29812040933898515, 'max_depth': 6, 'min_child_weight': 2, 'reg_alpha': 0.6116813056799206, 'reg_lambda': 0.6913030949243014, 'subsample': 0.7815368093446246}. Best is trial 650 with value: 0.8427230046948357.\u001b[0m\n",
            "\u001b[32m[I 2021-04-30 18:47:38,524]\u001b[0m Trial 846 finished with value: 0.814612676056338 and parameters: {'colsample_bytree': 0.2848210391507763, 'gamma': 1, 'learning_rate': 0.4324724765420228, 'max_depth': 5, 'min_child_weight': 2, 'reg_alpha': 0.5597326553792804, 'reg_lambda': 0.7249254080112031, 'subsample': 0.7344034797679346}. Best is trial 650 with value: 0.8427230046948357.\u001b[0m\n",
            "\u001b[32m[I 2021-04-30 18:47:38,949]\u001b[0m Trial 847 finished with value: 0.8272887323943662 and parameters: {'colsample_bytree': 0.26945116554382625, 'gamma': 2, 'learning_rate': 0.23715289849255886, 'max_depth': 6, 'min_child_weight': 2, 'reg_alpha': 0.5355922425382204, 'reg_lambda': 0.6752079593342796, 'subsample': 0.8340594838210866}. Best is trial 650 with value: 0.8427230046948357.\u001b[0m\n",
            "\u001b[32m[I 2021-04-30 18:47:39,411]\u001b[0m Trial 848 finished with value: 0.8314749608763693 and parameters: {'colsample_bytree': 0.300971327609105, 'gamma': 2, 'learning_rate': 0.4498594484743031, 'max_depth': 5, 'min_child_weight': 2, 'reg_alpha': 0.5726933308995026, 'reg_lambda': 0.6457728037859067, 'subsample': 0.6853178005804033}. Best is trial 650 with value: 0.8427230046948357.\u001b[0m\n",
            "\u001b[32m[I 2021-04-30 18:47:39,822]\u001b[0m Trial 849 finished with value: 0.8187206572769954 and parameters: {'colsample_bytree': 0.24484986163662587, 'gamma': 1, 'learning_rate': 0.3966497884018889, 'max_depth': 6, 'min_child_weight': 2, 'reg_alpha': 0.5969229212217032, 'reg_lambda': 0.6196484755697897, 'subsample': 0.7719804088480086}. Best is trial 650 with value: 0.8427230046948357.\u001b[0m\n",
            "\u001b[32m[I 2021-04-30 18:47:40,282]\u001b[0m Trial 850 finished with value: 0.8286384976525822 and parameters: {'colsample_bytree': 0.32297616179801336, 'gamma': 2, 'learning_rate': 0.24559698358974988, 'max_depth': 5, 'min_child_weight': 2, 'reg_alpha': 0.5829781121174521, 'reg_lambda': 0.6634126601565029, 'subsample': 0.7117740733541034}. Best is trial 650 with value: 0.8427230046948357.\u001b[0m\n",
            "\u001b[32m[I 2021-04-30 18:47:40,726]\u001b[0m Trial 851 finished with value: 0.8090179968701096 and parameters: {'colsample_bytree': 0.28065739711481774, 'gamma': 2, 'learning_rate': 0.47739365849700904, 'max_depth': 5, 'min_child_weight': 5, 'reg_alpha': 0.5492320154503941, 'reg_lambda': 0.7052048600796241, 'subsample': 0.7462426985460235}. Best is trial 650 with value: 0.8427230046948357.\u001b[0m\n",
            "\u001b[32m[I 2021-04-30 18:47:41,120]\u001b[0m Trial 852 finished with value: 0.8216744913928012 and parameters: {'colsample_bytree': 0.26047977965992275, 'gamma': 1, 'learning_rate': 0.41267940570127903, 'max_depth': 4, 'min_child_weight': 2, 'reg_alpha': 0.5633136334565687, 'reg_lambda': 0.6325234463344174, 'subsample': 0.8005966595618537}. Best is trial 650 with value: 0.8427230046948357.\u001b[0m\n",
            "\u001b[32m[I 2021-04-30 18:47:41,585]\u001b[0m Trial 853 finished with value: 0.8272300469483568 and parameters: {'colsample_bytree': 0.3120786185806111, 'gamma': 2, 'learning_rate': 0.44276263188323794, 'max_depth': 6, 'min_child_weight': 2, 'reg_alpha': 0.6040478776029147, 'reg_lambda': 0.653027441190069, 'subsample': 0.8402704274389778}. Best is trial 650 with value: 0.8427230046948357.\u001b[0m\n",
            "\u001b[32m[I 2021-04-30 18:47:42,046]\u001b[0m Trial 854 finished with value: 0.8271909233176838 and parameters: {'colsample_bytree': 0.30019041857032314, 'gamma': 2, 'learning_rate': 0.4300427361510224, 'max_depth': 5, 'min_child_weight': 2, 'reg_alpha': 0.5765697870198073, 'reg_lambda': 0.6107046040488772, 'subsample': 0.7147325957530497}. Best is trial 650 with value: 0.8427230046948357.\u001b[0m\n",
            "\u001b[32m[I 2021-04-30 18:47:42,515]\u001b[0m Trial 855 finished with value: 0.8187402190923316 and parameters: {'colsample_bytree': 0.33118017338684147, 'gamma': 2, 'learning_rate': 0.3944861329612874, 'max_depth': 6, 'min_child_weight': 2, 'reg_alpha': 0.5394848009187787, 'reg_lambda': 0.6806431423263924, 'subsample': 0.6774323112320252}. Best is trial 650 with value: 0.8427230046948357.\u001b[0m\n",
            "\u001b[32m[I 2021-04-30 18:47:42,964]\u001b[0m Trial 856 finished with value: 0.8300078247261347 and parameters: {'colsample_bytree': 0.29116888157102044, 'gamma': 2, 'learning_rate': 0.49876477530835966, 'max_depth': 5, 'min_child_weight': 2, 'reg_alpha': 0.5862312963796295, 'reg_lambda': 0.6971473786336375, 'subsample': 0.75583654954665}. Best is trial 650 with value: 0.8427230046948357.\u001b[0m\n",
            "\u001b[32m[I 2021-04-30 18:47:43,435]\u001b[0m Trial 857 finished with value: 0.8105242566510172 and parameters: {'colsample_bytree': 0.27342693601088414, 'gamma': 1, 'learning_rate': 0.47063794601551445, 'max_depth': 7, 'min_child_weight': 2, 'reg_alpha': 0.5564330111892728, 'reg_lambda': 0.6401778679277759, 'subsample': 0.7961788248380304}. Best is trial 650 with value: 0.8427230046948357.\u001b[0m\n",
            "\u001b[32m[I 2021-04-30 18:47:43,925]\u001b[0m Trial 858 finished with value: 0.8187010954616589 and parameters: {'colsample_bytree': 0.3164871315807576, 'gamma': 0, 'learning_rate': 0.2876700303476765, 'max_depth': 6, 'min_child_weight': 2, 'reg_alpha': 0.6152659097181362, 'reg_lambda': 0.6186656840850463, 'subsample': 0.748411947243862}. Best is trial 650 with value: 0.8427230046948357.\u001b[0m\n",
            "\u001b[32m[I 2021-04-30 18:47:44,385]\u001b[0m Trial 859 finished with value: 0.8245500782472612 and parameters: {'colsample_bytree': 0.29011368244259295, 'gamma': 2, 'learning_rate': 0.323524576536663, 'max_depth': 5, 'min_child_weight': 2, 'reg_alpha': 0.5059200051744267, 'reg_lambda': 0.6716558362292078, 'subsample': 0.8426098573438168}. Best is trial 650 with value: 0.8427230046948357.\u001b[0m\n",
            "\u001b[32m[I 2021-04-30 18:47:44,850]\u001b[0m Trial 860 finished with value: 0.8243935837245697 and parameters: {'colsample_bytree': 0.3037461096467077, 'gamma': 2, 'learning_rate': 0.4538676512512456, 'max_depth': 5, 'min_child_weight': 2, 'reg_alpha': 0.522188257599585, 'reg_lambda': 0.6540733066454685, 'subsample': 0.712478051987914}. Best is trial 650 with value: 0.8427230046948357.\u001b[0m\n",
            "\u001b[32m[I 2021-04-30 18:47:45,314]\u001b[0m Trial 861 finished with value: 0.8216744913928012 and parameters: {'colsample_bytree': 0.3209600122895307, 'gamma': 2, 'learning_rate': 0.521236315231944, 'max_depth': 6, 'min_child_weight': 2, 'reg_alpha': 0.575639498018902, 'reg_lambda': 0.7107572220305866, 'subsample': 0.7842221890762939}. Best is trial 650 with value: 0.8427230046948357.\u001b[0m\n",
            "\u001b[32m[I 2021-04-30 18:47:45,711]\u001b[0m Trial 862 finished with value: 0.8187597809076681 and parameters: {'colsample_bytree': 0.25926099715185036, 'gamma': 1, 'learning_rate': 0.4105322995866758, 'max_depth': 5, 'min_child_weight': 5, 'reg_alpha': 0.5978784204331177, 'reg_lambda': 0.606573704197548, 'subsample': 0.6626638614570985}. Best is trial 650 with value: 0.8427230046948357.\u001b[0m\n",
            "\u001b[32m[I 2021-04-30 18:47:46,185]\u001b[0m Trial 863 finished with value: 0.8188380281690142 and parameters: {'colsample_bytree': 0.3324819934476501, 'gamma': 2, 'learning_rate': 0.4309208878980832, 'max_depth': 5, 'min_child_weight': 2, 'reg_alpha': 0.5674535647377743, 'reg_lambda': 0.6305866023628878, 'subsample': 0.8210171775392757}. Best is trial 650 with value: 0.8427230046948357.\u001b[0m\n",
            "\u001b[32m[I 2021-04-30 18:47:46,640]\u001b[0m Trial 864 finished with value: 0.8230829420970265 and parameters: {'colsample_bytree': 0.2753017085214497, 'gamma': 2, 'learning_rate': 0.3896456296442859, 'max_depth': 6, 'min_child_weight': 3, 'reg_alpha': 0.5911245036838844, 'reg_lambda': 0.7312115902016942, 'subsample': 0.7374790525047549}. Best is trial 650 with value: 0.8427230046948357.\u001b[0m\n",
            "\u001b[32m[I 2021-04-30 18:47:47,104]\u001b[0m Trial 865 finished with value: 0.815962441314554 and parameters: {'colsample_bytree': 0.3071394479491491, 'gamma': 2, 'learning_rate': 0.4844027359714467, 'max_depth': 6, 'min_child_weight': 2, 'reg_alpha': 0.555743035609986, 'reg_lambda': 0.6850094743516568, 'subsample': 0.7031349316715224}. Best is trial 650 with value: 0.8427230046948357.\u001b[0m\n",
            "\u001b[32m[I 2021-04-30 18:47:47,574]\u001b[0m Trial 866 finished with value: 0.8328442879499217 and parameters: {'colsample_bytree': 0.2828497372876259, 'gamma': 4, 'learning_rate': 0.4577819434258169, 'max_depth': 5, 'min_child_weight': 2, 'reg_alpha': 0.5433065908340792, 'reg_lambda': 0.6447408259367442, 'subsample': 0.7776828212935607}. Best is trial 650 with value: 0.8427230046948357.\u001b[0m\n",
            "\u001b[32m[I 2021-04-30 18:47:48,030]\u001b[0m Trial 867 finished with value: 0.8287363067292646 and parameters: {'colsample_bytree': 0.2933053030020663, 'gamma': 2, 'learning_rate': 0.42450859413194486, 'max_depth': 5, 'min_child_weight': 2, 'reg_alpha': 0.568172915340849, 'reg_lambda': 0.6243823406135597, 'subsample': 0.8042306141107896}. Best is trial 650 with value: 0.8427230046948357.\u001b[0m\n",
            "\u001b[32m[I 2021-04-30 18:47:48,453]\u001b[0m Trial 868 finished with value: 0.8258215962441314 and parameters: {'colsample_bytree': 0.33092009150931606, 'gamma': 0, 'learning_rate': 0.40573612032004214, 'max_depth': 6, 'min_child_weight': 6, 'reg_alpha': 0.6113792302732151, 'reg_lambda': 0.6605141245994005, 'subsample': 0.8586469991427096}. Best is trial 650 with value: 0.8427230046948357.\u001b[0m\n",
            "\u001b[32m[I 2021-04-30 18:47:48,884]\u001b[0m Trial 869 finished with value: 0.8174882629107982 and parameters: {'colsample_bytree': 0.2671665138044405, 'gamma': 2, 'learning_rate': 0.3357683429460077, 'max_depth': 5, 'min_child_weight': 2, 'reg_alpha': 0.5827968180658841, 'reg_lambda': 0.6009772138090185, 'subsample': 0.7515394896829095}. Best is trial 650 with value: 0.8427230046948357.\u001b[0m\n",
            "\u001b[32m[I 2021-04-30 18:47:49,302]\u001b[0m Trial 870 finished with value: 0.8216353677621283 and parameters: {'colsample_bytree': 0.24685989444557666, 'gamma': 4, 'learning_rate': 0.4460561889115061, 'max_depth': 6, 'min_child_weight': 2, 'reg_alpha': 0.5971447433801179, 'reg_lambda': 0.6932806088570287, 'subsample': 0.6816777316229319}. Best is trial 650 with value: 0.8427230046948357.\u001b[0m\n",
            "\u001b[32m[I 2021-04-30 18:47:49,758]\u001b[0m Trial 871 finished with value: 0.8131455399061034 and parameters: {'colsample_bytree': 0.3161886375429244, 'gamma': 2, 'learning_rate': 0.47536280275050313, 'max_depth': 5, 'min_child_weight': 2, 'reg_alpha': 0.5696650646422348, 'reg_lambda': 0.6675951082673566, 'subsample': 0.7223949499650402}. Best is trial 650 with value: 0.8427230046948357.\u001b[0m\n",
            "\u001b[32m[I 2021-04-30 18:47:50,211]\u001b[0m Trial 872 finished with value: 0.8202856025039124 and parameters: {'colsample_bytree': 0.29948968731596326, 'gamma': 2, 'learning_rate': 0.5048744102817804, 'max_depth': 5, 'min_child_weight': 2, 'reg_alpha': 0.5527461673733769, 'reg_lambda': 0.7439264262500166, 'subsample': 0.7706646442966375}. Best is trial 650 with value: 0.8427230046948357.\u001b[0m\n",
            "\u001b[32m[I 2021-04-30 18:47:50,665]\u001b[0m Trial 873 finished with value: 0.8242957746478874 and parameters: {'colsample_bytree': 0.2852534024263813, 'gamma': 3, 'learning_rate': 0.41946544704632893, 'max_depth': 5, 'min_child_weight': 2, 'reg_alpha': 0.5867803347973642, 'reg_lambda': 0.6158443648392157, 'subsample': 0.8153659225401282}. Best is trial 650 with value: 0.8427230046948357.\u001b[0m\n",
            "\u001b[32m[I 2021-04-30 18:47:51,095]\u001b[0m Trial 874 finished with value: 0.8342136150234742 and parameters: {'colsample_bytree': 0.3351559353380609, 'gamma': 2, 'learning_rate': 0.3908329264691985, 'max_depth': 6, 'min_child_weight': 5, 'reg_alpha': 0.571467875553381, 'reg_lambda': 0.716510402176295, 'subsample': 0.5101170982183786}. Best is trial 650 with value: 0.8427230046948357.\u001b[0m\n",
            "\u001b[32m[I 2021-04-30 18:47:51,562]\u001b[0m Trial 875 finished with value: 0.8174687010954618 and parameters: {'colsample_bytree': 0.3103879007078803, 'gamma': 1, 'learning_rate': 0.44079403006886875, 'max_depth': 6, 'min_child_weight': 2, 'reg_alpha': 0.5412817617553894, 'reg_lambda': 0.6356645764941918, 'subsample': 0.6680763739847017}. Best is trial 650 with value: 0.8427230046948357.\u001b[0m\n",
            "\u001b[32m[I 2021-04-30 18:47:51,962]\u001b[0m Trial 876 finished with value: 0.8230438184663538 and parameters: {'colsample_bytree': 0.26200486673387474, 'gamma': 2, 'learning_rate': 0.5496661153635339, 'max_depth': 5, 'min_child_weight': 3, 'reg_alpha': 0.5263346317375699, 'reg_lambda': 0.6697801751995315, 'subsample': 0.7342062099632727}. Best is trial 650 with value: 0.8427230046948357.\u001b[0m\n",
            "\u001b[32m[I 2021-04-30 18:47:52,458]\u001b[0m Trial 877 finished with value: 0.8300078247261347 and parameters: {'colsample_bytree': 0.2765854244771972, 'gamma': 3, 'learning_rate': 0.4082019019234576, 'max_depth': 6, 'min_child_weight': 2, 'reg_alpha': 0.6027355423611859, 'reg_lambda': 0.7005553030514711, 'subsample': 0.8500593665391531}. Best is trial 650 with value: 0.8427230046948357.\u001b[0m\n",
            "\u001b[32m[I 2021-04-30 18:47:52,919]\u001b[0m Trial 878 finished with value: 0.8133411580594678 and parameters: {'colsample_bytree': 0.295480450048953, 'gamma': 2, 'learning_rate': 0.4606564060968832, 'max_depth': 5, 'min_child_weight': 2, 'reg_alpha': 0.557934276750888, 'reg_lambda': 0.6529305525831327, 'subsample': 0.7640249262172994}. Best is trial 650 with value: 0.8427230046948357.\u001b[0m\n",
            "\u001b[32m[I 2021-04-30 18:47:53,381]\u001b[0m Trial 879 finished with value: 0.8146322378716745 and parameters: {'colsample_bytree': 0.3238862035208638, 'gamma': 4, 'learning_rate': 0.2531330260828002, 'max_depth': 5, 'min_child_weight': 2, 'reg_alpha': 0.585441174261669, 'reg_lambda': 0.6884615195437302, 'subsample': 0.693050564750003}. Best is trial 650 with value: 0.8427230046948357.\u001b[0m\n",
            "\u001b[32m[I 2021-04-30 18:47:53,841]\u001b[0m Trial 880 finished with value: 0.8215962441314554 and parameters: {'colsample_bytree': 0.30808207530638126, 'gamma': 1, 'learning_rate': 0.2322246866089815, 'max_depth': 5, 'min_child_weight': 2, 'reg_alpha': 0.5747289951653091, 'reg_lambda': 0.6105433016245013, 'subsample': 0.7914857750613538}. Best is trial 650 with value: 0.8427230046948357.\u001b[0m\n",
            "\u001b[32m[I 2021-04-30 18:47:54,309]\u001b[0m Trial 881 finished with value: 0.8203051643192489 and parameters: {'colsample_bytree': 0.3406695351762031, 'gamma': 2, 'learning_rate': 0.4918589146132541, 'max_depth': 6, 'min_child_weight': 2, 'reg_alpha': 0.6119457075843883, 'reg_lambda': 0.6268204564421681, 'subsample': 0.7145808047519253}. Best is trial 650 with value: 0.8427230046948357.\u001b[0m\n",
            "\u001b[32m[I 2021-04-30 18:47:54,799]\u001b[0m Trial 882 finished with value: 0.8300273865414709 and parameters: {'colsample_bytree': 0.2799979158742449, 'gamma': 3, 'learning_rate': 0.37984896012161506, 'max_depth': 6, 'min_child_weight': 2, 'reg_alpha': 0.5601877006850402, 'reg_lambda': 0.5967880785035262, 'subsample': 0.819362562986741}. Best is trial 650 with value: 0.8427230046948357.\u001b[0m\n",
            "\u001b[32m[I 2021-04-30 18:47:55,215]\u001b[0m Trial 883 finished with value: 0.8187206572769954 and parameters: {'colsample_bytree': 0.254699228342567, 'gamma': 2, 'learning_rate': 0.5288275371448813, 'max_depth': 5, 'min_child_weight': 2, 'reg_alpha': 0.5950227286741386, 'reg_lambda': 0.6451219093224103, 'subsample': 0.7434460376018701}. Best is trial 650 with value: 0.8427230046948357.\u001b[0m\n",
            "\u001b[32m[I 2021-04-30 18:47:55,679]\u001b[0m Trial 884 finished with value: 0.8132824726134584 and parameters: {'colsample_bytree': 0.2926263387961828, 'gamma': 1, 'learning_rate': 0.42913531077805783, 'max_depth': 6, 'min_child_weight': 5, 'reg_alpha': 0.5358287215386781, 'reg_lambda': 0.6859683080098511, 'subsample': 0.8551252289200938}. Best is trial 650 with value: 0.8427230046948357.\u001b[0m\n",
            "\u001b[32m[I 2021-04-30 18:47:56,214]\u001b[0m Trial 885 finished with value: 0.8242175273865415 and parameters: {'colsample_bytree': 0.48001915201877177, 'gamma': 2, 'learning_rate': 0.47158575875219205, 'max_depth': 5, 'min_child_weight': 2, 'reg_alpha': 0.5483715922164745, 'reg_lambda': 0.6744070762657117, 'subsample': 0.6587529564024849}. Best is trial 650 with value: 0.8427230046948357.\u001b[0m\n",
            "\u001b[32m[I 2021-04-30 18:47:56,685]\u001b[0m Trial 886 finished with value: 0.8231416275430361 and parameters: {'colsample_bytree': 0.3220309455114423, 'gamma': 3, 'learning_rate': 0.26413174253697375, 'max_depth': 5, 'min_child_weight': 2, 'reg_alpha': 0.5807432888649758, 'reg_lambda': 0.7094933253342596, 'subsample': 0.7679666693243882}. Best is trial 650 with value: 0.8427230046948357.\u001b[0m\n",
            "\u001b[32m[I 2021-04-30 18:47:57,152]\u001b[0m Trial 887 finished with value: 0.8259780907668233 and parameters: {'colsample_bytree': 0.3018296626423449, 'gamma': 2, 'learning_rate': 0.40559869014377437, 'max_depth': 5, 'min_child_weight': 3, 'reg_alpha': 0.5677604213212226, 'reg_lambda': 0.609256142415734, 'subsample': 0.7042756405253545}. Best is trial 650 with value: 0.8427230046948357.\u001b[0m\n",
            "\u001b[32m[I 2021-04-30 18:47:57,576]\u001b[0m Trial 888 finished with value: 0.8202660406885759 and parameters: {'colsample_bytree': 0.2708524262210735, 'gamma': 2, 'learning_rate': 0.3122625849135031, 'max_depth': 6, 'min_child_weight': 2, 'reg_alpha': 0.6144400447564592, 'reg_lambda': 0.638661483835901, 'subsample': 0.7955072528637855}. Best is trial 650 with value: 0.8427230046948357.\u001b[0m\n",
            "\u001b[32m[I 2021-04-30 18:47:58,059]\u001b[0m Trial 889 finished with value: 0.8313771517996871 and parameters: {'colsample_bytree': 0.3500528548549757, 'gamma': 4, 'learning_rate': 0.4397827658847881, 'max_depth': 6, 'min_child_weight': 2, 'reg_alpha': 0.5959755978197513, 'reg_lambda': 0.6572308062910809, 'subsample': 0.7264562719739514}. Best is trial 650 with value: 0.8427230046948357.\u001b[0m\n",
            "\u001b[32m[I 2021-04-30 18:47:58,481]\u001b[0m Trial 890 finished with value: 0.8230046948356808 and parameters: {'colsample_bytree': 0.24086326321367196, 'gamma': 2, 'learning_rate': 0.4550577553779494, 'max_depth': 5, 'min_child_weight': 2, 'reg_alpha': 0.5843423850583453, 'reg_lambda': 0.6220017218368814, 'subsample': 0.7611177828996161}. Best is trial 650 with value: 0.8427230046948357.\u001b[0m\n",
            "\u001b[32m[I 2021-04-30 18:47:58,938]\u001b[0m Trial 891 finished with value: 0.8243544600938968 and parameters: {'colsample_bytree': 0.31636171884089404, 'gamma': 3, 'learning_rate': 0.4196247500463584, 'max_depth': 5, 'min_child_weight': 2, 'reg_alpha': 0.5600048531096312, 'reg_lambda': 0.5971941488679567, 'subsample': 0.833981827916464}. Best is trial 650 with value: 0.8427230046948357.\u001b[0m\n",
            "\u001b[32m[I 2021-04-30 18:47:59,411]\u001b[0m Trial 892 finished with value: 0.8257824726134586 and parameters: {'colsample_bytree': 0.3353386777452842, 'gamma': 0, 'learning_rate': 0.39448350941199745, 'max_depth': 6, 'min_child_weight': 2, 'reg_alpha': 0.5719445917449226, 'reg_lambda': 0.6680481074154232, 'subsample': 0.6792445972900363}. Best is trial 650 with value: 0.8427230046948357.\u001b[0m\n",
            "\u001b[32m[I 2021-04-30 18:47:59,834]\u001b[0m Trial 893 finished with value: 0.8230046948356808 and parameters: {'colsample_bytree': 0.28128772729728824, 'gamma': 2, 'learning_rate': 0.5080079190894078, 'max_depth': 5, 'min_child_weight': 5, 'reg_alpha': 0.5467504393153894, 'reg_lambda': 0.7262167690615832, 'subsample': 0.5323529861986347}. Best is trial 650 with value: 0.8427230046948357.\u001b[0m\n",
            "\u001b[32m[I 2021-04-30 18:48:00,311]\u001b[0m Trial 894 finished with value: 0.8230829420970265 and parameters: {'colsample_bytree': 0.2942303555979126, 'gamma': 1, 'learning_rate': 0.4825165985290463, 'max_depth': 6, 'min_child_weight': 2, 'reg_alpha': 0.6037725290498734, 'reg_lambda': 0.6776402441844656, 'subsample': 0.7941946162225617}. Best is trial 650 with value: 0.8427230046948357.\u001b[0m\n",
            "\u001b[32m[I 2021-04-30 18:48:00,749]\u001b[0m Trial 895 finished with value: 0.8316118935837246 and parameters: {'colsample_bytree': 0.30875802326156015, 'gamma': 2, 'learning_rate': 0.2977154342660833, 'max_depth': 4, 'min_child_weight': 2, 'reg_alpha': 0.5154717657217832, 'reg_lambda': 0.6330098837119181, 'subsample': 0.7391369135215013}. Best is trial 650 with value: 0.8427230046948357.\u001b[0m\n",
            "\u001b[32m[I 2021-04-30 18:48:01,157]\u001b[0m Trial 896 finished with value: 0.8216549295774648 and parameters: {'colsample_bytree': 0.2648333113229681, 'gamma': 2, 'learning_rate': 0.27623353239603876, 'max_depth': 5, 'min_child_weight': 2, 'reg_alpha': 0.5877114934580062, 'reg_lambda': 0.6972137114098842, 'subsample': 0.6420555774270343}. Best is trial 650 with value: 0.8427230046948357.\u001b[0m\n",
            "\u001b[32m[I 2021-04-30 18:48:01,612]\u001b[0m Trial 897 finished with value: 0.8356220657276996 and parameters: {'colsample_bytree': 0.33397648915311895, 'gamma': 3, 'learning_rate': 0.43870892857967425, 'max_depth': 5, 'min_child_weight': 2, 'reg_alpha': 0.531183230926268, 'reg_lambda': 0.652664689902157, 'subsample': 0.8598692182920885}. Best is trial 650 with value: 0.8427230046948357.\u001b[0m\n",
            "\u001b[32m[I 2021-04-30 18:48:02,100]\u001b[0m Trial 898 finished with value: 0.8258998435054773 and parameters: {'colsample_bytree': 0.34316326941260816, 'gamma': 3, 'learning_rate': 0.4648676433665855, 'max_depth': 6, 'min_child_weight': 2, 'reg_alpha': 0.507844223383363, 'reg_lambda': 0.6502110727899146, 'subsample': 0.8697188392199859}. Best is trial 650 with value: 0.8427230046948357.\u001b[0m\n",
            "\u001b[32m[I 2021-04-30 18:48:02,568]\u001b[0m Trial 899 finished with value: 0.8270539906103286 and parameters: {'colsample_bytree': 0.33435862688021, 'gamma': 3, 'learning_rate': 0.42997238985054886, 'max_depth': 5, 'min_child_weight': 2, 'reg_alpha': 0.5272742592031809, 'reg_lambda': 0.6165401149518398, 'subsample': 0.8554176988967136}. Best is trial 650 with value: 0.8427230046948357.\u001b[0m\n",
            "\u001b[32m[I 2021-04-30 18:48:03,054]\u001b[0m Trial 900 finished with value: 0.8273865414710485 and parameters: {'colsample_bytree': 0.35153161491453855, 'gamma': 3, 'learning_rate': 0.43465732257660306, 'max_depth': 6, 'min_child_weight': 2, 'reg_alpha': 0.5165409472678275, 'reg_lambda': 0.638494521518068, 'subsample': 0.8583486081886648}. Best is trial 650 with value: 0.8427230046948357.\u001b[0m\n",
            "\u001b[32m[I 2021-04-30 18:48:03,511]\u001b[0m Trial 901 finished with value: 0.8202660406885759 and parameters: {'colsample_bytree': 0.33039089830785195, 'gamma': 3, 'learning_rate': 0.45076769973496433, 'max_depth': 5, 'min_child_weight': 2, 'reg_alpha': 0.5261413749930581, 'reg_lambda': 0.6246534849535368, 'subsample': 0.8549082916786532}. Best is trial 650 with value: 0.8427230046948357.\u001b[0m\n",
            "\u001b[32m[I 2021-04-30 18:48:04,035]\u001b[0m Trial 902 finished with value: 0.8176838810641627 and parameters: {'colsample_bytree': 0.5375534035095093, 'gamma': 3, 'learning_rate': 0.3959910196981931, 'max_depth': 6, 'min_child_weight': 5, 'reg_alpha': 0.49674756359249583, 'reg_lambda': 0.5924116249166583, 'subsample': 0.8968596265606256}. Best is trial 650 with value: 0.8427230046948357.\u001b[0m\n",
            "\u001b[32m[I 2021-04-30 18:48:04,492]\u001b[0m Trial 903 finished with value: 0.834370109546166 and parameters: {'colsample_bytree': 0.35711373222344445, 'gamma': 3, 'learning_rate': 0.41416405852471777, 'max_depth': 5, 'min_child_weight': 2, 'reg_alpha': 0.5394226385410423, 'reg_lambda': 0.6497455772544565, 'subsample': 0.8286669014985999}. Best is trial 650 with value: 0.8427230046948357.\u001b[0m\n",
            "\u001b[32m[I 2021-04-30 18:48:04,947]\u001b[0m Trial 904 finished with value: 0.8286776212832552 and parameters: {'colsample_bytree': 0.35655959320443764, 'gamma': 3, 'learning_rate': 0.4174796771398204, 'max_depth': 5, 'min_child_weight': 3, 'reg_alpha': 0.5195753037551532, 'reg_lambda': 0.6521794615765136, 'subsample': 0.873587941872827}. Best is trial 650 with value: 0.8427230046948357.\u001b[0m\n",
            "\u001b[32m[I 2021-04-30 18:48:05,417]\u001b[0m Trial 905 finished with value: 0.8145931142410016 and parameters: {'colsample_bytree': 0.35218130069593173, 'gamma': 3, 'learning_rate': 0.43953085188120433, 'max_depth': 5, 'min_child_weight': 2, 'reg_alpha': 0.5125989791464513, 'reg_lambda': 0.6573183574889773, 'subsample': 0.8355559951382261}. Best is trial 650 with value: 0.8427230046948357.\u001b[0m\n",
            "\u001b[32m[I 2021-04-30 18:48:05,916]\u001b[0m Trial 906 finished with value: 0.8201095461658843 and parameters: {'colsample_bytree': 0.3667649721594073, 'gamma': 3, 'learning_rate': 0.41431224748374296, 'max_depth': 5, 'min_child_weight': 2, 'reg_alpha': 0.5234662830267622, 'reg_lambda': 0.6751242989261818, 'subsample': 0.8274067774268936}. Best is trial 650 with value: 0.8427230046948357.\u001b[0m\n",
            "\u001b[32m[I 2021-04-30 18:48:06,386]\u001b[0m Trial 907 finished with value: 0.8229068857589985 and parameters: {'colsample_bytree': 0.345733783625659, 'gamma': 3, 'learning_rate': 0.41246654587811626, 'max_depth': 5, 'min_child_weight': 2, 'reg_alpha': 0.5343104745417296, 'reg_lambda': 0.687719793607407, 'subsample': 0.877801807473312}. Best is trial 650 with value: 0.8427230046948357.\u001b[0m\n",
            "\u001b[32m[I 2021-04-30 18:48:06,883]\u001b[0m Trial 908 finished with value: 0.8258607198748044 and parameters: {'colsample_bytree': 0.36366853245951936, 'gamma': 3, 'learning_rate': 0.40603137965785474, 'max_depth': 5, 'min_child_weight': 2, 'reg_alpha': 0.5341491055602605, 'reg_lambda': 0.6453506856674074, 'subsample': 0.8692289456036455}. Best is trial 650 with value: 0.8427230046948357.\u001b[0m\n",
            "\u001b[32m[I 2021-04-30 18:48:07,333]\u001b[0m Trial 909 finished with value: 0.8244131455399062 and parameters: {'colsample_bytree': 0.3313610128418718, 'gamma': 3, 'learning_rate': 0.4297663479162705, 'max_depth': 5, 'min_child_weight': 2, 'reg_alpha': 0.536979337455377, 'reg_lambda': 0.6612321698996931, 'subsample': 0.8965008637232599}. Best is trial 650 with value: 0.8427230046948357.\u001b[0m\n",
            "\u001b[32m[I 2021-04-30 18:48:07,807]\u001b[0m Trial 910 finished with value: 0.8301251956181532 and parameters: {'colsample_bytree': 0.34053569927830907, 'gamma': 3, 'learning_rate': 0.3785959958193442, 'max_depth': 6, 'min_child_weight': 2, 'reg_alpha': 0.5341707598399082, 'reg_lambda': 0.6336339196441474, 'subsample': 0.8203725579697491}. Best is trial 650 with value: 0.8427230046948357.\u001b[0m\n",
            "\u001b[32m[I 2021-04-30 18:48:08,265]\u001b[0m Trial 911 finished with value: 0.8285798122065728 and parameters: {'colsample_bytree': 0.3259502682997778, 'gamma': 3, 'learning_rate': 0.44594486063912436, 'max_depth': 5, 'min_child_weight': 2, 'reg_alpha': 0.5202727439109497, 'reg_lambda': 0.6620626064083538, 'subsample': 0.8992999449650804}. Best is trial 650 with value: 0.8427230046948357.\u001b[0m\n",
            "\u001b[32m[I 2021-04-30 18:48:08,741]\u001b[0m Trial 912 finished with value: 0.8188184663536775 and parameters: {'colsample_bytree': 0.36088854356589795, 'gamma': 3, 'learning_rate': 0.24325273171267264, 'max_depth': 6, 'min_child_weight': 2, 'reg_alpha': 0.504322458499653, 'reg_lambda': 0.6087614910906158, 'subsample': 0.8289619638831}. Best is trial 650 with value: 0.8427230046948357.\u001b[0m\n",
            "\u001b[32m[I 2021-04-30 18:48:09,243]\u001b[0m Trial 913 finished with value: 0.8216158059467918 and parameters: {'colsample_bytree': 0.34644043848612244, 'gamma': 3, 'learning_rate': 0.38686345325144644, 'max_depth': 6, 'min_child_weight': 2, 'reg_alpha': 0.5433704590349333, 'reg_lambda': 0.62768522253959, 'subsample': 0.8995843903557389}. Best is trial 650 with value: 0.8427230046948357.\u001b[0m\n",
            "\u001b[32m[I 2021-04-30 18:48:09,719]\u001b[0m Trial 914 finished with value: 0.824413145539906 and parameters: {'colsample_bytree': 0.32629608059027204, 'gamma': 4, 'learning_rate': 0.10631112640367875, 'max_depth': 5, 'min_child_weight': 2, 'reg_alpha': 0.4689904226238927, 'reg_lambda': 0.6472002103680429, 'subsample': 0.8158243539514429}. Best is trial 650 with value: 0.8427230046948357.\u001b[0m\n",
            "\u001b[32m[I 2021-04-30 18:48:10,167]\u001b[0m Trial 915 finished with value: 0.818798904538341 and parameters: {'colsample_bytree': 0.3416766512974962, 'gamma': 3, 'learning_rate': 0.4317423576182961, 'max_depth': 6, 'min_child_weight': 5, 'reg_alpha': 0.53929586846414, 'reg_lambda': 0.6147957295518957, 'subsample': 0.8354523514582408}. Best is trial 650 with value: 0.8427230046948357.\u001b[0m\n",
            "\u001b[32m[I 2021-04-30 18:48:10,642]\u001b[0m Trial 916 finished with value: 0.8203638497652582 and parameters: {'colsample_bytree': 0.36348091577133357, 'gamma': 3, 'learning_rate': 0.44959583699687544, 'max_depth': 6, 'min_child_weight': 2, 'reg_alpha': 0.5463314397205399, 'reg_lambda': 0.6065142497266277, 'subsample': 0.8624797080598443}. Best is trial 650 with value: 0.8427230046948357.\u001b[0m\n",
            "\u001b[32m[I 2021-04-30 18:48:11,104]\u001b[0m Trial 917 finished with value: 0.8159820031298904 and parameters: {'colsample_bytree': 0.31720289597103957, 'gamma': 3, 'learning_rate': 0.39837730396234466, 'max_depth': 6, 'min_child_weight': 3, 'reg_alpha': 0.5513331143697979, 'reg_lambda': 0.626959693586762, 'subsample': 0.8074401181559303}. Best is trial 650 with value: 0.8427230046948357.\u001b[0m\n",
            "\u001b[32m[I 2021-04-30 18:48:11,567]\u001b[0m Trial 918 finished with value: 0.8257629107981221 and parameters: {'colsample_bytree': 0.3243434541096021, 'gamma': 4, 'learning_rate': 0.42227735578355596, 'max_depth': 5, 'min_child_weight': 2, 'reg_alpha': 0.5282057639721184, 'reg_lambda': 0.6395810975990668, 'subsample': 0.8008079622617748}. Best is trial 650 with value: 0.8427230046948357.\u001b[0m\n",
            "\u001b[32m[I 2021-04-30 18:48:12,022]\u001b[0m Trial 919 finished with value: 0.818838028169014 and parameters: {'colsample_bytree': 0.3462589003032709, 'gamma': 3, 'learning_rate': 0.2864466532347472, 'max_depth': 6, 'min_child_weight': 4, 'reg_alpha': 0.545078004746742, 'reg_lambda': 0.5963014018445006, 'subsample': 0.8619502135667868}. Best is trial 650 with value: 0.8427230046948357.\u001b[0m\n",
            "\u001b[32m[I 2021-04-30 18:48:12,494]\u001b[0m Trial 920 finished with value: 0.832981220657277 and parameters: {'colsample_bytree': 0.3329589814694687, 'gamma': 4, 'learning_rate': 0.3355476063713658, 'max_depth': 5, 'min_child_weight': 2, 'reg_alpha': 0.5334864238851764, 'reg_lambda': 0.618985688732091, 'subsample': 0.7970490418706764}. Best is trial 650 with value: 0.8427230046948357.\u001b[0m\n",
            "\u001b[32m[I 2021-04-30 18:48:13,016]\u001b[0m Trial 921 finished with value: 0.8271517996870109 and parameters: {'colsample_bytree': 0.3812486271744802, 'gamma': 3, 'learning_rate': 0.40831061305546584, 'max_depth': 5, 'min_child_weight': 2, 'reg_alpha': 0.5519739926466547, 'reg_lambda': 0.7109459781067147, 'subsample': 0.8396945207707425}. Best is trial 650 with value: 0.8427230046948357.\u001b[0m\n",
            "\u001b[32m[I 2021-04-30 18:48:13,486]\u001b[0m Trial 922 finished with value: 0.8230046948356808 and parameters: {'colsample_bytree': 0.3167091269223487, 'gamma': 4, 'learning_rate': 0.3752650864008093, 'max_depth': 6, 'min_child_weight': 2, 'reg_alpha': 0.5550571424434434, 'reg_lambda': 0.6022747564902446, 'subsample': 0.5690980830617515}. Best is trial 650 with value: 0.8427230046948357.\u001b[0m\n",
            "\u001b[32m[I 2021-04-30 18:48:13,953]\u001b[0m Trial 923 finished with value: 0.832942097026604 and parameters: {'colsample_bytree': 0.35511668031082577, 'gamma': 3, 'learning_rate': 0.4569727131997054, 'max_depth': 5, 'min_child_weight': 2, 'reg_alpha': 0.4932927809336842, 'reg_lambda': 0.6684086471653888, 'subsample': 0.798308136137662}. Best is trial 650 with value: 0.8427230046948357.\u001b[0m\n",
            "\u001b[32m[I 2021-04-30 18:48:14,407]\u001b[0m Trial 924 finished with value: 0.8244718309859156 and parameters: {'colsample_bytree': 0.3405722391911473, 'gamma': 3, 'learning_rate': 0.39502533446913324, 'max_depth': 5, 'min_child_weight': 3, 'reg_alpha': 0.5255606932789989, 'reg_lambda': 0.6868909859774637, 'subsample': 0.8668218326623134}. Best is trial 650 with value: 0.8427230046948357.\u001b[0m\n",
            "\u001b[32m[I 2021-04-30 18:48:14,939]\u001b[0m Trial 925 finished with value: 0.8117175273865413 and parameters: {'colsample_bytree': 0.36575084429880883, 'gamma': 3, 'learning_rate': 0.4288272712370645, 'max_depth': 6, 'min_child_weight': 2, 'reg_alpha': 0.5114565936683914, 'reg_lambda': 0.6352535576731699, 'subsample': 0.7800021456624404}. Best is trial 650 with value: 0.8427230046948357.\u001b[0m\n",
            "\u001b[32m[I 2021-04-30 18:48:15,399]\u001b[0m Trial 926 finished with value: 0.8257824726134585 and parameters: {'colsample_bytree': 0.3141316026561297, 'gamma': 3, 'learning_rate': 0.4346483653989716, 'max_depth': 5, 'min_child_weight': 2, 'reg_alpha': 0.6181548822510842, 'reg_lambda': 0.6588847892518402, 'subsample': 0.8960761884920992}. Best is trial 650 with value: 0.8427230046948357.\u001b[0m\n",
            "\u001b[32m[I 2021-04-30 18:48:15,867]\u001b[0m Trial 927 finished with value: 0.8160798122065728 and parameters: {'colsample_bytree': 0.32251969168360445, 'gamma': 4, 'learning_rate': 0.2596106537047293, 'max_depth': 5, 'min_child_weight': 2, 'reg_alpha': 0.5377759071477557, 'reg_lambda': 0.6491998989512269, 'subsample': 0.8373445550863917}. Best is trial 650 with value: 0.8427230046948357.\u001b[0m\n",
            "\u001b[32m[I 2021-04-30 18:48:16,319]\u001b[0m Trial 928 finished with value: 0.8159820031298904 and parameters: {'colsample_bytree': 0.35364886790513544, 'gamma': 3, 'learning_rate': 0.26837491245228207, 'max_depth': 6, 'min_child_weight': 5, 'reg_alpha': 0.5521905869641975, 'reg_lambda': 0.6199438720419643, 'subsample': 0.787372421057603}. Best is trial 650 with value: 0.8427230046948357.\u001b[0m\n",
            "\u001b[32m[I 2021-04-30 18:48:16,948]\u001b[0m Trial 929 finished with value: 0.8202660406885759 and parameters: {'colsample_bytree': 0.8046885051972436, 'gamma': 3, 'learning_rate': 0.4135734334262876, 'max_depth': 5, 'min_child_weight': 2, 'reg_alpha': 0.5608428300447824, 'reg_lambda': 0.7043074194944007, 'subsample': 0.7689049019216393}. Best is trial 650 with value: 0.8427230046948357.\u001b[0m\n",
            "\u001b[32m[I 2021-04-30 18:48:17,430]\u001b[0m Trial 930 finished with value: 0.8356025039123631 and parameters: {'colsample_bytree': 0.3332836607201143, 'gamma': 4, 'learning_rate': 0.444296960961915, 'max_depth': 6, 'min_child_weight': 2, 'reg_alpha': 0.5426120975541318, 'reg_lambda': 0.5976247678859578, 'subsample': 0.8987554573300698}. Best is trial 650 with value: 0.8427230046948357.\u001b[0m\n",
            "\u001b[32m[I 2021-04-30 18:48:17,911]\u001b[0m Trial 931 finished with value: 0.8230829420970267 and parameters: {'colsample_bytree': 0.33848975917016144, 'gamma': 4, 'learning_rate': 0.4424812100614768, 'max_depth': 6, 'min_child_weight': 2, 'reg_alpha': 0.5201963017960796, 'reg_lambda': 0.6012561579687136, 'subsample': 0.8728215884544567}. Best is trial 650 with value: 0.8427230046948357.\u001b[0m\n",
            "\u001b[32m[I 2021-04-30 18:48:18,396]\u001b[0m Trial 932 finished with value: 0.82018779342723 and parameters: {'colsample_bytree': 0.3318593985229682, 'gamma': 4, 'learning_rate': 0.4232878399588537, 'max_depth': 5, 'min_child_weight': 2, 'reg_alpha': 0.5427327842108838, 'reg_lambda': 0.5874425674105034, 'subsample': 0.8681227385555629}. Best is trial 650 with value: 0.8427230046948357.\u001b[0m\n",
            "\u001b[32m[I 2021-04-30 18:48:18,865]\u001b[0m Trial 933 finished with value: 0.8244522691705789 and parameters: {'colsample_bytree': 0.34781604278727796, 'gamma': 4, 'learning_rate': 0.44775820366669866, 'max_depth': 6, 'min_child_weight': 2, 'reg_alpha': 0.5306462793983886, 'reg_lambda': 0.5994093767625026, 'subsample': 0.8973986112765701}. Best is trial 650 with value: 0.8427230046948357.\u001b[0m\n",
            "\u001b[32m[I 2021-04-30 18:48:19,367]\u001b[0m Trial 934 finished with value: 0.827366979655712 and parameters: {'colsample_bytree': 0.37460291257376716, 'gamma': 4, 'learning_rate': 0.4242953283914271, 'max_depth': 5, 'min_child_weight': 2, 'reg_alpha': 0.5140830976597647, 'reg_lambda': 0.583815755255201, 'subsample': 0.873536450000682}. Best is trial 650 with value: 0.8427230046948357.\u001b[0m\n",
            "\u001b[32m[I 2021-04-30 18:48:19,829]\u001b[0m Trial 935 finished with value: 0.8258411580594679 and parameters: {'colsample_bytree': 0.3336044510473585, 'gamma': 4, 'learning_rate': 0.1422896698176633, 'max_depth': 5, 'min_child_weight': 2, 'reg_alpha': 0.5291004468317713, 'reg_lambda': 0.5783757810192832, 'subsample': 0.8929267527632115}. Best is trial 650 with value: 0.8427230046948357.\u001b[0m\n",
            "\u001b[32m[I 2021-04-30 18:48:20,319]\u001b[0m Trial 936 finished with value: 0.8299295774647888 and parameters: {'colsample_bytree': 0.3574408031600348, 'gamma': 4, 'learning_rate': 0.44077427359462623, 'max_depth': 6, 'min_child_weight': 2, 'reg_alpha': 0.540914796614515, 'reg_lambda': 0.5882444888367971, 'subsample': 0.8509124145564352}. Best is trial 650 with value: 0.8427230046948357.\u001b[0m\n",
            "\u001b[32m[I 2021-04-30 18:48:20,784]\u001b[0m Trial 937 finished with value: 0.8256455399061033 and parameters: {'colsample_bytree': 0.32134098067346867, 'gamma': 4, 'learning_rate': 0.3225410421790452, 'max_depth': 5, 'min_child_weight': 3, 'reg_alpha': 0.5493534966956025, 'reg_lambda': 0.6100461681000772, 'subsample': 0.8957494200529402}. Best is trial 650 with value: 0.8427230046948357.\u001b[0m\n",
            "\u001b[32m[I 2021-04-30 18:48:21,309]\u001b[0m Trial 938 finished with value: 0.8243544600938968 and parameters: {'colsample_bytree': 0.3975651058527436, 'gamma': 4, 'learning_rate': 0.3862079983815199, 'max_depth': 6, 'min_child_weight': 2, 'reg_alpha': 0.5331929397071893, 'reg_lambda': 0.5757432487718491, 'subsample': 0.8353306068529891}. Best is trial 650 with value: 0.8427230046948357.\u001b[0m\n",
            "\u001b[32m[I 2021-04-30 18:48:21,751]\u001b[0m Trial 939 finished with value: 0.8230242566510173 and parameters: {'colsample_bytree': 0.3388076244614843, 'gamma': 4, 'learning_rate': 0.36131504128647574, 'max_depth': 4, 'min_child_weight': 2, 'reg_alpha': 0.5551671831994707, 'reg_lambda': 0.7377661292879328, 'subsample': 0.8222207101848299}. Best is trial 650 with value: 0.8427230046948357.\u001b[0m\n",
            "\u001b[32m[I 2021-04-30 18:48:22,285]\u001b[0m Trial 940 finished with value: 0.8202464788732394 and parameters: {'colsample_bytree': 0.37151424966460783, 'gamma': 4, 'learning_rate': 0.40363331172040895, 'max_depth': 7, 'min_child_weight': 2, 'reg_alpha': 0.5418636889931182, 'reg_lambda': 0.5890647626554465, 'subsample': 0.5959937202386619}. Best is trial 650 with value: 0.8427230046948357.\u001b[0m\n",
            "\u001b[32m[I 2021-04-30 18:48:22,752]\u001b[0m Trial 941 finished with value: 0.8259780907668232 and parameters: {'colsample_bytree': 0.31408727007596443, 'gamma': 4, 'learning_rate': 0.2510658917430676, 'max_depth': 5, 'min_child_weight': 2, 'reg_alpha': 0.5623473218268846, 'reg_lambda': 0.5966579365928849, 'subsample': 0.8369506265109087}. Best is trial 650 with value: 0.8427230046948357.\u001b[0m\n",
            "\u001b[32m[I 2021-04-30 18:48:23,235]\u001b[0m Trial 942 finished with value: 0.8285406885758999 and parameters: {'colsample_bytree': 0.3270245557391223, 'gamma': 4, 'learning_rate': 0.45257319405406865, 'max_depth': 6, 'min_child_weight': 2, 'reg_alpha': 0.5205451025231469, 'reg_lambda': 0.5670687413885753, 'subsample': 0.8697578901348744}. Best is trial 650 with value: 0.8427230046948357.\u001b[0m\n",
            "\u001b[32m[I 2021-04-30 18:48:23,684]\u001b[0m Trial 943 finished with value: 0.825841158059468 and parameters: {'colsample_bytree': 0.345286362900588, 'gamma': 4, 'learning_rate': 0.4169381635246462, 'max_depth': 5, 'min_child_weight': 5, 'reg_alpha': 0.5626076664162496, 'reg_lambda': 0.6094741656055322, 'subsample': 0.8969184947862429}. Best is trial 650 with value: 0.8427230046948357.\u001b[0m\n",
            "\u001b[32m[I 2021-04-30 18:48:24,154]\u001b[0m Trial 944 finished with value: 0.8174100156494524 and parameters: {'colsample_bytree': 0.3094703505229013, 'gamma': 4, 'learning_rate': 0.4261742449961432, 'max_depth': 5, 'min_child_weight': 2, 'reg_alpha': 0.5456526452072032, 'reg_lambda': 0.6205196725974998, 'subsample': 0.8160630004580903}. Best is trial 650 with value: 0.8427230046948357.\u001b[0m\n",
            "\u001b[32m[I 2021-04-30 18:48:24,626]\u001b[0m Trial 945 finished with value: 0.8343114241001566 and parameters: {'colsample_bytree': 0.3594441825393359, 'gamma': 3, 'learning_rate': 0.3460005556632853, 'max_depth': 6, 'min_child_weight': 2, 'reg_alpha': 0.5062186440672991, 'reg_lambda': 0.5894898813722623, 'subsample': 0.8978348524577248}. Best is trial 650 with value: 0.8427230046948357.\u001b[0m\n",
            "\u001b[32m[I 2021-04-30 18:48:25,106]\u001b[0m Trial 946 finished with value: 0.8258607198748044 and parameters: {'colsample_bytree': 0.3269691210091979, 'gamma': 4, 'learning_rate': 0.4612090664608132, 'max_depth': 5, 'min_child_weight': 2, 'reg_alpha': 0.5282310400082728, 'reg_lambda': 0.7724112476965682, 'subsample': 0.8132351022821989}. Best is trial 650 with value: 0.8427230046948357.\u001b[0m\n",
            "\u001b[32m[I 2021-04-30 18:48:25,624]\u001b[0m Trial 947 finished with value: 0.8243935837245695 and parameters: {'colsample_bytree': 0.3699479426032738, 'gamma': 3, 'learning_rate': 0.34348161035177616, 'max_depth': 6, 'min_child_weight': 2, 'reg_alpha': 0.5017346659835553, 'reg_lambda': 0.5786977272218481, 'subsample': 0.8921356131572963}. Best is trial 650 with value: 0.8427230046948357.\u001b[0m\n",
            "\u001b[32m[I 2021-04-30 18:48:26,082]\u001b[0m Trial 948 finished with value: 0.8231416275430361 and parameters: {'colsample_bytree': 0.3090231391228782, 'gamma': 0, 'learning_rate': 0.3703316998586174, 'max_depth': 5, 'min_child_weight': 5, 'reg_alpha': 0.5674896074423743, 'reg_lambda': 0.6397023387331219, 'subsample': 0.6235751031135467}. Best is trial 650 with value: 0.8427230046948357.\u001b[0m\n",
            "\u001b[32m[I 2021-04-30 18:48:26,650]\u001b[0m Trial 949 finished with value: 0.824413145539906 and parameters: {'colsample_bytree': 0.45528686843879734, 'gamma': 3, 'learning_rate': 0.440858716312521, 'max_depth': 6, 'min_child_weight': 2, 'reg_alpha': 0.5509046887454248, 'reg_lambda': 0.6061265538852272, 'subsample': 0.8437862266804208}. Best is trial 650 with value: 0.8427230046948357.\u001b[0m\n",
            "\u001b[32m[I 2021-04-30 18:48:27,116]\u001b[0m Trial 950 finished with value: 0.8300860719874803 and parameters: {'colsample_bytree': 0.34189888022712095, 'gamma': 4, 'learning_rate': 0.5950071841150654, 'max_depth': 5, 'min_child_weight': 2, 'reg_alpha': 0.5402539288806056, 'reg_lambda': 0.6267691040189719, 'subsample': 0.802055826307725}. Best is trial 650 with value: 0.8427230046948357.\u001b[0m\n",
            "\u001b[32m[I 2021-04-30 18:48:27,606]\u001b[0m Trial 951 finished with value: 0.8313575899843506 and parameters: {'colsample_bytree': 0.3605383295409145, 'gamma': 3, 'learning_rate': 0.33388303667885666, 'max_depth': 6, 'min_child_weight': 3, 'reg_alpha': 0.47436185343603643, 'reg_lambda': 0.5907538337903716, 'subsample': 0.8963827790822058}. Best is trial 650 with value: 0.8427230046948357.\u001b[0m\n",
            "\u001b[32m[I 2021-04-30 18:48:28,075]\u001b[0m Trial 952 finished with value: 0.8103090766823161 and parameters: {'colsample_bytree': 0.32295477550952567, 'gamma': 4, 'learning_rate': 0.43484767402829655, 'max_depth': 5, 'min_child_weight': 2, 'reg_alpha': 0.5583075174705667, 'reg_lambda': 0.7233346646760634, 'subsample': 0.7798446222516057}. Best is trial 650 with value: 0.8427230046948357.\u001b[0m\n",
            "\u001b[32m[I 2021-04-30 18:48:28,609]\u001b[0m Trial 953 finished with value: 0.8384194053208137 and parameters: {'colsample_bytree': 0.4108983314890845, 'gamma': 3, 'learning_rate': 0.3114582758043242, 'max_depth': 6, 'min_child_weight': 2, 'reg_alpha': 0.5042638226134957, 'reg_lambda': 0.5645505330039544, 'subsample': 0.8672701654795186}. Best is trial 650 with value: 0.8427230046948357.\u001b[0m\n",
            "\u001b[32m[I 2021-04-30 18:48:29,075]\u001b[0m Trial 954 finished with value: 0.8091353677621284 and parameters: {'colsample_bytree': 0.44500606659577535, 'gamma': 3, 'learning_rate': 0.31463488644894017, 'max_depth': 6, 'min_child_weight': 7, 'reg_alpha': 0.48492443132337215, 'reg_lambda': 0.5609598368305443, 'subsample': 0.8417806950348811}. Best is trial 650 with value: 0.8427230046948357.\u001b[0m\n",
            "\u001b[32m[I 2021-04-30 18:48:29,622]\u001b[0m Trial 955 finished with value: 0.8328442879499217 and parameters: {'colsample_bytree': 0.41289589901611856, 'gamma': 3, 'learning_rate': 0.3113003675987979, 'max_depth': 6, 'min_child_weight': 2, 'reg_alpha': 0.5735491612288799, 'reg_lambda': 0.5577689145493644, 'subsample': 0.8653179646913474}. Best is trial 650 with value: 0.8427230046948357.\u001b[0m\n",
            "\u001b[32m[I 2021-04-30 18:48:30,159]\u001b[0m Trial 956 finished with value: 0.8315727699530516 and parameters: {'colsample_bytree': 0.4051482802434711, 'gamma': 3, 'learning_rate': 0.31127067374344375, 'max_depth': 6, 'min_child_weight': 2, 'reg_alpha': 0.49586466463966666, 'reg_lambda': 0.5857668950813761, 'subsample': 0.8919270862143377}. Best is trial 650 with value: 0.8427230046948357.\u001b[0m\n",
            "\u001b[32m[I 2021-04-30 18:48:30,732]\u001b[0m Trial 957 finished with value: 0.8187793427230048 and parameters: {'colsample_bytree': 0.48408068297947815, 'gamma': 3, 'learning_rate': 0.28143429677168336, 'max_depth': 6, 'min_child_weight': 2, 'reg_alpha': 0.4786356209711673, 'reg_lambda': 0.5738250225497863, 'subsample': 0.8975244979162759}. Best is trial 650 with value: 0.8427230046948357.\u001b[0m\n",
            "\u001b[32m[I 2021-04-30 18:48:31,263]\u001b[0m Trial 958 finished with value: 0.8244327073552427 and parameters: {'colsample_bytree': 0.43180317427886894, 'gamma': 3, 'learning_rate': 0.271877398362019, 'max_depth': 6, 'min_child_weight': 2, 'reg_alpha': 0.5107176539517468, 'reg_lambda': 0.5733162624565394, 'subsample': 0.8595978695854702}. Best is trial 650 with value: 0.8427230046948357.\u001b[0m\n",
            "\u001b[32m[I 2021-04-30 18:48:31,788]\u001b[0m Trial 959 finished with value: 0.8173904538341159 and parameters: {'colsample_bytree': 0.4381539379880894, 'gamma': 3, 'learning_rate': 0.30308502684235505, 'max_depth': 6, 'min_child_weight': 2, 'reg_alpha': 0.48923168805490613, 'reg_lambda': 0.5418777141729947, 'subsample': 0.8980410213351759}. Best is trial 650 with value: 0.8427230046948357.\u001b[0m\n",
            "\u001b[32m[I 2021-04-30 18:48:32,292]\u001b[0m Trial 960 finished with value: 0.811776212832551 and parameters: {'colsample_bytree': 0.42643543003137907, 'gamma': 3, 'learning_rate': 0.2831530930059966, 'max_depth': 6, 'min_child_weight': 5, 'reg_alpha': 0.5113811956199508, 'reg_lambda': 0.5441586056469029, 'subsample': 0.8616775868060499}. Best is trial 650 with value: 0.8427230046948357.\u001b[0m\n",
            "\u001b[32m[I 2021-04-30 18:48:32,646]\u001b[0m Trial 961 finished with value: 0.7778560250391238 and parameters: {'colsample_bytree': 0.3903851797894181, 'gamma': 3, 'learning_rate': 0.32877124878455066, 'max_depth': 6, 'min_child_weight': 3, 'reg_alpha': 0.5746378286378151, 'reg_lambda': 0.5675069236392517, 'subsample': 0.10342490340546417}. Best is trial 650 with value: 0.8427230046948357.\u001b[0m\n",
            "\u001b[32m[I 2021-04-30 18:48:33,179]\u001b[0m Trial 962 finished with value: 0.8216744913928012 and parameters: {'colsample_bytree': 0.40645130879702085, 'gamma': 3, 'learning_rate': 0.3205515511609467, 'max_depth': 6, 'min_child_weight': 2, 'reg_alpha': 0.5058271471812766, 'reg_lambda': 0.5988075592382792, 'subsample': 0.8445793599416769}. Best is trial 650 with value: 0.8427230046948357.\u001b[0m\n",
            "\u001b[32m[I 2021-04-30 18:48:33,673]\u001b[0m Trial 963 finished with value: 0.8131455399061032 and parameters: {'colsample_bytree': 0.3918642111498633, 'gamma': 3, 'learning_rate': 0.28632048456520204, 'max_depth': 6, 'min_child_weight': 4, 'reg_alpha': 0.49913356638030043, 'reg_lambda': 0.5853054960172469, 'subsample': 0.8329949243851733}. Best is trial 650 with value: 0.8427230046948357.\u001b[0m\n",
            "\u001b[32m[I 2021-04-30 18:48:34,257]\u001b[0m Trial 964 finished with value: 0.825841158059468 and parameters: {'colsample_bytree': 0.4733795546003676, 'gamma': 4, 'learning_rate': 0.34166470626543594, 'max_depth': 6, 'min_child_weight': 2, 'reg_alpha': 0.586133520762834, 'reg_lambda': 0.5520967371039818, 'subsample': 0.8168735156089301}. Best is trial 650 with value: 0.8427230046948357.\u001b[0m\n",
            "\u001b[32m[I 2021-04-30 18:48:34,796]\u001b[0m Trial 965 finished with value: 0.8159037558685446 and parameters: {'colsample_bytree': 0.3913359291186867, 'gamma': 3, 'learning_rate': 0.3560669905203516, 'max_depth': 6, 'min_child_weight': 2, 'reg_alpha': 0.5680570953736461, 'reg_lambda': 0.5666668782834653, 'subsample': 0.8664240596380509}. Best is trial 650 with value: 0.8427230046948357.\u001b[0m\n",
            "\u001b[32m[I 2021-04-30 18:48:35,377]\u001b[0m Trial 966 finished with value: 0.8146713615023474 and parameters: {'colsample_bytree': 0.4565559977073637, 'gamma': 4, 'learning_rate': 0.24460896772056212, 'max_depth': 6, 'min_child_weight': 2, 'reg_alpha': 0.5777798523138893, 'reg_lambda': 0.5976845793376133, 'subsample': 0.8251399444624454}. Best is trial 650 with value: 0.8427230046948357.\u001b[0m\n",
            "\u001b[32m[I 2021-04-30 18:48:35,899]\u001b[0m Trial 967 finished with value: 0.8202073552425665 and parameters: {'colsample_bytree': 0.3792796305966136, 'gamma': 3, 'learning_rate': 0.37267745001225183, 'max_depth': 6, 'min_child_weight': 2, 'reg_alpha': 0.5915498129417888, 'reg_lambda': 0.6164133491924491, 'subsample': 0.6439192921439791}. Best is trial 650 with value: 0.8427230046948357.\u001b[0m\n",
            "\u001b[32m[I 2021-04-30 18:48:36,433]\u001b[0m Trial 968 finished with value: 0.8216158059467918 and parameters: {'colsample_bytree': 0.41991288897204193, 'gamma': 3, 'learning_rate': 0.3073111269314592, 'max_depth': 6, 'min_child_weight': 2, 'reg_alpha': 0.5621455191635014, 'reg_lambda': 0.5838770546253554, 'subsample': 0.8001709992287127}. Best is trial 650 with value: 0.8427230046948357.\u001b[0m\n",
            "\u001b[32m[I 2021-04-30 18:48:36,976]\u001b[0m Trial 969 finished with value: 0.8147300469483568 and parameters: {'colsample_bytree': 0.38535547159905287, 'gamma': 0, 'learning_rate': 0.2617626558636738, 'max_depth': 6, 'min_child_weight': 2, 'reg_alpha': 0.5205356965577137, 'reg_lambda': 0.6014491744285684, 'subsample': 0.8715305908530812}. Best is trial 650 with value: 0.8427230046948357.\u001b[0m\n",
            "\u001b[32m[I 2021-04-30 18:48:37,512]\u001b[0m Trial 970 finished with value: 0.8188184663536777 and parameters: {'colsample_bytree': 0.3741346192766273, 'gamma': 4, 'learning_rate': 0.29345539251021313, 'max_depth': 6, 'min_child_weight': 2, 'reg_alpha': 0.5733529932746898, 'reg_lambda': 0.5570673496396871, 'subsample': 0.5869090476133204}. Best is trial 650 with value: 0.8427230046948357.\u001b[0m\n",
            "\u001b[32m[I 2021-04-30 18:48:37,984]\u001b[0m Trial 971 finished with value: 0.8300078247261347 and parameters: {'colsample_bytree': 0.35597387588351753, 'gamma': 3, 'learning_rate': 0.3031756027750349, 'max_depth': 6, 'min_child_weight': 2, 'reg_alpha': 0.6052619080664237, 'reg_lambda': 0.5280093230412546, 'subsample': 0.8039994721649616}. Best is trial 650 with value: 0.8427230046948357.\u001b[0m\n",
            "\u001b[32m[I 2021-04-30 18:48:38,430]\u001b[0m Trial 972 finished with value: 0.8034820031298905 and parameters: {'colsample_bytree': 0.40996063543563815, 'gamma': 4, 'learning_rate': 0.3253694843138328, 'max_depth': 6, 'min_child_weight': 2, 'reg_alpha': 0.4965953514811751, 'reg_lambda': 0.5760882789699966, 'subsample': 0.2753591934566257}. Best is trial 650 with value: 0.8427230046948357.\u001b[0m\n",
            "\u001b[32m[I 2021-04-30 18:48:38,883]\u001b[0m Trial 973 finished with value: 0.8215962441314554 and parameters: {'colsample_bytree': 0.42047170603259665, 'gamma': 3, 'learning_rate': 0.4660458695181382, 'max_depth': 6, 'min_child_weight': 8, 'reg_alpha': 0.553859962915204, 'reg_lambda': 0.6140660313567402, 'subsample': 0.8975030632069139}. Best is trial 650 with value: 0.8427230046948357.\u001b[0m\n",
            "\u001b[32m[I 2021-04-30 18:48:39,369]\u001b[0m Trial 974 finished with value: 0.8188575899843504 and parameters: {'colsample_bytree': 0.37785061789090196, 'gamma': 3, 'learning_rate': 0.38249171724094994, 'max_depth': 6, 'min_child_weight': 5, 'reg_alpha': 0.5849141997314756, 'reg_lambda': 0.6363740467441844, 'subsample': 0.853857655380081}. Best is trial 650 with value: 0.8427230046948357.\u001b[0m\n",
            "\u001b[32m[I 2021-04-30 18:48:39,808]\u001b[0m Trial 975 finished with value: 0.8202856025039124 and parameters: {'colsample_bytree': 0.39247572066243924, 'gamma': 3, 'learning_rate': 0.29993152706436177, 'max_depth': 6, 'min_child_weight': 6, 'reg_alpha': 0.5684145509458871, 'reg_lambda': 0.605191964250258, 'subsample': 0.5529726667019939}. Best is trial 650 with value: 0.8427230046948357.\u001b[0m\n",
            "\u001b[32m[I 2021-04-30 18:48:40,287]\u001b[0m Trial 976 finished with value: 0.8258411580594679 and parameters: {'colsample_bytree': 0.3517975232574162, 'gamma': 4, 'learning_rate': 0.46139602033566135, 'max_depth': 6, 'min_child_weight': 2, 'reg_alpha': 0.5960144814460493, 'reg_lambda': 0.6458997126135337, 'subsample': 0.8991037908176086}. Best is trial 650 with value: 0.8427230046948357.\u001b[0m\n",
            "\u001b[32m[I 2021-04-30 18:48:40,850]\u001b[0m Trial 977 finished with value: 0.8158841940532081 and parameters: {'colsample_bytree': 0.4973835770008051, 'gamma': 3, 'learning_rate': 0.27464326082651014, 'max_depth': 7, 'min_child_weight': 3, 'reg_alpha': 0.5618233806640383, 'reg_lambda': 0.5912432100271089, 'subsample': 0.7775349315663033}. Best is trial 650 with value: 0.8427230046948357.\u001b[0m\n",
            "\u001b[32m[I 2021-04-30 18:48:41,375]\u001b[0m Trial 978 finished with value: 0.8215962441314554 and parameters: {'colsample_bytree': 0.3648300976852829, 'gamma': 4, 'learning_rate': 0.39650355278224897, 'max_depth': 6, 'min_child_weight': 2, 'reg_alpha': 0.61341050057521, 'reg_lambda': 0.6257488016530343, 'subsample': 0.838540587322574}. Best is trial 650 with value: 0.8427230046948357.\u001b[0m\n",
            "\u001b[32m[I 2021-04-30 18:48:41,853]\u001b[0m Trial 979 finished with value: 0.815923317683881 and parameters: {'colsample_bytree': 0.33312870678195766, 'gamma': 3, 'learning_rate': 0.29329611519231635, 'max_depth': 6, 'min_child_weight': 2, 'reg_alpha': 0.5814181721959756, 'reg_lambda': 0.5786984512870043, 'subsample': 0.6630427996443308}. Best is trial 650 with value: 0.8427230046948357.\u001b[0m\n",
            "\u001b[32m[I 2021-04-30 18:48:42,334]\u001b[0m Trial 980 finished with value: 0.8145148669796558 and parameters: {'colsample_bytree': 0.3481560928556087, 'gamma': 0, 'learning_rate': 0.36307309498108653, 'max_depth': 6, 'min_child_weight': 2, 'reg_alpha': 0.5545143710841531, 'reg_lambda': 0.8351408657631684, 'subsample': 0.8085011378876221}. Best is trial 650 with value: 0.8427230046948357.\u001b[0m\n",
            "\u001b[32m[I 2021-04-30 18:48:42,860]\u001b[0m Trial 981 finished with value: 0.8315140845070422 and parameters: {'colsample_bytree': 0.3792705389261624, 'gamma': 3, 'learning_rate': 0.23335993127508967, 'max_depth': 6, 'min_child_weight': 2, 'reg_alpha': 0.5758990607430299, 'reg_lambda': 0.6125438589087955, 'subsample': 0.8975871485290882}. Best is trial 650 with value: 0.8427230046948357.\u001b[0m\n",
            "\u001b[32m[I 2021-04-30 18:48:43,360]\u001b[0m Trial 982 finished with value: 0.8187010954616589 and parameters: {'colsample_bytree': 0.3147447476876513, 'gamma': 4, 'learning_rate': 0.4459987084612089, 'max_depth': 6, 'min_child_weight': 2, 'reg_alpha': 0.5262345141621877, 'reg_lambda': 0.6514639327968005, 'subsample': 0.6228224492570508}. Best is trial 650 with value: 0.8427230046948357.\u001b[0m\n",
            "\u001b[32m[I 2021-04-30 18:48:43,827]\u001b[0m Trial 983 finished with value: 0.82018779342723 and parameters: {'colsample_bytree': 0.3353521320686064, 'gamma': 1, 'learning_rate': 0.3960589433292826, 'max_depth': 6, 'min_child_weight': 2, 'reg_alpha': 0.5931624222621704, 'reg_lambda': 0.6295247601467037, 'subsample': 0.6895738450434523}. Best is trial 650 with value: 0.8427230046948357.\u001b[0m\n",
            "\u001b[32m[I 2021-04-30 18:48:44,365]\u001b[0m Trial 984 finished with value: 0.8244522691705791 and parameters: {'colsample_bytree': 0.43449241873607203, 'gamma': 3, 'learning_rate': 0.2578945616792368, 'max_depth': 6, 'min_child_weight': 2, 'reg_alpha': 0.5436982731792155, 'reg_lambda': 0.597534691948946, 'subsample': 0.7823155831539038}. Best is trial 650 with value: 0.8427230046948357.\u001b[0m\n",
            "\u001b[32m[I 2021-04-30 18:48:44,906]\u001b[0m Trial 985 finished with value: 0.8229851330203444 and parameters: {'colsample_bytree': 0.36453776760379825, 'gamma': 3, 'learning_rate': 0.4744811805587297, 'max_depth': 6, 'min_child_weight': 2, 'reg_alpha': 0.5653740566206591, 'reg_lambda': 0.6089652863477408, 'subsample': 0.8445393963856453}. Best is trial 650 with value: 0.8427230046948357.\u001b[0m\n",
            "\u001b[32m[I 2021-04-30 18:48:45,386]\u001b[0m Trial 986 finished with value: 0.8202660406885759 and parameters: {'colsample_bytree': 0.4010390162711837, 'gamma': 4, 'learning_rate': 0.40693795914019437, 'max_depth': 5, 'min_child_weight': 5, 'reg_alpha': 0.6064680218526628, 'reg_lambda': 0.5621822646354203, 'subsample': 0.8193754493085716}. Best is trial 650 with value: 0.8427230046948357.\u001b[0m\n",
            "\u001b[32m[I 2021-04-30 18:48:45,859]\u001b[0m Trial 987 finished with value: 0.82018779342723 and parameters: {'colsample_bytree': 0.3061232831440484, 'gamma': 3, 'learning_rate': 0.13165490961581805, 'max_depth': 6, 'min_child_weight': 2, 'reg_alpha': 0.5861852159470515, 'reg_lambda': 0.6428930800324306, 'subsample': 0.6569644472914283}. Best is trial 650 with value: 0.8427230046948357.\u001b[0m\n",
            "\u001b[32m[I 2021-04-30 18:48:46,325]\u001b[0m Trial 988 finished with value: 0.8272104851330203 and parameters: {'colsample_bytree': 0.32356813906235776, 'gamma': 4, 'learning_rate': 0.4538800036166908, 'max_depth': 5, 'min_child_weight': 2, 'reg_alpha': 0.5502473119686547, 'reg_lambda': 0.572709147706988, 'subsample': 0.776343945748465}. Best is trial 650 with value: 0.8427230046948357.\u001b[0m\n",
            "\u001b[32m[I 2021-04-30 18:48:46,793]\u001b[0m Trial 989 finished with value: 0.820226917057903 and parameters: {'colsample_bytree': 0.3476171260673603, 'gamma': 1, 'learning_rate': 0.5694435538367282, 'max_depth': 5, 'min_child_weight': 2, 'reg_alpha': 0.5145644222020552, 'reg_lambda': 0.5917131366686692, 'subsample': 0.8981047848248178}. Best is trial 650 with value: 0.8427230046948357.\u001b[0m\n",
            "\u001b[32m[I 2021-04-30 18:48:47,278]\u001b[0m Trial 990 finished with value: 0.8159428794992175 and parameters: {'colsample_bytree': 0.30730697072032714, 'gamma': 0, 'learning_rate': 0.3876043770463604, 'max_depth': 6, 'min_child_weight': 2, 'reg_alpha': 0.5709576949634638, 'reg_lambda': 0.5355406460690304, 'subsample': 0.7050561194818906}. Best is trial 650 with value: 0.8427230046948357.\u001b[0m\n",
            "\u001b[32m[I 2021-04-30 18:48:47,745]\u001b[0m Trial 991 finished with value: 0.8314162754303599 and parameters: {'colsample_bytree': 0.33359796360872573, 'gamma': 3, 'learning_rate': 0.4339197993267937, 'max_depth': 5, 'min_child_weight': 2, 'reg_alpha': 0.4863560429599023, 'reg_lambda': 0.8974805661054285, 'subsample': 0.8663458068496499}. Best is trial 650 with value: 0.8427230046948357.\u001b[0m\n",
            "\u001b[32m[I 2021-04-30 18:48:48,226]\u001b[0m Trial 992 finished with value: 0.8273082942097026 and parameters: {'colsample_bytree': 0.3618034981302362, 'gamma': 4, 'learning_rate': 0.46778083211981447, 'max_depth': 6, 'min_child_weight': 2, 'reg_alpha': 0.5584194401202753, 'reg_lambda': 0.6197400600448871, 'subsample': 0.7606689644666186}. Best is trial 650 with value: 0.8427230046948357.\u001b[0m\n",
            "\u001b[32m[I 2021-04-30 18:48:48,702]\u001b[0m Trial 993 finished with value: 0.8145539906103287 and parameters: {'colsample_bytree': 0.45928100116266585, 'gamma': 3, 'learning_rate': 0.35088771092420856, 'max_depth': 4, 'min_child_weight': 3, 'reg_alpha': 0.5985376821140019, 'reg_lambda': 0.6631755540037085, 'subsample': 0.8111492973887706}. Best is trial 650 with value: 0.8427230046948357.\u001b[0m\n",
            "\u001b[32m[I 2021-04-30 18:48:49,173]\u001b[0m Trial 994 finished with value: 0.8188771517996871 and parameters: {'colsample_bytree': 0.3192561554942951, 'gamma': 3, 'learning_rate': 0.4214791131351721, 'max_depth': 5, 'min_child_weight': 2, 'reg_alpha': 0.6189675714151035, 'reg_lambda': 0.6367762818083476, 'subsample': 0.7189471014718625}. Best is trial 650 with value: 0.8427230046948357.\u001b[0m\n",
            "\u001b[32m[I 2021-04-30 18:48:49,657]\u001b[0m Trial 995 finished with value: 0.8173708920187792 and parameters: {'colsample_bytree': 0.3442761130670458, 'gamma': 1, 'learning_rate': 0.2502342595296845, 'max_depth': 6, 'min_child_weight': 2, 'reg_alpha': 0.5366977682444121, 'reg_lambda': 0.5501110819319994, 'subsample': 0.6761587950012943}. Best is trial 650 with value: 0.8427230046948357.\u001b[0m\n",
            "\u001b[32m[I 2021-04-30 18:48:50,151]\u001b[0m Trial 996 finished with value: 0.8242957746478874 and parameters: {'colsample_bytree': 0.37465569735111504, 'gamma': 4, 'learning_rate': 0.3779052418282898, 'max_depth': 5, 'min_child_weight': 2, 'reg_alpha': 0.5827145421659236, 'reg_lambda': 0.5818136727838379, 'subsample': 0.8988119295742233}. Best is trial 650 with value: 0.8427230046948357.\u001b[0m\n",
            "\u001b[32m[I 2021-04-30 18:48:50,630]\u001b[0m Trial 997 finished with value: 0.8271909233176838 and parameters: {'colsample_bytree': 0.3031070964754157, 'gamma': 3, 'learning_rate': 0.27156483493051076, 'max_depth': 6, 'min_child_weight': 2, 'reg_alpha': 0.5719085393329538, 'reg_lambda': 0.607037203804531, 'subsample': 0.8992517977311413}. Best is trial 650 with value: 0.8427230046948357.\u001b[0m\n",
            "\u001b[32m[I 2021-04-30 18:48:51,073]\u001b[0m Trial 998 finished with value: 0.8217331768388106 and parameters: {'colsample_bytree': 0.31913888014912506, 'gamma': 1, 'learning_rate': 0.3192813253416853, 'max_depth': 5, 'min_child_weight': 5, 'reg_alpha': 0.5535930209733948, 'reg_lambda': 0.648136300763689, 'subsample': 0.7834266484623192}. Best is trial 650 with value: 0.8427230046948357.\u001b[0m\n",
            "\u001b[32m[I 2021-04-30 18:48:51,550]\u001b[0m Trial 999 finished with value: 0.8231025039123632 and parameters: {'colsample_bytree': 0.3339607959346212, 'gamma': 3, 'learning_rate': 0.40107058388995837, 'max_depth': 6, 'min_child_weight': 2, 'reg_alpha': 0.5915687259600713, 'reg_lambda': 0.6737838368833526, 'subsample': 0.6058240473402405}. Best is trial 650 with value: 0.8427230046948357.\u001b[0m\n"
          ],
          "name": "stderr"
        },
        {
          "output_type": "stream",
          "text": [
            "Best score: 0.8427230046948357\n",
            "\n",
            "Optimized parameters: {'colsample_bytree': 0.31780542982994026, 'gamma': 4, 'learning_rate': 0.3870297757991567, 'max_depth': 5, 'min_child_weight': 1, 'reg_alpha': 0.6111695628501788, 'reg_lambda': 0.5761321285675478, 'subsample': 0.7269388445061777}\n",
            "\n"
          ],
          "name": "stdout"
        }
      ]
    },
    {
      "cell_type": "code",
      "metadata": {
        "colab": {
          "base_uri": "https://localhost:8080/"
        },
        "id": "8WC0d0ao7gGA",
        "outputId": "37161f22-89d8-4994-f3e3-3112af05907e"
      },
      "source": [
        "xgb = XGBClassifier(colsample_bytree = 0.31780542982994026, \n",
        "                    gamma = 4, \n",
        "                    learning_rate = 0.3870297757991567, \n",
        "                    max_depth = 5, \n",
        "                    min_child_weight = 1, \n",
        "                    reg_alpha = 0.6111695628501788, \n",
        "                    reg_lambda = 0.5761321285675478, \n",
        "                    subsample = 0.7269388445061777)\n",
        "\n",
        "xgb.fit(X_train, y_train)\n",
        "\n",
        "y_pred = xgb.predict(X_test)\n",
        "\n",
        "print(classification_report(y_test,y_pred))"
      ],
      "execution_count": 86,
      "outputs": [
        {
          "output_type": "stream",
          "text": [
            "              precision    recall  f1-score   support\n",
            "\n",
            "           0       0.81      0.93      0.86       110\n",
            "           1       0.85      0.65      0.74        69\n",
            "\n",
            "    accuracy                           0.82       179\n",
            "   macro avg       0.83      0.79      0.80       179\n",
            "weighted avg       0.82      0.82      0.82       179\n",
            "\n"
          ],
          "name": "stdout"
        }
      ]
    },
    {
      "cell_type": "code",
      "metadata": {
        "colab": {
          "base_uri": "https://localhost:8080/"
        },
        "id": "lw5v3OJ38Egv",
        "outputId": "75fb34f5-7e55-4e4d-9ae5-b3aa47ed9ff9"
      },
      "source": [
        "##################\n",
        "# Random Forest\n",
        "##################\n",
        "def randomforest_objective(trial):\n",
        "    _n_estimators = trial.suggest_int(\"n_estimators\", 300, 2000)\n",
        "    _max_depth = trial.suggest_int(\"max_depth\", 5, 20)\n",
        "    _min_samp_split = trial.suggest_int(\"min_samples_split\", 2, 10)\n",
        "    _min_samples_leaf = trial.suggest_int(\"min_samples_leaf\", 2, 10)\n",
        "    _max_features = trial.suggest_int(\"max_features\", 2, 10)\n",
        "\n",
        "    rf = RandomForestClassifier(\n",
        "        max_depth=_max_depth,\n",
        "        min_samples_split=_min_samp_split,\n",
        "        min_samples_leaf=_min_samples_leaf,\n",
        "        max_features=_max_features,\n",
        "        n_estimators=_n_estimators,\n",
        "        n_jobs=-1\n",
        "        )\n",
        "\n",
        "    scores = cross_val_score(\n",
        "        rf, X_train, y_train, cv=kfolds, scoring=\"accuracy\"\n",
        "    )\n",
        "    return scores.mean()\n",
        "\n",
        "\n",
        "randomforest_params = tune(randomforest_objective)\n",
        "rf = RandomForestClassifier(n_jobs=-1, **randomforest_params)"
      ],
      "execution_count": 91,
      "outputs": [
        {
          "output_type": "stream",
          "text": [
            "\u001b[32m[I 2021-04-30 19:21:53,150]\u001b[0m A new study created in memory with name: no-name-41a6e192-0b9e-42f8-8568-4af1fe576472\u001b[0m\n",
            "\u001b[32m[I 2021-04-30 19:22:18,941]\u001b[0m Trial 0 finished with value: 0.825802034428795 and parameters: {'n_estimators': 1242, 'max_depth': 14, 'min_samples_split': 5, 'min_samples_leaf': 5, 'max_features': 9}. Best is trial 0 with value: 0.825802034428795.\u001b[0m\n",
            "\u001b[32m[I 2021-04-30 19:22:27,925]\u001b[0m Trial 1 finished with value: 0.8229851330203444 and parameters: {'n_estimators': 399, 'max_depth': 11, 'min_samples_split': 9, 'min_samples_leaf': 6, 'max_features': 9}. Best is trial 0 with value: 0.825802034428795.\u001b[0m\n",
            "\u001b[32m[I 2021-04-30 19:22:40,772]\u001b[0m Trial 2 finished with value: 0.829988262910798 and parameters: {'n_estimators': 644, 'max_depth': 14, 'min_samples_split': 6, 'min_samples_leaf': 9, 'max_features': 6}. Best is trial 2 with value: 0.829988262910798.\u001b[0m\n",
            "\u001b[32m[I 2021-04-30 19:23:09,787]\u001b[0m Trial 3 finished with value: 0.8285993740219093 and parameters: {'n_estimators': 1438, 'max_depth': 18, 'min_samples_split': 7, 'min_samples_leaf': 5, 'max_features': 9}. Best is trial 2 with value: 0.829988262910798.\u001b[0m\n",
            "\u001b[32m[I 2021-04-30 19:23:22,081]\u001b[0m Trial 4 finished with value: 0.825802034428795 and parameters: {'n_estimators': 575, 'max_depth': 13, 'min_samples_split': 9, 'min_samples_leaf': 7, 'max_features': 7}. Best is trial 2 with value: 0.829988262910798.\u001b[0m\n",
            "\u001b[32m[I 2021-04-30 19:23:40,129]\u001b[0m Trial 5 finished with value: 0.8314945226917059 and parameters: {'n_estimators': 952, 'max_depth': 7, 'min_samples_split': 3, 'min_samples_leaf': 3, 'max_features': 2}. Best is trial 5 with value: 0.8314945226917059.\u001b[0m\n",
            "\u001b[32m[I 2021-04-30 19:24:06,179]\u001b[0m Trial 6 finished with value: 0.8216744913928012 and parameters: {'n_estimators': 1373, 'max_depth': 7, 'min_samples_split': 4, 'min_samples_leaf': 8, 'max_features': 7}. Best is trial 5 with value: 0.8314945226917059.\u001b[0m\n",
            "\u001b[32m[I 2021-04-30 19:24:39,310]\u001b[0m Trial 7 finished with value: 0.8188184663536777 and parameters: {'n_estimators': 1838, 'max_depth': 15, 'min_samples_split': 3, 'min_samples_leaf': 7, 'max_features': 2}. Best is trial 5 with value: 0.8314945226917059.\u001b[0m\n",
            "\u001b[32m[I 2021-04-30 19:25:08,054]\u001b[0m Trial 8 finished with value: 0.8299687010954617 and parameters: {'n_estimators': 1523, 'max_depth': 15, 'min_samples_split': 9, 'min_samples_leaf': 4, 'max_features': 5}. Best is trial 5 with value: 0.8314945226917059.\u001b[0m\n",
            "\u001b[32m[I 2021-04-30 19:25:16,516]\u001b[0m Trial 9 finished with value: 0.8188380281690142 and parameters: {'n_estimators': 393, 'max_depth': 18, 'min_samples_split': 7, 'min_samples_leaf': 6, 'max_features': 10}. Best is trial 5 with value: 0.8314945226917059.\u001b[0m\n",
            "\u001b[32m[I 2021-04-30 19:25:32,314]\u001b[0m Trial 10 finished with value: 0.8243348982785603 and parameters: {'n_estimators': 837, 'max_depth': 5, 'min_samples_split': 2, 'min_samples_leaf': 2, 'max_features': 2}. Best is trial 5 with value: 0.8314945226917059.\u001b[0m\n",
            "\u001b[32m[I 2021-04-30 19:25:48,695]\u001b[0m Trial 11 finished with value: 0.8314553990610328 and parameters: {'n_estimators': 883, 'max_depth': 9, 'min_samples_split': 6, 'min_samples_leaf': 10, 'max_features': 4}. Best is trial 5 with value: 0.8314945226917059.\u001b[0m\n",
            "\u001b[32m[I 2021-04-30 19:26:07,620]\u001b[0m Trial 12 finished with value: 0.8286384976525822 and parameters: {'n_estimators': 942, 'max_depth': 9, 'min_samples_split': 2, 'min_samples_leaf': 2, 'max_features': 4}. Best is trial 5 with value: 0.8314945226917059.\u001b[0m\n",
            "\u001b[32m[I 2021-04-30 19:26:26,387]\u001b[0m Trial 13 finished with value: 0.8188967136150236 and parameters: {'n_estimators': 990, 'max_depth': 5, 'min_samples_split': 5, 'min_samples_leaf': 10, 'max_features': 3}. Best is trial 5 with value: 0.8314945226917059.\u001b[0m\n",
            "\u001b[32m[I 2021-04-30 19:26:41,058]\u001b[0m Trial 14 finished with value: 0.8301838810641626 and parameters: {'n_estimators': 770, 'max_depth': 9, 'min_samples_split': 7, 'min_samples_leaf': 4, 'max_features': 4}. Best is trial 5 with value: 0.8314945226917059.\u001b[0m\n",
            "\u001b[32m[I 2021-04-30 19:27:02,443]\u001b[0m Trial 15 finished with value: 0.8201486697965571 and parameters: {'n_estimators': 1127, 'max_depth': 8, 'min_samples_split': 4, 'min_samples_leaf': 3, 'max_features': 3}. Best is trial 5 with value: 0.8314945226917059.\u001b[0m\n",
            "\u001b[32m[I 2021-04-30 19:27:32,658]\u001b[0m Trial 16 finished with value: 0.8229851330203444 and parameters: {'n_estimators': 1696, 'max_depth': 11, 'min_samples_split': 6, 'min_samples_leaf': 10, 'max_features': 2}. Best is trial 5 with value: 0.8314945226917059.\u001b[0m\n",
            "\u001b[32m[I 2021-04-30 19:27:53,878]\u001b[0m Trial 17 finished with value: 0.8271713615023474 and parameters: {'n_estimators': 1126, 'max_depth': 6, 'min_samples_split': 3, 'min_samples_leaf': 3, 'max_features': 4}. Best is trial 5 with value: 0.8314945226917059.\u001b[0m\n",
            "\u001b[32m[I 2021-04-30 19:28:06,220]\u001b[0m Trial 18 finished with value: 0.8299687010954615 and parameters: {'n_estimators': 608, 'max_depth': 11, 'min_samples_split': 8, 'min_samples_leaf': 9, 'max_features': 3}. Best is trial 5 with value: 0.8314945226917059.\u001b[0m\n",
            "\u001b[32m[I 2021-04-30 19:28:25,927]\u001b[0m Trial 19 finished with value: 0.83141627543036 and parameters: {'n_estimators': 1020, 'max_depth': 9, 'min_samples_split': 4, 'min_samples_leaf': 3, 'max_features': 5}. Best is trial 5 with value: 0.8314945226917059.\u001b[0m\n",
            "\u001b[32m[I 2021-04-30 19:28:41,485]\u001b[0m Trial 20 finished with value: 0.8370500782472613 and parameters: {'n_estimators': 791, 'max_depth': 7, 'min_samples_split': 5, 'min_samples_leaf': 8, 'max_features': 5}. Best is trial 20 with value: 0.8370500782472613.\u001b[0m\n",
            "\u001b[32m[I 2021-04-30 19:28:56,393]\u001b[0m Trial 21 finished with value: 0.8244718309859154 and parameters: {'n_estimators': 780, 'max_depth': 7, 'min_samples_split': 5, 'min_samples_leaf': 9, 'max_features': 5}. Best is trial 20 with value: 0.8370500782472613.\u001b[0m\n",
            "\u001b[32m[I 2021-04-30 19:29:13,489]\u001b[0m Trial 22 finished with value: 0.8203247261345853 and parameters: {'n_estimators': 882, 'max_depth': 7, 'min_samples_split': 3, 'min_samples_leaf': 8, 'max_features': 6}. Best is trial 20 with value: 0.8370500782472613.\u001b[0m\n",
            "\u001b[32m[I 2021-04-30 19:29:23,991]\u001b[0m Trial 23 finished with value: 0.8328247261345852 and parameters: {'n_estimators': 517, 'max_depth': 5, 'min_samples_split': 5, 'min_samples_leaf': 8, 'max_features': 4}. Best is trial 20 with value: 0.8370500782472613.\u001b[0m\n",
            "\u001b[32m[I 2021-04-30 19:29:31,366]\u001b[0m Trial 24 finished with value: 0.829988262910798 and parameters: {'n_estimators': 301, 'max_depth': 5, 'min_samples_split': 5, 'min_samples_leaf': 8, 'max_features': 7}. Best is trial 20 with value: 0.8370500782472613.\u001b[0m\n",
            "\u001b[32m[I 2021-04-30 19:29:41,531]\u001b[0m Trial 25 finished with value: 0.827406103286385 and parameters: {'n_estimators': 508, 'max_depth': 5, 'min_samples_split': 4, 'min_samples_leaf': 7, 'max_features': 3}. Best is trial 20 with value: 0.8370500782472613.\u001b[0m\n",
            "\u001b[32m[I 2021-04-30 19:29:55,687]\u001b[0m Trial 26 finished with value: 0.8215766823161189 and parameters: {'n_estimators': 720, 'max_depth': 6, 'min_samples_split': 3, 'min_samples_leaf': 8, 'max_features': 5}. Best is trial 20 with value: 0.8370500782472613.\u001b[0m\n",
            "\u001b[32m[I 2021-04-30 19:30:05,642]\u001b[0m Trial 27 finished with value: 0.825802034428795 and parameters: {'n_estimators': 453, 'max_depth': 8, 'min_samples_split': 2, 'min_samples_leaf': 7, 'max_features': 6}. Best is trial 20 with value: 0.8370500782472613.\u001b[0m\n",
            "\u001b[32m[I 2021-04-30 19:30:28,257]\u001b[0m Trial 28 finished with value: 0.8244131455399062 and parameters: {'n_estimators': 1253, 'max_depth': 20, 'min_samples_split': 5, 'min_samples_leaf': 9, 'max_features': 2}. Best is trial 20 with value: 0.8370500782472613.\u001b[0m\n",
            "\u001b[32m[I 2021-04-30 19:30:42,333]\u001b[0m Trial 29 finished with value: 0.8299687010954617 and parameters: {'n_estimators': 707, 'max_depth': 6, 'min_samples_split': 4, 'min_samples_leaf': 5, 'max_features': 4}. Best is trial 20 with value: 0.8370500782472613.\u001b[0m\n",
            "\u001b[32m[I 2021-04-30 19:30:49,883]\u001b[0m Trial 30 finished with value: 0.8287363067292646 and parameters: {'n_estimators': 323, 'max_depth': 8, 'min_samples_split': 5, 'min_samples_leaf': 6, 'max_features': 8}. Best is trial 20 with value: 0.8370500782472613.\u001b[0m\n",
            "\u001b[32m[I 2021-04-30 19:31:10,235]\u001b[0m Trial 31 finished with value: 0.8273082942097026 and parameters: {'n_estimators': 1061, 'max_depth': 10, 'min_samples_split': 6, 'min_samples_leaf': 10, 'max_features': 4}. Best is trial 20 with value: 0.8370500782472613.\u001b[0m\n",
            "\u001b[32m[I 2021-04-30 19:31:26,919]\u001b[0m Trial 32 finished with value: 0.8286776212832552 and parameters: {'n_estimators': 879, 'max_depth': 7, 'min_samples_split': 6, 'min_samples_leaf': 10, 'max_features': 5}. Best is trial 20 with value: 0.8370500782472613.\u001b[0m\n",
            "\u001b[32m[I 2021-04-30 19:31:38,700]\u001b[0m Trial 33 finished with value: 0.8300273865414709 and parameters: {'n_estimators': 541, 'max_depth': 10, 'min_samples_split': 7, 'min_samples_leaf': 9, 'max_features': 3}. Best is trial 20 with value: 0.8370500782472613.\u001b[0m\n",
            "\u001b[32m[I 2021-04-30 19:32:01,391]\u001b[0m Trial 34 finished with value: 0.8272887323943662 and parameters: {'n_estimators': 1231, 'max_depth': 6, 'min_samples_split': 5, 'min_samples_leaf': 5, 'max_features': 4}. Best is trial 20 with value: 0.8370500782472613.\u001b[0m\n",
            "\u001b[32m[I 2021-04-30 19:32:14,422]\u001b[0m Trial 35 finished with value: 0.8216744913928012 and parameters: {'n_estimators': 649, 'max_depth': 12, 'min_samples_split': 8, 'min_samples_leaf': 8, 'max_features': 6}. Best is trial 20 with value: 0.8370500782472613.\u001b[0m\n",
            "\u001b[32m[I 2021-04-30 19:32:32,061]\u001b[0m Trial 36 finished with value: 0.8343114241001566 and parameters: {'n_estimators': 906, 'max_depth': 8, 'min_samples_split': 6, 'min_samples_leaf': 7, 'max_features': 5}. Best is trial 20 with value: 0.8370500782472613.\u001b[0m\n",
            "\u001b[32m[I 2021-04-30 19:32:55,441]\u001b[0m Trial 37 finished with value: 0.834370109546166 and parameters: {'n_estimators': 1226, 'max_depth': 8, 'min_samples_split': 7, 'min_samples_leaf': 7, 'max_features': 5}. Best is trial 20 with value: 0.8370500782472613.\u001b[0m\n",
            "\u001b[32m[I 2021-04-30 19:33:18,076]\u001b[0m Trial 38 finished with value: 0.8286189358372458 and parameters: {'n_estimators': 1165, 'max_depth': 10, 'min_samples_split': 8, 'min_samples_leaf': 7, 'max_features': 7}. Best is trial 20 with value: 0.8370500782472613.\u001b[0m\n",
            "\u001b[32m[I 2021-04-30 19:33:43,146]\u001b[0m Trial 39 finished with value: 0.8371087636932707 and parameters: {'n_estimators': 1292, 'max_depth': 8, 'min_samples_split': 7, 'min_samples_leaf': 6, 'max_features': 5}. Best is trial 39 with value: 0.8371087636932707.\u001b[0m\n",
            "\u001b[32m[I 2021-04-30 19:34:09,553]\u001b[0m Trial 40 finished with value: 0.8288145539906104 and parameters: {'n_estimators': 1365, 'max_depth': 8, 'min_samples_split': 10, 'min_samples_leaf': 6, 'max_features': 5}. Best is trial 39 with value: 0.8371087636932707.\u001b[0m\n",
            "\u001b[32m[I 2021-04-30 19:34:37,050]\u001b[0m Trial 41 finished with value: 0.8327856025039123 and parameters: {'n_estimators': 1467, 'max_depth': 7, 'min_samples_split': 7, 'min_samples_leaf': 7, 'max_features': 6}. Best is trial 39 with value: 0.8371087636932707.\u001b[0m\n",
            "\u001b[32m[I 2021-04-30 19:35:06,451]\u001b[0m Trial 42 finished with value: 0.8313771517996871 and parameters: {'n_estimators': 1564, 'max_depth': 6, 'min_samples_split': 6, 'min_samples_leaf': 6, 'max_features': 5}. Best is trial 39 with value: 0.8371087636932707.\u001b[0m\n",
            "\u001b[32m[I 2021-04-30 19:35:32,789]\u001b[0m Trial 43 finished with value: 0.825762910798122 and parameters: {'n_estimators': 1374, 'max_depth': 8, 'min_samples_split': 7, 'min_samples_leaf': 7, 'max_features': 5}. Best is trial 39 with value: 0.8371087636932707.\u001b[0m\n",
            "\u001b[32m[I 2021-04-30 19:35:56,727]\u001b[0m Trial 44 finished with value: 0.8258802816901408 and parameters: {'n_estimators': 1272, 'max_depth': 12, 'min_samples_split': 8, 'min_samples_leaf': 8, 'max_features': 6}. Best is trial 39 with value: 0.8371087636932707.\u001b[0m\n",
            "\u001b[32m[I 2021-04-30 19:36:17,798]\u001b[0m Trial 45 finished with value: 0.8217136150234742 and parameters: {'n_estimators': 1050, 'max_depth': 9, 'min_samples_split': 7, 'min_samples_leaf': 7, 'max_features': 7}. Best is trial 39 with value: 0.8371087636932707.\u001b[0m\n",
            "\u001b[32m[I 2021-04-30 19:36:40,612]\u001b[0m Trial 46 finished with value: 0.8328051643192488 and parameters: {'n_estimators': 1203, 'max_depth': 14, 'min_samples_split': 6, 'min_samples_leaf': 8, 'max_features': 5}. Best is trial 39 with value: 0.8371087636932707.\u001b[0m\n",
            "\u001b[32m[I 2021-04-30 19:37:05,332]\u001b[0m Trial 47 finished with value: 0.8299491392801253 and parameters: {'n_estimators': 1313, 'max_depth': 5, 'min_samples_split': 5, 'min_samples_leaf': 6, 'max_features': 4}. Best is trial 39 with value: 0.8371087636932707.\u001b[0m\n",
            "\u001b[32m[I 2021-04-30 19:37:34,870]\u001b[0m Trial 48 finished with value: 0.827406103286385 and parameters: {'n_estimators': 1584, 'max_depth': 8, 'min_samples_split': 7, 'min_samples_leaf': 5, 'max_features': 4}. Best is trial 39 with value: 0.8371087636932707.\u001b[0m\n",
            "\u001b[32m[I 2021-04-30 19:37:55,955]\u001b[0m Trial 49 finished with value: 0.8314358372456964 and parameters: {'n_estimators': 1079, 'max_depth': 10, 'min_samples_split': 6, 'min_samples_leaf': 7, 'max_features': 5}. Best is trial 39 with value: 0.8371087636932707.\u001b[0m\n",
            "\u001b[32m[I 2021-04-30 19:38:14,768]\u001b[0m Trial 50 finished with value: 0.8314553990610329 and parameters: {'n_estimators': 950, 'max_depth': 6, 'min_samples_split': 9, 'min_samples_leaf': 6, 'max_features': 6}. Best is trial 39 with value: 0.8371087636932707.\u001b[0m\n",
            "\u001b[32m[I 2021-04-30 19:38:37,653]\u001b[0m Trial 51 finished with value: 0.8315140845070423 and parameters: {'n_estimators': 1201, 'max_depth': 14, 'min_samples_split': 6, 'min_samples_leaf': 8, 'max_features': 5}. Best is trial 39 with value: 0.8371087636932707.\u001b[0m\n",
            "\u001b[32m[I 2021-04-30 19:39:02,720]\u001b[0m Trial 52 finished with value: 0.8329616588419405 and parameters: {'n_estimators': 1327, 'max_depth': 17, 'min_samples_split': 6, 'min_samples_leaf': 8, 'max_features': 5}. Best is trial 39 with value: 0.8371087636932707.\u001b[0m\n",
            "\u001b[32m[I 2021-04-30 19:39:30,654]\u001b[0m Trial 53 finished with value: 0.8298904538341159 and parameters: {'n_estimators': 1442, 'max_depth': 18, 'min_samples_split': 7, 'min_samples_leaf': 7, 'max_features': 5}. Best is trial 39 with value: 0.8371087636932707.\u001b[0m\n",
            "\u001b[32m[I 2021-04-30 19:39:55,764]\u001b[0m Trial 54 finished with value: 0.8299882629107982 and parameters: {'n_estimators': 1329, 'max_depth': 19, 'min_samples_split': 5, 'min_samples_leaf': 8, 'max_features': 4}. Best is trial 39 with value: 0.8371087636932707.\u001b[0m\n",
            "\u001b[32m[I 2021-04-30 19:40:26,861]\u001b[0m Trial 55 finished with value: 0.8258802816901408 and parameters: {'n_estimators': 1680, 'max_depth': 7, 'min_samples_split': 8, 'min_samples_leaf': 9, 'max_features': 6}. Best is trial 39 with value: 0.8371087636932707.\u001b[0m\n",
            "\u001b[32m[I 2021-04-30 19:40:42,809]\u001b[0m Trial 56 finished with value: 0.8242762128325509 and parameters: {'n_estimators': 796, 'max_depth': 15, 'min_samples_split': 4, 'min_samples_leaf': 9, 'max_features': 5}. Best is trial 39 with value: 0.8371087636932707.\u001b[0m\n",
            "\u001b[32m[I 2021-04-30 19:41:04,282]\u001b[0m Trial 57 finished with value: 0.8230242566510173 and parameters: {'n_estimators': 1133, 'max_depth': 9, 'min_samples_split': 6, 'min_samples_leaf': 8, 'max_features': 4}. Best is trial 39 with value: 0.8371087636932707.\u001b[0m\n",
            "\u001b[32m[I 2021-04-30 19:41:12,151]\u001b[0m Trial 58 finished with value: 0.8285602503912364 and parameters: {'n_estimators': 378, 'max_depth': 17, 'min_samples_split': 7, 'min_samples_leaf': 7, 'max_features': 3}. Best is trial 39 with value: 0.8371087636932707.\u001b[0m\n",
            "\u001b[32m[I 2021-04-30 19:41:31,415]\u001b[0m Trial 59 finished with value: 0.8259976525821596 and parameters: {'n_estimators': 979, 'max_depth': 7, 'min_samples_split': 5, 'min_samples_leaf': 5, 'max_features': 6}. Best is trial 39 with value: 0.8371087636932707.\u001b[0m\n",
            "\u001b[32m[I 2021-04-30 19:41:44,439]\u001b[0m Trial 60 finished with value: 0.830105633802817 and parameters: {'n_estimators': 640, 'max_depth': 11, 'min_samples_split': 6, 'min_samples_leaf': 4, 'max_features': 5}. Best is trial 39 with value: 0.8371087636932707.\u001b[0m\n",
            "\u001b[32m[I 2021-04-30 19:42:08,590]\u001b[0m Trial 61 finished with value: 0.8258020344287951 and parameters: {'n_estimators': 1287, 'max_depth': 16, 'min_samples_split': 6, 'min_samples_leaf': 8, 'max_features': 5}. Best is trial 39 with value: 0.8371087636932707.\u001b[0m\n",
            "\u001b[32m[I 2021-04-30 19:42:30,111]\u001b[0m Trial 62 finished with value: 0.8258802816901408 and parameters: {'n_estimators': 1154, 'max_depth': 13, 'min_samples_split': 6, 'min_samples_leaf': 8, 'max_features': 4}. Best is trial 39 with value: 0.8371087636932707.\u001b[0m\n",
            "\u001b[32m[I 2021-04-30 19:42:56,466]\u001b[0m Trial 63 finished with value: 0.8341940532081378 and parameters: {'n_estimators': 1395, 'max_depth': 16, 'min_samples_split': 7, 'min_samples_leaf': 7, 'max_features': 5}. Best is trial 39 with value: 0.8371087636932707.\u001b[0m\n",
            "\u001b[32m[I 2021-04-30 19:43:23,519]\u001b[0m Trial 64 finished with value: 0.8230633802816902 and parameters: {'n_estimators': 1423, 'max_depth': 16, 'min_samples_split': 7, 'min_samples_leaf': 7, 'max_features': 6}. Best is trial 39 with value: 0.8371087636932707.\u001b[0m\n",
            "\u001b[32m[I 2021-04-30 19:43:51,786]\u001b[0m Trial 65 finished with value: 0.8330203442879499 and parameters: {'n_estimators': 1489, 'max_depth': 17, 'min_samples_split': 8, 'min_samples_leaf': 7, 'max_features': 5}. Best is trial 39 with value: 0.8371087636932707.\u001b[0m\n",
            "\u001b[32m[I 2021-04-30 19:44:22,937]\u001b[0m Trial 66 finished with value: 0.8357394366197184 and parameters: {'n_estimators': 1675, 'max_depth': 17, 'min_samples_split': 8, 'min_samples_leaf': 6, 'max_features': 5}. Best is trial 39 with value: 0.8371087636932707.\u001b[0m\n",
            "\u001b[32m[I 2021-04-30 19:44:57,370]\u001b[0m Trial 67 finished with value: 0.8258607198748044 and parameters: {'n_estimators': 1829, 'max_depth': 17, 'min_samples_split': 9, 'min_samples_leaf': 7, 'max_features': 6}. Best is trial 39 with value: 0.8371087636932707.\u001b[0m\n",
            "\u001b[32m[I 2021-04-30 19:45:28,074]\u001b[0m Trial 68 finished with value: 0.8215766823161189 and parameters: {'n_estimators': 1645, 'max_depth': 19, 'min_samples_split': 8, 'min_samples_leaf': 6, 'max_features': 5}. Best is trial 39 with value: 0.8371087636932707.\u001b[0m\n",
            "\u001b[32m[I 2021-04-30 19:45:57,330]\u001b[0m Trial 69 finished with value: 0.8328834115805946 and parameters: {'n_estimators': 1543, 'max_depth': 16, 'min_samples_split': 8, 'min_samples_leaf': 6, 'max_features': 5}. Best is trial 39 with value: 0.8371087636932707.\u001b[0m\n",
            "\u001b[32m[I 2021-04-30 19:46:26,723]\u001b[0m Trial 70 finished with value: 0.8287167449139281 and parameters: {'n_estimators': 1499, 'max_depth': 19, 'min_samples_split': 9, 'min_samples_leaf': 6, 'max_features': 7}. Best is trial 39 with value: 0.8371087636932707.\u001b[0m\n",
            "\u001b[32m[I 2021-04-30 19:46:59,774]\u001b[0m Trial 71 finished with value: 0.8302621283255085 and parameters: {'n_estimators': 1739, 'max_depth': 17, 'min_samples_split': 7, 'min_samples_leaf': 7, 'max_features': 5}. Best is trial 39 with value: 0.8371087636932707.\u001b[0m\n",
            "\u001b[32m[I 2021-04-30 19:47:25,788]\u001b[0m Trial 72 finished with value: 0.8285993740219093 and parameters: {'n_estimators': 1354, 'max_depth': 17, 'min_samples_split': 8, 'min_samples_leaf': 6, 'max_features': 5}. Best is trial 39 with value: 0.8371087636932707.\u001b[0m\n",
            "\u001b[32m[I 2021-04-30 19:47:52,366]\u001b[0m Trial 73 finished with value: 0.8341940532081378 and parameters: {'n_estimators': 1399, 'max_depth': 18, 'min_samples_split': 7, 'min_samples_leaf': 7, 'max_features': 4}. Best is trial 39 with value: 0.8371087636932707.\u001b[0m\n",
            "\u001b[32m[I 2021-04-30 19:48:28,501]\u001b[0m Trial 74 finished with value: 0.834330985915493 and parameters: {'n_estimators': 1944, 'max_depth': 18, 'min_samples_split': 8, 'min_samples_leaf': 7, 'max_features': 4}. Best is trial 39 with value: 0.8371087636932707.\u001b[0m\n",
            "\u001b[32m[I 2021-04-30 19:49:01,307]\u001b[0m Trial 75 finished with value: 0.8355046948356808 and parameters: {'n_estimators': 1784, 'max_depth': 20, 'min_samples_split': 7, 'min_samples_leaf': 7, 'max_features': 4}. Best is trial 39 with value: 0.8371087636932707.\u001b[0m\n",
            "\u001b[32m[I 2021-04-30 19:49:36,902]\u001b[0m Trial 76 finished with value: 0.8343309859154928 and parameters: {'n_estimators': 1933, 'max_depth': 20, 'min_samples_split': 7, 'min_samples_leaf': 6, 'max_features': 3}. Best is trial 39 with value: 0.8371087636932707.\u001b[0m\n",
            "\u001b[32m[I 2021-04-30 19:50:13,682]\u001b[0m Trial 77 finished with value: 0.8299295774647888 and parameters: {'n_estimators': 1995, 'max_depth': 20, 'min_samples_split': 8, 'min_samples_leaf': 5, 'max_features': 3}. Best is trial 39 with value: 0.8371087636932707.\u001b[0m\n",
            "\u001b[32m[I 2021-04-30 19:50:49,928]\u001b[0m Trial 78 finished with value: 0.8299882629107982 and parameters: {'n_estimators': 1997, 'max_depth': 19, 'min_samples_split': 8, 'min_samples_leaf': 6, 'max_features': 3}. Best is trial 39 with value: 0.8371087636932707.\u001b[0m\n",
            "\u001b[32m[I 2021-04-30 19:51:26,457]\u001b[0m Trial 79 finished with value: 0.8342527386541472 and parameters: {'n_estimators': 1907, 'max_depth': 20, 'min_samples_split': 7, 'min_samples_leaf': 5, 'max_features': 3}. Best is trial 39 with value: 0.8371087636932707.\u001b[0m\n",
            "\u001b[32m[I 2021-04-30 19:52:02,001]\u001b[0m Trial 80 finished with value: 0.8229655712050079 and parameters: {'n_estimators': 1913, 'max_depth': 9, 'min_samples_split': 10, 'min_samples_leaf': 6, 'max_features': 2}. Best is trial 39 with value: 0.8371087636932707.\u001b[0m\n",
            "\u001b[32m[I 2021-04-30 19:52:38,199]\u001b[0m Trial 81 finished with value: 0.8314553990610329 and parameters: {'n_estimators': 1897, 'max_depth': 20, 'min_samples_split': 7, 'min_samples_leaf': 4, 'max_features': 3}. Best is trial 39 with value: 0.8371087636932707.\u001b[0m\n",
            "\u001b[32m[I 2021-04-30 19:53:12,291]\u001b[0m Trial 82 finished with value: 0.8315336463223788 and parameters: {'n_estimators': 1796, 'max_depth': 20, 'min_samples_split': 7, 'min_samples_leaf': 5, 'max_features': 4}. Best is trial 39 with value: 0.8371087636932707.\u001b[0m\n",
            "\u001b[32m[I 2021-04-30 19:53:47,523]\u001b[0m Trial 83 finished with value: 0.8314162754303599 and parameters: {'n_estimators': 1918, 'max_depth': 20, 'min_samples_split': 7, 'min_samples_leaf': 6, 'max_features': 3}. Best is trial 39 with value: 0.8371087636932707.\u001b[0m\n",
            "\u001b[32m[I 2021-04-30 19:54:21,011]\u001b[0m Trial 84 finished with value: 0.8270148669796556 and parameters: {'n_estimators': 1757, 'max_depth': 18, 'min_samples_split': 8, 'min_samples_leaf': 5, 'max_features': 4}. Best is trial 39 with value: 0.8371087636932707.\u001b[0m\n",
            "\u001b[32m[I 2021-04-30 19:54:56,927]\u001b[0m Trial 85 finished with value: 0.8271713615023474 and parameters: {'n_estimators': 1944, 'max_depth': 19, 'min_samples_split': 7, 'min_samples_leaf': 6, 'max_features': 2}. Best is trial 39 with value: 0.8371087636932707.\u001b[0m\n",
            "\u001b[32m[I 2021-04-30 19:55:31,483]\u001b[0m Trial 86 finished with value: 0.8313967136150234 and parameters: {'n_estimators': 1849, 'max_depth': 20, 'min_samples_split': 7, 'min_samples_leaf': 5, 'max_features': 3}. Best is trial 39 with value: 0.8371087636932707.\u001b[0m\n",
            "\u001b[32m[I 2021-04-30 19:56:07,810]\u001b[0m Trial 87 finished with value: 0.8357003129890455 and parameters: {'n_estimators': 1965, 'max_depth': 8, 'min_samples_split': 9, 'min_samples_leaf': 7, 'max_features': 4}. Best is trial 39 with value: 0.8371087636932707.\u001b[0m\n",
            "\u001b[32m[I 2021-04-30 19:56:44,024]\u001b[0m Trial 88 finished with value: 0.8384976525821596 and parameters: {'n_estimators': 1972, 'max_depth': 8, 'min_samples_split': 9, 'min_samples_leaf': 7, 'max_features': 4}. Best is trial 88 with value: 0.8384976525821596.\u001b[0m\n",
            "\u001b[32m[I 2021-04-30 19:57:20,169]\u001b[0m Trial 89 finished with value: 0.8272300469483568 and parameters: {'n_estimators': 1958, 'max_depth': 8, 'min_samples_split': 9, 'min_samples_leaf': 7, 'max_features': 4}. Best is trial 88 with value: 0.8384976525821596.\u001b[0m\n",
            "\u001b[32m[I 2021-04-30 19:57:52,099]\u001b[0m Trial 90 finished with value: 0.8246283255086073 and parameters: {'n_estimators': 1620, 'max_depth': 9, 'min_samples_split': 9, 'min_samples_leaf': 7, 'max_features': 10}. Best is trial 88 with value: 0.8384976525821596.\u001b[0m\n",
            "\u001b[32m[I 2021-04-30 19:58:26,114]\u001b[0m Trial 91 finished with value: 0.8370696400625978 and parameters: {'n_estimators': 1843, 'max_depth': 8, 'min_samples_split': 9, 'min_samples_leaf': 7, 'max_features': 4}. Best is trial 88 with value: 0.8384976525821596.\u001b[0m\n",
            "\u001b[32m[I 2021-04-30 19:59:00,108]\u001b[0m Trial 92 finished with value: 0.8357003129890452 and parameters: {'n_estimators': 1835, 'max_depth': 7, 'min_samples_split': 10, 'min_samples_leaf': 7, 'max_features': 4}. Best is trial 88 with value: 0.8384976525821596.\u001b[0m\n",
            "\u001b[32m[I 2021-04-30 19:59:34,575]\u001b[0m Trial 93 finished with value: 0.8258998435054773 and parameters: {'n_estimators': 1843, 'max_depth': 7, 'min_samples_split': 10, 'min_samples_leaf': 7, 'max_features': 4}. Best is trial 88 with value: 0.8384976525821596.\u001b[0m\n",
            "\u001b[32m[I 2021-04-30 20:00:07,840]\u001b[0m Trial 94 finished with value: 0.8273082942097026 and parameters: {'n_estimators': 1785, 'max_depth': 8, 'min_samples_split': 10, 'min_samples_leaf': 7, 'max_features': 4}. Best is trial 88 with value: 0.8384976525821596.\u001b[0m\n",
            "\u001b[32m[I 2021-04-30 20:00:42,590]\u001b[0m Trial 95 finished with value: 0.832942097026604 and parameters: {'n_estimators': 1874, 'max_depth': 7, 'min_samples_split': 9, 'min_samples_leaf': 7, 'max_features': 4}. Best is trial 88 with value: 0.8384976525821596.\u001b[0m\n",
            "\u001b[32m[I 2021-04-30 20:01:13,930]\u001b[0m Trial 96 finished with value: 0.8315532081377153 and parameters: {'n_estimators': 1702, 'max_depth': 6, 'min_samples_split': 9, 'min_samples_leaf': 8, 'max_features': 4}. Best is trial 88 with value: 0.8384976525821596.\u001b[0m\n",
            "\u001b[32m[I 2021-04-30 20:01:50,894]\u001b[0m Trial 97 finished with value: 0.8357198748043819 and parameters: {'n_estimators': 1975, 'max_depth': 7, 'min_samples_split': 9, 'min_samples_leaf': 7, 'max_features': 4}. Best is trial 88 with value: 0.8384976525821596.\u001b[0m\n",
            "\u001b[32m[I 2021-04-30 20:02:24,495]\u001b[0m Trial 98 finished with value: 0.828677621283255 and parameters: {'n_estimators': 1797, 'max_depth': 7, 'min_samples_split': 9, 'min_samples_leaf': 7, 'max_features': 4}. Best is trial 88 with value: 0.8384976525821596.\u001b[0m\n",
            "\u001b[32m[I 2021-04-30 20:03:00,935]\u001b[0m Trial 99 finished with value: 0.8273082942097026 and parameters: {'n_estimators': 1981, 'max_depth': 8, 'min_samples_split': 10, 'min_samples_leaf': 8, 'max_features': 4}. Best is trial 88 with value: 0.8384976525821596.\u001b[0m\n"
          ],
          "name": "stderr"
        },
        {
          "output_type": "stream",
          "text": [
            "Best score: 0.8384976525821596\n",
            "\n",
            "Optimized parameters: {'n_estimators': 1972, 'max_depth': 8, 'min_samples_split': 9, 'min_samples_leaf': 7, 'max_features': 4}\n",
            "\n"
          ],
          "name": "stdout"
        }
      ]
    },
    {
      "cell_type": "code",
      "metadata": {
        "colab": {
          "base_uri": "https://localhost:8080/"
        },
        "id": "qKDBGYuGGq6A",
        "outputId": "8ab667dc-a0b4-4e2f-8d84-410f50cb0bbf"
      },
      "source": [
        "rfc = RandomForestClassifier(n_estimators = 1972, max_depth = 8, min_samples_leaf = 9, min_samples_split = 7, max_features=4)\n",
        "rfc.fit(X_train, y_train)\n",
        "\n",
        "y_pred = rfc.predict(X_test)\n",
        "\n",
        "print(classification_report(y_test,y_pred))"
      ],
      "execution_count": 95,
      "outputs": [
        {
          "output_type": "stream",
          "text": [
            "              precision    recall  f1-score   support\n",
            "\n",
            "           0       0.82      0.94      0.88       110\n",
            "           1       0.87      0.68      0.76        69\n",
            "\n",
            "    accuracy                           0.84       179\n",
            "   macro avg       0.85      0.81      0.82       179\n",
            "weighted avg       0.84      0.84      0.83       179\n",
            "\n"
          ],
          "name": "stdout"
        }
      ]
    },
    {
      "cell_type": "markdown",
      "metadata": {
        "id": "y0e3O3ffcf2V"
      },
      "source": [
        "Let's evaluate our models with Shap Values"
      ]
    },
    {
      "cell_type": "code",
      "metadata": {
        "colab": {
          "base_uri": "https://localhost:8080/",
          "height": 386
        },
        "id": "D4YlsgwgH7-O",
        "outputId": "0365bf0a-1b06-4f5f-e190-76e05d1daece"
      },
      "source": [
        "explainer_xgb = shap.TreeExplainer(xgb)\n",
        "shap_values_xgb = explainer_xgb.shap_values(X_test, y_test, approximate=True)\n",
        "\n",
        "shap.summary_plot(shap_values_xgb, X_test, plot_type = 'bar')"
      ],
      "execution_count": 96,
      "outputs": [
        {
          "output_type": "display_data",
          "data": {
            "image/png": "[encoded data removed]",
            "text/plain": [
              "<Figure size 576x424.8 with 1 Axes>"
            ]
          },
          "metadata": {
            "tags": [],
            "needs_background": "light"
          }
        }
      ]
    },
    {
      "cell_type": "code",
      "metadata": {
        "colab": {
          "base_uri": "https://localhost:8080/",
          "height": 386
        },
        "id": "koEXJmAjH9Np",
        "outputId": "66181154-8dd7-4a39-f16d-6b227f416fa3"
      },
      "source": [
        "explainer_rfc = shap.TreeExplainer(rfc)\n",
        "shap_values_rfc = explainer_rfc.shap_values(X_test, y_test, approximate=True)\n",
        "\n",
        "shap.summary_plot(shap_values_rfc, X_test, plot_type = 'bar')"
      ],
      "execution_count": 97,
      "outputs": [
        {
          "output_type": "display_data",
          "data": {
            "image/png": "[encoded data removed]",
            "text/plain": [
              "<Figure size 576x424.8 with 1 Axes>"
            ]
          },
          "metadata": {
            "tags": [],
            "needs_background": "light"
          }
        }
      ]
    },
    {
      "cell_type": "code",
      "metadata": {
        "colab": {
          "base_uri": "https://localhost:8080/",
          "height": 390
        },
        "id": "7TxE7Av9IG3A",
        "outputId": "a44ea799-bfbd-4f96-f28a-05caf08c703a"
      },
      "source": [
        "shap.summary_plot(shap_values_xgb, X_test)"
      ],
      "execution_count": 98,
      "outputs": [
        {
          "output_type": "display_data",
          "data": {
            "image/png": "[encoded data removed]",
            "text/plain": [
              "<Figure size 576x424.8 with 2 Axes>"
            ]
          },
          "metadata": {
            "tags": [],
            "needs_background": "light"
          }
        }
      ]
    },
    {
      "cell_type": "markdown",
      "metadata": {
        "id": "Q1jAy9pHJiCO"
      },
      "source": [
        "Title is the most important feature and low values like Mrs tend to die. Sex is also a very important feature and as we see above women have more probability of survive. People who have low class of ticket tend to die also. About age, children seem to survive.\n"
      ]
    },
    {
      "cell_type": "code",
      "metadata": {
        "colab": {
          "base_uri": "https://localhost:8080/",
          "height": 337
        },
        "id": "3oLKSTwdIQDJ",
        "outputId": "e88f4199-3541-4d01-e224-fdd31717b860"
      },
      "source": [
        "shap.dependence_plot(\"Title\", shap_values_xgb, X_test)\n"
      ],
      "execution_count": 103,
      "outputs": [
        {
          "output_type": "display_data",
          "data": {
            "image/png": "[encoded data removed]",
            "text/plain": [
              "<Figure size 540x360 with 2 Axes>"
            ]
          },
          "metadata": {
            "tags": [],
            "needs_background": "light"
          }
        }
      ]
    },
    {
      "cell_type": "markdown",
      "metadata": {
        "id": "NnA_k3j2KAH-"
      },
      "source": [
        "Mrs and Rare categories tend to die."
      ]
    },
    {
      "cell_type": "code",
      "metadata": {
        "colab": {
          "base_uri": "https://localhost:8080/",
          "height": 341
        },
        "id": "YJni1tL_Ih-h",
        "outputId": "6056a9f5-b87e-4bd9-8e16-e75e45c670ca"
      },
      "source": [
        "shap.dependence_plot(\"Sex\", shap_values_xgb, X_test)\n"
      ],
      "execution_count": 102,
      "outputs": [
        {
          "output_type": "display_data",
          "data": {
            "image/png": "[encoded data removed]",
            "text/plain": [
              "<Figure size 540x360 with 2 Axes>"
            ]
          },
          "metadata": {
            "tags": [],
            "needs_background": "light"
          }
        }
      ]
    },
    {
      "cell_type": "markdown",
      "metadata": {
        "id": "wdTTlQMhKGMb"
      },
      "source": [
        "Female tend to survive whereas Men tend to die"
      ]
    },
    {
      "cell_type": "code",
      "metadata": {
        "colab": {
          "base_uri": "https://localhost:8080/",
          "height": 341
        },
        "id": "F3pa3H-orx1V",
        "outputId": "cecdfd57-70d8-4817-db4f-bcfab874c47e"
      },
      "source": [
        "shap.dependence_plot(\"Pclass\", shap_values_xgb, X_test)\n"
      ],
      "execution_count": 104,
      "outputs": [
        {
          "output_type": "display_data",
          "data": {
            "image/png": "[encoded data removed]",
            "text/plain": [
              "<Figure size 540x360 with 2 Axes>"
            ]
          },
          "metadata": {
            "tags": [],
            "needs_background": "light"
          }
        }
      ]
    },
    {
      "cell_type": "markdown",
      "metadata": {
        "id": "Y7QyH1Uvr5c9"
      },
      "source": [
        "People who have the lowest class tend to die"
      ]
    },
    {
      "cell_type": "code",
      "metadata": {
        "colab": {
          "base_uri": "https://localhost:8080/",
          "height": 341
        },
        "id": "Kc10CPY5IiHM",
        "outputId": "1d54b700-5230-4b8a-b727-7865dd888046"
      },
      "source": [
        "shap.dependence_plot(\"Age\", shap_values_xgb, X_test)\n"
      ],
      "execution_count": 105,
      "outputs": [
        {
          "output_type": "display_data",
          "data": {
            "image/png": "[encoded data removed]",
            "text/plain": [
              "<Figure size 540x360 with 2 Axes>"
            ]
          },
          "metadata": {
            "tags": [],
            "needs_background": "light"
          }
        }
      ]
    },
    {
      "cell_type": "markdown",
      "metadata": {
        "id": "ZgDxDCSStDLn"
      },
      "source": [
        "Children tend to survive. Older people tend to die"
      ]
    },
    {
      "cell_type": "code",
      "metadata": {
        "colab": {
          "base_uri": "https://localhost:8080/",
          "height": 341
        },
        "id": "MhW_whvfIhyR",
        "outputId": "541b1093-8d3e-4ce1-871f-f903c50477be"
      },
      "source": [
        "shap.dependence_plot(\"Deck\", shap_values_xgb, X_test)\n"
      ],
      "execution_count": 106,
      "outputs": [
        {
          "output_type": "display_data",
          "data": {
            "image/png": "[encoded data removed]",
            "text/plain": [
              "<Figure size 540x360 with 2 Axes>"
            ]
          },
          "metadata": {
            "tags": [],
            "needs_background": "light"
          }
        }
      ]
    },
    {
      "cell_type": "markdown",
      "metadata": {
        "id": "EQLtWGDoBQN2"
      },
      "source": [
        "People from the U cabin tend to die. There are other decks with highest probability of survive"
      ]
    },
    {
      "cell_type": "code",
      "metadata": {
        "colab": {
          "base_uri": "https://localhost:8080/"
        },
        "id": "82Kfz5tSCC1N",
        "outputId": "721f8b73-b080-45bc-df09-b31d5d3ad8ad"
      },
      "source": [
        "real_value=pd.DataFrame({'survive':y_test})\n",
        "predict_value=pd.DataFrame({'survive':y_pred})\n",
        "with pd.ExcelWriter('c:\\\\test.xls') as writer:\n",
        "    real_value.to_excel(writer, sheet_name='Sheet1')\n",
        "    predict_value.to_excel(writer, sheet_name='Sheet2')"
      ],
      "execution_count": 107,
      "outputs": [
        {
          "output_type": "stream",
          "text": [
            "As the xlwt package is no longer maintained, the xlwt engine will be removed in a future version of pandas. This is the only engine in pandas that supports writing in the xls format. Install openpyxl and write to an xlsx file instead. You can set the option io.excel.xls.writer to 'xlwt' to silence this warning. While this option is deprecated and will also raise a warning, it can be globally set and the warning suppressed.\n"
          ],
          "name": "stderr"
        }
      ]
    },
    {
      "cell_type": "markdown",
      "metadata": {
        "id": "HcY5elanaY6E"
      },
      "source": [
        "![titani.png](data:image/png;base64,iVBORw0KGgoAAAANSUhEUgAAAOAAAAIZCAYAAAC/LzMZAAAABHNCSVQICAgIfAhkiAAAABl0RVh0U29mdHdhcmUAZ25vbWUtc2NyZWVuc2hvdO8Dvz4AABxjSURBVHic7d17eJTlmQbw+5skk5lhJEEj4IpgCsEEKS3gFoSyHFpELR66RQoxupSlCttkU3uVbtmV9hKtW4zQ3dq4vaJFbawGkFqElkrlEApdu1BqbUAYPICglZNGZIacZt79Ax1SDEEqw/u9z3P/rss/OoyZd3L3hszXfjeeMcbgJPX19Rg9evTJD5MPMSv/6yyjwDk+CxG1wwISWcQCElmUXV9f/6EHx4wZc+5PQiTY+vXrO3zc6+gijOd56OBh8iFm5X+dZcQfQYksYgGJLGIBiSxiAYksOmcFTL58P64MevC8D/4JIJATwQWfGIbJd/0Kr7f+7V87tfdHGJvrIfzFJ3D05F80f8HD10QRyLkM//b79i/Shq13DkROIIprHn4Tp7qM0enX9qEPfZ8DWcjN64XBN8zBz19pPjsvknoDD34uF174Bjz+7pl+jwze2/wY7n14Ew6f6bWjk173r7+smzmf8z8Bs/v9I+beV4Wqqvvw/e/OwpguO7Dsrptwy4MvI5WJF/R64say8eiafBUrnnkRbR883rYdK1buRPK8z6P0hovgZeK1LUp/n+ffg29c1xOvr5yPqTfOw+aWDp78Ma+iBgq+gLuXPo0lc/4BodM92RzG8nsrcdfDm3D4bAbuas6mA6d4+GNp21VlhufABMdVm33JE483rys3l2R5Jlr6tGkyKXPwtwvMzcP7mPxQrjnvkmFm2o+3mveMMcY0mdjib5gJJd1NJCdozut1hZn6g+fNOyljkq8/YMYEYUI3/uz9557knafM1AsCJvuTc80fW98/z7Z7zNCcgDl/8mLzduqjf+3WLf9uBmQHzEUzf2OajTEmuc9UjwsahK43tY3GmE7fw9l3clYdfp+Tr5sfjg4aZH/SfOeFVpN8+X5zZTBgek5bYO6/9hITHTDHbG7t7NzNJvaz282VvaImFL3EjLh9ofnmP5x4zx/+/qfM288/YKaNLDTdQjkmfGGJuWb2MvNy/I9m7sBsA+D4P8Ex5oHX2/7m1/0Qn+bcWZ/O/WfAprexb89u7N69G6/t+B2e+Olz2J8K4vJBxQi8+Ti+euNsLHn3KjxY/zs8UerhqfKb8B/1CSR3VeMr036ADV2n46mNKzG7aBcWz/4Kqra2nf418yfg5uu7I7VjBZ55KQkgiVdWPoMXkwWYePM16Pryx/jaJ0l18h6sCZyH/K4BeGhBSwuAnCCCMDi8/EdYdUklFnz3evR669TnTr32EGbeVoP/C1yF7z35KGb3Xo8lvz/1ZwZzYClm3VCJ2n2DcefiFfjJ9AI8v+Bm3HR/E6Y/+n1cE/WQffnXsGT9g/hS6omz9rpO5vxRflc9Gz74nRn463+8UE/zmek/MX9OpMzBRdeasJdjhs3fadqMMabxcXNjJGB63rbaNDc1mv1vvWUOHmkxxiTNaz/4rAkiZL74xHun/xPQGJN4bpa5JCvHDP3edtOWfNksGBE0WRffZp6NG2PO4Gt3/jvjad7DWf+udvIn4Ii7zfOvvmZeey1mtiz9urki6pnAxTPMqvdO/G6f86m7zIttxhjT2bmfNW8+cq0JeTnm03e9ePzXWl8w3x2UfYo/AVPm8GPXmYiXY664d/vx57fsMf/7zNNm+cZXzbGmZ8wteZ7JGTbf7Gz7eK/bET/m3Fmfss+4+h9Tzidvx4/vuhrnp3ahtnIOftE8HF+bNw0DwynEDhxCm2nDH74zBHnzACCJlmMGgVdewcEjQdRWfBP/89w27I+nANOKVgSRSn20zy/hz5Zi0qU1+NHyZxCbEsYzf0jikttLMToCmEMvYNHH+NonpPB2J+/hkBmPvztHH0JafjcXwz8x9/3/5CGr21D8a83duCoK4J3jj2Zd2hd9sk5/7t1F7yBlAuh+UffjFw2yLsLFPbOAWEevnMKhv+xHqwngwp7vPz+nN4Zf1/v4Lzc3/NVzz97rHudazue8gN6FgzDhhhtxcSCFwW+vxdqZK3Dn3F9i4k8m4vweFyLby8Gnvv1r/LSsZ/oDsxfuhr0LP4u5T72Jzz3wInb+SyH23j8Sl3/rTx/9hXOHo3Ryfzyw8Ff42aMhbE72RXnpCOSiDZsXzPzoXzsrC1kwiL97BG0Agqn9ePOtD64mBDp5Dxei+zm8ApD+jS4QQG7XXhj4mcG4pMvxA6SvfXje+1fhOjt3Abo8uwIBL4UDbx1ECj2QlXwDr7+RPMUrf/C1Utj/5n6kcAGy2l7Bs4t+jVcvGInSL3T03LPxuu9zLGeL/ztgAH3+6T/x9U9nY9/js3HPxgTOHz8Jn89vw5+e/il+u+cgXq9fiK/edAvufu5ttDQ1wSCFpnf24c/PPYh5da8iN5DE3obNeCP+UX4Hy8bg0qkYmHoeD/xwI1qLv4ypQ3MAGDSfwdfO6l2MfhHg6Opq3PeL5/DUPXdj8RspAAbGeJ2+h3P5zf7gN7obb7ge14wdki7fKZ7dybnfQcHoq/D3oTb8+eHv4r9X/gZL5t2Jx15NAjAdXNb3cP6EL2PC+Un86aHv4IFfrsGyu2fillnfwIN/bEM4kINg0EPylfX4+a9/j3eGf+ksve4HHMv5o3yuOBtOdRX03WdvN5dmeSZ0xTzzQnPSvLX2XjN5aC9zXk62CV3Q33yuvNZsixvT+vLj5p+v6GkiwajpdeVt5rHNz5pvD84zOeFLTfkT/3Xaz4DHDxEz9w0PGs/LMVd87/3PJ+ZMv3aTaXio1AwqCJncvEIz7lvLTPWUrsbLnWAe2p8yxpz6PWTCyVmd6vvcXsefmTs7d8I0PHSL+XT3sMnteqkZ/fVHzb1fCKXfc0dXQQ/+9n5z87DeJi83x0R6XG6u/eZSs6vJGJNqNGvnDDcX5uaYcI+rzA93tvzNr3tKPsu5sz7xbgjHMSv/490QRD7FAhJZxAISWeRNnDjxQz+crly50sZZiESaOHHiKX+NF2Ecx6z877rrrsOKFSs6/DX+CEpkEQtIZBELSGQRC0hkkfACGhzZUo1bhxWie0EBevYfi4q6GM7SMAOdNXpzkl3A+FrMmVKFplmrsefQQcTqJqChsgwLGs78BkzKIMU5iS5g86bFWJ47FbPLihCGh65DKlA5fg+WLtsO+dG6Q3NOgguYwoGdMRzpW4Ki9F2PIRSV9MLu7TF8jBE2Oqt05yS4gAbxeAJeOIJw+jEPkUgYyURCxecLN+jOSXABPXSJdoFJJHAs/ZhB/GgCWdEoci2ejNrTnZPgAgbQo6QY+bsasCP9c0wcO7btRd+BxQjaPBq1ozsnwQUEgiNKMQlPYv6ilxA3SRzeWIWF6wegbPJlyLJ9OErTnJPoAiI8CvPq5iL/kavRu1sBBszYjFE1tSgvkh6rYxTnxLshHMes/I93QxD5FAtIZBELSGQRJymIMoyTFIIxK//jRRgin2IBiSxiAYksYgGJLBJeQL1TB27Rm5PsAiqeOnCK4pxEF1Dz1IFLNOckuIC6pw7coTsnwQXUPXXgDt05CS6g7qkDd+jOSXABdU8duEN3ToILqHvqwCWacxJdQM1TB05RnBPvhnAcs/I/3g1B5FMsIJFFLCCRRZykIMowTlIIxqz8jxdhiHyKBSSyiAUksogFJLJIfgFNI7bWTMOgvBDGVe9DyvZ5qGNKc5JdQNOIVeVjMKO+ECNLsk//fLJDcU6yC4hsFE6vw4bamRicJ/ytOk1vTrLfrRdF8dBiRD3bB6FOKc5JdgGJfI4FJLKIBSSyiAUkskh2AeNLMCU/hFC4D8rXHEX9Hf0QCUVQWLEOLbbPRicozol3QziOWfkf74Yg8ikWkMgiFpDIIk5SEGUYJykEY1b+x4swRD7FAhJZxAISWcQCElkkv4BKpw6cozQn2QVUPHXgFMU5yS6g4qkDt+jNSfa7VTx14BTFOckuIJHPsYBEFrGARBaxgEQWyS6g4qkDpyjOiXdDOI5Z+R/vhiDyKRaQyCIWkMgiTlIQZRgnKQRjVv7HizBEPsUCElnEAhJZxAISWSS8gAZHtlTj1mGF6F5QgJ79x6KiLoZm28eik+jNSXYB42sxZ0oVmmatxp5DBxGrm4CGyjIsaGizfTJqT3FOogvYvGkxludOxeyyIoThoeuQClSO34Oly7ZDfrTu0JyT4AKmcGBnDEf6lqAovfMTQlFJL+zeHkOrzaNRO7pzElxAg3g8AS8cQTj9mIdIJIxkIqHi84UbdOckuIAeukS7wCQSOJZ+zCB+NIGsaBS5Fk9G7enOSXABA+hRUoz8XQ3Ykf45Jo4d2/ai78BiBG0ejdrRnZPgAgLBEaWYhCcxf9FLiJskDm+swsL1A1A2+TJk2T4cpWnOSXQBER6FeXVzkf/I1ejdrQADZmzGqJpalBdJj9UxinPi3RCOY1b+x7shiHyKBSSyiAUksoiTFEQZxkkKwZiV//EiDJFPsYBEFrGARBaxgEQWCS+g3qkDt+jNSXYBFU8dOEVxTqILqHnqwCWacxJcQN1TB+7QnZPgAuqeOnCH7pwEF1D31IE7dOckuIC6pw7coTsnwQXUPXXgEs05iS6g5qkDpyjOiXdDOI5Z+R/vhiDyKRaQyCIWkMgiTlIQZRgnKQRjVv7HizBEPsUCElnEAhJZxAISWSS8gHqnDtyiNyfZBVQ8deAUxTmJLqDmqQOXaM5JcAF1Tx24Q3dOgguoe+rAHbpzElxA3VMH7tCdk+AC6p46cIfunAQXUPfUgUs05yS6gJqnDpyiOCfeDeE4ZuV/vBuCyKdYQCKLWEAiizhJQZRhnKQQjFn5Hy/CEPkUC0hkEQtIZBELSGSR/AKaRmytmYZBeSGMq96HlO3zUMeU5iS7gKYRq8rHYEZ9IUaWZJ/++WSH4pxkFxDZKJxehw21MzE4T/hbdZrenGS/Wy+K4qHFiHq2D0KdUpyT7AIS+RwLSGQRC0hkEQtIZJHsAsaXYEp+CKFwH5SvOYr6O/ohEoqgsGIdWmyfjU5QnBPvhnAcs/I/3g1B5FMsIJFFLCCRRZykIMowTlIIxqz8jxdhiHyKBSSyiAUksogFJLJIeAENjmypxq3DCtG9oAA9+49FRV1M/N+66h69OckuYHwt5kypQtOs1dhz6CBidRPQUFmGBQ1ttk9G7SnOSXQBmzctxvLcqZhdVoQwPHQdUoHK8XuwdNl2yI/WHZpzElzAFA7sjOFI3xIUpXd+Qigq6YXd22No7exfpXNId06CC2gQjyfghSMIpx/zEImEkUwkVHy+cIPunAQX0EOXaBeYRALH0o8ZxI8mkBWNItfiyag93TkJLmAAPUqKkb+rATvSP8fEsWPbXvQdWIygzaNRO7pzElxAIDiiFJPwJOYveglxk8ThjVVYuH4AyiZfhizbh6M0zTmJLiDCozCvbi7yH7kavbsVYMCMzRhVU4vyIumxOkZxTrwbwnHMyv94NwSRT7GARBaxgEQWcZKCKMM4SSEYs/I/XoQh8ikWkMgiFpDIIhaQyCLhBdQ7deAWvTnJLqDiqQOnKM5JdAE1Tx24RHNOgguoe+rAHbpzElxA3VMH7tCdk+AC6p46cIfunAQXUPfUgTt05yS4gLqnDlyiOSfRBdQ8deAUxTnxbgjHMSv/490QRD7FAhJZxAISWcRJCqIM4ySFYMzK/3gRhsinWEAii1hAIotYQCKLhBdQ79SBW/TmJLuAiqcOnKI4J9EF1Dx14BLNOQkuoO6pA3fozklwAXVPHbhDd06CC6h76sAdunMSXEDdUwfu0J2T4ALqnjpwieacRBdQ89SBUxTnxLshHMes/I93QxD5FAtIZBELSGQRJymIMoyTFIIxK//jRRgin2IBiSxiAYksYgGJLJJfQNOIrTXTMCgvhHHV+5CyfR7qmNKcZBfQNGJV+RjMqC/EyJLs0z+f7FCck+wCIhuF0+uwoXYmBucJf6tO05uT7HfrRVE8tBhRz/ZBqFOKc5JdQCKfYwGJLGIBiSxiAYkskl3A+BJMyQ8hFO6D8jVHUX9HP0RCERRWrEOL7bPRCYpz4t0QjmNW/se7IYh8igUksogFJLKIkxREGcZJCsGYlf/xIgyRT7GARBaxgEQWsYBEFgkvoMGRLdW4dVghuhcUoGf/saioi4n/W1fdozcn2QWMr8WcKVVomrUaew4dRKxuAhoqy7Cgoc32yag9xTmJLmDzpsVYnjsVs8uKEIaHrkMqUDl+D5Yu2w750bpDc06CC5jCgZ0xHOlbgqL0zk8IRSW9sHt7DK2d/at0DunOSXABDeLxBLxwBOH0Yx4ikTCSiYSKzxdu0J2T4AJ66BLtApNI4Fj6MYP40QSyolHkWjwZtac7J8EFDKBHSTHydzVgR/rnmDh2bNuLvgOLEbR5NGpHd06CCwgER5RiEp7E/EUvIW6SOLyxCgvXD0DZ5MuQZftwlKY5J9EFRHgU5tXNRf4jV6N3twIMmLEZo2pqUV4kPVbHKM6Jd0M4jln5H++GIPIpFpDIIhaQyCJOUhBlGCcpBGNW/seLMEQ+xQISWcQCElnEAhJZJL+AphFba6ZhUF4I46r3IWX7PNQxpTnJLqBpxKryMZhRX4iRJdmnfz7ZoTgn2QVENgqn12FD7UwMzhP+Vp2mNyfZ79aLonhoMaKe7YNQpxTnJLuARD7HAhJZxAISWcQCElkku4DxJZiSH0Io3Afla46i/o5+iIQiKKxYhxbbZ6MTFOfEuyEcx6z8j3dDEPkUC0hkEQtIZBEnKYgyjJMUgjEr/+NFGCKfYgGJLGIBiSxiAYksEl5AgyNbqnHrsEJ0LyhAz/5jUVEXE/+3rrpHb06yCxhfizlTqtA0azX2HDqIWN0ENFSWYUFDm+2TUXuKcxJdwOZNi7E8dypmlxUhDA9dh1SgcvweLF22HfKjdYfmnAQXMIUDO2M40rcERemdnxCKSnph9/YYWjv7V+kc0p2T4AIaxOMJeOEIwunHPEQiYSQTCRWfL9ygOyfBBfTQJdoFJpHAsfRjBvGjCWRFo8i1eDJqT3dOggsYQI+SYuTvasCO9M8xcezYthd9BxYjaPNo1I7unAQXEAiOKMUkPIn5i15C3CRxeGMVFq4fgLLJlyHL9uEoTXNOoguI8CjMq5uL/EeuRu9uBRgwYzNG1dSivEh6rI5RnBPvhnAcs/I/3g1B5FMsIJFFLCCRRZykIMowTlIIxqz8jxdhiHyKBSSyiAUksogFJLJIfgFNI7bWTMOgvBDGVe9DyvZ5qGNKc5JdQNOIVeVjMKO+ECNLsk//fLJDcU6yC4hsFE6vw4bamRicJ/ytOk1vTrLfrRdF8dBiRD3bB6FOKc5JdgGJfI4FJLKIBSSyiAUkskh2AeNLMCU/hFC4D8rXHEX9Hf0QCUVQWLEOLbbPRicozol3QziOWfkf74Yg8ikWkMgiFpDIIk5SEGUYJykEY1b+x4swRD7FAhJZxAISWcQCElkkvIAGR7ZU49ZhheheUICe/ceioi4m/m9ddY/enGQXML4Wc6ZUoWnWauw5dBCxugloqCzDgoY22yej9hTnJLqAzZsWY3nuVMwuK0IYHroOqUDl+D1Yumw75EfrDs05CS5gCgd2xnCkbwmK0js/IRSV9MLu7TG0dvav0jmkOyfBBTSIxxPwwhGE0495iETCSCYSKj5fuEF3ToIL6KFLtAtMIoFj6ccM4kcTyIpGkWvxZNSe7pwEFzCAHiXFyN/VgB3pn2Pi2LFtL/oOLEbQ5tGoHd05CS4gEBxRikl4EvMXvYS4SeLwxiosXD8AZZMvQ5btw1Ga5pxEFxDhUZhXNxf5j1yN3t0KMGDGZoyqqUV5kfRYHaM4J94N4Thm5X+8G4LIp1hAIotYQCKLOElBlGGcpBCMWfkfL8IQ+RQLSGQRC0hkEQtIZJHwAuqdOnCL3pxkF1Dx1IFTFOckuoCapw5cojknwQXUPXXgDt05CS6g7qkDd+jOSXABdU8duEN3ToILqHvqwB26cxJcQN1TBy7RnJPoAmqeOnCK4px4N4TjmJX/8W4IIp9iAYksYgGJLOIkBVGGcZJCMGblf7wIQ+RTLCCRRSwgkUUsIJFFwguod+rALXpzkl1AxVMHTlGck+gCap46cInmnAQXUPfUgTt05yS4gLqnDtyhOyfBBdQ9deAO3TkJLqDuqQN36M5JcAF1Tx24RHNOoguoeerAKYpz4t0QjmNW/se7IYh8igUksogFJLKIkxREGcZJCsGYlf/xIgyRT7GARBaxgEQWsYBEFgkvoN6pA7fozUl2ARVPHThFcU6iC6h56sAlmnMSXEDdUwfu0J2T4ALqnjpwh+6cBBdQ99SBO3TnJLiAuqcO3KE7J8EF1D114BLNOYkuoOapA6cozol3QziOWfkf74Yg8ikWkMgiFpDIIk5SEGUYJykEY1b+x4swRD7FAhJZxAISWcQCElkkvIB6pw7cojcn2QVUPHXgFMU5iS6g5qkDl2jOSXABdU8duEN3ToILqHvqwB26cxJcQN1TB+7QnZPgAuqeOnCH7pwEF1D31IFLNOckuoCapw6cojgn3g3hOGblf7wbgsinWEAii1hAIos4SUGUYZykEIxZ+R8vwhD5FAtIZBELSGQRC0hkkfAC6p06cIvenGQXUPHUgVMU5yS6gJqnDlyiOSfBBdQ9deAO3TkJLqDuqQN36M5JcAF1Tx24Q3dOgguoe+rAHbpzElxA3VMHLtGck+gCap46cIrinHg3hOOYlf/xbggin2IBiSxiAYks4iQFUYZxkkIwZuV/vAhD5FMsIJFFLCCRRSwgkUXyC2gasbVmGgblhTCueh9Sts9DHeAkhUymEavKx2BGfSFGlmSf/vlkBycppMpG4fQ6bKidicF5wt+qwzhJIZUXRfHQYkQ92wehU+MkBZFFnKQgsoiTFEQWcZKCyCpOUkgVX4Ip+SGEwn1QvuYo6u/oh0gogsKKdWixfTY6gZMUJz3I/4e9M5iV//FuCCKfYgGJLGIBiSziJAVRhnGSQjBm5X+8CEPkUywgkUUsIJFFLCCRRcILqHfqwC16c5JdQMVTB05RnJPoAmqeOnCJ5pwEF1D31IE7dOckuIC6pw7coTsnwQXUPXXgDt05CS6g7qkDd+jOSXABdU8duERzTqILqHnqwCmKc+LdEI5jVv7HuyGIfIoFJLKIBSSyiJMURBnGSQrBmJX/8SIMkU+xgEQWsYBEFrGARBYJL6DeqQO36M1JdgEVTx04RXFOoguoeerAJZpzElxA3VMH7tCdk+AC6p46cIfunAQXUPfUgTt05yS4gLqnDtyhOyfBBdQ9deASzTmJLqDmqQOnKM6Jd0M4jln5H++GIPIpFpDIIhaQyCJOUhBlGCcpBGNW/seLMEQ+xQISWcQCElnEAhJZJLyAeqcOnGMasbVmGgblhTCueh9Sts9zjsguoOKpA6eYRqwqH4MZ9YUYWZJ9+ucLIrqAmqcO3JKNwul12FA7E4PzRP9X8kMEv1vdUwdO8aIoHlqMqGf7IOee4ALqnjogNwguoO6pA3KD4ALqnjogNwguoO6pA3KD6AJqnjpwSnwJpuSHEAr3Qfmao6i/ox8ioQgKK9ahxfbZMox3QziOWfkf74Yg8ikWkMgiFpDIIk5SEGXYGU9S1NfXY/To0Rk9FJ0dzMr/OsuIP4ISWcQCElnEAhJZxAISWcQCElnEAhJZxAISWcQCElnEAhJZxAISWcQCElnEAhJZxAISWcQCElnEAhJZxAISWcQCElnkrV+/npt2RJb8P440yqzg9gCxAAAAAElFTkSuQmCC)"
      ]
    },
    {
      "cell_type": "markdown",
      "metadata": {
        "id": "JjUfhr1-abqd"
      },
      "source": [
        "As error analysis we should explore cases where our model failed in the prediction"
      ]
    },
    {
      "cell_type": "code",
      "metadata": {
        "colab": {
          "base_uri": "https://localhost:8080/"
        },
        "id": "48uoJOYUFLqC",
        "outputId": "f8b3043e-a9ac-4b0d-e5c8-4ebf3d7fbfeb"
      },
      "source": [
        "X_test.loc[630, [ \n",
        "'Sex',\n",
        "'Title',\n",
        "'Pclass',\n",
        "'Fare',\n",
        "'Age',\n",
        "'relatives',\n",
        "'Deck',\n",
        "'SibSp',\n",
        "'Embarked',\n",
        "'Parch',\n",
        "'not_alone' ]]"
      ],
      "execution_count": 108,
      "outputs": [
        {
          "output_type": "execute_result",
          "data": {
            "text/plain": [
              "Sex           0\n",
              "Title         1\n",
              "Pclass        1\n",
              "Fare          4\n",
              "Age          10\n",
              "relatives     0\n",
              "Deck          1\n",
              "SibSp         0\n",
              "Embarked      0\n",
              "Parch         0\n",
              "not_alone     1\n",
              "Name: 630, dtype: int64"
            ]
          },
          "metadata": {
            "tags": []
          },
          "execution_count": 108
        }
      ]
    },
    {
      "cell_type": "code",
      "metadata": {
        "colab": {
          "base_uri": "https://localhost:8080/"
        },
        "id": "NZ4LyngpFmGT",
        "outputId": "4ef53cc5-65d2-4c42-8ca0-369b46229e4a"
      },
      "source": [
        "print(\"The real value is: \" + str(y_test.loc[630]))\n",
        "print(\"The predicted value is: \" + str(y_pred[22]))"
      ],
      "execution_count": 109,
      "outputs": [
        {
          "output_type": "stream",
          "text": [
            "The real value is: 1\n",
            "The predicted value is: 0\n"
          ],
          "name": "stdout"
        }
      ]
    },
    {
      "cell_type": "markdown",
      "metadata": {
        "id": "Gy2cWd5ja4OP"
      },
      "source": [
        "I think that in this case as the person was a man, the value of title was the lowest one and it was an old man this led our model to predict 0. It may be an outlier, we should take a look on it "
      ]
    },
    {
      "cell_type": "code",
      "metadata": {
        "colab": {
          "base_uri": "https://localhost:8080/"
        },
        "id": "ax95-8XcGquF",
        "outputId": "3d2db877-0d03-4029-aa34-942f63aedb15"
      },
      "source": [
        "X_test.loc[140, [ \n",
        "'Sex',\n",
        "'Title',\n",
        "'Pclass',\n",
        "'Fare',\n",
        "'Age',\n",
        "'relatives',\n",
        "'Deck',\n",
        "'SibSp',\n",
        "'Embarked',\n",
        "'Parch',\n",
        "'not_alone' ]]"
      ],
      "execution_count": 112,
      "outputs": [
        {
          "output_type": "execute_result",
          "data": {
            "text/plain": [
              "Sex          1\n",
              "Title        3\n",
              "Pclass       3\n",
              "Fare         3\n",
              "Age          8\n",
              "relatives    2\n",
              "Deck         8\n",
              "SibSp        0\n",
              "Embarked     1\n",
              "Parch        2\n",
              "not_alone    0\n",
              "Name: 140, dtype: int64"
            ]
          },
          "metadata": {
            "tags": []
          },
          "execution_count": 112
        }
      ]
    },
    {
      "cell_type": "code",
      "metadata": {
        "colab": {
          "base_uri": "https://localhost:8080/"
        },
        "id": "D9WMJLY2GvOr",
        "outputId": "35a9d8b0-b634-4397-d82d-71df17a8f480"
      },
      "source": [
        "print(\"The real value is: \" + str(y_test.loc[140]))\n",
        "print(\"The predicted value is: \" + str(y_pred[25]))"
      ],
      "execution_count": 113,
      "outputs": [
        {
          "output_type": "stream",
          "text": [
            "The real value is: 0\n",
            "The predicted value is: 1\n"
          ],
          "name": "stdout"
        }
      ]
    },
    {
      "cell_type": "markdown",
      "metadata": {
        "id": "ryTjnDRMbV4n"
      },
      "source": [
        "In this case maybe the value of Title and Sex led our model to predict 1. "
      ]
    },
    {
      "cell_type": "markdown",
      "metadata": {
        "id": "YVdSzGgnbazH"
      },
      "source": [
        "We should try another ways of encoding our features and combine, delete or add features and check how our models predict with these changes."
      ]
    }
  ]
}